{
 "cells": [
  {
   "cell_type": "code",
   "execution_count": 1,
   "metadata": {
    "scrolled": false
   },
   "outputs": [],
   "source": [
    "import nltk\n",
    "from nltk.corpus import stopwords\n",
    "from nltk.tokenize import word_tokenize, RegexpTokenizer\n",
    "\n",
    "\n",
    "import numpy as np\n",
    "import pandas as pd\n",
    "import math\n",
    "import random\n",
    "import pickle\n",
    "\n",
    "# to make the experimens replicable\n",
    "random.seed(123456)"
   ]
  },
  {
   "cell_type": "code",
   "execution_count": 2,
   "metadata": {},
   "outputs": [
    {
     "name": "stdout",
     "output_type": "stream",
     "text": [
      "[nltk_data] Downloading package stopwords to /home/fabio/nltk_data...\n",
      "[nltk_data]   Package stopwords is already up-to-date!\n",
      "[nltk_data] Downloading package punkt to /home/fabio/nltk_data...\n",
      "[nltk_data]   Package punkt is already up-to-date!\n",
      "[nltk_data] Downloading package perluniprops to\n",
      "[nltk_data]     /home/fabio/nltk_data...\n",
      "[nltk_data]   Package perluniprops is already up-to-date!\n",
      "[nltk_data] Downloading package nonbreaking_prefixes to\n",
      "[nltk_data]     /home/fabio/nltk_data...\n",
      "[nltk_data]   Package nonbreaking_prefixes is already up-to-date!\n"
     ]
    },
    {
     "data": {
      "text/plain": [
       "True"
      ]
     },
     "execution_count": 2,
     "metadata": {},
     "output_type": "execute_result"
    }
   ],
   "source": [
    "nltk.download('stopwords')\n",
    "nltk.download('punkt')\n",
    "nltk.download('perluniprops')\n",
    "nltk.download('nonbreaking_prefixes')"
   ]
  },
  {
   "cell_type": "code",
   "execution_count": 3,
   "metadata": {},
   "outputs": [],
   "source": [
    "from nltk.tokenize.moses import MosesTokenizer"
   ]
  },
  {
   "cell_type": "code",
   "execution_count": 4,
   "metadata": {},
   "outputs": [],
   "source": [
    "dataset_path = '../data/dataset-dirigenti.pkl'\n",
    "\n",
    "with open(dataset_path, 'rb') as f:\n",
    "    samples, labels = pickle.load(f)"
   ]
  },
  {
   "cell_type": "code",
   "execution_count": 5,
   "metadata": {},
   "outputs": [
    {
     "name": "stdout",
     "output_type": "stream",
     "text": [
      "['DGR', '968', '/', '07', 'e', 's.m.i', '.', 'Accreditamento', 'degli', 'organismi', 'formativi', '.', 'Rilascio', 'dell', '&apos;accreditamento', 'all', '&apos;organismo', 'formativo', 'Bioscience', 'Research', 'Center', '-', 'cod', '.', 'GR1035', '.']\n"
     ]
    }
   ],
   "source": [
    "moses_tokenizer = MosesTokenizer()\n",
    "print(moses_tokenizer.tokenize(samples[0]))"
   ]
  },
  {
   "cell_type": "code",
   "execution_count": 63,
   "metadata": {},
   "outputs": [
    {
     "name": "stdout",
     "output_type": "stream",
     "text": [
      "['DGR', '968', '/07', 'e', 's', '.m.i.', 'Accreditamento', 'degli', 'organismi', 'formativi', '.', 'Rilascio', 'dell', \"'accreditamento\", 'all', \"'organismo\", 'formativo', 'Bioscience', 'Research', 'Center', '-', 'cod', '.', 'GR1035', '.']\n"
     ]
    }
   ],
   "source": [
    "regex_tokenizer = RegexpTokenizer(r'\\w+|\\$[\\d\\.]+|\\S+')\n",
    "regex_tokenize = lambda x: regex_tokenizer.tokenize(x)\n",
    "print(regex_tokenize(samples[0]))"
   ]
  },
  {
   "cell_type": "code",
   "execution_count": 7,
   "metadata": {},
   "outputs": [
    {
     "name": "stdout",
     "output_type": "stream",
     "text": [
      "['DGR', '968/07', 'e', 's.m.i', '.', 'Accreditamento', 'degli', 'organismi', 'formativi', '.', 'Rilascio', \"dell'accreditamento\", \"all'organismo\", 'formativo', 'Bioscience', 'Research', 'Center', '-', 'cod', '.', 'GR1035', '.']\n"
     ]
    }
   ],
   "source": [
    "print(word_tokenize(samples[0]))"
   ]
  },
  {
   "cell_type": "code",
   "execution_count": null,
   "metadata": {},
   "outputs": [],
   "source": []
  },
  {
   "cell_type": "code",
   "execution_count": 139,
   "metadata": {},
   "outputs": [],
   "source": [
    "def tokenize_sample(samples, tokenizer):\n",
    "    punctuation = ['-', '.', ',', '\"', \"'\", ':', ';', '(', ')', '[', ']', '{', '}', '’', '”', '“', '``', \"''\"]\n",
    "    stop_words = set(stopwords.words('italian'))\n",
    "    stop_words.update(punctuation)\n",
    "    for sample in samples:\n",
    "        words = []\n",
    "        for w in tokenizer(sample.replace(\"'\", \" \")):\n",
    "            if w not in stop_words and len(w) >= 3 and w.isalpha():\n",
    "                words.append(w.lower())\n",
    "        yield words"
   ]
  },
  {
   "cell_type": "code",
   "execution_count": 140,
   "metadata": {},
   "outputs": [],
   "source": [
    "words = tokenize_sample(samples, word_tokenize)"
   ]
  },
  {
   "cell_type": "code",
   "execution_count": 153,
   "metadata": {},
   "outputs": [
    {
     "data": {
      "text/plain": [
       "['dgr',\n",
       " 'accreditamento',\n",
       " 'organismi',\n",
       " 'formativi',\n",
       " 'sospensione',\n",
       " 'accreditamento',\n",
       " 'organismo',\n",
       " 'formativo',\n",
       " 'target',\n",
       " 'eight',\n",
       " 'cod']"
      ]
     },
     "execution_count": 153,
     "metadata": {},
     "output_type": "execute_result"
    }
   ],
   "source": [
    "next(words)"
   ]
  },
  {
   "cell_type": "code",
   "execution_count": 138,
   "metadata": {},
   "outputs": [
    {
     "data": {
      "text/plain": [
       "'spesa'"
      ]
     },
     "execution_count": 138,
     "metadata": {},
     "output_type": "execute_result"
    }
   ],
   "source": [
    "'spesa'.lower()"
   ]
  },
  {
   "cell_type": "code",
   "execution_count": null,
   "metadata": {},
   "outputs": [],
   "source": []
  }
 ],
 "metadata": {
  "kernelspec": {
   "display_name": "Python 3",
   "language": "python",
   "name": "python3"
  },
  "language_info": {
   "codemirror_mode": {
    "name": "ipython",
    "version": 3
   },
   "file_extension": ".py",
   "mimetype": "text/x-python",
   "name": "python",
   "nbconvert_exporter": "python",
   "pygments_lexer": "ipython3",
   "version": "3.6.5"
  }
 },
 "nbformat": 4,
 "nbformat_minor": 2
}
