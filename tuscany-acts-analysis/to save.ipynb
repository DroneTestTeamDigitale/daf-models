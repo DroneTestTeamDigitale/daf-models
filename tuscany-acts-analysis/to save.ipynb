{
 "cells": [
  {
   "cell_type": "code",
   "execution_count": null,
   "metadata": {},
   "outputs": [],
   "source": []
  },
  {
   "cell_type": "markdown",
   "metadata": {},
   "source": [
    "\n",
    "## The universal workflow of machine learning\n",
    "\n",
    "### Define the problem and assemble the dataset\n",
    "\n",
    "### Build a Model that does better that a baseline\n",
    "\n",
    "### Scaling Up: developing a model that overfits\n",
    "\n",
    "To figure out how big a model you’ll need, you must develop a model that overfits.\n",
    "This is fairly easy:\n",
    "- Add layers.\n",
    "- Make the layers bigger.\n",
    "- Train for more epochs.\n",
    "- Try different hyperparameters (such as the number of units per layer or the learning rate of the optimizer) to find the optimal configuration.\n",
    "- Optionally, iterate on feature engineering: add new features, or remove features that don’t seem to be informative.\n",
    "\n",
    "### Regularizing your model and tuning your hyperparameters\n",
    "\n",
    "These are some things you should try:\n",
    "- Add dropout.\n",
    "- Try different architectures: add or remove layers.\n",
    "- Add L1 and/or L2 regularization.\n",
    "\n",
    "\n",
    "These are the most common ways to prevent overfitting in neural networks:\n",
    "- Get more training data.\n",
    "- Reduce the capacity of the network.\n",
    "- Add weight regularization.\n",
    "- Add dropout.\n",
    "\n",
    "- network size: show the effect of larger and smaller networks\n",
    "- regularization: show how l1, l2 and dropout contrast overfitting"
   ]
  },
  {
   "cell_type": "code",
   "execution_count": 1,
   "metadata": {},
   "outputs": [],
   "source": [
    "import numpy as np"
   ]
  },
  {
   "cell_type": "code",
   "execution_count": 2,
   "metadata": {},
   "outputs": [],
   "source": [
    "x = 0.45688678"
   ]
  },
  {
   "cell_type": "code",
   "execution_count": 5,
   "metadata": {},
   "outputs": [
    {
     "data": {
      "text/plain": [
       "array([[ 0.],\n",
       "       [ 0.]])"
      ]
     },
     "execution_count": 5,
     "metadata": {},
     "output_type": "execute_result"
    }
   ],
   "source": [
    "np.trunc(np.random.randn(2,1))"
   ]
  },
  {
   "cell_type": "code",
   "execution_count": null,
   "metadata": {},
   "outputs": [],
   "source": []
  }
 ],
 "metadata": {
  "kernelspec": {
   "display_name": "Python 3",
   "language": "python",
   "name": "python3"
  },
  "language_info": {
   "codemirror_mode": {
    "name": "ipython",
    "version": 3
   },
   "file_extension": ".py",
   "mimetype": "text/x-python",
   "name": "python",
   "nbconvert_exporter": "python",
   "pygments_lexer": "ipython3",
   "version": "3.6.5"
  }
 },
 "nbformat": 4,
 "nbformat_minor": 2
}
