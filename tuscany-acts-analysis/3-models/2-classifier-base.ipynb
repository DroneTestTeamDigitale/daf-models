{
 "cells": [
  {
   "cell_type": "code",
   "execution_count": 1,
   "metadata": {},
   "outputs": [
    {
     "name": "stderr",
     "output_type": "stream",
     "text": [
      "Using TensorFlow backend.\n"
     ]
    }
   ],
   "source": [
    "import numpy as np\n",
    "import pandas as pd\n",
    "import pickle\n",
    "\n",
    "from keras import models\n",
    "from keras import layers\n",
    "from keras import optimizers\n",
    "from keras import losses\n",
    "from keras import activations\n",
    "from keras import metrics\n",
    "import math\n",
    "\n",
    "import random\n",
    "\n",
    "# to make the experimens replicable\n",
    "random.seed(123456)"
   ]
  },
  {
   "cell_type": "markdown",
   "metadata": {},
   "source": [
    "## Important\n",
    "\n",
    "as first step run the notebook `1. classification-dataset-creation.ipynb` to create the dataset."
   ]
  },
  {
   "cell_type": "code",
   "execution_count": 2,
   "metadata": {},
   "outputs": [],
   "source": [
    "dataset_path = '../data/dataset-dirigenti-split.pkl'\n",
    "\n",
    "with open(dataset_path, 'rb') as f:\n",
    "    train_samples, train_labels, val_samples, val_labels, test_samples, test_labels = pickle.load(f)"
   ]
  },
  {
   "cell_type": "markdown",
   "metadata": {},
   "source": [
    "### Transform it in a dataset"
   ]
  },
  {
   "cell_type": "code",
   "execution_count": 3,
   "metadata": {},
   "outputs": [
    {
     "data": {
      "text/plain": [
       "array([ 'RESIDUI PERENTI BILANCIO 1997 - IMPEGNO E LIQUIDAZIONE ALL ORDINE PROVINCIALE DEI MEDICI-CHIRURGHI E DEGLI ODONTOIATRI DI FIRENZE PERL ATTUAZIONE DI INIZIATIVE CULTURALI E SCIENTIFICHE DI SUPPORTO AI CORSI DI FORMAZIONE SPECIFICA IN MEDICINA GENERALE.',\n",
       "       'L.R. 72/94 \" Danni causati da animali predatori o da eventi meteorici al patrimonio zootecnico\" - Liquidazione indennizzi beneficiari Euro 34.988,28=.',\n",
       "       'Eventi alluvionali novembre 2000 - Interventi urgenti connessi alla difesa idraulica - Erogazione al Comune di Montemurlo (PO) saldo finanziamento spettante per realizzazione intervento n. 301 compreso nel Piano regionale di cui all`allegato 2 della DGRT n. 104/2003.',\n",
       "       'APPROVAZIONE SCHEMA DI CONVENZIONE TRA LA REGIONE TOSCANA E I SOGGETTI PRIVATI AMMESSI A CONTRIBUTO PER I PROGETTI-INTERVENTO IN MATERIA DI PAESAGGIO',\n",
       "       'Contributo al Comune di Siena per l`organizzazione della Terza giornata del Contemporaneo in programma nel mese di ottobre 2007.'],\n",
       "      dtype='<U961')"
      ]
     },
     "execution_count": 3,
     "metadata": {},
     "output_type": "execute_result"
    }
   ],
   "source": [
    "train_samples[:5]"
   ]
  },
  {
   "cell_type": "code",
   "execution_count": 4,
   "metadata": {},
   "outputs": [
    {
     "data": {
      "text/plain": [
       "array(['01943', '01934',\n",
       "       'DIREZIONE GENERALE POLITICHE TERRITORIALI E AMBIENTALI',\n",
       "       'DIREZIONE GENERALE POLITICHE TERRITORIALI E AMBIENTALI',\n",
       "       'DIREZIONE GENERALE POLITICHE FORMATIVE, BENI E ATTIVIT'],\n",
       "      dtype='<U54')"
      ]
     },
     "execution_count": 4,
     "metadata": {},
     "output_type": "execute_result"
    }
   ],
   "source": [
    "train_labels[:5]"
   ]
  },
  {
   "cell_type": "code",
   "execution_count": 5,
   "metadata": {},
   "outputs": [
    {
     "data": {
      "text/plain": [
       "(138043,)"
      ]
     },
     "execution_count": 5,
     "metadata": {},
     "output_type": "execute_result"
    }
   ],
   "source": [
    "samples = np.concatenate([train_samples,val_samples, test_samples])\n",
    "samples.shape"
   ]
  },
  {
   "cell_type": "code",
   "execution_count": 6,
   "metadata": {},
   "outputs": [
    {
     "data": {
      "text/plain": [
       "(138043,)"
      ]
     },
     "execution_count": 6,
     "metadata": {},
     "output_type": "execute_result"
    }
   ],
   "source": [
    "labels = np.concatenate([train_labels, val_labels, test_labels])\n",
    "labels.shape"
   ]
  },
  {
   "cell_type": "markdown",
   "metadata": {},
   "source": [
    "## Tokenize the Dataset"
   ]
  },
  {
   "cell_type": "code",
   "execution_count": 7,
   "metadata": {},
   "outputs": [],
   "source": [
    "from keras.preprocessing.text import Tokenizer"
   ]
  },
  {
   "cell_type": "code",
   "execution_count": 8,
   "metadata": {},
   "outputs": [],
   "source": [
    "num_words = 10000"
   ]
  },
  {
   "cell_type": "code",
   "execution_count": 9,
   "metadata": {},
   "outputs": [],
   "source": [
    "tokenizer = Tokenizer(num_words=num_words)\n",
    "tokenizer.fit_on_texts(samples)"
   ]
  },
  {
   "cell_type": "code",
   "execution_count": 10,
   "metadata": {},
   "outputs": [],
   "source": [
    "train_sequences = tokenizer.texts_to_sequences(train_samples)\n",
    "val_sequences = tokenizer.texts_to_sequences(val_samples)\n",
    "test_sequences = tokenizer.texts_to_sequences(test_samples)"
   ]
  },
  {
   "cell_type": "code",
   "execution_count": 11,
   "metadata": {},
   "outputs": [
    {
     "name": "stdout",
     "output_type": "stream",
     "text": [
      "[1120, 915, 418, 721, 14, 2, 18, 50, 2055, 530, 21, 1072, 2, 52, 1, 66, 179, 1, 691, 749, 2, 5399, 1, 512, 25, 723, 1, 129, 1100, 10, 558, 321]\n",
      "[7, 6, 956, 88, 740, 2101, 45, 1187, 3733, 132, 45, 277, 4270, 13, 313, 1613, 18, 2539, 965, 221, 708, 7629, 298]\n"
     ]
    }
   ],
   "source": [
    "for s in train_sequences[:2]:\n",
    "    print(s)"
   ]
  },
  {
   "cell_type": "markdown",
   "metadata": {},
   "source": [
    "Convert labels to sequences"
   ]
  },
  {
   "cell_type": "code",
   "execution_count": 12,
   "metadata": {},
   "outputs": [],
   "source": [
    "index_to_labels = dict(enumerate(set(labels)))\n",
    "labels_to_index = {v:k for k,v in index_to_labels.items()}"
   ]
  },
  {
   "cell_type": "code",
   "execution_count": 13,
   "metadata": {},
   "outputs": [
    {
     "data": {
      "text/plain": [
       "array(['01943', '01934',\n",
       "       'DIREZIONE GENERALE POLITICHE TERRITORIALI E AMBIENTALI',\n",
       "       'DIREZIONE GENERALE POLITICHE TERRITORIALI E AMBIENTALI',\n",
       "       'DIREZIONE GENERALE POLITICHE FORMATIVE, BENI E ATTIVIT',\n",
       "       'D.G.  AVVOCATURA                                      ',\n",
       "       'DIREZIONE ORGANIZZAZIONE E SISTEMI INFORMATIVI',\n",
       "       'DIREZIONE ISTRUZIONE E FORMAZIONE',\n",
       "       'DIREZIONE GENERALE BILANCIO E FINANZE                 ',\n",
       "       \"D.G. COMPETITIVITA' DEL SISTEMA REGIONALE E SVILUPPO D\"],\n",
       "      dtype='<U54')"
      ]
     },
     "execution_count": 13,
     "metadata": {},
     "output_type": "execute_result"
    }
   ],
   "source": [
    "labels[:10]"
   ]
  },
  {
   "cell_type": "code",
   "execution_count": 14,
   "metadata": {},
   "outputs": [
    {
     "name": "stdout",
     "output_type": "stream",
     "text": [
      "{'DIREZIONE AGRICOLTURA E SVILUPPO RURALE': 0, '01928': 1, 'DIREZIONE ORGANIZZAZIONE E SISTEMI INFORMATIVI': 2, 'DIREZIONE GENERALE DIRITTO ALLA SALUTE E POLITICHE DI ': 3, '01934': 4, 'DIREZIONE DIRITTI DI CITTADINANZA E COESIONE SOCIALE': 5, '01937': 6, 'DIREZIONE GENERALE BILANCIO E FINANZE                 ': 7, 'DIREZIONE ISTRUZIONE E FORMAZIONE': 8, 'DIREZIONE GENERALE POLITICHE FORMATIVE, BENI E ATTIVIT': 9, \"D.G. COMPETITIVITA' DEL SISTEMA REGIONALE E SVILUPPO D\": 10, 'D.G. PRESIDENZA                                       ': 11, 'DIREZIONE DIFESA DEL SUOLO E PROTEZIONE CIVILE': 12, '01025': 13, '01946': 14, 'D.G.  AVVOCATURA                                      ': 15, 'DIREZIONE GENERALE SVILUPPO ECONOMICO                 ': 16, 'POLITICHE AMBIENTALI, ENERGIA E CAMBIAMENTI CLIMATICI': 17, 'DIREZIONE GENERALE POLITICHE TERRITORIALI E AMBIENTALI': 18, '01943': 19}\n",
      "20\n"
     ]
    }
   ],
   "source": [
    "print(labels_to_index)\n",
    "print(len(labels_to_index))"
   ]
  },
  {
   "cell_type": "code",
   "execution_count": 15,
   "metadata": {},
   "outputs": [],
   "source": [
    "encoded_train_labels = [labels_to_index[l] for l in train_labels]\n",
    "encoded_val_labels = [labels_to_index[l] for l in val_labels]\n",
    "encoded_test_labels = [labels_to_index[l] for l in test_labels]"
   ]
  },
  {
   "cell_type": "code",
   "execution_count": 16,
   "metadata": {},
   "outputs": [
    {
     "data": {
      "text/plain": [
       "[19, 4, 18, 18, 9, 15, 2, 8, 7, 10]"
      ]
     },
     "execution_count": 16,
     "metadata": {},
     "output_type": "execute_result"
    }
   ],
   "source": [
    "encoded_train_labels[:10]"
   ]
  },
  {
   "cell_type": "markdown",
   "metadata": {},
   "source": [
    "### Preparing Data\n",
    "\n",
    "for data and labels"
   ]
  },
  {
   "cell_type": "code",
   "execution_count": 17,
   "metadata": {},
   "outputs": [],
   "source": [
    "from keras.preprocessing import text"
   ]
  },
  {
   "cell_type": "code",
   "execution_count": 18,
   "metadata": {},
   "outputs": [],
   "source": [
    "def vectorize_sequences(sequences, dimension=10000):\n",
    "    results = np.zeros((len(sequences), dimension), dtype=np.float32)\n",
    "    for i, sequence in enumerate(sequences):\n",
    "        results[i, sequence] = 1.\n",
    "    return results"
   ]
  },
  {
   "cell_type": "code",
   "execution_count": 19,
   "metadata": {},
   "outputs": [],
   "source": [
    "x_train = vectorize_sequences(train_sequences, num_words)\n",
    "x_val = vectorize_sequences(val_sequences, num_words)\n",
    "x_test = vectorize_sequences(test_sequences, num_words)"
   ]
  },
  {
   "cell_type": "code",
   "execution_count": 20,
   "metadata": {},
   "outputs": [
    {
     "data": {
      "text/plain": [
       "array([[ 0.,  1.,  1., ...,  0.,  0.,  0.],\n",
       "       [ 0.,  0.,  0., ...,  0.,  0.,  0.],\n",
       "       [ 0.,  1.,  0., ...,  0.,  0.,  0.],\n",
       "       ..., \n",
       "       [ 0.,  1.,  1., ...,  0.,  0.,  0.],\n",
       "       [ 0.,  1.,  1., ...,  0.,  0.,  0.],\n",
       "       [ 0.,  0.,  0., ...,  0.,  0.,  0.]], dtype=float32)"
      ]
     },
     "execution_count": 20,
     "metadata": {},
     "output_type": "execute_result"
    }
   ],
   "source": [
    "x_train[0:]"
   ]
  },
  {
   "cell_type": "code",
   "execution_count": 21,
   "metadata": {},
   "outputs": [
    {
     "data": {
      "text/plain": [
       "(99390, 10000)"
      ]
     },
     "execution_count": 21,
     "metadata": {},
     "output_type": "execute_result"
    }
   ],
   "source": [
    "x_train.shape"
   ]
  },
  {
   "cell_type": "markdown",
   "metadata": {},
   "source": [
    "One hot encoding for the labels"
   ]
  },
  {
   "cell_type": "code",
   "execution_count": 22,
   "metadata": {},
   "outputs": [],
   "source": [
    "def to_one_hot(labels):\n",
    "    results = np.zeros((len(labels), len(set(labels))), dtype=np.float16)\n",
    "    for i, label in enumerate(labels):\n",
    "        results[i, label] = 1.\n",
    "    return results"
   ]
  },
  {
   "cell_type": "code",
   "execution_count": 23,
   "metadata": {},
   "outputs": [],
   "source": [
    "y_train = to_one_hot(encoded_train_labels)\n",
    "y_val = to_one_hot(encoded_val_labels)\n",
    "y_test = to_one_hot(encoded_test_labels)"
   ]
  },
  {
   "cell_type": "code",
   "execution_count": 24,
   "metadata": {},
   "outputs": [
    {
     "data": {
      "text/plain": [
       "array([[ 0.,  0.,  0., ...,  0.,  0.,  1.],\n",
       "       [ 0.,  0.,  0., ...,  0.,  0.,  0.],\n",
       "       [ 0.,  0.,  0., ...,  0.,  1.,  0.],\n",
       "       ..., \n",
       "       [ 0.,  0.,  0., ...,  0.,  1.,  0.],\n",
       "       [ 0.,  0.,  0., ...,  0.,  0.,  0.],\n",
       "       [ 0.,  0.,  0., ...,  0.,  0.,  0.]], dtype=float16)"
      ]
     },
     "execution_count": 24,
     "metadata": {},
     "output_type": "execute_result"
    }
   ],
   "source": [
    "y_train"
   ]
  },
  {
   "cell_type": "markdown",
   "metadata": {},
   "source": [
    "## Build the Models"
   ]
  },
  {
   "cell_type": "code",
   "execution_count": 25,
   "metadata": {},
   "outputs": [],
   "source": [
    "def build_model(neurons):\n",
    "    model = models.Sequential()\n",
    "    model.add(layers.Dense(neurons, activation='relu', input_shape=(x_train.shape[-1], )))\n",
    "    model.add(layers.Dense(neurons, activation='relu'))\n",
    "    model.add(layers.Dense(neurons, activation='relu'))\n",
    "    model.add(layers.Dense(len(labels_to_index), activation='softmax'))\n",
    "    \n",
    "    model.compile(optimizer=optimizers.Adam(), \n",
    "              loss='categorical_crossentropy',\n",
    "              metrics=['accuracy'])\n",
    "    return model"
   ]
  },
  {
   "cell_type": "code",
   "execution_count": 26,
   "metadata": {},
   "outputs": [
    {
     "name": "stdout",
     "output_type": "stream",
     "text": [
      "Train on 99390 samples, validate on 11044 samples\n",
      "Epoch 1/10\n",
      "99390/99390 [==============================] - 4s 36us/step - loss: 1.5784 - acc: 0.5326 - val_loss: 0.8274 - val_acc: 0.7377\n",
      "Epoch 2/10\n",
      "99390/99390 [==============================] - 2s 21us/step - loss: 0.6835 - acc: 0.7777 - val_loss: 0.6513 - val_acc: 0.7824\n",
      "Epoch 3/10\n",
      "99390/99390 [==============================] - 2s 22us/step - loss: 0.5318 - acc: 0.8240 - val_loss: 0.5965 - val_acc: 0.8035\n",
      "Epoch 4/10\n",
      "99390/99390 [==============================] - 2s 22us/step - loss: 0.4511 - acc: 0.8477 - val_loss: 0.5851 - val_acc: 0.8077\n",
      "Epoch 5/10\n",
      "99390/99390 [==============================] - 2s 23us/step - loss: 0.3989 - acc: 0.8646 - val_loss: 0.5777 - val_acc: 0.8137\n",
      "Epoch 6/10\n",
      "99390/99390 [==============================] - 2s 22us/step - loss: 0.3585 - acc: 0.8786 - val_loss: 0.5848 - val_acc: 0.8158\n",
      "Epoch 7/10\n",
      "99390/99390 [==============================] - 2s 22us/step - loss: 0.3274 - acc: 0.8884 - val_loss: 0.5943 - val_acc: 0.8173\n",
      "Epoch 8/10\n",
      "99390/99390 [==============================] - 2s 23us/step - loss: 0.3011 - acc: 0.8976 - val_loss: 0.6122 - val_acc: 0.8124\n",
      "Epoch 9/10\n",
      "99390/99390 [==============================] - 2s 21us/step - loss: 0.2795 - acc: 0.9039 - val_loss: 0.6228 - val_acc: 0.8166\n",
      "Epoch 10/10\n",
      "99390/99390 [==============================] - 2s 21us/step - loss: 0.2601 - acc: 0.9110 - val_loss: 0.6577 - val_acc: 0.8121\n"
     ]
    }
   ],
   "source": [
    "model_small = build_model(16)\n",
    "history_small = model_small.fit(x=x_train, y=y_train, validation_data=(x_val, y_val),\n",
    "                   epochs=10, batch_size=256)\n",
    "\n"
   ]
  },
  {
   "cell_type": "code",
   "execution_count": 27,
   "metadata": {},
   "outputs": [
    {
     "name": "stdout",
     "output_type": "stream",
     "text": [
      "Train on 99390 samples, validate on 11044 samples\n",
      "Epoch 1/10\n",
      "99390/99390 [==============================] - 3s 28us/step - loss: 1.0509 - acc: 0.6732 - val_loss: 0.5707 - val_acc: 0.8076\n",
      "Epoch 2/10\n",
      "99390/99390 [==============================] - 3s 26us/step - loss: 0.4548 - acc: 0.8461 - val_loss: 0.5035 - val_acc: 0.8262\n",
      "Epoch 3/10\n",
      "99390/99390 [==============================] - 3s 25us/step - loss: 0.3443 - acc: 0.8802 - val_loss: 0.5053 - val_acc: 0.8323\n",
      "Epoch 4/10\n",
      "99390/99390 [==============================] - 2s 25us/step - loss: 0.2792 - acc: 0.9013 - val_loss: 0.5294 - val_acc: 0.8291\n",
      "Epoch 5/10\n",
      "99390/99390 [==============================] - 2s 25us/step - loss: 0.2343 - acc: 0.9172 - val_loss: 0.5380 - val_acc: 0.8348\n",
      "Epoch 6/10\n",
      "99390/99390 [==============================] - 3s 25us/step - loss: 0.1973 - acc: 0.9312 - val_loss: 0.5756 - val_acc: 0.8313\n",
      "Epoch 7/10\n",
      "99390/99390 [==============================] - 2s 25us/step - loss: 0.1691 - acc: 0.9421 - val_loss: 0.6198 - val_acc: 0.8287\n",
      "Epoch 8/10\n",
      "99390/99390 [==============================] - 2s 25us/step - loss: 0.1476 - acc: 0.9483 - val_loss: 0.6488 - val_acc: 0.8328\n",
      "Epoch 9/10\n",
      "99390/99390 [==============================] - 3s 26us/step - loss: 0.1283 - acc: 0.9560 - val_loss: 0.6667 - val_acc: 0.8368\n",
      "Epoch 10/10\n",
      "99390/99390 [==============================] - 3s 26us/step - loss: 0.1117 - acc: 0.9619 - val_loss: 0.7261 - val_acc: 0.8287\n"
     ]
    }
   ],
   "source": [
    "model_medium = build_model(64)\n",
    "history_medium = model_medium.fit(x=x_train, y=y_train, validation_data=(x_val, y_val),\n",
    "                   epochs=10, batch_size=256)"
   ]
  },
  {
   "cell_type": "code",
   "execution_count": 28,
   "metadata": {},
   "outputs": [
    {
     "name": "stdout",
     "output_type": "stream",
     "text": [
      "Train on 99390 samples, validate on 11044 samples\n",
      "Epoch 1/10\n",
      "99390/99390 [==============================] - 5s 48us/step - loss: 0.8307 - acc: 0.7313 - val_loss: 0.5110 - val_acc: 0.8218\n",
      "Epoch 2/10\n",
      "99390/99390 [==============================] - 5s 47us/step - loss: 0.3568 - acc: 0.8738 - val_loss: 0.4717 - val_acc: 0.8378\n",
      "Epoch 3/10\n",
      "99390/99390 [==============================] - 4s 43us/step - loss: 0.2268 - acc: 0.9193 - val_loss: 0.4888 - val_acc: 0.8447\n",
      "Epoch 4/10\n",
      "99390/99390 [==============================] - 4s 42us/step - loss: 0.1522 - acc: 0.9463 - val_loss: 0.5062 - val_acc: 0.8489\n",
      "Epoch 5/10\n",
      "99390/99390 [==============================] - 4s 42us/step - loss: 0.1083 - acc: 0.9626 - val_loss: 0.5751 - val_acc: 0.8461\n",
      "Epoch 6/10\n",
      "99390/99390 [==============================] - 4s 43us/step - loss: 0.0878 - acc: 0.9704 - val_loss: 0.5833 - val_acc: 0.8496\n",
      "Epoch 7/10\n",
      "99390/99390 [==============================] - 4s 43us/step - loss: 0.0687 - acc: 0.9772 - val_loss: 0.6463 - val_acc: 0.8458\n",
      "Epoch 8/10\n",
      "99390/99390 [==============================] - 4s 43us/step - loss: 0.0590 - acc: 0.9803 - val_loss: 0.6577 - val_acc: 0.8513\n",
      "Epoch 9/10\n",
      "99390/99390 [==============================] - 4s 43us/step - loss: 0.0537 - acc: 0.9821 - val_loss: 0.7098 - val_acc: 0.8523\n",
      "Epoch 10/10\n",
      "99390/99390 [==============================] - 4s 43us/step - loss: 0.0486 - acc: 0.9840 - val_loss: 0.7274 - val_acc: 0.8496\n"
     ]
    }
   ],
   "source": [
    "model_large = build_model(256)\n",
    "history_large = model_large.fit(x=x_train, y=y_train, validation_data=(x_val, y_val),\n",
    "                   epochs=10, batch_size=256)"
   ]
  },
  {
   "cell_type": "markdown",
   "metadata": {},
   "source": [
    "### Printing The Loss"
   ]
  },
  {
   "cell_type": "code",
   "execution_count": 29,
   "metadata": {},
   "outputs": [],
   "source": [
    "import matplotlib.pyplot as plt\n",
    "\n",
    "%matplotlib inline"
   ]
  },
  {
   "cell_type": "code",
   "execution_count": 30,
   "metadata": {},
   "outputs": [],
   "source": [
    "def chart_loss(history):\n",
    "    loss = history.history['loss']\n",
    "    val_loss = history.history['val_loss']\n",
    "\n",
    "    epochs = range(1, len(loss) + 1)\n",
    "\n",
    "    plt.plot(epochs, loss, 'b+', label='Training Loss')\n",
    "    plt.plot(epochs, val_loss, 'b', label='Validation Loss')\n",
    "    plt.title('Training and validation loss')\n",
    "    plt.xlabel('Epochs')\n",
    "    plt.ylabel('Loss')\n",
    "    plt.xticks(epochs)\n",
    "    plt.yticks(np.arange(0,2.25,0.25))\n",
    "    plt.legend()\n",
    "    plt.show()"
   ]
  },
  {
   "cell_type": "code",
   "execution_count": 31,
   "metadata": {},
   "outputs": [
    {
     "data": {
      "image/png": "[encoded data removed]",
      "text/plain": [
       "<Figure size 432x288 with 1 Axes>"
      ]
     },
     "metadata": {},
     "output_type": "display_data"
    },
    {
     "data": {
      "image/png": "[encoded data removed]",
      "text/plain": [
       "<Figure size 432x288 with 1 Axes>"
      ]
     },
     "metadata": {},
     "output_type": "display_data"
    },
    {
     "data": {
      "image/png": "[encoded data removed]",
      "text/plain": [
       "<Figure size 432x288 with 1 Axes>"
      ]
     },
     "metadata": {},
     "output_type": "display_data"
    }
   ],
   "source": [
    "chart_loss(history_small)\n",
    "chart_loss(history_medium)\n",
    "chart_loss(history_large)"
   ]
  },
  {
   "cell_type": "code",
   "execution_count": 32,
   "metadata": {},
   "outputs": [],
   "source": [
    "def chart_acc(history):\n",
    "    acc = history.history['acc']\n",
    "    val_acc = history.history['val_acc']\n",
    "\n",
    "    epochs = range(1, len(acc) + 1)\n",
    "    plt.plot(epochs, acc, 'b+', label='Training Acc')\n",
    "    plt.plot(epochs, val_acc, 'b', label='Validation Acc')\n",
    "    plt.title('Training and validation loss')\n",
    "    plt.xlabel('Epochs')\n",
    "    plt.ylabel('Accuray')\n",
    "    plt.xticks(epochs)\n",
    "    plt.yticks(np.arange(0,1.1,0.1))\n",
    "    plt.legend()\n",
    "    plt.show()"
   ]
  },
  {
   "cell_type": "code",
   "execution_count": 33,
   "metadata": {},
   "outputs": [
    {
     "data": {
      "image/png": "[encoded data removed]",
      "text/plain": [
       "<Figure size 432x288 with 1 Axes>"
      ]
     },
     "metadata": {},
     "output_type": "display_data"
    },
    {
     "data": {
      "image/png": "[encoded data removed]",
      "text/plain": [
       "<Figure size 432x288 with 1 Axes>"
      ]
     },
     "metadata": {},
     "output_type": "display_data"
    },
    {
     "data": {
      "image/png": "[encoded data removed]",
      "text/plain": [
       "<Figure size 432x288 with 1 Axes>"
      ]
     },
     "metadata": {},
     "output_type": "display_data"
    }
   ],
   "source": [
    "chart_acc(history_small)\n",
    "chart_acc(history_medium)\n",
    "chart_acc(history_large)"
   ]
  },
  {
   "cell_type": "code",
   "execution_count": 34,
   "metadata": {},
   "outputs": [],
   "source": [
    "def compare_loss(histories):\n",
    "    epochs = range(1, len(list(histories.values())[0].history['val_loss']) + 1)\n",
    "\n",
    "    for i, history in histories.items():\n",
    "        val_loss = history.history['val_loss']\n",
    "        plt.plot(epochs, val_loss, label='Validation Loss {}'.format(i))\n",
    "            \n",
    "    plt.xlabel('Epochs')\n",
    "    plt.ylabel('Loss')\n",
    "    plt.legend()\n",
    "    plt.show()"
   ]
  },
  {
   "cell_type": "code",
   "execution_count": 35,
   "metadata": {},
   "outputs": [
    {
     "data": {
      "image/png": "[encoded data removed]",
      "text/plain": [
       "<Figure size 432x288 with 1 Axes>"
      ]
     },
     "metadata": {},
     "output_type": "display_data"
    }
   ],
   "source": [
    "compare_loss({'Small 16': history_small, 'Medium 64': history_medium, 'Large 256': history_large})"
   ]
  },
  {
   "cell_type": "code",
   "execution_count": 36,
   "metadata": {},
   "outputs": [],
   "source": [
    "def compare_accuracy(histories):\n",
    "    epochs = range(1, len(list(histories.values())[0].history['val_acc']) + 1)\n",
    "\n",
    "    for i, history in histories.items():\n",
    "        val_loss = history.history['val_acc']\n",
    "        plt.plot(epochs, val_loss, label='Validation Accuracy {}'.format(i))\n",
    "            \n",
    "    plt.xlabel('Epochs')\n",
    "    plt.ylabel('Accuracy')\n",
    "    plt.legend()\n",
    "    plt.show()"
   ]
  },
  {
   "cell_type": "code",
   "execution_count": 37,
   "metadata": {},
   "outputs": [
    {
     "data": {
      "image/png": "[encoded data removed]",
      "text/plain": [
       "<Figure size 432x288 with 1 Axes>"
      ]
     },
     "metadata": {},
     "output_type": "display_data"
    }
   ],
   "source": [
    "compare_accuracy({'Small 16': history_small, 'Medium 64': history_medium, 'Large 256': history_large})"
   ]
  },
  {
   "cell_type": "code",
   "execution_count": null,
   "metadata": {},
   "outputs": [],
   "source": [
    "def min_loss(history):\n",
    "    val_loss = history.history['val_loss'] \n",
    "    return np.argmin(val_loss) + 1   \n",
    "\n",
    "def accuracy(history, epoch):\n",
    "    val_acc = history.history['val_acc']\n",
    "    return val_acc[epoch-1]"
   ]
  },
  {
   "cell_type": "code",
   "execution_count": null,
   "metadata": {},
   "outputs": [],
   "source": [
    "print('min loss for model small is {}'.format(min_loss(history_small)))\n",
    "print('min loss for model medium is {}'.format(min_loss(history_medium)))\n",
    "print('min loss for model large is {}'.format(min_loss(history_large)))"
   ]
  },
  {
   "cell_type": "code",
   "execution_count": null,
   "metadata": {},
   "outputs": [],
   "source": [
    "print('best validation accuracy for model small is {}'.format(\n",
    "    accuracy(history_small, min_loss(history_small))))\n",
    "print('best validation accuracy for model medium is {}'.format(\n",
    "    accuracy(history_medium, min_loss(history_medium))))\n",
    "print('best validation accuracy for model large is {}'.format(\n",
    "    accuracy(history_medium, min_loss(history_medium))))"
   ]
  },
  {
   "cell_type": "markdown",
   "metadata": {},
   "source": [
    "### Evaluate on the Test Set\n",
    "\n",
    "- train the best model for the best epochs"
   ]
  },
  {
   "cell_type": "code",
   "execution_count": 54,
   "metadata": {},
   "outputs": [],
   "source": [
    "import gc"
   ]
  },
  {
   "cell_type": "code",
   "execution_count": 55,
   "metadata": {},
   "outputs": [
    {
     "data": {
      "text/plain": [
       "785"
      ]
     },
     "execution_count": 55,
     "metadata": {},
     "output_type": "execute_result"
    }
   ],
   "source": [
    "gc.collect()"
   ]
  },
  {
   "cell_type": "code",
   "execution_count": 56,
   "metadata": {},
   "outputs": [],
   "source": [
    "model = build_model(256)"
   ]
  },
  {
   "cell_type": "code",
   "execution_count": 57,
   "metadata": {},
   "outputs": [
    {
     "name": "stdout",
     "output_type": "stream",
     "text": [
      "Epoch 1/2\n",
      "110434/110434 [==============================] - 5s 46us/step - loss: 0.7956 - acc: 0.7421\n",
      "Epoch 2/2\n",
      "110434/110434 [==============================] - 5s 42us/step - loss: 0.3481 - acc: 0.8767\n"
     ]
    }
   ],
   "source": [
    "history = model.fit(x=np.concatenate([x_train, x_val]), y=np.concatenate([y_train, y_val]), epochs=2, batch_size=256)"
   ]
  },
  {
   "cell_type": "code",
   "execution_count": 58,
   "metadata": {},
   "outputs": [
    {
     "name": "stdout",
     "output_type": "stream",
     "text": [
      "27609/27609 [==============================] - 1s 46us/step\n"
     ]
    }
   ],
   "source": [
    "loss, acc = model.evaluate(x_test, y_test)"
   ]
  },
  {
   "cell_type": "code",
   "execution_count": 59,
   "metadata": {},
   "outputs": [
    {
     "name": "stdout",
     "output_type": "stream",
     "text": [
      "loss 0.4618098787730501\n",
      "acc 0.8412111992725291\n"
     ]
    }
   ],
   "source": [
    "print('loss {}'.format(loss))\n",
    "print('acc {}'.format(acc))"
   ]
  }
 ],
 "metadata": {
  "kernelspec": {
   "display_name": "Python 3",
   "language": "python",
   "name": "python3"
  },
  "language_info": {
   "codemirror_mode": {
    "name": "ipython",
    "version": 3
   },
   "file_extension": ".py",
   "mimetype": "text/x-python",
   "name": "python",
   "nbconvert_exporter": "python",
   "pygments_lexer": "ipython3",
   "version": "3.6.5"
  }
 },
 "nbformat": 4,
 "nbformat_minor": 2
}
