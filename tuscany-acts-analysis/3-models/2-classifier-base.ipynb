{
 "cells": [
  {
   "cell_type": "code",
   "execution_count": 1,
   "metadata": {},
   "outputs": [
    {
     "name": "stderr",
     "output_type": "stream",
     "text": [
      "Using TensorFlow backend.\n"
     ]
    }
   ],
   "source": [
    "import numpy as np\n",
    "import pandas as pd\n",
    "import pickle\n",
    "\n",
    "from keras import models\n",
    "from keras import layers\n",
    "from keras import optimizers\n",
    "from keras import losses\n",
    "from keras import activations\n",
    "from keras import metrics\n",
    "import math\n",
    "\n",
    "import random\n",
    "\n",
    "# to make the experimens replicable\n",
    "random.seed(123456)\n"
   ]
  },
  {
   "cell_type": "markdown",
   "metadata": {},
   "source": [
    "## Important\n",
    "\n",
    "as first step run the notebook `1. classification-dataset-creation.ipynb` to create the dataset."
   ]
  },
  {
   "cell_type": "code",
   "execution_count": 2,
   "metadata": {},
   "outputs": [],
   "source": [
    "dataset_path = '../data/dataset-dirigenti-split.pkl'\n",
    "\n",
    "with open(dataset_path, 'rb') as f:\n",
    "    train_samples, train_labels, val_samples, val_labels, test_samples, test_labels = pickle.load(f)"
   ]
  },
  {
   "cell_type": "markdown",
   "metadata": {},
   "source": [
    "### Transform it in a dataset"
   ]
  },
  {
   "cell_type": "code",
   "execution_count": 3,
   "metadata": {},
   "outputs": [
    {
     "data": {
      "text/plain": [
       "array([ list([148, 2192, 4, 37, 10, 4547, 7, 674, 5614, 7, 385, 4, 1941, 263, 8, 10407, 165, 358, 100, 1904, 4, 213, 14, 418, 816, 8, 5538, 1746, 6, 17429, 4, 12108, 3]),\n",
       "       list([34, 29, 39, 212, 3, 249, 285, 1530, 2247, 9, 10, 1774, 253, 27, 811, 1489, 455, 13, 1591, 2713, 29160, 13983, 16, 9, 8, 35, 866, 90743, 3]),\n",
       "       list([22, 3, 503, 28, 85, 30, 1140, 13, 590, 4, 1036, 948, 6927, 108, 3, 16, 4, 185, 3]),\n",
       "       list([22, 3, 2758, 5, 6338, 882, 4003, 15, 78, 4616, 6, 104, 4543, 12]),\n",
       "       list([163, 3, 65333, 5, 107, 14, 648, 34, 27, 90, 4, 6619, 36711, 38, 12214, 5, 17892, 20522, 17, 4421, 5, 36712, 52, 294, 19, 569, 393, 201, 17, 588, 7, 251, 2745, 3129, 3])], dtype=object)"
      ]
     },
     "execution_count": 3,
     "metadata": {},
     "output_type": "execute_result"
    }
   ],
   "source": [
    "train_samples[:5]"
   ]
  },
  {
   "cell_type": "code",
   "execution_count": 4,
   "metadata": {},
   "outputs": [
    {
     "data": {
      "text/plain": [
       "array([ 8, 16,  6, 20, 12])"
      ]
     },
     "execution_count": 4,
     "metadata": {},
     "output_type": "execute_result"
    }
   ],
   "source": [
    "train_labels[:5]"
   ]
  },
  {
   "cell_type": "code",
   "execution_count": 5,
   "metadata": {},
   "outputs": [
    {
     "data": {
      "text/plain": [
       "(138043,)"
      ]
     },
     "execution_count": 5,
     "metadata": {},
     "output_type": "execute_result"
    }
   ],
   "source": [
    "samples = np.concatenate([train_samples,val_samples, test_samples])\n",
    "samples.shape"
   ]
  },
  {
   "cell_type": "code",
   "execution_count": 6,
   "metadata": {},
   "outputs": [
    {
     "data": {
      "text/plain": [
       "(138043,)"
      ]
     },
     "execution_count": 6,
     "metadata": {},
     "output_type": "execute_result"
    }
   ],
   "source": [
    "labels = np.concatenate([train_labels, val_labels, test_labels])\n",
    "labels.shape"
   ]
  },
  {
   "cell_type": "markdown",
   "metadata": {},
   "source": [
    "## Tokenize the Dataset"
   ]
  },
  {
   "cell_type": "code",
   "execution_count": 7,
   "metadata": {},
   "outputs": [],
   "source": [
    "from keras.preprocessing.text import Tokenizer"
   ]
  },
  {
   "cell_type": "code",
   "execution_count": 8,
   "metadata": {},
   "outputs": [],
   "source": [
    "num_words = 10000"
   ]
  },
  {
   "cell_type": "code",
   "execution_count": 9,
   "metadata": {},
   "outputs": [],
   "source": [
    "tokenizer = Tokenizer(num_words=num_words)\n",
    "tokenizer.fit_on_texts(samples)"
   ]
  },
  {
   "cell_type": "code",
   "execution_count": 10,
   "metadata": {},
   "outputs": [],
   "source": [
    "train_sequences = tokenizer.texts_to_sequences(train_samples)\n",
    "val_sequences = tokenizer.texts_to_sequences(val_samples)\n",
    "test_sequences = tokenizer.texts_to_sequences(test_samples)"
   ]
  },
  {
   "cell_type": "code",
   "execution_count": 11,
   "metadata": {},
   "outputs": [
    {
     "name": "stdout",
     "output_type": "stream",
     "text": [
      "[148, 2168, 2, 36, 8, 4375, 5, 668, 5370, 5, 380, 2, 1929, 259, 6, 9651, 164, 356, 100, 1944, 2, 210, 12, 433, 827, 6, 4984, 1770, 4, 2, 1]\n",
      "[32, 27, 38, 212, 1, 244, 287, 1559, 2258, 7, 8, 1771, 256, 25, 790, 1524, 457, 11, 1525, 2719, 14, 7, 6, 33, 885, 1]\n"
     ]
    }
   ],
   "source": [
    "for s in train_sequences[:2]:\n",
    "    print(s)"
   ]
  },
  {
   "cell_type": "markdown",
   "metadata": {},
   "source": [
    "Convert labels to sequences"
   ]
  },
  {
   "cell_type": "code",
   "execution_count": 12,
   "metadata": {},
   "outputs": [],
   "source": [
    "index_to_labels = dict(enumerate(set(labels)))\n",
    "labels_to_index = {v:k for k,v in index_to_labels.items()}"
   ]
  },
  {
   "cell_type": "code",
   "execution_count": 13,
   "metadata": {},
   "outputs": [
    {
     "data": {
      "text/plain": [
       "array([ 8, 16,  6, 20, 12,  7,  3, 11,  9,  1])"
      ]
     },
     "execution_count": 13,
     "metadata": {},
     "output_type": "execute_result"
    }
   ],
   "source": [
    "labels[:10]"
   ]
  },
  {
   "cell_type": "code",
   "execution_count": 14,
   "metadata": {},
   "outputs": [
    {
     "name": "stdout",
     "output_type": "stream",
     "text": [
      "{1: 0, 2: 1, 3: 2, 4: 3, 5: 4, 6: 5, 7: 6, 8: 7, 9: 8, 10: 9, 11: 10, 12: 11, 13: 12, 14: 13, 15: 14, 16: 15, 17: 16, 18: 17, 19: 18, 20: 19}\n",
      "20\n"
     ]
    }
   ],
   "source": [
    "print(labels_to_index)\n",
    "print(len(labels_to_index))"
   ]
  },
  {
   "cell_type": "code",
   "execution_count": 15,
   "metadata": {},
   "outputs": [],
   "source": [
    "encoded_train_labels = [labels_to_index[l] for l in train_labels]\n",
    "encoded_val_labels = [labels_to_index[l] for l in val_labels]\n",
    "encoded_test_labels = [labels_to_index[l] for l in test_labels]"
   ]
  },
  {
   "cell_type": "code",
   "execution_count": 16,
   "metadata": {},
   "outputs": [
    {
     "data": {
      "text/plain": [
       "[7, 15, 5, 19, 11, 6, 2, 10, 8, 0]"
      ]
     },
     "execution_count": 16,
     "metadata": {},
     "output_type": "execute_result"
    }
   ],
   "source": [
    "encoded_train_labels[:10]"
   ]
  },
  {
   "cell_type": "markdown",
   "metadata": {},
   "source": [
    "### Preparing Data\n",
    "\n",
    "for data and labels"
   ]
  },
  {
   "cell_type": "code",
   "execution_count": 17,
   "metadata": {},
   "outputs": [],
   "source": [
    "from keras.preprocessing import text"
   ]
  },
  {
   "cell_type": "code",
   "execution_count": 18,
   "metadata": {},
   "outputs": [],
   "source": [
    "def vectorize_sequences(sequences, dimension=10000):\n",
    "    results = np.zeros((len(sequences), dimension), dtype=np.float32)\n",
    "    for i, sequence in enumerate(sequences):\n",
    "        results[i, sequence] = 1.\n",
    "    return results"
   ]
  },
  {
   "cell_type": "code",
   "execution_count": 19,
   "metadata": {},
   "outputs": [],
   "source": [
    "x_train = vectorize_sequences(train_sequences, num_words)\n",
    "x_val = vectorize_sequences(val_sequences, num_words)\n",
    "x_test = vectorize_sequences(test_sequences, num_words)"
   ]
  },
  {
   "cell_type": "code",
   "execution_count": 20,
   "metadata": {},
   "outputs": [
    {
     "data": {
      "text/plain": [
       "array([[ 0.,  1.,  1., ...,  0.,  0.,  0.],\n",
       "       [ 0.,  1.,  0., ...,  0.,  0.,  0.],\n",
       "       [ 0.,  1.,  1., ...,  0.,  0.,  0.],\n",
       "       ..., \n",
       "       [ 0.,  1.,  0., ...,  0.,  0.,  0.],\n",
       "       [ 0.,  1.,  1., ...,  0.,  0.,  0.],\n",
       "       [ 0.,  1.,  0., ...,  0.,  0.,  0.]], dtype=float32)"
      ]
     },
     "execution_count": 20,
     "metadata": {},
     "output_type": "execute_result"
    }
   ],
   "source": [
    "x_train[0:]"
   ]
  },
  {
   "cell_type": "code",
   "execution_count": 21,
   "metadata": {},
   "outputs": [
    {
     "data": {
      "text/plain": [
       "(99390, 10000)"
      ]
     },
     "execution_count": 21,
     "metadata": {},
     "output_type": "execute_result"
    }
   ],
   "source": [
    "x_train.shape"
   ]
  },
  {
   "cell_type": "markdown",
   "metadata": {},
   "source": [
    "One hot encoding for the labels"
   ]
  },
  {
   "cell_type": "code",
   "execution_count": 22,
   "metadata": {},
   "outputs": [],
   "source": [
    "def to_one_hot(labels):\n",
    "    results = np.zeros((len(labels), len(set(labels))), dtype=np.float16)\n",
    "    for i, label in enumerate(labels):\n",
    "        results[i, label] = 1.\n",
    "    return results"
   ]
  },
  {
   "cell_type": "code",
   "execution_count": 23,
   "metadata": {},
   "outputs": [],
   "source": [
    "y_train = to_one_hot(encoded_train_labels)\n",
    "y_val = to_one_hot(encoded_val_labels)\n",
    "y_test = to_one_hot(encoded_test_labels)"
   ]
  },
  {
   "cell_type": "code",
   "execution_count": 24,
   "metadata": {},
   "outputs": [
    {
     "data": {
      "text/plain": [
       "array([[ 0.,  0.,  0., ...,  0.,  0.,  0.],\n",
       "       [ 0.,  0.,  0., ...,  0.,  0.,  0.],\n",
       "       [ 0.,  0.,  0., ...,  0.,  0.,  0.],\n",
       "       ..., \n",
       "       [ 0.,  0.,  0., ...,  0.,  0.,  0.],\n",
       "       [ 0.,  0.,  1., ...,  0.,  0.,  0.],\n",
       "       [ 0.,  0.,  0., ...,  0.,  0.,  0.]], dtype=float16)"
      ]
     },
     "execution_count": 24,
     "metadata": {},
     "output_type": "execute_result"
    }
   ],
   "source": [
    "y_train"
   ]
  },
  {
   "cell_type": "markdown",
   "metadata": {},
   "source": [
    "## Build the Models"
   ]
  },
  {
   "cell_type": "code",
   "execution_count": 25,
   "metadata": {},
   "outputs": [],
   "source": [
    "def build_model(neurons):\n",
    "    model = models.Sequential()\n",
    "    model.add(layers.Dense(neurons, activation='relu', input_shape=(x_train.shape[-1], )))\n",
    "    model.add(layers.Dense(neurons, activation='relu'))\n",
    "    model.add(layers.Dense(neurons, activation='relu'))\n",
    "    model.add(layers.Dense(len(labels_to_index), activation='softmax'))\n",
    "    \n",
    "    model.compile(optimizer=optimizers.Adam(), \n",
    "              loss='categorical_crossentropy',\n",
    "              metrics=['accuracy'])\n",
    "    return model"
   ]
  },
  {
   "cell_type": "code",
   "execution_count": 26,
   "metadata": {},
   "outputs": [
    {
     "name": "stdout",
     "output_type": "stream",
     "text": [
      "Train on 99390 samples, validate on 11044 samples\n",
      "Epoch 1/10\n",
      "99390/99390 [==============================] - 8s 85us/step - loss: 1.5843 - acc: 0.5298 - val_loss: 0.8614 - val_acc: 0.7232\n",
      "Epoch 2/10\n",
      "99390/99390 [==============================] - 7s 75us/step - loss: 0.6967 - acc: 0.7750 - val_loss: 0.6719 - val_acc: 0.7767\n",
      "Epoch 3/10\n",
      "99390/99390 [==============================] - 7s 75us/step - loss: 0.5343 - acc: 0.8230 - val_loss: 0.6178 - val_acc: 0.7914\n",
      "Epoch 4/10\n",
      "99390/99390 [==============================] - 8s 76us/step - loss: 0.4597 - acc: 0.8456 - val_loss: 0.5974 - val_acc: 0.8035\n",
      "Epoch 5/10\n",
      "99390/99390 [==============================] - 8s 76us/step - loss: 0.4116 - acc: 0.8608 - val_loss: 0.6017 - val_acc: 0.8035\n",
      "Epoch 6/10\n",
      "99390/99390 [==============================] - 8s 76us/step - loss: 0.3770 - acc: 0.8721 - val_loss: 0.6087 - val_acc: 0.8044\n",
      "Epoch 7/10\n",
      "99390/99390 [==============================] - 7s 75us/step - loss: 0.3496 - acc: 0.8806 - val_loss: 0.6190 - val_acc: 0.8052\n",
      "Epoch 8/10\n",
      "99390/99390 [==============================] - 8s 76us/step - loss: 0.3270 - acc: 0.8885 - val_loss: 0.6284 - val_acc: 0.8041\n",
      "Epoch 9/10\n",
      "99390/99390 [==============================] - 8s 78us/step - loss: 0.3076 - acc: 0.8955 - val_loss: 0.6499 - val_acc: 0.8080\n",
      "Epoch 10/10\n",
      "99390/99390 [==============================] - 7s 75us/step - loss: 0.2904 - acc: 0.9018 - val_loss: 0.6624 - val_acc: 0.8037\n"
     ]
    }
   ],
   "source": [
    "model_small = build_model(16)\n",
    "history_small = model_small.fit(x=x_train, y=y_train, validation_data=(x_val, y_val),\n",
    "                   epochs=10, batch_size=256)\n",
    "\n"
   ]
  },
  {
   "cell_type": "code",
   "execution_count": 27,
   "metadata": {},
   "outputs": [
    {
     "name": "stdout",
     "output_type": "stream",
     "text": [
      "Train on 99390 samples, validate on 11044 samples\n",
      "Epoch 1/10\n",
      "99390/99390 [==============================] - 8s 78us/step - loss: 1.0573 - acc: 0.6768 - val_loss: 0.5903 - val_acc: 0.8024\n",
      "Epoch 2/10\n",
      "99390/99390 [==============================] - 7s 69us/step - loss: 0.4563 - acc: 0.8427 - val_loss: 0.5309 - val_acc: 0.8162\n",
      "Epoch 3/10\n",
      "99390/99390 [==============================] - 7s 70us/step - loss: 0.3484 - acc: 0.8784 - val_loss: 0.5254 - val_acc: 0.8263\n",
      "Epoch 4/10\n",
      "99390/99390 [==============================] - 7s 69us/step - loss: 0.2860 - acc: 0.8994 - val_loss: 0.5416 - val_acc: 0.8281\n",
      "Epoch 5/10\n",
      "99390/99390 [==============================] - 7s 70us/step - loss: 0.2412 - acc: 0.9146 - val_loss: 0.5691 - val_acc: 0.8259\n",
      "Epoch 6/10\n",
      "99390/99390 [==============================] - 7s 70us/step - loss: 0.2066 - acc: 0.9273 - val_loss: 0.6105 - val_acc: 0.8257\n",
      "Epoch 7/10\n",
      "99390/99390 [==============================] - 7s 70us/step - loss: 0.1806 - acc: 0.9375 - val_loss: 0.6380 - val_acc: 0.8269\n",
      "Epoch 8/10\n",
      "99390/99390 [==============================] - 7s 69us/step - loss: 0.1574 - acc: 0.9463 - val_loss: 0.6907 - val_acc: 0.8250\n",
      "Epoch 9/10\n",
      "99390/99390 [==============================] - 7s 70us/step - loss: 0.1411 - acc: 0.9515 - val_loss: 0.7191 - val_acc: 0.8205\n",
      "Epoch 10/10\n",
      "99390/99390 [==============================] - 7s 70us/step - loss: 0.1250 - acc: 0.9576 - val_loss: 0.7552 - val_acc: 0.8233\n"
     ]
    }
   ],
   "source": [
    "model_medium = build_model(64)\n",
    "history_medium = model_medium.fit(x=x_train, y=y_train, validation_data=(x_val, y_val),\n",
    "                   epochs=10, batch_size=256)"
   ]
  },
  {
   "cell_type": "code",
   "execution_count": 28,
   "metadata": {},
   "outputs": [
    {
     "name": "stdout",
     "output_type": "stream",
     "text": [
      "Train on 99390 samples, validate on 11044 samples\n",
      "Epoch 1/10\n",
      "99390/99390 [==============================] - 9s 89us/step - loss: 0.8294 - acc: 0.7321 - val_loss: 0.5364 - val_acc: 0.8156\n",
      "Epoch 2/10\n",
      "99390/99390 [==============================] - 8s 85us/step - loss: 0.3646 - acc: 0.8707 - val_loss: 0.4812 - val_acc: 0.8331\n",
      "Epoch 3/10\n",
      "99390/99390 [==============================] - 8s 85us/step - loss: 0.2374 - acc: 0.9152 - val_loss: 0.5025 - val_acc: 0.8379\n",
      "Epoch 4/10\n",
      "99390/99390 [==============================] - 9s 90us/step - loss: 0.1571 - acc: 0.9450 - val_loss: 0.5562 - val_acc: 0.8379\n",
      "Epoch 5/10\n",
      "99390/99390 [==============================] - 8s 85us/step - loss: 0.1132 - acc: 0.9620 - val_loss: 0.5896 - val_acc: 0.8485\n",
      "Epoch 6/10\n",
      "99390/99390 [==============================] - 8s 85us/step - loss: 0.0877 - acc: 0.9707 - val_loss: 0.6344 - val_acc: 0.8427\n",
      "Epoch 7/10\n",
      "99390/99390 [==============================] - 8s 85us/step - loss: 0.0704 - acc: 0.9769 - val_loss: 0.6860 - val_acc: 0.8404\n",
      "Epoch 8/10\n",
      "99390/99390 [==============================] - 9s 86us/step - loss: 0.0606 - acc: 0.9803 - val_loss: 0.7102 - val_acc: 0.8412\n",
      "Epoch 9/10\n",
      "99390/99390 [==============================] - 9s 86us/step - loss: 0.0527 - acc: 0.9829 - val_loss: 0.7548 - val_acc: 0.8424\n",
      "Epoch 10/10\n",
      "99390/99390 [==============================] - 8s 85us/step - loss: 0.0475 - acc: 0.9845 - val_loss: 0.7943 - val_acc: 0.8417\n"
     ]
    }
   ],
   "source": [
    "model_large = build_model(256)\n",
    "history_large = model_large.fit(x=x_train, y=y_train, validation_data=(x_val, y_val),\n",
    "                   epochs=10, batch_size=256)"
   ]
  },
  {
   "cell_type": "markdown",
   "metadata": {},
   "source": [
    "### Printing The Loss"
   ]
  },
  {
   "cell_type": "code",
   "execution_count": 29,
   "metadata": {},
   "outputs": [],
   "source": [
    "import matplotlib.pyplot as plt\n",
    "\n",
    "%matplotlib inline"
   ]
  },
  {
   "cell_type": "code",
   "execution_count": 30,
   "metadata": {},
   "outputs": [],
   "source": [
    "def chart_loss(history):\n",
    "    loss = history.history['loss']\n",
    "    val_loss = history.history['val_loss']\n",
    "\n",
    "    epochs = range(1, len(loss) + 1)\n",
    "\n",
    "    plt.plot(epochs, loss, 'b+', label='Training Loss')\n",
    "    plt.plot(epochs, val_loss, 'b', label='Validation Loss')\n",
    "    plt.title('Training and validation loss')\n",
    "    plt.xlabel('Epochs')\n",
    "    plt.ylabel('Loss')\n",
    "    plt.xticks(epochs)\n",
    "    plt.yticks(np.arange(0,2.25,0.25))\n",
    "    plt.legend()\n",
    "    plt.show()"
   ]
  },
  {
   "cell_type": "code",
   "execution_count": 31,
   "metadata": {},
   "outputs": [
    {
     "data": {
      "image/png": "[encoded data removed]",
      "text/plain": [
       "<Figure size 432x288 with 1 Axes>"
      ]
     },
     "metadata": {},
     "output_type": "display_data"
    },
    {
     "data": {
      "image/png": "[encoded data removed]",
      "text/plain": [
       "<Figure size 432x288 with 1 Axes>"
      ]
     },
     "metadata": {},
     "output_type": "display_data"
    },
    {
     "data": {
      "image/png": "[encoded data removed]",
      "text/plain": [
       "<Figure size 432x288 with 1 Axes>"
      ]
     },
     "metadata": {},
     "output_type": "display_data"
    }
   ],
   "source": [
    "chart_loss(history_small)\n",
    "chart_loss(history_medium)\n",
    "chart_loss(history_large)"
   ]
  },
  {
   "cell_type": "code",
   "execution_count": 32,
   "metadata": {},
   "outputs": [],
   "source": [
    "def chart_acc(history):\n",
    "    acc = history.history['acc']\n",
    "    val_acc = history.history['val_acc']\n",
    "\n",
    "    epochs = range(1, len(acc) + 1)\n",
    "    plt.plot(epochs, acc, 'b+', label='Training Acc')\n",
    "    plt.plot(epochs, val_acc, 'b', label='Validation Acc')\n",
    "    plt.title('Training and validation loss')\n",
    "    plt.xlabel('Epochs')\n",
    "    plt.ylabel('Accuray')\n",
    "    plt.xticks(epochs)\n",
    "    plt.yticks(np.arange(0,1.1,0.1))\n",
    "    plt.legend()\n",
    "    plt.show()"
   ]
  },
  {
   "cell_type": "code",
   "execution_count": 33,
   "metadata": {},
   "outputs": [
    {
     "data": {
      "image/png": "[encoded data removed]",
      "text/plain": [
       "<Figure size 432x288 with 1 Axes>"
      ]
     },
     "metadata": {},
     "output_type": "display_data"
    },
    {
     "data": {
      "image/png": "[encoded data removed]",
      "text/plain": [
       "<Figure size 432x288 with 1 Axes>"
      ]
     },
     "metadata": {},
     "output_type": "display_data"
    },
    {
     "data": {
      "image/png": "[encoded data removed]",
      "text/plain": [
       "<Figure size 432x288 with 1 Axes>"
      ]
     },
     "metadata": {},
     "output_type": "display_data"
    }
   ],
   "source": [
    "chart_acc(history_small)\n",
    "chart_acc(history_medium)\n",
    "chart_acc(history_large)"
   ]
  },
  {
   "cell_type": "code",
   "execution_count": 34,
   "metadata": {},
   "outputs": [],
   "source": [
    "def compare_loss(histories):\n",
    "    epochs = range(1, len(list(histories.values())[0].history['val_loss']) + 1)\n",
    "\n",
    "    for i, history in histories.items():\n",
    "        val_loss = history.history['val_loss']\n",
    "        plt.plot(epochs, val_loss, label='Validation Loss {}'.format(i))\n",
    "            \n",
    "    plt.xlabel('Epochs')\n",
    "    plt.ylabel('Loss')\n",
    "    plt.legend()\n",
    "    plt.show()"
   ]
  },
  {
   "cell_type": "code",
   "execution_count": 35,
   "metadata": {},
   "outputs": [
    {
     "data": {
      "image/png": "[encoded data removed]",
      "text/plain": [
       "<Figure size 432x288 with 1 Axes>"
      ]
     },
     "metadata": {},
     "output_type": "display_data"
    }
   ],
   "source": [
    "compare_loss({'Small 16': history_small, 'Medium 64': history_medium, 'Large 256': history_large})"
   ]
  },
  {
   "cell_type": "code",
   "execution_count": 36,
   "metadata": {},
   "outputs": [],
   "source": [
    "def compare_accuracy(histories):\n",
    "    epochs = range(1, len(list(histories.values())[0].history['val_acc']) + 1)\n",
    "\n",
    "    for i, history in histories.items():\n",
    "        val_loss = history.history['val_acc']\n",
    "        plt.plot(epochs, val_loss, label='Validation Accuracy {}'.format(i))\n",
    "            \n",
    "    plt.xlabel('Epochs')\n",
    "    plt.ylabel('Accuracy')\n",
    "    plt.legend()\n",
    "    plt.show()"
   ]
  },
  {
   "cell_type": "code",
   "execution_count": 37,
   "metadata": {},
   "outputs": [
    {
     "data": {
      "image/png": "[encoded data removed]",
      "text/plain": [
       "<Figure size 432x288 with 1 Axes>"
      ]
     },
     "metadata": {},
     "output_type": "display_data"
    }
   ],
   "source": [
    "compare_accuracy({'Small 16': history_small, 'Medium 64': history_medium, 'Large 256': history_large})"
   ]
  },
  {
   "cell_type": "code",
   "execution_count": 38,
   "metadata": {},
   "outputs": [],
   "source": [
    "def min_loss(history):\n",
    "    val_loss = history.history['val_loss'] \n",
    "    return np.argmin(val_loss) + 1   \n",
    "\n",
    "def accuracy(history, epoch):\n",
    "    val_acc = history.history['val_acc']\n",
    "    return val_acc[epoch-1]"
   ]
  },
  {
   "cell_type": "code",
   "execution_count": 39,
   "metadata": {},
   "outputs": [
    {
     "name": "stdout",
     "output_type": "stream",
     "text": [
      "min loss for model small is 4\n",
      "min loss for model medium is 3\n",
      "min loss for model large is 2\n"
     ]
    }
   ],
   "source": [
    "print('min loss for model small is {}'.format(min_loss(history_small)))\n",
    "print('min loss for model medium is {}'.format(min_loss(history_medium)))\n",
    "print('min loss for model large is {}'.format(min_loss(history_large)))"
   ]
  },
  {
   "cell_type": "code",
   "execution_count": 40,
   "metadata": {},
   "outputs": [
    {
     "name": "stdout",
     "output_type": "stream",
     "text": [
      "best validation accuracy for model small is 0.8035132198262931\n",
      "best validation accuracy for model medium is 0.8263310395432141\n",
      "best validation accuracy for model large is 0.8263310395432141\n"
     ]
    }
   ],
   "source": [
    "print('best validation accuracy for model small is {}'.format(\n",
    "    accuracy(history_small, min_loss(history_small))))\n",
    "print('best validation accuracy for model medium is {}'.format(\n",
    "    accuracy(history_medium, min_loss(history_medium))))\n",
    "print('best validation accuracy for model large is {}'.format(\n",
    "    accuracy(history_medium, min_loss(history_medium))))"
   ]
  },
  {
   "cell_type": "markdown",
   "metadata": {},
   "source": [
    "### Evaluate on the Test Set\n",
    "\n",
    "- train the best model for the best epochs"
   ]
  },
  {
   "cell_type": "code",
   "execution_count": 41,
   "metadata": {},
   "outputs": [],
   "source": [
    "import gc"
   ]
  },
  {
   "cell_type": "code",
   "execution_count": 45,
   "metadata": {},
   "outputs": [
    {
     "data": {
      "text/plain": [
       "0"
      ]
     },
     "execution_count": 45,
     "metadata": {},
     "output_type": "execute_result"
    }
   ],
   "source": [
    "gc.collect()"
   ]
  },
  {
   "cell_type": "code",
   "execution_count": 46,
   "metadata": {},
   "outputs": [],
   "source": [
    "model = build_model(256)"
   ]
  },
  {
   "cell_type": "code",
   "execution_count": 47,
   "metadata": {},
   "outputs": [
    {
     "name": "stdout",
     "output_type": "stream",
     "text": [
      "Epoch 1/2\n",
      "110434/110434 [==============================] - 10s 89us/step - loss: 0.7895 - acc: 0.7432\n",
      "Epoch 2/2\n",
      "110434/110434 [==============================] - 8s 73us/step - loss: 0.3574 - acc: 0.8728\n"
     ]
    }
   ],
   "source": [
    "history = model.fit(x=np.concatenate([x_train, x_val]), y=np.concatenate([y_train, y_val]), epochs=2, batch_size=256)"
   ]
  },
  {
   "cell_type": "code",
   "execution_count": 48,
   "metadata": {},
   "outputs": [
    {
     "name": "stdout",
     "output_type": "stream",
     "text": [
      "27609/27609 [==============================] - 3s 106us/step\n"
     ]
    }
   ],
   "source": [
    "loss, acc = model.evaluate(x_test, y_test)"
   ]
  },
  {
   "cell_type": "code",
   "execution_count": 49,
   "metadata": {},
   "outputs": [
    {
     "name": "stdout",
     "output_type": "stream",
     "text": [
      "loss 0.47464623744279905\n",
      "acc 0.8366112499309771\n"
     ]
    }
   ],
   "source": [
    "print('loss {}'.format(loss))\n",
    "print('acc {}'.format(acc))"
   ]
  }
 ],
 "metadata": {
  "kernelspec": {
   "display_name": "Python 3",
   "language": "python",
   "name": "python3"
  },
  "language_info": {
   "codemirror_mode": {
    "name": "ipython",
    "version": 3
   },
   "file_extension": ".py",
   "mimetype": "text/x-python",
   "name": "python",
   "nbconvert_exporter": "python",
   "pygments_lexer": "ipython3",
   "version": "3.6.5"
  }
 },
 "nbformat": 4,
 "nbformat_minor": 2
}
