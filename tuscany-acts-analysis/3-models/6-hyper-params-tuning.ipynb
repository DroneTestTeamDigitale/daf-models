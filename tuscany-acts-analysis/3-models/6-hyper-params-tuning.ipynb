{
 "cells": [
  {
   "cell_type": "code",
   "execution_count": null,
   "metadata": {},
   "outputs": [],
   "source": [
    "import numpy as np\n",
    "import random\n",
    "from dataset import atti_dirigenti\n",
    "\n",
    "from keras import layers, models, optimizers, utils, metrics\n",
    "from keras.callbacks import *\n",
    "from keras.wrappers.scikit_learn import KerasClassifier\n",
    "from keras.models import load_model\n",
    "from sklearn.model_selection import RandomizedSearchCV, GridSearchCV\n",
    "\n",
    "from scipy import stats"
   ]
  },
  {
   "cell_type": "code",
   "execution_count": null,
   "metadata": {},
   "outputs": [],
   "source": [
    "(x_train, y_train),(x_val, y_val), (x_test, y_test) = atti_dirigenti.load_data(num_words=5000, remove_stopwords=True)"
   ]
  },
  {
   "cell_type": "code",
   "execution_count": null,
   "metadata": {},
   "outputs": [],
   "source": [
    "x_train[:5]"
   ]
  },
  {
   "cell_type": "code",
   "execution_count": null,
   "metadata": {},
   "outputs": [],
   "source": [
    "label_index = atti_dirigenti.get_labels()\n",
    "len(label_index)"
   ]
  },
  {
   "cell_type": "code",
   "execution_count": null,
   "metadata": {},
   "outputs": [],
   "source": [
    "num_classes = len(label_index)"
   ]
  },
  {
   "cell_type": "code",
   "execution_count": null,
   "metadata": {},
   "outputs": [],
   "source": [
    "def max_index(data):\n",
    "    return max(data.max())"
   ]
  },
  {
   "cell_type": "code",
   "execution_count": null,
   "metadata": {
    "scrolled": true
   },
   "outputs": [],
   "source": [
    "max_idx = max([max_index(x_train), max_index(x_val), max_index(x_test)]) + 10"
   ]
  },
  {
   "cell_type": "code",
   "execution_count": null,
   "metadata": {},
   "outputs": [],
   "source": [
    "max_idx"
   ]
  },
  {
   "cell_type": "code",
   "execution_count": null,
   "metadata": {},
   "outputs": [],
   "source": [
    "num_features = max_idx "
   ]
  },
  {
   "cell_type": "code",
   "execution_count": null,
   "metadata": {},
   "outputs": [],
   "source": [
    "def vectorize_sequences(sequences, dimension=10000):\n",
    "    results = np.zeros((len(sequences), dimension))\n",
    "    for i, sequence in enumerate(sequences):\n",
    "        results[i, sequence] = 1.\n",
    "    return results"
   ]
  },
  {
   "cell_type": "code",
   "execution_count": null,
   "metadata": {},
   "outputs": [],
   "source": [
    "def vectorize_sequences_generator(sequences, dimension, batch_size):\n",
    "    num_batches = len(sequences) // batch_size\n",
    "    \n",
    "    i=0\n",
    "    while True:\n",
    "        # to be sure don't go over the size of the dataset\n",
    "        n = i % num_batches\n",
    "        i +=1\n",
    "        if (n+1) * batch_size < len(sequences):\n",
    "            yield vectorize_sequences(sequences[n*batch_size : (n+1)*batch_size], dimension)\n",
    "        else:\n",
    "            yield vectorize_sequences(sequences[n*batch_size : len(sequences)], dimension)"
   ]
  },
  {
   "cell_type": "markdown",
   "metadata": {},
   "source": [
    "#### Evaluate if works"
   ]
  },
  {
   "cell_type": "code",
   "execution_count": null,
   "metadata": {
    "scrolled": true
   },
   "outputs": [],
   "source": [
    "batch_size = 256\n",
    "steps_per_epoch = len(x_train) // batch_size\n",
    "\n",
    "i = 0\n",
    "for batch in vectorize_sequences_generator(x_train, num_features, batch_size):\n",
    "    print(np.argmax(batch[-1]))\n",
    "    i+=1\n",
    "    \n",
    "    if i == 10:\n",
    "        break\n",
    "    "
   ]
  },
  {
   "cell_type": "code",
   "execution_count": null,
   "metadata": {},
   "outputs": [],
   "source": [
    "batch_size = 256"
   ]
  },
  {
   "cell_type": "code",
   "execution_count": null,
   "metadata": {},
   "outputs": [],
   "source": [
    "def to_one_hot(labels, num_classes):\n",
    "    results = np.zeros((len(labels), num_classes), dtype=np.float16)\n",
    "    for i, label in enumerate(labels):\n",
    "        results[i, label] = 1.\n",
    "    return results"
   ]
  },
  {
   "cell_type": "code",
   "execution_count": null,
   "metadata": {},
   "outputs": [],
   "source": [
    "def to_one_hot_generator(labels, batch_size, num_classes):\n",
    "    num_batches = len(labels) // batch_size\n",
    "    num_classes = len(set(labels))\n",
    "    \n",
    "    i = 0\n",
    "    while True:\n",
    "        n = i % num_batches\n",
    "        i += 1\n",
    "        if (n+1) * batch_size < len(labels):\n",
    "            yield to_one_hot(labels[n*batch_size : (n+1)*batch_size], num_classes)\n",
    "        else:\n",
    "            yield to_one_hot(labels[n*batch_size : len(labels)], num_classes)\n",
    "        "
   ]
  },
  {
   "cell_type": "code",
   "execution_count": null,
   "metadata": {},
   "outputs": [],
   "source": [
    "batch_size = 256\n",
    "steps_per_epoch = len(y_train) // batch_size\n",
    "\n",
    "i = 0\n",
    "for batch in to_one_hot_generator(y_train, batch_size, num_classes):\n",
    "    for v in batch[:10]:\n",
    "        print(np.argmax(v))\n",
    "    break\n",
    "\n",
    "    "
   ]
  },
  {
   "cell_type": "code",
   "execution_count": null,
   "metadata": {},
   "outputs": [],
   "source": [
    "y_train[:10]"
   ]
  },
  {
   "cell_type": "code",
   "execution_count": null,
   "metadata": {},
   "outputs": [],
   "source": [
    "def data_generator(data, labels, batch_size, num_features, num_classes):\n",
    "    x_generator = vectorize_sequences_generator(data, num_features, batch_size)\n",
    "    y_generator = to_one_hot_generator(labels, batch_size, num_classes)\n",
    "    \n",
    "    while True:\n",
    "        yield next(x_generator), next(y_generator)"
   ]
  },
  {
   "cell_type": "code",
   "execution_count": null,
   "metadata": {},
   "outputs": [],
   "source": [
    "for x_batch, y_batch in data_generator(x_train, y_train, 256, num_features, num_classes):\n",
    "    print(x_batch.shape, y_batch.shape)\n",
    "    break"
   ]
  },
  {
   "cell_type": "code",
   "execution_count": null,
   "metadata": {},
   "outputs": [],
   "source": [
    "train_generator = data_generator(x_train, y_train, batch_size, num_features, num_classes)\n",
    "val_generator = data_generator(x_val, y_val, batch_size, num_features, num_classes)\n",
    "test_generator = data_generator(x_test, y_test, batch_size, num_features, num_classes)"
   ]
  },
  {
   "cell_type": "markdown",
   "metadata": {},
   "source": [
    "### Dataset for hyper parameters optimization"
   ]
  },
  {
   "cell_type": "code",
   "execution_count": null,
   "metadata": {},
   "outputs": [],
   "source": [
    "size = int(len(x_train) * 0.4)"
   ]
  },
  {
   "cell_type": "code",
   "execution_count": null,
   "metadata": {},
   "outputs": [],
   "source": [
    "x_train_grid = vectorize_sequences(x_train[0:size], num_features)\n",
    "y_train_grid = to_one_hot(y_train[0:size], num_classes)"
   ]
  },
  {
   "cell_type": "markdown",
   "metadata": {},
   "source": [
    "#### Evaluate if works"
   ]
  },
  {
   "cell_type": "markdown",
   "metadata": {},
   "source": [
    "### Build the Model"
   ]
  },
  {
   "cell_type": "code",
   "execution_count": null,
   "metadata": {},
   "outputs": [],
   "source": [
    "def build_model(neurons, dropout, num_features, num_classes, activation='relu', init_mode='glorot_uniform'):\n",
    "    input_tensor = layers.Input(shape=(num_features,))\n",
    "    first_layer = True\n",
    "    for n in neurons:\n",
    "        if first_layer:\n",
    "            first_layer = False\n",
    "            l = layers.Dense(n, activation=activation, kernel_initializer=init_mode)(input_tensor)\n",
    "            l = layers.Dropout(dropout)(l)\n",
    "        else:\n",
    "            l_next = layers.Dense(n, activation=activation, kernel_initializer=init_mode)(l)\n",
    "            l_next = layers.Dropout(dropout)(l_next)\n",
    "            l = l_next\n",
    "    last_layer = layers.Dense(num_classes, activation='softmax')(l)\n",
    "    model = models.Model(inputs = [input_tensor], outputs = [last_layer])\n",
    "    \n",
    "    model.compile(loss='categorical_crossentropy', optimizer= 'Adam', metrics=['accuracy'])\n",
    "    return model"
   ]
  },
  {
   "cell_type": "markdown",
   "metadata": {},
   "source": [
    "### Search for the best parameters"
   ]
  },
  {
   "cell_type": "code",
   "execution_count": null,
   "metadata": {},
   "outputs": [],
   "source": [
    "wrapped_model = KerasClassifier(build_fn=build_model, num_features=num_features, num_classes=num_classes)"
   ]
  },
  {
   "cell_type": "code",
   "execution_count": null,
   "metadata": {},
   "outputs": [],
   "source": [
    "# neurons = sorted(np.random.randint(0,128,(5,1)))\n",
    "# dropout = sorted(np.random.rand(5))\n",
    "base = [16,64,128]\n",
    "neurons = [[x] for x in base]\n",
    "neurons += [[x,x] for x in base]\n",
    "neurons += [[x,x,x] for x in base]\n",
    "dropout = np.arange(0.1, 0.7, step=0.1)\n",
    "activation = ['relu', 'tanh', 'sigmoid']\n",
    "init_mode = ['uniform', 'lecun_uniform', 'normal', 'glorot_normal']"
   ]
  },
  {
   "cell_type": "code",
   "execution_count": null,
   "metadata": {},
   "outputs": [],
   "source": [
    "param_dist = dict(neurons=neurons, dropout=dropout, activation=activation)"
   ]
  },
  {
   "cell_type": "code",
   "execution_count": null,
   "metadata": {},
   "outputs": [],
   "source": [
    "grid = GridSearchCV(wrapped_model, param_grid=param_dist)"
   ]
  },
  {
   "cell_type": "code",
   "execution_count": null,
   "metadata": {
    "scrolled": false
   },
   "outputs": [],
   "source": [
    "grid_result= grid.fit(X=x_train_grid, y=y_train_grid)"
   ]
  },
  {
   "cell_type": "markdown",
   "metadata": {},
   "source": [
    "### Summarize Results"
   ]
  },
  {
   "cell_type": "code",
   "execution_count": null,
   "metadata": {
    "scrolled": true
   },
   "outputs": [],
   "source": [
    "# summarize results\n",
    "print(\"Best: %f using %s\" % (grid_result.best_score_, grid_result.best_params_))\n",
    "means = grid_result.cv_results_['mean_test_score']\n",
    "stds = grid_result.cv_results_['std_test_score']\n",
    "params = grid_result.cv_results_['params']\n",
    "for mean, stdev, param in zip(means, stds, params):\n",
    "    print(\"%f (%f) with: %r\" % (mean, stdev, param))"
   ]
  },
  {
   "cell_type": "code",
   "execution_count": null,
   "metadata": {
    "scrolled": false
   },
   "outputs": [],
   "source": [
    "results = \"\"\"\n",
    "Best: 0.744743 using {'activation': 'tanh', 'dropout': 0.20000000000000001, 'neurons': [128, 128]}\n",
    "0.647776 (0.008467) with: {'activation': 'relu', 'dropout': 0.10000000000000001, 'neurons': [16]}\n",
    "0.726733 (0.004107) with: {'activation': 'relu', 'dropout': 0.10000000000000001, 'neurons': [64]}\n",
    "0.741926 (0.002003) with: {'activation': 'relu', 'dropout': 0.10000000000000001, 'neurons': [128]}\n",
    "0.634923 (0.003979) with: {'activation': 'relu', 'dropout': 0.10000000000000001, 'neurons': [16, 16]}\n",
    "0.729450 (0.002776) with: {'activation': 'relu', 'dropout': 0.10000000000000001, 'neurons': [64, 64]}\n",
    "0.742605 (0.001667) with: {'activation': 'relu', 'dropout': 0.10000000000000001, 'neurons': [128, 128]}\n",
    "0.597746 (0.008815) with: {'activation': 'relu', 'dropout': 0.10000000000000001, 'neurons': [16, 16, 16]}\n",
    "0.718005 (0.001712) with: {'activation': 'relu', 'dropout': 0.10000000000000001, 'neurons': [64, 64, 64]}\n",
    "0.734254 (0.006787) with: {'activation': 'relu', 'dropout': 0.10000000000000001, 'neurons': [128, 128, 128]}\n",
    "0.635904 (0.007324) with: {'activation': 'relu', 'dropout': 0.20000000000000001, 'neurons': [16]}\n",
    "0.720948 (0.001441) with: {'activation': 'relu', 'dropout': 0.20000000000000001, 'neurons': [64]}\n",
    "0.737272 (0.003113) with: {'activation': 'relu', 'dropout': 0.20000000000000001, 'neurons': [128]}\n",
    "0.600186 (0.010220) with: {'activation': 'relu', 'dropout': 0.20000000000000001, 'neurons': [16, 16]}\n",
    "0.716294 (0.005748) with: {'activation': 'relu', 'dropout': 0.20000000000000001, 'neurons': [64, 64]}\n",
    "0.739410 (0.001635) with: {'activation': 'relu', 'dropout': 0.20000000000000001, 'neurons': [128, 128]}\n",
    "0.575485 (0.014497) with: {'activation': 'relu', 'dropout': 0.20000000000000001, 'neurons': [16, 16, 16]}\n",
    "0.702108 (0.001849) with: {'activation': 'relu', 'dropout': 0.20000000000000001, 'neurons': [64, 64, 64]}\n",
    "0.733927 (0.001513) with: {'activation': 'relu', 'dropout': 0.20000000000000001, 'neurons': [128, 128, 128]}\n",
    "0.630471 (0.005090) with: {'activation': 'relu', 'dropout': 0.30000000000000004, 'neurons': [16]}\n",
    "0.717099 (0.000895) with: {'activation': 'relu', 'dropout': 0.30000000000000004, 'neurons': [64]}\n",
    "0.732619 (0.001035) with: {'activation': 'relu', 'dropout': 0.30000000000000004, 'neurons': [128]}\n",
    "0.591181 (0.006098) with: {'activation': 'relu', 'dropout': 0.30000000000000004, 'neurons': [16, 16]}\n",
    "0.704573 (0.005510) with: {'activation': 'relu', 'dropout': 0.30000000000000004, 'neurons': [64, 64]}\n",
    "0.729852 (0.000847) with: {'activation': 'relu', 'dropout': 0.30000000000000004, 'neurons': [128, 128]}\n",
    "0.437418 (0.025241) with: {'activation': 'relu', 'dropout': 0.30000000000000004, 'neurons': [16, 16, 16]}\n",
    "0.669484 (0.001294) with: {'activation': 'relu', 'dropout': 0.30000000000000004, 'neurons': [64, 64, 64]}\n",
    "0.719212 (0.000869) with: {'activation': 'relu', 'dropout': 0.30000000000000004, 'neurons': [128, 128, 128]}\n",
    "0.612713 (0.003327) with: {'activation': 'relu', 'dropout': 0.40000000000000002, 'neurons': [16]}\n",
    "0.703315 (0.004689) with: {'activation': 'relu', 'dropout': 0.40000000000000002, 'neurons': [64]}\n",
    "0.728343 (0.002462) with: {'activation': 'relu', 'dropout': 0.40000000000000002, 'neurons': [128]}\n",
    "0.524525 (0.010194) with: {'activation': 'relu', 'dropout': 0.40000000000000002, 'neurons': [16, 16]}\n",
    "0.685205 (0.006098) with: {'activation': 'relu', 'dropout': 0.40000000000000002, 'neurons': [64, 64]}\n",
    "0.719388 (0.002806) with: {'activation': 'relu', 'dropout': 0.40000000000000002, 'neurons': [128, 128]}\n",
    "0.382860 (0.025280) with: {'activation': 'relu', 'dropout': 0.40000000000000002, 'neurons': [16, 16, 16]}\n",
    "0.624057 (0.017902) with: {'activation': 'relu', 'dropout': 0.40000000000000002, 'neurons': [64, 64, 64]}\n",
    "0.693078 (0.006377) with: {'activation': 'relu', 'dropout': 0.40000000000000002, 'neurons': [128, 128, 128]}\n",
    "0.594174 (0.007287) with: {'activation': 'relu', 'dropout': 0.5, 'neurons': [16]}\n",
    "0.697127 (0.002701) with: {'activation': 'relu', 'dropout': 0.5, 'neurons': [64]}\n",
    "0.721426 (0.004081) with: {'activation': 'relu', 'dropout': 0.5, 'neurons': [128]}\n",
    "0.439305 (0.045147) with: {'activation': 'relu', 'dropout': 0.5, 'neurons': [16, 16]}\n",
    "0.644984 (0.003787) with: {'activation': 'relu', 'dropout': 0.5, 'neurons': [64, 64]}\n",
    "0.702862 (0.000730) with: {'activation': 'relu', 'dropout': 0.5, 'neurons': [128, 128]}\n",
    "0.292585 (0.028300) with: {'activation': 'relu', 'dropout': 0.5, 'neurons': [16, 16, 16]}\n",
    "0.569625 (0.008936) with: {'activation': 'relu', 'dropout': 0.5, 'neurons': [64, 64, 64]}\n",
    "0.641186 (0.008019) with: {'activation': 'relu', 'dropout': 0.5, 'neurons': [128, 128, 128]}\n",
    "0.571763 (0.002188) with: {'activation': 'relu', 'dropout': 0.59999999999999998, 'neurons': [16]}\n",
    "0.681004 (0.002096) with: {'activation': 'relu', 'dropout': 0.59999999999999998, 'neurons': [64]}\n",
    "0.710937 (0.002770) with: {'activation': 'relu', 'dropout': 0.59999999999999998, 'neurons': [128]}\n",
    "0.392872 (0.009480) with: {'activation': 'relu', 'dropout': 0.59999999999999998, 'neurons': [16, 16]}\n",
    "0.599557 (0.005861) with: {'activation': 'relu', 'dropout': 0.59999999999999998, 'neurons': [64, 64]}\n",
    "0.665459 (0.006254) with: {'activation': 'relu', 'dropout': 0.59999999999999998, 'neurons': [128, 128]}\n",
    "0.243661 (0.034925) with: {'activation': 'relu', 'dropout': 0.59999999999999998, 'neurons': [16, 16, 16]}\n",
    "0.434400 (0.029201) with: {'activation': 'relu', 'dropout': 0.59999999999999998, 'neurons': [64, 64, 64]}\n",
    "0.576492 (0.001909) with: {'activation': 'relu', 'dropout': 0.59999999999999998, 'neurons': [128, 128, 128]}\n",
    "0.666642 (0.005959) with: {'activation': 'tanh', 'dropout': 0.10000000000000001, 'neurons': [16]}\n",
    "0.734606 (0.002003) with: {'activation': 'tanh', 'dropout': 0.10000000000000001, 'neurons': [64]}\n",
    "0.742504 (0.001739) with: {'activation': 'tanh', 'dropout': 0.10000000000000001, 'neurons': [128]}\n",
    "0.666918 (0.009338) with: {'activation': 'tanh', 'dropout': 0.10000000000000001, 'neurons': [16, 16]}\n",
    "0.741498 (0.002034) with: {'activation': 'tanh', 'dropout': 0.10000000000000001, 'neurons': [64, 64]}\n",
    "0.742504 (0.001951) with: {'activation': 'tanh', 'dropout': 0.10000000000000001, 'neurons': [128, 128]}\n",
    "0.659297 (0.006097) with: {'activation': 'tanh', 'dropout': 0.10000000000000001, 'neurons': [16, 16, 16]}\n",
    "0.737876 (0.001760) with: {'activation': 'tanh', 'dropout': 0.10000000000000001, 'neurons': [64, 64, 64]}\n",
    "0.741020 (0.001611) with: {'activation': 'tanh', 'dropout': 0.10000000000000001, 'neurons': [128, 128, 128]}\n",
    "0.655901 (0.004159) with: {'activation': 'tanh', 'dropout': 0.20000000000000001, 'neurons': [16]}\n",
    "0.728670 (0.001278) with: {'activation': 'tanh', 'dropout': 0.20000000000000001, 'neurons': [64]}\n",
    "0.740995 (0.002773) with: {'activation': 'tanh', 'dropout': 0.20000000000000001, 'neurons': [128]}\n",
    "0.661812 (0.005461) with: {'activation': 'tanh', 'dropout': 0.20000000000000001, 'neurons': [16, 16]}\n",
    "0.737448 (0.002064) with: {'activation': 'tanh', 'dropout': 0.20000000000000001, 'neurons': [64, 64]}\n",
    "0.744743 (0.000188) with: {'activation': 'tanh', 'dropout': 0.20000000000000001, 'neurons': [128, 128]}\n",
    "0.628534 (0.004568) with: {'activation': 'tanh', 'dropout': 0.20000000000000001, 'neurons': [16, 16, 16]}\n",
    "0.728947 (0.003336) with: {'activation': 'tanh', 'dropout': 0.20000000000000001, 'neurons': [64, 64, 64]}\n",
    "0.736367 (0.003389) with: {'activation': 'tanh', 'dropout': 0.20000000000000001, 'neurons': [128, 128, 128]}\n",
    "0.647802 (0.007143) with: {'activation': 'tanh', 'dropout': 0.30000000000000004, 'neurons': [16]}\n",
    "0.726658 (0.000410) with: {'activation': 'tanh', 'dropout': 0.30000000000000004, 'neurons': [64]}\n",
    "0.739184 (0.003619) with: {'activation': 'tanh', 'dropout': 0.30000000000000004, 'neurons': [128]}\n",
    "0.635954 (0.004607) with: {'activation': 'tanh', 'dropout': 0.30000000000000004, 'neurons': [16, 16]}\n",
    "0.732317 (0.003016) with: {'activation': 'tanh', 'dropout': 0.30000000000000004, 'neurons': [64, 64]}\n",
    "0.739737 (0.004068) with: {'activation': 'tanh', 'dropout': 0.30000000000000004, 'neurons': [128, 128]}\n",
    "0.598023 (0.006738) with: {'activation': 'tanh', 'dropout': 0.30000000000000004, 'neurons': [16, 16, 16]}\n",
    "0.719338 (0.004305) with: {'activation': 'tanh', 'dropout': 0.30000000000000004, 'neurons': [64, 64, 64]}\n",
    "0.730305 (0.002373) with: {'activation': 'tanh', 'dropout': 0.30000000000000004, 'neurons': [128, 128, 128]}\n",
    "0.637086 (0.002333) with: {'activation': 'tanh', 'dropout': 0.40000000000000002, 'neurons': [16]}\n",
    "0.716974 (0.002936) with: {'activation': 'tanh', 'dropout': 0.40000000000000002, 'neurons': [64]}\n",
    "0.738530 (0.003610) with: {'activation': 'tanh', 'dropout': 0.40000000000000002, 'neurons': [128]}\n",
    "0.600513 (0.005159) with: {'activation': 'tanh', 'dropout': 0.40000000000000002, 'neurons': [16, 16]}\n",
    "0.723237 (0.003644) with: {'activation': 'tanh', 'dropout': 0.40000000000000002, 'neurons': [64, 64]}\n",
    "0.735084 (0.001356) with: {'activation': 'tanh', 'dropout': 0.40000000000000002, 'neurons': [128, 128]}\n",
    "0.531769 (0.018333) with: {'activation': 'tanh', 'dropout': 0.40000000000000002, 'neurons': [16, 16, 16]}\n",
    "0.707390 (0.003889) with: {'activation': 'tanh', 'dropout': 0.40000000000000002, 'neurons': [64, 64, 64]}\n",
    "0.722759 (0.003134) with: {'activation': 'tanh', 'dropout': 0.40000000000000002, 'neurons': [128, 128, 128]}\n",
    "0.631150 (0.003134) with: {'activation': 'tanh', 'dropout': 0.5, 'neurons': [16]}\n",
    "0.711289 (0.001154) with: {'activation': 'tanh', 'dropout': 0.5, 'neurons': [64]}\n",
    "0.731110 (0.002615) with: {'activation': 'tanh', 'dropout': 0.5, 'neurons': [128]}\n",
    "0.571687 (0.005546) with: {'activation': 'tanh', 'dropout': 0.5, 'neurons': [16, 16]}\n",
    "0.708799 (0.001763) with: {'activation': 'tanh', 'dropout': 0.5, 'neurons': [64, 64]}\n",
    "0.731688 (0.000094) with: {'activation': 'tanh', 'dropout': 0.5, 'neurons': [128, 128]}\n",
    "0.493661 (0.011795) with: {'activation': 'tanh', 'dropout': 0.5, 'neurons': [16, 16, 16]}\n",
    "0.678288 (0.001322) with: {'activation': 'tanh', 'dropout': 0.5, 'neurons': [64, 64, 64]}\n",
    "0.715993 (0.003346) with: {'activation': 'tanh', 'dropout': 0.5, 'neurons': [128, 128, 128]}\n",
    "0.609116 (0.001555) with: {'activation': 'tanh', 'dropout': 0.59999999999999998, 'neurons': [16]}\n",
    "0.702158 (0.004177) with: {'activation': 'tanh', 'dropout': 0.59999999999999998, 'neurons': [64]}\n",
    "0.724847 (0.002343) with: {'activation': 'tanh', 'dropout': 0.59999999999999998, 'neurons': [128]}\n",
    "0.523619 (0.005351) with: {'activation': 'tanh', 'dropout': 0.59999999999999998, 'neurons': [16, 16]}\n",
    "0.684048 (0.004778) with: {'activation': 'tanh', 'dropout': 0.59999999999999998, 'neurons': [64, 64]}\n",
    "0.722306 (0.003777) with: {'activation': 'tanh', 'dropout': 0.59999999999999998, 'neurons': [128, 128]}\n",
    "0.417748 (0.035234) with: {'activation': 'tanh', 'dropout': 0.59999999999999998, 'neurons': [16, 16, 16]}\n",
    "0.621214 (0.006650) with: {'activation': 'tanh', 'dropout': 0.59999999999999998, 'neurons': [64, 64, 64]}\n",
    "0.689758 (0.000996) with: {'activation': 'tanh', 'dropout': 0.59999999999999998, 'neurons': [128, 128, 128]}\n",
    "0.490090 (0.006018) with: {'activation': 'sigmoid', 'dropout': 0.10000000000000001, 'neurons': [16]}\n",
    "0.600563 (0.004491) with: {'activation': 'sigmoid', 'dropout': 0.10000000000000001, 'neurons': [64]}\n",
    "0.642947 (0.001345) with: {'activation': 'sigmoid', 'dropout': 0.10000000000000001, 'neurons': [128]}\n",
    "0.312003 (0.037418) with: {'activation': 'sigmoid', 'dropout': 0.10000000000000001, 'neurons': [16, 16]}\n",
    "0.536749 (0.023760) with: {'activation': 'sigmoid', 'dropout': 0.10000000000000001, 'neurons': [64, 64]}\n",
    "0.609518 (0.006652) with: {'activation': 'sigmoid', 'dropout': 0.10000000000000001, 'neurons': [128, 128]}\n",
    "0.174263 (0.021225) with: {'activation': 'sigmoid', 'dropout': 0.10000000000000001, 'neurons': [16, 16, 16]}\n",
    "0.484682 (0.008603) with: {'activation': 'sigmoid', 'dropout': 0.10000000000000001, 'neurons': [64, 64, 64]}\n",
    "0.570077 (0.009896) with: {'activation': 'sigmoid', 'dropout': 0.10000000000000001, 'neurons': [128, 128, 128]}\n",
    "0.465339 (0.015995) with: {'activation': 'sigmoid', 'dropout': 0.20000000000000001, 'neurons': [16]}\n",
    "0.592992 (0.003917) with: {'activation': 'sigmoid', 'dropout': 0.20000000000000001, 'neurons': [64]}\n",
    "0.632659 (0.005712) with: {'activation': 'sigmoid', 'dropout': 0.20000000000000001, 'neurons': [128]}\n",
    "0.281718 (0.018895) with: {'activation': 'sigmoid', 'dropout': 0.20000000000000001, 'neurons': [16, 16]}\n",
    "0.511017 (0.009289) with: {'activation': 'sigmoid', 'dropout': 0.20000000000000001, 'neurons': [64, 64]}\n",
    "0.580214 (0.005515) with: {'activation': 'sigmoid', 'dropout': 0.20000000000000001, 'neurons': [128, 128]}\n",
    "0.202510 (0.013384) with: {'activation': 'sigmoid', 'dropout': 0.20000000000000001, 'neurons': [16, 16, 16]}\n",
    "0.408542 (0.006377) with: {'activation': 'sigmoid', 'dropout': 0.20000000000000001, 'neurons': [64, 64, 64]}\n",
    "0.517708 (0.013010) with: {'activation': 'sigmoid', 'dropout': 0.20000000000000001, 'neurons': [128, 128, 128]}\n",
    "0.438424 (0.005164) with: {'activation': 'sigmoid', 'dropout': 0.30000000000000004, 'neurons': [16]}\n",
    "0.580189 (0.000339) with: {'activation': 'sigmoid', 'dropout': 0.30000000000000004, 'neurons': [64]}\n",
    "0.614272 (0.007204) with: {'activation': 'sigmoid', 'dropout': 0.30000000000000004, 'neurons': [128]}\n",
    "0.271481 (0.017266) with: {'activation': 'sigmoid', 'dropout': 0.30000000000000004, 'neurons': [16, 16]}\n",
    "0.473941 (0.010772) with: {'activation': 'sigmoid', 'dropout': 0.30000000000000004, 'neurons': [64, 64]}\n",
    "0.548622 (0.004295) with: {'activation': 'sigmoid', 'dropout': 0.30000000000000004, 'neurons': [128, 128]}\n",
    "0.144783 (0.029559) with: {'activation': 'sigmoid', 'dropout': 0.30000000000000004, 'neurons': [16, 16, 16]}\n",
    "0.331598 (0.019725) with: {'activation': 'sigmoid', 'dropout': 0.30000000000000004, 'neurons': [64, 64, 64]}\n",
    "0.479550 (0.013465) with: {'activation': 'sigmoid', 'dropout': 0.30000000000000004, 'neurons': [128, 128, 128]}\n",
    "0.457214 (0.010808) with: {'activation': 'sigmoid', 'dropout': 0.40000000000000002, 'neurons': [16]}\n",
    "0.561676 (0.007625) with: {'activation': 'sigmoid', 'dropout': 0.40000000000000002, 'neurons': [64]}\n",
    "0.601041 (0.008791) with: {'activation': 'sigmoid', 'dropout': 0.40000000000000002, 'neurons': [128]}\n",
    "0.202611 (0.026743) with: {'activation': 'sigmoid', 'dropout': 0.40000000000000002, 'neurons': [16, 16]}\n",
    "0.444914 (0.021984) with: {'activation': 'sigmoid', 'dropout': 0.40000000000000002, 'neurons': [64, 64]}\n",
    "0.511973 (0.012992) with: {'activation': 'sigmoid', 'dropout': 0.40000000000000002, 'neurons': [128, 128]}\n",
    "0.124384 (0.018447) with: {'activation': 'sigmoid', 'dropout': 0.40000000000000002, 'neurons': [16, 16, 16]}\n",
    "0.278826 (0.021667) with: {'activation': 'sigmoid', 'dropout': 0.40000000000000002, 'neurons': [64, 64, 64]}\n",
    "0.345206 (0.003879) with: {'activation': 'sigmoid', 'dropout': 0.40000000000000002, 'neurons': [128, 128, 128]}\n",
    "0.407159 (0.020860) with: {'activation': 'sigmoid', 'dropout': 0.5, 'neurons': [16]}\n",
    "0.545980 (0.003657) with: {'activation': 'sigmoid', 'dropout': 0.5, 'neurons': [64]}\n",
    "0.585220 (0.002003) with: {'activation': 'sigmoid', 'dropout': 0.5, 'neurons': [128]}\n",
    "0.210937 (0.003901) with: {'activation': 'sigmoid', 'dropout': 0.5, 'neurons': [16, 16]}\n",
    "0.352022 (0.014045) with: {'activation': 'sigmoid', 'dropout': 0.5, 'neurons': [64, 64]}\n",
    "0.469816 (0.004079) with: {'activation': 'sigmoid', 'dropout': 0.5, 'neurons': [128, 128]}\n",
    "0.111706 (0.016743) with: {'activation': 'sigmoid', 'dropout': 0.5, 'neurons': [16, 16, 16]}\n",
    "0.198486 (0.019712) with: {'activation': 'sigmoid', 'dropout': 0.5, 'neurons': [64, 64, 64]}\n",
    "0.292107 (0.009168) with: {'activation': 'sigmoid', 'dropout': 0.5, 'neurons': [128, 128, 128]}\n",
    "0.351947 (0.015003) with: {'activation': 'sigmoid', 'dropout': 0.59999999999999998, 'neurons': [16]}\n",
    "0.521456 (0.003706) with: {'activation': 'sigmoid', 'dropout': 0.59999999999999998, 'neurons': [64]}\n",
    "0.557476 (0.010049) with: {'activation': 'sigmoid', 'dropout': 0.59999999999999998, 'neurons': [128]}\n",
    "0.164579 (0.042435) with: {'activation': 'sigmoid', 'dropout': 0.59999999999999998, 'neurons': [16, 16]}\n",
    "0.294723 (0.010880) with: {'activation': 'sigmoid', 'dropout': 0.59999999999999998, 'neurons': [64, 64]}\n",
    "0.339722 (0.010352) with: {'activation': 'sigmoid', 'dropout': 0.59999999999999998, 'neurons': [128, 128]}\n",
    "0.100941 (0.001581) with: {'activation': 'sigmoid', 'dropout': 0.59999999999999998, 'neurons': [16, 16, 16]}\n",
    "0.102249 (0.003393) with: {'activation': 'sigmoid', 'dropout': 0.59999999999999998, 'neurons': [64, 64, 64]}\n",
    "0.130647 (0.026755) with: {'activation': 'sigmoid', 'dropout': 0.59999999999999998, 'neurons': [128, 128, 128]}\n",
    "\n",
    "\"\"\"\n",
    "\n",
    "print(results)"
   ]
  },
  {
   "cell_type": "code",
   "execution_count": null,
   "metadata": {},
   "outputs": [],
   "source": []
  }
 ],
 "metadata": {
  "kernelspec": {
   "display_name": "Python 3",
   "language": "python",
   "name": "python3"
  },
  "language_info": {
   "codemirror_mode": {
    "name": "ipython",
    "version": 3
   },
   "file_extension": ".py",
   "mimetype": "text/x-python",
   "name": "python",
   "nbconvert_exporter": "python",
   "pygments_lexer": "ipython3",
   "version": "3.6.5"
  }
 },
 "nbformat": 4,
 "nbformat_minor": 2
}
