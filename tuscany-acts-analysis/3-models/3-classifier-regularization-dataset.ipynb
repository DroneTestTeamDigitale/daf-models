{
 "cells": [
  {
   "cell_type": "code",
   "execution_count": 1,
   "metadata": {},
   "outputs": [
    {
     "name": "stderr",
     "output_type": "stream",
     "text": [
      "Using TensorFlow backend.\n"
     ]
    },
    {
     "name": "stdout",
     "output_type": "stream",
     "text": [
      "[nltk_data] Downloading package stopwords to /home/fabio/nltk_data...\n",
      "[nltk_data]   Package stopwords is already up-to-date!\n",
      "[nltk_data] Downloading package punkt to /home/fabio/nltk_data...\n",
      "[nltk_data]   Package punkt is already up-to-date!\n"
     ]
    }
   ],
   "source": [
    "import numpy as np\n",
    "import pandas as pd\n",
    "import pickle\n",
    "\n",
    "from keras import models\n",
    "from keras import layers\n",
    "from keras import optimizers\n",
    "from keras import losses\n",
    "from keras import activations\n",
    "from keras import metrics\n",
    "from keras import regularizers\n",
    "import math\n",
    "\n",
    "import random\n",
    "\n",
    "from dataset import atti_dirigenti\n",
    "\n",
    "# to make the experimens replicable\n",
    "random.seed(123456)"
   ]
  },
  {
   "cell_type": "code",
   "execution_count": 2,
   "metadata": {},
   "outputs": [],
   "source": [
    "(x_train, y_train), (x_val, y_val), (x_test, y_test) = atti_dirigenti.load_data(num_words=10000, remove_stopwords=True)"
   ]
  },
  {
   "cell_type": "code",
   "execution_count": 3,
   "metadata": {},
   "outputs": [
    {
     "data": {
      "text/plain": [
       "20"
      ]
     },
     "execution_count": 3,
     "metadata": {},
     "output_type": "execute_result"
    }
   ],
   "source": [
    "label_index = atti_dirigenti.get_labels()\n",
    "len(label_index)"
   ]
  },
  {
   "cell_type": "markdown",
   "metadata": {},
   "source": [
    "### Preparing Data\n",
    "\n",
    "for data and labels"
   ]
  },
  {
   "cell_type": "code",
   "execution_count": 4,
   "metadata": {},
   "outputs": [],
   "source": [
    "def vectorize_sequences(sequences, dimension=10000):\n",
    "    results = np.zeros((len(sequences), dimension), dtype=np.float32)\n",
    "    for i, sequence in enumerate(sequences):\n",
    "        results[i, sequence] = 1.\n",
    "    return results"
   ]
  },
  {
   "cell_type": "code",
   "execution_count": 5,
   "metadata": {},
   "outputs": [],
   "source": [
    "dimension = 11000"
   ]
  },
  {
   "cell_type": "code",
   "execution_count": 7,
   "metadata": {},
   "outputs": [],
   "source": [
    "x_train = vectorize_sequences(x_train, dimension)\n",
    "x_val = vectorize_sequences(x_val, dimension)\n",
    "x_test = vectorize_sequences(x_test, dimension)"
   ]
  },
  {
   "cell_type": "code",
   "execution_count": 8,
   "metadata": {},
   "outputs": [
    {
     "data": {
      "text/plain": [
       "array([[ 0.,  0.,  1., ...,  0.,  0.,  0.],\n",
       "       [ 0.,  0.,  1., ...,  0.,  0.,  0.],\n",
       "       [ 0.,  0.,  1., ...,  0.,  0.,  0.],\n",
       "       ..., \n",
       "       [ 0.,  0.,  1., ...,  0.,  0.,  0.],\n",
       "       [ 0.,  0.,  1., ...,  0.,  0.,  0.],\n",
       "       [ 0.,  0.,  1., ...,  0.,  0.,  0.]], dtype=float32)"
      ]
     },
     "execution_count": 8,
     "metadata": {},
     "output_type": "execute_result"
    }
   ],
   "source": [
    "x_train[0:]"
   ]
  },
  {
   "cell_type": "code",
   "execution_count": 9,
   "metadata": {},
   "outputs": [
    {
     "data": {
      "text/plain": [
       "(99390, 11000)"
      ]
     },
     "execution_count": 9,
     "metadata": {},
     "output_type": "execute_result"
    }
   ],
   "source": [
    "x_train.shape"
   ]
  },
  {
   "cell_type": "markdown",
   "metadata": {},
   "source": [
    "One hot encoding for the labels"
   ]
  },
  {
   "cell_type": "code",
   "execution_count": 10,
   "metadata": {},
   "outputs": [],
   "source": [
    "def to_one_hot(labels):\n",
    "    results = np.zeros((len(labels), len(set(labels))), dtype=np.float16)\n",
    "    for i, label in enumerate(labels):\n",
    "        results[i, label] = 1.\n",
    "    return results"
   ]
  },
  {
   "cell_type": "code",
   "execution_count": 11,
   "metadata": {},
   "outputs": [],
   "source": [
    "y_train = to_one_hot(y_train)\n",
    "y_val = to_one_hot(y_val)\n",
    "y_test = to_one_hot(y_test)"
   ]
  },
  {
   "cell_type": "code",
   "execution_count": 12,
   "metadata": {},
   "outputs": [
    {
     "data": {
      "text/plain": [
       "array([[ 0.,  0.,  0., ...,  0.,  0.,  1.],\n",
       "       [ 0.,  0.,  0., ...,  0.,  0.,  0.],\n",
       "       [ 0.,  0.,  0., ...,  0.,  0.,  1.],\n",
       "       ..., \n",
       "       [ 0.,  0.,  0., ...,  1.,  0.,  0.],\n",
       "       [ 0.,  0.,  0., ...,  0.,  0.,  0.],\n",
       "       [ 0.,  0.,  0., ...,  0.,  0.,  0.]], dtype=float16)"
      ]
     },
     "execution_count": 12,
     "metadata": {},
     "output_type": "execute_result"
    }
   ],
   "source": [
    "y_train"
   ]
  },
  {
   "cell_type": "markdown",
   "metadata": {},
   "source": [
    "## Build the Models\n",
    "\n",
    "apart the base model we add new methods with different kind of regularizers. In particular, we take into account:\n",
    "- l2 that penalize the weights coefficient with a value proportional of their l1 and l2 norms. The general idea is that we prefer a simple model where the distribution of parameters values has less entropy.\n",
    "- dropout where the idea is to reset randomly a percentage of the weights to zero in order to avoid that neurons start to memorize noise patterns."
   ]
  },
  {
   "cell_type": "code",
   "execution_count": 13,
   "metadata": {},
   "outputs": [],
   "source": [
    "def build_model(neurons):\n",
    "    model = models.Sequential()\n",
    "    model.add(layers.Dense(neurons, activation='relu', input_shape=(x_train.shape[-1], )))\n",
    "    model.add(layers.Dense(neurons, activation='relu'))\n",
    "    model.add(layers.Dense(neurons, activation='relu'))\n",
    "    model.add(layers.Dense(len(label_index), activation='softmax'))\n",
    "    \n",
    "    model.compile(optimizer=optimizers.Adam(), \n",
    "              loss='categorical_crossentropy',\n",
    "              metrics=['accuracy'])\n",
    "    return model"
   ]
  },
  {
   "cell_type": "code",
   "execution_count": 14,
   "metadata": {},
   "outputs": [],
   "source": [
    "def build_model_l2(neurons):\n",
    "    model = models.Sequential()\n",
    "    model.add(layers.Dense(neurons, activation='relu', kernel_regularizer=regularizers.l2(), input_shape=(x_train.shape[-1], )))\n",
    "    model.add(layers.Dense(neurons, kernel_regularizer=regularizers.l2(0.0001), activation='relu'))\n",
    "    model.add(layers.Dense(neurons, kernel_regularizer=regularizers.l2(0.0001), activation='relu'))\n",
    "    model.add(layers.Dense(len(label_index), activation='softmax'))\n",
    "    \n",
    "    model.compile(optimizer=optimizers.Adam(), \n",
    "              loss='categorical_crossentropy',\n",
    "              metrics=['accuracy'])\n",
    "    return model"
   ]
  },
  {
   "cell_type": "code",
   "execution_count": 15,
   "metadata": {},
   "outputs": [],
   "source": [
    "def build_model_dropout(neurons):\n",
    "    model = models.Sequential()\n",
    "    model.add(layers.Dense(neurons, activation='relu', input_shape=(x_train.shape[-1], )))\n",
    "    model.add(layers.Dropout(0.5))\n",
    "    model.add(layers.Dense(neurons, activation='relu'))\n",
    "    model.add(layers.Dropout(0.5))\n",
    "    model.add(layers.Dense(neurons, activation='relu'))\n",
    "    model.add(layers.Dropout(0.5))\n",
    "    model.add(layers.Dense(len(label_index), activation='softmax'))\n",
    "    \n",
    "    model.compile(optimizer=optimizers.Adam(), \n",
    "              loss='categorical_crossentropy',\n",
    "              metrics=['accuracy'])\n",
    "    return model"
   ]
  },
  {
   "cell_type": "code",
   "execution_count": 16,
   "metadata": {},
   "outputs": [],
   "source": [
    "model_base = build_model(256)"
   ]
  },
  {
   "cell_type": "code",
   "execution_count": 17,
   "metadata": {},
   "outputs": [
    {
     "name": "stdout",
     "output_type": "stream",
     "text": [
      "Train on 99390 samples, validate on 11044 samples\n",
      "Epoch 1/10\n",
      "99390/99390 [==============================] - 7s 69us/step - loss: 0.8532 - acc: 0.7236 - val_loss: 0.5492 - val_acc: 0.8100\n",
      "Epoch 2/10\n",
      "99390/99390 [==============================] - 6s 61us/step - loss: 0.3766 - acc: 0.8669 - val_loss: 0.5189 - val_acc: 0.8247\n",
      "Epoch 3/10\n",
      "99390/99390 [==============================] - 6s 61us/step - loss: 0.2510 - acc: 0.9097 - val_loss: 0.5317 - val_acc: 0.8284\n",
      "Epoch 4/10\n",
      "99390/99390 [==============================] - 6s 61us/step - loss: 0.1730 - acc: 0.9392 - val_loss: 0.5781 - val_acc: 0.8358\n",
      "Epoch 5/10\n",
      "99390/99390 [==============================] - 6s 62us/step - loss: 0.1258 - acc: 0.9568 - val_loss: 0.6297 - val_acc: 0.8328\n",
      "Epoch 6/10\n",
      "99390/99390 [==============================] - 6s 62us/step - loss: 0.0967 - acc: 0.9669 - val_loss: 0.6707 - val_acc: 0.8332\n",
      "Epoch 7/10\n",
      "99390/99390 [==============================] - 6s 61us/step - loss: 0.0804 - acc: 0.9731 - val_loss: 0.6981 - val_acc: 0.8348\n",
      "Epoch 8/10\n",
      "99390/99390 [==============================] - 6s 62us/step - loss: 0.0685 - acc: 0.9776 - val_loss: 0.7630 - val_acc: 0.8337\n",
      "Epoch 9/10\n",
      "99390/99390 [==============================] - 6s 62us/step - loss: 0.0602 - acc: 0.9802 - val_loss: 0.7826 - val_acc: 0.8365\n",
      "Epoch 10/10\n",
      "99390/99390 [==============================] - 6s 62us/step - loss: 0.0542 - acc: 0.9815 - val_loss: 0.7918 - val_acc: 0.8376\n"
     ]
    }
   ],
   "source": [
    "history_base = model_base.fit(x=x_train, y=y_train, validation_data=(x_val, y_val),\n",
    "                   epochs=10, batch_size=256)"
   ]
  },
  {
   "cell_type": "code",
   "execution_count": 18,
   "metadata": {},
   "outputs": [],
   "source": [
    "model_l2 = build_model_l2(256)"
   ]
  },
  {
   "cell_type": "code",
   "execution_count": 19,
   "metadata": {},
   "outputs": [
    {
     "name": "stdout",
     "output_type": "stream",
     "text": [
      "Train on 99390 samples, validate on 11044 samples\n",
      "Epoch 1/10\n",
      "99390/99390 [==============================] - 7s 66us/step - loss: 1.6725 - acc: 0.6546 - val_loss: 1.3757 - val_acc: 0.7274\n",
      "Epoch 2/10\n",
      "99390/99390 [==============================] - 6s 63us/step - loss: 1.3489 - acc: 0.7370 - val_loss: 1.3305 - val_acc: 0.7493\n",
      "Epoch 3/10\n",
      "99390/99390 [==============================] - 6s 63us/step - loss: 1.2838 - acc: 0.7598 - val_loss: 1.2641 - val_acc: 0.7591\n",
      "Epoch 4/10\n",
      "99390/99390 [==============================] - 6s 63us/step - loss: 1.2195 - acc: 0.7742 - val_loss: 1.2243 - val_acc: 0.7724\n",
      "Epoch 5/10\n",
      "99390/99390 [==============================] - 6s 63us/step - loss: 1.1620 - acc: 0.7874 - val_loss: 1.1681 - val_acc: 0.7870\n",
      "Epoch 6/10\n",
      "99390/99390 [==============================] - 6s 63us/step - loss: 1.1031 - acc: 0.7985 - val_loss: 1.1461 - val_acc: 0.7879\n",
      "Epoch 7/10\n",
      "99390/99390 [==============================] - 6s 63us/step - loss: 1.0638 - acc: 0.8053 - val_loss: 1.0991 - val_acc: 0.7924\n",
      "Epoch 8/10\n",
      "99390/99390 [==============================] - 6s 63us/step - loss: 1.0282 - acc: 0.8109 - val_loss: 1.0900 - val_acc: 0.7885\n",
      "Epoch 9/10\n",
      "99390/99390 [==============================] - 6s 64us/step - loss: 1.0005 - acc: 0.8146 - val_loss: 1.0784 - val_acc: 0.7941\n",
      "Epoch 10/10\n",
      "99390/99390 [==============================] - 6s 63us/step - loss: 0.9847 - acc: 0.8190 - val_loss: 1.0609 - val_acc: 0.7976\n"
     ]
    }
   ],
   "source": [
    "history_l2 = model_l2.fit(x=x_train, y=y_train, validation_data=(x_val, y_val),\n",
    "                   epochs=10, batch_size=256)"
   ]
  },
  {
   "cell_type": "code",
   "execution_count": 20,
   "metadata": {},
   "outputs": [],
   "source": [
    "model_dropout = build_model_dropout(256)"
   ]
  },
  {
   "cell_type": "code",
   "execution_count": 21,
   "metadata": {},
   "outputs": [
    {
     "name": "stdout",
     "output_type": "stream",
     "text": [
      "Train on 99390 samples, validate on 11044 samples\n",
      "Epoch 1/10\n",
      "99390/99390 [==============================] - 7s 65us/step - loss: 1.2965 - acc: 0.5907 - val_loss: 0.6065 - val_acc: 0.7944\n",
      "Epoch 2/10\n",
      "99390/99390 [==============================] - 6s 57us/step - loss: 0.6266 - acc: 0.7927 - val_loss: 0.5215 - val_acc: 0.8212\n",
      "Epoch 3/10\n",
      "99390/99390 [==============================] - 6s 57us/step - loss: 0.4866 - acc: 0.8352 - val_loss: 0.4928 - val_acc: 0.8288\n",
      "Epoch 4/10\n",
      "99390/99390 [==============================] - 6s 56us/step - loss: 0.4100 - acc: 0.8604 - val_loss: 0.4927 - val_acc: 0.8337\n",
      "Epoch 5/10\n",
      "99390/99390 [==============================] - 6s 56us/step - loss: 0.3568 - acc: 0.8778 - val_loss: 0.4929 - val_acc: 0.8387\n",
      "Epoch 6/10\n",
      "99390/99390 [==============================] - 6s 56us/step - loss: 0.3140 - acc: 0.8932 - val_loss: 0.4953 - val_acc: 0.8402\n",
      "Epoch 7/10\n",
      "99390/99390 [==============================] - 6s 57us/step - loss: 0.2872 - acc: 0.9031 - val_loss: 0.4965 - val_acc: 0.8434\n",
      "Epoch 8/10\n",
      "99390/99390 [==============================] - 6s 63us/step - loss: 0.2602 - acc: 0.9126 - val_loss: 0.4970 - val_acc: 0.8482\n",
      "Epoch 9/10\n",
      "99390/99390 [==============================] - 6s 56us/step - loss: 0.2385 - acc: 0.9198 - val_loss: 0.5150 - val_acc: 0.8460\n",
      "Epoch 10/10\n",
      "99390/99390 [==============================] - 6s 56us/step - loss: 0.2219 - acc: 0.9253 - val_loss: 0.5204 - val_acc: 0.8489\n"
     ]
    }
   ],
   "source": [
    "history_dropout = model_dropout.fit(x=x_train, y=y_train, validation_data=(x_val, y_val),\n",
    "                   epochs=10, batch_size=256)"
   ]
  },
  {
   "cell_type": "markdown",
   "metadata": {},
   "source": [
    "### Printing The Loss"
   ]
  },
  {
   "cell_type": "code",
   "execution_count": 22,
   "metadata": {},
   "outputs": [],
   "source": [
    "import matplotlib.pyplot as plt\n",
    "\n",
    "%matplotlib inline"
   ]
  },
  {
   "cell_type": "code",
   "execution_count": 23,
   "metadata": {},
   "outputs": [],
   "source": [
    "def chart_loss(history, name):\n",
    "    loss = history.history['loss']\n",
    "    val_loss = history.history['val_loss']\n",
    "\n",
    "    epochs = range(1, len(loss) + 1)\n",
    "\n",
    "    plt.plot(epochs, loss, 'b+', label='Training Loss')\n",
    "    plt.plot(epochs, val_loss, 'b', label='Validation Loss')\n",
    "    plt.title('Training and validation loss {}'.format(name))\n",
    "    plt.xlabel('Epochs')\n",
    "    plt.ylabel('Loss')\n",
    "    plt.yticks(np.arange(0,2.2, step=0.2))\n",
    "    plt.xticks(epochs)\n",
    "    plt.legend()\n",
    "    plt.show()"
   ]
  },
  {
   "cell_type": "code",
   "execution_count": 24,
   "metadata": {},
   "outputs": [
    {
     "data": {
      "image/png": "[encoded data removed]",
      "text/plain": [
       "<Figure size 432x288 with 1 Axes>"
      ]
     },
     "metadata": {},
     "output_type": "display_data"
    },
    {
     "data": {
      "image/png": "[encoded data removed]",
      "text/plain": [
       "<Figure size 432x288 with 1 Axes>"
      ]
     },
     "metadata": {},
     "output_type": "display_data"
    },
    {
     "data": {
      "image/png": "[encoded data removed]",
      "text/plain": [
       "<Figure size 432x288 with 1 Axes>"
      ]
     },
     "metadata": {},
     "output_type": "display_data"
    }
   ],
   "source": [
    "chart_loss(history_base, 'Base')\n",
    "chart_loss(history_l2, 'L2')\n",
    "chart_loss(history_dropout, 'Dropout')"
   ]
  },
  {
   "cell_type": "markdown",
   "metadata": {},
   "source": [
    "From the charts we can see that: \n",
    "- the model with l2 regularization is able to avoid overfitting during the training. \n",
    "- the model that uses dropout (0.5) has a lower loss with respect to l2 while combatting overfitting"
   ]
  },
  {
   "cell_type": "code",
   "execution_count": 25,
   "metadata": {},
   "outputs": [],
   "source": [
    "def chart_acc(history, name):\n",
    "    acc = history.history['acc']\n",
    "    val_acc = history.history['val_acc']\n",
    "\n",
    "    epochs = range(1, len(acc) + 1)\n",
    "\n",
    "    plt.plot(epochs, acc, 'b+', label='Training Acc')\n",
    "    plt.plot(epochs, val_acc, 'b', label='Validation Acc')\n",
    "    plt.title('Training and validation acc {}'.format(name))\n",
    "    plt.xlabel('Epochs')\n",
    "    plt.ylabel('Accuray')\n",
    "    plt.yticks(np.arange(0.5,1.05, step=0.05))\n",
    "    plt.xticks(epochs)\n",
    "    plt.legend()\n",
    "    plt.show()"
   ]
  },
  {
   "cell_type": "code",
   "execution_count": 26,
   "metadata": {},
   "outputs": [
    {
     "data": {
      "image/png": "[encoded data removed]",
      "text/plain": [
       "<Figure size 432x288 with 1 Axes>"
      ]
     },
     "metadata": {},
     "output_type": "display_data"
    },
    {
     "data": {
      "image/png": "[encoded data removed]",
      "text/plain": [
       "<Figure size 432x288 with 1 Axes>"
      ]
     },
     "metadata": {},
     "output_type": "display_data"
    },
    {
     "data": {
      "image/png": "[encoded data removed]",
      "text/plain": [
       "<Figure size 432x288 with 1 Axes>"
      ]
     },
     "metadata": {},
     "output_type": "display_data"
    }
   ],
   "source": [
    "chart_acc(history_base, 'Base')\n",
    "chart_acc(history_l2, 'L2')\n",
    "chart_acc(history_dropout, 'Dropout')"
   ]
  },
  {
   "cell_type": "markdown",
   "metadata": {},
   "source": [
    "From the chart above we can see that the best model is the model that uses dropout, while the best epoch is the 6 where the validation accuracy crosses the training accuracy"
   ]
  },
  {
   "cell_type": "code",
   "execution_count": 27,
   "metadata": {},
   "outputs": [],
   "source": [
    "def compare_loss(histories):\n",
    "    epochs = range(1, len(list(histories.values())[0].history['val_loss']) + 1)\n",
    "\n",
    "    for i, history in histories.items():\n",
    "        val_loss = history.history['val_loss']\n",
    "        plt.plot(epochs, val_loss, label='Validation Loss {}'.format(i))\n",
    "            \n",
    "    plt.xlabel('Epochs')\n",
    "    plt.ylabel('Loss')\n",
    "    plt.legend()\n",
    "    plt.show()"
   ]
  },
  {
   "cell_type": "code",
   "execution_count": 28,
   "metadata": {},
   "outputs": [
    {
     "data": {
      "image/png": "[encoded data removed]",
      "text/plain": [
       "<Figure size 432x288 with 1 Axes>"
      ]
     },
     "metadata": {},
     "output_type": "display_data"
    }
   ],
   "source": [
    "compare_loss({'Base': history_base, 'L2': history_l2, 'Dropout': history_dropout})"
   ]
  },
  {
   "cell_type": "code",
   "execution_count": 29,
   "metadata": {},
   "outputs": [],
   "source": [
    "def compare_accuracy(histories):\n",
    "    epochs = range(1, len(list(histories.values())[0].history['val_acc']) + 1)\n",
    "\n",
    "    for i, history in histories.items():\n",
    "        val_loss = history.history['val_acc']\n",
    "        plt.plot(epochs, val_loss, label='Validation Accuracy {}'.format(i))\n",
    "            \n",
    "    plt.xlabel('Epochs')\n",
    "    plt.ylabel('Accuracy')\n",
    "    plt.legend()\n",
    "    plt.show()"
   ]
  },
  {
   "cell_type": "code",
   "execution_count": 30,
   "metadata": {},
   "outputs": [
    {
     "data": {
      "image/png": "[encoded data removed]",
      "text/plain": [
       "<Figure size 432x288 with 1 Axes>"
      ]
     },
     "metadata": {},
     "output_type": "display_data"
    }
   ],
   "source": [
    "compare_accuracy({'Base': history_base, 'L2': history_l2, 'Dropout': history_dropout})"
   ]
  },
  {
   "cell_type": "code",
   "execution_count": 31,
   "metadata": {},
   "outputs": [],
   "source": [
    "def min_loss(history):\n",
    "    val_loss = history.history['val_loss'] \n",
    "    return np.argmin(val_loss) + 1   \n",
    "\n",
    "def accuracy(history, epoch):\n",
    "    val_acc = history.history['val_acc']\n",
    "    return val_acc[epoch-1]"
   ]
  },
  {
   "cell_type": "code",
   "execution_count": 32,
   "metadata": {},
   "outputs": [
    {
     "name": "stdout",
     "output_type": "stream",
     "text": [
      "min loss for model base is 2\n",
      "min loss for model L2 is 10\n",
      "min loss for model Dropout is 4\n"
     ]
    }
   ],
   "source": [
    "print('min loss for model base is {}'.format(min_loss(history_base)))\n",
    "print('min loss for model L2 is {}'.format(min_loss(history_l2)))\n",
    "print('min loss for model Dropout is {}'.format(min_loss(history_dropout)))"
   ]
  },
  {
   "cell_type": "code",
   "execution_count": 33,
   "metadata": {},
   "outputs": [
    {
     "name": "stdout",
     "output_type": "stream",
     "text": [
      "best validation accuracy for model base 0.8247011952622997\n",
      "best validation accuracy for model L2 0.7976276712199994\n",
      "best validation accuracy for model Dropout 0.8336653386238303\n"
     ]
    }
   ],
   "source": [
    "print('best validation accuracy for model base {}'.format(\n",
    "    accuracy(history_base, min_loss(history_base))))\n",
    "print('best validation accuracy for model L2 {}'.format(\n",
    "    accuracy(history_l2, min_loss(history_l2))))\n",
    "print('best validation accuracy for model Dropout {}'.format(\n",
    "    accuracy(history_dropout, min_loss(history_dropout))))"
   ]
  },
  {
   "cell_type": "markdown",
   "metadata": {},
   "source": [
    "### Evaluate on the Test Set\n",
    "\n",
    "- train the best model for the best epochs"
   ]
  },
  {
   "cell_type": "code",
   "execution_count": 34,
   "metadata": {},
   "outputs": [
    {
     "data": {
      "text/plain": [
       "16413"
      ]
     },
     "execution_count": 34,
     "metadata": {},
     "output_type": "execute_result"
    }
   ],
   "source": [
    "import gc\n",
    "gc.collect()"
   ]
  },
  {
   "cell_type": "code",
   "execution_count": 40,
   "metadata": {},
   "outputs": [],
   "source": [
    "model = build_model_dropout(256)"
   ]
  },
  {
   "cell_type": "code",
   "execution_count": 41,
   "metadata": {},
   "outputs": [
    {
     "name": "stdout",
     "output_type": "stream",
     "text": [
      "Epoch 1/6\n",
      "110434/110434 [==============================] - 7s 64us/step - loss: 1.2402 - acc: 0.6046\n",
      "Epoch 2/6\n",
      "110434/110434 [==============================] - 7s 61us/step - loss: 0.6156 - acc: 0.7942\n",
      "Epoch 3/6\n",
      "110434/110434 [==============================] - 7s 61us/step - loss: 0.4837 - acc: 0.8365\n",
      "Epoch 4/6\n",
      "110434/110434 [==============================] - 7s 61us/step - loss: 0.4078 - acc: 0.8617\n",
      "Epoch 5/6\n",
      "110434/110434 [==============================] - 7s 62us/step - loss: 0.3544 - acc: 0.8795\n",
      "Epoch 6/6\n",
      "110434/110434 [==============================] - 7s 62us/step - loss: 0.3175 - acc: 0.8919\n"
     ]
    }
   ],
   "source": [
    "history = model.fit(x=np.concatenate([x_train, x_val]), y=np.concatenate([y_train, y_val]), epochs=6, batch_size=256)"
   ]
  },
  {
   "cell_type": "code",
   "execution_count": 42,
   "metadata": {},
   "outputs": [
    {
     "name": "stdout",
     "output_type": "stream",
     "text": [
      "27609/27609 [==============================] - 1s 48us/step\n"
     ]
    }
   ],
   "source": [
    "loss, acc = model.evaluate(x_test, y_test)"
   ]
  },
  {
   "cell_type": "code",
   "execution_count": 43,
   "metadata": {},
   "outputs": [
    {
     "name": "stdout",
     "output_type": "stream",
     "text": [
      "loss 0.47449750354329817\n",
      "acc 0.843529283939948\n"
     ]
    }
   ],
   "source": [
    "print('loss {}'.format(loss))\n",
    "print('acc {}'.format(acc))"
   ]
  },
  {
   "cell_type": "markdown",
   "metadata": {},
   "source": [
    "## Conclusion\n",
    "\n",
    "As recap we can see that using regularization, in particular dropout, the accuracy grows from 0.83 to 0.84."
   ]
  }
 ],
 "metadata": {
  "kernelspec": {
   "display_name": "Python 3",
   "language": "python",
   "name": "python3"
  },
  "language_info": {
   "codemirror_mode": {
    "name": "ipython",
    "version": 3
   },
   "file_extension": ".py",
   "mimetype": "text/x-python",
   "name": "python",
   "nbconvert_exporter": "python",
   "pygments_lexer": "ipython3",
   "version": "3.6.5"
  }
 },
 "nbformat": 4,
 "nbformat_minor": 2
}
