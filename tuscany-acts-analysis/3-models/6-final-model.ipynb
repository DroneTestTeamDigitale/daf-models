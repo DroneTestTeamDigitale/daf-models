{
 "cells": [
  {
   "cell_type": "code",
   "execution_count": 1,
   "metadata": {},
   "outputs": [
    {
     "name": "stdout",
     "output_type": "stream",
     "text": [
      "[nltk_data] Downloading package stopwords to /home/fabio/nltk_data...\n",
      "[nltk_data]   Package stopwords is already up-to-date!\n",
      "[nltk_data] Downloading package punkt to /home/fabio/nltk_data...\n",
      "[nltk_data]   Package punkt is already up-to-date!\n"
     ]
    },
    {
     "name": "stderr",
     "output_type": "stream",
     "text": [
      "Using TensorFlow backend.\n"
     ]
    }
   ],
   "source": [
    "import numpy as np\n",
    "import random\n",
    "from dataset import atti_dirigenti\n",
    "\n",
    "from keras import layers, models, optimizers, utils, metrics\n",
    "from keras.callbacks import *\n",
    "from keras.wrappers.scikit_learn import KerasClassifier\n",
    "from keras.models import load_model\n",
    "from sklearn.model_selection import RandomizedSearchCV, GridSearchCV\n",
    "\n",
    "from scipy import stats"
   ]
  },
  {
   "cell_type": "code",
   "execution_count": 2,
   "metadata": {},
   "outputs": [],
   "source": [
    "(x_train, y_train),(x_val, y_val), (x_test, y_test) = atti_dirigenti.load_data(num_words=50000, remove_stopwords=True)"
   ]
  },
  {
   "cell_type": "code",
   "execution_count": 3,
   "metadata": {},
   "outputs": [
    {
     "data": {
      "text/plain": [
       "array([ list([315, 188, 1180, 963, 250, 177, 19935, 1379, 180, 192, 131, 452, 398, 1128, 36, 191, 729]),\n",
       "       list([34, 234, 164, 54, 35, 1677, 337, 1922, 175, 189, 105, 166, 493, 60, 4557, 109, 4403, 1855, 936, 142, 2723, 118, 173, 502, 21, 40]),\n",
       "       list([674, 36, 273, 180, 192, 131, 43353, 452, 398, 22365, 1538]),\n",
       "       list([93, 313, 561, 448, 639, 223, 266, 254, 1291, 2802, 36, 21, 40]),\n",
       "       list([23, 612, 371, 770, 879, 371, 218, 2155, 1868, 68, 22, 217, 322, 451, 60, 1590, 109, 84, 149, 26, 43, 48, 48, 2903, 5544, 713, 1186, 621, 51, 822, 561, 29775, 3917, 12745, 621, 561, 340, 347, 399, 149])], dtype=object)"
      ]
     },
     "execution_count": 3,
     "metadata": {},
     "output_type": "execute_result"
    }
   ],
   "source": [
    "x_train[:5]"
   ]
  },
  {
   "cell_type": "code",
   "execution_count": 4,
   "metadata": {},
   "outputs": [
    {
     "data": {
      "text/plain": [
       "20"
      ]
     },
     "execution_count": 4,
     "metadata": {},
     "output_type": "execute_result"
    }
   ],
   "source": [
    "label_index = atti_dirigenti.get_labels()\n",
    "len(label_index)"
   ]
  },
  {
   "cell_type": "code",
   "execution_count": 5,
   "metadata": {},
   "outputs": [],
   "source": [
    "num_classes = len(label_index)"
   ]
  },
  {
   "cell_type": "code",
   "execution_count": 6,
   "metadata": {},
   "outputs": [],
   "source": [
    "def max_index(data):\n",
    "    return max(data.max())"
   ]
  },
  {
   "cell_type": "code",
   "execution_count": 7,
   "metadata": {
    "scrolled": true
   },
   "outputs": [],
   "source": [
    "max_idx = max([max_index(x_train), max_index(x_val), max_index(x_test)]) + 11"
   ]
  },
  {
   "cell_type": "code",
   "execution_count": 8,
   "metadata": {},
   "outputs": [
    {
     "data": {
      "text/plain": [
       "50167"
      ]
     },
     "execution_count": 8,
     "metadata": {},
     "output_type": "execute_result"
    }
   ],
   "source": [
    "max_idx"
   ]
  },
  {
   "cell_type": "code",
   "execution_count": 9,
   "metadata": {},
   "outputs": [],
   "source": [
    "num_features = max_idx "
   ]
  },
  {
   "cell_type": "code",
   "execution_count": 10,
   "metadata": {},
   "outputs": [],
   "source": [
    "def vectorize_sequences(sequences, dimension=10000):\n",
    "    results = np.zeros((len(sequences), dimension))\n",
    "    for i, sequence in enumerate(sequences):\n",
    "        results[i, sequence] = 1.\n",
    "    return results"
   ]
  },
  {
   "cell_type": "code",
   "execution_count": 11,
   "metadata": {},
   "outputs": [],
   "source": [
    "def vectorize_sequences_generator(sequences, dimension, batch_size):\n",
    "    num_batches = len(sequences) // batch_size\n",
    "    \n",
    "    i=0\n",
    "    while True:\n",
    "        # to be sure don't go over the size of the dataset\n",
    "        n = i % num_batches\n",
    "        i +=1\n",
    "        if (n+1) * batch_size < len(sequences):\n",
    "            yield vectorize_sequences(sequences[n*batch_size : (n+1)*batch_size], dimension)\n",
    "        else:\n",
    "            yield vectorize_sequences(sequences[n*batch_size : len(sequences)], dimension)"
   ]
  },
  {
   "cell_type": "markdown",
   "metadata": {},
   "source": [
    "#### Evaluate if works"
   ]
  },
  {
   "cell_type": "code",
   "execution_count": 12,
   "metadata": {
    "scrolled": true
   },
   "outputs": [
    {
     "name": "stdout",
     "output_type": "stream",
     "text": [
      "26\n",
      "28\n",
      "26\n",
      "23\n",
      "24\n",
      "21\n",
      "22\n",
      "28\n",
      "10\n",
      "41\n"
     ]
    }
   ],
   "source": [
    "batch_size = 256\n",
    "steps_per_epoch = len(x_train) // batch_size\n",
    "\n",
    "i = 0\n",
    "for batch in vectorize_sequences_generator(x_train, num_features, batch_size):\n",
    "    print(np.argmax(batch[-1]))\n",
    "    i+=1\n",
    "    \n",
    "    if i == 10:\n",
    "        break\n",
    "    "
   ]
  },
  {
   "cell_type": "code",
   "execution_count": 13,
   "metadata": {},
   "outputs": [],
   "source": [
    "batch_size = 256"
   ]
  },
  {
   "cell_type": "code",
   "execution_count": 14,
   "metadata": {},
   "outputs": [],
   "source": [
    "def to_one_hot(labels, num_classes):\n",
    "    results = np.zeros((len(labels), num_classes), dtype=np.float16)\n",
    "    for i, label in enumerate(labels):\n",
    "        results[i, label] = 1.\n",
    "    return results"
   ]
  },
  {
   "cell_type": "code",
   "execution_count": 15,
   "metadata": {},
   "outputs": [],
   "source": [
    "def to_one_hot_generator(labels, batch_size, num_classes):\n",
    "    num_batches = len(labels) // batch_size\n",
    "    num_classes = len(set(labels))\n",
    "    \n",
    "    i = 0\n",
    "    while True:\n",
    "        n = i % num_batches\n",
    "        i += 1\n",
    "        if (n+1) * batch_size < len(labels):\n",
    "            yield to_one_hot(labels[n*batch_size : (n+1)*batch_size], num_classes)\n",
    "        else:\n",
    "            yield to_one_hot(labels[n*batch_size : len(labels)], num_classes)\n",
    "        "
   ]
  },
  {
   "cell_type": "code",
   "execution_count": 16,
   "metadata": {},
   "outputs": [
    {
     "name": "stdout",
     "output_type": "stream",
     "text": [
      "19\n",
      "5\n",
      "19\n",
      "5\n",
      "16\n",
      "5\n",
      "16\n",
      "16\n",
      "8\n",
      "11\n"
     ]
    }
   ],
   "source": [
    "batch_size = 256\n",
    "steps_per_epoch = len(y_train) // batch_size\n",
    "\n",
    "i = 0\n",
    "for batch in to_one_hot_generator(y_train, batch_size, num_classes):\n",
    "    for v in batch[:10]:\n",
    "        print(np.argmax(v))\n",
    "    break\n",
    "\n",
    "    "
   ]
  },
  {
   "cell_type": "code",
   "execution_count": 17,
   "metadata": {},
   "outputs": [
    {
     "data": {
      "text/plain": [
       "array([19,  5, 19,  5, 16,  5, 16, 16,  8, 11])"
      ]
     },
     "execution_count": 17,
     "metadata": {},
     "output_type": "execute_result"
    }
   ],
   "source": [
    "y_train[:10]"
   ]
  },
  {
   "cell_type": "code",
   "execution_count": 18,
   "metadata": {},
   "outputs": [],
   "source": [
    "def data_generator(data, labels, batch_size, num_features, num_classes):\n",
    "    x_generator = vectorize_sequences_generator(data, num_features, batch_size)\n",
    "    y_generator = to_one_hot_generator(labels, batch_size, num_classes)\n",
    "    \n",
    "    while True:\n",
    "        yield next(x_generator), next(y_generator)"
   ]
  },
  {
   "cell_type": "code",
   "execution_count": 19,
   "metadata": {},
   "outputs": [
    {
     "name": "stdout",
     "output_type": "stream",
     "text": [
      "(256, 50167) (256, 20)\n"
     ]
    }
   ],
   "source": [
    "for x_batch, y_batch in data_generator(x_train, y_train, 256, num_features, num_classes):\n",
    "    print(x_batch.shape, y_batch.shape)\n",
    "    break"
   ]
  },
  {
   "cell_type": "code",
   "execution_count": 20,
   "metadata": {},
   "outputs": [],
   "source": [
    "train_generator = data_generator(x_train, y_train, batch_size, num_features, num_classes)\n",
    "val_generator = data_generator(x_val, y_val, batch_size, num_features, num_classes)\n",
    "test_generator = data_generator(x_test, y_test, batch_size, num_features, num_classes)"
   ]
  },
  {
   "cell_type": "code",
   "execution_count": 21,
   "metadata": {},
   "outputs": [],
   "source": [
    "x_all = np.concatenate([x_train, x_val, x_test])\n",
    "y_all = np.concatenate([y_train, y_val, y_test])"
   ]
  },
  {
   "cell_type": "code",
   "execution_count": 22,
   "metadata": {},
   "outputs": [],
   "source": [
    "all_generator = data_generator(x_all, y_all, batch_size, num_features, num_classes)"
   ]
  },
  {
   "cell_type": "markdown",
   "metadata": {},
   "source": [
    "### Build the Model"
   ]
  },
  {
   "cell_type": "code",
   "execution_count": 23,
   "metadata": {},
   "outputs": [],
   "source": [
    "def build_model(neurons, dropout, num_features, num_classes, activation='relu', init_mode='glorot_uniform'):\n",
    "    input_tensor = layers.Input(shape=(num_features,))\n",
    "    first_layer = True\n",
    "    for n in neurons:\n",
    "        if first_layer:\n",
    "            first_layer = False\n",
    "            l = layers.Dense(n, activation=activation, kernel_initializer=init_mode)(input_tensor)\n",
    "            l = layers.Dropout(dropout)(l)\n",
    "        else:\n",
    "            l_next = layers.Dense(n, activation=activation, kernel_initializer=init_mode)(l)\n",
    "            l_next = layers.Dropout(dropout)(l_next)\n",
    "            l = l_next\n",
    "    last_layer = layers.Dense(num_classes, activation='softmax')(l)\n",
    "    model = models.Model(inputs = [input_tensor], outputs = [last_layer])\n",
    "    \n",
    "    model.compile(loss='categorical_crossentropy', optimizer= 'Adam', metrics=['accuracy'])\n",
    "    return model"
   ]
  },
  {
   "cell_type": "markdown",
   "metadata": {},
   "source": [
    "### Define the Callback"
   ]
  },
  {
   "cell_type": "code",
   "execution_count": 24,
   "metadata": {},
   "outputs": [
    {
     "name": "stdout",
     "output_type": "stream",
     "text": [
      "mkdir: cannot create directory ‘checkpoints’: File exists\r\n"
     ]
    }
   ],
   "source": [
    "!mkdir checkpoints"
   ]
  },
  {
   "cell_type": "code",
   "execution_count": 25,
   "metadata": {},
   "outputs": [],
   "source": [
    "model_path = './checkpoints/weights.{epoch:02d}-{loss:.2f}.hdf5'"
   ]
  },
  {
   "cell_type": "code",
   "execution_count": 26,
   "metadata": {},
   "outputs": [
    {
     "name": "stdout",
     "output_type": "stream",
     "text": [
      "WARNING:tensorflow:From /home/fabio/miniconda3/envs/dl/lib/python3.6/site-packages/tensorflow/contrib/learn/python/learn/datasets/base.py:198: retry (from tensorflow.contrib.learn.python.learn.datasets.base) is deprecated and will be removed in a future version.\n",
      "Instructions for updating:\n",
      "Use the retry module or similar alternatives.\n"
     ]
    }
   ],
   "source": [
    "train_callbacks = [\n",
    "    ModelCheckpoint(model_path, verbose=1, save_best_only=True, monitor='loss'),\n",
    "    ReduceLROnPlateau(patience=2, verbose=1, monitor='loss')\n",
    "]\n",
    "\n",
    "\n",
    "callbacks = [\n",
    "    ModelCheckpoint(model_path, save_best_only=True),\n",
    "    ReduceLROnPlateau(patience=2, verbose=1),\n",
    "    TensorBoard(log_dir='./logs', histogram_freq=1, batch_size=batch_size, write_graph=True, write_images=True)\n",
    "]\n"
   ]
  },
  {
   "cell_type": "code",
   "execution_count": 27,
   "metadata": {},
   "outputs": [
    {
     "name": "stdout",
     "output_type": "stream",
     "text": [
      "_________________________________________________________________\n",
      "Layer (type)                 Output Shape              Param #   \n",
      "=================================================================\n",
      "input_1 (InputLayer)         (None, 50167)             0         \n",
      "_________________________________________________________________\n",
      "dense_1 (Dense)              (None, 128)               6421504   \n",
      "_________________________________________________________________\n",
      "dropout_1 (Dropout)          (None, 128)               0         \n",
      "_________________________________________________________________\n",
      "dense_2 (Dense)              (None, 128)               16512     \n",
      "_________________________________________________________________\n",
      "dropout_2 (Dropout)          (None, 128)               0         \n",
      "_________________________________________________________________\n",
      "dense_3 (Dense)              (None, 20)                2580      \n",
      "=================================================================\n",
      "Total params: 6,440,596\n",
      "Trainable params: 6,440,596\n",
      "Non-trainable params: 0\n",
      "_________________________________________________________________\n"
     ]
    }
   ],
   "source": [
    "test_model = build_model([128,128], 0.3, num_features, len(label_index), activation='tanh')\n",
    "test_model.summary()"
   ]
  },
  {
   "cell_type": "code",
   "execution_count": 28,
   "metadata": {
    "scrolled": false
   },
   "outputs": [
    {
     "name": "stdout",
     "output_type": "stream",
     "text": [
      "Epoch 1/3\n",
      "388/388 [==============================] - 20s 52ms/step - loss: 0.9342 - acc: 0.7187\n",
      "\n",
      "Epoch 00001: loss improved from inf to 0.93425, saving model to ./checkpoints/weights.01-0.93.hdf5\n",
      "Epoch 2/3\n",
      "388/388 [==============================] - 20s 50ms/step - loss: 0.4554 - acc: 0.8448\n",
      "\n",
      "Epoch 00002: loss improved from 0.93425 to 0.45541, saving model to ./checkpoints/weights.02-0.46.hdf5\n",
      "Epoch 3/3\n",
      "388/388 [==============================] - 20s 51ms/step - loss: 0.3347 - acc: 0.8838\n",
      "\n",
      "Epoch 00003: loss improved from 0.45541 to 0.33473, saving model to ./checkpoints/weights.03-0.33.hdf5\n"
     ]
    }
   ],
   "source": [
    "train_steps = len(x_train) // batch_size\n",
    "val_steps = len(x_val) // batch_size\n",
    "\n",
    "history = test_model.fit_generator(all_generator, steps_per_epoch=train_steps, epochs=3, callbacks=train_callbacks)"
   ]
  },
  {
   "cell_type": "markdown",
   "metadata": {},
   "source": [
    "## Load Model"
   ]
  },
  {
   "cell_type": "code",
   "execution_count": 29,
   "metadata": {},
   "outputs": [],
   "source": [
    "del test_model"
   ]
  },
  {
   "cell_type": "code",
   "execution_count": 30,
   "metadata": {},
   "outputs": [],
   "source": [
    "test_model = models.load_model('./checkpoints/weights.03-0.33.hdf5')"
   ]
  },
  {
   "cell_type": "code",
   "execution_count": 31,
   "metadata": {},
   "outputs": [
    {
     "name": "stdout",
     "output_type": "stream",
     "text": [
      "loss 0.19035246379153672, acc 0.9348655523255814\n"
     ]
    }
   ],
   "source": [
    "test_steps = len(x_test) // batch_size\n",
    "\n",
    "loss, acc = test_model.evaluate_generator(test_generator, steps=val_steps)\n",
    "print('loss {}, acc {}'.format(loss,acc))"
   ]
  }
 ],
 "metadata": {
  "kernelspec": {
   "display_name": "Python 3",
   "language": "python",
   "name": "python3"
  },
  "language_info": {
   "codemirror_mode": {
    "name": "ipython",
    "version": 3
   },
   "file_extension": ".py",
   "mimetype": "text/x-python",
   "name": "python",
   "nbconvert_exporter": "python",
   "pygments_lexer": "ipython3",
   "version": "3.6.5"
  }
 },
 "nbformat": 4,
 "nbformat_minor": 2
}
