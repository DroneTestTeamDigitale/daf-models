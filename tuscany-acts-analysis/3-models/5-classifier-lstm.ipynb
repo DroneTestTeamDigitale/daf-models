{
 "cells": [
  {
   "cell_type": "code",
   "execution_count": 2,
   "metadata": {},
   "outputs": [
    {
     "name": "stderr",
     "output_type": "stream",
     "text": [
      "Using TensorFlow backend.\n"
     ]
    }
   ],
   "source": [
    "import numpy as np\n",
    "import pandas as pd\n",
    "import pickle\n",
    "\n",
    "from keras import models\n",
    "from keras import layers\n",
    "from keras import optimizers\n",
    "from keras import losses\n",
    "from keras import activations\n",
    "from keras import metrics\n",
    "from keras import regularizers\n",
    "from keras.callbacks import *\n",
    "\n",
    "import tensorflow as tf\n",
    "\n",
    "import math\n",
    "\n",
    "import random\n",
    "\n",
    "# to make the experimens replicable\n",
    "random.seed(123456)"
   ]
  },
  {
   "cell_type": "markdown",
   "metadata": {},
   "source": [
    "## Important\n",
    "\n",
    "as first step run the notebook `1. classification-dataset-creation.ipynb` to create the dataset."
   ]
  },
  {
   "cell_type": "code",
   "execution_count": 3,
   "metadata": {},
   "outputs": [],
   "source": [
    "dataset_path = '../data/dataset-dirigenti-split.pkl'\n",
    "\n",
    "with open(dataset_path, 'rb') as f:\n",
    "    train_samples, train_labels, val_samples, val_labels, test_samples, test_labels = pickle.load(f)"
   ]
  },
  {
   "cell_type": "markdown",
   "metadata": {},
   "source": [
    "## Tokenize the Dataset"
   ]
  },
  {
   "cell_type": "code",
   "execution_count": 4,
   "metadata": {},
   "outputs": [
    {
     "data": {
      "text/plain": [
       "(138043,)"
      ]
     },
     "execution_count": 4,
     "metadata": {},
     "output_type": "execute_result"
    }
   ],
   "source": [
    "samples = np.concatenate([train_samples,val_samples, test_samples])\n",
    "samples.shape"
   ]
  },
  {
   "cell_type": "code",
   "execution_count": 5,
   "metadata": {},
   "outputs": [
    {
     "data": {
      "text/plain": [
       "(138043,)"
      ]
     },
     "execution_count": 5,
     "metadata": {},
     "output_type": "execute_result"
    }
   ],
   "source": [
    "labels = np.concatenate([train_labels, val_labels, test_labels])\n",
    "labels.shape"
   ]
  },
  {
   "cell_type": "code",
   "execution_count": 6,
   "metadata": {},
   "outputs": [],
   "source": [
    "max_features = 10000"
   ]
  },
  {
   "cell_type": "code",
   "execution_count": 7,
   "metadata": {},
   "outputs": [],
   "source": [
    "from keras.preprocessing.text import Tokenizer"
   ]
  },
  {
   "cell_type": "code",
   "execution_count": 8,
   "metadata": {},
   "outputs": [],
   "source": [
    "tokenizer = Tokenizer(num_words=max_features)\n",
    "tokenizer.fit_on_texts(samples)"
   ]
  },
  {
   "cell_type": "code",
   "execution_count": 9,
   "metadata": {},
   "outputs": [],
   "source": [
    "with open('id_word.tsv','w') as f:\n",
    "    for word, ids in tokenizer.word_index.items():\n",
    "        f.write('{}\\t{}\\n'.format(ids,word))"
   ]
  },
  {
   "cell_type": "code",
   "execution_count": 10,
   "metadata": {},
   "outputs": [],
   "source": [
    "train_sequences = tokenizer.texts_to_sequences(train_samples)\n",
    "val_sequences = tokenizer.texts_to_sequences(val_samples)\n",
    "test_sequences = tokenizer.texts_to_sequences(test_samples)"
   ]
  },
  {
   "cell_type": "code",
   "execution_count": 11,
   "metadata": {},
   "outputs": [
    {
     "name": "stdout",
     "output_type": "stream",
     "text": [
      "[2345, 1617, 3926, 7, 180, 98, 961, 2298, 1, 5495, 3735, 264, 1414, 4, 12, 567, 21, 264, 2020]\n",
      "[203, 56, 14, 1, 235, 461, 925, 1726, 2, 1742, 4, 506, 1, 221, 24, 353, 248, 4, 707, 8, 878, 9, 140, 6593, 20, 27, 8, 6239, 982, 4698, 350]\n"
     ]
    }
   ],
   "source": [
    "for s in test_sequences[:2]:\n",
    "    print(s) "
   ]
  },
  {
   "cell_type": "markdown",
   "metadata": {},
   "source": [
    "Convert labels to ids"
   ]
  },
  {
   "cell_type": "code",
   "execution_count": 12,
   "metadata": {},
   "outputs": [],
   "source": [
    "index_to_labels = dict(enumerate(set(labels)))\n",
    "labels_to_index = {v:k for k,v in index_to_labels.items()}"
   ]
  },
  {
   "cell_type": "code",
   "execution_count": 13,
   "metadata": {},
   "outputs": [
    {
     "data": {
      "text/plain": [
       "[('01943', 0),\n",
       " ('DIREZIONE GENERALE POLITICHE TERRITORIALI E AMBIENTALI', 1),\n",
       " ('DIREZIONE ORGANIZZAZIONE E SISTEMI INFORMATIVI', 2),\n",
       " ('DIREZIONE GENERALE DIRITTO ALLA SALUTE E POLITICHE DI ', 3),\n",
       " ('01946', 4)]"
      ]
     },
     "execution_count": 13,
     "metadata": {},
     "output_type": "execute_result"
    }
   ],
   "source": [
    "list(labels_to_index.items())[:5]"
   ]
  },
  {
   "cell_type": "code",
   "execution_count": 14,
   "metadata": {},
   "outputs": [
    {
     "data": {
      "text/plain": [
       "20"
      ]
     },
     "execution_count": 14,
     "metadata": {},
     "output_type": "execute_result"
    }
   ],
   "source": [
    "len(labels_to_index)"
   ]
  },
  {
   "cell_type": "code",
   "execution_count": 15,
   "metadata": {},
   "outputs": [],
   "source": [
    "encoded_train_labels = [labels_to_index[l] for l in train_labels]\n",
    "encoded_val_labels = [labels_to_index[l] for l in val_labels]\n",
    "encoded_test_labels = [labels_to_index[l] for l in test_labels]"
   ]
  },
  {
   "cell_type": "code",
   "execution_count": 16,
   "metadata": {},
   "outputs": [
    {
     "data": {
      "text/plain": [
       "[0, 12, 1, 1, 9, 15, 2, 16, 19, 18]"
      ]
     },
     "execution_count": 16,
     "metadata": {},
     "output_type": "execute_result"
    }
   ],
   "source": [
    "encoded_train_labels[:10]"
   ]
  },
  {
   "cell_type": "markdown",
   "metadata": {},
   "source": [
    "### Preparing Data\n",
    "\n",
    "- for the input data we pad the sequence to a max length in order to make uniform the sequences.\n",
    "- for the labels we continue with one-hot encoding\n"
   ]
  },
  {
   "cell_type": "code",
   "execution_count": 17,
   "metadata": {},
   "outputs": [],
   "source": [
    "from keras.preprocessing import sequence"
   ]
  },
  {
   "cell_type": "code",
   "execution_count": 18,
   "metadata": {},
   "outputs": [
    {
     "name": "stdout",
     "output_type": "stream",
     "text": [
      "max length of objects 150\n"
     ]
    }
   ],
   "source": [
    "print('max length of objects {}'.format(max(map(len, train_sequences))))"
   ]
  },
  {
   "cell_type": "markdown",
   "metadata": {},
   "source": [
    "#### Maximum Sequence Length\n",
    "\n",
    "for initial test we use the first 100 words"
   ]
  },
  {
   "cell_type": "code",
   "execution_count": 19,
   "metadata": {},
   "outputs": [],
   "source": [
    "maxlen = 150"
   ]
  },
  {
   "cell_type": "code",
   "execution_count": 20,
   "metadata": {},
   "outputs": [],
   "source": [
    "x_train_pad = sequence.pad_sequences(train_sequences, maxlen=maxlen)\n",
    "x_val_pad = sequence.pad_sequences(val_sequences, maxlen=maxlen)\n",
    "x_test_pad = sequence.pad_sequences(test_sequences, maxlen=maxlen)"
   ]
  },
  {
   "cell_type": "code",
   "execution_count": 21,
   "metadata": {
    "scrolled": false
   },
   "outputs": [
    {
     "data": {
      "text/plain": [
       "(99390, 150)"
      ]
     },
     "execution_count": 21,
     "metadata": {},
     "output_type": "execute_result"
    }
   ],
   "source": [
    "x_train_pad.shape"
   ]
  },
  {
   "cell_type": "markdown",
   "metadata": {},
   "source": [
    "One-hot encoding for input"
   ]
  },
  {
   "cell_type": "code",
   "execution_count": 22,
   "metadata": {},
   "outputs": [],
   "source": [
    "def vectorize_sequences(sequences, dimension=10000):\n",
    "    data = np.zeros((len(sequences), dimension), dtype=np.float16)\n",
    "    for i, sequence in enumerate(sequences):\n",
    "        data[i,sequence] = 1.\n",
    "    return data"
   ]
  },
  {
   "cell_type": "code",
   "execution_count": 23,
   "metadata": {},
   "outputs": [],
   "source": [
    "x_train = vectorize_sequences(train_sequences, max_features)\n",
    "x_val = vectorize_sequences(val_sequences, max_features)\n",
    "x_test = vectorize_sequences(test_sequences, max_features)"
   ]
  },
  {
   "cell_type": "markdown",
   "metadata": {},
   "source": [
    "One hot encoding for the labels"
   ]
  },
  {
   "cell_type": "code",
   "execution_count": 24,
   "metadata": {},
   "outputs": [],
   "source": [
    "def to_one_hot(labels):\n",
    "    results = np.zeros((len(labels), len(set(labels))), dtype=np.float32)\n",
    "    for i, label in enumerate(labels):\n",
    "        results[i, label] = 1.\n",
    "    return results"
   ]
  },
  {
   "cell_type": "code",
   "execution_count": 25,
   "metadata": {},
   "outputs": [],
   "source": [
    "y_train = to_one_hot(encoded_train_labels)\n",
    "y_val = to_one_hot(encoded_val_labels)\n",
    "y_test = to_one_hot(encoded_test_labels)"
   ]
  },
  {
   "cell_type": "code",
   "execution_count": 26,
   "metadata": {},
   "outputs": [
    {
     "data": {
      "text/plain": [
       "(99390, 20)"
      ]
     },
     "execution_count": 26,
     "metadata": {},
     "output_type": "execute_result"
    }
   ],
   "source": [
    "y_train.shape"
   ]
  },
  {
   "cell_type": "markdown",
   "metadata": {},
   "source": [
    "### Plotting Results Helpers"
   ]
  },
  {
   "cell_type": "code",
   "execution_count": 27,
   "metadata": {},
   "outputs": [],
   "source": [
    "import matplotlib.pyplot as plt\n",
    "\n",
    "%matplotlib inline"
   ]
  },
  {
   "cell_type": "code",
   "execution_count": 28,
   "metadata": {},
   "outputs": [],
   "source": [
    "def chart_loss(history):\n",
    "    loss = history.history['loss']\n",
    "    val_loss = history.history['val_loss']\n",
    "\n",
    "    epochs = range(1, len(loss) + 1)\n",
    "\n",
    "    plt.plot(epochs, loss, 'b+', label='Training Loss')\n",
    "    plt.plot(epochs, val_loss, 'b', label='Validation Loss')\n",
    "    plt.title('Training and validation loss')\n",
    "    plt.xlabel('Epochs')\n",
    "    plt.ylabel('Loss')\n",
    "    plt.yticks(np.arange(0,2, step=0.2))\n",
    "    plt.xticks(np.arange(0,len(loss), step=1))\n",
    "    plt.legend()\n",
    "    plt.show()"
   ]
  },
  {
   "cell_type": "code",
   "execution_count": 29,
   "metadata": {},
   "outputs": [],
   "source": [
    "def chart_acc(history):\n",
    "    acc = history.history['acc']\n",
    "    val_acc = history.history['val_acc']\n",
    "\n",
    "    epochs = range(1, len(acc) + 1)\n",
    "\n",
    "    plt.plot(epochs, acc, 'b+', label='Training Acc')\n",
    "    plt.plot(epochs, val_acc, 'b', label='Validation Acc')\n",
    "    plt.title('Training and validation loss')\n",
    "    plt.xlabel('Epochs')\n",
    "    plt.ylabel('Accuray')\n",
    "    plt.yticks(np.arange(0.4,1, step=0.05))\n",
    "    plt.xticks(np.arange(0,len(acc), step=1))\n",
    "    plt.legend()\n",
    "    plt.show()"
   ]
  },
  {
   "cell_type": "code",
   "execution_count": 30,
   "metadata": {},
   "outputs": [],
   "source": [
    "def min_loss(history):\n",
    "    val_loss = history.history['val_loss'] \n",
    "    return np.argmin(val_loss) + 1   \n",
    "\n",
    "def accuracy(history, epoch):\n",
    "    val_acc = history.history['val_acc']\n",
    "    return val_acc[epoch-1]"
   ]
  },
  {
   "cell_type": "markdown",
   "metadata": {},
   "source": [
    "## Build the Models\n",
    "\n",
    "We take into account:\n",
    "- a base model that uses dropout\n",
    "- an evaluation of LSTM and GRU models da uses dropout, reverse the text order and uses Bidirectional-LSTM "
   ]
  },
  {
   "cell_type": "code",
   "execution_count": 38,
   "metadata": {},
   "outputs": [],
   "source": [
    "def build_model_dropout(neurons):\n",
    "    model = models.Sequential()\n",
    "    model.add(layers.Dense(neurons, activation='relu', input_shape=(x_train.shape[-1], )))\n",
    "    model.add(layers.Dropout(0.5))\n",
    "    model.add(layers.Dense(neurons, activation='relu'))\n",
    "    model.add(layers.Dropout(0.5))\n",
    "    model.add(layers.Dense(neurons, activation='relu'))\n",
    "    model.add(layers.Dropout(0.5))\n",
    "    model.add(layers.Dense(len(labels_to_index), activation='softmax'))\n",
    "    \n",
    "    model.compile(optimizer=optimizers.Adam(), \n",
    "              loss='categorical_crossentropy',\n",
    "              metrics=['accuracy'])\n",
    "    return model"
   ]
  },
  {
   "cell_type": "code",
   "execution_count": null,
   "metadata": {},
   "outputs": [],
   "source": [
    "def build_model_cnn(embed_size):\n",
    "    model = models.Sequential()\n",
    "    model.add(layers.Embedding(input_dim=max_features, output_dim=embed_size, input_length=maxlen, name='embed'))\n",
    "    model.add(layers.Conv1D(16, 5, activation='relu'))\n",
    "    model.add(layers.MaxPooling1D(5))\n",
    "    model.add(layers.Conv1D(16, 5, activation='relu'))\n",
    "    model.add(layers.Bidirectional(layers.GRU(64, activation='relu',\n",
    "                         dropout= 0.5,\n",
    "                         recurrent_dropout = 0.1,\n",
    "                         return_sequences=False)))\n",
    "    model.add(layers.Dense(len(labels_to_index), activation='softmax'))\n",
    "    \n",
    "    model.compile(optimizer=optimizers.Adam(), \n",
    "              loss='categorical_crossentropy',\n",
    "              metrics=['accuracy'])\n",
    "    \n",
    "    return model"
   ]
  },
  {
   "cell_type": "code",
   "execution_count": 31,
   "metadata": {},
   "outputs": [],
   "source": [
    "def build_model_lstm(neurons, embed_size):\n",
    "    model = models.Sequential()\n",
    "    model.add(layers.Embedding(input_dim=max_features, output_dim=embed_size, input_length=maxlen, name='embed'))\n",
    "    model.add(\n",
    "#         layers.Bidirectional(\n",
    "        layers.GRU(neurons, activation='relu',\n",
    "                         dropout= 0.1,\n",
    "                         recurrent_dropout = 0.2,\n",
    "                         return_sequences=True))\n",
    "#              )\n",
    "#     model.add(layers.BatchNormalization())\n",
    "    model.add(layers.GRU(neurons, activation='relu',\n",
    "                     dropout= 0.1,\n",
    "                     recurrent_dropout = 0.2,\n",
    "                     return_sequences=False))\n",
    "#     model.add(layers.BatchNormalization())\n",
    "    model.add(layers.Dense(len(labels_to_index), activation='softmax'))\n",
    "    \n",
    "    model.compile(optimizer=optimizers.Adam(), \n",
    "              loss='categorical_crossentropy',\n",
    "              metrics=['accuracy'])\n",
    "    return model"
   ]
  },
  {
   "cell_type": "code",
   "execution_count": 39,
   "metadata": {},
   "outputs": [],
   "source": [
    "model_dropout = build_model_dropout(256)"
   ]
  },
  {
   "cell_type": "code",
   "execution_count": 40,
   "metadata": {},
   "outputs": [
    {
     "name": "stdout",
     "output_type": "stream",
     "text": [
      "Train on 99390 samples, validate on 11044 samples\n",
      "Epoch 1/20\n",
      "99390/99390 [==============================] - 9s 89us/step - loss: 1.2866 - acc: 0.5953 - val_loss: 0.5681 - val_acc: 0.8078\n",
      "Epoch 2/20\n",
      "99390/99390 [==============================] - 8s 82us/step - loss: 0.6252 - acc: 0.7932 - val_loss: 0.4800 - val_acc: 0.8358\n",
      "Epoch 3/20\n",
      "99390/99390 [==============================] - 8s 82us/step - loss: 0.4784 - acc: 0.8382 - val_loss: 0.4502 - val_acc: 0.8462\n",
      "Epoch 4/20\n",
      "99390/99390 [==============================] - 8s 81us/step - loss: 0.3996 - acc: 0.8648 - val_loss: 0.4374 - val_acc: 0.8519\n",
      "Epoch 5/20\n",
      "99390/99390 [==============================] - 8s 81us/step - loss: 0.3472 - acc: 0.8827 - val_loss: 0.4336 - val_acc: 0.8561\n",
      "Epoch 6/20\n",
      "99390/99390 [==============================] - 8s 81us/step - loss: 0.3033 - acc: 0.8961 - val_loss: 0.4419 - val_acc: 0.8562\n",
      "Epoch 7/20\n",
      "99390/99390 [==============================] - 8s 81us/step - loss: 0.2791 - acc: 0.9058 - val_loss: 0.4367 - val_acc: 0.8554\n",
      "Epoch 8/20\n",
      "99390/99390 [==============================] - 8s 81us/step - loss: 0.2528 - acc: 0.9145 - val_loss: 0.4411 - val_acc: 0.8629\n",
      "\n",
      "Epoch 00008: ReduceLROnPlateau reducing learning rate to 0.00010000000474974513.\n",
      "Epoch 9/20\n",
      "99390/99390 [==============================] - 8s 81us/step - loss: 0.1994 - acc: 0.9331 - val_loss: 0.4496 - val_acc: 0.8657\n",
      "Epoch 10/20\n",
      "99390/99390 [==============================] - 8s 81us/step - loss: 0.1853 - acc: 0.9383 - val_loss: 0.4571 - val_acc: 0.8663\n",
      "\n",
      "Epoch 00010: ReduceLROnPlateau reducing learning rate to 1.0000000474974514e-05.\n",
      "Epoch 11/20\n",
      "99390/99390 [==============================] - 8s 82us/step - loss: 0.1723 - acc: 0.9421 - val_loss: 0.4578 - val_acc: 0.8659\n",
      "Epoch 12/20\n",
      "99390/99390 [==============================] - 8s 81us/step - loss: 0.1714 - acc: 0.9429 - val_loss: 0.4584 - val_acc: 0.8658\n",
      "\n",
      "Epoch 00012: ReduceLROnPlateau reducing learning rate to 1.0000000656873453e-06.\n",
      "Epoch 13/20\n",
      "99390/99390 [==============================] - 8s 81us/step - loss: 0.1710 - acc: 0.9422 - val_loss: 0.4585 - val_acc: 0.8654\n",
      "Epoch 14/20\n",
      "99390/99390 [==============================] - 8s 81us/step - loss: 0.1722 - acc: 0.9417 - val_loss: 0.4586 - val_acc: 0.8654\n",
      "\n",
      "Epoch 00014: ReduceLROnPlateau reducing learning rate to 1.0000001111620805e-07.\n",
      "Epoch 15/20\n",
      "99390/99390 [==============================] - 8s 81us/step - loss: 0.1717 - acc: 0.9427 - val_loss: 0.4586 - val_acc: 0.8654\n",
      "Epoch 16/20\n",
      "99390/99390 [==============================] - 8s 81us/step - loss: 0.1706 - acc: 0.9426 - val_loss: 0.4586 - val_acc: 0.8654\n",
      "\n",
      "Epoch 00016: ReduceLROnPlateau reducing learning rate to 1.000000082740371e-08.\n",
      "Epoch 17/20\n",
      "99390/99390 [==============================] - 8s 81us/step - loss: 0.1726 - acc: 0.9405 - val_loss: 0.4586 - val_acc: 0.8654\n",
      "Epoch 18/20\n",
      "99390/99390 [==============================] - 8s 81us/step - loss: 0.1726 - acc: 0.9423 - val_loss: 0.4586 - val_acc: 0.8654\n",
      "\n",
      "Epoch 00018: ReduceLROnPlateau reducing learning rate to 1.000000082740371e-09.\n",
      "Epoch 19/20\n",
      "99390/99390 [==============================] - 8s 81us/step - loss: 0.1702 - acc: 0.9433 - val_loss: 0.4586 - val_acc: 0.8654\n",
      "Epoch 20/20\n",
      "99390/99390 [==============================] - 8s 81us/step - loss: 0.1700 - acc: 0.9422 - val_loss: 0.4586 - val_acc: 0.8654\n",
      "\n",
      "Epoch 00020: ReduceLROnPlateau reducing learning rate to 1.000000082740371e-10.\n"
     ]
    }
   ],
   "source": [
    "history_dropout = model_dropout.fit(x=x_train, y=y_train, validation_data=(x_val, y_val),\n",
    "                   epochs=20, batch_size=256, callbacks=callbacks)"
   ]
  },
  {
   "cell_type": "code",
   "execution_count": null,
   "metadata": {},
   "outputs": [],
   "source": [
    "%xdel model_dropout"
   ]
  },
  {
   "cell_type": "code",
   "execution_count": null,
   "metadata": {},
   "outputs": [],
   "source": [
    "import gc\n",
    "gc.collect()"
   ]
  },
  {
   "cell_type": "code",
   "execution_count": null,
   "metadata": {},
   "outputs": [],
   "source": [
    "model_cnn = build_model_cnn(64)"
   ]
  },
  {
   "cell_type": "code",
   "execution_count": 33,
   "metadata": {},
   "outputs": [],
   "source": [
    "from keras.callbacks import ReduceLROnPlateau"
   ]
  },
  {
   "cell_type": "code",
   "execution_count": 35,
   "metadata": {},
   "outputs": [],
   "source": [
    "callbacks = [\n",
    "    ReduceLROnPlateau(monitor='val_loss', factor=0.1, patience=2, verbose=1, mode='min',cooldown=0, min_lr=0)\n",
    "]"
   ]
  },
  {
   "cell_type": "code",
   "execution_count": null,
   "metadata": {},
   "outputs": [],
   "source": [
    "history_cnn = model_cnn.fit(x=x_train_pad, y=y_train,  validation_data=(x_val_pad, y_val),\n",
    "                   epochs=20, batch_size=256)"
   ]
  },
  {
   "cell_type": "code",
   "execution_count": null,
   "metadata": {},
   "outputs": [],
   "source": [
    "%xdel model_cnn"
   ]
  },
  {
   "cell_type": "code",
   "execution_count": 36,
   "metadata": {},
   "outputs": [
    {
     "name": "stdout",
     "output_type": "stream",
     "text": [
      "_________________________________________________________________\n",
      "Layer (type)                 Output Shape              Param #   \n",
      "=================================================================\n",
      "embed (Embedding)            (None, 150, 64)           640000    \n",
      "_________________________________________________________________\n",
      "gru_1 (GRU)                  (None, 150, 64)           24768     \n",
      "_________________________________________________________________\n",
      "gru_2 (GRU)                  (None, 64)                24768     \n",
      "_________________________________________________________________\n",
      "dense_1 (Dense)              (None, 20)                1300      \n",
      "=================================================================\n",
      "Total params: 690,836\n",
      "Trainable params: 690,836\n",
      "Non-trainable params: 0\n",
      "_________________________________________________________________\n"
     ]
    }
   ],
   "source": [
    "model_lstm = build_model_lstm(64,64)\n",
    "model_lstm.summary()"
   ]
  },
  {
   "cell_type": "code",
   "execution_count": 37,
   "metadata": {},
   "outputs": [
    {
     "name": "stdout",
     "output_type": "stream",
     "text": [
      "Train on 99390 samples, validate on 11044 samples\n",
      "Epoch 1/20\n",
      "99390/99390 [==============================] - 117s 1ms/step - loss: 2.0309 - acc: 0.3699 - val_loss: 1.1040 - val_acc: 0.6554\n",
      "Epoch 2/20\n",
      "99390/99390 [==============================] - 113s 1ms/step - loss: 0.9700 - acc: 0.6816 - val_loss: 0.7618 - val_acc: 0.7505\n",
      "Epoch 3/20\n",
      "99390/99390 [==============================] - 113s 1ms/step - loss: 0.7266 - acc: 0.7564 - val_loss: 0.6666 - val_acc: 0.7771\n",
      "Epoch 4/20\n",
      "99390/99390 [==============================] - 114s 1ms/step - loss: 0.6119 - acc: 0.7916 - val_loss: 0.6103 - val_acc: 0.7943\n",
      "Epoch 5/20\n",
      "99390/99390 [==============================] - 117s 1ms/step - loss: 0.5439 - acc: 0.8127 - val_loss: 0.5861 - val_acc: 0.8066\n",
      "Epoch 6/20\n",
      "99390/99390 [==============================] - 116s 1ms/step - loss: 0.4962 - acc: 0.8283 - val_loss: 0.5749 - val_acc: 0.8082\n",
      "Epoch 7/20\n",
      "99390/99390 [==============================] - 115s 1ms/step - loss: 0.4584 - acc: 0.8415 - val_loss: 0.5700 - val_acc: 0.8108\n",
      "Epoch 8/20\n",
      "99390/99390 [==============================] - 114s 1ms/step - loss: 0.4307 - acc: 0.8493 - val_loss: 0.5716 - val_acc: 0.8151\n",
      "Epoch 9/20\n",
      "99390/99390 [==============================] - 114s 1ms/step - loss: 0.4063 - acc: 0.8572 - val_loss: 0.5678 - val_acc: 0.8176\n",
      "Epoch 10/20\n",
      "99390/99390 [==============================] - 114s 1ms/step - loss: 0.3864 - acc: 0.8636 - val_loss: 0.5784 - val_acc: 0.8201\n",
      "Epoch 11/20\n",
      "99390/99390 [==============================] - 114s 1ms/step - loss: 0.3706 - acc: 0.8687 - val_loss: 0.5781 - val_acc: 0.8200\n",
      "Epoch 12/20\n",
      "99390/99390 [==============================] - 114s 1ms/step - loss: 0.3556 - acc: 0.8741 - val_loss: 0.5843 - val_acc: 0.8209\n",
      "\n",
      "Epoch 00012: ReduceLROnPlateau reducing learning rate to 0.00010000000474974513.\n",
      "Epoch 13/20\n",
      "99390/99390 [==============================] - 114s 1ms/step - loss: 0.3068 - acc: 0.8923 - val_loss: 0.5887 - val_acc: 0.8233\n",
      "Epoch 14/20\n",
      "99390/99390 [==============================] - 114s 1ms/step - loss: 0.2995 - acc: 0.8947 - val_loss: 0.5939 - val_acc: 0.8253\n",
      "\n",
      "Epoch 00014: ReduceLROnPlateau reducing learning rate to 1.0000000474974514e-05.\n",
      "Epoch 15/20\n",
      "99390/99390 [==============================] - 114s 1ms/step - loss: 0.2929 - acc: 0.8969 - val_loss: 0.5946 - val_acc: 0.8246\n",
      "Epoch 16/20\n",
      "99390/99390 [==============================] - 114s 1ms/step - loss: 0.2947 - acc: 0.8954 - val_loss: 0.5949 - val_acc: 0.8243\n",
      "\n",
      "Epoch 00016: ReduceLROnPlateau reducing learning rate to 1.0000000656873453e-06.\n",
      "Epoch 17/20\n",
      "99390/99390 [==============================] - 114s 1ms/step - loss: 0.2903 - acc: 0.8976 - val_loss: 0.5950 - val_acc: 0.8245\n",
      "Epoch 18/20\n",
      "99390/99390 [==============================] - 114s 1ms/step - loss: 0.2919 - acc: 0.8974 - val_loss: 0.5950 - val_acc: 0.8243\n",
      "\n",
      "Epoch 00018: ReduceLROnPlateau reducing learning rate to 1.0000001111620805e-07.\n",
      "Epoch 19/20\n",
      "99390/99390 [==============================] - 114s 1ms/step - loss: 0.2921 - acc: 0.8971 - val_loss: 0.5950 - val_acc: 0.8243\n",
      "Epoch 20/20\n",
      "99390/99390 [==============================] - 114s 1ms/step - loss: 0.2930 - acc: 0.8972 - val_loss: 0.5950 - val_acc: 0.8243\n",
      "\n",
      "Epoch 00020: ReduceLROnPlateau reducing learning rate to 1.000000082740371e-08.\n"
     ]
    }
   ],
   "source": [
    "history_lstm = model_lstm.fit(x=x_train_pad, y=y_train,  validation_data=(x_val_pad, y_val),\n",
    "                   epochs=20, batch_size=256, callbacks=callbacks)"
   ]
  },
  {
   "cell_type": "code",
   "execution_count": null,
   "metadata": {},
   "outputs": [],
   "source": [
    "%xdel model_lstm"
   ]
  },
  {
   "cell_type": "markdown",
   "metadata": {},
   "source": [
    "### Printing The Loss"
   ]
  },
  {
   "cell_type": "code",
   "execution_count": 41,
   "metadata": {},
   "outputs": [
    {
     "data": {
      "image/png": "[encoded data removed]",
      "text/plain": [
       "<Figure size 432x288 with 1 Axes>"
      ]
     },
     "metadata": {},
     "output_type": "display_data"
    },
    {
     "data": {
      "image/png": "[encoded data removed]",
      "text/plain": [
       "<Figure size 432x288 with 1 Axes>"
      ]
     },
     "metadata": {},
     "output_type": "display_data"
    }
   ],
   "source": [
    "chart_loss(history_lstm)\n",
    "chart_loss(history_dropout)"
   ]
  },
  {
   "cell_type": "code",
   "execution_count": 46,
   "metadata": {},
   "outputs": [
    {
     "data": {
      "image/png": "[encoded data removed]",
      "text/plain": [
       "<Figure size 432x288 with 1 Axes>"
      ]
     },
     "metadata": {},
     "output_type": "display_data"
    },
    {
     "data": {
      "image/png": "[encoded data removed]",
      "text/plain": [
       "<Figure size 432x288 with 1 Axes>"
      ]
     },
     "metadata": {},
     "output_type": "display_data"
    }
   ],
   "source": [
    "chart_acc(history_lstm)\n",
    "chart_acc(history_dropout)"
   ]
  },
  {
   "cell_type": "markdown",
   "metadata": {},
   "source": [
    "From the chart above we can see that the best model is the model that uses dropout, while the best epoch is the 6 where the validation accuracy crosses the training accuracy"
   ]
  },
  {
   "cell_type": "code",
   "execution_count": 42,
   "metadata": {},
   "outputs": [],
   "source": [
    "def compare_loss(histories):\n",
    "    epochs = range(1, len(list(histories.values())[0].history['val_loss']) + 1)\n",
    "\n",
    "    for i, history in histories.items():\n",
    "        val_loss = history.history['val_loss']\n",
    "        plt.plot(epochs, val_loss, label='Validation Loss {}'.format(i))\n",
    "            \n",
    "    plt.xlabel('Epochs')\n",
    "    plt.ylabel('Loss')\n",
    "    plt.legend()\n",
    "    plt.show()"
   ]
  },
  {
   "cell_type": "code",
   "execution_count": 43,
   "metadata": {},
   "outputs": [
    {
     "data": {
      "image/png": "[encoded data removed]",
      "text/plain": [
       "<Figure size 432x288 with 1 Axes>"
      ]
     },
     "metadata": {},
     "output_type": "display_data"
    }
   ],
   "source": [
    "compare_loss({'LSTM': history_lstm, 'Dropout': history_dropout})"
   ]
  },
  {
   "cell_type": "code",
   "execution_count": 44,
   "metadata": {},
   "outputs": [],
   "source": [
    "def compare_accuracy(histories):\n",
    "    epochs = range(1, len(list(histories.values())[0].history['val_acc']) + 1)\n",
    "\n",
    "    for i, history in histories.items():\n",
    "        val_loss = history.history['val_acc']\n",
    "        plt.plot(epochs, val_loss, label='Validation Accuracy {}'.format(i))\n",
    "            \n",
    "    plt.xlabel('Epochs')\n",
    "    plt.ylabel('Accuracy')\n",
    "    plt.legend()\n",
    "    plt.show()"
   ]
  },
  {
   "cell_type": "code",
   "execution_count": 45,
   "metadata": {},
   "outputs": [
    {
     "data": {
      "image/png": "[encoded data removed]",
      "text/plain": [
       "<Figure size 432x288 with 1 Axes>"
      ]
     },
     "metadata": {},
     "output_type": "display_data"
    }
   ],
   "source": [
    "compare_accuracy({'LSTM': history_lstm, 'Dropout': history_dropout})"
   ]
  },
  {
   "cell_type": "markdown",
   "metadata": {},
   "source": [
    "### Evaluate on the Test Set\n",
    "\n",
    "We still want to evaluate the models with embedding to understand if it overfits on input data."
   ]
  },
  {
   "cell_type": "code",
   "execution_count": 48,
   "metadata": {},
   "outputs": [],
   "source": [
    "model = build_model_lstm(64,64)"
   ]
  },
  {
   "cell_type": "code",
   "execution_count": 56,
   "metadata": {},
   "outputs": [
    {
     "name": "stdout",
     "output_type": "stream",
     "text": [
      "Epoch 1/2\n",
      "110434/110434 [==============================] - 123s 1ms/step - loss: 0.4443 - acc: 0.8429\n",
      "Epoch 2/2\n",
      "110434/110434 [==============================] - 122s 1ms/step - loss: 0.4193 - acc: 0.8518\n"
     ]
    }
   ],
   "source": [
    "history = model.fit(x=np.concatenate([x_train_pad, x_val_pad]), y=np.concatenate([y_train, y_val]), \n",
    "                    epochs=2, batch_size=256)"
   ]
  },
  {
   "cell_type": "code",
   "execution_count": 57,
   "metadata": {},
   "outputs": [
    {
     "name": "stdout",
     "output_type": "stream",
     "text": [
      "27609/27609 [==============================] - 78s 3ms/step\n"
     ]
    }
   ],
   "source": [
    "loss, acc = model.evaluate(x_test_pad, y_test)"
   ]
  },
  {
   "cell_type": "code",
   "execution_count": 55,
   "metadata": {},
   "outputs": [
    {
     "name": "stdout",
     "output_type": "stream",
     "text": [
      "loss 0.5725227301738803\n",
      "acc 0.8059328479757174\n"
     ]
    }
   ],
   "source": [
    "print('loss {}'.format(loss))\n",
    "print('acc {}'.format(acc))"
   ]
  },
  {
   "cell_type": "markdown",
   "metadata": {},
   "source": [
    "## Conclusion\n",
    "\n",
    "We evaluated how to use Embeddings as alternative to one-hot encoding. \n"
   ]
  },
  {
   "cell_type": "code",
   "execution_count": null,
   "metadata": {},
   "outputs": [],
   "source": []
  }
 ],
 "metadata": {
  "kernelspec": {
   "display_name": "Python 3",
   "language": "python",
   "name": "python3"
  },
  "language_info": {
   "codemirror_mode": {
    "name": "ipython",
    "version": 3
   },
   "file_extension": ".py",
   "mimetype": "text/x-python",
   "name": "python",
   "nbconvert_exporter": "python",
   "pygments_lexer": "ipython3",
   "version": "3.6.5"
  }
 },
 "nbformat": 4,
 "nbformat_minor": 2
}
