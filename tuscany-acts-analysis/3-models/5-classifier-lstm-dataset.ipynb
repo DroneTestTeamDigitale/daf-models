{
 "cells": [
  {
   "cell_type": "code",
   "execution_count": 1,
   "metadata": {},
   "outputs": [
    {
     "name": "stderr",
     "output_type": "stream",
     "text": [
      "Using TensorFlow backend.\n"
     ]
    },
    {
     "name": "stdout",
     "output_type": "stream",
     "text": [
      "[nltk_data] Downloading package stopwords to /home/fabio/nltk_data...\n",
      "[nltk_data]   Package stopwords is already up-to-date!\n",
      "[nltk_data] Downloading package punkt to /home/fabio/nltk_data...\n",
      "[nltk_data]   Package punkt is already up-to-date!\n"
     ]
    }
   ],
   "source": [
    "import numpy as np\n",
    "import pandas as pd\n",
    "import pickle\n",
    "\n",
    "from keras import models\n",
    "from keras import layers\n",
    "from keras import optimizers\n",
    "from keras import losses\n",
    "from keras import activations\n",
    "from keras import metrics\n",
    "from keras import regularizers\n",
    "from keras.callbacks import *\n",
    "\n",
    "import tensorflow as tf\n",
    "\n",
    "from dataset import atti_dirigenti\n",
    "\n",
    "import math\n",
    "\n",
    "import random\n",
    "\n",
    "# to make the experimens replicable\n",
    "random.seed(123456)"
   ]
  },
  {
   "cell_type": "code",
   "execution_count": 2,
   "metadata": {},
   "outputs": [
    {
     "data": {
      "text/plain": [
       "[name: \"/device:CPU:0\"\n",
       " device_type: \"CPU\"\n",
       " memory_limit: 268435456\n",
       " locality {\n",
       " }\n",
       " incarnation: 9594625560214775841, name: \"/device:GPU:0\"\n",
       " device_type: \"GPU\"\n",
       " memory_limit: 3383230464\n",
       " locality {\n",
       "   bus_id: 1\n",
       "   links {\n",
       "   }\n",
       " }\n",
       " incarnation: 11627822429455055404\n",
       " physical_device_desc: \"device: 0, name: GeForce GTX 1050, pci bus id: 0000:01:00.0, compute capability: 6.1\"]"
      ]
     },
     "execution_count": 2,
     "metadata": {},
     "output_type": "execute_result"
    }
   ],
   "source": [
    "from tensorflow.python.client import device_lib\n",
    "\n",
    "device_lib.list_local_devices()"
   ]
  },
  {
   "cell_type": "markdown",
   "metadata": {},
   "source": [
    "## Load the Dataset"
   ]
  },
  {
   "cell_type": "code",
   "execution_count": 3,
   "metadata": {},
   "outputs": [],
   "source": [
    "(x_train, y_train), (x_val, y_val), (x_test, y_test) = atti_dirigenti.load_data(num_words=10000, remove_stopwords=True)"
   ]
  },
  {
   "cell_type": "code",
   "execution_count": 4,
   "metadata": {},
   "outputs": [
    {
     "data": {
      "text/plain": [
       "20"
      ]
     },
     "execution_count": 4,
     "metadata": {},
     "output_type": "execute_result"
    }
   ],
   "source": [
    "label_index = atti_dirigenti.get_labels()\n",
    "len(label_index)"
   ]
  },
  {
   "cell_type": "markdown",
   "metadata": {},
   "source": [
    "### Preparing Data\n",
    "\n",
    "- for the input data we pad the sequence to a max length in order to make uniform the sequences.\n",
    "- for the labels we continue with one-hot encoding\n"
   ]
  },
  {
   "cell_type": "code",
   "execution_count": 5,
   "metadata": {},
   "outputs": [],
   "source": [
    "from keras.preprocessing import sequence"
   ]
  },
  {
   "cell_type": "code",
   "execution_count": 6,
   "metadata": {},
   "outputs": [
    {
     "name": "stdout",
     "output_type": "stream",
     "text": [
      "max length of objects 90\n"
     ]
    }
   ],
   "source": [
    "print('max length of objects {}'.format(max(map(len, x_train))))"
   ]
  },
  {
   "cell_type": "markdown",
   "metadata": {},
   "source": [
    "#### Maximum Sequence Length\n",
    "\n",
    "for initial test we use the first 100 words"
   ]
  },
  {
   "cell_type": "code",
   "execution_count": 7,
   "metadata": {},
   "outputs": [],
   "source": [
    "maxlen = 100"
   ]
  },
  {
   "cell_type": "code",
   "execution_count": 8,
   "metadata": {},
   "outputs": [],
   "source": [
    "x_train_pad = sequence.pad_sequences(x_train, maxlen=maxlen)\n",
    "x_val_pad = sequence.pad_sequences(x_val, maxlen=maxlen)\n",
    "x_test_pad = sequence.pad_sequences(x_test, maxlen=maxlen)"
   ]
  },
  {
   "cell_type": "code",
   "execution_count": 9,
   "metadata": {
    "scrolled": false
   },
   "outputs": [
    {
     "data": {
      "text/plain": [
       "(99390, 100)"
      ]
     },
     "execution_count": 9,
     "metadata": {},
     "output_type": "execute_result"
    }
   ],
   "source": [
    "x_train_pad.shape"
   ]
  },
  {
   "cell_type": "markdown",
   "metadata": {},
   "source": [
    "One-hot encoding for input"
   ]
  },
  {
   "cell_type": "code",
   "execution_count": 10,
   "metadata": {},
   "outputs": [],
   "source": [
    "def vectorize_sequences(sequences, dimension=10000):\n",
    "    data = np.zeros((len(sequences), dimension), dtype=np.float16)\n",
    "    for i, sequence in enumerate(sequences):\n",
    "        data[i,sequence] = 1.\n",
    "    return data"
   ]
  },
  {
   "cell_type": "code",
   "execution_count": 11,
   "metadata": {},
   "outputs": [],
   "source": [
    "dimension = 11000"
   ]
  },
  {
   "cell_type": "code",
   "execution_count": 12,
   "metadata": {},
   "outputs": [],
   "source": [
    "x_train_vect = vectorize_sequences(x_train, dimension)\n",
    "x_val_vect = vectorize_sequences(x_val, dimension)\n",
    "x_test_vect = vectorize_sequences(x_test, dimension)"
   ]
  },
  {
   "cell_type": "markdown",
   "metadata": {},
   "source": [
    "One hot encoding for the labels"
   ]
  },
  {
   "cell_type": "code",
   "execution_count": 13,
   "metadata": {},
   "outputs": [],
   "source": [
    "def to_one_hot(labels):\n",
    "    results = np.zeros((len(labels), len(set(labels))), dtype=np.float32)\n",
    "    for i, label in enumerate(labels):\n",
    "        results[i, label] = 1.\n",
    "    return results"
   ]
  },
  {
   "cell_type": "code",
   "execution_count": 14,
   "metadata": {},
   "outputs": [],
   "source": [
    "y_train_vect = to_one_hot(y_train)\n",
    "y_val_vect = to_one_hot(y_val)\n",
    "y_test_vect = to_one_hot(y_test)"
   ]
  },
  {
   "cell_type": "code",
   "execution_count": 15,
   "metadata": {},
   "outputs": [
    {
     "data": {
      "text/plain": [
       "(99390, 20)"
      ]
     },
     "execution_count": 15,
     "metadata": {},
     "output_type": "execute_result"
    }
   ],
   "source": [
    "y_train_vect.shape"
   ]
  },
  {
   "cell_type": "markdown",
   "metadata": {},
   "source": [
    "### Plotting Results Helpers"
   ]
  },
  {
   "cell_type": "code",
   "execution_count": 67,
   "metadata": {},
   "outputs": [],
   "source": [
    "import matplotlib.pyplot as plt\n",
    "\n",
    "plt.rcParams['figure.figsize'] = (6, 4)\n",
    "plt.rcParams['figure.dpi'] = 150\n",
    "\n",
    "%matplotlib inline"
   ]
  },
  {
   "cell_type": "code",
   "execution_count": 17,
   "metadata": {},
   "outputs": [],
   "source": [
    "def chart_loss(history):\n",
    "    loss = history.history['loss']\n",
    "    val_loss = history.history['val_loss']\n",
    "\n",
    "    epochs = range(1, len(loss) + 1)\n",
    "\n",
    "    plt.plot(epochs, loss, 'b+', label='Training Loss')\n",
    "    plt.plot(epochs, val_loss, 'b', label='Validation Loss')\n",
    "    plt.title('Training and validation loss')\n",
    "    plt.xlabel('Epochs')\n",
    "    plt.ylabel('Loss')\n",
    "    plt.yticks(np.arange(0,2, step=0.2))\n",
    "    plt.xticks(np.arange(0,len(loss), step=1))\n",
    "    plt.legend()\n",
    "    plt.show()"
   ]
  },
  {
   "cell_type": "code",
   "execution_count": 18,
   "metadata": {},
   "outputs": [],
   "source": [
    "def chart_acc(history):\n",
    "    acc = history.history['acc']\n",
    "    val_acc = history.history['val_acc']\n",
    "\n",
    "    epochs = range(1, len(acc) + 1)\n",
    "\n",
    "    plt.plot(epochs, acc, 'b+', label='Training Acc')\n",
    "    plt.plot(epochs, val_acc, 'b', label='Validation Acc')\n",
    "    plt.title('Training and validation loss')\n",
    "    plt.xlabel('Epochs')\n",
    "    plt.ylabel('Accuray')\n",
    "    plt.yticks(np.arange(0.4,1, step=0.05))\n",
    "    plt.xticks(np.arange(0,len(acc), step=1))\n",
    "    plt.legend()\n",
    "    plt.show()"
   ]
  },
  {
   "cell_type": "code",
   "execution_count": 19,
   "metadata": {},
   "outputs": [],
   "source": [
    "def min_loss(history):\n",
    "    val_loss = history.history['val_loss'] \n",
    "    return np.argmin(val_loss) + 1   \n",
    "\n",
    "def accuracy(history, epoch):\n",
    "    val_acc = history.history['val_acc']\n",
    "    return val_acc[epoch-1]"
   ]
  },
  {
   "cell_type": "markdown",
   "metadata": {},
   "source": [
    "## Build the Models\n",
    "\n",
    "We take into account:\n",
    "- a base model that uses dropout\n",
    "- an evaluation of LSTM and GRU models da uses dropout, reverse the text order and uses Bidirectional-LSTM "
   ]
  },
  {
   "cell_type": "code",
   "execution_count": 20,
   "metadata": {},
   "outputs": [],
   "source": [
    "callbacks = [\n",
    "    ReduceLROnPlateau(monitor='val_loss', factor=0.1, patience=2, verbose=1, mode='min',cooldown=0, min_lr=0)\n",
    "]"
   ]
  },
  {
   "cell_type": "code",
   "execution_count": 22,
   "metadata": {},
   "outputs": [],
   "source": [
    "def build_model_dropout(neurons):\n",
    "    with tf.device('/gpu:0'):\n",
    "        model = models.Sequential()\n",
    "        model.add(layers.Dense(neurons, activation='relu', input_shape=(x_train_vect.shape[-1], )))\n",
    "        model.add(layers.Dropout(0.5))\n",
    "        model.add(layers.Dense(neurons, activation='relu'))\n",
    "        model.add(layers.Dropout(0.5))\n",
    "        model.add(layers.Dense(neurons, activation='relu'))\n",
    "        model.add(layers.Dropout(0.5))\n",
    "        model.add(layers.Dense(len(label_index), activation='softmax'))\n",
    "\n",
    "        model.compile(optimizer=optimizers.Adam(), \n",
    "                  loss='categorical_crossentropy',\n",
    "                  metrics=['accuracy'])\n",
    "    return model"
   ]
  },
  {
   "cell_type": "code",
   "execution_count": 23,
   "metadata": {},
   "outputs": [
    {
     "name": "stdout",
     "output_type": "stream",
     "text": [
      "_________________________________________________________________\n",
      "Layer (type)                 Output Shape              Param #   \n",
      "=================================================================\n",
      "dense_1 (Dense)              (None, 256)               2816256   \n",
      "_________________________________________________________________\n",
      "dropout_1 (Dropout)          (None, 256)               0         \n",
      "_________________________________________________________________\n",
      "dense_2 (Dense)              (None, 256)               65792     \n",
      "_________________________________________________________________\n",
      "dropout_2 (Dropout)          (None, 256)               0         \n",
      "_________________________________________________________________\n",
      "dense_3 (Dense)              (None, 256)               65792     \n",
      "_________________________________________________________________\n",
      "dropout_3 (Dropout)          (None, 256)               0         \n",
      "_________________________________________________________________\n",
      "dense_4 (Dense)              (None, 20)                5140      \n",
      "=================================================================\n",
      "Total params: 2,952,980\n",
      "Trainable params: 2,952,980\n",
      "Non-trainable params: 0\n",
      "_________________________________________________________________\n"
     ]
    }
   ],
   "source": [
    "model_dropout = build_model_dropout(256)\n",
    "model_dropout.summary()"
   ]
  },
  {
   "cell_type": "code",
   "execution_count": 24,
   "metadata": {},
   "outputs": [
    {
     "name": "stdout",
     "output_type": "stream",
     "text": [
      "Train on 99390 samples, validate on 11044 samples\n",
      "Epoch 1/10\n",
      "99390/99390 [==============================] - 9s 86us/step - loss: 1.2980 - acc: 0.5879 - val_loss: 0.6150 - val_acc: 0.7941\n",
      "Epoch 2/10\n",
      "99390/99390 [==============================] - 8s 79us/step - loss: 0.6283 - acc: 0.7901 - val_loss: 0.5252 - val_acc: 0.8198\n",
      "Epoch 3/10\n",
      "99390/99390 [==============================] - 8s 78us/step - loss: 0.4923 - acc: 0.8338 - val_loss: 0.4981 - val_acc: 0.8280\n",
      "Epoch 4/10\n",
      "99390/99390 [==============================] - 8s 79us/step - loss: 0.4124 - acc: 0.8606 - val_loss: 0.4915 - val_acc: 0.8343\n",
      "Epoch 5/10\n",
      "99390/99390 [==============================] - 8s 78us/step - loss: 0.3538 - acc: 0.8797 - val_loss: 0.4968 - val_acc: 0.8389\n",
      "Epoch 6/10\n",
      "99390/99390 [==============================] - 8s 78us/step - loss: 0.3133 - acc: 0.8939 - val_loss: 0.4956 - val_acc: 0.8382\n",
      "Epoch 7/10\n",
      "99390/99390 [==============================] - 8s 79us/step - loss: 0.2817 - acc: 0.9043 - val_loss: 0.5058 - val_acc: 0.8417\n",
      "\n",
      "Epoch 00007: ReduceLROnPlateau reducing learning rate to 0.00010000000474974513.\n",
      "Epoch 8/10\n",
      "99390/99390 [==============================] - 8s 79us/step - loss: 0.2313 - acc: 0.9226 - val_loss: 0.5143 - val_acc: 0.8444\n",
      "Epoch 9/10\n",
      "99390/99390 [==============================] - 8s 79us/step - loss: 0.2082 - acc: 0.9305 - val_loss: 0.5243 - val_acc: 0.8449\n",
      "\n",
      "Epoch 00009: ReduceLROnPlateau reducing learning rate to 1.0000000474974514e-05.\n",
      "Epoch 10/10\n",
      "99390/99390 [==============================] - 8s 79us/step - loss: 0.2005 - acc: 0.9331 - val_loss: 0.5252 - val_acc: 0.8451\n"
     ]
    }
   ],
   "source": [
    "history_dropout = model_dropout.fit(x=x_train_vect, y=y_train_vect, validation_data=(x_val_vect, y_val_vect),\n",
    "                   epochs=10, batch_size=256, callbacks=callbacks)"
   ]
  },
  {
   "cell_type": "code",
   "execution_count": 25,
   "metadata": {},
   "outputs": [],
   "source": [
    "def build_model_cnn(embed_size):\n",
    "    with tf.device('/gpu:0'):\n",
    "        model = models.Sequential()\n",
    "        model.add(layers.Embedding(input_dim=dimension, output_dim=embed_size, input_length=maxlen, name='embed'))\n",
    "        model.add(layers.Conv1D(16, 5, activation='relu'))\n",
    "        model.add(layers.MaxPooling1D(5))\n",
    "        model.add(layers.Conv1D(32, 5, activation='relu'))\n",
    "        model.add(layers.GRU(64, activation='relu',\n",
    "                             dropout= 0.5,\n",
    "                             recurrent_dropout = 0.5,\n",
    "                             return_sequences=False))\n",
    "        model.add(layers.Dense(len(label_index), activation='softmax'))\n",
    "\n",
    "        model.compile(optimizer=optimizers.Adam(), \n",
    "                  loss='categorical_crossentropy',\n",
    "                  metrics=['accuracy'])\n",
    "    \n",
    "    return model"
   ]
  },
  {
   "cell_type": "code",
   "execution_count": 35,
   "metadata": {},
   "outputs": [
    {
     "name": "stdout",
     "output_type": "stream",
     "text": [
      "_________________________________________________________________\n",
      "Layer (type)                 Output Shape              Param #   \n",
      "=================================================================\n",
      "embed (Embedding)            (None, 100, 128)          1408000   \n",
      "_________________________________________________________________\n",
      "conv1d_3 (Conv1D)            (None, 96, 16)            10256     \n",
      "_________________________________________________________________\n",
      "max_pooling1d_2 (MaxPooling1 (None, 19, 16)            0         \n",
      "_________________________________________________________________\n",
      "conv1d_4 (Conv1D)            (None, 15, 32)            2592      \n",
      "_________________________________________________________________\n",
      "gru_5 (GRU)                  (None, 64)                18624     \n",
      "_________________________________________________________________\n",
      "dense_9 (Dense)              (None, 20)                1300      \n",
      "=================================================================\n",
      "Total params: 1,440,772\n",
      "Trainable params: 1,440,772\n",
      "Non-trainable params: 0\n",
      "_________________________________________________________________\n"
     ]
    }
   ],
   "source": [
    "model_cnn = build_model_cnn(128)\n",
    "model_cnn.summary()"
   ]
  },
  {
   "cell_type": "code",
   "execution_count": 36,
   "metadata": {},
   "outputs": [
    {
     "name": "stdout",
     "output_type": "stream",
     "text": [
      "Train on 99390 samples, validate on 11044 samples\n",
      "Epoch 1/10\n",
      "99390/99390 [==============================] - 10s 105us/step - loss: 1.9925 - acc: 0.3639 - val_loss: 1.1453 - val_acc: 0.6147\n",
      "Epoch 2/10\n",
      "99390/99390 [==============================] - 9s 89us/step - loss: 1.0732 - acc: 0.6407 - val_loss: 0.8680 - val_acc: 0.7064\n",
      "Epoch 3/10\n",
      "99390/99390 [==============================] - 9s 89us/step - loss: 0.8186 - acc: 0.7220 - val_loss: 0.7757 - val_acc: 0.7368\n",
      "Epoch 4/10\n",
      "99390/99390 [==============================] - 9s 89us/step - loss: 0.6693 - acc: 0.7710 - val_loss: 0.7439 - val_acc: 0.7555\n",
      "Epoch 5/10\n",
      "99390/99390 [==============================] - 9s 89us/step - loss: 0.5638 - acc: 0.8078 - val_loss: 0.7560 - val_acc: 0.7618\n",
      "Epoch 6/10\n",
      "99390/99390 [==============================] - 9s 90us/step - loss: 0.4856 - acc: 0.8344 - val_loss: 0.7604 - val_acc: 0.7696\n",
      "Epoch 7/10\n",
      "99390/99390 [==============================] - 9s 89us/step - loss: 0.4193 - acc: 0.8579 - val_loss: 0.7981 - val_acc: 0.7699\n",
      "Epoch 8/10\n",
      "99390/99390 [==============================] - 9s 89us/step - loss: 0.3694 - acc: 0.8759 - val_loss: 0.8242 - val_acc: 0.7727\n",
      "Epoch 9/10\n",
      "99390/99390 [==============================] - 9s 89us/step - loss: 0.3282 - acc: 0.8894 - val_loss: 0.8796 - val_acc: 0.7723\n",
      "Epoch 10/10\n",
      "99390/99390 [==============================] - 9s 90us/step - loss: 0.2994 - acc: 0.9000 - val_loss: 0.9098 - val_acc: 0.7772\n"
     ]
    }
   ],
   "source": [
    "history_cnn = model_cnn.fit(x=x_train_pad, y=y_train_vect,  validation_data=(x_val_pad, y_val_vect),\n",
    "                   epochs=10, batch_size=256)"
   ]
  },
  {
   "cell_type": "code",
   "execution_count": 28,
   "metadata": {},
   "outputs": [],
   "source": [
    "def build_model_rnn(embed_size, neurons, bidirectional=False, num_layers=1, \n",
    "                    dropout=0.5, recurrent_dropout=0.5, cell_type=layers.GRU):\n",
    "    with tf.device('/gpu:0'):\n",
    "        model = models.Sequential()\n",
    "        model.add(layers.Embedding(input_dim=dimension, output_dim=embed_size, input_length=maxlen, name='embed'))\n",
    "\n",
    "        def create_layer(return_sequences=True):\n",
    "            layer = cell_type(neurons, activation='relu',\n",
    "                                     dropout= dropout,\n",
    "                                     recurrent_dropout = recurrent_dropout,\n",
    "                                     return_sequences=return_sequences)\n",
    "            if bidirectional:\n",
    "                layer = layers.Bidirectional(layer)\n",
    "\n",
    "            model.add(layers.BatchNormalization())\n",
    "            return layer\n",
    "\n",
    "        for l in enumerate(range(num_layers -1)):\n",
    "            model.add(create_layer())\n",
    "\n",
    "        model.add(create_layer(return_sequences=False))\n",
    "        model.add(layers.Dense(len(label_index), activation='softmax'))\n",
    "\n",
    "        model.compile(optimizer=optimizers.Adam(), \n",
    "                  loss='categorical_crossentropy',\n",
    "                  metrics=['accuracy'])\n",
    "    return model"
   ]
  },
  {
   "cell_type": "code",
   "execution_count": 32,
   "metadata": {},
   "outputs": [
    {
     "name": "stdout",
     "output_type": "stream",
     "text": [
      "_________________________________________________________________\n",
      "Layer (type)                 Output Shape              Param #   \n",
      "=================================================================\n",
      "embed (Embedding)            (None, 100, 128)          1408000   \n",
      "_________________________________________________________________\n",
      "batch_normalization_3 (Batch (None, 100, 128)          512       \n",
      "_________________________________________________________________\n",
      "bidirectional_3 (Bidirection (None, 512)               591360    \n",
      "_________________________________________________________________\n",
      "dense_8 (Dense)              (None, 20)                10260     \n",
      "=================================================================\n",
      "Total params: 2,010,132\n",
      "Trainable params: 2,009,876\n",
      "Non-trainable params: 256\n",
      "_________________________________________________________________\n"
     ]
    }
   ],
   "source": [
    "model_gru = model_gru = build_model_rnn(128,256, bidirectional=True)\n",
    "model_gru.summary()"
   ]
  },
  {
   "cell_type": "code",
   "execution_count": 33,
   "metadata": {
    "scrolled": false
   },
   "outputs": [
    {
     "name": "stdout",
     "output_type": "stream",
     "text": [
      "Train on 99390 samples, validate on 11044 samples\n",
      "Epoch 1/10\n",
      "99390/99390 [==============================] - 111s 1ms/step - loss: 1.2309 - acc: 0.6104 - val_loss: 0.6048 - val_acc: 0.7884\n",
      "Epoch 2/10\n",
      "99390/99390 [==============================] - 109s 1ms/step - loss: 0.5746 - acc: 0.8024 - val_loss: 0.5252 - val_acc: 0.8116\n",
      "Epoch 3/10\n",
      "99390/99390 [==============================] - 109s 1ms/step - loss: 0.4710 - acc: 0.8347 - val_loss: 0.5103 - val_acc: 0.8245\n",
      "Epoch 4/10\n",
      "99390/99390 [==============================] - 110s 1ms/step - loss: 0.4123 - acc: 0.8538 - val_loss: 0.5154 - val_acc: 0.8277\n",
      "Epoch 5/10\n",
      "99390/99390 [==============================] - 110s 1ms/step - loss: 0.3745 - acc: 0.8663 - val_loss: 0.5199 - val_acc: 0.8248\n",
      "Epoch 6/10\n",
      "99390/99390 [==============================] - 109s 1ms/step - loss: 0.3445 - acc: 0.8764 - val_loss: 0.5369 - val_acc: 0.8309\n",
      "Epoch 7/10\n",
      "99390/99390 [==============================] - 109s 1ms/step - loss: 0.3209 - acc: 0.8852 - val_loss: 0.5573 - val_acc: 0.8265\n",
      "Epoch 8/10\n",
      "99390/99390 [==============================] - 110s 1ms/step - loss: 0.3085 - acc: 0.8894 - val_loss: 0.5571 - val_acc: 0.8316\n",
      "Epoch 9/10\n",
      "99390/99390 [==============================] - 110s 1ms/step - loss: 0.2910 - acc: 0.8944 - val_loss: 0.5677 - val_acc: 0.8310\n",
      "Epoch 10/10\n",
      "99390/99390 [==============================] - 110s 1ms/step - loss: 0.2769 - acc: 0.9001 - val_loss: 0.5880 - val_acc: 0.8266\n"
     ]
    }
   ],
   "source": [
    "history_gru = model_gru.fit(x=x_train_pad, y=y_train_vect,  validation_data=(x_val_pad, y_val_vect),\n",
    "                   epochs=10, batch_size=256)"
   ]
  },
  {
   "cell_type": "markdown",
   "metadata": {},
   "source": [
    "### Printing The Loss"
   ]
  },
  {
   "cell_type": "code",
   "execution_count": 68,
   "metadata": {},
   "outputs": [
    {
     "data": {
      "image/png": "[encoded data removed]",
      "text/plain": [
       "<Figure size 432x288 with 1 Axes>"
      ]
     },
     "metadata": {},
     "output_type": "display_data"
    },
    {
     "data": {
      "image/png": "[encoded data removed]",
      "text/plain": [
       "<Figure size 432x288 with 1 Axes>"
      ]
     },
     "metadata": {},
     "output_type": "display_data"
    },
    {
     "data": {
      "image/png": "[encoded data removed]",
      "text/plain": [
       "<Figure size 432x288 with 1 Axes>"
      ]
     },
     "metadata": {},
     "output_type": "display_data"
    }
   ],
   "source": [
    "chart_loss(history_dropout)\n",
    "chart_loss(history_cnn)\n",
    "chart_loss(history_gru)"
   ]
  },
  {
   "cell_type": "code",
   "execution_count": 44,
   "metadata": {},
   "outputs": [
    {
     "data": {
      "image/png": "[encoded data removed]",
      "text/plain": [
       "<Figure size 432x288 with 1 Axes>"
      ]
     },
     "metadata": {},
     "output_type": "display_data"
    },
    {
     "data": {
      "image/png": "[encoded data removed]",
      "text/plain": [
       "<Figure size 432x288 with 1 Axes>"
      ]
     },
     "metadata": {},
     "output_type": "display_data"
    },
    {
     "data": {
      "image/png": "[encoded data removed]",
      "text/plain": [
       "<Figure size 432x288 with 1 Axes>"
      ]
     },
     "metadata": {},
     "output_type": "display_data"
    }
   ],
   "source": [
    "chart_acc(history_dropout)\n",
    "chart_acc(history_cnn)\n",
    "chart_acc(history_gru)"
   ]
  },
  {
   "cell_type": "markdown",
   "metadata": {},
   "source": [
    "From the chart above we can see that the best model is the model that uses dropout, while the best epoch is the 6 where the validation accuracy crosses the training accuracy"
   ]
  },
  {
   "cell_type": "code",
   "execution_count": 46,
   "metadata": {},
   "outputs": [],
   "source": [
    "def compare_loss(histories):\n",
    "    epochs = range(1, len(list(histories.values())[0].history['val_loss']) + 1)\n",
    "\n",
    "    for i, history in histories.items():\n",
    "        val_loss = history.history['val_loss']\n",
    "        plt.plot(epochs, val_loss, label='Validation Loss {}'.format(i))\n",
    "            \n",
    "    plt.xlabel('Epochs')\n",
    "    plt.ylabel('Loss')\n",
    "    plt.legend()\n",
    "    plt.show()"
   ]
  },
  {
   "cell_type": "code",
   "execution_count": 48,
   "metadata": {},
   "outputs": [
    {
     "data": {
      "image/png": "[encoded data removed]",
      "text/plain": [
       "<Figure size 432x288 with 1 Axes>"
      ]
     },
     "metadata": {},
     "output_type": "display_data"
    }
   ],
   "source": [
    "compare_loss({'Dropout': history_dropout, 'CNN': history_cnn, 'GRU': history_gru})"
   ]
  },
  {
   "cell_type": "code",
   "execution_count": 50,
   "metadata": {},
   "outputs": [],
   "source": [
    "def compare_accuracy(histories):\n",
    "    epochs = range(1, len(list(histories.values())[0].history['val_acc']) + 1)\n",
    "\n",
    "    for i, history in histories.items():\n",
    "        val_loss = history.history['val_acc']\n",
    "        plt.plot(epochs, val_loss, label='Validation Accuracy {}'.format(i))\n",
    "            \n",
    "    plt.xlabel('Epochs')\n",
    "    plt.ylabel('Accuracy')\n",
    "    plt.legend()\n",
    "    plt.show()"
   ]
  },
  {
   "cell_type": "code",
   "execution_count": 51,
   "metadata": {},
   "outputs": [
    {
     "data": {
      "image/png": "[encoded data removed]",
      "text/plain": [
       "<Figure size 432x288 with 1 Axes>"
      ]
     },
     "metadata": {},
     "output_type": "display_data"
    }
   ],
   "source": [
    "compare_accuracy({'Dropout': history_dropout, 'CNN': history_cnn, 'GRU': history_gru})"
   ]
  },
  {
   "cell_type": "code",
   "execution_count": 52,
   "metadata": {},
   "outputs": [],
   "source": [
    "def min_loss(history):\n",
    "    val_loss = history.history['val_loss'] \n",
    "    return np.argmin(val_loss) + 1 \n",
    "\n",
    "def accuracy(history, epoch):\n",
    "    val_acc = history.history['val_acc']\n",
    "    return val_acc[epoch - 1]"
   ]
  },
  {
   "cell_type": "code",
   "execution_count": 54,
   "metadata": {
    "scrolled": true
   },
   "outputs": [
    {
     "name": "stdout",
     "output_type": "stream",
     "text": [
      "min loss for model dropout is 4\n",
      "min loss for model cnn is 4\n",
      "min loss for model gru is 3\n"
     ]
    }
   ],
   "source": [
    "print('min loss for model dropout is {}'.format(min_loss(history_dropout)))\n",
    "print('min loss for model cnn is {}'.format(min_loss(history_cnn)))\n",
    "print('min loss for model gru is {}'.format(min_loss(history_gru)))"
   ]
  },
  {
   "cell_type": "code",
   "execution_count": 56,
   "metadata": {},
   "outputs": [
    {
     "name": "stdout",
     "output_type": "stream",
     "text": [
      "best validation accuracy for model dropout is 0.834299167054842\n",
      "best validation accuracy for model cnn is 0.7555233611658145\n",
      "best validation accuracy for model gru is 0.824520101498884\n"
     ]
    }
   ],
   "source": [
    "print('best validation accuracy for model dropout is {}'.format(\n",
    "    accuracy(history_dropout, min_loss(history_dropout))))\n",
    "print('best validation accuracy for model cnn is {}'.format(\n",
    "    accuracy(history_cnn, min_loss(history_cnn))))\n",
    "print('best validation accuracy for model gru is {}'.format(\n",
    "    accuracy(history_gru, min_loss(history_gru))))"
   ]
  },
  {
   "cell_type": "markdown",
   "metadata": {},
   "source": [
    "### Evaluate on the Test Set\n",
    "\n",
    "We still want to evaluate the models with embedding to understand if it overfits on input data."
   ]
  },
  {
   "cell_type": "code",
   "execution_count": 57,
   "metadata": {},
   "outputs": [
    {
     "name": "stdout",
     "output_type": "stream",
     "text": [
      "_________________________________________________________________\n",
      "Layer (type)                 Output Shape              Param #   \n",
      "=================================================================\n",
      "embed (Embedding)            (None, 100, 128)          1408000   \n",
      "_________________________________________________________________\n",
      "batch_normalization_4 (Batch (None, 100, 128)          512       \n",
      "_________________________________________________________________\n",
      "bidirectional_4 (Bidirection (None, 512)               591360    \n",
      "_________________________________________________________________\n",
      "dense_10 (Dense)             (None, 20)                10260     \n",
      "=================================================================\n",
      "Total params: 2,010,132\n",
      "Trainable params: 2,009,876\n",
      "Non-trainable params: 256\n",
      "_________________________________________________________________\n"
     ]
    }
   ],
   "source": [
    "model = build_model_rnn(128,256, bidirectional=True)\n",
    "model.summary()"
   ]
  },
  {
   "cell_type": "code",
   "execution_count": 60,
   "metadata": {},
   "outputs": [
    {
     "name": "stdout",
     "output_type": "stream",
     "text": [
      "Epoch 1/3\n",
      "110434/110434 [==============================] - 118s 1ms/step - loss: 1.2023 - acc: 0.6210\n",
      "Epoch 2/3\n",
      "110434/110434 [==============================] - 117s 1ms/step - loss: 0.5659 - acc: 0.8043\n",
      "Epoch 3/3\n",
      "110434/110434 [==============================] - 117s 1ms/step - loss: 0.4669 - acc: 0.8373\n"
     ]
    }
   ],
   "source": [
    "history = model.fit(x=np.concatenate([x_train_pad, x_val_pad]), y=np.concatenate([y_train_vect, y_val_vect]), \n",
    "                    epochs=3, batch_size=256)"
   ]
  },
  {
   "cell_type": "code",
   "execution_count": 62,
   "metadata": {},
   "outputs": [
    {
     "name": "stdout",
     "output_type": "stream",
     "text": [
      "27609/27609 [==============================] - 31s 1ms/step\n"
     ]
    }
   ],
   "source": [
    "loss, acc = model.evaluate(x_test_pad, y_test_vect)"
   ]
  },
  {
   "cell_type": "code",
   "execution_count": 63,
   "metadata": {},
   "outputs": [
    {
     "name": "stdout",
     "output_type": "stream",
     "text": [
      "loss 0.5066765188834051\n",
      "acc 0.8221232206997002\n"
     ]
    }
   ],
   "source": [
    "print('loss {}'.format(loss))\n",
    "print('acc {}'.format(acc))"
   ]
  },
  {
   "cell_type": "markdown",
   "metadata": {},
   "source": [
    "## Conclusion\n",
    "\n",
    "We evaluated how to use Embeddings as alternative to one-hot encoding. \n"
   ]
  }
 ],
 "metadata": {
  "kernelspec": {
   "display_name": "Python 3",
   "language": "python",
   "name": "python3"
  },
  "language_info": {
   "codemirror_mode": {
    "name": "ipython",
    "version": 3
   },
   "file_extension": ".py",
   "mimetype": "text/x-python",
   "name": "python",
   "nbconvert_exporter": "python",
   "pygments_lexer": "ipython3",
   "version": "3.6.5"
  }
 },
 "nbformat": 4,
 "nbformat_minor": 2
}
