{
 "cells": [
  {
   "cell_type": "code",
   "execution_count": 1,
   "metadata": {},
   "outputs": [],
   "source": [
    "import numpy as np\n",
    "import pandas as pd\n",
    "import math\n",
    "import random\n",
    "import pickle\n",
    "import json\n",
    "\n",
    "# to make the experimens replicable\n",
    "random.seed(123456)"
   ]
  },
  {
   "cell_type": "code",
   "execution_count": 2,
   "metadata": {},
   "outputs": [],
   "source": [
    "df_uffici = pd.read_csv('../data/dg_struttura.csv', dtype=str)\n",
    "id_label_dict = dict(zip(df_uffici['ID'].values, df_uffici['NOME'].values))"
   ]
  },
  {
   "cell_type": "code",
   "execution_count": 3,
   "metadata": {},
   "outputs": [],
   "source": [
    "df = pd.read_pickle('../data/atti_processed.pkl')"
   ]
  },
  {
   "cell_type": "code",
   "execution_count": 4,
   "metadata": {},
   "outputs": [
    {
     "data": {
      "text/html": [
       "<div>\n",
       "<style scoped>\n",
       "    .dataframe tbody tr th:only-of-type {\n",
       "        vertical-align: middle;\n",
       "    }\n",
       "\n",
       "    .dataframe tbody tr th {\n",
       "        vertical-align: top;\n",
       "    }\n",
       "\n",
       "    .dataframe thead th {\n",
       "        text-align: right;\n",
       "    }\n",
       "</style>\n",
       "<table border=\"1\" class=\"dataframe\">\n",
       "  <thead>\n",
       "    <tr style=\"text-align: right;\">\n",
       "      <th></th>\n",
       "      <th>CODICE_PRATICA</th>\n",
       "      <th>DATA_ATTO</th>\n",
       "      <th>DESCRIZIONE</th>\n",
       "      <th>DESCRIZIONE_TIPO_ATTO</th>\n",
       "      <th>DESCRIZIONE_TIPO_PRATICA</th>\n",
       "      <th>ID_TIPO_PRATICA</th>\n",
       "      <th>LINK_CONTENUTO_BINARIO</th>\n",
       "      <th>OGGETTO</th>\n",
       "      <th>PERSONA</th>\n",
       "      <th>STATUS</th>\n",
       "      <th>UFFICIO_AC</th>\n",
       "      <th>UFFICIO_DG</th>\n",
       "      <th>UFFICIO_SE</th>\n",
       "      <th>publisher</th>\n",
       "    </tr>\n",
       "  </thead>\n",
       "  <tbody>\n",
       "    <tr>\n",
       "      <th>0</th>\n",
       "      <td>20000000011999AD00000005121</td>\n",
       "      <td>2000-01-04</td>\n",
       "      <td>Atto soggetto a pubblicazione per estratto</td>\n",
       "      <td>Decreto soggetto a controllo congiunto</td>\n",
       "      <td>Atto dei dirigenti</td>\n",
       "      <td>MON</td>\n",
       "      <td>http://www.regione.toscana.it/bancadati/atti/C...</td>\n",
       "      <td>DIP. ALESSANDRO ANNUNZIATI (MATR. 14117). ASPE...</td>\n",
       "      <td>004744</td>\n",
       "      <td>2</td>\n",
       "      <td>04246</td>\n",
       "      <td>01931</td>\n",
       "      <td>04516</td>\n",
       "      <td>Acrobat PDFWriter4.0 per Windows</td>\n",
       "    </tr>\n",
       "    <tr>\n",
       "      <th>1</th>\n",
       "      <td>20000000021999AD00000005123</td>\n",
       "      <td>2000-01-04</td>\n",
       "      <td>Atto soggetto a pubblicazione per estratto</td>\n",
       "      <td>Decreto soggetto a controllo congiunto</td>\n",
       "      <td>Atto dei dirigenti</td>\n",
       "      <td>MON</td>\n",
       "      <td>http://www.regione.toscana.it/bancadati/atti/C...</td>\n",
       "      <td>DIP. GIOVANNI ORLANDINI (MATR. 14311). ASPETTA...</td>\n",
       "      <td>004744</td>\n",
       "      <td>2</td>\n",
       "      <td>04246</td>\n",
       "      <td>01931</td>\n",
       "      <td>04516</td>\n",
       "      <td>Acrobat PDFWriter4.0 per Windows</td>\n",
       "    </tr>\n",
       "    <tr>\n",
       "      <th>2</th>\n",
       "      <td>20000000031999AD00000005018</td>\n",
       "      <td>2000-01-04</td>\n",
       "      <td>Atto soggetto a pubblicazione per estratto</td>\n",
       "      <td>Decreto soggetto a controllo congiunto</td>\n",
       "      <td>Atto dei dirigenti</td>\n",
       "      <td>MON</td>\n",
       "      <td>http://www.regione.toscana.it/bancadati/atti/C...</td>\n",
       "      <td>DIP. LEONELLO TOCCAFONDI. CONGEDO STRAORDINARI...</td>\n",
       "      <td>004744</td>\n",
       "      <td>2</td>\n",
       "      <td>04246</td>\n",
       "      <td>01931</td>\n",
       "      <td>04516</td>\n",
       "      <td>Acrobat PDFWriter4.0 per Windows</td>\n",
       "    </tr>\n",
       "    <tr>\n",
       "      <th>3</th>\n",
       "      <td>20000000041999AD00000005116</td>\n",
       "      <td>2000-01-04</td>\n",
       "      <td>Atto soggetto a pubblicazione per estratto</td>\n",
       "      <td>Decreto soggetto a controllo congiunto</td>\n",
       "      <td>Atto dei dirigenti</td>\n",
       "      <td>MON</td>\n",
       "      <td>http://www.regione.toscana.it/bancadati/atti/C...</td>\n",
       "      <td>DIPENDENTI REGIONALI DIVERSI. CONGEDO STRAORDI...</td>\n",
       "      <td>004744</td>\n",
       "      <td>2</td>\n",
       "      <td>04246</td>\n",
       "      <td>01931</td>\n",
       "      <td>04516</td>\n",
       "      <td>Acrobat PDFWriter4.0 per Windows</td>\n",
       "    </tr>\n",
       "    <tr>\n",
       "      <th>4</th>\n",
       "      <td>20000000051999AD00000005127</td>\n",
       "      <td>2000-01-04</td>\n",
       "      <td>Atto soggetto a pubblicazione per estratto</td>\n",
       "      <td>Decreto soggetto a controllo congiunto</td>\n",
       "      <td>Atto dei dirigenti</td>\n",
       "      <td>MON</td>\n",
       "      <td>http://www.regione.toscana.it/bancadati/atti/C...</td>\n",
       "      <td>DIP. SILVIA LORENZI (MATR. 13366). CONGEDO STR...</td>\n",
       "      <td>004744</td>\n",
       "      <td>2</td>\n",
       "      <td>04246</td>\n",
       "      <td>01931</td>\n",
       "      <td>04516</td>\n",
       "      <td>Acrobat PDFWriter4.0 per Windows</td>\n",
       "    </tr>\n",
       "  </tbody>\n",
       "</table>\n",
       "</div>"
      ],
      "text/plain": [
       "                CODICE_PRATICA  DATA_ATTO  \\\n",
       "0  20000000011999AD00000005121 2000-01-04   \n",
       "1  20000000021999AD00000005123 2000-01-04   \n",
       "2  20000000031999AD00000005018 2000-01-04   \n",
       "3  20000000041999AD00000005116 2000-01-04   \n",
       "4  20000000051999AD00000005127 2000-01-04   \n",
       "\n",
       "                                  DESCRIZIONE  \\\n",
       "0  Atto soggetto a pubblicazione per estratto   \n",
       "1  Atto soggetto a pubblicazione per estratto   \n",
       "2  Atto soggetto a pubblicazione per estratto   \n",
       "3  Atto soggetto a pubblicazione per estratto   \n",
       "4  Atto soggetto a pubblicazione per estratto   \n",
       "\n",
       "                    DESCRIZIONE_TIPO_ATTO DESCRIZIONE_TIPO_PRATICA  \\\n",
       "0  Decreto soggetto a controllo congiunto       Atto dei dirigenti   \n",
       "1  Decreto soggetto a controllo congiunto       Atto dei dirigenti   \n",
       "2  Decreto soggetto a controllo congiunto       Atto dei dirigenti   \n",
       "3  Decreto soggetto a controllo congiunto       Atto dei dirigenti   \n",
       "4  Decreto soggetto a controllo congiunto       Atto dei dirigenti   \n",
       "\n",
       "  ID_TIPO_PRATICA                             LINK_CONTENUTO_BINARIO  \\\n",
       "0             MON  http://www.regione.toscana.it/bancadati/atti/C...   \n",
       "1             MON  http://www.regione.toscana.it/bancadati/atti/C...   \n",
       "2             MON  http://www.regione.toscana.it/bancadati/atti/C...   \n",
       "3             MON  http://www.regione.toscana.it/bancadati/atti/C...   \n",
       "4             MON  http://www.regione.toscana.it/bancadati/atti/C...   \n",
       "\n",
       "                                             OGGETTO PERSONA STATUS  \\\n",
       "0  DIP. ALESSANDRO ANNUNZIATI (MATR. 14117). ASPE...  004744      2   \n",
       "1  DIP. GIOVANNI ORLANDINI (MATR. 14311). ASPETTA...  004744      2   \n",
       "2  DIP. LEONELLO TOCCAFONDI. CONGEDO STRAORDINARI...  004744      2   \n",
       "3  DIPENDENTI REGIONALI DIVERSI. CONGEDO STRAORDI...  004744      2   \n",
       "4  DIP. SILVIA LORENZI (MATR. 13366). CONGEDO STR...  004744      2   \n",
       "\n",
       "  UFFICIO_AC UFFICIO_DG UFFICIO_SE                         publisher  \n",
       "0      04246      01931      04516  Acrobat PDFWriter4.0 per Windows  \n",
       "1      04246      01931      04516  Acrobat PDFWriter4.0 per Windows  \n",
       "2      04246      01931      04516  Acrobat PDFWriter4.0 per Windows  \n",
       "3      04246      01931      04516  Acrobat PDFWriter4.0 per Windows  \n",
       "4      04246      01931      04516  Acrobat PDFWriter4.0 per Windows  "
      ]
     },
     "execution_count": 4,
     "metadata": {},
     "output_type": "execute_result"
    }
   ],
   "source": [
    "df.head()"
   ]
  },
  {
   "cell_type": "code",
   "execution_count": 5,
   "metadata": {},
   "outputs": [
    {
     "data": {
      "text/plain": [
       "(184318, 14)"
      ]
     },
     "execution_count": 5,
     "metadata": {},
     "output_type": "execute_result"
    }
   ],
   "source": [
    "df.shape"
   ]
  },
  {
   "cell_type": "markdown",
   "metadata": {},
   "source": [
    "### Documents per Office"
   ]
  },
  {
   "cell_type": "code",
   "execution_count": 6,
   "metadata": {},
   "outputs": [
    {
     "data": {
      "text/plain": [
       "UFFICIO_DG\n",
       "50073    15748\n",
       "50004    14375\n",
       "50117    14059\n",
       "50115    12691\n",
       "50000    12439\n",
       "50116    12275\n",
       "50003    11145\n",
       "50005     9865\n",
       "50202     8858\n",
       "01937     8794\n",
       "50006     6788\n",
       "50119     5999\n",
       "01934     5882\n",
       "01943     5186\n",
       "50125     4892\n",
       "01928     3886\n",
       "01946     3855\n",
       "50007     3592\n",
       "01025     3257\n",
       "50002     2893\n",
       "50201     2205\n",
       "50123     2160\n",
       "01931     1748\n",
       "02090     1566\n",
       "01027     1528\n",
       "50127     1445\n",
       "01923     1141\n",
       "50112     1102\n",
       "99999     1060\n",
       "50124      972\n",
       "50113      877\n",
       "50114      677\n",
       "50122      603\n",
       "50044      464\n",
       "50200      186\n",
       "50026      105\n",
       "Name: CODICE_PRATICA, dtype: int64"
      ]
     },
     "execution_count": 6,
     "metadata": {},
     "output_type": "execute_result"
    }
   ],
   "source": [
    "grouped = df.groupby(['UFFICIO_DG']).count()['CODICE_PRATICA'].sort_values(ascending=False)\n",
    "grouped"
   ]
  },
  {
   "cell_type": "markdown",
   "metadata": {},
   "source": [
    "we remove the observations for the following offices"
   ]
  },
  {
   "cell_type": "code",
   "execution_count": 7,
   "metadata": {},
   "outputs": [
    {
     "data": {
      "text/plain": [
       "Index(['50200', '50026'], dtype='object', name='UFFICIO_DG')"
      ]
     },
     "execution_count": 7,
     "metadata": {},
     "output_type": "execute_result"
    }
   ],
   "source": [
    "offices = grouped.index[-2:]\n",
    "offices"
   ]
  },
  {
   "cell_type": "code",
   "execution_count": 8,
   "metadata": {},
   "outputs": [],
   "source": [
    "for o in offices:\n",
    "    df = df[df['UFFICIO_DG'] != o]"
   ]
  },
  {
   "cell_type": "code",
   "execution_count": 9,
   "metadata": {},
   "outputs": [
    {
     "data": {
      "text/plain": [
       "(184027, 14)"
      ]
     },
     "execution_count": 9,
     "metadata": {},
     "output_type": "execute_result"
    }
   ],
   "source": [
    "df.shape"
   ]
  },
  {
   "cell_type": "markdown",
   "metadata": {},
   "source": [
    "## Dataset Creation\n",
    "\n",
    "Indipendent Variable:\n",
    "- 'OGGETTO'\n",
    "- 'UFFICIO_DG'\n",
    "- 'DESCRIZIONE_TIPO_ATTO'\n",
    "- 'DESCRIZIONE_TIPO_PRATICA'\n",
    "- 'publisher'"
   ]
  },
  {
   "cell_type": "code",
   "execution_count": 10,
   "metadata": {},
   "outputs": [],
   "source": [
    "df_dataset = df[['OGGETTO', 'UFFICIO_DG']]"
   ]
  },
  {
   "cell_type": "code",
   "execution_count": 11,
   "metadata": {},
   "outputs": [
    {
     "data": {
      "text/plain": [
       "(184027, 2)"
      ]
     },
     "execution_count": 11,
     "metadata": {},
     "output_type": "execute_result"
    }
   ],
   "source": [
    "df_dataset.shape"
   ]
  },
  {
   "cell_type": "code",
   "execution_count": 12,
   "metadata": {},
   "outputs": [],
   "source": [
    "samples = np.array([x[0] for x in df_dataset.as_matrix()])\n",
    "labels = np.array([x[1] for x in df_dataset.as_matrix()])"
   ]
  },
  {
   "cell_type": "code",
   "execution_count": 13,
   "metadata": {},
   "outputs": [
    {
     "name": "stdout",
     "output_type": "stream",
     "text": [
      "ELENCO REGIONALE DELLE AZIENDE PRODUTTRICI E FORNITRICI DI PROTESI ED AUSILI DI CUI AL DECRETO N. 1317 DEL 20.03.1998: MODIFICHE ED INTEGRAZIONI\n",
      "01943\n"
     ]
    }
   ],
   "source": [
    "print(samples[10])\n",
    "print(labels[10])"
   ]
  },
  {
   "cell_type": "code",
   "execution_count": 14,
   "metadata": {},
   "outputs": [],
   "source": [
    "labels = np.array([id_label_dict[x] if x in id_label_dict else 'office_{}'.format(x) for x in labels])"
   ]
  },
  {
   "cell_type": "code",
   "execution_count": 15,
   "metadata": {},
   "outputs": [],
   "source": [
    "indexes = np.array(range(len(samples)))\n",
    "np.random.shuffle(indexes)"
   ]
  },
  {
   "cell_type": "code",
   "execution_count": 16,
   "metadata": {},
   "outputs": [],
   "source": [
    "samples = samples[indexes]\n",
    "labels = labels[indexes]"
   ]
  },
  {
   "cell_type": "markdown",
   "metadata": {},
   "source": [
    "### Transform labels to ids"
   ]
  },
  {
   "cell_type": "code",
   "execution_count": 17,
   "metadata": {},
   "outputs": [],
   "source": [
    "ids_labels = dict(enumerate(sorted(list(set(labels)))))\n",
    "labels_ids = {v:k for k,v in ids_labels.items()}"
   ]
  },
  {
   "cell_type": "code",
   "execution_count": 18,
   "metadata": {},
   "outputs": [
    {
     "data": {
      "text/plain": [
       "{'ALTRI UFFICI': 0,\n",
       " 'AVVOCATURA REGIONALE                                  ': 1,\n",
       " 'D.G.  AVVOCATURA                                      ': 2,\n",
       " \"D.G. COMPETITIVITA' DEL SISTEMA REGIONALE E SVILUPPO D\": 3,\n",
       " 'D.G. PRESIDENZA                                       ': 4,\n",
       " 'DIPARTIMENTO BILANCIO E FINANZE                       ': 5,\n",
       " 'DIPARTIMENTO ORGANIZZAZIONE                           ': 6,\n",
       " 'DIPARTIMENTO ORGANIZZAZIONE E RISORSE                 ': 7,\n",
       " 'DIPARTIMENTO POLITICHE FORMATIVE E BENI CULTURALI     ': 8,\n",
       " 'DIPARTIMENTO POLITICHE TERRITORIALI E AMBIENTALI      ': 9,\n",
       " 'DIPARTIMENTO PRESIDENZA AFFARI LEGISLATIVI E GIURIDICI': 10,\n",
       " 'DIPARTIMENTO SALUTE E POLITICHE SOLIDARIETA           ': 11,\n",
       " 'DIPARTIMENTO SVILUPPO ECONOMICO                       ': 12,\n",
       " 'DIREZIONE AFFARI LEGISLATIVI, GIURIDICI ED ISTITUZIONALI': 13,\n",
       " 'DIREZIONE AGRICOLTURA E SVILUPPO RURALE': 14,\n",
       " \"DIREZIONE ATTIVITA' PRODUTTIVE\": 15,\n",
       " 'DIREZIONE CULTURA E RICERCA': 16,\n",
       " 'DIREZIONE DIFESA DEL SUOLO E PROTEZIONE CIVILE': 17,\n",
       " 'DIREZIONE DIRITTI DI CITTADINANZA E COESIONE SOCIALE': 18,\n",
       " 'DIREZIONE GENERALE BILANCIO E FINANZE                 ': 19,\n",
       " 'DIREZIONE GENERALE DIREZIONE GENERALE DELLA GIUNTA REGIONALE': 20,\n",
       " 'DIREZIONE GENERALE DIRITTO ALLA SALUTE E POLITICHE DI ': 21,\n",
       " 'DIREZIONE GENERALE POLITICHE FORMATIVE, BENI E ATTIVIT': 22,\n",
       " \"DIREZIONE GENERALE POLITICHE MOBILITA', INFRASTRUTTURE E TRASPORTO PUBBLICO LOCALE\": 23,\n",
       " 'DIREZIONE GENERALE POLITICHE TERRITORIALI E AMBIENTALI': 24,\n",
       " 'DIREZIONE GENERALE SVILUPPO ECONOMICO                 ': 25,\n",
       " 'DIREZIONE ISTRUZIONE E FORMAZIONE': 26,\n",
       " 'DIREZIONE LAVORO': 27,\n",
       " 'DIREZIONE ORGANIZZAZIONE E SISTEMI INFORMATIVI': 28,\n",
       " 'DIREZIONE PROGRAMMAZIONE E BILANCIO': 29,\n",
       " 'DIREZIONE URBANISTICA, CASA E POLITICHE ABITATIVE': 30,\n",
       " 'POLITICHE AMBIENTALI, ENERGIA E CAMBIAMENTI CLIMATICI': 31,\n",
       " 'SEGRETERIE ORGANI POLITICI UFFICIO DI GABINETTO': 32,\n",
       " 'UFFICI DEL GENIO CIVILE                               ': 33}"
      ]
     },
     "execution_count": 18,
     "metadata": {},
     "output_type": "execute_result"
    }
   ],
   "source": [
    "labels_ids"
   ]
  },
  {
   "cell_type": "code",
   "execution_count": 19,
   "metadata": {},
   "outputs": [],
   "source": [
    "with open('../data/dataset/label_index.json', 'w') as f:\n",
    "    json.dump(labels_ids,f)"
   ]
  },
  {
   "cell_type": "code",
   "execution_count": 20,
   "metadata": {},
   "outputs": [],
   "source": [
    "encoded_labels = np.array([labels_ids[x] for x in labels])"
   ]
  },
  {
   "cell_type": "markdown",
   "metadata": {},
   "source": [
    "### Transform the samples into ids\n",
    "\n",
    "Removed numbers"
   ]
  },
  {
   "cell_type": "code",
   "execution_count": 21,
   "metadata": {},
   "outputs": [
    {
     "name": "stdout",
     "output_type": "stream",
     "text": [
      "[nltk_data] Downloading package stopwords to /home/fabio/nltk_data...\n",
      "[nltk_data]   Package stopwords is already up-to-date!\n",
      "[nltk_data] Downloading package punkt to /home/fabio/nltk_data...\n",
      "[nltk_data]   Package punkt is already up-to-date!\n"
     ]
    }
   ],
   "source": [
    "import nltk\n",
    "from nltk.tokenize import word_tokenize\n",
    "from nltk.corpus import stopwords\n",
    "from nltk.tokenize import RegexpTokenizer\n",
    "\n",
    "nltk.download('stopwords')\n",
    "nltk.download('punkt')\n",
    "\n",
    "punctuation = ['-', '\"', \"'\", ':', ';', '(', ')', '[', ']', '{', '}', '’', '”', '“', '``', \"''\"]\n",
    "stop_words = set(stopwords.words('italian'))\n",
    "stop_words.update(punctuation)"
   ]
  },
  {
   "cell_type": "code",
   "execution_count": 22,
   "metadata": {},
   "outputs": [],
   "source": [
    "def hasnumbers(value):\n",
    "    return any(c.isdigit() for c in value)"
   ]
  },
  {
   "cell_type": "code",
   "execution_count": 23,
   "metadata": {},
   "outputs": [],
   "source": [
    "def tokenize_sample(samples, remove_stopwords=True, tokenizer=word_tokenize):\n",
    "    for sample in samples:\n",
    "        words = []\n",
    "        sample = sample.replace('`', ' ')\n",
    "        sample = sample.replace(\"'\", \" \")\n",
    "        sample = sample.replace(\"”\", ' ')\n",
    "        sample = sample.replace(\"“\", ' ')\n",
    "        for w in tokenizer(sample):\n",
    "            if not hasnumbers(w) and len(w) > 2:\n",
    "                w = w.replace('_', '')\n",
    "                if remove_stopwords:\n",
    "                    if w not in stop_words:\n",
    "                        words.append(w.lower())\n",
    "                elif w in stop_words or len(w) > 1:\n",
    "                    words.append(w.lower())\n",
    "        yield words"
   ]
  },
  {
   "cell_type": "code",
   "execution_count": 24,
   "metadata": {},
   "outputs": [],
   "source": [
    "tokenizer = RegexpTokenizer(r'\\w+')"
   ]
  },
  {
   "cell_type": "code",
   "execution_count": 25,
   "metadata": {},
   "outputs": [],
   "source": [
    "samples_tokenized = list(tokenize_sample(samples, remove_stopwords=False, tokenizer=tokenizer.tokenize))"
   ]
  },
  {
   "cell_type": "code",
   "execution_count": 26,
   "metadata": {},
   "outputs": [],
   "source": [
    "from collections import Counter\n",
    "\n",
    "counter = Counter()\n",
    "\n",
    "for sentence in samples_tokenized:\n",
    "    counter.update(sentence)"
   ]
  },
  {
   "cell_type": "code",
   "execution_count": 27,
   "metadata": {},
   "outputs": [
    {
     "data": {
      "text/plain": [
       "[('del', 124592),\n",
       " ('per', 106894),\n",
       " ('della', 69735),\n",
       " ('dell', 43670),\n",
       " ('regionale', 38600),\n",
       " ('art', 35297),\n",
       " ('delle', 31919),\n",
       " ('dei', 29820),\n",
       " ('impegno', 29750),\n",
       " ('comune', 29678),\n",
       " ('alla', 27894),\n",
       " ('approvazione', 27840),\n",
       " ('toscana', 27650),\n",
       " ('liquidazione', 24508),\n",
       " ('all', 22846),\n",
       " ('con', 22583),\n",
       " ('autorizzazione', 20523),\n",
       " ('progetto', 19461),\n",
       " ('spesa', 18459),\n",
       " ('sensi', 18230)]"
      ]
     },
     "execution_count": 27,
     "metadata": {},
     "output_type": "execute_result"
    }
   ],
   "source": [
    "counter.most_common()[:20]"
   ]
  },
  {
   "cell_type": "markdown",
   "metadata": {},
   "source": [
    "The words are enumerated in ascending order so that we can select the top k words during the classification task"
   ]
  },
  {
   "cell_type": "code",
   "execution_count": 28,
   "metadata": {},
   "outputs": [],
   "source": [
    "words = [w for w,_ in counter.most_common()]"
   ]
  },
  {
   "cell_type": "code",
   "execution_count": 31,
   "metadata": {},
   "outputs": [
    {
     "data": {
      "text/plain": [
       "52396"
      ]
     },
     "execution_count": 31,
     "metadata": {},
     "output_type": "execute_result"
    }
   ],
   "source": [
    "len(words) + 3"
   ]
  },
  {
   "cell_type": "code",
   "execution_count": 32,
   "metadata": {},
   "outputs": [],
   "source": [
    "id_word_dict = dict(enumerate([w for w in words],3))\n",
    "word_id_dict = {v:k for k,v in id_word_dict.items()}"
   ]
  },
  {
   "cell_type": "code",
   "execution_count": 33,
   "metadata": {},
   "outputs": [],
   "source": [
    "with open('../data/dataset/id_word_dict.json','w') as f:\n",
    "    json.dump(id_word_dict,f)"
   ]
  },
  {
   "cell_type": "code",
   "execution_count": 34,
   "metadata": {},
   "outputs": [],
   "source": [
    "pad_char = 0\n",
    "start_char=1\n",
    "oov_char=2"
   ]
  },
  {
   "cell_type": "code",
   "execution_count": 35,
   "metadata": {},
   "outputs": [],
   "source": [
    "def to_sequece_of_ids(tokenized_samples, word_id_dict):\n",
    "    results = []\n",
    "    for sample in tokenized_samples:\n",
    "        encoded_sample = []\n",
    "        for w in sample:\n",
    "            if w in word_id_dict:\n",
    "                encoded_sample.append(word_id_dict[w])\n",
    "            else:\n",
    "                encoded_sample.append(oov_char)\n",
    "        results.append(encoded_sample)\n",
    "    return results"
   ]
  },
  {
   "cell_type": "code",
   "execution_count": 36,
   "metadata": {},
   "outputs": [],
   "source": [
    "encoded_samples = np.array(to_sequece_of_ids(samples_tokenized, word_id_dict))"
   ]
  },
  {
   "cell_type": "code",
   "execution_count": 37,
   "metadata": {},
   "outputs": [
    {
     "data": {
      "text/plain": [
       "array([list([837, 287, 4, 68, 5, 373, 2079, 476, 703, 8655, 18, 907, 2849, 4875, 2880, 609, 954, 355, 4, 31, 502, 826, 189, 4382, 123, 2020, 10269, 10270, 10, 504, 468, 682, 1062, 1287, 569, 1639, 1368, 14, 106, 165, 53, 21, 4, 27]),\n",
       "       list([68, 22, 6, 8, 43, 455, 3, 56, 13, 80, 955, 6358, 1266, 5, 373, 1844, 98, 179, 955, 14, 106, 165, 53]),\n",
       "       list([1038, 194, 3136, 15236, 62, 291, 1534, 2326, 18]),\n",
       "       list([706, 6503, 5, 332, 957, 3, 19, 228, 644, 7])], dtype=object)"
      ]
     },
     "execution_count": 37,
     "metadata": {},
     "output_type": "execute_result"
    }
   ],
   "source": [
    "encoded_samples[:4]"
   ]
  },
  {
   "cell_type": "code",
   "execution_count": 38,
   "metadata": {},
   "outputs": [
    {
     "data": {
      "text/plain": [
       "52374"
      ]
     },
     "execution_count": 38,
     "metadata": {},
     "output_type": "execute_result"
    }
   ],
   "source": [
    "max(np.max(encoded_samples))"
   ]
  },
  {
   "cell_type": "markdown",
   "metadata": {},
   "source": [
    "## Create Train and Test Set\n",
    "\n",
    "- shuffle data\n",
    "- split the dataset into 80-20"
   ]
  },
  {
   "cell_type": "code",
   "execution_count": 39,
   "metadata": {},
   "outputs": [],
   "source": [
    "from sklearn.model_selection import StratifiedShuffleSplit"
   ]
  },
  {
   "cell_type": "code",
   "execution_count": 40,
   "metadata": {},
   "outputs": [],
   "source": [
    "split_train_test = StratifiedShuffleSplit(1,test_size=0.2, random_state=123456)\n",
    "\n",
    "for train, test in split_train_test.split(encoded_samples, encoded_labels):\n",
    "    train_samples, test_samples = encoded_samples[train], encoded_samples[test]\n",
    "    train_labels, test_labels = encoded_labels[train], encoded_labels[test]"
   ]
  },
  {
   "cell_type": "markdown",
   "metadata": {},
   "source": [
    "## Save the Dataset"
   ]
  },
  {
   "cell_type": "code",
   "execution_count": 41,
   "metadata": {},
   "outputs": [],
   "source": [
    "np.savez_compressed('../data/dataset/atti_dataset.npz',\n",
    "                   x_train=train_samples, y_train=train_labels,\n",
    "                   x_test=test_samples, y_test=test_labels\n",
    "                   )"
   ]
  }
 ],
 "metadata": {
  "kernelspec": {
   "display_name": "Python 3",
   "language": "python",
   "name": "python3"
  },
  "language_info": {
   "codemirror_mode": {
    "name": "ipython",
    "version": 3
   },
   "file_extension": ".py",
   "mimetype": "text/x-python",
   "name": "python",
   "nbconvert_exporter": "python",
   "pygments_lexer": "ipython3",
   "version": "3.6.5"
  }
 },
 "nbformat": 4,
 "nbformat_minor": 2
}
