{
 "cells": [
  {
   "cell_type": "code",
   "execution_count": 1,
   "metadata": {},
   "outputs": [],
   "source": [
    "import json\n",
    "import pandas as pd\n",
    "import glob\n",
    "\n",
    "pd.options.display.max_columns = 999"
   ]
  },
  {
   "cell_type": "code",
   "execution_count": 2,
   "metadata": {},
   "outputs": [],
   "source": [
    "def unwrap_list(x):\n",
    "    if type(x) == list:\n",
    "        return x[0]\n",
    "    else:\n",
    "        return x"
   ]
  },
  {
   "cell_type": "markdown",
   "metadata": {},
   "source": [
    "## Loading Atti Dirigenti"
   ]
  },
  {
   "cell_type": "code",
   "execution_count": 3,
   "metadata": {},
   "outputs": [],
   "source": [
    "columns_to_keep = ['CODICE_PRATICA', 'DATA_ATTO', 'DESCRIZIONE',\n",
    "       'DESCRIZIONE_TIPO_ATTO', 'DESCRIZIONE_TIPO_PRATICA',\n",
    "       'ID_TIPO_PRATICA', 'LINK_CONTENUTO_BINARIO',\n",
    "       'OGGETTO', 'PERSONA', 'STATUS', 'UFFICIO_AC',\n",
    "       'UFFICIO_DG', 'UFFICIO_SE', 'publisher']\n",
    "\n",
    "def load_atti(source_path):\n",
    "    files = sorted(glob.glob(source_path))\n",
    "    results = []\n",
    "    for f in files:\n",
    "        df = pd.read_json(f)\n",
    "        df = df.applymap(unwrap_list)\n",
    "        df = df[columns_to_keep]\n",
    "        results.append(df)\n",
    "    return pd.concat(results)"
   ]
  },
  {
   "cell_type": "code",
   "execution_count": null,
   "metadata": {},
   "outputs": [],
   "source": [
    "atti_dirigenti_path = '../../data/atti_dirigenti/data-*'\n",
    "df_atti_dirigenti = load_atti(atti_dirigenti_path)"
   ]
  },
  {
   "cell_type": "code",
   "execution_count": null,
   "metadata": {},
   "outputs": [],
   "source": [
    "print(df_atti_dirigenti.publisher.shape)\n",
    "df_atti_dirigenti.head()"
   ]
  },
  {
   "cell_type": "code",
   "execution_count": null,
   "metadata": {},
   "outputs": [],
   "source": [
    "df_atti_dirigenti.to_pickle('../../data/atti_dirigenti.pkl')"
   ]
  },
  {
   "cell_type": "markdown",
   "metadata": {},
   "source": [
    "## Loading Atti Giunta"
   ]
  },
  {
   "cell_type": "code",
   "execution_count": null,
   "metadata": {},
   "outputs": [],
   "source": [
    "atti_giunta_path = '../../data/atti_giunta/data*'\n",
    "df_atti_giunta = load_atti(atti_giunta_path)"
   ]
  },
  {
   "cell_type": "code",
   "execution_count": null,
   "metadata": {},
   "outputs": [],
   "source": [
    "print(df_atti_giunta.shape)\n",
    "df_atti_giunta.head()"
   ]
  },
  {
   "cell_type": "code",
   "execution_count": null,
   "metadata": {},
   "outputs": [],
   "source": [
    "df_atti_giunta.to_pickle('../../data/atti_giunta.pkl')"
   ]
  },
  {
   "cell_type": "markdown",
   "metadata": {},
   "source": [
    "## Loading Atti Presidente"
   ]
  },
  {
   "cell_type": "code",
   "execution_count": null,
   "metadata": {},
   "outputs": [],
   "source": [
    "atti_presidente_path = '../../data/atti_presidente/data*'\n",
    "df_atti_presidente = load_atti(atti_presidente_path)"
   ]
  },
  {
   "cell_type": "code",
   "execution_count": null,
   "metadata": {},
   "outputs": [],
   "source": [
    "print(df_atti_presidente.shape)\n",
    "df_atti_presidente.head()"
   ]
  },
  {
   "cell_type": "code",
   "execution_count": null,
   "metadata": {},
   "outputs": [],
   "source": [
    "df_atti_presidente.to_pickle('../../data/atti_presidente.pkl')"
   ]
  },
  {
   "cell_type": "markdown",
   "metadata": {},
   "source": [
    "## Merge the 3 datasets"
   ]
  },
  {
   "cell_type": "code",
   "execution_count": null,
   "metadata": {},
   "outputs": [],
   "source": [
    "df_atti = pd.concat([df_atti_dirigenti, df_atti_giunta, df_atti_presidente])\n",
    "df_atti.shape"
   ]
  },
  {
   "cell_type": "code",
   "execution_count": null,
   "metadata": {},
   "outputs": [],
   "source": [
    "df_atti.to_pickle('../../data/atti.pkl')"
   ]
  }
 ],
 "metadata": {
  "kernelspec": {
   "display_name": "Python 3",
   "language": "python",
   "name": "python3"
  },
  "language_info": {
   "codemirror_mode": {
    "name": "ipython",
    "version": 3
   },
   "file_extension": ".py",
   "mimetype": "text/x-python",
   "name": "python",
   "nbconvert_exporter": "python",
   "pygments_lexer": "ipython3",
   "version": "3.6.5"
  }
 },
 "nbformat": 4,
 "nbformat_minor": 2
}
