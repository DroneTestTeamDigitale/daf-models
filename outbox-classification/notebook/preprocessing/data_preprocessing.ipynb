{
 "cells": [
  {
   "cell_type": "code",
   "execution_count": 1,
   "metadata": {},
   "outputs": [],
   "source": [
    "import numpy as np\n",
    "import pandas as pd\n",
    "\n",
    "import matplotlib.pyplot as plt\n",
    "plt.ioff()\n",
    "import seaborn as sns\n",
    "sns.set_style(\"whitegrid\")\n",
    "from scipy import stats, integrate\n",
    "from scipy.stats import kendalltau\n",
    "\n",
    "import warnings\n",
    "warnings.filterwarnings('ignore')\n",
    "\n",
    "# %matplotlib notebook\n",
    "\n",
    "plt.rcParams['figure.figsize'] = (6, 4)\n",
    "plt.rcParams['figure.dpi'] = 150\n",
    "plt.rcParams['grid.linestyle'] = '-'\n",
    "plt.rcParams['font.size'] = 4.0"
   ]
  },
  {
   "cell_type": "code",
   "execution_count": 2,
   "metadata": {},
   "outputs": [],
   "source": [
    "df_atti = pd.read_pickle('../../data/atti_dirigenti.pkl')"
   ]
  },
  {
   "cell_type": "markdown",
   "metadata": {},
   "source": [
    "# Analysis of the Dataset\n",
    "\n",
    "From the dataset we can see that:\n",
    "- there are duplicates for CODICE_PRATICA\n"
   ]
  },
  {
   "cell_type": "code",
   "execution_count": 3,
   "metadata": {},
   "outputs": [
    {
     "data": {
      "text/html": [
       "<div>\n",
       "<style scoped>\n",
       "    .dataframe tbody tr th:only-of-type {\n",
       "        vertical-align: middle;\n",
       "    }\n",
       "\n",
       "    .dataframe tbody tr th {\n",
       "        vertical-align: top;\n",
       "    }\n",
       "\n",
       "    .dataframe thead th {\n",
       "        text-align: right;\n",
       "    }\n",
       "</style>\n",
       "<table border=\"1\" class=\"dataframe\">\n",
       "  <thead>\n",
       "    <tr style=\"text-align: right;\">\n",
       "      <th></th>\n",
       "      <th>CODICE_PRATICA</th>\n",
       "      <th>DATA_ATTO</th>\n",
       "      <th>DESCRIZIONE</th>\n",
       "      <th>DESCRIZIONE_TIPO_ATTO</th>\n",
       "      <th>DESCRIZIONE_TIPO_PRATICA</th>\n",
       "      <th>ID_TIPO_PRATICA</th>\n",
       "      <th>LINK_CONTENUTO_BINARIO</th>\n",
       "      <th>OGGETTO</th>\n",
       "      <th>PERSONA</th>\n",
       "      <th>STATUS</th>\n",
       "      <th>UFFICIO_AC</th>\n",
       "      <th>UFFICIO_DG</th>\n",
       "      <th>UFFICIO_SE</th>\n",
       "      <th>publisher</th>\n",
       "    </tr>\n",
       "  </thead>\n",
       "  <tbody>\n",
       "    <tr>\n",
       "      <th>count</th>\n",
       "      <td>156239</td>\n",
       "      <td>156239</td>\n",
       "      <td>156239</td>\n",
       "      <td>156239</td>\n",
       "      <td>156239</td>\n",
       "      <td>156239</td>\n",
       "      <td>156239</td>\n",
       "      <td>156239</td>\n",
       "      <td>156239</td>\n",
       "      <td>156239</td>\n",
       "      <td>156239</td>\n",
       "      <td>156239</td>\n",
       "      <td>156239</td>\n",
       "      <td>156150</td>\n",
       "    </tr>\n",
       "    <tr>\n",
       "      <th>unique</th>\n",
       "      <td>156189</td>\n",
       "      <td>4600</td>\n",
       "      <td>16</td>\n",
       "      <td>4</td>\n",
       "      <td>1</td>\n",
       "      <td>1</td>\n",
       "      <td>134381</td>\n",
       "      <td>151695</td>\n",
       "      <td>389</td>\n",
       "      <td>2</td>\n",
       "      <td>353</td>\n",
       "      <td>43</td>\n",
       "      <td>856</td>\n",
       "      <td>12</td>\n",
       "    </tr>\n",
       "    <tr>\n",
       "      <th>top</th>\n",
       "      <td>20010026002001AD00000003202</td>\n",
       "      <td>2016-07-19</td>\n",
       "      <td>Atto pubblicato su Banca Dati (PBD)</td>\n",
       "      <td>Decreto soggetto a controllo congiunto</td>\n",
       "      <td>Atto dei dirigenti</td>\n",
       "      <td>MON</td>\n",
       "      <td>http://www.regione.toscana.it/bancadati/atti/C...</td>\n",
       "      <td>L.r. 55/2006 - \"Interventi in favore delle vit...</td>\n",
       "      <td>005549</td>\n",
       "      <td>2</td>\n",
       "      <td>00000</td>\n",
       "      <td>50073</td>\n",
       "      <td>0</td>\n",
       "      <td>iText 2.1.7 by 1T3XT; modified using iText® 5....</td>\n",
       "    </tr>\n",
       "    <tr>\n",
       "      <th>freq</th>\n",
       "      <td>2</td>\n",
       "      <td>256</td>\n",
       "      <td>46456</td>\n",
       "      <td>62872</td>\n",
       "      <td>156239</td>\n",
       "      <td>156239</td>\n",
       "      <td>21816</td>\n",
       "      <td>414</td>\n",
       "      <td>8686</td>\n",
       "      <td>156237</td>\n",
       "      <td>48394</td>\n",
       "      <td>13830</td>\n",
       "      <td>29063</td>\n",
       "      <td>57834</td>\n",
       "    </tr>\n",
       "  </tbody>\n",
       "</table>\n",
       "</div>"
      ],
      "text/plain": [
       "                     CODICE_PRATICA   DATA_ATTO  \\\n",
       "count                        156239      156239   \n",
       "unique                       156189        4600   \n",
       "top     20010026002001AD00000003202  2016-07-19   \n",
       "freq                              2         256   \n",
       "\n",
       "                                DESCRIZIONE  \\\n",
       "count                                156239   \n",
       "unique                                   16   \n",
       "top     Atto pubblicato su Banca Dati (PBD)   \n",
       "freq                                  46456   \n",
       "\n",
       "                         DESCRIZIONE_TIPO_ATTO DESCRIZIONE_TIPO_PRATICA  \\\n",
       "count                                   156239                   156239   \n",
       "unique                                       4                        1   \n",
       "top     Decreto soggetto a controllo congiunto       Atto dei dirigenti   \n",
       "freq                                     62872                   156239   \n",
       "\n",
       "       ID_TIPO_PRATICA                             LINK_CONTENUTO_BINARIO  \\\n",
       "count           156239                                             156239   \n",
       "unique               1                                             134381   \n",
       "top                MON  http://www.regione.toscana.it/bancadati/atti/C...   \n",
       "freq            156239                                              21816   \n",
       "\n",
       "                                                  OGGETTO PERSONA  STATUS  \\\n",
       "count                                              156239  156239  156239   \n",
       "unique                                             151695     389       2   \n",
       "top     L.r. 55/2006 - \"Interventi in favore delle vit...  005549       2   \n",
       "freq                                                  414    8686  156237   \n",
       "\n",
       "       UFFICIO_AC UFFICIO_DG UFFICIO_SE  \\\n",
       "count      156239     156239     156239   \n",
       "unique        353         43        856   \n",
       "top         00000      50073          0   \n",
       "freq        48394      13830      29063   \n",
       "\n",
       "                                                publisher  \n",
       "count                                              156150  \n",
       "unique                                                 12  \n",
       "top     iText 2.1.7 by 1T3XT; modified using iText® 5....  \n",
       "freq                                                57834  "
      ]
     },
     "execution_count": 3,
     "metadata": {},
     "output_type": "execute_result"
    }
   ],
   "source": [
    "df_atti.describe(include='all')"
   ]
  },
  {
   "cell_type": "code",
   "execution_count": 4,
   "metadata": {},
   "outputs": [],
   "source": [
    "df_atti['DATA_ATTO'] = pd.to_datetime(df_atti.DATA_ATTO)"
   ]
  },
  {
   "cell_type": "markdown",
   "metadata": {},
   "source": [
    "### Duplicates"
   ]
  },
  {
   "cell_type": "code",
   "execution_count": 5,
   "metadata": {},
   "outputs": [
    {
     "name": "stdout",
     "output_type": "stream",
     "text": [
      "(50,)\n"
     ]
    },
    {
     "data": {
      "text/plain": [
       "20010026002001AD00000003202    2\n",
       "20140002002014AD00000000154    2\n",
       "20000024002000AD00000002714    2\n",
       "20010002002001AD00000000253    2\n",
       "20130034002013AD004341         2\n",
       "20000046002000AD00000005290    2\n",
       "20120026002012AD00000002813    2\n",
       "20000002002000AD00000000031    2\n",
       "20090002002009AD00000000128    2\n",
       "20060002002006AD00000000268    2\n",
       "Name: CODICE_PRATICA, dtype: int64"
      ]
     },
     "execution_count": 5,
     "metadata": {},
     "output_type": "execute_result"
    }
   ],
   "source": [
    "duplicates = df_atti['CODICE_PRATICA'].value_counts()[df_atti['CODICE_PRATICA'].value_counts() > 1]\n",
    "print(duplicates.shape)\n",
    "duplicates[:10]"
   ]
  },
  {
   "cell_type": "code",
   "execution_count": 6,
   "metadata": {},
   "outputs": [
    {
     "data": {
      "text/html": [
       "<div>\n",
       "<style scoped>\n",
       "    .dataframe tbody tr th:only-of-type {\n",
       "        vertical-align: middle;\n",
       "    }\n",
       "\n",
       "    .dataframe tbody tr th {\n",
       "        vertical-align: top;\n",
       "    }\n",
       "\n",
       "    .dataframe thead th {\n",
       "        text-align: right;\n",
       "    }\n",
       "</style>\n",
       "<table border=\"1\" class=\"dataframe\">\n",
       "  <thead>\n",
       "    <tr style=\"text-align: right;\">\n",
       "      <th></th>\n",
       "      <th>CODICE_PRATICA</th>\n",
       "      <th>DATA_ATTO</th>\n",
       "      <th>DESCRIZIONE</th>\n",
       "      <th>DESCRIZIONE_TIPO_ATTO</th>\n",
       "      <th>DESCRIZIONE_TIPO_PRATICA</th>\n",
       "      <th>ID_TIPO_PRATICA</th>\n",
       "      <th>LINK_CONTENUTO_BINARIO</th>\n",
       "      <th>OGGETTO</th>\n",
       "      <th>PERSONA</th>\n",
       "      <th>STATUS</th>\n",
       "      <th>UFFICIO_AC</th>\n",
       "      <th>UFFICIO_DG</th>\n",
       "      <th>UFFICIO_SE</th>\n",
       "      <th>publisher</th>\n",
       "    </tr>\n",
       "  </thead>\n",
       "  <tbody>\n",
       "    <tr>\n",
       "      <th>199</th>\n",
       "      <td>20010036002001AD00000004022</td>\n",
       "      <td>2001-06-19</td>\n",
       "      <td>Atto soggetto a pubblicazione per estratto (PEDP)</td>\n",
       "      <td>Decreto soggetto a controllo congiunto</td>\n",
       "      <td>Atto dei dirigenti</td>\n",
       "      <td>MON</td>\n",
       "      <td>http://www.regione.toscana.it/bancadati/atti/C...</td>\n",
       "      <td>Legge n.457/78 art.36 e Legge 17.2.1992 n.179,...</td>\n",
       "      <td>014276</td>\n",
       "      <td>2</td>\n",
       "      <td>01049</td>\n",
       "      <td>01937</td>\n",
       "      <td>0</td>\n",
       "      <td>LibreOffice 5.1</td>\n",
       "    </tr>\n",
       "    <tr>\n",
       "      <th>0</th>\n",
       "      <td>20010036002001AD00000004022</td>\n",
       "      <td>2001-06-19</td>\n",
       "      <td>Atto soggetto a pubblicazione per estratto (PEDP)</td>\n",
       "      <td>Decreto soggetto a controllo congiunto</td>\n",
       "      <td>Atto dei dirigenti</td>\n",
       "      <td>MON</td>\n",
       "      <td>http://www.regione.toscana.it/bancadati/atti/C...</td>\n",
       "      <td>Legge n.457/78 art.36 e Legge 17.2.1992 n.179,...</td>\n",
       "      <td>014276</td>\n",
       "      <td>2</td>\n",
       "      <td>01049</td>\n",
       "      <td>01937</td>\n",
       "      <td>0</td>\n",
       "      <td>LibreOffice 5.1</td>\n",
       "    </tr>\n",
       "  </tbody>\n",
       "</table>\n",
       "</div>"
      ],
      "text/plain": [
       "                  CODICE_PRATICA  DATA_ATTO  \\\n",
       "199  20010036002001AD00000004022 2001-06-19   \n",
       "0    20010036002001AD00000004022 2001-06-19   \n",
       "\n",
       "                                           DESCRIZIONE  \\\n",
       "199  Atto soggetto a pubblicazione per estratto (PEDP)   \n",
       "0    Atto soggetto a pubblicazione per estratto (PEDP)   \n",
       "\n",
       "                      DESCRIZIONE_TIPO_ATTO DESCRIZIONE_TIPO_PRATICA  \\\n",
       "199  Decreto soggetto a controllo congiunto       Atto dei dirigenti   \n",
       "0    Decreto soggetto a controllo congiunto       Atto dei dirigenti   \n",
       "\n",
       "    ID_TIPO_PRATICA                             LINK_CONTENUTO_BINARIO  \\\n",
       "199             MON  http://www.regione.toscana.it/bancadati/atti/C...   \n",
       "0               MON  http://www.regione.toscana.it/bancadati/atti/C...   \n",
       "\n",
       "                                               OGGETTO PERSONA STATUS  \\\n",
       "199  Legge n.457/78 art.36 e Legge 17.2.1992 n.179,...  014276      2   \n",
       "0    Legge n.457/78 art.36 e Legge 17.2.1992 n.179,...  014276      2   \n",
       "\n",
       "    UFFICIO_AC UFFICIO_DG UFFICIO_SE        publisher  \n",
       "199      01049      01937          0  LibreOffice 5.1  \n",
       "0        01049      01937          0  LibreOffice 5.1  "
      ]
     },
     "execution_count": 6,
     "metadata": {},
     "output_type": "execute_result"
    }
   ],
   "source": [
    "df_atti[df_atti['CODICE_PRATICA'] == '20010036002001AD00000004022']"
   ]
  },
  {
   "cell_type": "markdown",
   "metadata": {},
   "source": [
    "We can safely drop all the duplicates"
   ]
  },
  {
   "cell_type": "code",
   "execution_count": 7,
   "metadata": {},
   "outputs": [],
   "source": [
    "df_atti.drop_duplicates(subset=['CODICE_PRATICA'], inplace=True)"
   ]
  },
  {
   "cell_type": "code",
   "execution_count": 8,
   "metadata": {},
   "outputs": [
    {
     "data": {
      "text/plain": [
       "(156189, 14)"
      ]
     },
     "execution_count": 8,
     "metadata": {},
     "output_type": "execute_result"
    }
   ],
   "source": [
    "df_atti.shape"
   ]
  },
  {
   "cell_type": "markdown",
   "metadata": {},
   "source": [
    "### Exploration over Uffici"
   ]
  },
  {
   "cell_type": "code",
   "execution_count": 11,
   "metadata": {},
   "outputs": [],
   "source": [
    "df_uffici = pd.read_csv('../../data/dg_struttura.csv')"
   ]
  },
  {
   "cell_type": "code",
   "execution_count": 12,
   "metadata": {},
   "outputs": [],
   "source": [
    "def count_documents_per_office(by):\n",
    "    df_uffici = pd.read_csv('../../data/dg_struttura.csv')\n",
    "    count_uffici = df_atti[by].value_counts()\n",
    "    return pd.DataFrame(count_uffici)"
   ]
  },
  {
   "cell_type": "code",
   "execution_count": 13,
   "metadata": {},
   "outputs": [
    {
     "data": {
      "text/html": [
       "<div>\n",
       "<style scoped>\n",
       "    .dataframe tbody tr th:only-of-type {\n",
       "        vertical-align: middle;\n",
       "    }\n",
       "\n",
       "    .dataframe tbody tr th {\n",
       "        vertical-align: top;\n",
       "    }\n",
       "\n",
       "    .dataframe thead th {\n",
       "        text-align: right;\n",
       "    }\n",
       "</style>\n",
       "<table border=\"1\" class=\"dataframe\">\n",
       "  <thead>\n",
       "    <tr style=\"text-align: right;\">\n",
       "      <th></th>\n",
       "      <th>UFFICIO_DG</th>\n",
       "    </tr>\n",
       "  </thead>\n",
       "  <tbody>\n",
       "    <tr>\n",
       "      <th>50073</th>\n",
       "      <td>13825</td>\n",
       "    </tr>\n",
       "    <tr>\n",
       "      <th>50117</th>\n",
       "      <td>13592</td>\n",
       "    </tr>\n",
       "    <tr>\n",
       "      <th>50003</th>\n",
       "      <td>9724</td>\n",
       "    </tr>\n",
       "    <tr>\n",
       "      <th>50004</th>\n",
       "      <td>9681</td>\n",
       "    </tr>\n",
       "    <tr>\n",
       "      <th>50000</th>\n",
       "      <td>8290</td>\n",
       "    </tr>\n",
       "    <tr>\n",
       "      <th>50005</th>\n",
       "      <td>7479</td>\n",
       "    </tr>\n",
       "    <tr>\n",
       "      <th>01937</th>\n",
       "      <td>7160</td>\n",
       "    </tr>\n",
       "    <tr>\n",
       "      <th>50118</th>\n",
       "      <td>6841</td>\n",
       "    </tr>\n",
       "    <tr>\n",
       "      <th>50079</th>\n",
       "      <td>6058</td>\n",
       "    </tr>\n",
       "    <tr>\n",
       "      <th>50006</th>\n",
       "      <td>6021</td>\n",
       "    </tr>\n",
       "    <tr>\n",
       "      <th>50001</th>\n",
       "      <td>5719</td>\n",
       "    </tr>\n",
       "    <tr>\n",
       "      <th>50119</th>\n",
       "      <td>5712</td>\n",
       "    </tr>\n",
       "    <tr>\n",
       "      <th>01934</th>\n",
       "      <td>4923</td>\n",
       "    </tr>\n",
       "    <tr>\n",
       "      <th>50125</th>\n",
       "      <td>4655</td>\n",
       "    </tr>\n",
       "    <tr>\n",
       "      <th>01943</th>\n",
       "      <td>3833</td>\n",
       "    </tr>\n",
       "    <tr>\n",
       "      <th>50007</th>\n",
       "      <td>3431</td>\n",
       "    </tr>\n",
       "    <tr>\n",
       "      <th>50116</th>\n",
       "      <td>3390</td>\n",
       "    </tr>\n",
       "    <tr>\n",
       "      <th>01946</th>\n",
       "      <td>3347</td>\n",
       "    </tr>\n",
       "    <tr>\n",
       "      <th>01025</th>\n",
       "      <td>3030</td>\n",
       "    </tr>\n",
       "    <tr>\n",
       "      <th>01928</th>\n",
       "      <td>2710</td>\n",
       "    </tr>\n",
       "    <tr>\n",
       "      <th>50002</th>\n",
       "      <td>2624</td>\n",
       "    </tr>\n",
       "    <tr>\n",
       "      <th>50083</th>\n",
       "      <td>2139</td>\n",
       "    </tr>\n",
       "    <tr>\n",
       "      <th>50102</th>\n",
       "      <td>2055</td>\n",
       "    </tr>\n",
       "    <tr>\n",
       "      <th>50115</th>\n",
       "      <td>2022</td>\n",
       "    </tr>\n",
       "    <tr>\n",
       "      <th>50123</th>\n",
       "      <td>1850</td>\n",
       "    </tr>\n",
       "    <tr>\n",
       "      <th>50069</th>\n",
       "      <td>1794</td>\n",
       "    </tr>\n",
       "    <tr>\n",
       "      <th>01931</th>\n",
       "      <td>1582</td>\n",
       "    </tr>\n",
       "    <tr>\n",
       "      <th>02090</th>\n",
       "      <td>1564</td>\n",
       "    </tr>\n",
       "    <tr>\n",
       "      <th>01027</th>\n",
       "      <td>1444</td>\n",
       "    </tr>\n",
       "    <tr>\n",
       "      <th>50127</th>\n",
       "      <td>1410</td>\n",
       "    </tr>\n",
       "    <tr>\n",
       "      <th>50202</th>\n",
       "      <td>1254</td>\n",
       "    </tr>\n",
       "    <tr>\n",
       "      <th>01923</th>\n",
       "      <td>1085</td>\n",
       "    </tr>\n",
       "    <tr>\n",
       "      <th>50121</th>\n",
       "      <td>1011</td>\n",
       "    </tr>\n",
       "    <tr>\n",
       "      <th>99999</th>\n",
       "      <td>790</td>\n",
       "    </tr>\n",
       "    <tr>\n",
       "      <th>50112</th>\n",
       "      <td>780</td>\n",
       "    </tr>\n",
       "    <tr>\n",
       "      <th>50124</th>\n",
       "      <td>737</td>\n",
       "    </tr>\n",
       "    <tr>\n",
       "      <th>50201</th>\n",
       "      <td>652</td>\n",
       "    </tr>\n",
       "    <tr>\n",
       "      <th>50122</th>\n",
       "      <td>465</td>\n",
       "    </tr>\n",
       "    <tr>\n",
       "      <th>50044</th>\n",
       "      <td>464</td>\n",
       "    </tr>\n",
       "    <tr>\n",
       "      <th>50114</th>\n",
       "      <td>457</td>\n",
       "    </tr>\n",
       "    <tr>\n",
       "      <th>50113</th>\n",
       "      <td>368</td>\n",
       "    </tr>\n",
       "    <tr>\n",
       "      <th>50200</th>\n",
       "      <td>116</td>\n",
       "    </tr>\n",
       "    <tr>\n",
       "      <th>50026</th>\n",
       "      <td>105</td>\n",
       "    </tr>\n",
       "  </tbody>\n",
       "</table>\n",
       "</div>"
      ],
      "text/plain": [
       "       UFFICIO_DG\n",
       "50073       13825\n",
       "50117       13592\n",
       "50003        9724\n",
       "50004        9681\n",
       "50000        8290\n",
       "50005        7479\n",
       "01937        7160\n",
       "50118        6841\n",
       "50079        6058\n",
       "50006        6021\n",
       "50001        5719\n",
       "50119        5712\n",
       "01934        4923\n",
       "50125        4655\n",
       "01943        3833\n",
       "50007        3431\n",
       "50116        3390\n",
       "01946        3347\n",
       "01025        3030\n",
       "01928        2710\n",
       "50002        2624\n",
       "50083        2139\n",
       "50102        2055\n",
       "50115        2022\n",
       "50123        1850\n",
       "50069        1794\n",
       "01931        1582\n",
       "02090        1564\n",
       "01027        1444\n",
       "50127        1410\n",
       "50202        1254\n",
       "01923        1085\n",
       "50121        1011\n",
       "99999         790\n",
       "50112         780\n",
       "50124         737\n",
       "50201         652\n",
       "50122         465\n",
       "50044         464\n",
       "50114         457\n",
       "50113         368\n",
       "50200         116\n",
       "50026         105"
      ]
     },
     "execution_count": 13,
     "metadata": {},
     "output_type": "execute_result"
    }
   ],
   "source": [
    "df_uffici_dg = count_documents_per_office('UFFICIO_DG')\n",
    "df_uffici_dg"
   ]
  },
  {
   "cell_type": "code",
   "execution_count": 16,
   "metadata": {},
   "outputs": [
    {
     "data": {
      "text/html": [
       "<div>\n",
       "<style scoped>\n",
       "    .dataframe tbody tr th:only-of-type {\n",
       "        vertical-align: middle;\n",
       "    }\n",
       "\n",
       "    .dataframe tbody tr th {\n",
       "        vertical-align: top;\n",
       "    }\n",
       "\n",
       "    .dataframe thead th {\n",
       "        text-align: right;\n",
       "    }\n",
       "</style>\n",
       "<table border=\"1\" class=\"dataframe\">\n",
       "  <thead>\n",
       "    <tr style=\"text-align: right;\">\n",
       "      <th></th>\n",
       "      <th>UFFICIO_AC</th>\n",
       "    </tr>\n",
       "  </thead>\n",
       "  <tbody>\n",
       "    <tr>\n",
       "      <th>00000</th>\n",
       "      <td>48387</td>\n",
       "    </tr>\n",
       "    <tr>\n",
       "      <th>0</th>\n",
       "      <td>11099</td>\n",
       "    </tr>\n",
       "    <tr>\n",
       "      <th>50078</th>\n",
       "      <td>4638</td>\n",
       "    </tr>\n",
       "    <tr>\n",
       "      <th>50000</th>\n",
       "      <td>4010</td>\n",
       "    </tr>\n",
       "    <tr>\n",
       "      <th>50001</th>\n",
       "      <td>3809</td>\n",
       "    </tr>\n",
       "    <tr>\n",
       "      <th>50022</th>\n",
       "      <td>3437</td>\n",
       "    </tr>\n",
       "    <tr>\n",
       "      <th>50019</th>\n",
       "      <td>3168</td>\n",
       "    </tr>\n",
       "    <tr>\n",
       "      <th>50074</th>\n",
       "      <td>2589</td>\n",
       "    </tr>\n",
       "    <tr>\n",
       "      <th>50002</th>\n",
       "      <td>2497</td>\n",
       "    </tr>\n",
       "    <tr>\n",
       "      <th>50076</th>\n",
       "      <td>2406</td>\n",
       "    </tr>\n",
       "    <tr>\n",
       "      <th>50005</th>\n",
       "      <td>2294</td>\n",
       "    </tr>\n",
       "    <tr>\n",
       "      <th>50039</th>\n",
       "      <td>2020</td>\n",
       "    </tr>\n",
       "    <tr>\n",
       "      <th>01058</th>\n",
       "      <td>1885</td>\n",
       "    </tr>\n",
       "    <tr>\n",
       "      <th>50004</th>\n",
       "      <td>1871</td>\n",
       "    </tr>\n",
       "    <tr>\n",
       "      <th>50079</th>\n",
       "      <td>1754</td>\n",
       "    </tr>\n",
       "    <tr>\n",
       "      <th>50018</th>\n",
       "      <td>1720</td>\n",
       "    </tr>\n",
       "    <tr>\n",
       "      <th>50014</th>\n",
       "      <td>1627</td>\n",
       "    </tr>\n",
       "    <tr>\n",
       "      <th>50038</th>\n",
       "      <td>1518</td>\n",
       "    </tr>\n",
       "    <tr>\n",
       "      <th>50016</th>\n",
       "      <td>1480</td>\n",
       "    </tr>\n",
       "    <tr>\n",
       "      <th>50023</th>\n",
       "      <td>1427</td>\n",
       "    </tr>\n",
       "    <tr>\n",
       "      <th>50013</th>\n",
       "      <td>1425</td>\n",
       "    </tr>\n",
       "    <tr>\n",
       "      <th>50081</th>\n",
       "      <td>1232</td>\n",
       "    </tr>\n",
       "    <tr>\n",
       "      <th>50106</th>\n",
       "      <td>1212</td>\n",
       "    </tr>\n",
       "    <tr>\n",
       "      <th>01085</th>\n",
       "      <td>1154</td>\n",
       "    </tr>\n",
       "    <tr>\n",
       "      <th>50073</th>\n",
       "      <td>1148</td>\n",
       "    </tr>\n",
       "    <tr>\n",
       "      <th>50095</th>\n",
       "      <td>1028</td>\n",
       "    </tr>\n",
       "    <tr>\n",
       "      <th>50033</th>\n",
       "      <td>994</td>\n",
       "    </tr>\n",
       "    <tr>\n",
       "      <th>50011</th>\n",
       "      <td>909</td>\n",
       "    </tr>\n",
       "    <tr>\n",
       "      <th>50012</th>\n",
       "      <td>898</td>\n",
       "    </tr>\n",
       "    <tr>\n",
       "      <th>50087</th>\n",
       "      <td>720</td>\n",
       "    </tr>\n",
       "    <tr>\n",
       "      <th>...</th>\n",
       "      <td>...</td>\n",
       "    </tr>\n",
       "    <tr>\n",
       "      <th>05323</th>\n",
       "      <td>3</td>\n",
       "    </tr>\n",
       "    <tr>\n",
       "      <th>00965</th>\n",
       "      <td>3</td>\n",
       "    </tr>\n",
       "    <tr>\n",
       "      <th>00868</th>\n",
       "      <td>3</td>\n",
       "    </tr>\n",
       "    <tr>\n",
       "      <th>05167</th>\n",
       "      <td>3</td>\n",
       "    </tr>\n",
       "    <tr>\n",
       "      <th>05209</th>\n",
       "      <td>3</td>\n",
       "    </tr>\n",
       "    <tr>\n",
       "      <th>50046</th>\n",
       "      <td>3</td>\n",
       "    </tr>\n",
       "    <tr>\n",
       "      <th>01181</th>\n",
       "      <td>2</td>\n",
       "    </tr>\n",
       "    <tr>\n",
       "      <th>00799</th>\n",
       "      <td>2</td>\n",
       "    </tr>\n",
       "    <tr>\n",
       "      <th>00878</th>\n",
       "      <td>2</td>\n",
       "    </tr>\n",
       "    <tr>\n",
       "      <th>01183</th>\n",
       "      <td>2</td>\n",
       "    </tr>\n",
       "    <tr>\n",
       "      <th>01807</th>\n",
       "      <td>2</td>\n",
       "    </tr>\n",
       "    <tr>\n",
       "      <th>50063</th>\n",
       "      <td>2</td>\n",
       "    </tr>\n",
       "    <tr>\n",
       "      <th>01828</th>\n",
       "      <td>2</td>\n",
       "    </tr>\n",
       "    <tr>\n",
       "      <th>00798</th>\n",
       "      <td>2</td>\n",
       "    </tr>\n",
       "    <tr>\n",
       "      <th>01814</th>\n",
       "      <td>1</td>\n",
       "    </tr>\n",
       "    <tr>\n",
       "      <th>01117</th>\n",
       "      <td>1</td>\n",
       "    </tr>\n",
       "    <tr>\n",
       "      <th>00813</th>\n",
       "      <td>1</td>\n",
       "    </tr>\n",
       "    <tr>\n",
       "      <th>04969</th>\n",
       "      <td>1</td>\n",
       "    </tr>\n",
       "    <tr>\n",
       "      <th>05029</th>\n",
       "      <td>1</td>\n",
       "    </tr>\n",
       "    <tr>\n",
       "      <th>04462</th>\n",
       "      <td>1</td>\n",
       "    </tr>\n",
       "    <tr>\n",
       "      <th>05194</th>\n",
       "      <td>1</td>\n",
       "    </tr>\n",
       "    <tr>\n",
       "      <th>01052</th>\n",
       "      <td>1</td>\n",
       "    </tr>\n",
       "    <tr>\n",
       "      <th>02591</th>\n",
       "      <td>1</td>\n",
       "    </tr>\n",
       "    <tr>\n",
       "      <th>00904</th>\n",
       "      <td>1</td>\n",
       "    </tr>\n",
       "    <tr>\n",
       "      <th>04345</th>\n",
       "      <td>1</td>\n",
       "    </tr>\n",
       "    <tr>\n",
       "      <th>05353</th>\n",
       "      <td>1</td>\n",
       "    </tr>\n",
       "    <tr>\n",
       "      <th>01863</th>\n",
       "      <td>1</td>\n",
       "    </tr>\n",
       "    <tr>\n",
       "      <th>04279</th>\n",
       "      <td>1</td>\n",
       "    </tr>\n",
       "    <tr>\n",
       "      <th>05377</th>\n",
       "      <td>1</td>\n",
       "    </tr>\n",
       "    <tr>\n",
       "      <th>01313</th>\n",
       "      <td>1</td>\n",
       "    </tr>\n",
       "  </tbody>\n",
       "</table>\n",
       "<p>353 rows × 1 columns</p>\n",
       "</div>"
      ],
      "text/plain": [
       "       UFFICIO_AC\n",
       "00000       48387\n",
       "0           11099\n",
       "50078        4638\n",
       "50000        4010\n",
       "50001        3809\n",
       "50022        3437\n",
       "50019        3168\n",
       "50074        2589\n",
       "50002        2497\n",
       "50076        2406\n",
       "50005        2294\n",
       "50039        2020\n",
       "01058        1885\n",
       "50004        1871\n",
       "50079        1754\n",
       "50018        1720\n",
       "50014        1627\n",
       "50038        1518\n",
       "50016        1480\n",
       "50023        1427\n",
       "50013        1425\n",
       "50081        1232\n",
       "50106        1212\n",
       "01085        1154\n",
       "50073        1148\n",
       "50095        1028\n",
       "50033         994\n",
       "50011         909\n",
       "50012         898\n",
       "50087         720\n",
       "...           ...\n",
       "05323           3\n",
       "00965           3\n",
       "00868           3\n",
       "05167           3\n",
       "05209           3\n",
       "50046           3\n",
       "01181           2\n",
       "00799           2\n",
       "00878           2\n",
       "01183           2\n",
       "01807           2\n",
       "50063           2\n",
       "01828           2\n",
       "00798           2\n",
       "01814           1\n",
       "01117           1\n",
       "00813           1\n",
       "04969           1\n",
       "05029           1\n",
       "04462           1\n",
       "05194           1\n",
       "01052           1\n",
       "02591           1\n",
       "00904           1\n",
       "04345           1\n",
       "05353           1\n",
       "01863           1\n",
       "04279           1\n",
       "05377           1\n",
       "01313           1\n",
       "\n",
       "[353 rows x 1 columns]"
      ]
     },
     "execution_count": 16,
     "metadata": {},
     "output_type": "execute_result"
    }
   ],
   "source": [
    "df_uffici_ac = count_documents_per_office('UFFICIO_AC')\n",
    "df_uffici_ac"
   ]
  },
  {
   "cell_type": "markdown",
   "metadata": {},
   "source": [
    "### Merge Duplicate Offices"
   ]
  },
  {
   "cell_type": "code",
   "execution_count": 17,
   "metadata": {},
   "outputs": [],
   "source": [
    "to_replace = {\n",
    "    '50001': '50115',\n",
    "    '50069': '50115',\n",
    "    '50102': '50115',\n",
    "    '50083': '50004',\n",
    "    '50079': '50116',\n",
    "    '50118': '50202',\n",
    "    '50121': '50201'\n",
    "}"
   ]
  },
  {
   "cell_type": "code",
   "execution_count": 18,
   "metadata": {},
   "outputs": [],
   "source": [
    "df_atti['UFFICIO_DG'] = df_atti['UFFICIO_DG'].replace(to_replace)\n",
    "df_atti['UFFICIO_AC'] = df_atti['UFFICIO_AC'].replace(to_replace)"
   ]
  },
  {
   "cell_type": "markdown",
   "metadata": {},
   "source": [
    "## Check the distribution of the other labels"
   ]
  },
  {
   "cell_type": "code",
   "execution_count": 19,
   "metadata": {},
   "outputs": [
    {
     "data": {
      "text/plain": [
       "Atto pubblicato su Banca Dati (PBD)                                                    46452\n",
       "Atto soggetto a pubblicazione su Banca Dati (PBD)                                      31702\n",
       "Atto soggetto a pubblicazione per estratto                                             27321\n",
       "Atto soggetto a pubblicazione per estratto (PEDP)                                      11201\n",
       "Diffusione telematica                                                                   9600\n",
       "Atto soggetto a pubblicazione integrale                                                 7279\n",
       "Atto soggetto a pubblicazione integrale (PBURT/BD)                                      6213\n",
       "Atto pubblicato su BURT e Banca Dati (PBURT/PBD)                                        5811\n",
       "Atto non soggetto a pubblicità                                                          3709\n",
       "Atto riservato escluso da pubblicità (RE)                                               1964\n",
       "Atto non pubblicato (NP)                                                                1472\n",
       "Atto soggetto a pubblicità. Non soggetto nè a pubblicaz. nè a diffusione telematica     1304\n",
       "Atto non soggetto a pubblicazione su Banca Dati (NP)                                    1300\n",
       "Atto riservato Pubblicazione per estremi                                                 562\n",
       "Atto riservato. Non soggetto a pubblicazione                                             206\n",
       "Atto riservato. Pubblicazione per estratto                                                93\n",
       "Name: DESCRIZIONE, dtype: int64"
      ]
     },
     "execution_count": 19,
     "metadata": {},
     "output_type": "execute_result"
    }
   ],
   "source": [
    "df_atti.DESCRIZIONE.value_counts()"
   ]
  },
  {
   "cell_type": "code",
   "execution_count": 20,
   "metadata": {},
   "outputs": [
    {
     "data": {
      "text/plain": [
       "Decreto soggetto a controllo congiunto              62854\n",
       "Decreto non soggetto a controllo interno            54674\n",
       "Decreto soggetto a solo controllo contabile         30998\n",
       "Decreto soggetto a solo controllo amministrativo     7663\n",
       "Name: DESCRIZIONE_TIPO_ATTO, dtype: int64"
      ]
     },
     "execution_count": 20,
     "metadata": {},
     "output_type": "execute_result"
    }
   ],
   "source": [
    "df_atti.DESCRIZIONE_TIPO_ATTO.value_counts()"
   ]
  },
  {
   "cell_type": "code",
   "execution_count": 21,
   "metadata": {},
   "outputs": [
    {
     "data": {
      "text/plain": [
       "Atto dei dirigenti    156189\n",
       "Name: DESCRIZIONE_TIPO_PRATICA, dtype: int64"
      ]
     },
     "execution_count": 21,
     "metadata": {},
     "output_type": "execute_result"
    }
   ],
   "source": [
    "df_atti.DESCRIZIONE_TIPO_PRATICA.value_counts()"
   ]
  },
  {
   "cell_type": "code",
   "execution_count": 22,
   "metadata": {},
   "outputs": [
    {
     "data": {
      "text/plain": [
       "005549     8684\n",
       "020411     4578\n",
       "005045     3816\n",
       "015534     3806\n",
       "007505     3113\n",
       "014002     2653\n",
       "013692     2121\n",
       "005642     2013\n",
       "005070     1943\n",
       "017792     1886\n",
       "013910     1743\n",
       "007108     1619\n",
       "005595     1613\n",
       "014867     1584\n",
       "007115     1579\n",
       "020074     1567\n",
       "014233     1563\n",
       "015654     1532\n",
       "005737     1495\n",
       "002157     1458\n",
       "001398     1408\n",
       "016472     1382\n",
       "005720     1314\n",
       "014115     1301\n",
       "012608     1237\n",
       "008430     1219\n",
       "014063     1208\n",
       "015618     1202\n",
       "002947     1190\n",
       "016237     1140\n",
       "           ... \n",
       "008034        5\n",
       "012716        5\n",
       "004012        4\n",
       "003035        4\n",
       "015751        4\n",
       "007237        4\n",
       "004978        3\n",
       "001858        3\n",
       "0015464       3\n",
       "008382        3\n",
       "015051        3\n",
       "002139        3\n",
       "011919        3\n",
       "010252        2\n",
       "003290        2\n",
       "003256        2\n",
       "005736        2\n",
       "012411        2\n",
       "001835        2\n",
       "004120        1\n",
       "014462        1\n",
       "0008073       1\n",
       "001579        1\n",
       "002104        1\n",
       "007608        1\n",
       "0015653       1\n",
       "011569        1\n",
       "0010826       1\n",
       "015769        1\n",
       "001220        1\n",
       "Name: PERSONA, Length: 389, dtype: int64"
      ]
     },
     "execution_count": 22,
     "metadata": {},
     "output_type": "execute_result"
    }
   ],
   "source": [
    "df_atti.PERSONA.value_counts()"
   ]
  },
  {
   "cell_type": "code",
   "execution_count": 23,
   "metadata": {},
   "outputs": [
    {
     "data": {
      "text/plain": [
       "2     156188\n",
       "41         1\n",
       "Name: STATUS, dtype: int64"
      ]
     },
     "execution_count": 23,
     "metadata": {},
     "output_type": "execute_result"
    }
   ],
   "source": [
    "df_atti.STATUS.value_counts()"
   ]
  },
  {
   "cell_type": "markdown",
   "metadata": {},
   "source": [
    "### Name the offices"
   ]
  },
  {
   "cell_type": "code",
   "execution_count": 24,
   "metadata": {},
   "outputs": [
    {
     "data": {
      "text/plain": [
       "Index(['CODICE_PRATICA', 'DATA_ATTO', 'DESCRIZIONE', 'DESCRIZIONE_TIPO_ATTO',\n",
       "       'DESCRIZIONE_TIPO_PRATICA', 'ID_TIPO_PRATICA', 'LINK_CONTENUTO_BINARIO',\n",
       "       'OGGETTO', 'PERSONA', 'STATUS', 'UFFICIO_AC', 'UFFICIO_DG',\n",
       "       'UFFICIO_SE', 'publisher'],\n",
       "      dtype='object')"
      ]
     },
     "execution_count": 24,
     "metadata": {},
     "output_type": "execute_result"
    }
   ],
   "source": [
    "df_atti.columns"
   ]
  },
  {
   "cell_type": "markdown",
   "metadata": {},
   "source": [
    "## Data Exploration\n",
    "\n",
    "As first step we want visualize the distrubition of the acts per:\n",
    "- year\n",
    "- employee\n",
    "- office\n",
    "    \n",
    "### Acts Per Year"
   ]
  },
  {
   "cell_type": "code",
   "execution_count": 25,
   "metadata": {},
   "outputs": [],
   "source": [
    "def label_rotation(ax, angle):\n",
    "    for tick in ax.get_xticklabels():\n",
    "        tick.set_rotation(45)\n",
    "    return ax"
   ]
  },
  {
   "cell_type": "code",
   "execution_count": 26,
   "metadata": {},
   "outputs": [],
   "source": [
    "df = df_atti"
   ]
  },
  {
   "cell_type": "code",
   "execution_count": 27,
   "metadata": {},
   "outputs": [
    {
     "data": {
      "image/png": "[encoded data removed]",
      "text/plain": [
       "<Figure size 432x288 with 1 Axes>"
      ]
     },
     "metadata": {},
     "output_type": "display_data"
    }
   ],
   "source": [
    "acts_per_year = df.groupby([df['DATA_ATTO'].dt.year])['CODICE_PRATICA'].count()\n",
    "\n",
    "fig, ax = plt.subplots()\n",
    "sns.barplot(acts_per_year.index, acts_per_year.values, palette=\"BuGn_d\", ax=ax)\n",
    "label_rotation(ax, 45)\n",
    "plt.title('Distribution Acts per Year')\n",
    "plt.show(fig)"
   ]
  },
  {
   "cell_type": "markdown",
   "metadata": {},
   "source": [
    "The distribution of the acts per year shows that there is an increase of acts for the years 2016 and 2017.\n",
    "This is because in 2016 there was a grouping of the regional districts.\n",
    "\n",
    "From another point of view is interesting to see the distribution of acts per person.\n",
    "\n",
    "### Acts Per Employee"
   ]
  },
  {
   "cell_type": "code",
   "execution_count": 28,
   "metadata": {},
   "outputs": [
    {
     "name": "stdout",
     "output_type": "stream",
     "text": [
      "acts distribution per person\n"
     ]
    },
    {
     "data": {
      "image/png": "[encoded data removed]",
      "text/plain": [
       "<Figure size 432x288 with 1 Axes>"
      ]
     },
     "metadata": {},
     "output_type": "display_data"
    }
   ],
   "source": [
    "print('acts distribution per person')\n",
    "acts_per_person = df.groupby([df['PERSONA']])['CODICE_PRATICA'].count().sort_values(ascending=False)\n",
    "\n",
    "acts_per_person_scaled = (acts_per_person - acts_per_person.min()) / (acts_per_person.max() - acts_per_person.min())\n",
    "\n",
    "fig, ax = plt.subplots()\n",
    "sns.distplot(acts_per_person_scaled.values, kde=True, rug=False, ax=ax, fit=stats.beta)\n",
    "plt.title('Distribution Acts per Person compared with a Beta')\n",
    "plt.show()"
   ]
  },
  {
   "cell_type": "markdown",
   "metadata": {},
   "source": [
    "### Distribution of Acts per Office\n",
    "\n",
    "from here we can see what are the most active offices"
   ]
  },
  {
   "cell_type": "code",
   "execution_count": 29,
   "metadata": {},
   "outputs": [
    {
     "data": {
      "image/png": "[encoded data removed]",
      "text/plain": [
       "<Figure size 432x288 with 1 Axes>"
      ]
     },
     "metadata": {},
     "output_type": "display_data"
    }
   ],
   "source": [
    "df_act_office = df.groupby(df['UFFICIO_DG'])['CODICE_PRATICA'].count()\n",
    "df_act_office /= df_act_office.sum()\n",
    "top = df_act_office.sort_values(ascending=False)\n",
    "plt.pie(top, labels=top.index, autopct='%1.f%%')\n",
    "plt.show()"
   ]
  },
  {
   "cell_type": "code",
   "execution_count": 30,
   "metadata": {},
   "outputs": [
    {
     "data": {
      "text/plain": [
       "UFFICIO_DG\n",
       "50073    0.088515\n",
       "50117    0.087023\n",
       "50004    0.075678\n",
       "50115    0.074205\n",
       "50003    0.062258\n",
       "50116    0.060491\n",
       "50000    0.053077\n",
       "50202    0.051828\n",
       "50005    0.047884\n",
       "01937    0.045842\n",
       "50006    0.038549\n",
       "50119    0.036571\n",
       "01934    0.031520\n",
       "50125    0.029804\n",
       "01943    0.024541\n",
       "50007    0.021967\n",
       "01946    0.021429\n",
       "01025    0.019400\n",
       "01928    0.017351\n",
       "50002    0.016800\n",
       "50123    0.011845\n",
       "50201    0.010647\n",
       "01931    0.010129\n",
       "02090    0.010014\n",
       "01027    0.009245\n",
       "50127    0.009028\n",
       "01923    0.006947\n",
       "99999    0.005058\n",
       "50112    0.004994\n",
       "50124    0.004719\n",
       "50122    0.002977\n",
       "50044    0.002971\n",
       "50114    0.002926\n",
       "Name: CODICE_PRATICA, dtype: float64"
      ]
     },
     "execution_count": 30,
     "metadata": {},
     "output_type": "execute_result"
    }
   ],
   "source": [
    "top[:33]"
   ]
  },
  {
   "cell_type": "code",
   "execution_count": 31,
   "metadata": {},
   "outputs": [],
   "source": [
    "group_office_year = df.groupby(by=[df['UFFICIO_DG'], df['DATA_ATTO'].dt.year])['CODICE_PRATICA'].count()"
   ]
  },
  {
   "cell_type": "markdown",
   "metadata": {},
   "source": [
    "As final exploration it would be interesting to see for the top person what is the distributions of acts per year"
   ]
  },
  {
   "cell_type": "code",
   "execution_count": 32,
   "metadata": {},
   "outputs": [
    {
     "data": {
      "image/png": "[encoded data removed]",
      "text/plain": [
       "<Figure size 720x432 with 1 Axes>"
      ]
     },
     "metadata": {},
     "output_type": "display_data"
    }
   ],
   "source": [
    "df_person = df[df['PERSONA'] == '005549']\n",
    "acts_per_year_person = df_person.groupby([df_person['DATA_ATTO'].dt.year])['CODICE_PRATICA'].count()\n",
    "\n",
    "fig, ax = plt.subplots()\n",
    "sns.barplot(acts_per_year_person.index, acts_per_year_person.values, palette=\"BuGn_d\", \n",
    "            ax=ax, order=acts_per_year_person.index)\n",
    "label_rotation(ax, 45)\n",
    "fig.set_size_inches(10,6)\n",
    "plt.show(fig)"
   ]
  },
  {
   "cell_type": "markdown",
   "metadata": {},
   "source": [
    "Moreover, we can see that he works for different offices"
   ]
  },
  {
   "cell_type": "code",
   "execution_count": 33,
   "metadata": {},
   "outputs": [],
   "source": [
    "df_person = df[df['PERSONA'] == '005549']"
   ]
  },
  {
   "cell_type": "markdown",
   "metadata": {},
   "source": [
    "Here we can see that apart 2016 and 2017 this person did in average the same number of acts.\n",
    "\n",
    "It would be interesting to see the contribution of each person per office in order to spot:\n",
    "- when a person moves from one office to another\n",
    "- Who is in charge of an office (considering that if a person is in charge sign more acts than the others)\n",
    "\n",
    "## Next Step\n",
    "\n",
    "After the data exploration the next steps of this notebook is to write a classification model able to predict the office that writes the act given the text in the subject (Oggetto) attribute."
   ]
  },
  {
   "cell_type": "code",
   "execution_count": null,
   "metadata": {},
   "outputs": [],
   "source": []
  }
 ],
 "metadata": {
  "kernelspec": {
   "display_name": "Python 3",
   "language": "python",
   "name": "python3"
  },
  "language_info": {
   "codemirror_mode": {
    "name": "ipython",
    "version": 3
   },
   "file_extension": ".py",
   "mimetype": "text/x-python",
   "name": "python",
   "nbconvert_exporter": "python",
   "pygments_lexer": "ipython3",
   "version": "3.6.5"
  }
 },
 "nbformat": 4,
 "nbformat_minor": 2
}
