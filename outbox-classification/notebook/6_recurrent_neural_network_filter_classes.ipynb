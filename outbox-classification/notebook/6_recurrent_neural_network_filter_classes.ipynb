{
 "cells": [
  {
   "cell_type": "code",
   "execution_count": 1,
   "metadata": {},
   "outputs": [
    {
     "name": "stderr",
     "output_type": "stream",
     "text": [
      "/home/fabio/miniconda3/envs/dl/lib/python3.6/site-packages/h5py/__init__.py:36: FutureWarning: Conversion of the second argument of issubdtype from `float` to `np.floating` is deprecated. In future, it will be treated as `np.float64 == np.dtype(float).type`.\n",
      "  from ._conv import register_converters as _register_converters\n"
     ]
    }
   ],
   "source": [
    "import numpy as np\n",
    "import pandas as pd\n",
    "import pickle\n",
    "\n",
    "import tensorflow as tf\n",
    "import math\n",
    "import json\n",
    "\n",
    "from sklearn.model_selection import *\n",
    "from sklearn import metrics\n",
    "\n",
    "from daf.datasets import atti_dataset\n",
    "from daf.utils import dataset_utils\n",
    "from daf.utils import keras_util\n",
    "\n",
    "import random"
   ]
  },
  {
   "cell_type": "markdown",
   "metadata": {},
   "source": [
    "# Recurrent Neural Networks"
   ]
  },
  {
   "cell_type": "code",
   "execution_count": 2,
   "metadata": {},
   "outputs": [
    {
     "data": {
      "text/plain": [
       "34731"
      ]
     },
     "execution_count": 2,
     "metadata": {},
     "output_type": "execute_result"
    }
   ],
   "source": [
    "(x_train, y_train), (x_test, y_test) = atti_dataset.load_data(num_words=None)\n",
    "label_index_dict = atti_dataset.get_label_index()\n",
    "\n",
    "num_words = max([max(x) for x in x_train]) + 1\n",
    "num_words"
   ]
  },
  {
   "cell_type": "code",
   "execution_count": 3,
   "metadata": {},
   "outputs": [
    {
     "name": "stdout",
     "output_type": "stream",
     "text": [
      "Total of 28 classes\n"
     ]
    },
    {
     "data": {
      "text/plain": [
       "{'ALTRI UFFICI': 0,\n",
       " 'AVVOCATURA REGIONALE                                  ': 1,\n",
       " 'D.G.  AVVOCATURA                                      ': 2,\n",
       " \"D.G. COMPETITIVITA' DEL SISTEMA REGIONALE E SVILUPPO D\": 3,\n",
       " 'D.G. PRESIDENZA                                       ': 4,\n",
       " 'DIPARTIMENTO BILANCIO E FINANZE                       ': 5,\n",
       " 'DIPARTIMENTO ORGANIZZAZIONE                           ': 6,\n",
       " 'DIPARTIMENTO ORGANIZZAZIONE E RISORSE                 ': 7,\n",
       " 'DIPARTIMENTO POLITICHE FORMATIVE E BENI CULTURALI     ': 8,\n",
       " 'DIPARTIMENTO POLITICHE TERRITORIALI E AMBIENTALI      ': 9,\n",
       " 'DIPARTIMENTO PRESIDENZA AFFARI LEGISLATIVI E GIURIDICI': 10,\n",
       " 'DIPARTIMENTO SALUTE E POLITICHE SOLIDARIETA           ': 11,\n",
       " 'DIPARTIMENTO SVILUPPO ECONOMICO                       ': 12,\n",
       " 'DIREZIONE AGRICOLTURA E SVILUPPO RURALE': 13,\n",
       " \"DIREZIONE ATTIVITA' PRODUTTIVE\": 14,\n",
       " 'DIREZIONE DIFESA DEL SUOLO E PROTEZIONE CIVILE': 15,\n",
       " 'DIREZIONE DIRITTI DI CITTADINANZA E COESIONE SOCIALE': 16,\n",
       " 'DIREZIONE GENERALE BILANCIO E FINANZE                 ': 17,\n",
       " 'DIREZIONE GENERALE DIRITTO ALLA SALUTE E POLITICHE DI ': 18,\n",
       " 'DIREZIONE GENERALE POLITICHE FORMATIVE, BENI E ATTIVIT': 19,\n",
       " \"DIREZIONE GENERALE POLITICHE MOBILITA', INFRASTRUTTURE E TRASPORTO PUBBLICO LOCALE\": 20,\n",
       " 'DIREZIONE GENERALE POLITICHE TERRITORIALI E AMBIENTALI': 21,\n",
       " 'DIREZIONE GENERALE SVILUPPO ECONOMICO                 ': 22,\n",
       " 'DIREZIONE ISTRUZIONE E FORMAZIONE': 23,\n",
       " 'DIREZIONE LAVORO': 24,\n",
       " 'DIREZIONE ORGANIZZAZIONE E SISTEMI INFORMATIVI': 25,\n",
       " 'POLITICHE AMBIENTALI, ENERGIA E CAMBIAMENTI CLIMATICI': 26,\n",
       " 'UFFICI DEL GENIO CIVILE                               ': 27}"
      ]
     },
     "execution_count": 3,
     "metadata": {},
     "output_type": "execute_result"
    }
   ],
   "source": [
    "print('Total of {} classes'.format(len(label_index_dict)))\n",
    "label_index_dict"
   ]
  },
  {
   "cell_type": "code",
   "execution_count": 4,
   "metadata": {},
   "outputs": [],
   "source": [
    "filtered_labels = {k:v for k,v in label_index_dict.items() if 'DIREZIONE' in k}\n",
    "filtered_labels\n",
    "\n",
    "reverse_filtered_labels = {v:k for k,v in filtered_labels.items()}"
   ]
  },
  {
   "cell_type": "code",
   "execution_count": 5,
   "metadata": {},
   "outputs": [
    {
     "data": {
      "text/plain": [
       "{'DIREZIONE AGRICOLTURA E SVILUPPO RURALE': 13,\n",
       " \"DIREZIONE ATTIVITA' PRODUTTIVE\": 14,\n",
       " 'DIREZIONE DIFESA DEL SUOLO E PROTEZIONE CIVILE': 15,\n",
       " 'DIREZIONE DIRITTI DI CITTADINANZA E COESIONE SOCIALE': 16,\n",
       " 'DIREZIONE GENERALE BILANCIO E FINANZE                 ': 17,\n",
       " 'DIREZIONE GENERALE DIRITTO ALLA SALUTE E POLITICHE DI ': 18,\n",
       " 'DIREZIONE GENERALE POLITICHE FORMATIVE, BENI E ATTIVIT': 19,\n",
       " \"DIREZIONE GENERALE POLITICHE MOBILITA', INFRASTRUTTURE E TRASPORTO PUBBLICO LOCALE\": 20,\n",
       " 'DIREZIONE GENERALE POLITICHE TERRITORIALI E AMBIENTALI': 21,\n",
       " 'DIREZIONE GENERALE SVILUPPO ECONOMICO                 ': 22,\n",
       " 'DIREZIONE ISTRUZIONE E FORMAZIONE': 23,\n",
       " 'DIREZIONE LAVORO': 24,\n",
       " 'DIREZIONE ORGANIZZAZIONE E SISTEMI INFORMATIVI': 25}"
      ]
     },
     "execution_count": 5,
     "metadata": {},
     "output_type": "execute_result"
    }
   ],
   "source": [
    "filtered_labels"
   ]
  },
  {
   "cell_type": "code",
   "execution_count": 6,
   "metadata": {},
   "outputs": [],
   "source": [
    "mapping_dict = dict(enumerate(filtered_labels.values()))\n",
    "reverse_mapping_dict = {v:k for k,v in mapping_dict.items()}"
   ]
  },
  {
   "cell_type": "code",
   "execution_count": 7,
   "metadata": {},
   "outputs": [],
   "source": [
    "to_keep = []\n",
    "for i in range(len(y_train)):\n",
    "    if y_train[i] in reverse_filtered_labels:\n",
    "        to_keep.append(i)"
   ]
  },
  {
   "cell_type": "code",
   "execution_count": 8,
   "metadata": {},
   "outputs": [],
   "source": [
    "x_train_filtered = x_train[to_keep]\n",
    "y_train_filtered = y_train[to_keep]"
   ]
  },
  {
   "cell_type": "code",
   "execution_count": 9,
   "metadata": {},
   "outputs": [],
   "source": [
    "filtered_label_index_dict = {k: reverse_mapping_dict[v] for k,v in filtered_labels.items()}"
   ]
  },
  {
   "cell_type": "code",
   "execution_count": 10,
   "metadata": {},
   "outputs": [
    {
     "data": {
      "text/plain": [
       "{'DIREZIONE AGRICOLTURA E SVILUPPO RURALE': 0,\n",
       " \"DIREZIONE ATTIVITA' PRODUTTIVE\": 1,\n",
       " 'DIREZIONE DIFESA DEL SUOLO E PROTEZIONE CIVILE': 2,\n",
       " 'DIREZIONE DIRITTI DI CITTADINANZA E COESIONE SOCIALE': 3,\n",
       " 'DIREZIONE GENERALE BILANCIO E FINANZE                 ': 4,\n",
       " 'DIREZIONE GENERALE DIRITTO ALLA SALUTE E POLITICHE DI ': 5,\n",
       " 'DIREZIONE GENERALE POLITICHE FORMATIVE, BENI E ATTIVIT': 6,\n",
       " \"DIREZIONE GENERALE POLITICHE MOBILITA', INFRASTRUTTURE E TRASPORTO PUBBLICO LOCALE\": 7,\n",
       " 'DIREZIONE GENERALE POLITICHE TERRITORIALI E AMBIENTALI': 8,\n",
       " 'DIREZIONE GENERALE SVILUPPO ECONOMICO                 ': 9,\n",
       " 'DIREZIONE ISTRUZIONE E FORMAZIONE': 10,\n",
       " 'DIREZIONE LAVORO': 11,\n",
       " 'DIREZIONE ORGANIZZAZIONE E SISTEMI INFORMATIVI': 12}"
      ]
     },
     "execution_count": 10,
     "metadata": {},
     "output_type": "execute_result"
    }
   ],
   "source": [
    "filtered_label_index_dict"
   ]
  },
  {
   "cell_type": "code",
   "execution_count": 11,
   "metadata": {},
   "outputs": [],
   "source": [
    "y_train_mapped = [reverse_mapping_dict[x] for x in y_train_filtered]\n",
    "y_train_mapped = np.array(y_train_mapped)"
   ]
  },
  {
   "cell_type": "code",
   "execution_count": 12,
   "metadata": {},
   "outputs": [],
   "source": [
    "to_keep_test = []\n",
    "for i in range(len(y_test)):\n",
    "    if y_test[i] in reverse_filtered_labels:\n",
    "        to_keep_test.append(i)"
   ]
  },
  {
   "cell_type": "code",
   "execution_count": 13,
   "metadata": {},
   "outputs": [],
   "source": [
    "x_test_filtered = x_test[to_keep_test]\n",
    "y_test_filtered = y_test[to_keep_test]"
   ]
  },
  {
   "cell_type": "code",
   "execution_count": 14,
   "metadata": {},
   "outputs": [],
   "source": [
    "y_test_mapped = [reverse_mapping_dict[x] for x in y_test_filtered]\n",
    "y_test_mapped = np.array(y_test_mapped)"
   ]
  },
  {
   "cell_type": "code",
   "execution_count": 15,
   "metadata": {},
   "outputs": [
    {
     "data": {
      "text/plain": [
       "array([ 2,  2, 12, ...,  3, 12,  3])"
      ]
     },
     "execution_count": 15,
     "metadata": {},
     "output_type": "execute_result"
    }
   ],
   "source": [
    "y_test_mapped"
   ]
  },
  {
   "cell_type": "markdown",
   "metadata": {},
   "source": [
    "## Data Preparation\n",
    "\n",
    "We need to create the function that transform the x and y.\n",
    "In this case we need to:\n",
    "- x: pad the sequences\n",
    "- y: one hot encoding"
   ]
  },
  {
   "cell_type": "code",
   "execution_count": 16,
   "metadata": {},
   "outputs": [
    {
     "data": {
      "text/plain": [
       "156"
      ]
     },
     "execution_count": 16,
     "metadata": {},
     "output_type": "execute_result"
    }
   ],
   "source": [
    "maxlen = max([len(x) for x in x_train_filtered])\n",
    "maxlen"
   ]
  },
  {
   "cell_type": "code",
   "execution_count": 17,
   "metadata": {},
   "outputs": [],
   "source": [
    "from functools import partial\n",
    "\n",
    "def x_transformer(x_data):\n",
    "    return partial(tf.keras.preprocessing.sequence.pad_sequences, x_data, maxlen, padding='post')\n",
    "\n",
    "def y_tranformer(y_data):\n",
    "    return partial(dataset_utils.to_one_hot, y_data, num_classes)"
   ]
  },
  {
   "cell_type": "code",
   "execution_count": 18,
   "metadata": {},
   "outputs": [
    {
     "name": "stdout",
     "output_type": "stream",
     "text": [
      "num classes 13\n",
      "training size 49049, validation size 21021\n"
     ]
    }
   ],
   "source": [
    "batch_size = 64\n",
    "num_classes = len(reverse_mapping_dict)\n",
    "train_val_split = math.ceil(len(x_train_filtered) * 0.7)\n",
    "print('num classes {}'.format(len(mapping_dict)))\n",
    "print('training size {}, validation size {}'.format(train_val_split, len(x_train_filtered) - train_val_split))"
   ]
  },
  {
   "cell_type": "code",
   "execution_count": 19,
   "metadata": {},
   "outputs": [],
   "source": [
    "train_generator = dataset_utils.dataset_generator_fun(x_train_filtered, y_train_mapped, x_transformer, y_tranformer, \n",
    "                                                      batch_size, 0, train_val_split, True)\n",
    "\n",
    "val_generator = dataset_utils.dataset_generator_fun(x_train_filtered, y_train_mapped, x_transformer, y_tranformer,\n",
    "                                                    batch_size, train_val_split, len(x_train_filtered), False)\n",
    "\n",
    "train_steps = train_val_split // batch_size + 1\n",
    "val_steps = (len(x_train_filtered) - train_val_split) // batch_size + 1"
   ]
  },
  {
   "cell_type": "markdown",
   "metadata": {},
   "source": [
    "## Models\n",
    "\n",
    "We evaluate: \n",
    "- CNN\n",
    "- LSTM and GRU models with dropout, \n",
    "- reverse the text order and uses Bidirectional-LSTM "
   ]
  },
  {
   "cell_type": "markdown",
   "metadata": {},
   "source": [
    "### CNN"
   ]
  },
  {
   "cell_type": "code",
   "execution_count": 20,
   "metadata": {},
   "outputs": [],
   "source": [
    "def build_model_cnn(num_words, num_classes, embed_size, dropout=0.2):\n",
    "    keras_util.new_session()\n",
    "    input_l = tf.keras.Input(shape=(maxlen,), dtype='int32')\n",
    "    embed_l = tf.keras.layers.Embedding(input_dim=num_words, output_dim=embed_size, name='embed')(input_l)\n",
    "    l = tf.keras.layers.Conv1D(64,3, activation='relu')(embed_l)\n",
    "    l = tf.keras.layers.Dropout(dropout)(l)\n",
    "    l = tf.keras.layers.MaxPooling1D(2)(l)\n",
    "    l = tf.keras.layers.Conv1D(128,3, activation='relu')(l)\n",
    "    l = tf.keras.layers.Dropout(dropout)(l)\n",
    "    l = tf.keras.layers.MaxPooling1D(2)(l)\n",
    "    l = tf.keras.layers.Conv1D(256,3, activation='relu')(l)\n",
    "    l = tf.keras.layers.Dropout(dropout)(l)\n",
    "    l = tf.keras.layers.GlobalMaxPool1D()(l)\n",
    "    l = tf.keras.layers.Dense(128, activation='relu')(l)\n",
    "    l = tf.keras.layers.Dropout(dropout)(l)    \n",
    "    l = tf.keras.layers.Dense(64, activation='relu')(l)\n",
    "    l = tf.keras.layers.Dropout(dropout)(l)    \n",
    "    l = tf.keras.layers.Dense(32, activation='relu')(l)\n",
    "    output_l = tf.keras.layers.Dense(num_classes, activation='softmax')(l)\n",
    "    model = tf.keras.Model(inputs=input_l, outputs=output_l)\n",
    "    \n",
    "    model.compile(optimizer=tf.keras.optimizers.RMSprop(),\n",
    "              loss='categorical_crossentropy',\n",
    "              metrics=['accuracy'])\n",
    "    return model"
   ]
  },
  {
   "cell_type": "code",
   "execution_count": 24,
   "metadata": {
    "scrolled": false
   },
   "outputs": [
    {
     "name": "stdout",
     "output_type": "stream",
     "text": [
      "_________________________________________________________________\n",
      "Layer (type)                 Output Shape              Param #   \n",
      "=================================================================\n",
      "input_1 (InputLayer)         (None, 156)               0         \n",
      "_________________________________________________________________\n",
      "embed (Embedding)            (None, 156, 100)          3473100   \n",
      "_________________________________________________________________\n",
      "conv1d_1 (Conv1D)            (None, 154, 64)           19264     \n",
      "_________________________________________________________________\n",
      "dropout_1 (Dropout)          (None, 154, 64)           0         \n",
      "_________________________________________________________________\n",
      "max_pooling1d_1 (MaxPooling1 (None, 77, 64)            0         \n",
      "_________________________________________________________________\n",
      "conv1d_2 (Conv1D)            (None, 75, 128)           24704     \n",
      "_________________________________________________________________\n",
      "dropout_2 (Dropout)          (None, 75, 128)           0         \n",
      "_________________________________________________________________\n",
      "max_pooling1d_2 (MaxPooling1 (None, 37, 128)           0         \n",
      "_________________________________________________________________\n",
      "conv1d_3 (Conv1D)            (None, 35, 256)           98560     \n",
      "_________________________________________________________________\n",
      "dropout_3 (Dropout)          (None, 35, 256)           0         \n",
      "_________________________________________________________________\n",
      "global_max_pooling1d_1 (Glob (None, 256)               0         \n",
      "_________________________________________________________________\n",
      "dense_1 (Dense)              (None, 128)               32896     \n",
      "_________________________________________________________________\n",
      "dropout_4 (Dropout)          (None, 128)               0         \n",
      "_________________________________________________________________\n",
      "dense_2 (Dense)              (None, 64)                8256      \n",
      "_________________________________________________________________\n",
      "dropout_5 (Dropout)          (None, 64)                0         \n",
      "_________________________________________________________________\n",
      "dense_3 (Dense)              (None, 32)                2080      \n",
      "_________________________________________________________________\n",
      "dense_4 (Dense)              (None, 13)                429       \n",
      "=================================================================\n",
      "Total params: 3,659,289\n",
      "Trainable params: 3,659,289\n",
      "Non-trainable params: 0\n",
      "_________________________________________________________________\n"
     ]
    }
   ],
   "source": [
    "cnn_model = build_model_cnn(num_words, num_classes, 100, dropout=0.3)\n",
    "cnn_model.summary()"
   ]
  },
  {
   "cell_type": "code",
   "execution_count": 25,
   "metadata": {},
   "outputs": [],
   "source": [
    "callbacks = [\n",
    "    tf.keras.callbacks.TensorBoard(log_dir=\"logs/{}_{}\".format('cnn_filtered', '64_128_256_128_64')),\n",
    "    tf.keras.callbacks.EarlyStopping(patience=5, verbose=1),\n",
    "    tf.keras.callbacks.ReduceLROnPlateau(patience=2, verbose=1)\n",
    "    ]  "
   ]
  },
  {
   "cell_type": "code",
   "execution_count": 27,
   "metadata": {
    "scrolled": false
   },
   "outputs": [
    {
     "name": "stdout",
     "output_type": "stream",
     "text": [
      "Epoch 1/15\n",
      "767/767 [==============================] - 11s 14ms/step - loss: 1.9466 - acc: 0.3234 - val_loss: 1.6784 - val_acc: 0.4771\n",
      "Epoch 2/15\n",
      "767/767 [==============================] - 11s 14ms/step - loss: 1.4695 - acc: 0.5019 - val_loss: 1.3190 - val_acc: 0.5836\n",
      "Epoch 3/15\n",
      "767/767 [==============================] - 11s 14ms/step - loss: 1.1879 - acc: 0.5972 - val_loss: 1.0110 - val_acc: 0.6797\n",
      "Epoch 4/15\n",
      "767/767 [==============================] - 11s 14ms/step - loss: 1.0132 - acc: 0.6538 - val_loss: 0.8999 - val_acc: 0.7162\n",
      "Epoch 5/15\n",
      "767/767 [==============================] - 11s 14ms/step - loss: 0.8863 - acc: 0.7024 - val_loss: 0.7788 - val_acc: 0.7427\n",
      "Epoch 6/15\n",
      "767/767 [==============================] - 11s 14ms/step - loss: 0.7867 - acc: 0.7368 - val_loss: 0.7211 - val_acc: 0.7754\n",
      "Epoch 7/15\n",
      "767/767 [==============================] - 11s 14ms/step - loss: 0.7210 - acc: 0.7583 - val_loss: 0.6476 - val_acc: 0.7933\n",
      "Epoch 8/15\n",
      "767/767 [==============================] - 11s 15ms/step - loss: 0.6751 - acc: 0.7755 - val_loss: 0.6539 - val_acc: 0.7956\n",
      "Epoch 9/15\n",
      "767/767 [==============================] - 11s 14ms/step - loss: 0.6332 - acc: 0.7909 - val_loss: 0.6073 - val_acc: 0.7998\n",
      "Epoch 10/15\n",
      "767/767 [==============================] - 11s 14ms/step - loss: 0.5959 - acc: 0.8046 - val_loss: 0.6581 - val_acc: 0.7733\n",
      "Epoch 11/15\n",
      "767/767 [==============================] - 11s 14ms/step - loss: 0.5792 - acc: 0.8129 - val_loss: 0.6288 - val_acc: 0.7908\n",
      "Epoch 12/15\n",
      "767/767 [==============================] - 11s 14ms/step - loss: 0.5603 - acc: 0.8207 - val_loss: 0.5519 - val_acc: 0.8355\n",
      "Epoch 13/15\n",
      "767/767 [==============================] - 11s 14ms/step - loss: 0.5351 - acc: 0.8309 - val_loss: 0.5719 - val_acc: 0.8262\n",
      "Epoch 14/15\n",
      "767/767 [==============================] - 11s 14ms/step - loss: 0.5130 - acc: 0.8404 - val_loss: 0.5131 - val_acc: 0.8452\n",
      "Epoch 15/15\n",
      "767/767 [==============================] - 11s 14ms/step - loss: 0.5105 - acc: 0.8413 - val_loss: 0.5107 - val_acc: 0.8401\n"
     ]
    },
    {
     "data": {
      "text/plain": [
       "<tensorflow.python.keras._impl.keras.callbacks.History at 0x7f92fab5f080>"
      ]
     },
     "execution_count": 27,
     "metadata": {},
     "output_type": "execute_result"
    }
   ],
   "source": [
    "cnn_model.fit_generator(train_generator, steps_per_epoch=train_steps, epochs=15, \n",
    "                          validation_data=val_generator, validation_steps=val_steps, callbacks=callbacks)"
   ]
  },
  {
   "cell_type": "markdown",
   "metadata": {},
   "source": [
    "### LSTM"
   ]
  },
  {
   "cell_type": "code",
   "execution_count": 40,
   "metadata": {},
   "outputs": [],
   "source": [
    "def build_model_rnn(neurons, num_words, num_class, embed_size, dropout, rec_dropout, cell=tf.keras.layers.GRU):\n",
    "    keras_util.new_session()\n",
    "    input_l = tf.keras.Input(shape=(maxlen,), dtype='int32')\n",
    "    embed_l = tf.keras.layers.Embedding(input_dim=num_words, output_dim=embed_size, name='embed')(input_l)\n",
    "    l = tf.keras.layers.Bidirectional(\n",
    "        cell(neurons, activation='relu', dropout=dropout, recurrent_dropout=rec_dropout,\n",
    "                           return_sequences=True)\n",
    "    )(embed_l)\n",
    "    l = tf.keras.layers.GRU(64, activation='relu', dropout=dropout, recurrent_dropout=rec_dropout,\n",
    "                           return_sequences=False)(l)\n",
    "    l = tf.keras.layers.BatchNormalization()(l)\n",
    "    l = tf.keras.layers.Dense(256, activation='relu')(l)\n",
    "    l = tf.keras.layers.Dropout(0.3)(l)\n",
    "    l = tf.keras.layers.Dense(128, activation='relu')(l)\n",
    "    output_l = tf.keras.layers.Dense(num_classes, activation='softmax')(l)\n",
    "    model = tf.keras.Model(inputs=input_l, outputs=output_l)\n",
    "    \n",
    "    model.compile(optimizer=tf.keras.optimizers.Adam(),\n",
    "              loss='categorical_crossentropy',\n",
    "              metrics=['accuracy'])\n",
    "    return model "
   ]
  },
  {
   "cell_type": "code",
   "execution_count": 41,
   "metadata": {},
   "outputs": [
    {
     "name": "stdout",
     "output_type": "stream",
     "text": [
      "_________________________________________________________________\n",
      "Layer (type)                 Output Shape              Param #   \n",
      "=================================================================\n",
      "input_1 (InputLayer)         (None, 156)               0         \n",
      "_________________________________________________________________\n",
      "embed (Embedding)            (None, 156, 100)          3473100   \n",
      "_________________________________________________________________\n",
      "bidirectional_1 (Bidirection (None, 156, 128)          63360     \n",
      "_________________________________________________________________\n",
      "gru_2 (GRU)                  (None, 64)                37056     \n",
      "_________________________________________________________________\n",
      "batch_normalization_1 (Batch (None, 64)                256       \n",
      "_________________________________________________________________\n",
      "dense_1 (Dense)              (None, 256)               16640     \n",
      "_________________________________________________________________\n",
      "dropout_1 (Dropout)          (None, 256)               0         \n",
      "_________________________________________________________________\n",
      "dense_2 (Dense)              (None, 128)               32896     \n",
      "_________________________________________________________________\n",
      "dense_3 (Dense)              (None, 13)                1677      \n",
      "=================================================================\n",
      "Total params: 3,624,985\n",
      "Trainable params: 3,624,857\n",
      "Non-trainable params: 128\n",
      "_________________________________________________________________\n"
     ]
    }
   ],
   "source": [
    "neurons = 64\n",
    "\n",
    "gru_model = build_model_rnn(neurons, num_words, num_classes, 100, 0.3, 0.3)\n",
    "\n",
    "callbacks = [\n",
    "    tf.keras.callbacks.TensorBoard(log_dir=\"logs/{}_{}\".format('gru_filtered', neurons)),\n",
    "    tf.keras.callbacks.EarlyStopping(patience=5, verbose=1),\n",
    "    tf.keras.callbacks.ReduceLROnPlateau(factor=0.2, patience=2, verbose=1, mode='min',cooldown=0, min_lr=0)\n",
    "    ] \n",
    "\n",
    "gru_model.summary()"
   ]
  },
  {
   "cell_type": "code",
   "execution_count": 42,
   "metadata": {},
   "outputs": [
    {
     "data": {
      "text/plain": [
       "522"
      ]
     },
     "execution_count": 42,
     "metadata": {},
     "output_type": "execute_result"
    }
   ],
   "source": [
    "import gc\n",
    "gc.collect()"
   ]
  },
  {
   "cell_type": "code",
   "execution_count": null,
   "metadata": {
    "scrolled": false
   },
   "outputs": [
    {
     "name": "stdout",
     "output_type": "stream",
     "text": [
      "Epoch 1/15\n",
      "767/767 [==============================] - 439s 572ms/step - loss: 2.3807 - acc: 0.1512 - val_loss: 2.1750 - val_acc: 0.2771\n",
      "Epoch 2/15\n",
      "767/767 [==============================] - 435s 567ms/step - loss: 1.7163 - acc: 0.4248 - val_loss: 1.1034 - val_acc: 0.6434\n",
      "Epoch 3/15\n",
      "767/767 [==============================] - 434s 566ms/step - loss: 1.0851 - acc: 0.6437 - val_loss: 0.7859 - val_acc: 0.7376\n",
      "Epoch 4/15\n",
      "767/767 [==============================] - 435s 567ms/step - loss: 0.8140 - acc: 0.7326 - val_loss: 0.6144 - val_acc: 0.7966\n",
      "Epoch 5/15\n",
      "767/767 [==============================] - 435s 568ms/step - loss: 0.6645 - acc: 0.7815 - val_loss: 0.5339 - val_acc: 0.8219\n",
      "Epoch 6/15\n",
      "767/767 [==============================] - 443s 577ms/step - loss: 0.5528 - acc: 0.8172 - val_loss: 0.4826 - val_acc: 0.8400\n",
      "Epoch 7/15\n",
      "767/767 [==============================] - 445s 580ms/step - loss: 0.4752 - acc: 0.8432 - val_loss: 0.4377 - val_acc: 0.8541\n",
      "Epoch 8/15\n",
      "767/767 [==============================] - 447s 583ms/step - loss: 0.4328 - acc: 0.8569 - val_loss: 0.4175 - val_acc: 0.8643\n",
      "Epoch 9/15\n",
      "767/767 [==============================] - 451s 588ms/step - loss: 0.3807 - acc: 0.8745 - val_loss: 0.3994 - val_acc: 0.8724\n",
      "Epoch 10/15\n",
      "406/767 [==============>...............] - ETA: 3:25 - loss: 0.3459 - acc: 0.8845"
     ]
    }
   ],
   "source": [
    "history = gru_model.fit_generator(train_generator, steps_per_epoch=train_steps, epochs=15, \n",
    "                          validation_data=val_generator, validation_steps=val_steps, callbacks=callbacks)"
   ]
  },
  {
   "cell_type": "code",
   "execution_count": null,
   "metadata": {},
   "outputs": [],
   "source": [
    "import gc\n",
    "gc.collect()"
   ]
  },
  {
   "cell_type": "code",
   "execution_count": null,
   "metadata": {},
   "outputs": [],
   "source": [
    "lstm_model = build_model_rnn(64, num_words, num_classes, 100, 0.3, 0.3, cell=tf.keras.layers.LSTM)\n",
    "lstm_model.summary()"
   ]
  },
  {
   "cell_type": "code",
   "execution_count": null,
   "metadata": {},
   "outputs": [],
   "source": [
    "callbacks = [\n",
    "    tf.keras.callbacks.TensorBoard(log_dir=\"logs/{}_{}\".format('lstm_filtered', '64')),\n",
    "    tf.keras.callbacks.EarlyStopping(patience=3, verbose=1),\n",
    "    tf.keras.callbacks.ReduceLROnPlateau(factor=0.2, patience=2, verbose=1, mode='min',cooldown=0, min_lr=0)\n",
    "    ]  "
   ]
  },
  {
   "cell_type": "code",
   "execution_count": null,
   "metadata": {
    "scrolled": true
   },
   "outputs": [],
   "source": [
    "history = lstm_model.fit_generator(train_generator, steps_per_epoch=train_steps, epochs=20, \n",
    "                          validation_data=val_generator, validation_steps=val_steps, callbacks=callbacks)"
   ]
  },
  {
   "cell_type": "markdown",
   "metadata": {},
   "source": [
    "We can see the there is no improvement in using an embedding layer, but we have milion of parameters with respect to thousand of observations. "
   ]
  },
  {
   "cell_type": "markdown",
   "metadata": {},
   "source": [
    "## Build the final model\n",
    "\n",
    "the best model is obtained embedding of size 64"
   ]
  },
  {
   "cell_type": "code",
   "execution_count": null,
   "metadata": {},
   "outputs": [],
   "source": [
    "import gc\n",
    "gc.collect()"
   ]
  },
  {
   "cell_type": "code",
   "execution_count": null,
   "metadata": {},
   "outputs": [],
   "source": [
    "train_steps = len(x_train) // batch_size + 1\n",
    "\n",
    "train_generator = dataset_utils.dataset_generator_fun(x_train, y_train, x_transformer, y_tranformer, \n",
    "                                                      batch_size, 0, len(x_train), True)"
   ]
  },
  {
   "cell_type": "code",
   "execution_count": null,
   "metadata": {},
   "outputs": [],
   "source": [
    "model = build_model_cnn(num_words, num_classes, embed_size)\n",
    "cnn_model.summary()"
   ]
  },
  {
   "cell_type": "code",
   "execution_count": null,
   "metadata": {},
   "outputs": [],
   "source": [
    "history = model.fit_generator(train_generator, train_steps, 8)"
   ]
  },
  {
   "cell_type": "markdown",
   "metadata": {},
   "source": [
    "## Evaluate on the test set"
   ]
  },
  {
   "cell_type": "code",
   "execution_count": 29,
   "metadata": {},
   "outputs": [],
   "source": [
    "x_test_pad = tf.keras.preprocessing.sequence.pad_sequences(x_test_filtered, maxlen)"
   ]
  },
  {
   "cell_type": "code",
   "execution_count": 30,
   "metadata": {},
   "outputs": [],
   "source": [
    "x_test_v = dataset_utils.vectorize_sequences(x_test_filtered, num_words)\n",
    "y_test_v = dataset_utils.to_one_hot(y_test_mapped, num_classes)"
   ]
  },
  {
   "cell_type": "code",
   "execution_count": 31,
   "metadata": {},
   "outputs": [
    {
     "name": "stdout",
     "output_type": "stream",
     "text": [
      "17518/17518 [==============================] - 1s 55us/step\n"
     ]
    }
   ],
   "source": [
    "test_predictions = cnn_model.predict(x_test_pad, verbose=1)"
   ]
  },
  {
   "cell_type": "code",
   "execution_count": 32,
   "metadata": {},
   "outputs": [
    {
     "name": "stdout",
     "output_type": "stream",
     "text": [
      "accuracy  0.7729192830231761\n",
      "precision  0.7965324670281343\n",
      "recall  0.7729192830231761\n",
      "f-measure  0.7740253030864677\n"
     ]
    }
   ],
   "source": [
    "predictions = np.array([np.argmax(x) for x in test_predictions])\n",
    "precision, recall, fscore, _ = metrics.precision_recall_fscore_support(y_test_mapped,predictions, average='weighted')\n",
    "accuracy = metrics.accuracy_score(y_test_mapped, predictions)\n",
    "\n",
    "auc_score = metrics.roc_auc_score(y_test_v, test_predictions, average='weighted')\n",
    "\n",
    "print('accuracy ', accuracy)\n",
    "print('precision ', precision)\n",
    "print('recall ', recall)\n",
    "print('f-measure ', fscore)"
   ]
  },
  {
   "cell_type": "markdown",
   "metadata": {},
   "source": [
    "### Report the classification result for each class"
   ]
  },
  {
   "cell_type": "code",
   "execution_count": 33,
   "metadata": {},
   "outputs": [
    {
     "name": "stdout",
     "output_type": "stream",
     "text": [
      "             precision    recall  f1-score   support\n",
      "\n",
      "          0       0.99      0.91      0.95      2718\n",
      "          1       0.90      0.63      0.74       370\n",
      "          2       1.00      0.76      0.87      1142\n",
      "          3       0.87      0.52      0.65      1890\n",
      "          4       0.58      0.58      0.58       525\n",
      "          5       0.62      0.73      0.67      1496\n",
      "          6       0.56      0.84      0.67      1204\n",
      "          7       0.37      0.27      0.32       333\n",
      "          8       0.75      0.82      0.78      2364\n",
      "          9       0.85      0.83      0.84      1945\n",
      "         10       0.97      0.81      0.88       931\n",
      "         11       0.66      0.90      0.77       282\n",
      "         12       0.69      0.83      0.75      2318\n",
      "\n",
      "avg / total       0.80      0.77      0.77     17518\n",
      "\n"
     ]
    }
   ],
   "source": [
    "print(metrics.classification_report(y_test_mapped, predictions))"
   ]
  },
  {
   "cell_type": "markdown",
   "metadata": {},
   "source": [
    "### Confusion Matrix"
   ]
  },
  {
   "cell_type": "code",
   "execution_count": 34,
   "metadata": {},
   "outputs": [],
   "source": [
    "conf_matrix = metrics.confusion_matrix(y_test_filtered, predictions)"
   ]
  },
  {
   "cell_type": "code",
   "execution_count": 39,
   "metadata": {},
   "outputs": [
    {
     "data": {
      "text/plain": [
       "array([[   0,    0,    0,    0,    0,    0,    0,    0,    0,    0,    0,\n",
       "           0,    0,    0,    0,    0,    0,    0,    0,    0,    0,    0,\n",
       "           0,    0,    0,    0],\n",
       "       [   0,    0,    0,    0,    0,    0,    0,    0,    0,    0,    0,\n",
       "           0,    0,    0,    0,    0,    0,    0,    0,    0,    0,    0,\n",
       "           0,    0,    0,    0],\n",
       "       [   0,    0,    0,    0,    0,    0,    0,    0,    0,    0,    0,\n",
       "           0,    0,    0,    0,    0,    0,    0,    0,    0,    0,    0,\n",
       "           0,    0,    0,    0],\n",
       "       [   0,    0,    0,    0,    0,    0,    0,    0,    0,    0,    0,\n",
       "           0,    0,    0,    0,    0,    0,    0,    0,    0,    0,    0,\n",
       "           0,    0,    0,    0],\n",
       "       [   0,    0,    0,    0,    0,    0,    0,    0,    0,    0,    0,\n",
       "           0,    0,    0,    0,    0,    0,    0,    0,    0,    0,    0,\n",
       "           0,    0,    0,    0],\n",
       "       [   0,    0,    0,    0,    0,    0,    0,    0,    0,    0,    0,\n",
       "           0,    0,    0,    0,    0,    0,    0,    0,    0,    0,    0,\n",
       "           0,    0,    0,    0],\n",
       "       [   0,    0,    0,    0,    0,    0,    0,    0,    0,    0,    0,\n",
       "           0,    0,    0,    0,    0,    0,    0,    0,    0,    0,    0,\n",
       "           0,    0,    0,    0],\n",
       "       [   0,    0,    0,    0,    0,    0,    0,    0,    0,    0,    0,\n",
       "           0,    0,    0,    0,    0,    0,    0,    0,    0,    0,    0,\n",
       "           0,    0,    0,    0],\n",
       "       [   0,    0,    0,    0,    0,    0,    0,    0,    0,    0,    0,\n",
       "           0,    0,    0,    0,    0,    0,    0,    0,    0,    0,    0,\n",
       "           0,    0,    0,    0],\n",
       "       [   0,    0,    0,    0,    0,    0,    0,    0,    0,    0,    0,\n",
       "           0,    0,    0,    0,    0,    0,    0,    0,    0,    0,    0,\n",
       "           0,    0,    0,    0],\n",
       "       [   0,    0,    0,    0,    0,    0,    0,    0,    0,    0,    0,\n",
       "           0,    0,    0,    0,    0,    0,    0,    0,    0,    0,    0,\n",
       "           0,    0,    0,    0],\n",
       "       [   0,    0,    0,    0,    0,    0,    0,    0,    0,    0,    0,\n",
       "           0,    0,    0,    0,    0,    0,    0,    0,    0,    0,    0,\n",
       "           0,    0,    0,    0],\n",
       "       [   0,    0,    0,    0,    0,    0,    0,    0,    0,    0,    0,\n",
       "           0,    0,    0,    0,    0,    0,    0,    0,    0,    0,    0,\n",
       "           0,    0,    0,    0],\n",
       "       [2473,    9,    0,    1,    1,    1,    6,    5,   36,  124,    1,\n",
       "          11,   50,    0,    0,    0,    0,    0,    0,    0,    0,    0,\n",
       "           0,    0,    0,    0],\n",
       "       [   4,  234,    0,    6,    0,    1,   24,    1,   16,   48,    0,\n",
       "          21,   15,    0,    0,    0,    0,    0,    0,    0,    0,    0,\n",
       "           0,    0,    0,    0],\n",
       "       [   3,    2,  873,    3,    1,    1,    6,  119,  100,    7,    0,\n",
       "           3,   24,    0,    0,    0,    0,    0,    0,    0,    0,    0,\n",
       "           0,    0,    0,    0],\n",
       "       [   0,    3,    0,  979,    0,  554,  128,    5,   95,    6,    9,\n",
       "          13,   98,    0,    0,    0,    0,    0,    0,    0,    0,    0,\n",
       "           0,    0,    0,    0],\n",
       "       [   0,    0,    0,    1,  303,    2,   13,    0,   24,    5,    0,\n",
       "           0,  177,    0,    0,    0,    0,    0,    0,    0,    0,    0,\n",
       "           0,    0,    0,    0],\n",
       "       [   0,    1,    0,   81,    1, 1089,  202,    0,   38,    8,    0,\n",
       "           0,   76,    0,    0,    0,    0,    0,    0,    0,    0,    0,\n",
       "           0,    0,    0,    0],\n",
       "       [   0,    0,    0,    9,    2,   27, 1017,    0,   34,   23,    6,\n",
       "           7,   79,    0,    0,    0,    0,    0,    0,    0,    0,    0,\n",
       "           0,    0,    0,    0],\n",
       "       [   2,    4,    0,    3,    0,    1,    9,   91,  192,    3,    0,\n",
       "           5,   23,    0,    0,    0,    0,    0,    0,    0,    0,    0,\n",
       "           0,    0,    0,    0],\n",
       "       [   0,    1,    1,   18,    6,   16,  115,   16, 1944,   38,    3,\n",
       "           2,  204,    0,    0,    0,    0,    0,    0,    0,    0,    0,\n",
       "           0,    0,    0,    0],\n",
       "       [   9,    1,    0,    3,    1,   11,  146,    0,   75, 1617,    0,\n",
       "           2,   80,    0,    0,    0,    0,    0,    0,    0,    0,    0,\n",
       "           0,    0,    0,    0],\n",
       "       [   3,    4,    0,   13,    0,    0,   75,    3,    3,    0,  753,\n",
       "          60,   17,    0,    0,    0,    0,    0,    0,    0,    0,    0,\n",
       "           0,    0,    0,    0],\n",
       "       [   0,    1,    0,    4,    0,    0,    8,    0,    1,    1,    2,\n",
       "         254,   11,    0,    0,    0,    0,    0,    0,    0,    0,    0,\n",
       "           0,    0,    0,    0],\n",
       "       [   1,    0,    0,    9,  209,   40,   69,    3,   51,   14,    5,\n",
       "           4, 1913,    0,    0,    0,    0,    0,    0,    0,    0,    0,\n",
       "           0,    0,    0,    0]])"
      ]
     },
     "execution_count": 39,
     "metadata": {},
     "output_type": "execute_result"
    }
   ],
   "source": [
    "conf_matrix"
   ]
  },
  {
   "cell_type": "code",
   "execution_count": 37,
   "metadata": {},
   "outputs": [],
   "source": [
    "import itertools\n",
    "import matplotlib.pyplot as plt\n",
    "\n",
    "def plot_confusion_matrix(cm, classes,\n",
    "                          normalize=False,\n",
    "                          title='Confusion matrix',\n",
    "                          cmap=plt.cm.Blues):\n",
    "    \"\"\"\n",
    "    This function prints and plots the confusion matrix.\n",
    "    Normalization can be applied by setting `normalize=True`.\n",
    "    \"\"\"\n",
    "    if normalize:\n",
    "        cm = cm.astype('float') / cm.sum(axis=1)[:, np.newaxis]\n",
    "        print(\"Normalized confusion matrix\")\n",
    "    else:\n",
    "        print('Confusion matrix, without normalization')\n",
    "\n",
    "    plt.imshow(cm, interpolation='nearest', cmap=cmap)\n",
    "    plt.title(title)\n",
    "    plt.colorbar()\n",
    "    tick_marks = np.arange(len(classes))\n",
    "    plt.xticks(tick_marks, classes, rotation=90)\n",
    "    plt.yticks(tick_marks, classes)\n",
    "\n",
    "    fmt = '.2f' if normalize else 'd'\n",
    "    thresh = cm.max() / 2.\n",
    "    for i, j in itertools.product(range(cm.shape[0]), range(cm.shape[1])):\n",
    "        plt.text(j, i, format(cm[i, j], fmt),\n",
    "                 horizontalalignment=\"center\",\n",
    "                 color=\"white\" if cm[i, j] > thresh else \"black\")\n",
    "\n",
    "    plt.tight_layout()\n",
    "    plt.ylabel('True label')\n",
    "    plt.xlabel('Predicted label')\n",
    "    \n",
    "np.set_printoptions(precision=2)"
   ]
  },
  {
   "cell_type": "code",
   "execution_count": 38,
   "metadata": {},
   "outputs": [
    {
     "name": "stdout",
     "output_type": "stream",
     "text": [
      "Confusion matrix, without normalization\n"
     ]
    },
    {
     "data": {
      "image/png": "[encoded data removed]",
      "text/plain": [
       "<Figure size 1440x1440 with 2 Axes>"
      ]
     },
     "metadata": {},
     "output_type": "display_data"
    }
   ],
   "source": [
    "plt.rcParams['figure.figsize'] = (20,20)\n",
    "plot_confusion_matrix(conf_matrix, classes=filtered_label_index_dict,\n",
    "                      title='Confusion matrix, without normalization')"
   ]
  },
  {
   "cell_type": "code",
   "execution_count": null,
   "metadata": {},
   "outputs": [],
   "source": []
  }
 ],
 "metadata": {
  "kernelspec": {
   "display_name": "Python 3",
   "language": "python",
   "name": "python3"
  },
  "language_info": {
   "codemirror_mode": {
    "name": "ipython",
    "version": 3
   },
   "file_extension": ".py",
   "mimetype": "text/x-python",
   "name": "python",
   "nbconvert_exporter": "python",
   "pygments_lexer": "ipython3",
   "version": "3.6.5"
  }
 },
 "nbformat": 4,
 "nbformat_minor": 2
}
