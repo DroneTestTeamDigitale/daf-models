{
 "cells": [
  {
   "cell_type": "code",
   "execution_count": 1,
   "metadata": {},
   "outputs": [
    {
     "name": "stderr",
     "output_type": "stream",
     "text": [
      "Using TensorFlow backend.\n"
     ]
    }
   ],
   "source": [
    "import numpy as np\n",
    "import pandas as pd\n",
    "import pickle\n",
    "\n",
    "from keras import models\n",
    "from keras import layers\n",
    "from keras import optimizers\n",
    "from keras import losses\n",
    "from keras import activations\n",
    "from keras import metrics\n",
    "from keras import regularizers\n",
    "import math\n",
    "\n",
    "import random\n",
    "\n",
    "# to make the experimens replicable\n",
    "random.seed(123456)"
   ]
  },
  {
   "cell_type": "markdown",
   "metadata": {},
   "source": [
    "## Important\n",
    "\n",
    "as first step run the notebook `1. classification-dataset-creation.ipynb` to create the dataset."
   ]
  },
  {
   "cell_type": "code",
   "execution_count": 2,
   "metadata": {},
   "outputs": [],
   "source": [
    "dataset_path = '../data/dataset-dirigenti-split.pkl'\n",
    "\n",
    "with open(dataset_path, 'rb') as f:\n",
    "    train_samples, train_labels, val_samples, val_labels, test_samples, test_labels = pickle.load(f)"
   ]
  },
  {
   "cell_type": "markdown",
   "metadata": {},
   "source": [
    "### Transform it in a dataset"
   ]
  },
  {
   "cell_type": "code",
   "execution_count": 3,
   "metadata": {},
   "outputs": [
    {
     "data": {
      "text/plain": [
       "array([ 'RESIDUI PERENTI BILANCIO 1997 - IMPEGNO E LIQUIDAZIONE ALL ORDINE PROVINCIALE DEI MEDICI-CHIRURGHI E DEGLI ODONTOIATRI DI FIRENZE PERL ATTUAZIONE DI INIZIATIVE CULTURALI E SCIENTIFICHE DI SUPPORTO AI CORSI DI FORMAZIONE SPECIFICA IN MEDICINA GENERALE.',\n",
       "       'L.R. 72/94 \" Danni causati da animali predatori o da eventi meteorici al patrimonio zootecnico\" - Liquidazione indennizzi beneficiari Euro 34.988,28=.',\n",
       "       'Eventi alluvionali novembre 2000 - Interventi urgenti connessi alla difesa idraulica - Erogazione al Comune di Montemurlo (PO) saldo finanziamento spettante per realizzazione intervento n. 301 compreso nel Piano regionale di cui all`allegato 2 della DGRT n. 104/2003.',\n",
       "       'APPROVAZIONE SCHEMA DI CONVENZIONE TRA LA REGIONE TOSCANA E I SOGGETTI PRIVATI AMMESSI A CONTRIBUTO PER I PROGETTI-INTERVENTO IN MATERIA DI PAESAGGIO',\n",
       "       'Contributo al Comune di Siena per l`organizzazione della Terza giornata del Contemporaneo in programma nel mese di ottobre 2007.'],\n",
       "      dtype='<U961')"
      ]
     },
     "execution_count": 3,
     "metadata": {},
     "output_type": "execute_result"
    }
   ],
   "source": [
    "train_samples[:5]"
   ]
  },
  {
   "cell_type": "code",
   "execution_count": 4,
   "metadata": {},
   "outputs": [
    {
     "data": {
      "text/plain": [
       "array(['01943', '01934',\n",
       "       'DIREZIONE GENERALE POLITICHE TERRITORIALI E AMBIENTALI',\n",
       "       'DIREZIONE GENERALE POLITICHE TERRITORIALI E AMBIENTALI',\n",
       "       'DIREZIONE GENERALE POLITICHE FORMATIVE, BENI E ATTIVIT'],\n",
       "      dtype='<U54')"
      ]
     },
     "execution_count": 4,
     "metadata": {},
     "output_type": "execute_result"
    }
   ],
   "source": [
    "train_labels[:5]"
   ]
  },
  {
   "cell_type": "code",
   "execution_count": 5,
   "metadata": {
    "scrolled": true
   },
   "outputs": [
    {
     "data": {
      "text/plain": [
       "(138043,)"
      ]
     },
     "execution_count": 5,
     "metadata": {},
     "output_type": "execute_result"
    }
   ],
   "source": [
    "samples = np.concatenate([train_samples,val_samples, test_samples])\n",
    "samples.shape"
   ]
  },
  {
   "cell_type": "code",
   "execution_count": 6,
   "metadata": {},
   "outputs": [
    {
     "data": {
      "text/plain": [
       "(138043,)"
      ]
     },
     "execution_count": 6,
     "metadata": {},
     "output_type": "execute_result"
    }
   ],
   "source": [
    "labels = np.concatenate([train_labels, val_labels, test_labels])\n",
    "labels.shape"
   ]
  },
  {
   "cell_type": "markdown",
   "metadata": {},
   "source": [
    "## Tokenize the Dataset"
   ]
  },
  {
   "cell_type": "code",
   "execution_count": 7,
   "metadata": {},
   "outputs": [],
   "source": [
    "from keras.preprocessing.text import Tokenizer"
   ]
  },
  {
   "cell_type": "code",
   "execution_count": 8,
   "metadata": {},
   "outputs": [],
   "source": [
    "num_words = 10000"
   ]
  },
  {
   "cell_type": "code",
   "execution_count": 9,
   "metadata": {},
   "outputs": [],
   "source": [
    "tokenizer = Tokenizer(num_words=num_words)\n",
    "tokenizer.fit_on_texts(samples)"
   ]
  },
  {
   "cell_type": "code",
   "execution_count": 10,
   "metadata": {},
   "outputs": [],
   "source": [
    "freq_words = [(v,k) for k,v in tokenizer.word_docs.items()]"
   ]
  },
  {
   "cell_type": "code",
   "execution_count": 11,
   "metadata": {},
   "outputs": [
    {
     "data": {
      "text/plain": [
       "[(108923, 'di'),\n",
       " (70047, 'e'),\n",
       " (62030, 'del'),\n",
       " (60358, 'per'),\n",
       " (48081, 'r'),\n",
       " (46824, 'l'),\n",
       " (44301, 'n'),\n",
       " (43630, 'a'),\n",
       " (40125, 'della'),\n",
       " (32549, 'in')]"
      ]
     },
     "execution_count": 11,
     "metadata": {},
     "output_type": "execute_result"
    }
   ],
   "source": [
    "sorted(freq_words, key=lambda t: t[0], reverse=True)[:10]"
   ]
  },
  {
   "cell_type": "code",
   "execution_count": 12,
   "metadata": {},
   "outputs": [],
   "source": [
    "train_sequences = tokenizer.texts_to_sequences(train_samples)\n",
    "val_sequences = tokenizer.texts_to_sequences(val_samples)\n",
    "test_sequences = tokenizer.texts_to_sequences(test_samples)"
   ]
  },
  {
   "cell_type": "code",
   "execution_count": 13,
   "metadata": {},
   "outputs": [
    {
     "name": "stdout",
     "output_type": "stream",
     "text": [
      "[1120, 915, 418, 721, 14, 2, 18, 50, 2055, 530, 21, 1072, 2, 52, 1, 66, 179, 1, 691, 749, 2, 5399, 1, 512, 25, 723, 1, 129, 1100, 10, 558, 321]\n",
      "[7, 6, 956, 88, 740, 2101, 45, 1187, 3733, 132, 45, 277, 4270, 13, 313, 1613, 18, 2539, 965, 221, 708, 7629, 298]\n"
     ]
    }
   ],
   "source": [
    "for s in train_sequences[:2]:\n",
    "    print(s) "
   ]
  },
  {
   "cell_type": "markdown",
   "metadata": {},
   "source": [
    "Convert labels to sequences"
   ]
  },
  {
   "cell_type": "code",
   "execution_count": 14,
   "metadata": {},
   "outputs": [],
   "source": [
    "index_to_labels = dict(enumerate(set(labels)))\n",
    "labels_to_index = {v:k for k,v in index_to_labels.items()}"
   ]
  },
  {
   "cell_type": "code",
   "execution_count": 15,
   "metadata": {},
   "outputs": [
    {
     "data": {
      "text/plain": [
       "20"
      ]
     },
     "execution_count": 15,
     "metadata": {},
     "output_type": "execute_result"
    }
   ],
   "source": [
    "len(index_to_labels)"
   ]
  },
  {
   "cell_type": "code",
   "execution_count": 16,
   "metadata": {},
   "outputs": [
    {
     "name": "stdout",
     "output_type": "stream",
     "text": [
      "{'01943': 0, '01934': 1, 'DIREZIONE ISTRUZIONE E FORMAZIONE': 2, 'DIREZIONE ORGANIZZAZIONE E SISTEMI INFORMATIVI': 3, 'DIREZIONE DIFESA DEL SUOLO E PROTEZIONE CIVILE': 4, 'DIREZIONE GENERALE POLITICHE FORMATIVE, BENI E ATTIVIT': 5, 'DIREZIONE GENERALE SVILUPPO ECONOMICO                 ': 6, 'POLITICHE AMBIENTALI, ENERGIA E CAMBIAMENTI CLIMATICI': 7, 'DIREZIONE AGRICOLTURA E SVILUPPO RURALE': 8, \"D.G. COMPETITIVITA' DEL SISTEMA REGIONALE E SVILUPPO D\": 9, 'DIREZIONE GENERALE POLITICHE TERRITORIALI E AMBIENTALI': 10, 'D.G. PRESIDENZA                                       ': 11, '01937': 12, 'DIREZIONE GENERALE DIRITTO ALLA SALUTE E POLITICHE DI ': 13, 'D.G.  AVVOCATURA                                      ': 14, '01025': 15, '01928': 16, '01946': 17, 'DIREZIONE DIRITTI DI CITTADINANZA E COESIONE SOCIALE': 18, 'DIREZIONE GENERALE BILANCIO E FINANZE                 ': 19}\n",
      "20\n"
     ]
    }
   ],
   "source": [
    "print(labels_to_index)\n",
    "print(len(labels_to_index))"
   ]
  },
  {
   "cell_type": "code",
   "execution_count": 17,
   "metadata": {},
   "outputs": [],
   "source": [
    "encoded_train_labels = [labels_to_index[l] for l in train_labels]\n",
    "encoded_val_labels = [labels_to_index[l] for l in val_labels]\n",
    "encoded_test_labels = [labels_to_index[l] for l in test_labels]"
   ]
  },
  {
   "cell_type": "code",
   "execution_count": 18,
   "metadata": {},
   "outputs": [
    {
     "data": {
      "text/plain": [
       "[0, 1, 10, 10, 5, 14, 3, 2, 19, 9]"
      ]
     },
     "execution_count": 18,
     "metadata": {},
     "output_type": "execute_result"
    }
   ],
   "source": [
    "encoded_train_labels[:10]"
   ]
  },
  {
   "cell_type": "markdown",
   "metadata": {},
   "source": [
    "### Preparing Data\n",
    "\n",
    "- for the input data we pad the sequence to a max length in order to make uniform the sequences.\n",
    "- for the labels we continue with one-hot encoding\n"
   ]
  },
  {
   "cell_type": "code",
   "execution_count": 19,
   "metadata": {},
   "outputs": [],
   "source": [
    "from keras.preprocessing import sequence"
   ]
  },
  {
   "cell_type": "code",
   "execution_count": 20,
   "metadata": {},
   "outputs": [
    {
     "name": "stdout",
     "output_type": "stream",
     "text": [
      "max length of objects 150\n"
     ]
    }
   ],
   "source": [
    "print('max length of objects {}'.format(max(map(len, train_sequences))))"
   ]
  },
  {
   "cell_type": "markdown",
   "metadata": {},
   "source": [
    "#### Maximum Sequence Length\n",
    "\n",
    "for initial test we use the first 100 words"
   ]
  },
  {
   "cell_type": "code",
   "execution_count": 21,
   "metadata": {},
   "outputs": [],
   "source": [
    "maxlen = 100"
   ]
  },
  {
   "cell_type": "code",
   "execution_count": 22,
   "metadata": {},
   "outputs": [],
   "source": [
    "x_train_seq = sequence.pad_sequences(train_sequences, maxlen=maxlen)\n",
    "x_val_seq = sequence.pad_sequences(val_sequences, maxlen=maxlen)\n",
    "x_test_seq = sequence.pad_sequences(test_sequences, maxlen=maxlen)"
   ]
  },
  {
   "cell_type": "code",
   "execution_count": 23,
   "metadata": {
    "scrolled": false
   },
   "outputs": [
    {
     "data": {
      "text/plain": [
       "(99390, 100)"
      ]
     },
     "execution_count": 23,
     "metadata": {},
     "output_type": "execute_result"
    }
   ],
   "source": [
    "x_train_seq.shape"
   ]
  },
  {
   "cell_type": "markdown",
   "metadata": {},
   "source": [
    "One-hot encoding for input"
   ]
  },
  {
   "cell_type": "code",
   "execution_count": 24,
   "metadata": {},
   "outputs": [],
   "source": [
    "def vectorize_sequences(sequences, dimension=10000):\n",
    "    data = np.zeros((len(sequences), dimension), dtype=np.float32)\n",
    "    for i, sequence in enumerate(sequences):\n",
    "        data[i,sequence] = 1.\n",
    "    return data"
   ]
  },
  {
   "cell_type": "code",
   "execution_count": 25,
   "metadata": {},
   "outputs": [],
   "source": [
    "x_train = vectorize_sequences(train_sequences, num_words)\n",
    "x_val = vectorize_sequences(val_sequences, num_words)\n",
    "x_test = vectorize_sequences(test_sequences, num_words)"
   ]
  },
  {
   "cell_type": "markdown",
   "metadata": {},
   "source": [
    "One hot encoding for the labels"
   ]
  },
  {
   "cell_type": "code",
   "execution_count": 26,
   "metadata": {},
   "outputs": [],
   "source": [
    "def to_one_hot(labels):\n",
    "    results = np.zeros((len(labels), len(set(labels))), dtype=np.float32)\n",
    "    for i, label in enumerate(labels):\n",
    "        results[i, label] = 1.\n",
    "    return results"
   ]
  },
  {
   "cell_type": "code",
   "execution_count": 27,
   "metadata": {},
   "outputs": [],
   "source": [
    "y_train = to_one_hot(encoded_train_labels)\n",
    "y_val = to_one_hot(encoded_val_labels)\n",
    "y_test = to_one_hot(encoded_test_labels)"
   ]
  },
  {
   "cell_type": "code",
   "execution_count": 28,
   "metadata": {},
   "outputs": [
    {
     "data": {
      "text/plain": [
       "array([[ 1.,  0.,  0., ...,  0.,  0.,  0.],\n",
       "       [ 0.,  1.,  0., ...,  0.,  0.,  0.],\n",
       "       [ 0.,  0.,  0., ...,  0.,  0.,  0.],\n",
       "       ..., \n",
       "       [ 0.,  0.,  0., ...,  0.,  0.,  0.],\n",
       "       [ 0.,  0.,  0., ...,  0.,  1.,  0.],\n",
       "       [ 0.,  0.,  0., ...,  0.,  0.,  0.]], dtype=float32)"
      ]
     },
     "execution_count": 28,
     "metadata": {},
     "output_type": "execute_result"
    }
   ],
   "source": [
    "y_train"
   ]
  },
  {
   "cell_type": "markdown",
   "metadata": {},
   "source": [
    "## The Effects of Word Embeddings\n",
    "\n",
    "Before using a word embedding as a layer in our network let evaluate the effect of embeddings by training a simple classifier that has it as only layer."
   ]
  },
  {
   "cell_type": "code",
   "execution_count": 29,
   "metadata": {},
   "outputs": [],
   "source": [
    "def build_model_only_embeddings(embed_size):\n",
    "    model = models.Sequential()\n",
    "    model.add(layers.Embedding(input_dim=num_words, output_dim=embed_size, input_length=maxlen, name='embed'))\n",
    "    model.add(layers.Flatten())\n",
    "    model.add(layers.Dense(len(labels_to_index), activation='softmax', name='softmax'))\n",
    "    model.compile(optimizer=optimizers.Adam(), \n",
    "          loss='categorical_crossentropy',\n",
    "          metrics=['accuracy'])\n",
    "    return model"
   ]
  },
  {
   "cell_type": "code",
   "execution_count": 30,
   "metadata": {},
   "outputs": [],
   "source": [
    "model_only_embed_small = build_model_only_embeddings(32)\n",
    "model_only_embed_medium = build_model_only_embeddings(64)\n",
    "model_only_embed_large = build_model_only_embeddings(128)"
   ]
  },
  {
   "cell_type": "code",
   "execution_count": 31,
   "metadata": {},
   "outputs": [
    {
     "name": "stdout",
     "output_type": "stream",
     "text": [
      "Train on 99390 samples, validate on 11044 samples\n",
      "Epoch 1/10\n",
      "99390/99390 [==============================] - 2s 25us/step - loss: 1.9546 - acc: 0.4358 - val_loss: 1.1618 - val_acc: 0.6563\n",
      "Epoch 2/10\n",
      "99390/99390 [==============================] - 1s 13us/step - loss: 0.9018 - acc: 0.7252 - val_loss: 0.7732 - val_acc: 0.7514\n",
      "Epoch 3/10\n",
      "99390/99390 [==============================] - 1s 13us/step - loss: 0.6294 - acc: 0.8053 - val_loss: 0.6448 - val_acc: 0.7879\n",
      "Epoch 4/10\n",
      "99390/99390 [==============================] - 1s 13us/step - loss: 0.4987 - acc: 0.8455 - val_loss: 0.5817 - val_acc: 0.8034\n",
      "Epoch 5/10\n",
      "99390/99390 [==============================] - 1s 13us/step - loss: 0.4149 - acc: 0.8729 - val_loss: 0.5473 - val_acc: 0.8129\n",
      "Epoch 6/10\n",
      "99390/99390 [==============================] - 1s 13us/step - loss: 0.3539 - acc: 0.8931 - val_loss: 0.5277 - val_acc: 0.8214\n",
      "Epoch 7/10\n",
      "99390/99390 [==============================] - 1s 12us/step - loss: 0.3057 - acc: 0.9100 - val_loss: 0.5152 - val_acc: 0.8251\n",
      "Epoch 8/10\n",
      "99390/99390 [==============================] - 1s 12us/step - loss: 0.2664 - acc: 0.9232 - val_loss: 0.5103 - val_acc: 0.8267\n",
      "Epoch 9/10\n",
      "99390/99390 [==============================] - 1s 12us/step - loss: 0.2332 - acc: 0.9344 - val_loss: 0.5095 - val_acc: 0.8290\n",
      "Epoch 10/10\n",
      "99390/99390 [==============================] - 1s 12us/step - loss: 0.2047 - acc: 0.9446 - val_loss: 0.5142 - val_acc: 0.8267\n"
     ]
    }
   ],
   "source": [
    "history_embed_small = model_only_embed_small.fit(x=x_train_seq, y=y_train, validation_data=(x_val_seq, y_val),\n",
    "                   epochs=10, batch_size=256)"
   ]
  },
  {
   "cell_type": "code",
   "execution_count": 32,
   "metadata": {},
   "outputs": [
    {
     "name": "stdout",
     "output_type": "stream",
     "text": [
      "Train on 99390 samples, validate on 11044 samples\n",
      "Epoch 1/10\n",
      "99390/99390 [==============================] - 2s 19us/step - loss: 1.7512 - acc: 0.4910 - val_loss: 0.9560 - val_acc: 0.7106\n",
      "Epoch 2/10\n",
      "99390/99390 [==============================] - 2s 20us/step - loss: 0.7359 - acc: 0.7724 - val_loss: 0.6581 - val_acc: 0.7862\n",
      "Epoch 3/10\n",
      "99390/99390 [==============================] - 2s 20us/step - loss: 0.5055 - acc: 0.8436 - val_loss: 0.5669 - val_acc: 0.8093\n",
      "Epoch 4/10\n",
      "99390/99390 [==============================] - 2s 20us/step - loss: 0.3879 - acc: 0.8819 - val_loss: 0.5230 - val_acc: 0.8232\n",
      "Epoch 5/10\n",
      "99390/99390 [==============================] - 2s 19us/step - loss: 0.3089 - acc: 0.9092 - val_loss: 0.5037 - val_acc: 0.8281\n",
      "Epoch 6/10\n",
      "99390/99390 [==============================] - 2s 20us/step - loss: 0.2494 - acc: 0.9309 - val_loss: 0.4967 - val_acc: 0.8315\n",
      "Epoch 7/10\n",
      "99390/99390 [==============================] - 2s 19us/step - loss: 0.2034 - acc: 0.9468 - val_loss: 0.4976 - val_acc: 0.8316\n",
      "Epoch 8/10\n",
      "99390/99390 [==============================] - 2s 18us/step - loss: 0.1669 - acc: 0.9579 - val_loss: 0.5025 - val_acc: 0.8304\n",
      "Epoch 9/10\n",
      "99390/99390 [==============================] - 2s 17us/step - loss: 0.1375 - acc: 0.9678 - val_loss: 0.5113 - val_acc: 0.8295\n",
      "Epoch 10/10\n",
      "99390/99390 [==============================] - 2s 18us/step - loss: 0.1141 - acc: 0.9737 - val_loss: 0.5237 - val_acc: 0.8284\n"
     ]
    }
   ],
   "source": [
    "history_embed_medium = model_only_embed_medium.fit(x=x_train_seq, y=y_train, validation_data=(x_val_seq, y_val),\n",
    "                   epochs=10, batch_size=256)"
   ]
  },
  {
   "cell_type": "code",
   "execution_count": 33,
   "metadata": {},
   "outputs": [
    {
     "name": "stdout",
     "output_type": "stream",
     "text": [
      "Train on 99390 samples, validate on 11044 samples\n",
      "Epoch 1/10\n",
      "99390/99390 [==============================] - 3s 28us/step - loss: 1.5247 - acc: 0.5522 - val_loss: 0.7951 - val_acc: 0.7509\n",
      "Epoch 2/10\n",
      "99390/99390 [==============================] - 3s 26us/step - loss: 0.6013 - acc: 0.8127 - val_loss: 0.5804 - val_acc: 0.8089\n",
      "Epoch 3/10\n",
      "99390/99390 [==============================] - 2s 24us/step - loss: 0.4011 - acc: 0.8775 - val_loss: 0.5196 - val_acc: 0.8224\n",
      "Epoch 4/10\n",
      "99390/99390 [==============================] - 2s 24us/step - loss: 0.2907 - acc: 0.9162 - val_loss: 0.4990 - val_acc: 0.8299\n",
      "Epoch 5/10\n",
      "99390/99390 [==============================] - 2s 24us/step - loss: 0.2160 - acc: 0.9415 - val_loss: 0.4920 - val_acc: 0.8315\n",
      "Epoch 6/10\n",
      "99390/99390 [==============================] - 2s 24us/step - loss: 0.1621 - acc: 0.9595 - val_loss: 0.4974 - val_acc: 0.8365\n",
      "Epoch 7/10\n",
      "99390/99390 [==============================] - 2s 24us/step - loss: 0.1237 - acc: 0.9709 - val_loss: 0.5110 - val_acc: 0.8375\n",
      "Epoch 8/10\n",
      "99390/99390 [==============================] - 2s 24us/step - loss: 0.0966 - acc: 0.9780 - val_loss: 0.5253 - val_acc: 0.8391\n",
      "Epoch 9/10\n",
      "99390/99390 [==============================] - 2s 24us/step - loss: 0.0775 - acc: 0.9827 - val_loss: 0.5420 - val_acc: 0.8376\n",
      "Epoch 10/10\n",
      "99390/99390 [==============================] - 2s 24us/step - loss: 0.0640 - acc: 0.9854 - val_loss: 0.5639 - val_acc: 0.8368\n"
     ]
    }
   ],
   "source": [
    "history_embed_large = model_only_embed_large.fit(x=x_train_seq, y=y_train, validation_data=(x_val_seq, y_val),\n",
    "                   epochs=10, batch_size=256)"
   ]
  },
  {
   "cell_type": "code",
   "execution_count": 34,
   "metadata": {},
   "outputs": [],
   "source": [
    "import matplotlib.pyplot as plt\n",
    "\n",
    "%matplotlib inline"
   ]
  },
  {
   "cell_type": "code",
   "execution_count": 35,
   "metadata": {},
   "outputs": [],
   "source": [
    "def chart_loss(history):\n",
    "    loss = history.history['loss']\n",
    "    val_loss = history.history['val_loss']\n",
    "\n",
    "    epochs = range(1, len(loss) + 1)\n",
    "\n",
    "    plt.plot(epochs, loss, 'b+', label='Training Loss')\n",
    "    plt.plot(epochs, val_loss, 'b', label='Validation Loss')\n",
    "    plt.title('Training and validation loss')\n",
    "    plt.xlabel('Epochs')\n",
    "    plt.ylabel('Loss')\n",
    "    plt.yticks(np.arange(0,2.2, step=0.2))\n",
    "    plt.xticks(epochs)\n",
    "    plt.legend()\n",
    "    plt.show()"
   ]
  },
  {
   "cell_type": "code",
   "execution_count": 36,
   "metadata": {},
   "outputs": [],
   "source": [
    "def chart_acc(history):\n",
    "    acc = history.history['acc']\n",
    "    val_acc = history.history['val_acc']\n",
    "\n",
    "    epochs = range(1, len(acc) + 1)\n",
    "\n",
    "    plt.plot(epochs, acc, 'b+', label='Training Acc')\n",
    "    plt.plot(epochs, val_acc, 'b', label='Validation Acc')\n",
    "    plt.title('Training and validation loss')\n",
    "    plt.xlabel('Epochs')\n",
    "    plt.ylabel('Accuray')\n",
    "    plt.yticks(np.arange(0.4,1.05, step=0.05))\n",
    "    plt.xticks(epochs)\n",
    "    plt.legend()\n",
    "    plt.show()"
   ]
  },
  {
   "cell_type": "code",
   "execution_count": 37,
   "metadata": {},
   "outputs": [
    {
     "data": {
      "image/png": "[encoded data removed]",
      "text/plain": [
       "<Figure size 432x288 with 1 Axes>"
      ]
     },
     "metadata": {},
     "output_type": "display_data"
    },
    {
     "data": {
      "image/png": "[encoded data removed]",
      "text/plain": [
       "<Figure size 432x288 with 1 Axes>"
      ]
     },
     "metadata": {},
     "output_type": "display_data"
    },
    {
     "data": {
      "image/png": "[encoded data removed]",
      "text/plain": [
       "<Figure size 432x288 with 1 Axes>"
      ]
     },
     "metadata": {},
     "output_type": "display_data"
    }
   ],
   "source": [
    "chart_loss(history_embed_small)\n",
    "chart_loss(history_embed_medium)\n",
    "chart_loss(history_embed_large)"
   ]
  },
  {
   "cell_type": "markdown",
   "metadata": {},
   "source": [
    "We can see how the model with larger embedding size tend to overfit faster than the others (respectively epochs 2, 3, and 4). However, from a loss point of view all the models starts overfitting with a loss values ~ 0.8.\n",
    "Let's now analyze values for accuracy."
   ]
  },
  {
   "cell_type": "code",
   "execution_count": 38,
   "metadata": {},
   "outputs": [
    {
     "data": {
      "image/png": "[encoded data removed]",
      "text/plain": [
       "<Figure size 432x288 with 1 Axes>"
      ]
     },
     "metadata": {},
     "output_type": "display_data"
    },
    {
     "data": {
      "image/png": "[encoded data removed]",
      "text/plain": [
       "<Figure size 432x288 with 1 Axes>"
      ]
     },
     "metadata": {},
     "output_type": "display_data"
    },
    {
     "data": {
      "image/png": "[encoded data removed]",
      "text/plain": [
       "<Figure size 432x288 with 1 Axes>"
      ]
     },
     "metadata": {},
     "output_type": "display_data"
    }
   ],
   "source": [
    "chart_acc(history_embed_small)\n",
    "chart_acc(history_embed_medium)\n",
    "chart_acc(history_embed_large)"
   ]
  },
  {
   "cell_type": "code",
   "execution_count": 39,
   "metadata": {},
   "outputs": [],
   "source": [
    "def min_loss(history):\n",
    "    val_loss = history.history['val_loss'] \n",
    "    return np.argmin(val_loss) + 1 \n",
    "\n",
    "def accuracy(history, epoch):\n",
    "    val_acc = history.history['val_acc']\n",
    "    return val_acc[epoch - 1]"
   ]
  },
  {
   "cell_type": "code",
   "execution_count": 40,
   "metadata": {},
   "outputs": [
    {
     "name": "stdout",
     "output_type": "stream",
     "text": [
      "min loss for model small is 9\n",
      "min loss for model medium is 6\n",
      "min loss for model large is 5\n"
     ]
    }
   ],
   "source": [
    "print('min loss for model small is {}'.format(min_loss(history_embed_small)))\n",
    "print('min loss for model medium is {}'.format(min_loss(history_embed_medium)))\n",
    "print('min loss for model large is {}'.format(min_loss(history_embed_large)))"
   ]
  },
  {
   "cell_type": "code",
   "execution_count": 41,
   "metadata": {},
   "outputs": [
    {
     "name": "stdout",
     "output_type": "stream",
     "text": [
      "best validation accuracy for model small is 0.8290474466420913\n",
      "best validation accuracy for model medium is 0.8314922129879047\n",
      "best validation accuracy for model large is 0.8314922129447285\n"
     ]
    }
   ],
   "source": [
    "print('best validation accuracy for model small is {}'.format(\n",
    "    accuracy(history_embed_small, min_loss(history_embed_small))))\n",
    "print('best validation accuracy for model medium is {}'.format(\n",
    "    accuracy(history_embed_medium, min_loss(history_embed_medium))))\n",
    "print('best validation accuracy for model large is {}'.format(\n",
    "    accuracy(history_embed_large, min_loss(history_embed_large))))"
   ]
  },
  {
   "cell_type": "markdown",
   "metadata": {},
   "source": [
    "The results show how only using an flat classifier with an embedding layer we obtain an accuracy ~ 83%. Which is a pretty good result.\n",
    "The next steps is use an embedding layers in a Feed Forward Neural Network."
   ]
  },
  {
   "cell_type": "markdown",
   "metadata": {},
   "source": [
    "## Build the Models\n",
    "\n",
    "We take into account:\n",
    "- a base model that uses dropout\n",
    "- a embed model that adds an embedding layer"
   ]
  },
  {
   "cell_type": "code",
   "execution_count": 42,
   "metadata": {},
   "outputs": [],
   "source": [
    "def build_model_dropout(neurons):\n",
    "    model = models.Sequential()\n",
    "    model.add(layers.Dense(neurons, activation='relu', input_shape=(x_train.shape[-1], )))\n",
    "    model.add(layers.Dropout(0.5))\n",
    "    model.add(layers.Dense(neurons, activation='relu'))\n",
    "    model.add(layers.Dropout(0.5))\n",
    "    model.add(layers.Dense(neurons, activation='relu'))\n",
    "    model.add(layers.Dropout(0.5))\n",
    "    model.add(layers.Dense(len(labels_to_index), activation='softmax'))\n",
    "    \n",
    "    model.compile(optimizer=optimizers.Adam(), \n",
    "              loss='categorical_crossentropy',\n",
    "              metrics=['accuracy'])\n",
    "    return model"
   ]
  },
  {
   "cell_type": "code",
   "execution_count": 43,
   "metadata": {},
   "outputs": [],
   "source": [
    "def build_model_embeddings(neurons, embed_size):\n",
    "    model = models.Sequential()\n",
    "    model.add(layers.Embedding(input_dim=num_words, output_dim=embed_size, input_length=maxlen))\n",
    "    model.add(layers.Flatten())\n",
    "    model.add(layers.Dense(neurons, activation='relu'))\n",
    "    model.add(layers.Dropout(0.5))\n",
    "    model.add(layers.Dense(neurons, activation='relu'))\n",
    "    model.add(layers.Dropout(0.5))\n",
    "    model.add(layers.Dense(len(labels_to_index), activation='softmax'))\n",
    "    model.compile(optimizer=optimizers.Adam(), \n",
    "          loss='categorical_crossentropy',\n",
    "          metrics=['accuracy'])\n",
    "    return model"
   ]
  },
  {
   "cell_type": "code",
   "execution_count": 44,
   "metadata": {},
   "outputs": [],
   "source": [
    "model_dropout = build_model_dropout(256)"
   ]
  },
  {
   "cell_type": "code",
   "execution_count": 60,
   "metadata": {},
   "outputs": [
    {
     "name": "stdout",
     "output_type": "stream",
     "text": [
      "_________________________________________________________________\n",
      "Layer (type)                 Output Shape              Param #   \n",
      "=================================================================\n",
      "dense_1 (Dense)              (None, 256)               2560256   \n",
      "_________________________________________________________________\n",
      "dropout_1 (Dropout)          (None, 256)               0         \n",
      "_________________________________________________________________\n",
      "dense_2 (Dense)              (None, 256)               65792     \n",
      "_________________________________________________________________\n",
      "dropout_2 (Dropout)          (None, 256)               0         \n",
      "_________________________________________________________________\n",
      "dense_3 (Dense)              (None, 256)               65792     \n",
      "_________________________________________________________________\n",
      "dropout_3 (Dropout)          (None, 256)               0         \n",
      "_________________________________________________________________\n",
      "dense_4 (Dense)              (None, 20)                5140      \n",
      "=================================================================\n",
      "Total params: 2,696,980\n",
      "Trainable params: 2,696,980\n",
      "Non-trainable params: 0\n",
      "_________________________________________________________________\n"
     ]
    }
   ],
   "source": [
    "model_dropout.summary()"
   ]
  },
  {
   "cell_type": "code",
   "execution_count": 45,
   "metadata": {},
   "outputs": [
    {
     "name": "stdout",
     "output_type": "stream",
     "text": [
      "Train on 99390 samples, validate on 11044 samples\n",
      "Epoch 1/10\n",
      "99390/99390 [==============================] - 5s 48us/step - loss: 1.2842 - acc: 0.5953 - val_loss: 0.5836 - val_acc: 0.8035\n",
      "Epoch 2/10\n",
      "99390/99390 [==============================] - 4s 42us/step - loss: 0.6286 - acc: 0.7916 - val_loss: 0.4793 - val_acc: 0.8380\n",
      "Epoch 3/10\n",
      "99390/99390 [==============================] - 4s 43us/step - loss: 0.4805 - acc: 0.8378 - val_loss: 0.4513 - val_acc: 0.8425\n",
      "Epoch 4/10\n",
      "99390/99390 [==============================] - 4s 42us/step - loss: 0.4012 - acc: 0.8643 - val_loss: 0.4364 - val_acc: 0.8492\n",
      "Epoch 5/10\n",
      "99390/99390 [==============================] - 4s 42us/step - loss: 0.3457 - acc: 0.8820 - val_loss: 0.4407 - val_acc: 0.8539\n",
      "Epoch 6/10\n",
      "99390/99390 [==============================] - 4s 42us/step - loss: 0.3078 - acc: 0.8955 - val_loss: 0.4458 - val_acc: 0.8550\n",
      "Epoch 7/10\n",
      "99390/99390 [==============================] - 4s 43us/step - loss: 0.2758 - acc: 0.9065 - val_loss: 0.4442 - val_acc: 0.8549\n",
      "Epoch 8/10\n",
      "99390/99390 [==============================] - 4s 43us/step - loss: 0.2542 - acc: 0.9146 - val_loss: 0.4451 - val_acc: 0.8595\n",
      "Epoch 9/10\n",
      "99390/99390 [==============================] - 4s 42us/step - loss: 0.2277 - acc: 0.9229 - val_loss: 0.4667 - val_acc: 0.8590\n",
      "Epoch 10/10\n",
      "99390/99390 [==============================] - 4s 43us/step - loss: 0.2189 - acc: 0.9267 - val_loss: 0.4606 - val_acc: 0.8593\n"
     ]
    }
   ],
   "source": [
    "history_dropout = model_dropout.fit(x=x_train, y=y_train, validation_data=(x_val, y_val),\n",
    "                   epochs=10, batch_size=256)"
   ]
  },
  {
   "cell_type": "code",
   "execution_count": 46,
   "metadata": {},
   "outputs": [],
   "source": [
    "model_embed = build_model_embeddings(128,64)"
   ]
  },
  {
   "cell_type": "code",
   "execution_count": 47,
   "metadata": {},
   "outputs": [
    {
     "name": "stdout",
     "output_type": "stream",
     "text": [
      "Train on 99390 samples, validate on 11044 samples\n",
      "Epoch 1/10\n",
      "99390/99390 [==============================] - 3s 31us/step - loss: 1.8941 - acc: 0.4042 - val_loss: 0.8206 - val_acc: 0.7392\n",
      "Epoch 2/10\n",
      "99390/99390 [==============================] - 3s 27us/step - loss: 0.7987 - acc: 0.7431 - val_loss: 0.6196 - val_acc: 0.7916\n",
      "Epoch 3/10\n",
      "99390/99390 [==============================] - 3s 28us/step - loss: 0.5573 - acc: 0.8191 - val_loss: 0.5850 - val_acc: 0.8073\n",
      "Epoch 4/10\n",
      "99390/99390 [==============================] - 3s 26us/step - loss: 0.4240 - acc: 0.8609 - val_loss: 0.6186 - val_acc: 0.8086\n",
      "Epoch 5/10\n",
      "99390/99390 [==============================] - 3s 27us/step - loss: 0.3350 - acc: 0.8904 - val_loss: 0.6411 - val_acc: 0.8090\n",
      "Epoch 6/10\n",
      "99390/99390 [==============================] - 3s 26us/step - loss: 0.2705 - acc: 0.9128 - val_loss: 0.6871 - val_acc: 0.8097\n",
      "Epoch 7/10\n",
      "99390/99390 [==============================] - 3s 26us/step - loss: 0.2243 - acc: 0.9271 - val_loss: 0.7579 - val_acc: 0.8061\n",
      "Epoch 8/10\n",
      "99390/99390 [==============================] - 3s 26us/step - loss: 0.1903 - acc: 0.9388 - val_loss: 0.8078 - val_acc: 0.8071\n",
      "Epoch 9/10\n",
      "99390/99390 [==============================] - 3s 27us/step - loss: 0.1664 - acc: 0.9468 - val_loss: 0.8544 - val_acc: 0.8049\n",
      "Epoch 10/10\n",
      "99390/99390 [==============================] - 3s 27us/step - loss: 0.1495 - acc: 0.9515 - val_loss: 0.8965 - val_acc: 0.8061\n"
     ]
    }
   ],
   "source": [
    "history_embed = model_embed.fit(x=x_train_seq, y=y_train, validation_data=(x_val_seq, y_val),\n",
    "                   epochs=10, batch_size=256)"
   ]
  },
  {
   "cell_type": "markdown",
   "metadata": {},
   "source": [
    "### Printing The Loss"
   ]
  },
  {
   "cell_type": "code",
   "execution_count": 48,
   "metadata": {},
   "outputs": [
    {
     "data": {
      "image/png": "[encoded data removed]",
      "text/plain": [
       "<Figure size 432x288 with 1 Axes>"
      ]
     },
     "metadata": {},
     "output_type": "display_data"
    },
    {
     "data": {
      "image/png": "[encoded data removed]",
      "text/plain": [
       "<Figure size 432x288 with 1 Axes>"
      ]
     },
     "metadata": {},
     "output_type": "display_data"
    }
   ],
   "source": [
    "chart_loss(history_embed)\n",
    "chart_loss(history_dropout)"
   ]
  },
  {
   "cell_type": "markdown",
   "metadata": {},
   "source": [
    "From the charts we can see that: \n",
    "- word embedding seems to not improve the accuracy of the model. This is usual in the case you have little training data available. From another point of view it is surprising to see that the classifier with only an embedding layer perform better than the one taken into account here\n",
    "- the model with dropout perform better than the model with embeddings.\n",
    "\n",
    "From this result one could gather that embeddings are not useful. This is wrong, because we didn't consider that we changed another thing with the current represantion. The model that uses embedding takes as input sequence of ids and not a vectorize representation of subjects. \n",
    "\n",
    "In the next post we will explore the usage of LSTM to address this kind of representation. "
   ]
  },
  {
   "cell_type": "code",
   "execution_count": 49,
   "metadata": {},
   "outputs": [
    {
     "data": {
      "image/png": "[encoded data removed]",
      "text/plain": [
       "<Figure size 432x288 with 1 Axes>"
      ]
     },
     "metadata": {},
     "output_type": "display_data"
    },
    {
     "data": {
      "image/png": "[encoded data removed]",
      "text/plain": [
       "<Figure size 432x288 with 1 Axes>"
      ]
     },
     "metadata": {},
     "output_type": "display_data"
    }
   ],
   "source": [
    "chart_acc(history_embed)\n",
    "chart_acc(history_dropout)"
   ]
  },
  {
   "cell_type": "markdown",
   "metadata": {},
   "source": [
    "From the chart above we can see that the best model is the model that uses dropout, while the best epoch is the 6 where the validation accuracy crosses the training accuracy"
   ]
  },
  {
   "cell_type": "code",
   "execution_count": 50,
   "metadata": {},
   "outputs": [],
   "source": [
    "def compare_loss(histories):\n",
    "    epochs = range(1, len(list(histories.values())[0].history['val_loss']) + 1)\n",
    "\n",
    "    for i, history in histories.items():\n",
    "        val_loss = history.history['val_loss']\n",
    "        plt.plot(epochs, val_loss, label='Validation Loss {}'.format(i))\n",
    "            \n",
    "    plt.xlabel('Epochs')\n",
    "    plt.ylabel('Loss')\n",
    "    plt.legend()\n",
    "    plt.show()"
   ]
  },
  {
   "cell_type": "code",
   "execution_count": 51,
   "metadata": {},
   "outputs": [
    {
     "data": {
      "image/png": "[encoded data removed]",
      "text/plain": [
       "<Figure size 432x288 with 1 Axes>"
      ]
     },
     "metadata": {},
     "output_type": "display_data"
    }
   ],
   "source": [
    "compare_loss({'embedding': history_embed, 'Dropout': history_dropout})"
   ]
  },
  {
   "cell_type": "markdown",
   "metadata": {},
   "source": [
    "Another interesting factor is that the loss of the model that uses embeddings grows during the training. It shows that embedding trained with the model aren't useful.\n",
    "Another approach can be uses:\n",
    "- pretrained embeddings\n",
    "- remove some of the most frequent words"
   ]
  },
  {
   "cell_type": "code",
   "execution_count": 52,
   "metadata": {},
   "outputs": [],
   "source": [
    "def compare_accuracy(histories):\n",
    "    epochs = range(1, len(list(histories.values())[0].history['val_acc']) + 1)\n",
    "\n",
    "    for i, history in histories.items():\n",
    "        val_loss = history.history['val_acc']\n",
    "        plt.plot(epochs, val_loss, label='Validation Accuracy {}'.format(i))\n",
    "            \n",
    "    plt.xlabel('Epochs')\n",
    "    plt.ylabel('Accuracy')\n",
    "    plt.legend()\n",
    "    plt.show()"
   ]
  },
  {
   "cell_type": "code",
   "execution_count": 53,
   "metadata": {},
   "outputs": [
    {
     "data": {
      "image/png": "[encoded data removed]",
      "text/plain": [
       "<Figure size 432x288 with 1 Axes>"
      ]
     },
     "metadata": {},
     "output_type": "display_data"
    }
   ],
   "source": [
    "compare_accuracy({'embedding': history_embed, 'Dropout': history_dropout})"
   ]
  },
  {
   "cell_type": "code",
   "execution_count": 54,
   "metadata": {},
   "outputs": [
    {
     "name": "stdout",
     "output_type": "stream",
     "text": [
      "min loss for model Embed 3\n",
      "min loss for model Dropout is 4\n"
     ]
    }
   ],
   "source": [
    "print('min loss for model Embed {}'.format(min_loss(history_embed)))\n",
    "print('min loss for model Dropout is {}'.format(min_loss(history_dropout)))"
   ]
  },
  {
   "cell_type": "code",
   "execution_count": 55,
   "metadata": {},
   "outputs": [
    {
     "name": "stdout",
     "output_type": "stream",
     "text": [
      "best validation accuracy for model Embed 0.8073161898510735\n",
      "best validation accuracy for model Dropout 0.8492394060339025\n"
     ]
    }
   ],
   "source": [
    "print('best validation accuracy for model Embed {}'.format(\n",
    "    accuracy(history_embed, min_loss(history_embed))))\n",
    "print('best validation accuracy for model Dropout {}'.format(\n",
    "    accuracy(history_dropout, min_loss(history_dropout))))"
   ]
  },
  {
   "cell_type": "markdown",
   "metadata": {},
   "source": [
    "### Evaluate on the Test Set\n",
    "\n",
    "We still want to evaluate the models with embedding to understand if it overfits on input data."
   ]
  },
  {
   "cell_type": "code",
   "execution_count": 56,
   "metadata": {},
   "outputs": [],
   "source": [
    "model = build_model_embeddings(128,64)"
   ]
  },
  {
   "cell_type": "code",
   "execution_count": 57,
   "metadata": {},
   "outputs": [
    {
     "name": "stdout",
     "output_type": "stream",
     "text": [
      "Epoch 1/4\n",
      "110434/110434 [==============================] - 3s 29us/step - loss: 1.8434 - acc: 0.4159\n",
      "Epoch 2/4\n",
      "110434/110434 [==============================] - 3s 25us/step - loss: 0.7742 - acc: 0.7491\n",
      "Epoch 3/4\n",
      "110434/110434 [==============================] - 3s 25us/step - loss: 0.5494 - acc: 0.8206\n",
      "Epoch 4/4\n",
      "110434/110434 [==============================] - 3s 25us/step - loss: 0.4186 - acc: 0.8624\n"
     ]
    }
   ],
   "source": [
    "history = model.fit(x=np.concatenate([x_train_seq, x_val_seq]), y=np.concatenate([y_train, y_val]), epochs=4, batch_size=256)"
   ]
  },
  {
   "cell_type": "code",
   "execution_count": 58,
   "metadata": {},
   "outputs": [
    {
     "name": "stdout",
     "output_type": "stream",
     "text": [
      "27609/27609 [==============================] - 1s 31us/step\n"
     ]
    }
   ],
   "source": [
    "loss, acc = model.evaluate(x_test_seq, y_test)"
   ]
  },
  {
   "cell_type": "code",
   "execution_count": 59,
   "metadata": {},
   "outputs": [
    {
     "name": "stdout",
     "output_type": "stream",
     "text": [
      "loss 0.5977673401498903\n",
      "acc 0.8120902604136905\n"
     ]
    }
   ],
   "source": [
    "print('loss {}'.format(loss))\n",
    "print('acc {}'.format(acc))"
   ]
  },
  {
   "cell_type": "markdown",
   "metadata": {},
   "source": [
    "## Conclusion\n",
    "\n",
    "We evaluated how to use Embeddings as alternative to one-hot encoding. \n"
   ]
  }
 ],
 "metadata": {
  "kernelspec": {
   "display_name": "Python 3",
   "language": "python",
   "name": "python3"
  },
  "language_info": {
   "codemirror_mode": {
    "name": "ipython",
    "version": 3
   },
   "file_extension": ".py",
   "mimetype": "text/x-python",
   "name": "python",
   "nbconvert_exporter": "python",
   "pygments_lexer": "ipython3",
   "version": "3.6.5"
  }
 },
 "nbformat": 4,
 "nbformat_minor": 2
}
