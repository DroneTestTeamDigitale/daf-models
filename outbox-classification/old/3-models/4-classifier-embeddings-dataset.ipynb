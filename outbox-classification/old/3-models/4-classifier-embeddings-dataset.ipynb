{
 "cells": [
  {
   "cell_type": "code",
   "execution_count": 9,
   "metadata": {},
   "outputs": [],
   "source": [
    "import numpy as np\n",
    "import pandas as pd\n",
    "import pickle\n",
    "\n",
    "from keras import models\n",
    "from keras import layers\n",
    "from keras import optimizers\n",
    "from keras import losses\n",
    "from keras import activations\n",
    "from keras import metrics\n",
    "from keras import regularizers\n",
    "from keras.callbacks import *\n",
    "import math\n",
    "\n",
    "import random\n",
    "\n",
    "from dataset import atti_dirigenti\n",
    "\n",
    "# to make the experimens replicable\n",
    "random.seed(123456)"
   ]
  },
  {
   "cell_type": "markdown",
   "metadata": {},
   "source": [
    "## Load the Dataset"
   ]
  },
  {
   "cell_type": "code",
   "execution_count": 2,
   "metadata": {},
   "outputs": [],
   "source": [
    "(x_train, y_train), (x_val, y_val), (x_test, y_test) = atti_dirigenti.load_data(num_words=10000, remove_stopwords=True)"
   ]
  },
  {
   "cell_type": "code",
   "execution_count": 3,
   "metadata": {},
   "outputs": [
    {
     "data": {
      "text/plain": [
       "20"
      ]
     },
     "execution_count": 3,
     "metadata": {},
     "output_type": "execute_result"
    }
   ],
   "source": [
    "label_index = atti_dirigenti.get_labels()\n",
    "len(label_index)"
   ]
  },
  {
   "cell_type": "markdown",
   "metadata": {},
   "source": [
    "### Preparing Data\n",
    "\n",
    "- for the input data we pad the sequence to a max length in order to make uniform the sequences.\n",
    "- for the labels we continue with one-hot encoding\n"
   ]
  },
  {
   "cell_type": "code",
   "execution_count": 4,
   "metadata": {},
   "outputs": [],
   "source": [
    "from keras.preprocessing import sequence"
   ]
  },
  {
   "cell_type": "code",
   "execution_count": 5,
   "metadata": {},
   "outputs": [
    {
     "name": "stdout",
     "output_type": "stream",
     "text": [
      "max length of objects 90\n"
     ]
    }
   ],
   "source": [
    "print('max length of objects {}'.format(max(map(len, x_train))))"
   ]
  },
  {
   "cell_type": "markdown",
   "metadata": {},
   "source": [
    "#### Maximum Sequence Length\n",
    "\n",
    "for initial test we use the first 100 words"
   ]
  },
  {
   "cell_type": "code",
   "execution_count": 6,
   "metadata": {},
   "outputs": [],
   "source": [
    "maxlen = 100"
   ]
  },
  {
   "cell_type": "code",
   "execution_count": 7,
   "metadata": {},
   "outputs": [],
   "source": [
    "x_train_seq = sequence.pad_sequences(x_train, maxlen=maxlen)\n",
    "x_val_seq = sequence.pad_sequences(x_val, maxlen=maxlen)\n",
    "x_test_seq = sequence.pad_sequences(x_test, maxlen=maxlen)"
   ]
  },
  {
   "cell_type": "code",
   "execution_count": 8,
   "metadata": {
    "scrolled": false
   },
   "outputs": [
    {
     "data": {
      "text/plain": [
       "(99390, 100)"
      ]
     },
     "execution_count": 8,
     "metadata": {},
     "output_type": "execute_result"
    }
   ],
   "source": [
    "x_train_seq.shape"
   ]
  },
  {
   "cell_type": "markdown",
   "metadata": {},
   "source": [
    "One-hot encoding for input"
   ]
  },
  {
   "cell_type": "code",
   "execution_count": 9,
   "metadata": {},
   "outputs": [],
   "source": [
    "def vectorize_sequences(sequences, dimension=10000):\n",
    "    data = np.zeros((len(sequences), dimension), dtype=np.float32)\n",
    "    for i, sequence in enumerate(sequences):\n",
    "        data[i,sequence] = 1.\n",
    "    return data"
   ]
  },
  {
   "cell_type": "code",
   "execution_count": 10,
   "metadata": {},
   "outputs": [],
   "source": [
    "dimension = 11000"
   ]
  },
  {
   "cell_type": "code",
   "execution_count": 11,
   "metadata": {},
   "outputs": [],
   "source": [
    "x_train_vect = vectorize_sequences(x_train, dimension)\n",
    "x_val_vect = vectorize_sequences(x_val, dimension)\n",
    "x_test_vect = vectorize_sequences(x_test, dimension)"
   ]
  },
  {
   "cell_type": "markdown",
   "metadata": {},
   "source": [
    "One hot encoding for the labels"
   ]
  },
  {
   "cell_type": "code",
   "execution_count": 12,
   "metadata": {},
   "outputs": [],
   "source": [
    "def to_one_hot(labels):\n",
    "    results = np.zeros((len(labels), len(set(labels))), dtype=np.float32)\n",
    "    for i, label in enumerate(labels):\n",
    "        results[i, label] = 1.\n",
    "    return results"
   ]
  },
  {
   "cell_type": "code",
   "execution_count": 13,
   "metadata": {},
   "outputs": [],
   "source": [
    "y_train_vect = to_one_hot(y_train)\n",
    "y_val_vect = to_one_hot(y_val)\n",
    "y_test_vect = to_one_hot(y_test)"
   ]
  },
  {
   "cell_type": "code",
   "execution_count": 14,
   "metadata": {},
   "outputs": [
    {
     "data": {
      "text/plain": [
       "array([[ 0.,  0.,  0., ...,  0.,  0.,  1.],\n",
       "       [ 0.,  0.,  0., ...,  0.,  0.,  0.],\n",
       "       [ 0.,  0.,  0., ...,  0.,  0.,  1.],\n",
       "       ..., \n",
       "       [ 0.,  0.,  0., ...,  1.,  0.,  0.],\n",
       "       [ 0.,  0.,  0., ...,  0.,  0.,  0.],\n",
       "       [ 0.,  0.,  0., ...,  0.,  0.,  0.]], dtype=float32)"
      ]
     },
     "execution_count": 14,
     "metadata": {},
     "output_type": "execute_result"
    }
   ],
   "source": [
    "y_train_vect"
   ]
  },
  {
   "cell_type": "markdown",
   "metadata": {},
   "source": [
    "## The Effects of Word Embeddings\n",
    "\n",
    "Before using a word embedding as a layer in our network let evaluate the effect of embeddings by training a simple classifier that has it as only layer."
   ]
  },
  {
   "cell_type": "code",
   "execution_count": 15,
   "metadata": {},
   "outputs": [],
   "source": [
    "def build_model_only_embeddings(embed_size):\n",
    "    model = models.Sequential()\n",
    "    model.add(layers.Embedding(input_dim=dimension, output_dim=embed_size, input_length=maxlen, name='embed'))\n",
    "    model.add(layers.Flatten())\n",
    "    model.add(layers.Dense(len(label_index), activation='softmax', name='softmax'))\n",
    "    model.compile(optimizer=optimizers.Adam(), \n",
    "          loss='categorical_crossentropy',\n",
    "          metrics=['accuracy'])\n",
    "    return model"
   ]
  },
  {
   "cell_type": "code",
   "execution_count": 17,
   "metadata": {},
   "outputs": [
    {
     "name": "stdout",
     "output_type": "stream",
     "text": [
      "Train on 99390 samples, validate on 11044 samples\n",
      "Epoch 1/10\n",
      "99390/99390 [==============================] - 2s 19us/step - loss: 2.0928 - acc: 0.3909 - val_loss: 1.3289 - val_acc: 0.6081\n",
      "Epoch 2/10\n",
      "99390/99390 [==============================] - 1s 14us/step - loss: 1.0157 - acc: 0.6947 - val_loss: 0.8607 - val_acc: 0.7327\n",
      "Epoch 3/10\n",
      "99390/99390 [==============================] - 1s 14us/step - loss: 0.6947 - acc: 0.7856 - val_loss: 0.7011 - val_acc: 0.7704\n",
      "Epoch 4/10\n",
      "99390/99390 [==============================] - 1s 14us/step - loss: 0.5462 - acc: 0.8315 - val_loss: 0.6275 - val_acc: 0.7926\n",
      "Epoch 5/10\n",
      "99390/99390 [==============================] - 1s 14us/step - loss: 0.4543 - acc: 0.8606 - val_loss: 0.5880 - val_acc: 0.8023\n",
      "Epoch 6/10\n",
      "99390/99390 [==============================] - 1s 14us/step - loss: 0.3884 - acc: 0.8831 - val_loss: 0.5641 - val_acc: 0.8076\n",
      "Epoch 7/10\n",
      "99390/99390 [==============================] - 1s 14us/step - loss: 0.3367 - acc: 0.9001 - val_loss: 0.5524 - val_acc: 0.8119\n",
      "Epoch 8/10\n",
      "99390/99390 [==============================] - 1s 14us/step - loss: 0.2943 - acc: 0.9152 - val_loss: 0.5439 - val_acc: 0.8142\n",
      "Epoch 9/10\n",
      "99390/99390 [==============================] - 1s 14us/step - loss: 0.2589 - acc: 0.9273 - val_loss: 0.5446 - val_acc: 0.8166\n",
      "Epoch 10/10\n",
      "99390/99390 [==============================] - 1s 14us/step - loss: 0.2283 - acc: 0.9375 - val_loss: 0.5454 - val_acc: 0.8185\n"
     ]
    }
   ],
   "source": [
    "model_only_embed_small = build_model_only_embeddings(32)\n",
    "history_embed_small = model_only_embed_small.fit(x=x_train_seq, y=y_train_vect, validation_data=(x_val_seq, y_val_vect),\n",
    "                   epochs=10, batch_size=256)"
   ]
  },
  {
   "cell_type": "code",
   "execution_count": 19,
   "metadata": {},
   "outputs": [
    {
     "name": "stdout",
     "output_type": "stream",
     "text": [
      "Train on 99390 samples, validate on 11044 samples\n",
      "Epoch 1/10\n",
      "99390/99390 [==============================] - 2s 22us/step - loss: 1.8865 - acc: 0.4446 - val_loss: 1.0983 - val_acc: 0.6665\n",
      "Epoch 2/10\n",
      "99390/99390 [==============================] - 2s 20us/step - loss: 0.8228 - acc: 0.7487 - val_loss: 0.7280 - val_acc: 0.7680\n",
      "Epoch 3/10\n",
      "99390/99390 [==============================] - 2s 21us/step - loss: 0.5557 - acc: 0.8285 - val_loss: 0.6163 - val_acc: 0.7945\n",
      "Epoch 4/10\n",
      "99390/99390 [==============================] - 2s 20us/step - loss: 0.4264 - acc: 0.8708 - val_loss: 0.5681 - val_acc: 0.8097\n",
      "Epoch 5/10\n",
      "99390/99390 [==============================] - 2s 20us/step - loss: 0.3419 - acc: 0.8990 - val_loss: 0.5445 - val_acc: 0.8184\n",
      "Epoch 6/10\n",
      "99390/99390 [==============================] - 2s 21us/step - loss: 0.2778 - acc: 0.9221 - val_loss: 0.5359 - val_acc: 0.8216\n",
      "Epoch 7/10\n",
      "99390/99390 [==============================] - 2s 21us/step - loss: 0.2276 - acc: 0.9393 - val_loss: 0.5377 - val_acc: 0.8230\n",
      "Epoch 8/10\n",
      "99390/99390 [==============================] - 2s 21us/step - loss: 0.1876 - acc: 0.9530 - val_loss: 0.5391 - val_acc: 0.8276\n",
      "Epoch 9/10\n",
      "99390/99390 [==============================] - 2s 21us/step - loss: 0.1554 - acc: 0.9633 - val_loss: 0.5489 - val_acc: 0.8252\n",
      "Epoch 10/10\n",
      "99390/99390 [==============================] - 2s 20us/step - loss: 0.1299 - acc: 0.9704 - val_loss: 0.5633 - val_acc: 0.8231\n"
     ]
    }
   ],
   "source": [
    "model_only_embed_medium = build_model_only_embeddings(64)\n",
    "history_embed_medium = model_only_embed_medium.fit(x=x_train_seq, y=y_train_vect, validation_data=(x_val_seq, y_val_vect),\n",
    "                   epochs=10, batch_size=256)"
   ]
  },
  {
   "cell_type": "code",
   "execution_count": 21,
   "metadata": {},
   "outputs": [
    {
     "name": "stdout",
     "output_type": "stream",
     "text": [
      "Train on 99390 samples, validate on 11044 samples\n",
      "Epoch 1/10\n",
      "99390/99390 [==============================] - 3s 33us/step - loss: 1.6683 - acc: 0.5072 - val_loss: 0.9012 - val_acc: 0.7189\n",
      "Epoch 2/10\n",
      "99390/99390 [==============================] - 3s 32us/step - loss: 0.6661 - acc: 0.7932 - val_loss: 0.6347 - val_acc: 0.7925\n",
      "Epoch 3/10\n",
      "99390/99390 [==============================] - 3s 32us/step - loss: 0.4411 - acc: 0.8653 - val_loss: 0.5589 - val_acc: 0.8123\n",
      "Epoch 4/10\n",
      "99390/99390 [==============================] - 3s 32us/step - loss: 0.3224 - acc: 0.9053 - val_loss: 0.5374 - val_acc: 0.8194\n",
      "Epoch 5/10\n",
      "99390/99390 [==============================] - 3s 32us/step - loss: 0.2411 - acc: 0.9343 - val_loss: 0.5335 - val_acc: 0.8213\n",
      "Epoch 6/10\n",
      "99390/99390 [==============================] - 3s 32us/step - loss: 0.1824 - acc: 0.9546 - val_loss: 0.5374 - val_acc: 0.8230\n",
      "Epoch 7/10\n",
      "99390/99390 [==============================] - 3s 32us/step - loss: 0.1393 - acc: 0.9677 - val_loss: 0.5504 - val_acc: 0.8220\n",
      "Epoch 8/10\n",
      "99390/99390 [==============================] - 3s 32us/step - loss: 0.1090 - acc: 0.9757 - val_loss: 0.5674 - val_acc: 0.8190\n",
      "Epoch 9/10\n",
      "99390/99390 [==============================] - 3s 31us/step - loss: 0.0871 - acc: 0.9810 - val_loss: 0.5871 - val_acc: 0.8206\n",
      "Epoch 10/10\n",
      "99390/99390 [==============================] - 3s 32us/step - loss: 0.0712 - acc: 0.9842 - val_loss: 0.6074 - val_acc: 0.8196\n"
     ]
    }
   ],
   "source": [
    "model_only_embed_large = build_model_only_embeddings(128)\n",
    "history_embed_large = model_only_embed_large.fit(x=x_train_seq, y=y_train_vect, validation_data=(x_val_seq, y_val_vect),\n",
    "                   epochs=10, batch_size=256)"
   ]
  },
  {
   "cell_type": "code",
   "execution_count": 22,
   "metadata": {},
   "outputs": [],
   "source": [
    "import matplotlib.pyplot as plt\n",
    "\n",
    "%matplotlib inline"
   ]
  },
  {
   "cell_type": "code",
   "execution_count": 23,
   "metadata": {},
   "outputs": [],
   "source": [
    "def chart_loss(history):\n",
    "    loss = history.history['loss']\n",
    "    val_loss = history.history['val_loss']\n",
    "\n",
    "    epochs = range(1, len(loss) + 1)\n",
    "\n",
    "    plt.plot(epochs, loss, 'b+', label='Training Loss')\n",
    "    plt.plot(epochs, val_loss, 'b', label='Validation Loss')\n",
    "    plt.title('Training and validation loss')\n",
    "    plt.xlabel('Epochs')\n",
    "    plt.ylabel('Loss')\n",
    "    plt.yticks(np.arange(0,2.2, step=0.2))\n",
    "    plt.xticks(epochs)\n",
    "    plt.legend()\n",
    "    plt.show()"
   ]
  },
  {
   "cell_type": "code",
   "execution_count": 24,
   "metadata": {},
   "outputs": [],
   "source": [
    "def chart_acc(history):\n",
    "    acc = history.history['acc']\n",
    "    val_acc = history.history['val_acc']\n",
    "\n",
    "    epochs = range(1, len(acc) + 1)\n",
    "\n",
    "    plt.plot(epochs, acc, 'b+', label='Training Acc')\n",
    "    plt.plot(epochs, val_acc, 'b', label='Validation Acc')\n",
    "    plt.title('Training and validation loss')\n",
    "    plt.xlabel('Epochs')\n",
    "    plt.ylabel('Accuray')\n",
    "    plt.yticks(np.arange(0.4,1.05, step=0.05))\n",
    "    plt.xticks(epochs)\n",
    "    plt.legend()\n",
    "    plt.show()"
   ]
  },
  {
   "cell_type": "code",
   "execution_count": 25,
   "metadata": {},
   "outputs": [
    {
     "data": {
      "image/png": "[encoded data removed]",
      "text/plain": [
       "<Figure size 432x288 with 1 Axes>"
      ]
     },
     "metadata": {},
     "output_type": "display_data"
    },
    {
     "data": {
      "image/png": "[encoded data removed]",
      "text/plain": [
       "<Figure size 432x288 with 1 Axes>"
      ]
     },
     "metadata": {},
     "output_type": "display_data"
    },
    {
     "data": {
      "image/png": "[encoded data removed]",
      "text/plain": [
       "<Figure size 432x288 with 1 Axes>"
      ]
     },
     "metadata": {},
     "output_type": "display_data"
    }
   ],
   "source": [
    "chart_loss(history_embed_small)\n",
    "chart_loss(history_embed_medium)\n",
    "chart_loss(history_embed_large)"
   ]
  },
  {
   "cell_type": "markdown",
   "metadata": {},
   "source": [
    "We can see how the model with larger embedding size tend to overfit faster than the others (respectively epochs 2, 3, and 4). However, from a loss point of view all the models starts overfitting with a loss values ~ 0.8.\n",
    "Let's now analyze values for accuracy."
   ]
  },
  {
   "cell_type": "code",
   "execution_count": 26,
   "metadata": {},
   "outputs": [
    {
     "data": {
      "image/png": "[encoded data removed]",
      "text/plain": [
       "<Figure size 432x288 with 1 Axes>"
      ]
     },
     "metadata": {},
     "output_type": "display_data"
    },
    {
     "data": {
      "image/png": "[encoded data removed]",
      "text/plain": [
       "<Figure size 432x288 with 1 Axes>"
      ]
     },
     "metadata": {},
     "output_type": "display_data"
    },
    {
     "data": {
      "image/png": "[encoded data removed]",
      "text/plain": [
       "<Figure size 432x288 with 1 Axes>"
      ]
     },
     "metadata": {},
     "output_type": "display_data"
    }
   ],
   "source": [
    "chart_acc(history_embed_small)\n",
    "chart_acc(history_embed_medium)\n",
    "chart_acc(history_embed_large)"
   ]
  },
  {
   "cell_type": "code",
   "execution_count": 27,
   "metadata": {},
   "outputs": [],
   "source": [
    "def min_loss(history):\n",
    "    val_loss = history.history['val_loss'] \n",
    "    return np.argmin(val_loss) + 1 \n",
    "\n",
    "def accuracy(history, epoch):\n",
    "    val_acc = history.history['val_acc']\n",
    "    return val_acc[epoch - 1]"
   ]
  },
  {
   "cell_type": "code",
   "execution_count": 28,
   "metadata": {},
   "outputs": [
    {
     "name": "stdout",
     "output_type": "stream",
     "text": [
      "min loss for model small is 8\n",
      "min loss for model medium is 6\n",
      "min loss for model large is 5\n"
     ]
    }
   ],
   "source": [
    "print('min loss for model small is {}'.format(min_loss(history_embed_small)))\n",
    "print('min loss for model medium is {}'.format(min_loss(history_embed_medium)))\n",
    "print('min loss for model large is {}'.format(min_loss(history_embed_large)))"
   ]
  },
  {
   "cell_type": "code",
   "execution_count": 29,
   "metadata": {},
   "outputs": [
    {
     "name": "stdout",
     "output_type": "stream",
     "text": [
      "best validation accuracy for model small is 0.8141977543936222\n",
      "best validation accuracy for model medium is 0.8216226005070627\n",
      "best validation accuracy for model large is 0.8212604129370552\n"
     ]
    }
   ],
   "source": [
    "print('best validation accuracy for model small is {}'.format(\n",
    "    accuracy(history_embed_small, min_loss(history_embed_small))))\n",
    "print('best validation accuracy for model medium is {}'.format(\n",
    "    accuracy(history_embed_medium, min_loss(history_embed_medium))))\n",
    "print('best validation accuracy for model large is {}'.format(\n",
    "    accuracy(history_embed_large, min_loss(history_embed_large))))"
   ]
  },
  {
   "cell_type": "markdown",
   "metadata": {},
   "source": [
    "The results show how only using an flat classifier with an embedding layer we obtain an accuracy 0.82. Which is a pretty good result.\n",
    "The next steps is use an embedding layers in a Feed Forward Neural Network."
   ]
  },
  {
   "cell_type": "markdown",
   "metadata": {},
   "source": [
    "## Build the Models\n",
    "\n",
    "We take into account:\n",
    "- a base model that uses dropout\n",
    "- a embed model that adds an embedding layer"
   ]
  },
  {
   "cell_type": "code",
   "execution_count": 33,
   "metadata": {},
   "outputs": [],
   "source": [
    "def build_model_dropout(neurons):\n",
    "    model = models.Sequential()\n",
    "    model.add(layers.Dense(neurons, activation='relu', input_shape=(x_train_vect.shape[-1], )))\n",
    "    model.add(layers.Dropout(0.5))\n",
    "    model.add(layers.Dense(neurons, activation='relu'))\n",
    "    model.add(layers.Dropout(0.5))\n",
    "    model.add(layers.Dense(neurons, activation='relu'))\n",
    "    model.add(layers.Dropout(0.5))\n",
    "    model.add(layers.Dense(len(label_index), activation='softmax'))\n",
    "    \n",
    "    model.compile(optimizer=optimizers.Adam(), \n",
    "              loss='categorical_crossentropy',\n",
    "              metrics=['accuracy'])\n",
    "    return model"
   ]
  },
  {
   "cell_type": "code",
   "execution_count": 43,
   "metadata": {},
   "outputs": [],
   "source": [
    "def build_model_embeddings(neurons, embed_size):\n",
    "    model = models.Sequential()\n",
    "    model.add(layers.Embedding(input_dim=dimension, output_dim=embed_size, input_length=maxlen))\n",
    "    model.add(layers.Flatten())\n",
    "    model.add(layers.Dense(neurons, activation='relu'))\n",
    "    model.add(layers.Dropout(0.5))\n",
    "    model.add(layers.Dense(neurons, activation='relu'))\n",
    "    model.add(layers.Dropout(0.5))\n",
    "    model.add(layers.Dense(len(label_index), activation='softmax'))\n",
    "    model.compile(optimizer=optimizers.Adam(), \n",
    "          loss='categorical_crossentropy',\n",
    "          metrics=['accuracy'])\n",
    "    return model"
   ]
  },
  {
   "cell_type": "code",
   "execution_count": 35,
   "metadata": {},
   "outputs": [],
   "source": [
    "model_dropout = build_model_dropout(256)"
   ]
  },
  {
   "cell_type": "code",
   "execution_count": 36,
   "metadata": {},
   "outputs": [
    {
     "name": "stdout",
     "output_type": "stream",
     "text": [
      "_________________________________________________________________\n",
      "Layer (type)                 Output Shape              Param #   \n",
      "=================================================================\n",
      "dense_4 (Dense)              (None, 256)               2816256   \n",
      "_________________________________________________________________\n",
      "dropout_4 (Dropout)          (None, 256)               0         \n",
      "_________________________________________________________________\n",
      "dense_5 (Dense)              (None, 256)               65792     \n",
      "_________________________________________________________________\n",
      "dropout_5 (Dropout)          (None, 256)               0         \n",
      "_________________________________________________________________\n",
      "dense_6 (Dense)              (None, 256)               65792     \n",
      "_________________________________________________________________\n",
      "dropout_6 (Dropout)          (None, 256)               0         \n",
      "_________________________________________________________________\n",
      "dense_7 (Dense)              (None, 20)                5140      \n",
      "=================================================================\n",
      "Total params: 2,952,980\n",
      "Trainable params: 2,952,980\n",
      "Non-trainable params: 0\n",
      "_________________________________________________________________\n"
     ]
    }
   ],
   "source": [
    "model_dropout.summary()"
   ]
  },
  {
   "cell_type": "code",
   "execution_count": 39,
   "metadata": {},
   "outputs": [
    {
     "name": "stdout",
     "output_type": "stream",
     "text": [
      "Train on 99390 samples, validate on 11044 samples\n",
      "Epoch 1/10\n",
      "99390/99390 [==============================] - 6s 64us/step - loss: 1.2931 - acc: 0.5899 - val_loss: 0.6153 - val_acc: 0.7910\n",
      "Epoch 2/10\n",
      "99390/99390 [==============================] - 6s 57us/step - loss: 0.6279 - acc: 0.7895 - val_loss: 0.5228 - val_acc: 0.8201\n",
      "Epoch 3/10\n",
      "99390/99390 [==============================] - 6s 57us/step - loss: 0.4896 - acc: 0.8357 - val_loss: 0.5046 - val_acc: 0.8260\n",
      "Epoch 4/10\n",
      "99390/99390 [==============================] - 6s 56us/step - loss: 0.4077 - acc: 0.8615 - val_loss: 0.4873 - val_acc: 0.8355\n",
      "Epoch 5/10\n",
      "99390/99390 [==============================] - 6s 56us/step - loss: 0.3526 - acc: 0.8797 - val_loss: 0.4926 - val_acc: 0.8368\n",
      "Epoch 6/10\n",
      "99390/99390 [==============================] - 6s 56us/step - loss: 0.3145 - acc: 0.8938 - val_loss: 0.4912 - val_acc: 0.8415\n",
      "Epoch 7/10\n",
      "99390/99390 [==============================] - 6s 56us/step - loss: 0.2830 - acc: 0.9038 - val_loss: 0.4977 - val_acc: 0.8436\n",
      "Epoch 8/10\n",
      "99390/99390 [==============================] - 6s 56us/step - loss: 0.2594 - acc: 0.9123 - val_loss: 0.5100 - val_acc: 0.8447\n",
      "Epoch 9/10\n",
      "99390/99390 [==============================] - 6s 57us/step - loss: 0.2376 - acc: 0.9197 - val_loss: 0.5182 - val_acc: 0.8481\n",
      "Epoch 10/10\n",
      "99390/99390 [==============================] - 6s 56us/step - loss: 0.2217 - acc: 0.9251 - val_loss: 0.5267 - val_acc: 0.8450\n"
     ]
    }
   ],
   "source": [
    "history_dropout = model_dropout.fit(x=x_train_vect, y=y_train_vect, validation_data=(x_val_vect, y_val_vect),\n",
    "                   epochs=10, batch_size=256)"
   ]
  },
  {
   "cell_type": "code",
   "execution_count": 55,
   "metadata": {},
   "outputs": [],
   "source": [
    "model_embed = build_model_embeddings(256,128)"
   ]
  },
  {
   "cell_type": "code",
   "execution_count": 56,
   "metadata": {},
   "outputs": [
    {
     "name": "stdout",
     "output_type": "stream",
     "text": [
      "_________________________________________________________________\n",
      "Layer (type)                 Output Shape              Param #   \n",
      "=================================================================\n",
      "embedding_7 (Embedding)      (None, 100, 128)          1408000   \n",
      "_________________________________________________________________\n",
      "flatten_11 (Flatten)         (None, 12800)             0         \n",
      "_________________________________________________________________\n",
      "dense_25 (Dense)             (None, 256)               3277056   \n",
      "_________________________________________________________________\n",
      "dropout_19 (Dropout)         (None, 256)               0         \n",
      "_________________________________________________________________\n",
      "dense_26 (Dense)             (None, 256)               65792     \n",
      "_________________________________________________________________\n",
      "dropout_20 (Dropout)         (None, 256)               0         \n",
      "_________________________________________________________________\n",
      "dense_27 (Dense)             (None, 20)                5140      \n",
      "=================================================================\n",
      "Total params: 4,755,988\n",
      "Trainable params: 4,755,988\n",
      "Non-trainable params: 0\n",
      "_________________________________________________________________\n"
     ]
    }
   ],
   "source": [
    "model_embed.summary()"
   ]
  },
  {
   "cell_type": "code",
   "execution_count": 57,
   "metadata": {},
   "outputs": [
    {
     "name": "stdout",
     "output_type": "stream",
     "text": [
      "Train on 99390 samples, validate on 11044 samples\n",
      "Epoch 1/10\n",
      "99390/99390 [==============================] - 8s 80us/step - loss: 1.6667 - acc: 0.4706 - val_loss: 0.7274 - val_acc: 0.7548\n",
      "Epoch 2/10\n",
      "99390/99390 [==============================] - 7s 73us/step - loss: 0.6187 - acc: 0.7939 - val_loss: 0.5998 - val_acc: 0.7949\n",
      "Epoch 3/10\n",
      "99390/99390 [==============================] - 7s 73us/step - loss: 0.3898 - acc: 0.8688 - val_loss: 0.6054 - val_acc: 0.8035\n",
      "Epoch 4/10\n",
      "99390/99390 [==============================] - 7s 73us/step - loss: 0.2622 - acc: 0.9125 - val_loss: 0.6835 - val_acc: 0.8029\n",
      "Epoch 5/10\n",
      "99390/99390 [==============================] - 7s 73us/step - loss: 0.1869 - acc: 0.9388 - val_loss: 0.7500 - val_acc: 0.8049\n",
      "Epoch 6/10\n",
      "99390/99390 [==============================] - 7s 73us/step - loss: 0.1466 - acc: 0.9531 - val_loss: 0.8168 - val_acc: 0.8009\n",
      "Epoch 7/10\n",
      "99390/99390 [==============================] - 7s 73us/step - loss: 0.1252 - acc: 0.9601 - val_loss: 0.9407 - val_acc: 0.7962\n",
      "Epoch 8/10\n",
      "99390/99390 [==============================] - 7s 73us/step - loss: 0.1071 - acc: 0.9658 - val_loss: 0.9847 - val_acc: 0.7967\n",
      "Epoch 9/10\n",
      "99390/99390 [==============================] - 7s 73us/step - loss: 0.0928 - acc: 0.9702 - val_loss: 1.0339 - val_acc: 0.7933\n",
      "Epoch 10/10\n",
      "99390/99390 [==============================] - 7s 74us/step - loss: 0.0862 - acc: 0.9722 - val_loss: 1.0752 - val_acc: 0.7926\n"
     ]
    }
   ],
   "source": [
    "history_embed = model_embed.fit(x=x_train_seq, y=y_train_vect, validation_data=(x_val_seq, y_val_vect),\n",
    "                   epochs=10, batch_size=256)"
   ]
  },
  {
   "cell_type": "markdown",
   "metadata": {},
   "source": [
    "### Printing The Loss"
   ]
  },
  {
   "cell_type": "code",
   "execution_count": 59,
   "metadata": {},
   "outputs": [
    {
     "data": {
      "image/png": "[encoded data removed]",
      "text/plain": [
       "<Figure size 432x288 with 1 Axes>"
      ]
     },
     "metadata": {},
     "output_type": "display_data"
    },
    {
     "data": {
      "image/png": "[encoded data removed]",
      "text/plain": [
       "<Figure size 432x288 with 1 Axes>"
      ]
     },
     "metadata": {},
     "output_type": "display_data"
    }
   ],
   "source": [
    "chart_loss(history_dropout)\n",
    "chart_loss(history_embed)"
   ]
  },
  {
   "cell_type": "markdown",
   "metadata": {},
   "source": [
    "From the charts we can see that: \n",
    "- word embedding seems to not improve the accuracy of the model. This is usual in the case you have little training data available. From another point of view it is surprising to see that the classifier with only an embedding layer perform better than the one taken into account here\n",
    "- the model with dropout perform better than the model with embeddings.\n",
    "\n",
    "From this result one could gather that embeddings are not useful. This is wrong, because we didn't consider that we changed another thing with the current represantion. The model that uses embedding takes as input sequence of ids and not a vectorize representation of subjects. \n",
    "\n",
    "In the next post we will explore the usage of LSTM to address this kind of representation. "
   ]
  },
  {
   "cell_type": "code",
   "execution_count": 60,
   "metadata": {},
   "outputs": [
    {
     "data": {
      "image/png": "[encoded data removed]",
      "text/plain": [
       "<Figure size 432x288 with 1 Axes>"
      ]
     },
     "metadata": {},
     "output_type": "display_data"
    },
    {
     "data": {
      "image/png": "[encoded data removed]",
      "text/plain": [
       "<Figure size 432x288 with 1 Axes>"
      ]
     },
     "metadata": {},
     "output_type": "display_data"
    }
   ],
   "source": [
    "chart_acc(history_embed)\n",
    "chart_acc(history_dropout)"
   ]
  },
  {
   "cell_type": "markdown",
   "metadata": {},
   "source": [
    "From the chart above we can see that the best model is the model that uses dropout, while the best epoch is the 6 where the validation accuracy crosses the training accuracy"
   ]
  },
  {
   "cell_type": "code",
   "execution_count": 61,
   "metadata": {},
   "outputs": [],
   "source": [
    "def compare_loss(histories):\n",
    "    epochs = range(1, len(list(histories.values())[0].history['val_loss']) + 1)\n",
    "\n",
    "    for i, history in histories.items():\n",
    "        val_loss = history.history['val_loss']\n",
    "        plt.plot(epochs, val_loss, label='Validation Loss {}'.format(i))\n",
    "            \n",
    "    plt.xlabel('Epochs')\n",
    "    plt.ylabel('Loss')\n",
    "    plt.legend()\n",
    "    plt.show()"
   ]
  },
  {
   "cell_type": "code",
   "execution_count": 62,
   "metadata": {},
   "outputs": [
    {
     "data": {
      "image/png": "[encoded data removed]",
      "text/plain": [
       "<Figure size 432x288 with 1 Axes>"
      ]
     },
     "metadata": {},
     "output_type": "display_data"
    }
   ],
   "source": [
    "compare_loss({'embedding': history_embed, 'Dropout': history_dropout})"
   ]
  },
  {
   "cell_type": "markdown",
   "metadata": {},
   "source": [
    "Another interesting factor is that the loss of the model that uses embeddings grows during the training. It shows that embedding trained with the model aren't useful.\n",
    "Another approach can be uses:\n",
    "- pretrained embeddings\n",
    "- remove some of the most frequent words"
   ]
  },
  {
   "cell_type": "code",
   "execution_count": 63,
   "metadata": {},
   "outputs": [],
   "source": [
    "def compare_accuracy(histories):\n",
    "    epochs = range(1, len(list(histories.values())[0].history['val_acc']) + 1)\n",
    "\n",
    "    for i, history in histories.items():\n",
    "        val_loss = history.history['val_acc']\n",
    "        plt.plot(epochs, val_loss, label='Validation Accuracy {}'.format(i))\n",
    "            \n",
    "    plt.xlabel('Epochs')\n",
    "    plt.ylabel('Accuracy')\n",
    "    plt.legend()\n",
    "    plt.show()"
   ]
  },
  {
   "cell_type": "code",
   "execution_count": 64,
   "metadata": {},
   "outputs": [
    {
     "data": {
      "image/png": "[encoded data removed]",
      "text/plain": [
       "<Figure size 432x288 with 1 Axes>"
      ]
     },
     "metadata": {},
     "output_type": "display_data"
    }
   ],
   "source": [
    "compare_accuracy({'embedding': history_embed, 'Dropout': history_dropout})"
   ]
  },
  {
   "cell_type": "code",
   "execution_count": 65,
   "metadata": {},
   "outputs": [
    {
     "name": "stdout",
     "output_type": "stream",
     "text": [
      "min loss for model Embed 2\n",
      "min loss for model Dropout is 4\n"
     ]
    }
   ],
   "source": [
    "print('min loss for model Embed {}'.format(min_loss(history_embed)))\n",
    "print('min loss for model Dropout is {}'.format(min_loss(history_dropout)))"
   ]
  },
  {
   "cell_type": "code",
   "execution_count": 66,
   "metadata": {},
   "outputs": [
    {
     "name": "stdout",
     "output_type": "stream",
     "text": [
      "best validation accuracy for model Embed 0.7949112639915938\n",
      "best validation accuracy for model Dropout 0.8354762766681604\n"
     ]
    }
   ],
   "source": [
    "print('best validation accuracy for model Embed {}'.format(\n",
    "    accuracy(history_embed, min_loss(history_embed))))\n",
    "print('best validation accuracy for model Dropout {}'.format(\n",
    "    accuracy(history_dropout, min_loss(history_dropout))))"
   ]
  },
  {
   "cell_type": "markdown",
   "metadata": {},
   "source": [
    "### Evaluate on the Test Set\n",
    "\n",
    "We still want to evaluate the models with embedding to understand if it overfits on input data."
   ]
  },
  {
   "cell_type": "code",
   "execution_count": 69,
   "metadata": {},
   "outputs": [],
   "source": [
    "model = build_model_embeddings(256,128)"
   ]
  },
  {
   "cell_type": "code",
   "execution_count": 70,
   "metadata": {},
   "outputs": [
    {
     "name": "stdout",
     "output_type": "stream",
     "text": [
      "Epoch 1/4\n",
      "110434/110434 [==============================] - 8s 76us/step - loss: 1.5704 - acc: 0.4975\n",
      "Epoch 2/4\n",
      "110434/110434 [==============================] - 8s 71us/step - loss: 0.5921 - acc: 0.8044\n",
      "Epoch 3/4\n",
      "110434/110434 [==============================] - 8s 71us/step - loss: 0.3788 - acc: 0.8738\n",
      "Epoch 4/4\n",
      "110434/110434 [==============================] - 8s 71us/step - loss: 0.2601 - acc: 0.9127\n"
     ]
    }
   ],
   "source": [
    "history = model.fit(x=np.concatenate([x_train_seq, x_val_seq]), y=np.concatenate([y_train_vect, y_val_vect]), epochs=4, batch_size=256)"
   ]
  },
  {
   "cell_type": "code",
   "execution_count": 72,
   "metadata": {},
   "outputs": [
    {
     "name": "stdout",
     "output_type": "stream",
     "text": [
      "27609/27609 [==============================] - 1s 47us/step\n"
     ]
    }
   ],
   "source": [
    "loss, acc = model.evaluate(x_test_seq, y_test_vect)"
   ]
  },
  {
   "cell_type": "code",
   "execution_count": 73,
   "metadata": {},
   "outputs": [
    {
     "name": "stdout",
     "output_type": "stream",
     "text": [
      "loss 0.6712443329103224\n",
      "acc 0.8028179216684541\n"
     ]
    }
   ],
   "source": [
    "print('loss {}'.format(loss))\n",
    "print('acc {}'.format(acc))"
   ]
  },
  {
   "cell_type": "markdown",
   "metadata": {},
   "source": [
    "## Conclusion\n",
    "\n",
    "We evaluated how to use Embeddings as alternative to one-hot encoding. \n"
   ]
  }
 ],
 "metadata": {
  "kernelspec": {
   "display_name": "Python 3",
   "language": "python",
   "name": "python3"
  },
  "language_info": {
   "codemirror_mode": {
    "name": "ipython",
    "version": 3
   },
   "file_extension": ".py",
   "mimetype": "text/x-python",
   "name": "python",
   "nbconvert_exporter": "python",
   "pygments_lexer": "ipython3",
   "version": "3.6.5"
  }
 },
 "nbformat": 4,
 "nbformat_minor": 2
}
