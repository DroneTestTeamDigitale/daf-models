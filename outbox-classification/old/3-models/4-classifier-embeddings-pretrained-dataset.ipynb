{
 "cells": [
  {
   "cell_type": "code",
   "execution_count": 1,
   "metadata": {
    "scrolled": true
   },
   "outputs": [
    {
     "name": "stderr",
     "output_type": "stream",
     "text": [
      "/home/fabio/miniconda3/envs/dl/lib/python3.6/site-packages/h5py/__init__.py:36: FutureWarning: Conversion of the second argument of issubdtype from `float` to `np.floating` is deprecated. In future, it will be treated as `np.float64 == np.dtype(float).type`.\n",
      "  from ._conv import register_converters as _register_converters\n",
      "Using TensorFlow backend.\n"
     ]
    },
    {
     "name": "stdout",
     "output_type": "stream",
     "text": [
      "[nltk_data] Downloading package stopwords to /home/fabio/nltk_data...\n",
      "[nltk_data]   Package stopwords is already up-to-date!\n",
      "[nltk_data] Downloading package punkt to /home/fabio/nltk_data...\n",
      "[nltk_data]   Package punkt is already up-to-date!\n"
     ]
    }
   ],
   "source": [
    "import numpy as np\n",
    "import pandas as pd\n",
    "import pickle\n",
    "\n",
    "from keras import models\n",
    "from keras import layers\n",
    "from keras import optimizers\n",
    "from keras import losses\n",
    "from keras import activations\n",
    "from keras import metrics\n",
    "from keras import regularizers\n",
    "from keras.callbacks import *\n",
    "import math\n",
    "\n",
    "import random\n",
    "\n",
    "from dataset import atti_dirigenti\n",
    "\n",
    "# to make the experimens replicable\n",
    "random.seed(123456)"
   ]
  },
  {
   "cell_type": "markdown",
   "metadata": {},
   "source": [
    "## Load the Dataset"
   ]
  },
  {
   "cell_type": "code",
   "execution_count": 33,
   "metadata": {},
   "outputs": [],
   "source": [
    "num_words = 10000\n",
    "remove_stopwords= True\n",
    "skip_top = False"
   ]
  },
  {
   "cell_type": "code",
   "execution_count": 2,
   "metadata": {},
   "outputs": [],
   "source": [
    "(x_train, y_train), (x_val, y_val), (x_test, y_test) = atti_dirigenti.load_data(num_words=num_words, remove_stopwords=True)"
   ]
  },
  {
   "cell_type": "code",
   "execution_count": 3,
   "metadata": {},
   "outputs": [
    {
     "data": {
      "text/plain": [
       "20"
      ]
     },
     "execution_count": 3,
     "metadata": {},
     "output_type": "execute_result"
    }
   ],
   "source": [
    "label_index = atti_dirigenti.get_labels()\n",
    "len(label_index)"
   ]
  },
  {
   "cell_type": "code",
   "execution_count": 34,
   "metadata": {},
   "outputs": [],
   "source": [
    "most_common = atti_dirigenti.get_most_common_words()\n",
    "word_index = atti_dirigenti.get_word_index()\n",
    "stop_words = atti_dirigenti.get_stopwords()\n",
    "\n",
    "if remove_stopwords:\n",
    "    most_common = [(k,v) for k,v in most_common if k not in stop_words]\n",
    "\n",
    "if skip_top > 0:\n",
    "    most_common = most_common[skip_top:]\n",
    "\n",
    "#take only the top k words\n",
    "if num_words:\n",
    "    most_common=most_common[:num_words]\n",
    "\n",
    "\n",
    "most_common_selected = set([k for k,v in most_common])\n",
    "\n",
    "index_word_selected = { word_index[w]:w for w in most_common_selected}"
   ]
  },
  {
   "cell_type": "markdown",
   "metadata": {},
   "source": [
    "### Preparing Data\n",
    "\n",
    "- for the input data we pad the sequence to a max length in order to make uniform the sequences.\n",
    "- for the labels we continue with one-hot encoding\n"
   ]
  },
  {
   "cell_type": "code",
   "execution_count": 4,
   "metadata": {},
   "outputs": [],
   "source": [
    "from keras.preprocessing import sequence"
   ]
  },
  {
   "cell_type": "code",
   "execution_count": 5,
   "metadata": {},
   "outputs": [
    {
     "name": "stdout",
     "output_type": "stream",
     "text": [
      "max length of objects 90\n"
     ]
    }
   ],
   "source": [
    "print('max length of objects {}'.format(max(map(len, x_train))))"
   ]
  },
  {
   "cell_type": "markdown",
   "metadata": {},
   "source": [
    "#### Maximum Sequence Length\n",
    "\n",
    "for initial test we use the first 100 words"
   ]
  },
  {
   "cell_type": "code",
   "execution_count": 6,
   "metadata": {},
   "outputs": [],
   "source": [
    "maxlen = 100"
   ]
  },
  {
   "cell_type": "code",
   "execution_count": 7,
   "metadata": {},
   "outputs": [],
   "source": [
    "x_train_seq = sequence.pad_sequences(x_train, maxlen=maxlen)\n",
    "x_val_seq = sequence.pad_sequences(x_val, maxlen=maxlen)\n",
    "x_test_seq = sequence.pad_sequences(x_test, maxlen=maxlen)"
   ]
  },
  {
   "cell_type": "code",
   "execution_count": 8,
   "metadata": {
    "scrolled": false
   },
   "outputs": [
    {
     "data": {
      "text/plain": [
       "(99390, 100)"
      ]
     },
     "execution_count": 8,
     "metadata": {},
     "output_type": "execute_result"
    }
   ],
   "source": [
    "x_train_seq.shape"
   ]
  },
  {
   "cell_type": "markdown",
   "metadata": {},
   "source": [
    "One-hot encoding for input"
   ]
  },
  {
   "cell_type": "code",
   "execution_count": 9,
   "metadata": {},
   "outputs": [],
   "source": [
    "def vectorize_sequences(sequences, dimension=10000):\n",
    "    data = np.zeros((len(sequences), dimension), dtype=np.float32)\n",
    "    for i, sequence in enumerate(sequences):\n",
    "        data[i,sequence] = 1.\n",
    "    return data"
   ]
  },
  {
   "cell_type": "code",
   "execution_count": 10,
   "metadata": {},
   "outputs": [],
   "source": [
    "dimension = 11000"
   ]
  },
  {
   "cell_type": "code",
   "execution_count": 11,
   "metadata": {},
   "outputs": [],
   "source": [
    "x_train_vect = vectorize_sequences(x_train, dimension)\n",
    "x_val_vect = vectorize_sequences(x_val, dimension)\n",
    "x_test_vect = vectorize_sequences(x_test, dimension)"
   ]
  },
  {
   "cell_type": "markdown",
   "metadata": {},
   "source": [
    "One hot encoding for the labels"
   ]
  },
  {
   "cell_type": "code",
   "execution_count": 12,
   "metadata": {},
   "outputs": [],
   "source": [
    "def to_one_hot(labels):\n",
    "    results = np.zeros((len(labels), len(set(labels))), dtype=np.float32)\n",
    "    for i, label in enumerate(labels):\n",
    "        results[i, label] = 1.\n",
    "    return results"
   ]
  },
  {
   "cell_type": "code",
   "execution_count": 13,
   "metadata": {},
   "outputs": [],
   "source": [
    "y_train_vect = to_one_hot(y_train)\n",
    "y_val_vect = to_one_hot(y_val)\n",
    "y_test_vect = to_one_hot(y_test)"
   ]
  },
  {
   "cell_type": "code",
   "execution_count": 14,
   "metadata": {},
   "outputs": [
    {
     "data": {
      "text/plain": [
       "array([[0., 0., 0., ..., 0., 0., 1.],\n",
       "       [0., 0., 0., ..., 0., 0., 0.],\n",
       "       [0., 0., 0., ..., 0., 0., 1.],\n",
       "       ...,\n",
       "       [0., 0., 0., ..., 1., 0., 0.],\n",
       "       [0., 0., 0., ..., 0., 0., 0.],\n",
       "       [0., 0., 0., ..., 0., 0., 0.]], dtype=float32)"
      ]
     },
     "execution_count": 14,
     "metadata": {},
     "output_type": "execute_result"
    }
   ],
   "source": [
    "y_train_vect"
   ]
  },
  {
   "cell_type": "markdown",
   "metadata": {},
   "source": [
    "## Load pretrained embeddings"
   ]
  },
  {
   "cell_type": "code",
   "execution_count": 15,
   "metadata": {},
   "outputs": [],
   "source": [
    "from gensim.models import KeyedVectors"
   ]
  },
  {
   "cell_type": "code",
   "execution_count": 16,
   "metadata": {},
   "outputs": [],
   "source": [
    "path = '../../cc.it.300.vec/data'\n",
    "fast_text_emb = KeyedVectors.load_word2vec_format(path, binary=False)"
   ]
  },
  {
   "cell_type": "code",
   "execution_count": 19,
   "metadata": {},
   "outputs": [
    {
     "data": {
      "text/plain": [
       "300"
      ]
     },
     "execution_count": 19,
     "metadata": {},
     "output_type": "execute_result"
    }
   ],
   "source": [
    "len(fast_test_emb.get_vector('acquisto'))"
   ]
  },
  {
   "cell_type": "code",
   "execution_count": 20,
   "metadata": {},
   "outputs": [],
   "source": [
    "embed_size = 300"
   ]
  },
  {
   "cell_type": "code",
   "execution_count": 54,
   "metadata": {},
   "outputs": [],
   "source": [
    "embed_matrix = np.zeros((dimension + 1, 300))\n",
    "for i, word in index_word_selected.items():\n",
    "    if word in fast_text_emb.vocab:\n",
    "        embedding_vector = fast_text_emb.get_vector(word)\n",
    "        embed_matrix[i] = embedding_vector"
   ]
  },
  {
   "cell_type": "markdown",
   "metadata": {},
   "source": [
    "## The Effects of Word Embeddings\n",
    "\n",
    "Before using a word embedding as a layer in our network let evaluate the effect of embeddings by training a simple classifier that has it as only layer."
   ]
  },
  {
   "cell_type": "code",
   "execution_count": 59,
   "metadata": {},
   "outputs": [],
   "source": [
    "def build_model_only_embeddings(embed_size):\n",
    "    model = models.Sequential()\n",
    "    model.add(layers.Embedding(\n",
    "        input_dim=dimension + 1, \n",
    "        output_dim=embed_size, \n",
    "        weights=[embed_matrix],\n",
    "        input_length=maxlen,\n",
    "        trainable=False\n",
    "    ))\n",
    "    model.add(layers.Flatten())\n",
    "    model.add(layers.Dense(len(label_index), activation='softmax', name='softmax'))\n",
    "    model.compile(optimizer=optimizers.Adam(), \n",
    "          loss='categorical_crossentropy',\n",
    "          metrics=['accuracy'])\n",
    "    return model"
   ]
  },
  {
   "cell_type": "code",
   "execution_count": 64,
   "metadata": {},
   "outputs": [],
   "source": [
    "model= build_model_only_embeddings(300)"
   ]
  },
  {
   "cell_type": "code",
   "execution_count": 65,
   "metadata": {},
   "outputs": [
    {
     "name": "stdout",
     "output_type": "stream",
     "text": [
      "Train on 99390 samples, validate on 11044 samples\n",
      "Epoch 1/20\n",
      "99390/99390 [==============================] - 2s 24us/step - loss: 2.1649 - acc: 0.3956 - val_loss: 1.8609 - val_acc: 0.4805\n",
      "Epoch 2/20\n",
      "99390/99390 [==============================] - 2s 22us/step - loss: 1.7050 - acc: 0.5203 - val_loss: 1.6592 - val_acc: 0.5245\n",
      "Epoch 3/20\n",
      "99390/99390 [==============================] - 2s 22us/step - loss: 1.5239 - acc: 0.5656 - val_loss: 1.5504 - val_acc: 0.5486\n",
      "Epoch 4/20\n",
      "99390/99390 [==============================] - 2s 22us/step - loss: 1.4093 - acc: 0.5957 - val_loss: 1.4784 - val_acc: 0.5645\n",
      "Epoch 5/20\n",
      "99390/99390 [==============================] - 2s 22us/step - loss: 1.3263 - acc: 0.6166 - val_loss: 1.4259 - val_acc: 0.5776\n",
      "Epoch 6/20\n",
      "99390/99390 [==============================] - 2s 22us/step - loss: 1.2615 - acc: 0.6331 - val_loss: 1.3873 - val_acc: 0.5866\n",
      "Epoch 7/20\n",
      "99390/99390 [==============================] - 2s 22us/step - loss: 1.2091 - acc: 0.6465 - val_loss: 1.3577 - val_acc: 0.5923\n",
      "Epoch 8/20\n",
      "99390/99390 [==============================] - 2s 22us/step - loss: 1.1649 - acc: 0.6592 - val_loss: 1.3323 - val_acc: 0.5981\n",
      "Epoch 9/20\n",
      "99390/99390 [==============================] - 2s 22us/step - loss: 1.1269 - acc: 0.6696 - val_loss: 1.3117 - val_acc: 0.6022\n",
      "Epoch 10/20\n",
      "99390/99390 [==============================] - 2s 22us/step - loss: 1.0942 - acc: 0.6785 - val_loss: 1.2952 - val_acc: 0.6087\n",
      "Epoch 11/20\n",
      "99390/99390 [==============================] - 2s 22us/step - loss: 1.0648 - acc: 0.6873 - val_loss: 1.2822 - val_acc: 0.6109\n",
      "Epoch 12/20\n",
      "99390/99390 [==============================] - 2s 23us/step - loss: 1.0388 - acc: 0.6940 - val_loss: 1.2693 - val_acc: 0.6144\n",
      "Epoch 13/20\n",
      "99390/99390 [==============================] - 2s 22us/step - loss: 1.0153 - acc: 0.7002 - val_loss: 1.2618 - val_acc: 0.6125\n",
      "Epoch 14/20\n",
      "99390/99390 [==============================] - 2s 22us/step - loss: 0.9933 - acc: 0.7055 - val_loss: 1.2511 - val_acc: 0.6196\n",
      "Epoch 15/20\n",
      "99390/99390 [==============================] - 2s 22us/step - loss: 0.9738 - acc: 0.7120 - val_loss: 1.2432 - val_acc: 0.6201\n",
      "Epoch 16/20\n",
      "99390/99390 [==============================] - 2s 22us/step - loss: 0.9555 - acc: 0.7174 - val_loss: 1.2381 - val_acc: 0.6206\n",
      "Epoch 17/20\n",
      "99390/99390 [==============================] - 2s 22us/step - loss: 0.9386 - acc: 0.7217 - val_loss: 1.2316 - val_acc: 0.6245\n",
      "Epoch 18/20\n",
      "99390/99390 [==============================] - 2s 22us/step - loss: 0.9229 - acc: 0.7265 - val_loss: 1.2287 - val_acc: 0.6240\n",
      "Epoch 19/20\n",
      "99390/99390 [==============================] - 2s 22us/step - loss: 0.9085 - acc: 0.7301 - val_loss: 1.2247 - val_acc: 0.6251\n",
      "Epoch 20/20\n",
      "99390/99390 [==============================] - 2s 22us/step - loss: 0.8947 - acc: 0.7342 - val_loss: 1.2232 - val_acc: 0.6281\n"
     ]
    }
   ],
   "source": [
    "history = model.fit(x=x_train_seq, y=y_train_vect, validation_data=(x_val_seq, y_val_vect),\n",
    "                   epochs=20, batch_size=256)"
   ]
  },
  {
   "cell_type": "code",
   "execution_count": 66,
   "metadata": {},
   "outputs": [],
   "source": [
    "import matplotlib.pyplot as plt\n",
    "\n",
    "%matplotlib inline"
   ]
  },
  {
   "cell_type": "code",
   "execution_count": 67,
   "metadata": {},
   "outputs": [],
   "source": [
    "def chart_loss(history):\n",
    "    loss = history.history['loss']\n",
    "    val_loss = history.history['val_loss']\n",
    "\n",
    "    epochs = range(1, len(loss) + 1)\n",
    "\n",
    "    plt.plot(epochs, loss, 'b+', label='Training Loss')\n",
    "    plt.plot(epochs, val_loss, 'b', label='Validation Loss')\n",
    "    plt.title('Training and validation loss')\n",
    "    plt.xlabel('Epochs')\n",
    "    plt.ylabel('Loss')\n",
    "    plt.yticks(np.arange(0,2.2, step=0.2))\n",
    "    plt.xticks(epochs)\n",
    "    plt.legend()\n",
    "    plt.show()"
   ]
  },
  {
   "cell_type": "code",
   "execution_count": 68,
   "metadata": {},
   "outputs": [],
   "source": [
    "def chart_acc(history):\n",
    "    acc = history.history['acc']\n",
    "    val_acc = history.history['val_acc']\n",
    "\n",
    "    epochs = range(1, len(acc) + 1)\n",
    "\n",
    "    plt.plot(epochs, acc, 'b+', label='Training Acc')\n",
    "    plt.plot(epochs, val_acc, 'b', label='Validation Acc')\n",
    "    plt.title('Training and validation loss')\n",
    "    plt.xlabel('Epochs')\n",
    "    plt.ylabel('Accuray')\n",
    "    plt.yticks(np.arange(0.4,1.05, step=0.05))\n",
    "    plt.xticks(epochs)\n",
    "    plt.legend()\n",
    "    plt.show()"
   ]
  },
  {
   "cell_type": "code",
   "execution_count": 70,
   "metadata": {},
   "outputs": [
    {
     "data": {
      "image/png": "[encoded data removed]",
      "text/plain": [
       "<Figure size 432x288 with 1 Axes>"
      ]
     },
     "metadata": {},
     "output_type": "display_data"
    }
   ],
   "source": [
    "chart_loss(history)"
   ]
  },
  {
   "cell_type": "markdown",
   "metadata": {},
   "source": [
    "We can see how the model with larger embedding size tend to overfit faster than the others (respectively epochs 2, 3, and 4). However, from a loss point of view all the models starts overfitting with a loss values ~ 0.8.\n",
    "Let's now analyze values for accuracy."
   ]
  },
  {
   "cell_type": "code",
   "execution_count": 71,
   "metadata": {},
   "outputs": [
    {
     "data": {
      "image/png": "[encoded data removed]",
      "text/plain": [
       "<Figure size 432x288 with 1 Axes>"
      ]
     },
     "metadata": {},
     "output_type": "display_data"
    }
   ],
   "source": [
    "chart_acc(history)"
   ]
  },
  {
   "cell_type": "code",
   "execution_count": 72,
   "metadata": {},
   "outputs": [],
   "source": [
    "def min_loss(history):\n",
    "    val_loss = history.history['val_loss'] \n",
    "    return np.argmin(val_loss) + 1 \n",
    "\n",
    "def accuracy(history, epoch):\n",
    "    val_acc = history.history['val_acc']\n",
    "    return val_acc[epoch - 1]"
   ]
  },
  {
   "cell_type": "code",
   "execution_count": 74,
   "metadata": {},
   "outputs": [
    {
     "name": "stdout",
     "output_type": "stream",
     "text": [
      "min loss for model is 20\n"
     ]
    }
   ],
   "source": [
    "print('min loss for model is {}'.format(min_loss(history)))"
   ]
  },
  {
   "cell_type": "code",
   "execution_count": 75,
   "metadata": {},
   "outputs": [
    {
     "name": "stdout",
     "output_type": "stream",
     "text": [
      "best validation accuracy for model is 0.6281238682068849\n"
     ]
    }
   ],
   "source": [
    "print('best validation accuracy for model is {}'.format(\n",
    "    accuracy(history, min_loss(history))))"
   ]
  },
  {
   "cell_type": "markdown",
   "metadata": {},
   "source": [
    "The results show how only using an flat classifier with an embedding layer we obtain an accuracy 0.82. Which is a pretty good result.\n",
    "The next steps is use an embedding layers in a Feed Forward Neural Network."
   ]
  },
  {
   "cell_type": "markdown",
   "metadata": {},
   "source": [
    "## Build the Models\n",
    "\n",
    "We take into account:\n",
    "- a base model that uses dropout\n",
    "- a embed model that adds an embedding layer"
   ]
  },
  {
   "cell_type": "code",
   "execution_count": 84,
   "metadata": {},
   "outputs": [],
   "source": [
    "def build_model_dropout(neurons):\n",
    "    model = models.Sequential()\n",
    "    model.add(layers.Dense(neurons, activation='relu', input_shape=(x_train_vect.shape[-1], )))\n",
    "    model.add(layers.Dropout(0.5))\n",
    "    model.add(layers.Dense(neurons, activation='relu'))\n",
    "    model.add(layers.Dropout(0.5))\n",
    "    model.add(layers.Dense(neurons, activation='relu'))\n",
    "    model.add(layers.Dropout(0.5))\n",
    "    model.add(layers.Dense(len(label_index), activation='softmax'))\n",
    "    \n",
    "    model.compile(optimizer=optimizers.Adam(), \n",
    "              loss='categorical_crossentropy',\n",
    "              metrics=['accuracy'])\n",
    "    return model"
   ]
  },
  {
   "cell_type": "code",
   "execution_count": 80,
   "metadata": {},
   "outputs": [],
   "source": [
    "def build_model_embeddings(neurons):\n",
    "    model = models.Sequential()\n",
    "    model.add(layers.Embedding(\n",
    "        input_dim=dimension + 1, \n",
    "        output_dim=embed_size, \n",
    "        weights=[embed_matrix],\n",
    "        input_length=maxlen,\n",
    "        trainable=False\n",
    "    ))\n",
    "    model.add(layers.Flatten())\n",
    "    model.add(layers.Dense(neurons, activation='relu'))\n",
    "    model.add(layers.Dropout(0.2))\n",
    "    model.add(layers.Dense(neurons, activation='relu'))\n",
    "    model.add(layers.Dropout(0.2))\n",
    "    model.add(layers.Dense(len(label_index), activation='softmax'))\n",
    "    model.compile(optimizer=optimizers.Adam(), \n",
    "          loss='categorical_crossentropy',\n",
    "          metrics=['accuracy'])\n",
    "    return model"
   ]
  },
  {
   "cell_type": "code",
   "execution_count": 85,
   "metadata": {},
   "outputs": [],
   "source": [
    "model_dropout = build_model_dropout(64)"
   ]
  },
  {
   "cell_type": "code",
   "execution_count": 86,
   "metadata": {},
   "outputs": [
    {
     "name": "stdout",
     "output_type": "stream",
     "text": [
      "_________________________________________________________________\n",
      "Layer (type)                 Output Shape              Param #   \n",
      "=================================================================\n",
      "dense_7 (Dense)              (None, 64)                704064    \n",
      "_________________________________________________________________\n",
      "dropout_5 (Dropout)          (None, 64)                0         \n",
      "_________________________________________________________________\n",
      "dense_8 (Dense)              (None, 64)                4160      \n",
      "_________________________________________________________________\n",
      "dropout_6 (Dropout)          (None, 64)                0         \n",
      "_________________________________________________________________\n",
      "dense_9 (Dense)              (None, 64)                4160      \n",
      "_________________________________________________________________\n",
      "dropout_7 (Dropout)          (None, 64)                0         \n",
      "_________________________________________________________________\n",
      "dense_10 (Dense)             (None, 20)                1300      \n",
      "=================================================================\n",
      "Total params: 713,684\n",
      "Trainable params: 713,684\n",
      "Non-trainable params: 0\n",
      "_________________________________________________________________\n"
     ]
    }
   ],
   "source": [
    "model_dropout.summary()"
   ]
  },
  {
   "cell_type": "code",
   "execution_count": 87,
   "metadata": {},
   "outputs": [
    {
     "name": "stdout",
     "output_type": "stream",
     "text": [
      "Train on 99390 samples, validate on 11044 samples\n",
      "Epoch 1/10\n",
      "99390/99390 [==============================] - 4s 39us/step - loss: 2.0056 - acc: 0.3725 - val_loss: 1.0783 - val_acc: 0.6496\n",
      "Epoch 2/10\n",
      "99390/99390 [==============================] - 3s 29us/step - loss: 1.2334 - acc: 0.5941 - val_loss: 0.8337 - val_acc: 0.7189\n",
      "Epoch 3/10\n",
      "99390/99390 [==============================] - 3s 31us/step - loss: 1.0286 - acc: 0.6563 - val_loss: 0.7370 - val_acc: 0.7521\n",
      "Epoch 4/10\n",
      "99390/99390 [==============================] - 3s 29us/step - loss: 0.9125 - acc: 0.6935 - val_loss: 0.6921 - val_acc: 0.7687\n",
      "Epoch 5/10\n",
      "99390/99390 [==============================] - 3s 29us/step - loss: 0.8523 - acc: 0.7133 - val_loss: 0.6601 - val_acc: 0.7792\n",
      "Epoch 6/10\n",
      "99390/99390 [==============================] - 3s 30us/step - loss: 0.7956 - acc: 0.7323 - val_loss: 0.6387 - val_acc: 0.7840\n",
      "Epoch 7/10\n",
      "99390/99390 [==============================] - 3s 29us/step - loss: 0.7603 - acc: 0.7452 - val_loss: 0.6223 - val_acc: 0.7926\n",
      "Epoch 8/10\n",
      "99390/99390 [==============================] - 3s 30us/step - loss: 0.7263 - acc: 0.7582 - val_loss: 0.6140 - val_acc: 0.7989\n",
      "Epoch 9/10\n",
      "99390/99390 [==============================] - 3s 30us/step - loss: 0.6961 - acc: 0.7679 - val_loss: 0.6084 - val_acc: 0.8012\n",
      "Epoch 10/10\n",
      "99390/99390 [==============================] - 3s 29us/step - loss: 0.6716 - acc: 0.7770 - val_loss: 0.6025 - val_acc: 0.8067\n"
     ]
    }
   ],
   "source": [
    "history_dropout = model_dropout.fit(x=x_train_vect, y=y_train_vect, validation_data=(x_val_vect, y_val_vect),\n",
    "                   epochs=10, batch_size=256)"
   ]
  },
  {
   "cell_type": "code",
   "execution_count": 88,
   "metadata": {},
   "outputs": [],
   "source": [
    "model_embed = build_model_embeddings(64)"
   ]
  },
  {
   "cell_type": "code",
   "execution_count": 89,
   "metadata": {},
   "outputs": [
    {
     "name": "stdout",
     "output_type": "stream",
     "text": [
      "_________________________________________________________________\n",
      "Layer (type)                 Output Shape              Param #   \n",
      "=================================================================\n",
      "embedding_6 (Embedding)      (None, 100, 300)          3300300   \n",
      "_________________________________________________________________\n",
      "flatten_6 (Flatten)          (None, 30000)             0         \n",
      "_________________________________________________________________\n",
      "dense_11 (Dense)             (None, 64)                1920064   \n",
      "_________________________________________________________________\n",
      "dropout_8 (Dropout)          (None, 64)                0         \n",
      "_________________________________________________________________\n",
      "dense_12 (Dense)             (None, 64)                4160      \n",
      "_________________________________________________________________\n",
      "dropout_9 (Dropout)          (None, 64)                0         \n",
      "_________________________________________________________________\n",
      "dense_13 (Dense)             (None, 20)                1300      \n",
      "=================================================================\n",
      "Total params: 5,225,824\n",
      "Trainable params: 1,925,524\n",
      "Non-trainable params: 3,300,300\n",
      "_________________________________________________________________\n"
     ]
    }
   ],
   "source": [
    "model_embed.summary()"
   ]
  },
  {
   "cell_type": "code",
   "execution_count": 90,
   "metadata": {},
   "outputs": [
    {
     "name": "stdout",
     "output_type": "stream",
     "text": [
      "Train on 99390 samples, validate on 11044 samples\n",
      "Epoch 1/10\n",
      "99390/99390 [==============================] - 4s 43us/step - loss: 2.0317 - acc: 0.3879 - val_loss: 1.5114 - val_acc: 0.5281\n",
      "Epoch 2/10\n",
      "99390/99390 [==============================] - 4s 41us/step - loss: 1.4582 - acc: 0.5374 - val_loss: 1.3105 - val_acc: 0.5765\n",
      "Epoch 3/10\n",
      "99390/99390 [==============================] - 4s 39us/step - loss: 1.2602 - acc: 0.5922 - val_loss: 1.2361 - val_acc: 0.6052\n",
      "Epoch 4/10\n",
      "99390/99390 [==============================] - 4s 39us/step - loss: 1.1400 - acc: 0.6279 - val_loss: 1.1945 - val_acc: 0.6156\n",
      "Epoch 5/10\n",
      "99390/99390 [==============================] - 4s 40us/step - loss: 1.0561 - acc: 0.6551 - val_loss: 1.1730 - val_acc: 0.6269\n",
      "Epoch 6/10\n",
      "99390/99390 [==============================] - 4s 39us/step - loss: 0.9868 - acc: 0.6753 - val_loss: 1.1727 - val_acc: 0.6307\n",
      "Epoch 7/10\n",
      "99390/99390 [==============================] - 4s 39us/step - loss: 0.9274 - acc: 0.6919 - val_loss: 1.1771 - val_acc: 0.6359\n",
      "Epoch 8/10\n",
      "99390/99390 [==============================] - 4s 40us/step - loss: 0.8835 - acc: 0.7064 - val_loss: 1.1601 - val_acc: 0.6440\n",
      "Epoch 9/10\n",
      "99390/99390 [==============================] - 4s 39us/step - loss: 0.8399 - acc: 0.7185 - val_loss: 1.1744 - val_acc: 0.6481\n",
      "Epoch 10/10\n",
      "99390/99390 [==============================] - 4s 40us/step - loss: 0.7968 - acc: 0.7309 - val_loss: 1.1926 - val_acc: 0.6456\n"
     ]
    }
   ],
   "source": [
    "history_embed = model_embed.fit(x=x_train_seq, y=y_train_vect, validation_data=(x_val_seq, y_val_vect),\n",
    "                   epochs=10, batch_size=256)"
   ]
  },
  {
   "cell_type": "markdown",
   "metadata": {},
   "source": [
    "### Printing The Loss"
   ]
  },
  {
   "cell_type": "code",
   "execution_count": 91,
   "metadata": {},
   "outputs": [
    {
     "data": {
      "image/png": "[encoded data removed]",
      "text/plain": [
       "<Figure size 432x288 with 1 Axes>"
      ]
     },
     "metadata": {},
     "output_type": "display_data"
    },
    {
     "data": {
      "image/png": "[encoded data removed]",
      "text/plain": [
       "<Figure size 432x288 with 1 Axes>"
      ]
     },
     "metadata": {},
     "output_type": "display_data"
    }
   ],
   "source": [
    "chart_loss(history_dropout)\n",
    "chart_loss(history_embed)"
   ]
  },
  {
   "cell_type": "markdown",
   "metadata": {},
   "source": [
    "From the charts we can see that: \n",
    "- word embedding seems to not improve the accuracy of the model. This is usual in the case you have little training data available. From another point of view it is surprising to see that the classifier with only an embedding layer perform better than the one taken into account here\n",
    "- the model with dropout perform better than the model with embeddings.\n",
    "\n",
    "From this result one could gather that embeddings are not useful. This is wrong, because we didn't consider that we changed another thing with the current represantion. The model that uses embedding takes as input sequence of ids and not a vectorize representation of subjects. \n",
    "\n",
    "In the next post we will explore the usage of LSTM to address this kind of representation. "
   ]
  },
  {
   "cell_type": "code",
   "execution_count": 92,
   "metadata": {},
   "outputs": [
    {
     "data": {
      "image/png": "[encoded data removed]",
      "text/plain": [
       "<Figure size 432x288 with 1 Axes>"
      ]
     },
     "metadata": {},
     "output_type": "display_data"
    },
    {
     "data": {
      "image/png": "[encoded data removed]",
      "text/plain": [
       "<Figure size 432x288 with 1 Axes>"
      ]
     },
     "metadata": {},
     "output_type": "display_data"
    }
   ],
   "source": [
    "chart_acc(history_embed)\n",
    "chart_acc(history_dropout)"
   ]
  },
  {
   "cell_type": "markdown",
   "metadata": {},
   "source": [
    "From the chart above we can see that the best model is the model that uses dropout, while the best epoch is the 6 where the validation accuracy crosses the training accuracy"
   ]
  },
  {
   "cell_type": "code",
   "execution_count": 93,
   "metadata": {},
   "outputs": [],
   "source": [
    "def compare_loss(histories):\n",
    "    epochs = range(1, len(list(histories.values())[0].history['val_loss']) + 1)\n",
    "\n",
    "    for i, history in histories.items():\n",
    "        val_loss = history.history['val_loss']\n",
    "        plt.plot(epochs, val_loss, label='Validation Loss {}'.format(i))\n",
    "            \n",
    "    plt.xlabel('Epochs')\n",
    "    plt.ylabel('Loss')\n",
    "    plt.legend()\n",
    "    plt.show()"
   ]
  },
  {
   "cell_type": "code",
   "execution_count": 94,
   "metadata": {},
   "outputs": [
    {
     "data": {
      "image/png": "[encoded data removed]",
      "text/plain": [
       "<Figure size 432x288 with 1 Axes>"
      ]
     },
     "metadata": {},
     "output_type": "display_data"
    }
   ],
   "source": [
    "compare_loss({'embedding': history_embed, 'Dropout': history_dropout})"
   ]
  },
  {
   "cell_type": "markdown",
   "metadata": {},
   "source": [
    "Another interesting factor is that the loss of the model that uses embeddings grows during the training. It shows that embedding trained with the model aren't useful.\n",
    "Another approach can be uses:\n",
    "- pretrained embeddings\n",
    "- remove some of the most frequent words"
   ]
  },
  {
   "cell_type": "code",
   "execution_count": 95,
   "metadata": {},
   "outputs": [],
   "source": [
    "def compare_accuracy(histories):\n",
    "    epochs = range(1, len(list(histories.values())[0].history['val_acc']) + 1)\n",
    "\n",
    "    for i, history in histories.items():\n",
    "        val_loss = history.history['val_acc']\n",
    "        plt.plot(epochs, val_loss, label='Validation Accuracy {}'.format(i))\n",
    "            \n",
    "    plt.xlabel('Epochs')\n",
    "    plt.ylabel('Accuracy')\n",
    "    plt.legend()\n",
    "    plt.show()"
   ]
  },
  {
   "cell_type": "code",
   "execution_count": 96,
   "metadata": {},
   "outputs": [
    {
     "data": {
      "image/png": "[encoded data removed]",
      "text/plain": [
       "<Figure size 432x288 with 1 Axes>"
      ]
     },
     "metadata": {},
     "output_type": "display_data"
    }
   ],
   "source": [
    "compare_accuracy({'embedding': history_embed, 'Dropout': history_dropout})"
   ]
  },
  {
   "cell_type": "code",
   "execution_count": 97,
   "metadata": {},
   "outputs": [
    {
     "name": "stdout",
     "output_type": "stream",
     "text": [
      "min loss for model Embed 8\n",
      "min loss for model Dropout is 10\n"
     ]
    }
   ],
   "source": [
    "print('min loss for model Embed {}'.format(min_loss(history_embed)))\n",
    "print('min loss for model Dropout is {}'.format(min_loss(history_dropout)))"
   ]
  },
  {
   "cell_type": "code",
   "execution_count": 98,
   "metadata": {},
   "outputs": [
    {
     "name": "stdout",
     "output_type": "stream",
     "text": [
      "best validation accuracy for model Embed 0.6439695763268448\n",
      "best validation accuracy for model Dropout 0.8066823614200618\n"
     ]
    }
   ],
   "source": [
    "print('best validation accuracy for model Embed {}'.format(\n",
    "    accuracy(history_embed, min_loss(history_embed))))\n",
    "print('best validation accuracy for model Dropout {}'.format(\n",
    "    accuracy(history_dropout, min_loss(history_dropout))))"
   ]
  },
  {
   "cell_type": "markdown",
   "metadata": {},
   "source": [
    "### Evaluate on the Test Set\n",
    "\n",
    "We still want to evaluate the models with embedding to understand if it overfits on input data."
   ]
  },
  {
   "cell_type": "code",
   "execution_count": 101,
   "metadata": {},
   "outputs": [],
   "source": [
    "model = build_model_embeddings(64)"
   ]
  },
  {
   "cell_type": "code",
   "execution_count": 102,
   "metadata": {},
   "outputs": [
    {
     "name": "stdout",
     "output_type": "stream",
     "text": [
      "Epoch 1/8\n",
      "110434/110434 [==============================] - 4s 41us/step - loss: 1.9767 - acc: 0.4007\n",
      "Epoch 2/8\n",
      "110434/110434 [==============================] - 4s 38us/step - loss: 1.4225 - acc: 0.5468\n",
      "Epoch 3/8\n",
      "110434/110434 [==============================] - 4s 38us/step - loss: 1.2441 - acc: 0.5963\n",
      "Epoch 4/8\n",
      "110434/110434 [==============================] - 4s 38us/step - loss: 1.1316 - acc: 0.6308\n",
      "Epoch 5/8\n",
      "110434/110434 [==============================] - 4s 38us/step - loss: 1.0523 - acc: 0.6538\n",
      "Epoch 6/8\n",
      "110434/110434 [==============================] - 4s 38us/step - loss: 0.9882 - acc: 0.6736\n",
      "Epoch 7/8\n",
      "110434/110434 [==============================] - 4s 38us/step - loss: 0.9338 - acc: 0.6884\n",
      "Epoch 8/8\n",
      "110434/110434 [==============================] - 4s 38us/step - loss: 0.8906 - acc: 0.7034\n"
     ]
    }
   ],
   "source": [
    "history = model.fit(x=np.concatenate([x_train_seq, x_val_seq]), y=np.concatenate([y_train_vect, y_val_vect]), epochs=8, batch_size=256)"
   ]
  },
  {
   "cell_type": "code",
   "execution_count": 103,
   "metadata": {},
   "outputs": [
    {
     "name": "stdout",
     "output_type": "stream",
     "text": [
      "27609/27609 [==============================] - 1s 47us/step\n"
     ]
    }
   ],
   "source": [
    "loss, acc = model.evaluate(x_test_seq, y_test_vect)"
   ]
  },
  {
   "cell_type": "code",
   "execution_count": 104,
   "metadata": {},
   "outputs": [
    {
     "name": "stdout",
     "output_type": "stream",
     "text": [
      "loss 1.1326746919455724\n",
      "acc 0.6474338078378806\n"
     ]
    }
   ],
   "source": [
    "print('loss {}'.format(loss))\n",
    "print('acc {}'.format(acc))"
   ]
  },
  {
   "cell_type": "markdown",
   "metadata": {},
   "source": [
    "## Conclusion\n",
    "\n",
    "We evaluated how to use Embeddings as alternative to one-hot encoding. \n"
   ]
  }
 ],
 "metadata": {
  "kernelspec": {
   "display_name": "Python 3",
   "language": "python",
   "name": "python3"
  },
  "language_info": {
   "codemirror_mode": {
    "name": "ipython",
    "version": 3
   },
   "file_extension": ".py",
   "mimetype": "text/x-python",
   "name": "python",
   "nbconvert_exporter": "python",
   "pygments_lexer": "ipython3",
   "version": "3.6.5"
  }
 },
 "nbformat": 4,
 "nbformat_minor": 2
}
