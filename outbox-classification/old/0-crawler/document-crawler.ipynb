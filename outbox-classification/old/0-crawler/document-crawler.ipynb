{
 "cells": [
  {
   "cell_type": "code",
   "execution_count": 2,
   "metadata": {},
   "outputs": [],
   "source": [
    "import urllib3\n",
    "import json\n",
    "import random\n",
    "import time\n",
    "import os\n",
    "import logging"
   ]
  },
  {
   "cell_type": "markdown",
   "metadata": {},
   "source": [
    "# Crawl official documents from Tuscany Region"
   ]
  },
  {
   "cell_type": "markdown",
   "metadata": {},
   "source": [
    "Setup the loggers"
   ]
  },
  {
   "cell_type": "code",
   "execution_count": 3,
   "metadata": {},
   "outputs": [],
   "source": [
    "log = logging.getLogger('crawler_application')\n",
    "log.setLevel(logging.DEBUG)\n",
    "fh = logging.FileHandler('crawler.log')\n",
    "ch = logging.StreamHandler()\n",
    "\n",
    "# create formatter and add it to the handlers\n",
    "formatter = logging.Formatter('%(asctime)s - %(name)s - %(levelname)s - %(message)s')\n",
    "fh.setFormatter(formatter)\n",
    "ch.setFormatter(formatter)\n",
    "# add the handlers to the logger\n",
    "log.addHandler(fh)\n",
    "log.addHandler(ch)"
   ]
  },
  {
   "cell_type": "markdown",
   "metadata": {},
   "source": [
    "Define output folder, output filename pattern"
   ]
  },
  {
   "cell_type": "code",
   "execution_count": 4,
   "metadata": {},
   "outputs": [],
   "source": [
    "out_folder = 'regione-toscana'\n",
    "\n",
    "act_types = {\n",
    "    'atti_dirigenti': 'DMON', \n",
    "    'atti_presidente': 'DPG',\n",
    "    'atti_giunta': 'DAD'\n",
    "}\n",
    "\n",
    "file_name = 'regione-toscana-result-type_{}-year_{:d}-from_{:d}-to_{:d}.json'\n",
    "query = \"http://www.regione.toscana.it/bancadati/search?site=atti&client=fend_json&output=xml_no_dtd&getfields=*&ulang=it&ie=UTF-8&proxystylesheet=fend_json&start={:d}&num={:d}&filter=0&rc=1&q=inmeta%3AID_TIPO_PRATICA%3{}+AND+inmeta%3ADATA_ATTO%3A{}-01-01..{}-12-31+AND+inmeta%3ANUMERO%3A{}..{}+AND+inmeta%3AALLEGATO_DESCRIZIONE%3Dvoid&sort=meta%3ACODICE_PRATICA%3AA\"\n"
   ]
  },
  {
   "cell_type": "code",
   "execution_count": 5,
   "metadata": {},
   "outputs": [],
   "source": [
    "if not os.path.exists(out_folder):\n",
    "    os.makedirs(out_folder)"
   ]
  },
  {
   "cell_type": "code",
   "execution_count": 6,
   "metadata": {},
   "outputs": [],
   "source": [
    "http_pool = urllib3.PoolManager()"
   ]
  },
  {
   "cell_type": "code",
   "execution_count": 7,
   "metadata": {},
   "outputs": [],
   "source": [
    "year = 2017\n",
    "start = 0\n",
    "num = 200\n",
    "from_number = 0\n",
    "to_number = 200"
   ]
  },
  {
   "cell_type": "code",
   "execution_count": 8,
   "metadata": {},
   "outputs": [],
   "source": [
    "example = query.format(start, num, act_types['atti_giunta'], year, year, from_number, to_number)"
   ]
  },
  {
   "cell_type": "code",
   "execution_count": 9,
   "metadata": {},
   "outputs": [
    {
     "data": {
      "text/plain": [
       "'http://www.regione.toscana.it/bancadati/search?site=atti&client=fend_json&output=xml_no_dtd&getfields=*&ulang=it&ie=UTF-8&proxystylesheet=fend_json&start=0&num=200&filter=0&rc=1&q=inmeta%3AID_TIPO_PRATICA%3DAD+AND+inmeta%3ADATA_ATTO%3A2017-01-01..2017-12-31+AND+inmeta%3ANUMERO%3A0..200+AND+inmeta%3AALLEGATO_DESCRIZIONE%3Dvoid&sort=meta%3ACODICE_PRATICA%3AA'"
      ]
     },
     "execution_count": 9,
     "metadata": {},
     "output_type": "execute_result"
    }
   ],
   "source": [
    "example"
   ]
  },
  {
   "cell_type": "code",
   "execution_count": 10,
   "metadata": {},
   "outputs": [],
   "source": [
    "def download_data(start, num, act_name, year, from_number, to_number):\n",
    "    \n",
    "    log.info(\"start {}, num {}, act_name {}, year {}, from_number {}, to_number {}\".format(\n",
    "        start,num, act_name, year, from_number, to_number))\n",
    "    sleep_time = random.randint(2,5)\n",
    "    log.debug('sleeping {} seconds'.format(sleep_time))\n",
    "    time.sleep(random.randint(5,20))\n",
    "    \n",
    "    url = query.format(start, num + 1, act_types[act_name], year, year, from_number, to_number)\n",
    "    log.info('requesting url {}'.format(url))\n",
    "    res = http_pool.request('GET', url, retries=1)\n",
    "    log.info('got status {} for url {}'.format(res.status, url))\n",
    "    \n",
    "    num_res = 0\n",
    "    \n",
    "    if res.status is 200:\n",
    "        json_data = json.loads(res.data.decode('utf-8'))\n",
    "        if 'RES' in json_data['GSP']:\n",
    "            num_res = len(json_data['GSP']['RES']['R'])\n",
    "            \n",
    "            out_file_name = out_folder + \"/\" + file_name.format(act_name, year, from_number, to_number)\n",
    "            \n",
    "            with open(out_file_name, 'w') as f:\n",
    "                f.write(res.data.decode('utf-8'))\n",
    "                log.info('saved result in {}'.format(out_file_name))\n",
    "        else:\n",
    "            log.error('no results skipped {} \\n {}'.format(url, json_data))\n",
    "    else:\n",
    "        log.error('status {} skipped {}'.format(res.status, url))\n",
    "    \n",
    "    status = res.status\n",
    "    res.close()\n",
    "    return num_res\n",
    "    "
   ]
  },
  {
   "cell_type": "code",
   "execution_count": 11,
   "metadata": {},
   "outputs": [],
   "source": [
    "# download_data(start, num, 'atti_giunta', year, from_number, to_number)"
   ]
  },
  {
   "cell_type": "code",
   "execution_count": 12,
   "metadata": {},
   "outputs": [
    {
     "name": "stdout",
     "output_type": "stream",
     "text": [
      "[1998, 1999, 2000, 2001, 2002, 2003, 2004, 2005, 2006, 2007, 2008, 2009, 2010, 2011, 2012, 2013, 2014, 2015, 2016, 2017, 2018]\n"
     ]
    }
   ],
   "source": [
    "years = list(range(1998,2019))\n",
    "print(years)"
   ]
  },
  {
   "cell_type": "code",
   "execution_count": 13,
   "metadata": {
    "scrolled": false
   },
   "outputs": [
    {
     "name": "stderr",
     "output_type": "stream",
     "text": [
      "2018-03-11 12:50:31,218 - crawler_application - INFO - start crawling document of type atti_dirigenti for the year 1998\n",
      "2018-03-11 12:50:31,219 - crawler_application - INFO - start 0, num 200, act_name atti_dirigenti, year 1998, from_number 0, to_number 200\n",
      "2018-03-11 12:50:31,220 - crawler_application - DEBUG - sleeping 2 seconds\n",
      "2018-03-11 12:50:37,225 - crawler_application - INFO - requesting url http://www.regione.toscana.it/bancadati/search?site=atti&client=fend_json&output=xml_no_dtd&getfields=*&ulang=it&ie=UTF-8&proxystylesheet=fend_json&start=0&num=201&filter=0&rc=1&q=inmeta%3AID_TIPO_PRATICA%3DMON+AND+inmeta%3ADATA_ATTO%3A1998-01-01..1998-12-31+AND+inmeta%3ANUMERO%3A0..200+AND+inmeta%3AALLEGATO_DESCRIZIONE%3Dvoid&sort=meta%3ACODICE_PRATICA%3AA\n",
      "2018-03-11 12:50:37,322 - crawler_application - INFO - got status 200 for url http://www.regione.toscana.it/bancadati/search?site=atti&client=fend_json&output=xml_no_dtd&getfields=*&ulang=it&ie=UTF-8&proxystylesheet=fend_json&start=0&num=201&filter=0&rc=1&q=inmeta%3AID_TIPO_PRATICA%3DMON+AND+inmeta%3ADATA_ATTO%3A1998-01-01..1998-12-31+AND+inmeta%3ANUMERO%3A0..200+AND+inmeta%3AALLEGATO_DESCRIZIONE%3Dvoid&sort=meta%3ACODICE_PRATICA%3AA\n",
      "2018-03-11 12:50:37,324 - crawler_application - ERROR - no results skipped http://www.regione.toscana.it/bancadati/search?site=atti&client=fend_json&output=xml_no_dtd&getfields=*&ulang=it&ie=UTF-8&proxystylesheet=fend_json&start=0&num=201&filter=0&rc=1&q=inmeta%3AID_TIPO_PRATICA%3DMON+AND+inmeta%3ADATA_ATTO%3A1998-01-01..1998-12-31+AND+inmeta%3ANUMERO%3A0..200+AND+inmeta%3AALLEGATO_DESCRIZIONE%3Dvoid&sort=meta%3ACODICE_PRATICA%3AA \n",
      " {'GSP': {'script_report_load': '/click?&q=inmeta%3AID_TIPO_PRATICA%253DMON%2BAND%2Binmeta%3ADATA_ATTO%3A1998-01-01..1998-12-31%2BAND%2Binmeta%3ANUMERO%3A0..200%2BAND%2Binmeta%3AALLEGATO_DESCRIZIONE%253Dvoid&ct=load&s=0&site=atti', 'TM': '0.006462', 'Q': 'inmeta:ID_TIPO_PRATICA=MON AND inmeta:DATA_ATTO:1998-01-01..1998-12-31 AND inmeta:NUMERO:0..200 AND inmeta:ALLEGATO_DESCRIZIONE=void', 'PARAM': [{'site': {'value': 'atti', 'original_value': 'atti'}, 'client': {'value': 'fend_json', 'original_value': 'fend_json'}, 'output': {'value': 'xml_no_dtd', 'original_value': 'xml_no_dtd'}, 'getfields': {'value': '*', 'original_value': '*'}, 'ulang': {'value': '', 'original_value': ''}, 'ie': {'value': 'UTF-8', 'original_value': 'UTF-8'}, 'proxystylesheet': {'value': 'fend_json', 'original_value': 'fend_json'}, 'start': {'value': '0', 'original_value': '0'}, 'num': {'value': '201', 'original_value': '201'}, 'filter': {'value': '0', 'original_value': '0'}, 'rc': {'value': '1', 'original_value': '1'}, 'q': {'value': 'inmeta:ID_TIPO_PRATICA=MON AND inmeta:DATA_ATTO:1998-01-01..1998-12-31 AND inmeta:NUMERO:0..200 AND inmeta:ALLEGATO_DESCRIZIONE=void', 'original_value': 'inmeta:ID_TIPO_PRATICA%3DMON+AND+inmeta:DATA_ATTO:1998-01-01..1998-12-31+AND+inmeta:NUMERO:0..200+AND+inmeta:ALLEGATO_DESCRIZIONE%3Dvoid'}, 'sort': {'value': 'meta:CODICE_PRATICA:A', 'original_value': 'meta:CODICE_PRATICA:A'}, 'ip': {'value': '93.42.68.205', 'original_value': '93.42.68.205'}, 'access': {'value': 'p', 'original_value': 'p'}, 'entqr': {'value': '3', 'original_value': '3'}, 'entqrm': {'value': '0', 'original_value': '0'}, 'wc': {'value': '200', 'original_value': '200'}, 'wc_mc': {'value': '1', 'original_value': '1'}, 'oe': {'value': 'UTF-8', 'original_value': 'UTF-8'}, 'ud': {'value': '1', 'original_value': '1'}}]}}\n",
      "2018-03-11 12:50:37,326 - crawler_application - INFO - end crawling document of type atti_dirigenti for the year 1998 total number 0\n",
      "2018-03-11 12:50:37,327 - crawler_application - INFO - start crawling document of type atti_dirigenti for the year 1999\n",
      "2018-03-11 12:50:37,329 - crawler_application - INFO - start 0, num 200, act_name atti_dirigenti, year 1999, from_number 0, to_number 200\n",
      "2018-03-11 12:50:37,330 - crawler_application - DEBUG - sleeping 5 seconds\n",
      "2018-03-11 12:50:55,331 - crawler_application - INFO - requesting url http://www.regione.toscana.it/bancadati/search?site=atti&client=fend_json&output=xml_no_dtd&getfields=*&ulang=it&ie=UTF-8&proxystylesheet=fend_json&start=0&num=201&filter=0&rc=1&q=inmeta%3AID_TIPO_PRATICA%3DMON+AND+inmeta%3ADATA_ATTO%3A1999-01-01..1999-12-31+AND+inmeta%3ANUMERO%3A0..200+AND+inmeta%3AALLEGATO_DESCRIZIONE%3Dvoid&sort=meta%3ACODICE_PRATICA%3AA\n",
      "2018-03-11 12:50:55,444 - crawler_application - INFO - got status 200 for url http://www.regione.toscana.it/bancadati/search?site=atti&client=fend_json&output=xml_no_dtd&getfields=*&ulang=it&ie=UTF-8&proxystylesheet=fend_json&start=0&num=201&filter=0&rc=1&q=inmeta%3AID_TIPO_PRATICA%3DMON+AND+inmeta%3ADATA_ATTO%3A1999-01-01..1999-12-31+AND+inmeta%3ANUMERO%3A0..200+AND+inmeta%3AALLEGATO_DESCRIZIONE%3Dvoid&sort=meta%3ACODICE_PRATICA%3AA\n",
      "2018-03-11 12:50:55,446 - crawler_application - ERROR - no results skipped http://www.regione.toscana.it/bancadati/search?site=atti&client=fend_json&output=xml_no_dtd&getfields=*&ulang=it&ie=UTF-8&proxystylesheet=fend_json&start=0&num=201&filter=0&rc=1&q=inmeta%3AID_TIPO_PRATICA%3DMON+AND+inmeta%3ADATA_ATTO%3A1999-01-01..1999-12-31+AND+inmeta%3ANUMERO%3A0..200+AND+inmeta%3AALLEGATO_DESCRIZIONE%3Dvoid&sort=meta%3ACODICE_PRATICA%3AA \n",
      " {'GSP': {'script_report_load': '/click?&q=inmeta%3AID_TIPO_PRATICA%253DMON%2BAND%2Binmeta%3ADATA_ATTO%3A1999-01-01..1999-12-31%2BAND%2Binmeta%3ANUMERO%3A0..200%2BAND%2Binmeta%3AALLEGATO_DESCRIZIONE%253Dvoid&ct=load&s=0&site=atti', 'TM': '0.032382', 'Q': 'inmeta:ID_TIPO_PRATICA=MON AND inmeta:DATA_ATTO:1999-01-01..1999-12-31 AND inmeta:NUMERO:0..200 AND inmeta:ALLEGATO_DESCRIZIONE=void', 'PARAM': [{'site': {'value': 'atti', 'original_value': 'atti'}, 'client': {'value': 'fend_json', 'original_value': 'fend_json'}, 'output': {'value': 'xml_no_dtd', 'original_value': 'xml_no_dtd'}, 'getfields': {'value': '*', 'original_value': '*'}, 'ulang': {'value': '', 'original_value': ''}, 'ie': {'value': 'UTF-8', 'original_value': 'UTF-8'}, 'proxystylesheet': {'value': 'fend_json', 'original_value': 'fend_json'}, 'start': {'value': '0', 'original_value': '0'}, 'num': {'value': '201', 'original_value': '201'}, 'filter': {'value': '0', 'original_value': '0'}, 'rc': {'value': '1', 'original_value': '1'}, 'q': {'value': 'inmeta:ID_TIPO_PRATICA=MON AND inmeta:DATA_ATTO:1999-01-01..1999-12-31 AND inmeta:NUMERO:0..200 AND inmeta:ALLEGATO_DESCRIZIONE=void', 'original_value': 'inmeta:ID_TIPO_PRATICA%3DMON+AND+inmeta:DATA_ATTO:1999-01-01..1999-12-31+AND+inmeta:NUMERO:0..200+AND+inmeta:ALLEGATO_DESCRIZIONE%3Dvoid'}, 'sort': {'value': 'meta:CODICE_PRATICA:A', 'original_value': 'meta:CODICE_PRATICA:A'}, 'ip': {'value': '93.42.68.205', 'original_value': '93.42.68.205'}, 'access': {'value': 'p', 'original_value': 'p'}, 'entqr': {'value': '3', 'original_value': '3'}, 'entqrm': {'value': '0', 'original_value': '0'}, 'wc': {'value': '200', 'original_value': '200'}, 'wc_mc': {'value': '1', 'original_value': '1'}, 'oe': {'value': 'UTF-8', 'original_value': 'UTF-8'}, 'ud': {'value': '1', 'original_value': '1'}}]}}\n",
      "2018-03-11 12:50:55,448 - crawler_application - INFO - end crawling document of type atti_dirigenti for the year 1999 total number 0\n",
      "2018-03-11 12:50:55,449 - crawler_application - INFO - start crawling document of type atti_dirigenti for the year 2000\n",
      "2018-03-11 12:50:55,451 - crawler_application - INFO - start 0, num 200, act_name atti_dirigenti, year 2000, from_number 0, to_number 200\n",
      "2018-03-11 12:50:55,453 - crawler_application - DEBUG - sleeping 5 seconds\n",
      "2018-03-11 12:51:00,460 - crawler_application - INFO - requesting url http://www.regione.toscana.it/bancadati/search?site=atti&client=fend_json&output=xml_no_dtd&getfields=*&ulang=it&ie=UTF-8&proxystylesheet=fend_json&start=0&num=201&filter=0&rc=1&q=inmeta%3AID_TIPO_PRATICA%3DMON+AND+inmeta%3ADATA_ATTO%3A2000-01-01..2000-12-31+AND+inmeta%3ANUMERO%3A0..200+AND+inmeta%3AALLEGATO_DESCRIZIONE%3Dvoid&sort=meta%3ACODICE_PRATICA%3AA\n",
      "2018-03-11 12:51:01,259 - crawler_application - INFO - got status 200 for url http://www.regione.toscana.it/bancadati/search?site=atti&client=fend_json&output=xml_no_dtd&getfields=*&ulang=it&ie=UTF-8&proxystylesheet=fend_json&start=0&num=201&filter=0&rc=1&q=inmeta%3AID_TIPO_PRATICA%3DMON+AND+inmeta%3ADATA_ATTO%3A2000-01-01..2000-12-31+AND+inmeta%3ANUMERO%3A0..200+AND+inmeta%3AALLEGATO_DESCRIZIONE%3Dvoid&sort=meta%3ACODICE_PRATICA%3AA\n"
     ]
    },
    {
     "name": "stderr",
     "output_type": "stream",
     "text": [
      "2018-03-11 12:51:01,276 - crawler_application - INFO - saved result in regione-toscana/regione-toscana-result-type_atti_dirigenti-year_2000-from_0-to_200.json\n",
      "2018-03-11 12:51:01,279 - crawler_application - INFO - start 0, num 200, act_name atti_dirigenti, year 2000, from_number 200, to_number 400\n",
      "2018-03-11 12:51:01,281 - crawler_application - DEBUG - sleeping 2 seconds\n",
      "2018-03-11 12:51:10,291 - crawler_application - INFO - requesting url http://www.regione.toscana.it/bancadati/search?site=atti&client=fend_json&output=xml_no_dtd&getfields=*&ulang=it&ie=UTF-8&proxystylesheet=fend_json&start=0&num=201&filter=0&rc=1&q=inmeta%3AID_TIPO_PRATICA%3DMON+AND+inmeta%3ADATA_ATTO%3A2000-01-01..2000-12-31+AND+inmeta%3ANUMERO%3A200..400+AND+inmeta%3AALLEGATO_DESCRIZIONE%3Dvoid&sort=meta%3ACODICE_PRATICA%3AA\n",
      "2018-03-11 12:51:11,107 - crawler_application - INFO - got status 200 for url http://www.regione.toscana.it/bancadati/search?site=atti&client=fend_json&output=xml_no_dtd&getfields=*&ulang=it&ie=UTF-8&proxystylesheet=fend_json&start=0&num=201&filter=0&rc=1&q=inmeta%3AID_TIPO_PRATICA%3DMON+AND+inmeta%3ADATA_ATTO%3A2000-01-01..2000-12-31+AND+inmeta%3ANUMERO%3A200..400+AND+inmeta%3AALLEGATO_DESCRIZIONE%3Dvoid&sort=meta%3ACODICE_PRATICA%3AA\n",
      "2018-03-11 12:51:11,123 - crawler_application - INFO - saved result in regione-toscana/regione-toscana-result-type_atti_dirigenti-year_2000-from_200-to_400.json\n",
      "2018-03-11 12:51:11,170 - crawler_application - INFO - start 0, num 200, act_name atti_dirigenti, year 2000, from_number 400, to_number 600\n",
      "2018-03-11 12:51:11,172 - crawler_application - DEBUG - sleeping 5 seconds\n",
      "2018-03-11 12:51:29,191 - crawler_application - INFO - requesting url http://www.regione.toscana.it/bancadati/search?site=atti&client=fend_json&output=xml_no_dtd&getfields=*&ulang=it&ie=UTF-8&proxystylesheet=fend_json&start=0&num=201&filter=0&rc=1&q=inmeta%3AID_TIPO_PRATICA%3DMON+AND+inmeta%3ADATA_ATTO%3A2000-01-01..2000-12-31+AND+inmeta%3ANUMERO%3A400..600+AND+inmeta%3AALLEGATO_DESCRIZIONE%3Dvoid&sort=meta%3ACODICE_PRATICA%3AA\n",
      "2018-03-11 12:51:30,677 - crawler_application - INFO - got status 200 for url http://www.regione.toscana.it/bancadati/search?site=atti&client=fend_json&output=xml_no_dtd&getfields=*&ulang=it&ie=UTF-8&proxystylesheet=fend_json&start=0&num=201&filter=0&rc=1&q=inmeta%3AID_TIPO_PRATICA%3DMON+AND+inmeta%3ADATA_ATTO%3A2000-01-01..2000-12-31+AND+inmeta%3ANUMERO%3A400..600+AND+inmeta%3AALLEGATO_DESCRIZIONE%3Dvoid&sort=meta%3ACODICE_PRATICA%3AA\n",
      "2018-03-11 12:51:30,689 - crawler_application - INFO - saved result in regione-toscana/regione-toscana-result-type_atti_dirigenti-year_2000-from_400-to_600.json\n",
      "2018-03-11 12:51:30,690 - crawler_application - INFO - start 0, num 200, act_name atti_dirigenti, year 2000, from_number 600, to_number 800\n",
      "2018-03-11 12:51:30,690 - crawler_application - DEBUG - sleeping 2 seconds\n"
     ]
    },
    {
     "ename": "KeyboardInterrupt",
     "evalue": "",
     "output_type": "error",
     "traceback": [
      "\u001b[0;31m---------------------------------------------------------------------------\u001b[0m",
      "\u001b[0;31mKeyboardInterrupt\u001b[0m                         Traceback (most recent call last)",
      "\u001b[0;32m<ipython-input-13-bf4343b07a21>\u001b[0m in \u001b[0;36m<module>\u001b[0;34m()\u001b[0m\n\u001b[1;32m      9\u001b[0m         \u001b[0mto_number\u001b[0m \u001b[0;34m=\u001b[0m \u001b[0;36m200\u001b[0m\u001b[0;34m\u001b[0m\u001b[0m\n\u001b[1;32m     10\u001b[0m         \u001b[0;32mwhile\u001b[0m \u001b[0mnum_records\u001b[0m \u001b[0;34m>\u001b[0m \u001b[0;36m0\u001b[0m\u001b[0;34m:\u001b[0m\u001b[0;34m\u001b[0m\u001b[0m\n\u001b[0;32m---> 11\u001b[0;31m             \u001b[0mnum_records\u001b[0m \u001b[0;34m=\u001b[0m \u001b[0mdownload_data\u001b[0m\u001b[0;34m(\u001b[0m\u001b[0mstart\u001b[0m\u001b[0;34m,\u001b[0m \u001b[0mnum\u001b[0m\u001b[0;34m,\u001b[0m \u001b[0mact_name\u001b[0m\u001b[0;34m,\u001b[0m \u001b[0myear\u001b[0m\u001b[0;34m,\u001b[0m \u001b[0mfrom_number\u001b[0m\u001b[0;34m,\u001b[0m \u001b[0mto_number\u001b[0m\u001b[0;34m)\u001b[0m\u001b[0;34m\u001b[0m\u001b[0m\n\u001b[0m\u001b[1;32m     12\u001b[0m             \u001b[0mcounter\u001b[0m \u001b[0;34m+=\u001b[0m \u001b[0mnum_records\u001b[0m\u001b[0;34m\u001b[0m\u001b[0m\n\u001b[1;32m     13\u001b[0m             \u001b[0mfrom_number\u001b[0m \u001b[0;34m=\u001b[0m \u001b[0mto_number\u001b[0m\u001b[0;34m\u001b[0m\u001b[0m\n",
      "\u001b[0;32m<ipython-input-10-10e0333f5877>\u001b[0m in \u001b[0;36mdownload_data\u001b[0;34m(start, num, act_name, year, from_number, to_number)\u001b[0m\n\u001b[1;32m      5\u001b[0m     \u001b[0msleep_time\u001b[0m \u001b[0;34m=\u001b[0m \u001b[0mrandom\u001b[0m\u001b[0;34m.\u001b[0m\u001b[0mrandint\u001b[0m\u001b[0;34m(\u001b[0m\u001b[0;36m2\u001b[0m\u001b[0;34m,\u001b[0m\u001b[0;36m5\u001b[0m\u001b[0;34m)\u001b[0m\u001b[0;34m\u001b[0m\u001b[0m\n\u001b[1;32m      6\u001b[0m     \u001b[0mlog\u001b[0m\u001b[0;34m.\u001b[0m\u001b[0mdebug\u001b[0m\u001b[0;34m(\u001b[0m\u001b[0;34m'sleeping {} seconds'\u001b[0m\u001b[0;34m.\u001b[0m\u001b[0mformat\u001b[0m\u001b[0;34m(\u001b[0m\u001b[0msleep_time\u001b[0m\u001b[0;34m)\u001b[0m\u001b[0;34m)\u001b[0m\u001b[0;34m\u001b[0m\u001b[0m\n\u001b[0;32m----> 7\u001b[0;31m     \u001b[0mtime\u001b[0m\u001b[0;34m.\u001b[0m\u001b[0msleep\u001b[0m\u001b[0;34m(\u001b[0m\u001b[0mrandom\u001b[0m\u001b[0;34m.\u001b[0m\u001b[0mrandint\u001b[0m\u001b[0;34m(\u001b[0m\u001b[0;36m5\u001b[0m\u001b[0;34m,\u001b[0m\u001b[0;36m20\u001b[0m\u001b[0;34m)\u001b[0m\u001b[0;34m)\u001b[0m\u001b[0;34m\u001b[0m\u001b[0m\n\u001b[0m\u001b[1;32m      8\u001b[0m \u001b[0;34m\u001b[0m\u001b[0m\n\u001b[1;32m      9\u001b[0m     \u001b[0murl\u001b[0m \u001b[0;34m=\u001b[0m \u001b[0mquery\u001b[0m\u001b[0;34m.\u001b[0m\u001b[0mformat\u001b[0m\u001b[0;34m(\u001b[0m\u001b[0mstart\u001b[0m\u001b[0;34m,\u001b[0m \u001b[0mnum\u001b[0m \u001b[0;34m+\u001b[0m \u001b[0;36m1\u001b[0m\u001b[0;34m,\u001b[0m \u001b[0mact_types\u001b[0m\u001b[0;34m[\u001b[0m\u001b[0mact_name\u001b[0m\u001b[0;34m]\u001b[0m\u001b[0;34m,\u001b[0m \u001b[0myear\u001b[0m\u001b[0;34m,\u001b[0m \u001b[0myear\u001b[0m\u001b[0;34m,\u001b[0m \u001b[0mfrom_number\u001b[0m\u001b[0;34m,\u001b[0m \u001b[0mto_number\u001b[0m\u001b[0;34m)\u001b[0m\u001b[0;34m\u001b[0m\u001b[0m\n",
      "\u001b[0;31mKeyboardInterrupt\u001b[0m: "
     ]
    }
   ],
   "source": [
    "for act_name in act_types.keys():\n",
    "    counter = 0\n",
    "    for year in years:\n",
    "        log.info('start crawling document of type {} for the year {}'.format(act_name, year))\n",
    "        num_records = 1\n",
    "        start = 0\n",
    "        num = 200\n",
    "        from_number = 0\n",
    "        to_number = 200\n",
    "        while num_records > 0:\n",
    "            num_records = download_data(start, num, act_name, year, from_number, to_number)\n",
    "            counter += num_records\n",
    "            from_number = to_number\n",
    "            to_number += num\n",
    "        log.info('end crawling document of type {} for the year {} total number {}'.format(act_name, year, counter))        "
   ]
  },
  {
   "cell_type": "code",
   "execution_count": null,
   "metadata": {},
   "outputs": [],
   "source": [
    "http_pool.clear()"
   ]
  },
  {
   "cell_type": "code",
   "execution_count": null,
   "metadata": {},
   "outputs": [],
   "source": []
  }
 ],
 "metadata": {
  "kernelspec": {
   "display_name": "Python 3",
   "language": "python",
   "name": "python3"
  },
  "language_info": {
   "codemirror_mode": {
    "name": "ipython",
    "version": 3
   },
   "file_extension": ".py",
   "mimetype": "text/x-python",
   "name": "python",
   "nbconvert_exporter": "python",
   "pygments_lexer": "ipython3",
   "version": "3.6.5"
  }
 },
 "nbformat": 4,
 "nbformat_minor": 2
}
