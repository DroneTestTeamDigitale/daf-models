{
 "cells": [
  {
   "cell_type": "code",
   "execution_count": 1,
   "metadata": {},
   "outputs": [
    {
     "name": "stdout",
     "output_type": "stream",
     "text": [
      "[nltk_data] Downloading package stopwords to /home/fabio/nltk_data...\n",
      "[nltk_data]   Package stopwords is already up-to-date!\n",
      "[nltk_data] Downloading package punkt to /home/fabio/nltk_data...\n",
      "[nltk_data]   Package punkt is already up-to-date!\n"
     ]
    },
    {
     "data": {
      "text/plain": [
       "True"
      ]
     },
     "execution_count": 1,
     "metadata": {},
     "output_type": "execute_result"
    }
   ],
   "source": [
    "import numpy as np\n",
    "import json\n",
    "\n",
    "import nltk\n",
    "from nltk.corpus import stopwords\n",
    "import string\n",
    "\n",
    "nltk.download('stopwords')\n",
    "nltk.download('punkt')"
   ]
  },
  {
   "cell_type": "code",
   "execution_count": 2,
   "metadata": {},
   "outputs": [],
   "source": [
    "pad_char = 0\n",
    "start_char=1\n",
    "oov_char=2\n",
    "index_from=3"
   ]
  },
  {
   "cell_type": "code",
   "execution_count": 3,
   "metadata": {},
   "outputs": [],
   "source": [
    "def get_stopwords(): \n",
    "    punctuation = [c for c in string.punctuation]\n",
    "    punctuation += [',','.','-', '\"', \"'\", ':', ';', '(', ')', '[', ']', '{', '}', '’', '”', '“', '``', \"''\", '–']\n",
    "    stop_words = set(stopwords.words('italian'))\n",
    "    stop_words.update(punctuation)\n",
    "    return stop_words"
   ]
  },
  {
   "cell_type": "code",
   "execution_count": 4,
   "metadata": {},
   "outputs": [],
   "source": [
    "assert len(get_stopwords()) > 0"
   ]
  },
  {
   "cell_type": "code",
   "execution_count": 5,
   "metadata": {},
   "outputs": [],
   "source": [
    "def get_word_index(path='data_dirigenti_word_index.json'):\n",
    "    with open(path, 'r') as f: \n",
    "        word_index = json.load(f)\n",
    "    return word_index"
   ]
  },
  {
   "cell_type": "code",
   "execution_count": 6,
   "metadata": {},
   "outputs": [],
   "source": [
    "word_index = get_word_index()\n",
    "assert len(word_index) > 0"
   ]
  },
  {
   "cell_type": "code",
   "execution_count": 7,
   "metadata": {},
   "outputs": [],
   "source": [
    "def get_most_common_words(path='data_dirigenti_most_common.json'):\n",
    "    with open(path, 'r') as f:\n",
    "        most_commons = json.load(f)\n",
    "    return most_commons"
   ]
  },
  {
   "cell_type": "code",
   "execution_count": 8,
   "metadata": {},
   "outputs": [],
   "source": [
    "def select_indexes_(x,y, idx_words):\n",
    "    x_new = []\n",
    "    y_new = []\n",
    "    for sample,label in zip(x, y):\n",
    "        sequence = [ w if w in idx_words else oov_char for w in sample]\n",
    "        if not np.all(sequence == oov_char):\n",
    "            x_new.append(sequence)\n",
    "            y_new.append(label)\n",
    "    return x_new, y_new"
   ]
  },
  {
   "cell_type": "code",
   "execution_count": 9,
   "metadata": {},
   "outputs": [],
   "source": [
    "def load_data(path='data_dirigenti.npz', num_words=None, skip_top=0, \n",
    "              remove_stopwords=False, seed=11235):\n",
    "    np.random.seed(seed)\n",
    "    \n",
    "    #add download path from a remote\n",
    "    \n",
    "    #load most_common words\n",
    "    most_common = get_most_common_words()\n",
    "    word_index = get_word_index()\n",
    "    stop_words = get_stopwords()\n",
    "    \n",
    "    if remove_stopwords:\n",
    "        most_common = [(k,v) for k,v in most_common if k not in stop_words]\n",
    "    \n",
    "    if skip_top > 0:\n",
    "        most_common = most_common[skip_top:]\n",
    "        \n",
    "    #take only the top k words\n",
    "    if num_words:\n",
    "        most_common=most_common[:num_words]\n",
    "    \n",
    "\n",
    "    most_common_selected = set([k for k,v in most_common])\n",
    "    \n",
    "    index_word_selected = { word_index[w]:w for w in most_common_selected}\n",
    "    \n",
    "    with np.load(path) as loaded:\n",
    "        x_train, y_train = loaded['x_train'], loaded['y_train']\n",
    "        x_val, y_val = loaded['x_val'], loaded['y_val']\n",
    "        x_test, y_test = loaded['x_test'], loaded['y_test']  \n",
    "    \n",
    "    x_train_new, y_train_new = select_indexes_(x_train, y_train, index_word_selected)\n",
    "    x_val_new, y_val_new = select_indexes_(x_val, y_val, index_word_selected)\n",
    "    x_test_new, y_test_new = select_indexes_(x_test, y_test, index_word_selected)\n",
    "    \n",
    "    return (np.array(x_train_new), np.array(y_train_new)), (np.array(x_val_new), np.array(y_val_new)), (np.array(x_test_new), np.array(y_test_new))\n"
   ]
  },
  {
   "cell_type": "code",
   "execution_count": 10,
   "metadata": {},
   "outputs": [],
   "source": [
    "(x_train_new, y_train_new), (x_val_new, y_val_new), (x_test_new, y_test_new) = load_data(num_words=10000, remove_stopwords=False)"
   ]
  },
  {
   "cell_type": "code",
   "execution_count": 11,
   "metadata": {},
   "outputs": [
    {
     "data": {
      "text/plain": [
       "(99390,)"
      ]
     },
     "execution_count": 11,
     "metadata": {},
     "output_type": "execute_result"
    }
   ],
   "source": [
    "x_train_new.shape"
   ]
  },
  {
   "cell_type": "code",
   "execution_count": 12,
   "metadata": {},
   "outputs": [],
   "source": [
    "word_index = get_word_index()\n",
    "index_word = {v:k for k,v in word_index.items()}"
   ]
  },
  {
   "cell_type": "code",
   "execution_count": 13,
   "metadata": {},
   "outputs": [
    {
     "name": "stdout",
     "output_type": "stream",
     "text": [
      "d.p.g.r . n° 33/r del 26/07/2011 e s.m.i . sig . ? luca - appostamento fisso di caccia a minuta selvaggina fascicolo ? . autorizzazione al trasferimento di titolarità .\n",
      "approvazione schema di convenzione tra la regione toscana e artigiancredito toscano scrl , relativo alla costituzione e gestione del fondo previsto dalla misura 1.6 , azione 1.6.2 `` creazione di pmi da parte di donne '' per le imprese del settore dell artigianato . impegno di spesa .\n",
      "l.r.3/94 autorizzazione nuovo appostamento fisso di caccia ? alla minuta selvaggina . ? fabrizio .\n",
      "missione a bruxelles nei giorni 27 e 28 marzo 2003 del dirigente claudio del re - autorizzazione e impegno di spesa\n",
      "l.r . 1/06 ; delib . cr 3/12 ; delib . gr 538/13 e s.m . piano regionale agricolo forestale ( praf ) misura a.2.9 , azione a ) - annualità 2013 . liquidazione del contributo a favore a favore della pro loco santa croce sull ’ arno per la realizzazione della manifestazione “ i giorni dell ’ ? ” che si terrà a ? sull ’ arno nei giorni 7 e 8 dicembre 2013\n",
      "l.r . 3/94 - fondo da erogare alle amministrazioni comunali per le funzioni delegate . anno 2002 . impegno e liquidazione 50 % delle somme assegnate .\n",
      "modifica del decreto dirigenziale n. ? - reg . ( ce ) n. 1198/2006 . fondo europeo per la pesca ( fep ) 2007-2013 . delibera g.r . ? . approvazione della graduatoria 2011 relativa alla misura 2.2 `` pesca nelle ? `` ; impegno risorse in favore dell artea .\n",
      "articolazione regionale toscana dell elenco nazionale di tecnici ed esperti degli oli di oliva vergini ed extravergini . iscrizione di n 6 soggetti .\n",
      "l. 265/95 art . 1 - comune di poggio a caiano - autorizzazione all utilizzo delle economie conseguite nel corso dell affidamento dei lavori corrispondenti a quelli individuati con il n. 13 nell allegato 1 del piano regionale di cui alla d.g.r.t . n. 815/96 -\n",
      "andrea ? stabilimento/attività in comune di pienza - siena , s.p . 146 località podere ? . autorizzazione unica ambientale ai sensi dell ’ art . 4 del d.p.r . n. 59/2013 . riferimento suap u.c . amiata ? ? del ? .\n"
     ]
    }
   ],
   "source": [
    "for i in range(10):\n",
    "    obj = [index_word[i] if i in index_word else '?' for i in x_train_new[i]]\n",
    "    print(' '.join(obj))"
   ]
  },
  {
   "cell_type": "code",
   "execution_count": null,
   "metadata": {},
   "outputs": [],
   "source": []
  }
 ],
 "metadata": {
  "kernelspec": {
   "display_name": "Python 3",
   "language": "python",
   "name": "python3"
  },
  "language_info": {
   "codemirror_mode": {
    "name": "ipython",
    "version": 3
   },
   "file_extension": ".py",
   "mimetype": "text/x-python",
   "name": "python",
   "nbconvert_exporter": "python",
   "pygments_lexer": "ipython3",
   "version": "3.6.5"
  }
 },
 "nbformat": 4,
 "nbformat_minor": 2
}
