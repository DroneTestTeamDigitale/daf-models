{
 "cells": [
  {
   "cell_type": "markdown",
   "metadata": {},
   "source": [
    "# Protocollo Vectorization into Words\n"
   ]
  },
  {
   "cell_type": "code",
   "execution_count": 1,
   "metadata": {},
   "outputs": [],
   "source": [
    "import random\n",
    "import json\n",
    "\n",
    "random.seed(12345)"
   ]
  },
  {
   "cell_type": "code",
   "execution_count": 2,
   "metadata": {},
   "outputs": [],
   "source": [
    "input_filename = './protocollo_2017.csv'\n",
    "output_filename = './protocollo_2017_vectorized.csv'"
   ]
  },
  {
   "cell_type": "code",
   "execution_count": 3,
   "metadata": {},
   "outputs": [],
   "source": [
    "def read_data(input_path, separator=\",\", contains_header=False):\n",
    "    with open(input_filename, 'r') as f:\n",
    "        lines = f.read().splitlines()\n",
    "    \n",
    "    if contains_header:\n",
    "        headers = lines[0].split(separator)\n",
    "        lines = lines[1:]\n",
    "    else:\n",
    "        headers = []\n",
    "    \n",
    "    data = [l.split(separator) for l in lines]\n",
    "    return headers, data"
   ]
  },
  {
   "cell_type": "code",
   "execution_count": 4,
   "metadata": {},
   "outputs": [],
   "source": [
    "headers, data = read_data(input_filename, separator=\"|\", contains_header=True)"
   ]
  },
  {
   "cell_type": "code",
   "execution_count": 5,
   "metadata": {},
   "outputs": [
    {
     "data": {
      "text/plain": [
       "['ANNO', 'NUMERO', 'OGGETTO', 'CLASSIFICA']"
      ]
     },
     "execution_count": 5,
     "metadata": {},
     "output_type": "execute_result"
    }
   ],
   "source": [
    "headers"
   ]
  },
  {
   "cell_type": "code",
   "execution_count": 6,
   "metadata": {},
   "outputs": [
    {
     "data": {
      "text/plain": [
       "[['2017', '6', '\"agli APE 2016_12_28_02267130488_006\"', '\"P\"'],\n",
       " ['2017', '6', '\"ape condominio via pa\"', '\"P\"'],\n",
       " ['2017', '6', '\"APE 2016_12_28_02267130488_006\"', '\"P\"'],\n",
       " ['2017', '6', '\"APE 2016_12_28_02267130488_006\"', '\"P\"'],\n",
       " ['2017', '6', '\"APE 2016_12_28_02267130488_006\"', '\"P\"']]"
      ]
     },
     "execution_count": 6,
     "metadata": {},
     "output_type": "execute_result"
    }
   ],
   "source": [
    "data"
   ]
  },
  {
   "cell_type": "markdown",
   "metadata": {},
   "source": [
    "Now we need to process the `OGGETTO` column\n",
    "\n",
    "## Preprocessing\n",
    "\n",
    "- filters: list (or concatenation) of characters to filter out, such as punctuation. Default: '!\"#$%&()*+,-./:;<=>?@[\\]^_`{|}~\\t\\n' , includes basic punctuation, tabs, and newlines. These are replaced with spaces.\n",
    "- split by space\n",
    "- replace words with integers\n",
    "- save the new dataset with id and the dictionary used for the mapping\n",
    "\n",
    "Define the list of transformation to apply:"
   ]
  },
  {
   "cell_type": "code",
   "execution_count": 7,
   "metadata": {},
   "outputs": [],
   "source": [
    "def preprocess(text,\n",
    "               filters='!\"#$%&()*+,-./:;<=>?@[\\\\]^_`{|}~\\t\\n',\n",
    "               lower=True, split = ' '):\n",
    "    \"\"\"apply the transformations to the given text.\n",
    "\n",
    "    # Arguments\n",
    "        text: Input text (string).\n",
    "        filters: Sequence of characters to filter out.\n",
    "        lower: Whether to convert the input to lowercase.\n",
    "        split: Sentence split marker (string).\n",
    "        \n",
    "        return a string of token separated by split\n",
    "    \"\"\"\n",
    "    translate_map = str.maketrans(filters, split * len(filters))\n",
    "    text = text.translate(translate_map)\n",
    "    \n",
    "    return text.strip()"
   ]
  },
  {
   "cell_type": "code",
   "execution_count": 8,
   "metadata": {},
   "outputs": [],
   "source": [
    "def preprocess_dataset(data, column=2):\n",
    "    data_processed = []\n",
    "    for v in data:\n",
    "        v[column] = preprocess(v[column])\n",
    "        data_processed.append(v)\n",
    "    return data_processed"
   ]
  },
  {
   "cell_type": "code",
   "execution_count": 9,
   "metadata": {},
   "outputs": [
    {
     "data": {
      "text/plain": [
       "[['2017', '6', 'agli APE 2016 12 28 02267130488 006', 'P'],\n",
       " ['2017', '6', 'ape condominio via pa', 'P'],\n",
       " ['2017', '6', 'APE 2016 12 28 02267130488 006', 'P'],\n",
       " ['2017', '6', 'APE 2016 12 28 02267130488 006', 'P'],\n",
       " ['2017', '6', 'APE 2016 12 28 02267130488 006', 'P']]"
      ]
     },
     "execution_count": 9,
     "metadata": {},
     "output_type": "execute_result"
    }
   ],
   "source": [
    "data_processed = preprocess_dataset(data, column=2)\n",
    "data_processed = preprocess_dataset(data, column=3)\n",
    "data_processed"
   ]
  },
  {
   "cell_type": "markdown",
   "metadata": {},
   "source": [
    "Now we need to create the dictionary used for the token mapping. "
   ]
  },
  {
   "cell_type": "code",
   "execution_count": 10,
   "metadata": {},
   "outputs": [],
   "source": [
    "def extract_tokens_dict(data, column=2):\n",
    "    \"\"\"\n",
    "        return a pair (index_to_token, token_to_word)\n",
    "    \"\"\"\n",
    "    tokens = set()\n",
    "    for row in data:\n",
    "        for v in row[column].split(' '):\n",
    "            tokens.add(v)\n",
    "    random.shuffle(list(tokens))\n",
    "    \n",
    "    index_to_token = dict(enumerate(tokens))\n",
    "    index_to_token[len(index_to_token)] = 'UNK'\n",
    "    token_to_index = {v:k for k,v in index_to_token.items()}\n",
    "    return index_to_token, token_to_index"
   ]
  },
  {
   "cell_type": "code",
   "execution_count": 11,
   "metadata": {},
   "outputs": [],
   "source": [
    "index_to_token, token_to_index = extract_tokens_dict(data_processed)"
   ]
  },
  {
   "cell_type": "code",
   "execution_count": 12,
   "metadata": {},
   "outputs": [
    {
     "name": "stdout",
     "output_type": "stream",
     "text": [
      "{0: 'via', 1: '02267130488', 2: 'ape', 3: '12', 4: 'agli', 5: '006', 6: '28', 7: 'APE', 8: 'pa', 9: '2016', 10: 'condominio', 11: 'UNK'}\n",
      "{'via': 0, '02267130488': 1, 'ape': 2, '12': 3, 'agli': 4, '006': 5, '28': 6, 'APE': 7, 'pa': 8, '2016': 9, 'condominio': 10, 'UNK': 11}\n"
     ]
    }
   ],
   "source": [
    "print(index_to_token)\n",
    "print(token_to_index)"
   ]
  },
  {
   "cell_type": "markdown",
   "metadata": {},
   "source": [
    "## Save the dictionary mapping"
   ]
  },
  {
   "cell_type": "code",
   "execution_count": 13,
   "metadata": {},
   "outputs": [],
   "source": [
    "with open('index_to_token.json','w') as f:\n",
    "    json.dump(index_to_token,f)\n",
    "    \n",
    "with open('token_to_index.json', 'w') as f:\n",
    "    json.dump(token_to_index,f)"
   ]
  },
  {
   "cell_type": "markdown",
   "metadata": {},
   "source": [
    "### Update the CSV"
   ]
  },
  {
   "cell_type": "code",
   "execution_count": 14,
   "metadata": {},
   "outputs": [],
   "source": [
    "def vectorize(token_to_index, data, column=2):\n",
    "    data_transformed = []\n",
    "\n",
    "    for row in data:\n",
    "        transformed = [token_to_index[v] for v in row[column].split(' ') if v in token_to_index]\n",
    "        row[column] = ' '.join([str(x) for x in transformed])\n",
    "        data_transformed.append(row)\n",
    "    \n",
    "    return data_transformed"
   ]
  },
  {
   "cell_type": "code",
   "execution_count": 15,
   "metadata": {},
   "outputs": [],
   "source": [
    "data_transformed = vectorize(token_to_index, data)"
   ]
  },
  {
   "cell_type": "code",
   "execution_count": 16,
   "metadata": {},
   "outputs": [
    {
     "data": {
      "text/plain": [
       "[['2017', '6', '4 7 9 3 6 1 5', 'P'],\n",
       " ['2017', '6', '2 10 0 8', 'P'],\n",
       " ['2017', '6', '7 9 3 6 1 5', 'P'],\n",
       " ['2017', '6', '7 9 3 6 1 5', 'P'],\n",
       " ['2017', '6', '7 9 3 6 1 5', 'P']]"
      ]
     },
     "execution_count": 16,
     "metadata": {},
     "output_type": "execute_result"
    }
   ],
   "source": [
    "data_transformed"
   ]
  },
  {
   "cell_type": "code",
   "execution_count": 17,
   "metadata": {},
   "outputs": [],
   "source": [
    "with open(output_filename, 'w') as f:\n",
    "    for line in data_transformed:\n",
    "        f.write(','.join(line) + '\\n')"
   ]
  }
 ],
 "metadata": {
  "kernelspec": {
   "display_name": "Python 3",
   "language": "python",
   "name": "python3"
  },
  "language_info": {
   "codemirror_mode": {
    "name": "ipython",
    "version": 3
   },
   "file_extension": ".py",
   "mimetype": "text/x-python",
   "name": "python",
   "nbconvert_exporter": "python",
   "pygments_lexer": "ipython3",
   "version": "3.6.4"
  }
 },
 "nbformat": 4,
 "nbformat_minor": 2
}
