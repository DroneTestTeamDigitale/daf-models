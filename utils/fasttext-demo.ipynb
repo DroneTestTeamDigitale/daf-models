{
 "cells": [
  {
   "cell_type": "code",
   "execution_count": 1,
   "metadata": {},
   "outputs": [],
   "source": [
    "from gensim.models import KeyedVectors"
   ]
  },
  {
   "cell_type": "code",
   "execution_count": 14,
   "metadata": {},
   "outputs": [],
   "source": [
    "path = './cc.it.300.vec/data'"
   ]
  },
  {
   "cell_type": "code",
   "execution_count": 15,
   "metadata": {},
   "outputs": [],
   "source": [
    "model = KeyedVectors.load_word2vec_format(path, binary=False)"
   ]
  },
  {
   "cell_type": "code",
   "execution_count": 20,
   "metadata": {},
   "outputs": [
    {
     "data": {
      "text/plain": [
       "[('bellissimo', 0.7545822858810425),\n",
       " ('carino', 0.7525390982627869),\n",
       " ('stupendo', 0.736477255821228),\n",
       " ('meraviglioso', 0.7240342497825623),\n",
       " ('fantastico', 0.6946530342102051),\n",
       " ('brutto', 0.686510443687439),\n",
       " ('favoloso', 0.6729823350906372),\n",
       " ('bello.E', 0.6691299080848694),\n",
       " ('bellino', 0.6637617945671082),\n",
       " ('belllo', 0.6578159928321838),\n",
       " ('magnifico', 0.6553522348403931),\n",
       " ('buono', 0.6524571180343628),\n",
       " ('belloe', 0.6499528884887695),\n",
       " ('Bello', 0.6499103307723999),\n",
       " ('bello.Ma', 0.6290316581726074),\n",
       " ('.bello', 0.6265181303024292),\n",
       " ('bellissimissimo', 0.6249790787696838),\n",
       " ('bellissimo.E', 0.6221553087234497),\n",
       " ('bello.A', 0.6188737154006958),\n",
       " ('bruttino', 0.6183125972747803)]"
      ]
     },
     "execution_count": 20,
     "metadata": {},
     "output_type": "execute_result"
    }
   ],
   "source": [
    "model.most_similar(\"bello\", topn=20)"
   ]
  },
  {
   "cell_type": "code",
   "execution_count": 9,
   "metadata": {},
   "outputs": [],
   "source": [
    "del model"
   ]
  },
  {
   "cell_type": "code",
   "execution_count": null,
   "metadata": {},
   "outputs": [],
   "source": []
  }
 ],
 "metadata": {
  "kernelspec": {
   "display_name": "Python 3",
   "language": "python",
   "name": "python3"
  },
  "language_info": {
   "codemirror_mode": {
    "name": "ipython",
    "version": 3
   },
   "file_extension": ".py",
   "mimetype": "text/x-python",
   "name": "python",
   "nbconvert_exporter": "python",
   "pygments_lexer": "ipython3",
   "version": "3.6.5"
  }
 },
 "nbformat": 4,
 "nbformat_minor": 2
}
