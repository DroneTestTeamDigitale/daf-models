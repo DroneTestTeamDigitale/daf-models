{
 "cells": [
  {
   "cell_type": "code",
   "execution_count": 1,
   "metadata": {},
   "outputs": [
    {
     "name": "stderr",
     "output_type": "stream",
     "text": [
      "Using TensorFlow backend.\n"
     ]
    }
   ],
   "source": [
    "import numpy as np\n",
    "import pandas as pd\n",
    "import pickle\n",
    "\n",
    "from keras import models\n",
    "from keras import layers\n",
    "from keras import optimizers\n",
    "from keras import losses\n",
    "from keras import activations\n",
    "from keras import metrics\n",
    "from keras import regularizers\n",
    "import math\n",
    "\n",
    "import random\n",
    "\n",
    "# to make the experimens replicable\n",
    "random.seed(123456)"
   ]
  },
  {
   "cell_type": "markdown",
   "metadata": {},
   "source": [
    "## Important\n",
    "\n",
    "as first step run the notebook `1. classification-dataset-creation.ipynb` to create the dataset."
   ]
  },
  {
   "cell_type": "code",
   "execution_count": 2,
   "metadata": {},
   "outputs": [],
   "source": [
    "dataset_path = 'regione-toscana/dataset-dirigenti.pkl'\n",
    "\n",
    "with open(dataset_path, 'rb') as f:\n",
    "    samples, labels = pickle.load(f)"
   ]
  },
  {
   "cell_type": "markdown",
   "metadata": {},
   "source": [
    "### Transform it in a dataset"
   ]
  },
  {
   "cell_type": "code",
   "execution_count": 3,
   "metadata": {},
   "outputs": [
    {
     "data": {
      "text/plain": [
       "array([ \"DGR 968/07 e s.m.i. Accreditamento degli organismi formativi. Rilascio dell'accreditamento all'organismo formativo Bioscience Research Center - cod. GR1035.\",\n",
       "       'Nomina Commissione d’esame per il percorso formativo “Formazione obbligatoria per utilizzatori professionali di prodotti fitosanitari”, MATRICOLA N. 2016SI0046',\n",
       "       \"Nomina della Commissione d'esame matricola 2016PI0301. Agenzia Formativa Cescot\",\n",
       "       'Progetti formativi per drop-out a.s.f. 2015-2016. Integrazione impegno per progetto \"Figaro - Operatore del benessere (acconciatura)\"',\n",
       "       'REG (CE) 1080/2006-Por Creo Fesr 2007-2013-Linea di intevento 5.1.d-Chiusura attività'],\n",
       "      dtype='<U961')"
      ]
     },
     "execution_count": 3,
     "metadata": {},
     "output_type": "execute_result"
    }
   ],
   "source": [
    "samples[:5]"
   ]
  },
  {
   "cell_type": "code",
   "execution_count": 4,
   "metadata": {},
   "outputs": [
    {
     "data": {
      "text/plain": [
       "array(['50125', '50125', '50125', '50125', '50125'],\n",
       "      dtype='<U5')"
      ]
     },
     "execution_count": 4,
     "metadata": {},
     "output_type": "execute_result"
    }
   ],
   "source": [
    "labels[:5]"
   ]
  },
  {
   "cell_type": "code",
   "execution_count": 5,
   "metadata": {},
   "outputs": [],
   "source": [
    "samples = np.array(samples)\n",
    "labels = np.array(labels)"
   ]
  },
  {
   "cell_type": "markdown",
   "metadata": {},
   "source": [
    "## Train and Test Set\n",
    "\n",
    "Normally we split the dataset into:\n",
    "- 80% for training (of which 10% for validation)\n",
    "- 20% for testing"
   ]
  },
  {
   "cell_type": "code",
   "execution_count": 6,
   "metadata": {},
   "outputs": [
    {
     "data": {
      "text/plain": [
       "(147463,)"
      ]
     },
     "execution_count": 6,
     "metadata": {},
     "output_type": "execute_result"
    }
   ],
   "source": [
    "samples.shape"
   ]
  },
  {
   "cell_type": "markdown",
   "metadata": {},
   "source": [
    "### Shuffle Data"
   ]
  },
  {
   "cell_type": "code",
   "execution_count": 7,
   "metadata": {},
   "outputs": [],
   "source": [
    "indices = list(range(len(samples)))\n",
    "np.random.shuffle(indices)\n",
    "\n",
    "samples = samples[indices]\n",
    "labels = labels[indices]"
   ]
  },
  {
   "cell_type": "code",
   "execution_count": 8,
   "metadata": {},
   "outputs": [
    {
     "data": {
      "text/plain": [
       "array(['01946', '50125', '50006', '50119', '50102'],\n",
       "      dtype='<U5')"
      ]
     },
     "execution_count": 8,
     "metadata": {},
     "output_type": "execute_result"
    }
   ],
   "source": [
    "labels[:5]"
   ]
  },
  {
   "cell_type": "markdown",
   "metadata": {},
   "source": [
    "## Tokenize the Dataset"
   ]
  },
  {
   "cell_type": "code",
   "execution_count": 9,
   "metadata": {},
   "outputs": [],
   "source": [
    "max_features = 10000"
   ]
  },
  {
   "cell_type": "code",
   "execution_count": 10,
   "metadata": {},
   "outputs": [],
   "source": [
    "from keras.preprocessing.text import Tokenizer"
   ]
  },
  {
   "cell_type": "code",
   "execution_count": 11,
   "metadata": {},
   "outputs": [],
   "source": [
    "tokenizer = Tokenizer(num_words=max_features, oov_token='UNK')\n",
    "tokenizer.fit_on_texts(samples)"
   ]
  },
  {
   "cell_type": "code",
   "execution_count": 12,
   "metadata": {},
   "outputs": [],
   "source": [
    "sequences = tokenizer.texts_to_sequences(samples)"
   ]
  },
  {
   "cell_type": "code",
   "execution_count": 13,
   "metadata": {},
   "outputs": [
    {
     "name": "stdout",
     "output_type": "stream",
     "text": [
      "[7, 6, 611, 327, 96, 4, 79, 56, 1, 905, 2, 131, 22, 1936, 2, 13, 4848, 6156, 59, 100, 15, 2, 20, 574, 307, 769, 84, 428]\n",
      "[102, 475, 113, 2, 19, 97, 51, 110, 53, 385, 297, 650, 2940, 621, 358, 9994, 112, 303]\n"
     ]
    }
   ],
   "source": [
    "for s in sequences[:2]:\n",
    "    print(s) "
   ]
  },
  {
   "cell_type": "markdown",
   "metadata": {},
   "source": [
    "Convert labels to sequences"
   ]
  },
  {
   "cell_type": "code",
   "execution_count": 14,
   "metadata": {},
   "outputs": [],
   "source": [
    "index_to_labels = dict(enumerate(set(labels)))\n",
    "labels_to_index = {v:k for k,v in index_to_labels.items()}"
   ]
  },
  {
   "cell_type": "code",
   "execution_count": 15,
   "metadata": {},
   "outputs": [
    {
     "data": {
      "text/plain": [
       "[('02090', 0), ('50202', 1), ('50079', 2), ('01937', 3), ('01928', 4)]"
      ]
     },
     "execution_count": 15,
     "metadata": {},
     "output_type": "execute_result"
    }
   ],
   "source": [
    "list(labels_to_index.items())[:5]"
   ]
  },
  {
   "cell_type": "code",
   "execution_count": 16,
   "metadata": {},
   "outputs": [
    {
     "data": {
      "text/plain": [
       "32"
      ]
     },
     "execution_count": 16,
     "metadata": {},
     "output_type": "execute_result"
    }
   ],
   "source": [
    "len(labels_to_index)"
   ]
  },
  {
   "cell_type": "code",
   "execution_count": 17,
   "metadata": {},
   "outputs": [],
   "source": [
    "encoded_labels = [labels_to_index[l] for l in labels]"
   ]
  },
  {
   "cell_type": "code",
   "execution_count": 18,
   "metadata": {},
   "outputs": [
    {
     "data": {
      "text/plain": [
       "[20, 17, 23, 30, 19, 21, 12, 7, 5, 13]"
      ]
     },
     "execution_count": 18,
     "metadata": {},
     "output_type": "execute_result"
    }
   ],
   "source": [
    "encoded_labels[:10]"
   ]
  },
  {
   "cell_type": "markdown",
   "metadata": {},
   "source": [
    "### Split the dataset"
   ]
  },
  {
   "cell_type": "code",
   "execution_count": 19,
   "metadata": {},
   "outputs": [],
   "source": [
    "training_size = math.trunc(len(sequences) * 0.8)\n",
    "test_size = len(sequences)"
   ]
  },
  {
   "cell_type": "code",
   "execution_count": 20,
   "metadata": {},
   "outputs": [],
   "source": [
    "train_data = sequences[:training_size]\n",
    "train_labels = encoded_labels[:training_size]\n",
    "\n",
    "test_data = sequences[training_size:]\n",
    "test_labels = encoded_labels[training_size:] "
   ]
  },
  {
   "cell_type": "markdown",
   "metadata": {},
   "source": [
    "### Preparing Data\n",
    "\n",
    "- for the input data we pad the sequence to a max length in order to make uniform the sequences.\n",
    "- for the labels we continue with one-hot encoding\n"
   ]
  },
  {
   "cell_type": "code",
   "execution_count": 21,
   "metadata": {},
   "outputs": [],
   "source": [
    "from keras.preprocessing import sequence"
   ]
  },
  {
   "cell_type": "code",
   "execution_count": 22,
   "metadata": {},
   "outputs": [
    {
     "name": "stdout",
     "output_type": "stream",
     "text": [
      "max length of objects 147\n"
     ]
    }
   ],
   "source": [
    "print('max length of objects {}'.format(max(map(len, train_data))))"
   ]
  },
  {
   "cell_type": "markdown",
   "metadata": {},
   "source": [
    "#### Maximum Sequence Length\n",
    "\n",
    "for initial test we use the first 100 words"
   ]
  },
  {
   "cell_type": "code",
   "execution_count": 64,
   "metadata": {},
   "outputs": [],
   "source": [
    "maxlen = 100"
   ]
  },
  {
   "cell_type": "code",
   "execution_count": 130,
   "metadata": {},
   "outputs": [],
   "source": [
    "x_train_seq = sequence.pad_sequences(train_data, maxlen=maxlen)\n",
    "x_test_seq = sequence.pad_sequences(test_data, maxlen=maxlen)"
   ]
  },
  {
   "cell_type": "code",
   "execution_count": 66,
   "metadata": {
    "scrolled": false
   },
   "outputs": [
    {
     "data": {
      "text/plain": [
       "(117970, 100)"
      ]
     },
     "execution_count": 66,
     "metadata": {},
     "output_type": "execute_result"
    }
   ],
   "source": [
    "x_train_seq.shape"
   ]
  },
  {
   "cell_type": "markdown",
   "metadata": {},
   "source": [
    "One-hot encoding for input"
   ]
  },
  {
   "cell_type": "code",
   "execution_count": 50,
   "metadata": {},
   "outputs": [],
   "source": [
    "def vectorize_sequences(sequences, dimension=10000):\n",
    "    data = np.zeros((len(sequences), dimension), dtype=np.float32)\n",
    "    for i, sequence in enumerate(sequences):\n",
    "        data[i,sequence] = 1.\n",
    "    return data"
   ]
  },
  {
   "cell_type": "code",
   "execution_count": 27,
   "metadata": {},
   "outputs": [],
   "source": [
    "x_train = vectorize_sequences(train_data)\n",
    "y_train = vectorize_sequences(test_data)"
   ]
  },
  {
   "cell_type": "markdown",
   "metadata": {},
   "source": [
    "One hot encoding for the labels"
   ]
  },
  {
   "cell_type": "code",
   "execution_count": 28,
   "metadata": {},
   "outputs": [],
   "source": [
    "def to_one_hot(labels):\n",
    "    results = np.zeros((len(labels), len(set(labels))), dtype=np.float32)\n",
    "    for i, label in enumerate(labels):\n",
    "        results[i, label] = 1.\n",
    "    return results"
   ]
  },
  {
   "cell_type": "code",
   "execution_count": 29,
   "metadata": {},
   "outputs": [],
   "source": [
    "y_train = to_one_hot(train_labels)\n",
    "y_test = to_one_hot(test_labels)"
   ]
  },
  {
   "cell_type": "code",
   "execution_count": 30,
   "metadata": {},
   "outputs": [
    {
     "data": {
      "text/plain": [
       "array([[ 0.,  0.,  0., ...,  0.,  0.,  0.],\n",
       "       [ 0.,  0.,  0., ...,  0.,  0.,  0.],\n",
       "       [ 0.,  0.,  0., ...,  0.,  0.,  0.],\n",
       "       ..., \n",
       "       [ 0.,  0.,  0., ...,  0.,  0.,  0.],\n",
       "       [ 0.,  0.,  0., ...,  0.,  0.,  0.],\n",
       "       [ 0.,  0.,  0., ...,  0.,  0.,  0.]], dtype=float32)"
      ]
     },
     "execution_count": 30,
     "metadata": {},
     "output_type": "execute_result"
    }
   ],
   "source": [
    "y_train"
   ]
  },
  {
   "cell_type": "markdown",
   "metadata": {},
   "source": [
    "## The Effects of Word Embeddings\n",
    "\n",
    "Before using a word embedding as a layer in our network let evaluate the effect of embeddings by training a simple classifier that has it as only layer."
   ]
  },
  {
   "cell_type": "code",
   "execution_count": 67,
   "metadata": {},
   "outputs": [],
   "source": [
    "def build_model_only_embeddings(embed_size):\n",
    "    model = models.Sequential()\n",
    "    model.add(layers.Embedding(input_dim=max_features, output_dim=embed_size, input_length=maxlen))\n",
    "    model.add(layers.Flatten())\n",
    "    model.add(layers.Dense(len(labels_to_index), activation='softmax'))\n",
    "    model.compile(optimizer=optimizers.Adam(), \n",
    "          loss='categorical_crossentropy',\n",
    "          metrics=['accuracy'])\n",
    "    return model"
   ]
  },
  {
   "cell_type": "code",
   "execution_count": 68,
   "metadata": {},
   "outputs": [],
   "source": [
    "model_only_embed_small = build_model_only_embeddings(32)\n",
    "model_only_embed_medium = build_model_only_embeddings(128)\n",
    "model_only_embed_large = build_model_only_embeddings(256)"
   ]
  },
  {
   "cell_type": "code",
   "execution_count": 69,
   "metadata": {},
   "outputs": [
    {
     "name": "stdout",
     "output_type": "stream",
     "text": [
      "Train on 94376 samples, validate on 23594 samples\n",
      "Epoch 1/10\n",
      "94376/94376 [==============================] - 2s 17us/step - loss: 2.3680 - acc: 0.3597 - val_loss: 1.5435 - val_acc: 0.5585\n",
      "Epoch 2/10\n",
      "94376/94376 [==============================] - 1s 14us/step - loss: 1.2031 - acc: 0.6486 - val_loss: 1.0628 - val_acc: 0.6725\n",
      "Epoch 3/10\n",
      "94376/94376 [==============================] - 1s 13us/step - loss: 0.8618 - acc: 0.7382 - val_loss: 0.8973 - val_acc: 0.7106\n",
      "Epoch 4/10\n",
      "94376/94376 [==============================] - 1s 13us/step - loss: 0.6937 - acc: 0.7869 - val_loss: 0.8134 - val_acc: 0.7323\n",
      "Epoch 5/10\n",
      "94376/94376 [==============================] - 1s 14us/step - loss: 0.5835 - acc: 0.8220 - val_loss: 0.7688 - val_acc: 0.7432\n",
      "Epoch 6/10\n",
      "94376/94376 [==============================] - 1s 13us/step - loss: 0.5026 - acc: 0.8481 - val_loss: 0.7405 - val_acc: 0.7520\n",
      "Epoch 7/10\n",
      "94376/94376 [==============================] - 1s 13us/step - loss: 0.4387 - acc: 0.8694 - val_loss: 0.7242 - val_acc: 0.7574\n",
      "Epoch 8/10\n",
      "94376/94376 [==============================] - 1s 14us/step - loss: 0.3856 - acc: 0.8878 - val_loss: 0.7179 - val_acc: 0.7599\n",
      "Epoch 9/10\n",
      "94376/94376 [==============================] - 1s 13us/step - loss: 0.3411 - acc: 0.9027 - val_loss: 0.7180 - val_acc: 0.7623\n",
      "Epoch 10/10\n",
      "94376/94376 [==============================] - 1s 13us/step - loss: 0.3029 - acc: 0.9165 - val_loss: 0.7215 - val_acc: 0.7600\n"
     ]
    }
   ],
   "source": [
    "history_embed_small = model_only_embed_small.fit(x=x_train_seq, y=y_train,  validation_split=0.2,\n",
    "                   epochs=10, batch_size=256)"
   ]
  },
  {
   "cell_type": "code",
   "execution_count": 70,
   "metadata": {},
   "outputs": [
    {
     "name": "stdout",
     "output_type": "stream",
     "text": [
      "Train on 94376 samples, validate on 23594 samples\n",
      "Epoch 1/10\n",
      "94376/94376 [==============================] - 3s 30us/step - loss: 1.9124 - acc: 0.4728 - val_loss: 1.1020 - val_acc: 0.6682\n",
      "Epoch 2/10\n",
      "94376/94376 [==============================] - 3s 27us/step - loss: 0.8212 - acc: 0.7495 - val_loss: 0.8116 - val_acc: 0.7354\n",
      "Epoch 3/10\n",
      "94376/94376 [==============================] - 3s 27us/step - loss: 0.5533 - acc: 0.8334 - val_loss: 0.7312 - val_acc: 0.7568\n",
      "Epoch 4/10\n",
      "94376/94376 [==============================] - 3s 27us/step - loss: 0.4039 - acc: 0.8836 - val_loss: 0.6969 - val_acc: 0.7660\n",
      "Epoch 5/10\n",
      "94376/94376 [==============================] - 3s 29us/step - loss: 0.3017 - acc: 0.9183 - val_loss: 0.6966 - val_acc: 0.7674\n",
      "Epoch 6/10\n",
      "94376/94376 [==============================] - 3s 28us/step - loss: 0.2286 - acc: 0.9428 - val_loss: 0.7007 - val_acc: 0.7703\n",
      "Epoch 7/10\n",
      "94376/94376 [==============================] - 3s 28us/step - loss: 0.1752 - acc: 0.9590 - val_loss: 0.7178 - val_acc: 0.7705\n",
      "Epoch 8/10\n",
      "94376/94376 [==============================] - 3s 28us/step - loss: 0.1375 - acc: 0.9692 - val_loss: 0.7400 - val_acc: 0.7682\n",
      "Epoch 9/10\n",
      "94376/94376 [==============================] - 3s 27us/step - loss: 0.1106 - acc: 0.9753 - val_loss: 0.7681 - val_acc: 0.7665\n",
      "Epoch 10/10\n",
      "94376/94376 [==============================] - 3s 27us/step - loss: 0.0917 - acc: 0.9785 - val_loss: 0.7901 - val_acc: 0.7679\n"
     ]
    }
   ],
   "source": [
    "history_embed_medium = model_only_embed_medium.fit(x=x_train_seq, y=y_train,  validation_split=0.2,\n",
    "                   epochs=10, batch_size=256)"
   ]
  },
  {
   "cell_type": "code",
   "execution_count": 71,
   "metadata": {},
   "outputs": [
    {
     "name": "stdout",
     "output_type": "stream",
     "text": [
      "Train on 94376 samples, validate on 23594 samples\n",
      "Epoch 1/10\n",
      "94376/94376 [==============================] - 5s 51us/step - loss: 1.7050 - acc: 0.5218 - val_loss: 0.9579 - val_acc: 0.6987\n",
      "Epoch 2/10\n",
      "94376/94376 [==============================] - 5s 48us/step - loss: 0.6840 - acc: 0.7898 - val_loss: 0.7440 - val_acc: 0.7513\n",
      "Epoch 3/10\n",
      "94376/94376 [==============================] - 5s 48us/step - loss: 0.4304 - acc: 0.8728 - val_loss: 0.6949 - val_acc: 0.7665\n",
      "Epoch 4/10\n",
      "94376/94376 [==============================] - 4s 47us/step - loss: 0.2852 - acc: 0.9236 - val_loss: 0.6930 - val_acc: 0.7696\n",
      "Epoch 5/10\n",
      "94376/94376 [==============================] - 5s 48us/step - loss: 0.1956 - acc: 0.9519 - val_loss: 0.7058 - val_acc: 0.7707\n",
      "Epoch 6/10\n",
      "94376/94376 [==============================] - 4s 48us/step - loss: 0.1405 - acc: 0.9666 - val_loss: 0.7314 - val_acc: 0.7693\n",
      "Epoch 7/10\n",
      "94376/94376 [==============================] - 4s 48us/step - loss: 0.1050 - acc: 0.9755 - val_loss: 0.7637 - val_acc: 0.7681\n",
      "Epoch 8/10\n",
      "94376/94376 [==============================] - 5s 48us/step - loss: 0.0860 - acc: 0.9787 - val_loss: 0.7954 - val_acc: 0.7653\n",
      "Epoch 9/10\n",
      "94376/94376 [==============================] - 4s 48us/step - loss: 0.0732 - acc: 0.9814 - val_loss: 0.8222 - val_acc: 0.7657\n",
      "Epoch 10/10\n",
      "94376/94376 [==============================] - 5s 48us/step - loss: 0.0635 - acc: 0.9836 - val_loss: 0.8537 - val_acc: 0.7654\n"
     ]
    }
   ],
   "source": [
    "history_embed_large = model_only_embed_large.fit(x=x_train_seq, y=y_train,  validation_split=0.2,\n",
    "                   epochs=10, batch_size=256)"
   ]
  },
  {
   "cell_type": "code",
   "execution_count": 72,
   "metadata": {},
   "outputs": [],
   "source": [
    "import matplotlib.pyplot as plt\n",
    "\n",
    "%matplotlib inline"
   ]
  },
  {
   "cell_type": "code",
   "execution_count": 73,
   "metadata": {},
   "outputs": [],
   "source": [
    "def chart_loss(history):\n",
    "    loss = history.history['loss']\n",
    "    val_loss = history.history['val_loss']\n",
    "\n",
    "    epochs = range(1, len(loss) + 1)\n",
    "\n",
    "    plt.plot(epochs, loss, 'b+', label='Training Loss')\n",
    "    plt.plot(epochs, val_loss, 'b', label='Validation Loss')\n",
    "    plt.title('Training and validation loss')\n",
    "    plt.xlabel('Epochs')\n",
    "    plt.ylabel('Loss')\n",
    "    plt.yticks(np.arange(0,3, step=0.2))\n",
    "    plt.xticks(np.arange(0,len(loss), step=1))\n",
    "    plt.legend()\n",
    "    plt.show()"
   ]
  },
  {
   "cell_type": "code",
   "execution_count": 74,
   "metadata": {},
   "outputs": [],
   "source": [
    "def chart_acc(history):\n",
    "    acc = history.history['acc']\n",
    "    val_acc = history.history['val_acc']\n",
    "\n",
    "    epochs = range(1, len(acc) + 1)\n",
    "\n",
    "    plt.plot(epochs, acc, 'b+', label='Training Acc')\n",
    "    plt.plot(epochs, val_acc, 'b', label='Validation Acc')\n",
    "    plt.title('Training and validation loss')\n",
    "    plt.xlabel('Epochs')\n",
    "    plt.ylabel('Accuray')\n",
    "    plt.yticks(np.arange(0.4,1, step=0.05))\n",
    "    plt.xticks(np.arange(0,len(acc), step=1))\n",
    "    plt.legend()\n",
    "    plt.show()"
   ]
  },
  {
   "cell_type": "code",
   "execution_count": 75,
   "metadata": {},
   "outputs": [
    {
     "data": {
      "image/png": "[encoded data removed]",
      "text/plain": [
       "<Figure size 432x288 with 1 Axes>"
      ]
     },
     "metadata": {},
     "output_type": "display_data"
    },
    {
     "data": {
      "image/png": "[encoded data removed]",
      "text/plain": [
       "<Figure size 432x288 with 1 Axes>"
      ]
     },
     "metadata": {},
     "output_type": "display_data"
    },
    {
     "data": {
      "image/png": "[encoded data removed]",
      "text/plain": [
       "<Figure size 432x288 with 1 Axes>"
      ]
     },
     "metadata": {},
     "output_type": "display_data"
    }
   ],
   "source": [
    "chart_loss(history_embed_small)\n",
    "chart_loss(history_embed_medium)\n",
    "chart_loss(history_embed_large)"
   ]
  },
  {
   "cell_type": "markdown",
   "metadata": {},
   "source": [
    "We can see how the model with larger embedding size tend to overfit faster than the others (respectively epochs 2, 3, and 4). However, from a loss point of view all the models starts overfitting with a loss values ~ 0.8.\n",
    "Let's now analyze values for accuracy."
   ]
  },
  {
   "cell_type": "code",
   "execution_count": 76,
   "metadata": {},
   "outputs": [],
   "source": [
    "def min_loss(history):\n",
    "    val_loss = history.history['val_loss'] \n",
    "    return np.argmin(val_loss)    \n",
    "\n",
    "def accuracy(history, epoch):\n",
    "    val_acc = history.history['val_acc']\n",
    "    return val_acc[epoch]"
   ]
  },
  {
   "cell_type": "code",
   "execution_count": 77,
   "metadata": {},
   "outputs": [
    {
     "name": "stdout",
     "output_type": "stream",
     "text": [
      "min loss for model small is 7\n",
      "min loss for model medium is 4\n",
      "min loss for model large is 3\n"
     ]
    }
   ],
   "source": [
    "print('min loss for model small is {}'.format(min_loss(history_embed_small)))\n",
    "print('min loss for model medium is {}'.format(min_loss(history_embed_medium)))\n",
    "print('min loss for model large is {}'.format(min_loss(history_embed_large)))"
   ]
  },
  {
   "cell_type": "code",
   "execution_count": 78,
   "metadata": {},
   "outputs": [
    {
     "data": {
      "image/png": "[encoded data removed]",
      "text/plain": [
       "<Figure size 432x288 with 1 Axes>"
      ]
     },
     "metadata": {},
     "output_type": "display_data"
    },
    {
     "data": {
      "image/png": "[encoded data removed]",
      "text/plain": [
       "<Figure size 432x288 with 1 Axes>"
      ]
     },
     "metadata": {},
     "output_type": "display_data"
    },
    {
     "data": {
      "image/png": "[encoded data removed]",
      "text/plain": [
       "<Figure size 432x288 with 1 Axes>"
      ]
     },
     "metadata": {},
     "output_type": "display_data"
    }
   ],
   "source": [
    "chart_acc(history_embed_small)\n",
    "chart_acc(history_embed_medium)\n",
    "chart_acc(history_embed_large)"
   ]
  },
  {
   "cell_type": "code",
   "execution_count": 79,
   "metadata": {},
   "outputs": [
    {
     "name": "stdout",
     "output_type": "stream",
     "text": [
      "best validation accuracy for model small is 0.7598542001900799\n",
      "best validation accuracy for model medium is 0.7673984911620259\n",
      "best validation accuracy for model large is 0.7696448249201295\n"
     ]
    }
   ],
   "source": [
    "print('best validation accuracy for model small is {}'.format(\n",
    "    accuracy(history_embed_small, min_loss(history_embed_small))))\n",
    "print('best validation accuracy for model medium is {}'.format(\n",
    "    accuracy(history_embed_medium, min_loss(history_embed_medium))))\n",
    "print('best validation accuracy for model large is {}'.format(\n",
    "    accuracy(history_embed_large, min_loss(history_embed_large))))"
   ]
  },
  {
   "cell_type": "markdown",
   "metadata": {},
   "source": [
    "The results show how only using an flat classifier with an embedding layer we obtain an accuracy ~ 77%. Which is a pretty good result.\n",
    "The next steps is use an embedding layers in a Feed Forward Neural Network."
   ]
  },
  {
   "cell_type": "markdown",
   "metadata": {},
   "source": [
    "## Build the Models\n",
    "\n",
    "We take into account:\n",
    "- a base model that uses dropout\n",
    "- a embed model that adds an embedding layer"
   ]
  },
  {
   "cell_type": "code",
   "execution_count": 80,
   "metadata": {},
   "outputs": [],
   "source": [
    "def build_model_dropout(neurons):\n",
    "    model = models.Sequential()\n",
    "    model.add(layers.Dense(neurons, activation='relu', input_shape=(x_train.shape[-1], )))\n",
    "    model.add(layers.Dropout(0.5))\n",
    "    model.add(layers.Dense(neurons, activation='relu'))\n",
    "    model.add(layers.Dropout(0.5))\n",
    "    model.add(layers.Dense(neurons, activation='relu'))\n",
    "    model.add(layers.Dropout(0.5))\n",
    "    model.add(layers.Dense(len(labels_to_index), activation='softmax'))\n",
    "    \n",
    "    model.compile(optimizer=optimizers.Adam(), \n",
    "              loss='categorical_crossentropy',\n",
    "              metrics=['accuracy'])\n",
    "    return model"
   ]
  },
  {
   "cell_type": "code",
   "execution_count": 111,
   "metadata": {},
   "outputs": [],
   "source": [
    "def build_model_embeddings(neurons, embed_size):\n",
    "    model = models.Sequential()\n",
    "    model.add(layers.Embedding(input_dim=max_features, output_dim=embed_size, input_length=maxlen))\n",
    "    model.add(layers.Flatten())\n",
    "    model.add(layers.Dense(neurons, activation='relu'))\n",
    "    model.add(layers.Dropout(0.5))\n",
    "    model.add(layers.Dense(neurons, activation='relu'))\n",
    "    model.add(layers.Dropout(0.5))\n",
    "    model.add(layers.Dense(len(labels_to_index), activation='softmax'))\n",
    "    model.compile(optimizer=optimizers.Adam(), \n",
    "          loss='categorical_crossentropy',\n",
    "          metrics=['accuracy'])\n",
    "    return model"
   ]
  },
  {
   "cell_type": "code",
   "execution_count": 114,
   "metadata": {},
   "outputs": [],
   "source": [
    "model_dropout = build_model_dropout(256)"
   ]
  },
  {
   "cell_type": "code",
   "execution_count": 115,
   "metadata": {},
   "outputs": [
    {
     "name": "stdout",
     "output_type": "stream",
     "text": [
      "Train on 94376 samples, validate on 23594 samples\n",
      "Epoch 1/10\n",
      "94376/94376 [==============================] - 5s 56us/step - loss: 1.6908 - acc: 0.4951 - val_loss: 0.8161 - val_acc: 0.7343\n",
      "Epoch 2/10\n",
      "94376/94376 [==============================] - 5s 48us/step - loss: 0.8660 - acc: 0.7149 - val_loss: 0.6786 - val_acc: 0.7680\n",
      "Epoch 3/10\n",
      "94376/94376 [==============================] - 5s 48us/step - loss: 0.6838 - acc: 0.7682 - val_loss: 0.6333 - val_acc: 0.7839\n",
      "Epoch 4/10\n",
      "94376/94376 [==============================] - 4s 48us/step - loss: 0.5762 - acc: 0.8034 - val_loss: 0.6245 - val_acc: 0.7893\n",
      "Epoch 5/10\n",
      "94376/94376 [==============================] - 5s 49us/step - loss: 0.5109 - acc: 0.8257 - val_loss: 0.6059 - val_acc: 0.7963\n",
      "Epoch 6/10\n",
      "94376/94376 [==============================] - 5s 49us/step - loss: 0.4529 - acc: 0.8438 - val_loss: 0.6186 - val_acc: 0.7984\n",
      "Epoch 7/10\n",
      "94376/94376 [==============================] - 4s 48us/step - loss: 0.4129 - acc: 0.8573 - val_loss: 0.6127 - val_acc: 0.8040\n",
      "Epoch 8/10\n",
      "94376/94376 [==============================] - 4s 47us/step - loss: 0.3819 - acc: 0.8684 - val_loss: 0.6171 - val_acc: 0.8051\n",
      "Epoch 9/10\n",
      "94376/94376 [==============================] - 4s 47us/step - loss: 0.3529 - acc: 0.8780 - val_loss: 0.6319 - val_acc: 0.8052\n",
      "Epoch 10/10\n",
      "94376/94376 [==============================] - 4s 48us/step - loss: 0.3297 - acc: 0.8865 - val_loss: 0.6422 - val_acc: 0.8062\n"
     ]
    }
   ],
   "source": [
    "history_dropout = model_dropout.fit(x=x_train, y=y_train,  validation_split=0.2,\n",
    "                   epochs=10, batch_size=256)"
   ]
  },
  {
   "cell_type": "code",
   "execution_count": 116,
   "metadata": {},
   "outputs": [],
   "source": [
    "model_embed = build_model_embeddings(256,256)"
   ]
  },
  {
   "cell_type": "code",
   "execution_count": 117,
   "metadata": {},
   "outputs": [
    {
     "name": "stdout",
     "output_type": "stream",
     "text": [
      "Train on 94376 samples, validate on 23594 samples\n",
      "Epoch 1/10\n",
      "94376/94376 [==============================] - 11s 116us/step - loss: 1.9792 - acc: 0.4145 - val_loss: 0.9469 - val_acc: 0.6964\n",
      "Epoch 2/10\n",
      "94376/94376 [==============================] - 10s 109us/step - loss: 0.8240 - acc: 0.7316 - val_loss: 0.7747 - val_acc: 0.7437\n",
      "Epoch 3/10\n",
      "94376/94376 [==============================] - 10s 110us/step - loss: 0.5282 - acc: 0.8223 - val_loss: 0.7945 - val_acc: 0.7495\n",
      "Epoch 4/10\n",
      "94376/94376 [==============================] - 10s 111us/step - loss: 0.3698 - acc: 0.8737 - val_loss: 0.8549 - val_acc: 0.7515\n",
      "Epoch 5/10\n",
      "94376/94376 [==============================] - 11s 111us/step - loss: 0.2834 - acc: 0.9055 - val_loss: 0.9662 - val_acc: 0.7498\n",
      "Epoch 6/10\n",
      "94376/94376 [==============================] - 11s 113us/step - loss: 0.2259 - acc: 0.9233 - val_loss: 1.0691 - val_acc: 0.7468\n",
      "Epoch 7/10\n",
      "94376/94376 [==============================] - 11s 112us/step - loss: 0.1905 - acc: 0.9364 - val_loss: 1.1732 - val_acc: 0.7488\n",
      "Epoch 8/10\n",
      "94376/94376 [==============================] - 10s 110us/step - loss: 0.1701 - acc: 0.9437 - val_loss: 1.1772 - val_acc: 0.7482\n",
      "Epoch 9/10\n",
      "94376/94376 [==============================] - 10s 111us/step - loss: 0.1510 - acc: 0.9498 - val_loss: 1.2223 - val_acc: 0.7499\n",
      "Epoch 10/10\n",
      "94376/94376 [==============================] - 11s 112us/step - loss: 0.1384 - acc: 0.9546 - val_loss: 1.3435 - val_acc: 0.7478\n"
     ]
    }
   ],
   "source": [
    "history_embed = model_embed.fit(x=x_train_seq, y=y_train,  validation_split=0.2,\n",
    "                   epochs=10, batch_size=256)"
   ]
  },
  {
   "cell_type": "markdown",
   "metadata": {},
   "source": [
    "### Printing The Loss"
   ]
  },
  {
   "cell_type": "code",
   "execution_count": 118,
   "metadata": {},
   "outputs": [
    {
     "data": {
      "image/png": "[encoded data removed]",
      "text/plain": [
       "<Figure size 432x288 with 1 Axes>"
      ]
     },
     "metadata": {},
     "output_type": "display_data"
    },
    {
     "data": {
      "image/png": "[encoded data removed]",
      "text/plain": [
       "<Figure size 432x288 with 1 Axes>"
      ]
     },
     "metadata": {},
     "output_type": "display_data"
    }
   ],
   "source": [
    "chart_loss(history_embed)\n",
    "chart_loss(history_dropout)"
   ]
  },
  {
   "cell_type": "markdown",
   "metadata": {},
   "source": [
    "From the charts we can see that: \n",
    "- word embedding seems to not improve the accuracy of the model. This is usual in the case you have little training data available. From another point of view it is surprising to see that the classifier with only an embedding layer perform better than the one taken into account here\n",
    "- the model with dropout perform better than the model with embeddings.\n",
    "\n",
    "From this result one could gather that embeddings are not useful. This is wrong, because we didn't consider that we changed another thing with the current represantion. The model that uses embedding takes as input sequence of ids and not a vectorize representation of subjects. \n",
    "\n",
    "In the next post we will explore the usage of LSTM to address this kind of representation. "
   ]
  },
  {
   "cell_type": "code",
   "execution_count": 119,
   "metadata": {},
   "outputs": [
    {
     "data": {
      "image/png": "[encoded data removed]",
      "text/plain": [
       "<Figure size 432x288 with 1 Axes>"
      ]
     },
     "metadata": {},
     "output_type": "display_data"
    },
    {
     "data": {
      "image/png": "[encoded data removed]",
      "text/plain": [
       "<Figure size 432x288 with 1 Axes>"
      ]
     },
     "metadata": {},
     "output_type": "display_data"
    }
   ],
   "source": [
    "chart_acc(history_embed)\n",
    "chart_acc(history_dropout)"
   ]
  },
  {
   "cell_type": "markdown",
   "metadata": {},
   "source": [
    "From the chart above we can see that the best model is the model that uses dropout, while the best epoch is the 6 where the validation accuracy crosses the training accuracy"
   ]
  },
  {
   "cell_type": "code",
   "execution_count": 120,
   "metadata": {},
   "outputs": [],
   "source": [
    "def compare_loss(histories):\n",
    "    epochs = range(1, len(list(histories.values())[0].history['val_loss']) + 1)\n",
    "\n",
    "    for i, history in histories.items():\n",
    "        val_loss = history.history['val_loss']\n",
    "        plt.plot(epochs, val_loss, label='Validation Loss {}'.format(i))\n",
    "            \n",
    "    plt.xlabel('Epochs')\n",
    "    plt.ylabel('Loss')\n",
    "    plt.legend()\n",
    "    plt.show()"
   ]
  },
  {
   "cell_type": "code",
   "execution_count": 121,
   "metadata": {},
   "outputs": [
    {
     "data": {
      "image/png": "[encoded data removed]",
      "text/plain": [
       "<Figure size 432x288 with 1 Axes>"
      ]
     },
     "metadata": {},
     "output_type": "display_data"
    }
   ],
   "source": [
    "compare_loss({'embedding': history_embed, 'Dropout': history_dropout})"
   ]
  },
  {
   "cell_type": "code",
   "execution_count": 122,
   "metadata": {},
   "outputs": [],
   "source": [
    "def compare_accuracy(histories):\n",
    "    epochs = range(1, len(list(histories.values())[0].history['val_acc']) + 1)\n",
    "\n",
    "    for i, history in histories.items():\n",
    "        val_loss = history.history['val_acc']\n",
    "        plt.plot(epochs, val_loss, label='Validation Accuracy {}'.format(i))\n",
    "            \n",
    "    plt.xlabel('Epochs')\n",
    "    plt.ylabel('Accuracy')\n",
    "    plt.legend()\n",
    "    plt.show()"
   ]
  },
  {
   "cell_type": "code",
   "execution_count": 123,
   "metadata": {},
   "outputs": [
    {
     "data": {
      "image/png": "[encoded data removed]",
      "text/plain": [
       "<Figure size 432x288 with 1 Axes>"
      ]
     },
     "metadata": {},
     "output_type": "display_data"
    }
   ],
   "source": [
    "compare_accuracy({'embedding': history_embed, 'Dropout': history_dropout})"
   ]
  },
  {
   "cell_type": "markdown",
   "metadata": {},
   "source": [
    "### Evaluate on the Test Set\n",
    "\n",
    "We still want to evaluate the models with embedding to understand if it overfits on input data."
   ]
  },
  {
   "cell_type": "code",
   "execution_count": 133,
   "metadata": {},
   "outputs": [],
   "source": [
    "model = build_model_embeddings(256,256)"
   ]
  },
  {
   "cell_type": "code",
   "execution_count": 134,
   "metadata": {},
   "outputs": [
    {
     "name": "stdout",
     "output_type": "stream",
     "text": [
      "Epoch 1/2\n",
      "117970/117970 [==============================] - 13s 113us/step - loss: 1.7733 - acc: 0.4710\n",
      "Epoch 2/2\n",
      "117970/117970 [==============================] - 13s 106us/step - loss: 0.7558 - acc: 0.7511\n"
     ]
    }
   ],
   "source": [
    "history = model.fit(x=x_train_seq, y=y_train, epochs=2, batch_size=256)"
   ]
  },
  {
   "cell_type": "code",
   "execution_count": 135,
   "metadata": {},
   "outputs": [
    {
     "name": "stdout",
     "output_type": "stream",
     "text": [
      "29493/29493 [==============================] - 2s 59us/step\n"
     ]
    }
   ],
   "source": [
    "loss, acc = model.evaluate(x_test_seq, y_test)"
   ]
  },
  {
   "cell_type": "code",
   "execution_count": 136,
   "metadata": {},
   "outputs": [
    {
     "name": "stdout",
     "output_type": "stream",
     "text": [
      "loss 0.715640866418532\n",
      "acc 0.7621130437811826\n"
     ]
    }
   ],
   "source": [
    "print('loss {}'.format(loss))\n",
    "print('acc {}'.format(acc))"
   ]
  },
  {
   "cell_type": "markdown",
   "metadata": {},
   "source": [
    "## Conclusion\n",
    "\n",
    "We evaluated how to use Embeddings as alternative to one-hot encoding. \n"
   ]
  },
  {
   "cell_type": "code",
   "execution_count": null,
   "metadata": {},
   "outputs": [],
   "source": []
  }
 ],
 "metadata": {
  "kernelspec": {
   "display_name": "Python 3",
   "language": "python",
   "name": "python3"
  },
  "language_info": {
   "codemirror_mode": {
    "name": "ipython",
    "version": 3
   },
   "file_extension": ".py",
   "mimetype": "text/x-python",
   "name": "python",
   "nbconvert_exporter": "python",
   "pygments_lexer": "ipython3",
   "version": "3.6.5"
  }
 },
 "nbformat": 4,
 "nbformat_minor": 2
}
