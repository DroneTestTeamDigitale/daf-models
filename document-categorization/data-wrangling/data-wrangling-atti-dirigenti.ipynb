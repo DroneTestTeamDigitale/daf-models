{
 "cells": [
  {
   "cell_type": "code",
   "execution_count": 2,
   "metadata": {},
   "outputs": [],
   "source": [
    "import pandas as pd\n",
    "import numpy as np\n",
    "\n",
    "import matplotlib.pyplot as plt\n",
    "plt.ioff()\n",
    "import seaborn as sns\n",
    "sns.set_style(\"whitegrid\")\n",
    "from scipy import stats, integrate\n",
    "from scipy.stats import kendalltau\n",
    "\n",
    "import warnings\n",
    "warnings.filterwarnings('ignore')\n",
    "\n",
    "# %matplotlib notebook"
   ]
  },
  {
   "cell_type": "code",
   "execution_count": 3,
   "metadata": {},
   "outputs": [],
   "source": [
    "def label_rotation(ax, angle):\n",
    "    for tick in ax.get_xticklabels():\n",
    "        tick.set_rotation(45)\n",
    "    return ax"
   ]
  },
  {
   "cell_type": "code",
   "execution_count": 5,
   "metadata": {},
   "outputs": [],
   "source": [
    "df = pd.read_pickle('../regione-toscana/atti-dirigenti.pkl')"
   ]
  },
  {
   "cell_type": "code",
   "execution_count": 4,
   "metadata": {},
   "outputs": [
    {
     "data": {
      "text/plain": [
       "(153206, 13)"
      ]
     },
     "execution_count": 4,
     "metadata": {},
     "output_type": "execute_result"
    }
   ],
   "source": [
    "df.shape"
   ]
  },
  {
   "cell_type": "markdown",
   "metadata": {},
   "source": [
    "Let analyze the distribution of the data"
   ]
  },
  {
   "cell_type": "code",
   "execution_count": 5,
   "metadata": {},
   "outputs": [
    {
     "data": {
      "text/html": [
       "<div>\n",
       "<style scoped>\n",
       "    .dataframe tbody tr th:only-of-type {\n",
       "        vertical-align: middle;\n",
       "    }\n",
       "\n",
       "    .dataframe tbody tr th {\n",
       "        vertical-align: top;\n",
       "    }\n",
       "\n",
       "    .dataframe thead th {\n",
       "        text-align: right;\n",
       "    }\n",
       "</style>\n",
       "<table border=\"1\" class=\"dataframe\">\n",
       "  <thead>\n",
       "    <tr style=\"text-align: right;\">\n",
       "      <th></th>\n",
       "      <th>CODICE_PRATICA</th>\n",
       "      <th>DATA_ATTO</th>\n",
       "      <th>DESCRIZIONE_TIPO_PRATICA</th>\n",
       "      <th>ID_TIPO</th>\n",
       "      <th>ID_TIPO_PRATICA</th>\n",
       "      <th>LINK_CONTENUTO_BINARIO</th>\n",
       "      <th>OGGETTO</th>\n",
       "      <th>PERSONA</th>\n",
       "      <th>STATUS</th>\n",
       "      <th>UFFICIO_AC</th>\n",
       "      <th>UFFICIO_DG</th>\n",
       "      <th>UFFICIO_SE</th>\n",
       "      <th>DETAIL_URL</th>\n",
       "    </tr>\n",
       "  </thead>\n",
       "  <tbody>\n",
       "    <tr>\n",
       "      <th>0</th>\n",
       "      <td>20160140002016AD00000017201</td>\n",
       "      <td>2016-12-19</td>\n",
       "      <td>Atto dei dirigenti</td>\n",
       "      <td>ADN</td>\n",
       "      <td>MON</td>\n",
       "      <td>http://www.regione.toscana.it/bancadati/atti/C...</td>\n",
       "      <td>DGR 968/07 e s.m.i. Accreditamento degli organ...</td>\n",
       "      <td>013910</td>\n",
       "      <td>2</td>\n",
       "      <td>00000</td>\n",
       "      <td>50125</td>\n",
       "      <td>05873</td>\n",
       "      <td>http://www.regione.toscana.it/bancadati/atti/D...</td>\n",
       "    </tr>\n",
       "    <tr>\n",
       "      <th>1</th>\n",
       "      <td>20160140012016AD00000017466</td>\n",
       "      <td>2016-12-21</td>\n",
       "      <td>Atto dei dirigenti</td>\n",
       "      <td>ADN</td>\n",
       "      <td>MON</td>\n",
       "      <td>http://www.regione.toscana.it/bancadati/atti/C...</td>\n",
       "      <td>REG. CEE 2080/92 - AIUTI ALLE MISURE FORESTALI...</td>\n",
       "      <td>005595</td>\n",
       "      <td>2</td>\n",
       "      <td>00000</td>\n",
       "      <td>50117</td>\n",
       "      <td>05015</td>\n",
       "      <td>http://www.regione.toscana.it/bancadati/atti/D...</td>\n",
       "    </tr>\n",
       "    <tr>\n",
       "      <th>2</th>\n",
       "      <td>20160140022016AD00000017198</td>\n",
       "      <td>2016-12-19</td>\n",
       "      <td>Atto dei dirigenti</td>\n",
       "      <td>ADN</td>\n",
       "      <td>MON</td>\n",
       "      <td>http://www.regione.toscana.it/bancadati/atti/C...</td>\n",
       "      <td>Servizi autorizzati ex art.14 L.R. 42/98 \"Norm...</td>\n",
       "      <td>019075</td>\n",
       "      <td>2</td>\n",
       "      <td>00000</td>\n",
       "      <td>50121</td>\n",
       "      <td>04838</td>\n",
       "      <td>http://www.regione.toscana.it/bancadati/atti/D...</td>\n",
       "    </tr>\n",
       "    <tr>\n",
       "      <th>3</th>\n",
       "      <td>20160140032016AD00000017208</td>\n",
       "      <td>2016-12-19</td>\n",
       "      <td>Atto dei dirigenti</td>\n",
       "      <td>ADN</td>\n",
       "      <td>MON</td>\n",
       "      <td>http://www.regione.toscana.it/bancadati/atti/C...</td>\n",
       "      <td>L.R. 1/2006, DCR 3/2012, L.R. 1/2015 art.29, c...</td>\n",
       "      <td>020415</td>\n",
       "      <td>2</td>\n",
       "      <td>00000</td>\n",
       "      <td>50117</td>\n",
       "      <td>05018</td>\n",
       "      <td>http://www.regione.toscana.it/bancadati/atti/D...</td>\n",
       "    </tr>\n",
       "    <tr>\n",
       "      <th>4</th>\n",
       "      <td>20160140042016AD00000017268</td>\n",
       "      <td>2016-12-20</td>\n",
       "      <td>Atto dei dirigenti</td>\n",
       "      <td>ADN</td>\n",
       "      <td>MON</td>\n",
       "      <td>http://www.regione.toscana.it/bancadati/atti/C...</td>\n",
       "      <td>L.R. n. 87/1997 - Pubblicazione sul BURT dell'...</td>\n",
       "      <td>010826</td>\n",
       "      <td>2</td>\n",
       "      <td>00000</td>\n",
       "      <td>50116</td>\n",
       "      <td>05895</td>\n",
       "      <td>http://www.regione.toscana.it/bancadati/atti/D...</td>\n",
       "    </tr>\n",
       "  </tbody>\n",
       "</table>\n",
       "</div>"
      ],
      "text/plain": [
       "                CODICE_PRATICA  DATA_ATTO DESCRIZIONE_TIPO_PRATICA ID_TIPO  \\\n",
       "0  20160140002016AD00000017201 2016-12-19       Atto dei dirigenti     ADN   \n",
       "1  20160140012016AD00000017466 2016-12-21       Atto dei dirigenti     ADN   \n",
       "2  20160140022016AD00000017198 2016-12-19       Atto dei dirigenti     ADN   \n",
       "3  20160140032016AD00000017208 2016-12-19       Atto dei dirigenti     ADN   \n",
       "4  20160140042016AD00000017268 2016-12-20       Atto dei dirigenti     ADN   \n",
       "\n",
       "  ID_TIPO_PRATICA                             LINK_CONTENUTO_BINARIO  \\\n",
       "0             MON  http://www.regione.toscana.it/bancadati/atti/C...   \n",
       "1             MON  http://www.regione.toscana.it/bancadati/atti/C...   \n",
       "2             MON  http://www.regione.toscana.it/bancadati/atti/C...   \n",
       "3             MON  http://www.regione.toscana.it/bancadati/atti/C...   \n",
       "4             MON  http://www.regione.toscana.it/bancadati/atti/C...   \n",
       "\n",
       "                                             OGGETTO PERSONA  STATUS  \\\n",
       "0  DGR 968/07 e s.m.i. Accreditamento degli organ...  013910       2   \n",
       "1  REG. CEE 2080/92 - AIUTI ALLE MISURE FORESTALI...  005595       2   \n",
       "2  Servizi autorizzati ex art.14 L.R. 42/98 \"Norm...  019075       2   \n",
       "3  L.R. 1/2006, DCR 3/2012, L.R. 1/2015 art.29, c...  020415       2   \n",
       "4  L.R. n. 87/1997 - Pubblicazione sul BURT dell'...  010826       2   \n",
       "\n",
       "  UFFICIO_AC UFFICIO_DG UFFICIO_SE  \\\n",
       "0      00000      50125      05873   \n",
       "1      00000      50117      05015   \n",
       "2      00000      50121      04838   \n",
       "3      00000      50117      05018   \n",
       "4      00000      50116      05895   \n",
       "\n",
       "                                          DETAIL_URL  \n",
       "0  http://www.regione.toscana.it/bancadati/atti/D...  \n",
       "1  http://www.regione.toscana.it/bancadati/atti/D...  \n",
       "2  http://www.regione.toscana.it/bancadati/atti/D...  \n",
       "3  http://www.regione.toscana.it/bancadati/atti/D...  \n",
       "4  http://www.regione.toscana.it/bancadati/atti/D...  "
      ]
     },
     "execution_count": 5,
     "metadata": {},
     "output_type": "execute_result"
    }
   ],
   "source": [
    "df.head(5)"
   ]
  },
  {
   "cell_type": "markdown",
   "metadata": {},
   "source": [
    "## Data Exploration\n",
    "\n",
    "as first step we want to answer to questions like:\n",
    "\n",
    "- what is the distribution of acts per\n",
    "    - year?\n",
    "    - person?\n",
    "    - UFFICIO_DG ?\n",
    "    - UFFICIO_SE ?\n",
    "    \n",
    "At first we analyze what is the distribution of acts per year."
   ]
  },
  {
   "cell_type": "code",
   "execution_count": 6,
   "metadata": {
    "scrolled": false
   },
   "outputs": [
    {
     "name": "stdout",
     "output_type": "stream",
     "text": [
      "distribution acts per year\n",
      "DATA_ATTO\n",
      "2000     7824\n",
      "2001     7765\n",
      "2002     7606\n",
      "2003     8393\n",
      "2004     8524\n",
      "2005     7683\n",
      "2006     6848\n",
      "2007     6930\n",
      "2008     6900\n",
      "2009     7350\n",
      "2010     6786\n",
      "2011     6545\n",
      "2012     6557\n",
      "2013     6121\n",
      "2014     6731\n",
      "2015     6785\n",
      "2016    15131\n",
      "2017    19606\n",
      "2018     3121\n",
      "Name: CODICE_PRATICA, dtype: int64\n"
     ]
    }
   ],
   "source": [
    "print('distribution acts per year')\n",
    "acts_per_year = df.groupby([df['DATA_ATTO'].dt.year])['CODICE_PRATICA'].count()\n",
    "print(acts_per_year)"
   ]
  },
  {
   "cell_type": "code",
   "execution_count": 7,
   "metadata": {},
   "outputs": [
    {
     "data": {
      "image/png": "[encoded data removed]",
      "text/plain": [
       "<matplotlib.figure.Figure at 0x7f5b82aad550>"
      ]
     },
     "metadata": {},
     "output_type": "display_data"
    }
   ],
   "source": [
    "fig, ax = plt.subplots()\n",
    "sns.barplot(acts_per_year.index, acts_per_year.values, palette=\"BuGn_d\", ax=ax)\n",
    "label_rotation(ax, 45)\n",
    "fig.set_size_inches(10,6)\n",
    "plt.show(fig)"
   ]
  },
  {
   "cell_type": "markdown",
   "metadata": {},
   "source": [
    "The disitrbutions of the acts per year shows that there is an increase of acts for the years 2016 and 2017. From another point of view is interesting to see the distribution of acts per person."
   ]
  },
  {
   "cell_type": "code",
   "execution_count": 8,
   "metadata": {},
   "outputs": [
    {
     "name": "stdout",
     "output_type": "stream",
     "text": [
      "acts distribution per person\n",
      "PERSONA\n",
      "005549    8022\n",
      "020411    4341\n",
      "005045    3838\n",
      "015534    3792\n",
      "007505    3076\n",
      "014002    2661\n",
      "013692    2112\n",
      "005642    2021\n",
      "005070    1950\n",
      "017792    1846\n",
      "Name: CODICE_PRATICA, dtype: int64\n"
     ]
    }
   ],
   "source": [
    "print('acts distribution per person')\n",
    "acts_per_person = df.groupby([df['PERSONA']])['CODICE_PRATICA'].count().sort_values(ascending=False)\n",
    "print(acts_per_person[:10])"
   ]
  },
  {
   "cell_type": "markdown",
   "metadata": {},
   "source": [
    "We scale the values in the range [0:1] to make the visualization more clear."
   ]
  },
  {
   "cell_type": "code",
   "execution_count": 9,
   "metadata": {},
   "outputs": [
    {
     "data": {
      "text/plain": [
       "PERSONA\n",
       "005549    1.000000\n",
       "020411    0.541080\n",
       "005045    0.478369\n",
       "015534    0.472634\n",
       "007505    0.383369\n",
       "014002    0.331629\n",
       "013692    0.263184\n",
       "005642    0.251839\n",
       "005070    0.242987\n",
       "017792    0.230021\n",
       "Name: CODICE_PRATICA, dtype: float64"
      ]
     },
     "execution_count": 9,
     "metadata": {},
     "output_type": "execute_result"
    }
   ],
   "source": [
    "acts_per_person_scaled = (acts_per_person - acts_per_person.min()) / (acts_per_person.max() - acts_per_person.min())\n",
    "acts_per_person_scaled[:10]"
   ]
  },
  {
   "cell_type": "code",
   "execution_count": 10,
   "metadata": {},
   "outputs": [
    {
     "data": {
      "image/png": "[encoded data removed]",
      "text/plain": [
       "<matplotlib.figure.Figure at 0x7f5b836f01d0>"
      ]
     },
     "metadata": {},
     "output_type": "display_data"
    }
   ],
   "source": [
    "fig, ax = plt.subplots()\n",
    "sns.distplot(acts_per_person_scaled.values, kde=False, ax=ax, fit=stats.beta)\n",
    "fig.set_size_inches(10,6)\n",
    "plt.show()"
   ]
  },
  {
   "cell_type": "markdown",
   "metadata": {},
   "source": [
    "Here we can see that the distribution follows a beta distribution. In particular, we can see there are many values below the mean (as show below).\n",
    "\n",
    "Taking into account the domain under analysis this means that there are persons that works in Regione Toscana from several years."
   ]
  },
  {
   "cell_type": "code",
   "execution_count": 11,
   "metadata": {},
   "outputs": [
    {
     "name": "stdout",
     "output_type": "stream",
     "text": [
      "mean observations 0.04910370586488817\n",
      "std observations 0.08381900223361802\n"
     ]
    }
   ],
   "source": [
    "print('mean observations {}'.format(acts_per_person_scaled.mean()))\n",
    "print('std observations {}'.format(acts_per_person_scaled.std()))"
   ]
  },
  {
   "cell_type": "code",
   "execution_count": 12,
   "metadata": {},
   "outputs": [
    {
     "data": {
      "text/plain": [
       "True     272\n",
       "False    116\n",
       "Name: CODICE_PRATICA, dtype: int64"
      ]
     },
     "execution_count": 12,
     "metadata": {},
     "output_type": "execute_result"
    }
   ],
   "source": [
    "(acts_per_person_scaled < acts_per_person_scaled.mean()).value_counts()"
   ]
  },
  {
   "cell_type": "code",
   "execution_count": 13,
   "metadata": {},
   "outputs": [
    {
     "data": {
      "text/plain": [
       "<seaborn.axisgrid.JointGrid at 0x7f5b836a5048>"
      ]
     },
     "execution_count": 13,
     "metadata": {},
     "output_type": "execute_result"
    },
    {
     "data": {
      "image/png": "[encoded data removed]",
      "text/plain": [
       "<matplotlib.figure.Figure at 0x7f5b83715b38>"
      ]
     },
     "metadata": {},
     "output_type": "display_data"
    }
   ],
   "source": [
    "grid = sns.JointGrid(acts_per_person_scaled.values, acts_per_person_scaled.values, space=0, size=6, ratio=50)\n",
    "grid.plot_joint(plt.scatter, color=\"g\")\n",
    "grid.plot_marginals(sns.rugplot, height=1, color=\"g\")"
   ]
  },
  {
   "cell_type": "markdown",
   "metadata": {},
   "source": [
    "If we consider the top 10 persons we can see for example that the first persons has 31 years of career with the same position in Regione Toscana."
   ]
  },
  {
   "cell_type": "code",
   "execution_count": 14,
   "metadata": {
    "scrolled": true
   },
   "outputs": [
    {
     "data": {
      "text/plain": [
       "PERSONA\n",
       "005549    1.000000\n",
       "020411    0.541080\n",
       "005045    0.478369\n",
       "015534    0.472634\n",
       "007505    0.383369\n",
       "014002    0.331629\n",
       "013692    0.263184\n",
       "005642    0.251839\n",
       "005070    0.242987\n",
       "017792    0.230021\n",
       "Name: CODICE_PRATICA, dtype: float64"
      ]
     },
     "execution_count": 14,
     "metadata": {},
     "output_type": "execute_result"
    }
   ],
   "source": [
    "acts_per_person_scaled[:10]"
   ]
  },
  {
   "cell_type": "markdown",
   "metadata": {},
   "source": [
    "Now let's group the acts per office. Also in this case we can see there are some office that published 14000 acts."
   ]
  },
  {
   "cell_type": "code",
   "execution_count": 17,
   "metadata": {},
   "outputs": [
    {
     "name": "stdout",
     "output_type": "stream",
     "text": [
      "distribution acts per year\n",
      "Top 10 \n",
      " UFFICIO_DG\n",
      "50073    13890\n",
      "50117    12279\n",
      "50003     9776\n",
      "50004     9732\n",
      "50000     8331\n",
      "50005     7515\n",
      "01937     7192\n",
      "50118     6399\n",
      "50079     6087\n",
      "50006     6047\n",
      "Name: CODICE_PRATICA, dtype: int64\n",
      "Last 10 \n",
      " UFFICIO_DG\n",
      "99999    792\n",
      "50112    745\n",
      "50124    708\n",
      "50201    654\n",
      "50122    449\n",
      "50044    445\n",
      "50114    427\n",
      "50113    353\n",
      "50200    116\n",
      "50026    106\n",
      "Name: CODICE_PRATICA, dtype: int64\n"
     ]
    },
    {
     "data": {
      "image/png": "[encoded data removed]",
      "text/plain": [
       "<matplotlib.figure.Figure at 0x7f5b8166c358>"
      ]
     },
     "metadata": {},
     "output_type": "display_data"
    }
   ],
   "source": [
    "print('distribution acts per year')\n",
    "acts_per_office = df.groupby([df['UFFICIO_DG']])['CODICE_PRATICA'].count()\n",
    "acts_per_office = acts_per_office.sort_values(ascending=False)\n",
    "print('Top 10 \\n',acts_per_office[:10])\n",
    "print('Last 10 \\n',acts_per_office[-10:])\n",
    "\n",
    "fig, ax = plt.subplots()\n",
    "sns.barplot(acts_per_office.index, acts_per_office.values, palette=\"BuGn_d\", \n",
    "            ax=ax, order=acts_per_office.index)\n",
    "label_rotation(ax, 45)\n",
    "fig.set_size_inches(10,6)\n",
    "plt.show(fig)"
   ]
  },
  {
   "cell_type": "markdown",
   "metadata": {},
   "source": [
    "In particular we can see that top structure is:\n",
    "\n",
    "- \"D.G. COMPETITIVITA' DEL SISTEMA REGIONALE E SVILUPPO D\"\n",
    "\n",
    "while the last is\n",
    "\n",
    "- \"DIREZIONE GENERALE DELLA GIUNTA REGIONALE\""
   ]
  },
  {
   "cell_type": "markdown",
   "metadata": {},
   "source": [
    "As final exploration it would be interesting to see for the top person what is the distributions of acts per year"
   ]
  },
  {
   "cell_type": "code",
   "execution_count": 28,
   "metadata": {},
   "outputs": [
    {
     "data": {
      "text/plain": [
       "DATA_ATTO\n",
       "2000     104\n",
       "2001      93\n",
       "2002      59\n",
       "2003     122\n",
       "2004     101\n",
       "2005     109\n",
       "2006     162\n",
       "2007     128\n",
       "2008     107\n",
       "2009     133\n",
       "2010     162\n",
       "2011     179\n",
       "2012     181\n",
       "2013      62\n",
       "2014     119\n",
       "2015     122\n",
       "2016    2412\n",
       "2017    3192\n",
       "2018     475\n",
       "Name: CODICE_PRATICA, dtype: int64"
      ]
     },
     "execution_count": 28,
     "metadata": {},
     "output_type": "execute_result"
    }
   ],
   "source": [
    "df_person = df[df['PERSONA'] == '005549']\n",
    "acts_per_year_person = df_person.groupby([df_person['DATA_ATTO'].dt.year])['CODICE_PRATICA'].count()\n",
    "acts_per_year_person"
   ]
  },
  {
   "cell_type": "code",
   "execution_count": 31,
   "metadata": {},
   "outputs": [
    {
     "data": {
      "image/png": "[encoded data removed]",
      "text/plain": [
       "<matplotlib.figure.Figure at 0x7f5b81624518>"
      ]
     },
     "metadata": {},
     "output_type": "display_data"
    }
   ],
   "source": [
    "fig, ax = plt.subplots()\n",
    "sns.barplot(acts_per_year_person.index, acts_per_year_person.values, palette=\"BuGn_d\", \n",
    "            ax=ax, order=acts_per_year_person.index)\n",
    "label_rotation(ax, 45)\n",
    "fig.set_size_inches(10,6)\n",
    "plt.show(fig)"
   ]
  },
  {
   "cell_type": "markdown",
   "metadata": {},
   "source": [
    "Here we can see that apart 2016 and 2017 this person did in average the same number of acts.\n",
    "\n",
    "It would be interesting to see the contribution of each person per office in order to spot:\n",
    "- when a person moves from one office to another\n",
    "- Who is in charge of an office (considering that if a person is in charge sign more acts than the others)\n",
    "\n",
    "## Next Step\n",
    "\n",
    "After the data exploration the next steps of this notebook is to write a classification model able to predict the office that writes the act given the text in the subject (Oggetto) attribute."
   ]
  },
  {
   "cell_type": "code",
   "execution_count": null,
   "metadata": {},
   "outputs": [],
   "source": []
  }
 ],
 "metadata": {
  "kernelspec": {
   "display_name": "Python 3",
   "language": "python",
   "name": "python3"
  },
  "language_info": {
   "codemirror_mode": {
    "name": "ipython",
    "version": 3
   },
   "file_extension": ".py",
   "mimetype": "text/x-python",
   "name": "python",
   "nbconvert_exporter": "python",
   "pygments_lexer": "ipython3",
   "version": "3.6.4"
  }
 },
 "nbformat": 4,
 "nbformat_minor": 2
}
