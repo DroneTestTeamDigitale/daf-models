{
 "cells": [
  {
   "cell_type": "code",
   "execution_count": 1,
   "metadata": {},
   "outputs": [],
   "source": [
    "import json\n",
    "import pandas as pd\n",
    "import glob\n",
    "from pandas.io.json import json_normalize\n",
    "pd.options.display.max_rows = 200\n",
    "pd.options.display.max_columns = 999"
   ]
  },
  {
   "cell_type": "markdown",
   "metadata": {},
   "source": [
    "## Process the Atti Dirigenti Files"
   ]
  },
  {
   "cell_type": "code",
   "execution_count": 7,
   "metadata": {},
   "outputs": [],
   "source": [
    "path = '../regione-toscana/atti_dirigenti/regione-toscana*'"
   ]
  },
  {
   "cell_type": "code",
   "execution_count": 8,
   "metadata": {},
   "outputs": [
    {
     "data": {
      "text/plain": [
       "['regione-toscana/atti_dirigenti/regione-toscana-result-type_atti_dirigenti-year_2016-from_14000-to_14200.json',\n",
       " 'regione-toscana/atti_dirigenti/regione-toscana-result-type_atti_dirigenti-year_2005-from_2200-to_2400.json',\n",
       " 'regione-toscana/atti_dirigenti/regione-toscana-result-type_atti_dirigenti-year_2017-from_10600-to_10800.json',\n",
       " 'regione-toscana/atti_dirigenti/regione-toscana-result-type_atti_dirigenti-year_2017-from_13600-to_13800.json',\n",
       " 'regione-toscana/atti_dirigenti/regione-toscana-result-type_atti_dirigenti-year_2005-from_5000-to_5200.json']"
      ]
     },
     "execution_count": 8,
     "metadata": {},
     "output_type": "execute_result"
    }
   ],
   "source": [
    "files = glob.glob(path)\n",
    "files[:5]"
   ]
  },
  {
   "cell_type": "code",
   "execution_count": 9,
   "metadata": {},
   "outputs": [],
   "source": [
    "columns = ['MT.CODICE_PRATICA', 'MT.DATA_ATTO', 'MT.DESCRIZIONE_TIPO_PRATICA', 'MT.ID_TIPO', 'MT.ID_TIPO_PRATICA', \n",
    "           'MT.LINK_CONTENUTO_BINARIO', 'MT.OGGETTO', 'MT.PERSONA', 'MT.STATUS', 'MT.UFFICIO_AC',\n",
    "           'MT.UFFICIO_DG', 'MT.UFFICIO_SE', 'UE']\n",
    "\n",
    "update_columns = [v[3:] for v in columns[:-1]]\n",
    "update_columns.append('DETAIL_URL')"
   ]
  },
  {
   "cell_type": "code",
   "execution_count": 10,
   "metadata": {},
   "outputs": [],
   "source": [
    "df_list = []"
   ]
  },
  {
   "cell_type": "code",
   "execution_count": 11,
   "metadata": {},
   "outputs": [],
   "source": [
    " def unwrap_list(x):\n",
    "        if type(x) == list:\n",
    "            return x[0]\n",
    "        else:\n",
    "            return x"
   ]
  },
  {
   "cell_type": "code",
   "execution_count": 12,
   "metadata": {},
   "outputs": [],
   "source": [
    "for file in files:\n",
    "    with open(file, 'r') as r:\n",
    "        data = json.loads(r.read())\n",
    "        flat_records = json_normalize(data['GSP']['RES']['R'])\n",
    "        df_atti = flat_records[columns]\n",
    "        df_atti.columns = update_columns\n",
    "        df_atti = df_atti.applymap(unwrap_list)\n",
    "        df_list.append(df_atti)"
   ]
  },
  {
   "cell_type": "code",
   "execution_count": 13,
   "metadata": {},
   "outputs": [
    {
     "data": {
      "text/plain": [
       "771"
      ]
     },
     "execution_count": 13,
     "metadata": {},
     "output_type": "execute_result"
    }
   ],
   "source": [
    "len(df_list)"
   ]
  },
  {
   "cell_type": "code",
   "execution_count": 14,
   "metadata": {},
   "outputs": [],
   "source": [
    "df_atti = pd.concat(df_list)"
   ]
  },
  {
   "cell_type": "code",
   "execution_count": 15,
   "metadata": {
    "scrolled": false
   },
   "outputs": [
    {
     "data": {
      "text/plain": [
       "(153206, 13)"
      ]
     },
     "execution_count": 15,
     "metadata": {},
     "output_type": "execute_result"
    }
   ],
   "source": [
    "df_atti.shape"
   ]
  },
  {
   "cell_type": "markdown",
   "metadata": {},
   "source": [
    "## Definizione Uffici\n",
    "\n",
    "- DG: uffici Direzione Generale\n",
    "- SE: Uffici Settore\n",
    "\n",
    "SE e' un sotto ufficio della DG"
   ]
  },
  {
   "cell_type": "code",
   "execution_count": 16,
   "metadata": {},
   "outputs": [
    {
     "data": {
      "text/html": [
       "<div>\n",
       "<style scoped>\n",
       "    .dataframe tbody tr th:only-of-type {\n",
       "        vertical-align: middle;\n",
       "    }\n",
       "\n",
       "    .dataframe tbody tr th {\n",
       "        vertical-align: top;\n",
       "    }\n",
       "\n",
       "    .dataframe thead th {\n",
       "        text-align: right;\n",
       "    }\n",
       "</style>\n",
       "<table border=\"1\" class=\"dataframe\">\n",
       "  <thead>\n",
       "    <tr style=\"text-align: right;\">\n",
       "      <th></th>\n",
       "      <th>CODICE_PRATICA</th>\n",
       "      <th>DATA_ATTO</th>\n",
       "      <th>DESCRIZIONE_TIPO_PRATICA</th>\n",
       "      <th>ID_TIPO</th>\n",
       "      <th>ID_TIPO_PRATICA</th>\n",
       "      <th>LINK_CONTENUTO_BINARIO</th>\n",
       "      <th>OGGETTO</th>\n",
       "      <th>PERSONA</th>\n",
       "      <th>STATUS</th>\n",
       "      <th>UFFICIO_AC</th>\n",
       "      <th>UFFICIO_DG</th>\n",
       "      <th>UFFICIO_SE</th>\n",
       "      <th>DETAIL_URL</th>\n",
       "    </tr>\n",
       "  </thead>\n",
       "  <tbody>\n",
       "    <tr>\n",
       "      <th>0</th>\n",
       "      <td>20160140002016AD00000017201</td>\n",
       "      <td>2016-12-19</td>\n",
       "      <td>Atto dei dirigenti</td>\n",
       "      <td>ADN</td>\n",
       "      <td>MON</td>\n",
       "      <td>http://www.regione.toscana.it/bancadati/atti/C...</td>\n",
       "      <td>DGR 968/07 e s.m.i. Accreditamento degli organ...</td>\n",
       "      <td>013910</td>\n",
       "      <td>2</td>\n",
       "      <td>00000</td>\n",
       "      <td>50125</td>\n",
       "      <td>05873</td>\n",
       "      <td>http://www.regione.toscana.it/bancadati/atti/D...</td>\n",
       "    </tr>\n",
       "    <tr>\n",
       "      <th>1</th>\n",
       "      <td>20160140012016AD00000017466</td>\n",
       "      <td>2016-12-21</td>\n",
       "      <td>Atto dei dirigenti</td>\n",
       "      <td>ADN</td>\n",
       "      <td>MON</td>\n",
       "      <td>http://www.regione.toscana.it/bancadati/atti/C...</td>\n",
       "      <td>REG. CEE 2080/92 - AIUTI ALLE MISURE FORESTALI...</td>\n",
       "      <td>005595</td>\n",
       "      <td>2</td>\n",
       "      <td>00000</td>\n",
       "      <td>50117</td>\n",
       "      <td>05015</td>\n",
       "      <td>http://www.regione.toscana.it/bancadati/atti/D...</td>\n",
       "    </tr>\n",
       "    <tr>\n",
       "      <th>2</th>\n",
       "      <td>20160140022016AD00000017198</td>\n",
       "      <td>2016-12-19</td>\n",
       "      <td>Atto dei dirigenti</td>\n",
       "      <td>ADN</td>\n",
       "      <td>MON</td>\n",
       "      <td>http://www.regione.toscana.it/bancadati/atti/C...</td>\n",
       "      <td>Servizi autorizzati ex art.14 L.R. 42/98 \"Norm...</td>\n",
       "      <td>019075</td>\n",
       "      <td>2</td>\n",
       "      <td>00000</td>\n",
       "      <td>50121</td>\n",
       "      <td>04838</td>\n",
       "      <td>http://www.regione.toscana.it/bancadati/atti/D...</td>\n",
       "    </tr>\n",
       "    <tr>\n",
       "      <th>3</th>\n",
       "      <td>20160140032016AD00000017208</td>\n",
       "      <td>2016-12-19</td>\n",
       "      <td>Atto dei dirigenti</td>\n",
       "      <td>ADN</td>\n",
       "      <td>MON</td>\n",
       "      <td>http://www.regione.toscana.it/bancadati/atti/C...</td>\n",
       "      <td>L.R. 1/2006, DCR 3/2012, L.R. 1/2015 art.29, c...</td>\n",
       "      <td>020415</td>\n",
       "      <td>2</td>\n",
       "      <td>00000</td>\n",
       "      <td>50117</td>\n",
       "      <td>05018</td>\n",
       "      <td>http://www.regione.toscana.it/bancadati/atti/D...</td>\n",
       "    </tr>\n",
       "    <tr>\n",
       "      <th>4</th>\n",
       "      <td>20160140042016AD00000017268</td>\n",
       "      <td>2016-12-20</td>\n",
       "      <td>Atto dei dirigenti</td>\n",
       "      <td>ADN</td>\n",
       "      <td>MON</td>\n",
       "      <td>http://www.regione.toscana.it/bancadati/atti/C...</td>\n",
       "      <td>L.R. n. 87/1997 - Pubblicazione sul BURT dell'...</td>\n",
       "      <td>010826</td>\n",
       "      <td>2</td>\n",
       "      <td>00000</td>\n",
       "      <td>50116</td>\n",
       "      <td>05895</td>\n",
       "      <td>http://www.regione.toscana.it/bancadati/atti/D...</td>\n",
       "    </tr>\n",
       "  </tbody>\n",
       "</table>\n",
       "</div>"
      ],
      "text/plain": [
       "                CODICE_PRATICA   DATA_ATTO DESCRIZIONE_TIPO_PRATICA ID_TIPO  \\\n",
       "0  20160140002016AD00000017201  2016-12-19       Atto dei dirigenti     ADN   \n",
       "1  20160140012016AD00000017466  2016-12-21       Atto dei dirigenti     ADN   \n",
       "2  20160140022016AD00000017198  2016-12-19       Atto dei dirigenti     ADN   \n",
       "3  20160140032016AD00000017208  2016-12-19       Atto dei dirigenti     ADN   \n",
       "4  20160140042016AD00000017268  2016-12-20       Atto dei dirigenti     ADN   \n",
       "\n",
       "  ID_TIPO_PRATICA                             LINK_CONTENUTO_BINARIO  \\\n",
       "0             MON  http://www.regione.toscana.it/bancadati/atti/C...   \n",
       "1             MON  http://www.regione.toscana.it/bancadati/atti/C...   \n",
       "2             MON  http://www.regione.toscana.it/bancadati/atti/C...   \n",
       "3             MON  http://www.regione.toscana.it/bancadati/atti/C...   \n",
       "4             MON  http://www.regione.toscana.it/bancadati/atti/C...   \n",
       "\n",
       "                                             OGGETTO PERSONA STATUS  \\\n",
       "0  DGR 968/07 e s.m.i. Accreditamento degli organ...  013910      2   \n",
       "1  REG. CEE 2080/92 - AIUTI ALLE MISURE FORESTALI...  005595      2   \n",
       "2  Servizi autorizzati ex art.14 L.R. 42/98 \"Norm...  019075      2   \n",
       "3  L.R. 1/2006, DCR 3/2012, L.R. 1/2015 art.29, c...  020415      2   \n",
       "4  L.R. n. 87/1997 - Pubblicazione sul BURT dell'...  010826      2   \n",
       "\n",
       "  UFFICIO_AC UFFICIO_DG UFFICIO_SE  \\\n",
       "0      00000      50125      05873   \n",
       "1      00000      50117      05015   \n",
       "2      00000      50121      04838   \n",
       "3      00000      50117      05018   \n",
       "4      00000      50116      05895   \n",
       "\n",
       "                                          DETAIL_URL  \n",
       "0  http://www.regione.toscana.it/bancadati/atti/D...  \n",
       "1  http://www.regione.toscana.it/bancadati/atti/D...  \n",
       "2  http://www.regione.toscana.it/bancadati/atti/D...  \n",
       "3  http://www.regione.toscana.it/bancadati/atti/D...  \n",
       "4  http://www.regione.toscana.it/bancadati/atti/D...  "
      ]
     },
     "execution_count": 16,
     "metadata": {},
     "output_type": "execute_result"
    }
   ],
   "source": [
    "df_atti.head()"
   ]
  },
  {
   "cell_type": "code",
   "execution_count": 18,
   "metadata": {},
   "outputs": [],
   "source": [
    "df_atti['STATUS'] = df_atti['STATUS'].astype('int64')"
   ]
  },
  {
   "cell_type": "code",
   "execution_count": 4,
   "metadata": {},
   "outputs": [],
   "source": [
    "df_atti['DATA_ATTO'] = pd.to_datetime(df_atti.DATA_ATTO)"
   ]
  },
  {
   "cell_type": "code",
   "execution_count": 5,
   "metadata": {},
   "outputs": [
    {
     "data": {
      "text/plain": [
       "CODICE_PRATICA                      object\n",
       "DATA_ATTO                   datetime64[ns]\n",
       "DESCRIZIONE_TIPO_PRATICA            object\n",
       "ID_TIPO                             object\n",
       "ID_TIPO_PRATICA                     object\n",
       "LINK_CONTENUTO_BINARIO              object\n",
       "OGGETTO                             object\n",
       "PERSONA                             object\n",
       "STATUS                               int64\n",
       "UFFICIO_AC                          object\n",
       "UFFICIO_DG                          object\n",
       "UFFICIO_SE                          object\n",
       "DETAIL_URL                          object\n",
       "dtype: object"
      ]
     },
     "execution_count": 5,
     "metadata": {},
     "output_type": "execute_result"
    }
   ],
   "source": [
    "df_atti.dtypes"
   ]
  },
  {
   "cell_type": "code",
   "execution_count": 6,
   "metadata": {},
   "outputs": [],
   "source": [
    "df_atti.to_pickle('regione-toscana/atti-dirigenti.pkl')"
   ]
  }
 ],
 "metadata": {
  "kernelspec": {
   "display_name": "Python 3",
   "language": "python",
   "name": "python3"
  },
  "language_info": {
   "codemirror_mode": {
    "name": "ipython",
    "version": 3
   },
   "file_extension": ".py",
   "mimetype": "text/x-python",
   "name": "python",
   "nbconvert_exporter": "python",
   "pygments_lexer": "ipython3",
   "version": "3.6.4"
  }
 },
 "nbformat": 4,
 "nbformat_minor": 2
}
