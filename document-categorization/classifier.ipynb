{
 "cells": [
  {
   "cell_type": "code",
   "execution_count": 1,
   "metadata": {},
   "outputs": [
    {
     "name": "stderr",
     "output_type": "stream",
     "text": [
      "Using TensorFlow backend.\n"
     ]
    }
   ],
   "source": [
    "import numpy as np\n",
    "import pandas as pd\n",
    "\n",
    "from keras import models\n",
    "from keras import layers\n",
    "from keras import optimizers\n",
    "from keras import losses\n",
    "from keras import activations\n",
    "from keras import metrics\n",
    "import math\n",
    "\n",
    "import random\n",
    "\n",
    "# to make the experimens replicable\n",
    "random.seed(123456)"
   ]
  },
  {
   "cell_type": "code",
   "execution_count": 2,
   "metadata": {},
   "outputs": [],
   "source": [
    "df = pd.read_pickle('regione-toscana/atti-dirigenti.pkl')"
   ]
  },
  {
   "cell_type": "code",
   "execution_count": 3,
   "metadata": {},
   "outputs": [],
   "source": [
    "dataset = df[['OGGETTO', 'UFFICIO_DG']]"
   ]
  },
  {
   "cell_type": "code",
   "execution_count": 4,
   "metadata": {},
   "outputs": [
    {
     "data": {
      "text/html": [
       "<div>\n",
       "<style scoped>\n",
       "    .dataframe tbody tr th:only-of-type {\n",
       "        vertical-align: middle;\n",
       "    }\n",
       "\n",
       "    .dataframe tbody tr th {\n",
       "        vertical-align: top;\n",
       "    }\n",
       "\n",
       "    .dataframe thead th {\n",
       "        text-align: right;\n",
       "    }\n",
       "</style>\n",
       "<table border=\"1\" class=\"dataframe\">\n",
       "  <thead>\n",
       "    <tr style=\"text-align: right;\">\n",
       "      <th></th>\n",
       "      <th>OGGETTO</th>\n",
       "      <th>UFFICIO_DG</th>\n",
       "    </tr>\n",
       "  </thead>\n",
       "  <tbody>\n",
       "    <tr>\n",
       "      <th>0</th>\n",
       "      <td>DGR 968/07 e s.m.i. Accreditamento degli organ...</td>\n",
       "      <td>50125</td>\n",
       "    </tr>\n",
       "    <tr>\n",
       "      <th>1</th>\n",
       "      <td>REG. CEE 2080/92 - AIUTI ALLE MISURE FORESTALI...</td>\n",
       "      <td>50117</td>\n",
       "    </tr>\n",
       "    <tr>\n",
       "      <th>2</th>\n",
       "      <td>Servizi autorizzati ex art.14 L.R. 42/98 \"Norm...</td>\n",
       "      <td>50121</td>\n",
       "    </tr>\n",
       "    <tr>\n",
       "      <th>3</th>\n",
       "      <td>L.R. 1/2006, DCR 3/2012, L.R. 1/2015 art.29, c...</td>\n",
       "      <td>50117</td>\n",
       "    </tr>\n",
       "    <tr>\n",
       "      <th>4</th>\n",
       "      <td>L.R. n. 87/1997 - Pubblicazione sul BURT dell'...</td>\n",
       "      <td>50116</td>\n",
       "    </tr>\n",
       "  </tbody>\n",
       "</table>\n",
       "</div>"
      ],
      "text/plain": [
       "                                             OGGETTO UFFICIO_DG\n",
       "0  DGR 968/07 e s.m.i. Accreditamento degli organ...      50125\n",
       "1  REG. CEE 2080/92 - AIUTI ALLE MISURE FORESTALI...      50117\n",
       "2  Servizi autorizzati ex art.14 L.R. 42/98 \"Norm...      50121\n",
       "3  L.R. 1/2006, DCR 3/2012, L.R. 1/2015 art.29, c...      50117\n",
       "4  L.R. n. 87/1997 - Pubblicazione sul BURT dell'...      50116"
      ]
     },
     "execution_count": 4,
     "metadata": {},
     "output_type": "execute_result"
    }
   ],
   "source": [
    "dataset.head()"
   ]
  },
  {
   "cell_type": "code",
   "execution_count": 6,
   "metadata": {
    "scrolled": true
   },
   "outputs": [
    {
     "data": {
      "text/plain": [
       "(153206, 2)"
      ]
     },
     "execution_count": 6,
     "metadata": {},
     "output_type": "execute_result"
    }
   ],
   "source": [
    "dataset.shape"
   ]
  },
  {
   "cell_type": "markdown",
   "metadata": {},
   "source": [
    "### Compute the number of classes"
   ]
  },
  {
   "cell_type": "code",
   "execution_count": 7,
   "metadata": {},
   "outputs": [
    {
     "data": {
      "text/plain": [
       "43"
      ]
     },
     "execution_count": 7,
     "metadata": {},
     "output_type": "execute_result"
    }
   ],
   "source": [
    "len(set(dataset.UFFICIO_DG))"
   ]
  },
  {
   "cell_type": "markdown",
   "metadata": {},
   "source": [
    "### Groups the documents by office"
   ]
  },
  {
   "cell_type": "code",
   "execution_count": 8,
   "metadata": {},
   "outputs": [
    {
     "data": {
      "text/html": [
       "<div>\n",
       "<style scoped>\n",
       "    .dataframe tbody tr th:only-of-type {\n",
       "        vertical-align: middle;\n",
       "    }\n",
       "\n",
       "    .dataframe tbody tr th {\n",
       "        vertical-align: top;\n",
       "    }\n",
       "\n",
       "    .dataframe thead th {\n",
       "        text-align: right;\n",
       "    }\n",
       "</style>\n",
       "<table border=\"1\" class=\"dataframe\">\n",
       "  <thead>\n",
       "    <tr style=\"text-align: right;\">\n",
       "      <th></th>\n",
       "      <th>OGGETTO</th>\n",
       "    </tr>\n",
       "  </thead>\n",
       "  <tbody>\n",
       "    <tr>\n",
       "      <th>count</th>\n",
       "      <td>43.000000</td>\n",
       "    </tr>\n",
       "    <tr>\n",
       "      <th>mean</th>\n",
       "      <td>3562.930233</td>\n",
       "    </tr>\n",
       "    <tr>\n",
       "      <th>std</th>\n",
       "      <td>3408.012746</td>\n",
       "    </tr>\n",
       "    <tr>\n",
       "      <th>min</th>\n",
       "      <td>106.000000</td>\n",
       "    </tr>\n",
       "    <tr>\n",
       "      <th>25%</th>\n",
       "      <td>1020.000000</td>\n",
       "    </tr>\n",
       "    <tr>\n",
       "      <th>50%</th>\n",
       "      <td>2153.000000</td>\n",
       "    </tr>\n",
       "    <tr>\n",
       "      <th>75%</th>\n",
       "      <td>5418.000000</td>\n",
       "    </tr>\n",
       "    <tr>\n",
       "      <th>max</th>\n",
       "      <td>13890.000000</td>\n",
       "    </tr>\n",
       "  </tbody>\n",
       "</table>\n",
       "</div>"
      ],
      "text/plain": [
       "            OGGETTO\n",
       "count     43.000000\n",
       "mean    3562.930233\n",
       "std     3408.012746\n",
       "min      106.000000\n",
       "25%     1020.000000\n",
       "50%     2153.000000\n",
       "75%     5418.000000\n",
       "max    13890.000000"
      ]
     },
     "execution_count": 8,
     "metadata": {},
     "output_type": "execute_result"
    }
   ],
   "source": [
    "documents_per_office = dataset.groupby(['UFFICIO_DG']).count()\n",
    "documents_per_office.describe()"
   ]
  },
  {
   "cell_type": "markdown",
   "metadata": {},
   "source": [
    "### We select the documents with frequency greater that the 25 percentile"
   ]
  },
  {
   "cell_type": "code",
   "execution_count": 10,
   "metadata": {},
   "outputs": [
    {
     "data": {
      "text/plain": [
       "(32, 1)"
      ]
     },
     "execution_count": 10,
     "metadata": {},
     "output_type": "execute_result"
    }
   ],
   "source": [
    "value = documents_per_office.quantile(0.25)[0]\n",
    "sel_dataset = documents_per_office[documents_per_office.OGGETTO >= value]\n",
    "sel_dataset.shape"
   ]
  },
  {
   "cell_type": "code",
   "execution_count": 14,
   "metadata": {},
   "outputs": [
    {
     "name": "stderr",
     "output_type": "stream",
     "text": [
      "/home/fabio/miniconda3/envs/dl/lib/python3.6/site-packages/ipykernel_launcher.py:1: SettingWithCopyWarning: \n",
      "A value is trying to be set on a copy of a slice from a DataFrame.\n",
      "Try using .loc[row_indexer,col_indexer] = value instead\n",
      "\n",
      "See the caveats in the documentation: http://pandas.pydata.org/pandas-docs/stable/indexing.html#indexing-view-versus-copy\n",
      "  \"\"\"Entry point for launching an IPython kernel.\n"
     ]
    }
   ],
   "source": [
    "sel_dataset['UFFICIO_DG'] = sel_dataset.index"
   ]
  },
  {
   "cell_type": "markdown",
   "metadata": {},
   "source": [
    "### Join the dataset to select a subset of the data"
   ]
  },
  {
   "cell_type": "code",
   "execution_count": 15,
   "metadata": {},
   "outputs": [],
   "source": [
    "final_ds = dataset.merge(sel_dataset, how='inner', on=['UFFICIO_DG'])"
   ]
  },
  {
   "cell_type": "code",
   "execution_count": 16,
   "metadata": {},
   "outputs": [
    {
     "data": {
      "text/plain": [
       "(147463, 3)"
      ]
     },
     "execution_count": 16,
     "metadata": {},
     "output_type": "execute_result"
    }
   ],
   "source": [
    "final_ds.shape"
   ]
  },
  {
   "cell_type": "code",
   "execution_count": 17,
   "metadata": {},
   "outputs": [
    {
     "data": {
      "text/plain": [
       "(153206, 2)"
      ]
     },
     "execution_count": 17,
     "metadata": {},
     "output_type": "execute_result"
    }
   ],
   "source": [
    "dataset.shape"
   ]
  },
  {
   "cell_type": "code",
   "execution_count": 18,
   "metadata": {},
   "outputs": [
    {
     "data": {
      "text/html": [
       "<div>\n",
       "<style scoped>\n",
       "    .dataframe tbody tr th:only-of-type {\n",
       "        vertical-align: middle;\n",
       "    }\n",
       "\n",
       "    .dataframe tbody tr th {\n",
       "        vertical-align: top;\n",
       "    }\n",
       "\n",
       "    .dataframe thead th {\n",
       "        text-align: right;\n",
       "    }\n",
       "</style>\n",
       "<table border=\"1\" class=\"dataframe\">\n",
       "  <thead>\n",
       "    <tr style=\"text-align: right;\">\n",
       "      <th></th>\n",
       "      <th>OGGETTO_x</th>\n",
       "      <th>UFFICIO_DG</th>\n",
       "      <th>OGGETTO_y</th>\n",
       "    </tr>\n",
       "  </thead>\n",
       "  <tbody>\n",
       "    <tr>\n",
       "      <th>0</th>\n",
       "      <td>DGR 968/07 e s.m.i. Accreditamento degli organ...</td>\n",
       "      <td>50125</td>\n",
       "      <td>4281</td>\n",
       "    </tr>\n",
       "    <tr>\n",
       "      <th>1</th>\n",
       "      <td>Nomina Commissione d’esame per il percorso for...</td>\n",
       "      <td>50125</td>\n",
       "      <td>4281</td>\n",
       "    </tr>\n",
       "    <tr>\n",
       "      <th>2</th>\n",
       "      <td>Nomina della Commissione d'esame matricola 201...</td>\n",
       "      <td>50125</td>\n",
       "      <td>4281</td>\n",
       "    </tr>\n",
       "    <tr>\n",
       "      <th>3</th>\n",
       "      <td>Progetti formativi per drop-out a.s.f. 2015-20...</td>\n",
       "      <td>50125</td>\n",
       "      <td>4281</td>\n",
       "    </tr>\n",
       "    <tr>\n",
       "      <th>4</th>\n",
       "      <td>REG (CE) 1080/2006-Por Creo Fesr 2007-2013-Lin...</td>\n",
       "      <td>50125</td>\n",
       "      <td>4281</td>\n",
       "    </tr>\n",
       "  </tbody>\n",
       "</table>\n",
       "</div>"
      ],
      "text/plain": [
       "                                           OGGETTO_x UFFICIO_DG  OGGETTO_y\n",
       "0  DGR 968/07 e s.m.i. Accreditamento degli organ...      50125       4281\n",
       "1  Nomina Commissione d’esame per il percorso for...      50125       4281\n",
       "2  Nomina della Commissione d'esame matricola 201...      50125       4281\n",
       "3  Progetti formativi per drop-out a.s.f. 2015-20...      50125       4281\n",
       "4  REG (CE) 1080/2006-Por Creo Fesr 2007-2013-Lin...      50125       4281"
      ]
     },
     "execution_count": 18,
     "metadata": {},
     "output_type": "execute_result"
    }
   ],
   "source": [
    "final_ds.head()"
   ]
  },
  {
   "cell_type": "markdown",
   "metadata": {},
   "source": [
    "### Select the OGGETTO and UFFICIO"
   ]
  },
  {
   "cell_type": "code",
   "execution_count": 19,
   "metadata": {},
   "outputs": [],
   "source": [
    "final_ds = final_ds[['OGGETTO_x',\"UFFICIO_DG\"]]"
   ]
  },
  {
   "cell_type": "code",
   "execution_count": 20,
   "metadata": {},
   "outputs": [
    {
     "data": {
      "text/html": [
       "<div>\n",
       "<style scoped>\n",
       "    .dataframe tbody tr th:only-of-type {\n",
       "        vertical-align: middle;\n",
       "    }\n",
       "\n",
       "    .dataframe tbody tr th {\n",
       "        vertical-align: top;\n",
       "    }\n",
       "\n",
       "    .dataframe thead th {\n",
       "        text-align: right;\n",
       "    }\n",
       "</style>\n",
       "<table border=\"1\" class=\"dataframe\">\n",
       "  <thead>\n",
       "    <tr style=\"text-align: right;\">\n",
       "      <th></th>\n",
       "      <th>OGGETTO_x</th>\n",
       "      <th>UFFICIO_DG</th>\n",
       "    </tr>\n",
       "  </thead>\n",
       "  <tbody>\n",
       "    <tr>\n",
       "      <th>0</th>\n",
       "      <td>DGR 968/07 e s.m.i. Accreditamento degli organ...</td>\n",
       "      <td>50125</td>\n",
       "    </tr>\n",
       "    <tr>\n",
       "      <th>1</th>\n",
       "      <td>Nomina Commissione d’esame per il percorso for...</td>\n",
       "      <td>50125</td>\n",
       "    </tr>\n",
       "    <tr>\n",
       "      <th>2</th>\n",
       "      <td>Nomina della Commissione d'esame matricola 201...</td>\n",
       "      <td>50125</td>\n",
       "    </tr>\n",
       "    <tr>\n",
       "      <th>3</th>\n",
       "      <td>Progetti formativi per drop-out a.s.f. 2015-20...</td>\n",
       "      <td>50125</td>\n",
       "    </tr>\n",
       "    <tr>\n",
       "      <th>4</th>\n",
       "      <td>REG (CE) 1080/2006-Por Creo Fesr 2007-2013-Lin...</td>\n",
       "      <td>50125</td>\n",
       "    </tr>\n",
       "  </tbody>\n",
       "</table>\n",
       "</div>"
      ],
      "text/plain": [
       "                                           OGGETTO_x UFFICIO_DG\n",
       "0  DGR 968/07 e s.m.i. Accreditamento degli organ...      50125\n",
       "1  Nomina Commissione d’esame per il percorso for...      50125\n",
       "2  Nomina della Commissione d'esame matricola 201...      50125\n",
       "3  Progetti formativi per drop-out a.s.f. 2015-20...      50125\n",
       "4  REG (CE) 1080/2006-Por Creo Fesr 2007-2013-Lin...      50125"
      ]
     },
     "execution_count": 20,
     "metadata": {},
     "output_type": "execute_result"
    }
   ],
   "source": [
    "final_ds.head()"
   ]
  },
  {
   "cell_type": "markdown",
   "metadata": {},
   "source": [
    "### Transform it in a dataset"
   ]
  },
  {
   "cell_type": "code",
   "execution_count": 21,
   "metadata": {},
   "outputs": [],
   "source": [
    "samples = []\n",
    "labels = []"
   ]
  },
  {
   "cell_type": "code",
   "execution_count": 22,
   "metadata": {},
   "outputs": [],
   "source": [
    "for text, label in final_ds.as_matrix():\n",
    "    samples.append(text)\n",
    "    labels.append(label)"
   ]
  },
  {
   "cell_type": "code",
   "execution_count": 23,
   "metadata": {
    "scrolled": true
   },
   "outputs": [
    {
     "data": {
      "text/plain": [
       "[\"DGR 968/07 e s.m.i. Accreditamento degli organismi formativi. Rilascio dell'accreditamento all'organismo formativo Bioscience Research Center - cod. GR1035.\",\n",
       " 'Nomina Commissione d’esame per il percorso formativo “Formazione obbligatoria per utilizzatori professionali di prodotti fitosanitari”, MATRICOLA N. 2016SI0046',\n",
       " \"Nomina della Commissione d'esame matricola 2016PI0301. Agenzia Formativa Cescot\",\n",
       " 'Progetti formativi per drop-out a.s.f. 2015-2016. Integrazione impegno per progetto \"Figaro - Operatore del benessere (acconciatura)\"',\n",
       " 'REG (CE) 1080/2006-Por Creo Fesr 2007-2013-Linea di intevento 5.1.d-Chiusura attività']"
      ]
     },
     "execution_count": 23,
     "metadata": {},
     "output_type": "execute_result"
    }
   ],
   "source": [
    "samples[:5]"
   ]
  },
  {
   "cell_type": "code",
   "execution_count": 24,
   "metadata": {},
   "outputs": [
    {
     "data": {
      "text/plain": [
       "['50125', '50125', '50125', '50125', '50125']"
      ]
     },
     "execution_count": 24,
     "metadata": {},
     "output_type": "execute_result"
    }
   ],
   "source": [
    "labels[:5]"
   ]
  },
  {
   "cell_type": "code",
   "execution_count": 26,
   "metadata": {},
   "outputs": [],
   "source": [
    "samples = np.array(samples)\n",
    "labels = np.array(labels)"
   ]
  },
  {
   "cell_type": "markdown",
   "metadata": {},
   "source": [
    "## Train, Val and Test Set\n",
    "\n",
    "Normally we split the dataset into:\n",
    "- 70% for training\n",
    "- 10% for validation\n",
    "- 20% for testing"
   ]
  },
  {
   "cell_type": "code",
   "execution_count": 27,
   "metadata": {},
   "outputs": [
    {
     "data": {
      "text/plain": [
       "(147463,)"
      ]
     },
     "execution_count": 27,
     "metadata": {},
     "output_type": "execute_result"
    }
   ],
   "source": [
    "samples.shape"
   ]
  },
  {
   "cell_type": "markdown",
   "metadata": {},
   "source": [
    "### Shuffle Data"
   ]
  },
  {
   "cell_type": "code",
   "execution_count": 28,
   "metadata": {},
   "outputs": [],
   "source": [
    "indices = list(range(len(samples)))\n",
    "np.random.shuffle(indices)\n",
    "\n",
    "samples = samples[indices]\n",
    "labels = labels[indices]"
   ]
  },
  {
   "cell_type": "code",
   "execution_count": 29,
   "metadata": {},
   "outputs": [
    {
     "data": {
      "text/plain": [
       "array(['50003', '01943', '50083', '50006', '50005'], dtype='<U5')"
      ]
     },
     "execution_count": 29,
     "metadata": {},
     "output_type": "execute_result"
    }
   ],
   "source": [
    "labels[:5]"
   ]
  },
  {
   "cell_type": "markdown",
   "metadata": {},
   "source": [
    "## Tokenize the Dataset"
   ]
  },
  {
   "cell_type": "code",
   "execution_count": 30,
   "metadata": {},
   "outputs": [],
   "source": [
    "from keras.preprocessing.text import Tokenizer"
   ]
  },
  {
   "cell_type": "code",
   "execution_count": 31,
   "metadata": {},
   "outputs": [],
   "source": [
    "tokenizer = Tokenizer(num_words=10000)\n",
    "tokenizer.fit_on_texts(samples)"
   ]
  },
  {
   "cell_type": "code",
   "execution_count": 32,
   "metadata": {},
   "outputs": [],
   "source": [
    "sequences = tokenizer.texts_to_sequences(samples)"
   ]
  },
  {
   "cell_type": "code",
   "execution_count": 33,
   "metadata": {},
   "outputs": [
    {
     "name": "stdout",
     "output_type": "stream",
     "text": [
      "[28, 181, 6, 91, 83, 63, 15, 2, 20, 1, 235, 746, 363, 22, 41, 97, 1262, 3636, 4, 63, 1, 457, 2, 1182, 18, 676]\n",
      "[1287, 657, 4, 69, 354, 1, 88, 192, 1, 131, 4, 4531, 1640, 18, 223, 606, 538, 562, 22, 7575, 112, 55, 142, 15, 1, 35]\n"
     ]
    },
    {
     "data": {
      "text/plain": [
       "[None, None]"
      ]
     },
     "execution_count": 33,
     "metadata": {},
     "output_type": "execute_result"
    }
   ],
   "source": [
    "[print(s) for s in sequences[:2]]"
   ]
  },
  {
   "cell_type": "markdown",
   "metadata": {},
   "source": [
    "Convert labels to sequences"
   ]
  },
  {
   "cell_type": "code",
   "execution_count": 35,
   "metadata": {},
   "outputs": [],
   "source": [
    "index_to_labels = dict(enumerate(set(labels)))\n",
    "labels_to_index = {v:k for k,v in index_to_labels.items()}"
   ]
  },
  {
   "cell_type": "code",
   "execution_count": 37,
   "metadata": {},
   "outputs": [
    {
     "data": {
      "text/plain": [
       "{'01025': 0,\n",
       " '01027': 14,\n",
       " '01923': 31,\n",
       " '01928': 1,\n",
       " '01931': 29,\n",
       " '01934': 21,\n",
       " '01937': 10,\n",
       " '01943': 4,\n",
       " '01946': 8,\n",
       " '02090': 12,\n",
       " '50000': 25,\n",
       " '50001': 11,\n",
       " '50002': 26,\n",
       " '50003': 24,\n",
       " '50004': 17,\n",
       " '50005': 20,\n",
       " '50006': 16,\n",
       " '50007': 27,\n",
       " '50069': 13,\n",
       " '50073': 19,\n",
       " '50079': 18,\n",
       " '50083': 5,\n",
       " '50102': 22,\n",
       " '50115': 3,\n",
       " '50116': 7,\n",
       " '50117': 15,\n",
       " '50118': 2,\n",
       " '50119': 6,\n",
       " '50123': 30,\n",
       " '50125': 9,\n",
       " '50127': 23,\n",
       " '50202': 28}"
      ]
     },
     "execution_count": 37,
     "metadata": {},
     "output_type": "execute_result"
    }
   ],
   "source": [
    "labels_to_index"
   ]
  },
  {
   "cell_type": "code",
   "execution_count": 38,
   "metadata": {},
   "outputs": [
    {
     "data": {
      "text/plain": [
       "32"
      ]
     },
     "execution_count": 38,
     "metadata": {},
     "output_type": "execute_result"
    }
   ],
   "source": [
    "len(labels_to_index)"
   ]
  },
  {
   "cell_type": "code",
   "execution_count": 39,
   "metadata": {},
   "outputs": [
    {
     "data": {
      "text/plain": [
       "array(['50003', '01943', '50083', ..., '02090', '50000', '50005'],\n",
       "      dtype='<U5')"
      ]
     },
     "execution_count": 39,
     "metadata": {},
     "output_type": "execute_result"
    }
   ],
   "source": [
    "labels"
   ]
  },
  {
   "cell_type": "code",
   "execution_count": 40,
   "metadata": {},
   "outputs": [],
   "source": [
    "encoded_labels = [labels_to_index[l] for l in labels]"
   ]
  },
  {
   "cell_type": "code",
   "execution_count": 41,
   "metadata": {},
   "outputs": [
    {
     "data": {
      "text/plain": [
       "[24, 4, 5, 16, 20, 21, 10, 18, 7, 6]"
      ]
     },
     "execution_count": 41,
     "metadata": {},
     "output_type": "execute_result"
    }
   ],
   "source": [
    "encoded_labels[:10]"
   ]
  },
  {
   "cell_type": "markdown",
   "metadata": {},
   "source": [
    "## Train, Val and Test Set\n",
    "\n",
    "Normally, we split the dataset into:\n",
    "- train: 70%\n",
    "- val: 10%\n",
    "- test: 20%"
   ]
  },
  {
   "cell_type": "code",
   "execution_count": 42,
   "metadata": {},
   "outputs": [],
   "source": [
    "training_size = math.trunc(len(sequences) * 0.7)\n",
    "val_size = math.trunc(len(sequences) * 0.8)\n",
    "test_size = len(sequences)"
   ]
  },
  {
   "cell_type": "code",
   "execution_count": 43,
   "metadata": {},
   "outputs": [],
   "source": [
    "train_data = sequences[:training_size]\n",
    "train_labels = encoded_labels[:training_size]\n",
    "\n",
    "val_data = sequences[training_size:val_size]\n",
    "val_labels = encoded_labels[training_size:val_size]\n",
    "\n",
    "test_data = sequences[val_size:]\n",
    "test_labels = encoded_labels[val_size:] "
   ]
  },
  {
   "cell_type": "markdown",
   "metadata": {},
   "source": [
    "### Preparing Data\n",
    "\n",
    "for data and labels"
   ]
  },
  {
   "cell_type": "code",
   "execution_count": 44,
   "metadata": {},
   "outputs": [],
   "source": [
    "def vectorize_sequences(sequences, dimension=10000):\n",
    "    results = np.zeros((len(sequences), dimension), dtype=np.float32)\n",
    "    for i, sequence in enumerate(sequences):\n",
    "        results[i, sequence] = 1.\n",
    "    return results"
   ]
  },
  {
   "cell_type": "code",
   "execution_count": 45,
   "metadata": {},
   "outputs": [],
   "source": [
    "x_train = vectorize_sequences(train_data)\n",
    "x_val = vectorize_sequences(val_data)\n",
    "x_test = vectorize_sequences(test_data)"
   ]
  },
  {
   "cell_type": "code",
   "execution_count": 47,
   "metadata": {},
   "outputs": [
    {
     "data": {
      "text/plain": [
       "array([[0., 1., 1., ..., 0., 0., 0.],\n",
       "       [0., 1., 0., ..., 0., 0., 0.],\n",
       "       [0., 1., 0., ..., 0., 0., 0.],\n",
       "       ...,\n",
       "       [0., 1., 0., ..., 0., 0., 0.],\n",
       "       [0., 1., 1., ..., 0., 0., 0.],\n",
       "       [0., 1., 0., ..., 0., 0., 0.]], dtype=float32)"
      ]
     },
     "execution_count": 47,
     "metadata": {},
     "output_type": "execute_result"
    }
   ],
   "source": [
    "x_train[0:]"
   ]
  },
  {
   "cell_type": "code",
   "execution_count": 48,
   "metadata": {},
   "outputs": [
    {
     "data": {
      "text/plain": [
       "(103224, 10000)"
      ]
     },
     "execution_count": 48,
     "metadata": {},
     "output_type": "execute_result"
    }
   ],
   "source": [
    "x_train.shape"
   ]
  },
  {
   "cell_type": "markdown",
   "metadata": {},
   "source": [
    "One hot encoding for the labels"
   ]
  },
  {
   "cell_type": "code",
   "execution_count": 49,
   "metadata": {},
   "outputs": [],
   "source": [
    "def to_one_hot(labels):\n",
    "    results = np.zeros((len(labels), len(set(labels))), dtype=np.float32)\n",
    "    for i, label in enumerate(labels):\n",
    "        results[i, label] = 1.\n",
    "    return results"
   ]
  },
  {
   "cell_type": "code",
   "execution_count": 50,
   "metadata": {},
   "outputs": [],
   "source": [
    "y_train = to_one_hot(train_labels)\n",
    "y_val = to_one_hot(val_labels)\n",
    "y_test = to_one_hot(test_labels)"
   ]
  },
  {
   "cell_type": "code",
   "execution_count": 51,
   "metadata": {},
   "outputs": [
    {
     "data": {
      "text/plain": [
       "array([[0., 0., 0., ..., 0., 0., 0.],\n",
       "       [0., 0., 0., ..., 0., 0., 0.],\n",
       "       [0., 0., 0., ..., 0., 0., 0.],\n",
       "       ...,\n",
       "       [0., 0., 0., ..., 0., 0., 0.],\n",
       "       [0., 0., 0., ..., 0., 0., 0.],\n",
       "       [0., 0., 1., ..., 0., 0., 0.]], dtype=float32)"
      ]
     },
     "execution_count": 51,
     "metadata": {},
     "output_type": "execute_result"
    }
   ],
   "source": [
    "y_train"
   ]
  },
  {
   "cell_type": "markdown",
   "metadata": {},
   "source": [
    "## Build the Models"
   ]
  },
  {
   "cell_type": "code",
   "execution_count": 52,
   "metadata": {},
   "outputs": [],
   "source": [
    "def build_model(neurons):\n",
    "    model = models.Sequential()\n",
    "    model.add(layers.Dense(neurons, activation='relu', input_shape=(x_train.shape[-1], )))\n",
    "    model.add(layers.Dense(neurons, activation='relu'))\n",
    "    model.add(layers.Dense(neurons, activation='relu'))\n",
    "    model.add(layers.Dense(len(labels_to_index), activation='softmax'))\n",
    "    \n",
    "    model.compile(optimizer=optimizers.Adam(), \n",
    "              loss='categorical_crossentropy',\n",
    "              metrics=['accuracy'])\n",
    "    return model"
   ]
  },
  {
   "cell_type": "code",
   "execution_count": 53,
   "metadata": {},
   "outputs": [],
   "source": [
    "model_small = build_model(16)\n",
    "model_medium = build_model(64)\n",
    "model_large = build_model(256)"
   ]
  },
  {
   "cell_type": "code",
   "execution_count": 54,
   "metadata": {},
   "outputs": [
    {
     "name": "stdout",
     "output_type": "stream",
     "text": [
      "Train on 103224 samples, validate on 14746 samples\n",
      "Epoch 1/10\n",
      "103224/103224 [==============================] - 5s 51us/step - loss: 1.9923 - acc: 0.4473 - val_loss: 1.2419 - val_acc: 0.6262\n",
      "Epoch 2/10\n",
      "103224/103224 [==============================] - 3s 33us/step - loss: 1.0092 - acc: 0.6886 - val_loss: 0.9612 - val_acc: 0.7009\n",
      "Epoch 3/10\n",
      "103224/103224 [==============================] - 3s 33us/step - loss: 0.7857 - acc: 0.7493 - val_loss: 0.8730 - val_acc: 0.7220\n",
      "Epoch 4/10\n",
      "103224/103224 [==============================] - 3s 33us/step - loss: 0.6789 - acc: 0.7796 - val_loss: 0.8469 - val_acc: 0.7310\n",
      "Epoch 5/10\n",
      "103224/103224 [==============================] - 3s 34us/step - loss: 0.6121 - acc: 0.7977 - val_loss: 0.8337 - val_acc: 0.7347\n",
      "Epoch 6/10\n",
      "103224/103224 [==============================] - 3s 34us/step - loss: 0.5616 - acc: 0.8132 - val_loss: 0.8250 - val_acc: 0.7426\n",
      "Epoch 7/10\n",
      "103224/103224 [==============================] - 4s 34us/step - loss: 0.5237 - acc: 0.8245 - val_loss: 0.8347 - val_acc: 0.7444\n",
      "Epoch 8/10\n",
      "103224/103224 [==============================] - 3s 33us/step - loss: 0.4924 - acc: 0.8335 - val_loss: 0.8441 - val_acc: 0.7462\n",
      "Epoch 9/10\n",
      "103224/103224 [==============================] - 3s 34us/step - loss: 0.4648 - acc: 0.8431 - val_loss: 0.8559 - val_acc: 0.7468\n",
      "Epoch 10/10\n",
      "103224/103224 [==============================] - 4s 34us/step - loss: 0.4421 - acc: 0.8502 - val_loss: 0.8724 - val_acc: 0.7448\n"
     ]
    }
   ],
   "source": [
    "history_small = model_small.fit(x=x_train, y=y_train, validation_data=(x_val,y_val),\n",
    "                   epochs=10, batch_size=256)"
   ]
  },
  {
   "cell_type": "code",
   "execution_count": 55,
   "metadata": {},
   "outputs": [
    {
     "name": "stdout",
     "output_type": "stream",
     "text": [
      "Train on 103224 samples, validate on 14746 samples\n",
      "Epoch 1/10\n",
      "103224/103224 [==============================] - 4s 41us/step - loss: 1.3112 - acc: 0.6118 - val_loss: 0.7689 - val_acc: 0.7430\n",
      "Epoch 2/10\n",
      "103224/103224 [==============================] - 4s 39us/step - loss: 0.6041 - acc: 0.7941 - val_loss: 0.6937 - val_acc: 0.7647\n",
      "Epoch 3/10\n",
      "103224/103224 [==============================] - 4s 39us/step - loss: 0.4725 - acc: 0.8359 - val_loss: 0.6792 - val_acc: 0.7745\n",
      "Epoch 4/10\n",
      "103224/103224 [==============================] - 4s 39us/step - loss: 0.3901 - acc: 0.8631 - val_loss: 0.7144 - val_acc: 0.7728\n",
      "Epoch 5/10\n",
      "103224/103224 [==============================] - 4s 39us/step - loss: 0.3306 - acc: 0.8833 - val_loss: 0.7190 - val_acc: 0.7786\n",
      "Epoch 6/10\n",
      "103224/103224 [==============================] - 4s 39us/step - loss: 0.2842 - acc: 0.8997 - val_loss: 0.7620 - val_acc: 0.7793\n",
      "Epoch 7/10\n",
      "103224/103224 [==============================] - 4s 40us/step - loss: 0.2469 - acc: 0.9132 - val_loss: 0.7998 - val_acc: 0.7766\n",
      "Epoch 8/10\n",
      "103224/103224 [==============================] - 4s 39us/step - loss: 0.2170 - acc: 0.9239 - val_loss: 0.8493 - val_acc: 0.7757\n",
      "Epoch 9/10\n",
      "103224/103224 [==============================] - 4s 40us/step - loss: 0.1892 - acc: 0.9343 - val_loss: 0.8990 - val_acc: 0.7759\n",
      "Epoch 10/10\n",
      "103224/103224 [==============================] - 4s 39us/step - loss: 0.1724 - acc: 0.9392 - val_loss: 0.9490 - val_acc: 0.7757\n"
     ]
    }
   ],
   "source": [
    "history_medium = model_medium.fit(x=x_train, y=y_train, validation_data=(x_val,y_val),\n",
    "                   epochs=10, batch_size=256)"
   ]
  },
  {
   "cell_type": "code",
   "execution_count": 56,
   "metadata": {},
   "outputs": [
    {
     "name": "stdout",
     "output_type": "stream",
     "text": [
      "Train on 103224 samples, validate on 14746 samples\n",
      "Epoch 1/10\n",
      "103224/103224 [==============================] - 7s 64us/step - loss: 1.0495 - acc: 0.6742 - val_loss: 0.6688 - val_acc: 0.7668\n",
      "Epoch 2/10\n",
      "103224/103224 [==============================] - 6s 61us/step - loss: 0.4741 - acc: 0.8335 - val_loss: 0.6187 - val_acc: 0.7887\n",
      "Epoch 3/10\n",
      "103224/103224 [==============================] - 6s 62us/step - loss: 0.3160 - acc: 0.8863 - val_loss: 0.6353 - val_acc: 0.7932\n",
      "Epoch 4/10\n",
      "103224/103224 [==============================] - 6s 61us/step - loss: 0.2220 - acc: 0.9204 - val_loss: 0.6955 - val_acc: 0.7972\n",
      "Epoch 5/10\n",
      "103224/103224 [==============================] - 6s 61us/step - loss: 0.1642 - acc: 0.9433 - val_loss: 0.7564 - val_acc: 0.7989\n",
      "Epoch 6/10\n",
      "103224/103224 [==============================] - 6s 61us/step - loss: 0.1269 - acc: 0.9560 - val_loss: 0.8003 - val_acc: 0.7991\n",
      "Epoch 7/10\n",
      "103224/103224 [==============================] - 6s 61us/step - loss: 0.1037 - acc: 0.9645 - val_loss: 0.8524 - val_acc: 0.8000\n",
      "Epoch 8/10\n",
      "103224/103224 [==============================] - 6s 61us/step - loss: 0.0892 - acc: 0.9696 - val_loss: 0.8833 - val_acc: 0.7970\n",
      "Epoch 9/10\n",
      "103224/103224 [==============================] - 6s 62us/step - loss: 0.0775 - acc: 0.9738 - val_loss: 0.9387 - val_acc: 0.7987\n",
      "Epoch 10/10\n",
      "103224/103224 [==============================] - 6s 61us/step - loss: 0.0712 - acc: 0.9749 - val_loss: 0.9993 - val_acc: 0.7991\n"
     ]
    }
   ],
   "source": [
    "history_large = model_large.fit(x=x_train, y=y_train, validation_data=(x_val,y_val),\n",
    "                   epochs=10, batch_size=256)"
   ]
  },
  {
   "cell_type": "markdown",
   "metadata": {},
   "source": [
    "### Printing The Loss"
   ]
  },
  {
   "cell_type": "code",
   "execution_count": 57,
   "metadata": {},
   "outputs": [],
   "source": [
    "import matplotlib.pyplot as plt\n",
    "\n",
    "%matplotlib inline"
   ]
  },
  {
   "cell_type": "code",
   "execution_count": 58,
   "metadata": {},
   "outputs": [],
   "source": [
    "def chart_loss(history):\n",
    "    loss = history.history['loss']\n",
    "    val_loss = history.history['val_loss']\n",
    "\n",
    "    epochs = range(1, len(loss) + 1)\n",
    "\n",
    "    plt.plot(epochs, loss, 'b+', label='Training Loss')\n",
    "    plt.plot(epochs, val_loss, 'b', label='Validation Loss')\n",
    "    plt.title('Training and validation loss')\n",
    "    plt.xlabel('Epochs')\n",
    "    plt.ylabel('Loss')\n",
    "    plt.legend()\n",
    "    plt.show()"
   ]
  },
  {
   "cell_type": "code",
   "execution_count": 59,
   "metadata": {},
   "outputs": [
    {
     "data": {
      "image/png": "[encoded data removed]",
      "text/plain": [
       "<Figure size 432x288 with 1 Axes>"
      ]
     },
     "metadata": {},
     "output_type": "display_data"
    },
    {
     "data": {
      "image/png": "[encoded data removed]",
      "text/plain": [
       "<Figure size 432x288 with 1 Axes>"
      ]
     },
     "metadata": {},
     "output_type": "display_data"
    },
    {
     "data": {
      "image/png": "[encoded data removed]",
      "text/plain": [
       "<Figure size 432x288 with 1 Axes>"
      ]
     },
     "metadata": {},
     "output_type": "display_data"
    }
   ],
   "source": [
    "chart_loss(history_small)\n",
    "chart_loss(history_medium)\n",
    "chart_loss(history_large)"
   ]
  },
  {
   "cell_type": "code",
   "execution_count": null,
   "metadata": {},
   "outputs": [],
   "source": []
  },
  {
   "cell_type": "code",
   "execution_count": 60,
   "metadata": {},
   "outputs": [],
   "source": [
    "def chart_acc(history):\n",
    "    acc = history.history['acc']\n",
    "    val_acc = history.history['val_acc']\n",
    "\n",
    "    epochs = range(1, len(acc) + 1)\n",
    "\n",
    "    plt.plot(epochs, acc, 'b+', label='Training Acc')\n",
    "    plt.plot(epochs, val_acc, 'b', label='Validation Acc')\n",
    "    plt.title('Training and validation loss')\n",
    "    plt.xlabel('Epochs')\n",
    "    plt.ylabel('Accuray')\n",
    "    plt.legend()\n",
    "    plt.show()"
   ]
  },
  {
   "cell_type": "code",
   "execution_count": 61,
   "metadata": {},
   "outputs": [
    {
     "data": {
      "image/png": "[encoded data removed]",
      "text/plain": [
       "<Figure size 432x288 with 1 Axes>"
      ]
     },
     "metadata": {},
     "output_type": "display_data"
    },
    {
     "data": {
      "image/png": "[encoded data removed]",
      "text/plain": [
       "<Figure size 432x288 with 1 Axes>"
      ]
     },
     "metadata": {},
     "output_type": "display_data"
    },
    {
     "data": {
      "image/png": "[encoded data removed]",
      "text/plain": [
       "<Figure size 432x288 with 1 Axes>"
      ]
     },
     "metadata": {},
     "output_type": "display_data"
    }
   ],
   "source": [
    "chart_acc(history_small)\n",
    "chart_acc(history_medium)\n",
    "chart_acc(history_large)"
   ]
  },
  {
   "cell_type": "code",
   "execution_count": 62,
   "metadata": {},
   "outputs": [],
   "source": [
    "def compare_loss(histories):\n",
    "    epochs = range(1, len(histories[0].history['val_loss']) + 1)\n",
    "\n",
    "    for i, history in enumerate(histories):\n",
    "        val_loss = history.history['val_loss']\n",
    "        plt.plot(epochs, val_loss, label='Training Loss {}'.format(i))\n",
    "            \n",
    "    plt.xlabel('Epochs')\n",
    "    plt.ylabel('Loss')\n",
    "    plt.legend()\n",
    "    plt.show()"
   ]
  },
  {
   "cell_type": "code",
   "execution_count": 64,
   "metadata": {},
   "outputs": [
    {
     "data": {
      "image/png": "[encoded data removed]",
      "text/plain": [
       "<Figure size 432x288 with 1 Axes>"
      ]
     },
     "metadata": {},
     "output_type": "display_data"
    }
   ],
   "source": [
    "compare_loss([history_small, history_medium, history_large])"
   ]
  },
  {
   "cell_type": "code",
   "execution_count": 65,
   "metadata": {},
   "outputs": [],
   "source": [
    "def compare_loss(histories):\n",
    "    epochs = range(1, len(histories[0].history['val_loss']) + 1)\n",
    "\n",
    "    for i, history in enumerate(histories):\n",
    "        val_loss = history.history['val_loss']\n",
    "        plt.plot(epochs, val_loss, label='Training Loss {}'.format(i))\n",
    "            \n",
    "    plt.xlabel('Epochs')\n",
    "    plt.ylabel('Loss')\n",
    "    plt.legend()\n",
    "    plt.show()"
   ]
  },
  {
   "cell_type": "code",
   "execution_count": 66,
   "metadata": {},
   "outputs": [
    {
     "data": {
      "image/png": "[encoded data removed]",
      "text/plain": [
       "<Figure size 432x288 with 1 Axes>"
      ]
     },
     "metadata": {},
     "output_type": "display_data"
    }
   ],
   "source": [
    "compare_loss([history_small, history_medium, history_large])"
   ]
  },
  {
   "cell_type": "markdown",
   "metadata": {},
   "source": [
    "### Evaluate on the Test Set\n",
    "\n",
    "- train the best model for the best epochs"
   ]
  },
  {
   "cell_type": "code",
   "execution_count": 67,
   "metadata": {},
   "outputs": [],
   "source": [
    "model = build_model(32)"
   ]
  },
  {
   "cell_type": "code",
   "execution_count": 68,
   "metadata": {},
   "outputs": [
    {
     "name": "stdout",
     "output_type": "stream",
     "text": [
      "Train on 103224 samples, validate on 14746 samples\n",
      "Epoch 1/4\n",
      "103224/103224 [==============================] - 3s 27us/step - loss: 1.6560 - acc: 0.5322 - val_loss: 0.9303 - val_acc: 0.7038\n",
      "Epoch 2/4\n",
      "103224/103224 [==============================] - 3s 25us/step - loss: 0.7467 - acc: 0.7550 - val_loss: 0.7776 - val_acc: 0.7416\n",
      "Epoch 3/4\n",
      "103224/103224 [==============================] - 3s 25us/step - loss: 0.5866 - acc: 0.8023 - val_loss: 0.7396 - val_acc: 0.7591\n",
      "Epoch 4/4\n",
      "103224/103224 [==============================] - 3s 26us/step - loss: 0.5007 - acc: 0.8283 - val_loss: 0.7375 - val_acc: 0.7606\n"
     ]
    }
   ],
   "source": [
    "history = model.fit(x=x_train, y=y_train, epochs=4, validation_data=(x_val, y_val), batch_size=256)"
   ]
  },
  {
   "cell_type": "code",
   "execution_count": 74,
   "metadata": {},
   "outputs": [
    {
     "name": "stdout",
     "output_type": "stream",
     "text": [
      "29493/29493 [==============================] - 1s 42us/step\n"
     ]
    }
   ],
   "source": [
    "loss, acc = model.evaluate(x_test, y_test)"
   ]
  },
  {
   "cell_type": "code",
   "execution_count": 75,
   "metadata": {},
   "outputs": [
    {
     "name": "stdout",
     "output_type": "stream",
     "text": [
      "loss 0.7324837640933805\n",
      "acc 0.7637405486108166\n"
     ]
    }
   ],
   "source": [
    "print('loss {}'.format(loss))\n",
    "print('acc {}'.format(acc))"
   ]
  },
  {
   "cell_type": "code",
   "execution_count": null,
   "metadata": {},
   "outputs": [],
   "source": []
  }
 ],
 "metadata": {
  "kernelspec": {
   "display_name": "Python 3",
   "language": "python",
   "name": "python3"
  },
  "language_info": {
   "codemirror_mode": {
    "name": "ipython",
    "version": 3
   },
   "file_extension": ".py",
   "mimetype": "text/x-python",
   "name": "python",
   "nbconvert_exporter": "python",
   "pygments_lexer": "ipython3",
   "version": "3.6.4"
  }
 },
 "nbformat": 4,
 "nbformat_minor": 2
}
