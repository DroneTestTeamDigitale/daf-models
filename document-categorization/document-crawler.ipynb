{
 "cells": [
  {
   "cell_type": "code",
   "execution_count": null,
   "metadata": {},
   "outputs": [],
   "source": [
    "import urllib3\n",
    "import json\n",
    "import random\n",
    "import time\n",
    "import os\n",
    "import logging"
   ]
  },
  {
   "cell_type": "code",
   "execution_count": null,
   "metadata": {},
   "outputs": [],
   "source": [
    "logger = logging.getLogger('crawler_application')\n",
    "logger.setLevel(logging.DEBUG)\n",
    "fh = logging.FileHandler('crawler.log')\n",
    "ch = logging.StreamHandler()\n",
    "\n",
    "# create formatter and add it to the handlers\n",
    "formatter = logging.Formatter('%(asctime)s - %(name)s - %(levelname)s - %(message)s')\n",
    "fh.setFormatter(formatter)\n",
    "ch.setFormatter(formatter)\n",
    "# add the handlers to the logger\n",
    "logger.addHandler(fh)\n",
    "logger.addHandler(ch)"
   ]
  },
  {
   "cell_type": "code",
   "execution_count": null,
   "metadata": {},
   "outputs": [],
   "source": [
    "out_folder = 'regione-toscana'\n",
    "file_name = 'regione-toscana-result-{:d}-{:d}.json'"
   ]
  },
  {
   "cell_type": "code",
   "execution_count": null,
   "metadata": {},
   "outputs": [],
   "source": [
    "if not os.path.exists(out_folder):\n",
    "    os.makedirs(out_folder)"
   ]
  },
  {
   "cell_type": "code",
   "execution_count": null,
   "metadata": {},
   "outputs": [],
   "source": [
    "http_pool = urllib3.PoolManager()"
   ]
  },
  {
   "cell_type": "code",
   "execution_count": null,
   "metadata": {},
   "outputs": [],
   "source": [
    "url_base = \"http://www.regione.toscana.it/bancadati/search?site=atti&client=fend_json&output=xml_no_dtd&getfields=*&ulang=it&ie=UTF-8&proxystylesheet=fend_json&start={:d}&num={:d}&filter=0&rc=1&q=inmeta%3AALLEGATO_DESCRIZIONE%3Dvoid&sort=meta%3ACODICE_PRATICA%3AD\""
   ]
  },
  {
   "cell_type": "code",
   "execution_count": null,
   "metadata": {},
   "outputs": [],
   "source": [
    "def download_data(start, num):\n",
    "    logger.info(\"start {}, num {}\".format(start,num))\n",
    "    sleep_time = random.randint(10,30)\n",
    "    logger.debug('sleeping {} seconds'.format(sleep_time))\n",
    "    time.sleep(random.randint(5,20))\n",
    "    \n",
    "    output_name = out_folder + \"/\" + file_name.format(start, start + num)\n",
    "    url = url_base.format(start, num)\n",
    "    logger.info('requesting url {}'.format(url))\n",
    "    res = http_pool.request('GET', url, retries=1)\n",
    "    logger.info('got status {} for url {}'.format(res.status, url))\n",
    "    \n",
    "    num_res = 0\n",
    "    \n",
    "    if res.status is 200:\n",
    "        json_data = json.loads(res.data.decode('utf-8'))\n",
    "        if 'RES' in json_data['GSP']:\n",
    "            num_res = len(json_data['GSP']['RES']['R'])\n",
    "            with open(output_name, 'w') as f:\n",
    "                f.write(res.data.decode('utf-8'))\n",
    "                logger.info('saved result in {}'.format(output_name))\n",
    "        else:\n",
    "            logger.error('no results skipped {} \\n {}'.format(url, json_data))\n",
    "    else:\n",
    "        logger.error('status {} skipped {}'.format(res.status, url))\n",
    "    \n",
    "    status = res.status\n",
    "    res.close()\n",
    "    return num_res\n",
    "    "
   ]
  },
  {
   "cell_type": "code",
   "execution_count": null,
   "metadata": {},
   "outputs": [],
   "source": [
    "start = 0\n",
    "num = 100\n",
    "\n",
    "num_records = 1\n",
    "counter = 0\n",
    "\n",
    "while num_records > 0:\n",
    "    num_records = download_data(start, num)\n",
    "    counter += num_records\n",
    "    start += num\n",
    "    logger.info('extracted {} records'.format(counter))\n"
   ]
  },
  {
   "cell_type": "code",
   "execution_count": null,
   "metadata": {
    "scrolled": false
   },
   "outputs": [],
   "source": [
    "#json_data['GSP']['RES']['R'][1]"
   ]
  },
  {
   "cell_type": "code",
   "execution_count": null,
   "metadata": {},
   "outputs": [],
   "source": [
    "http_pool.clear()"
   ]
  },
  {
   "cell_type": "code",
   "execution_count": null,
   "metadata": {},
   "outputs": [],
   "source": []
  }
 ],
 "metadata": {
  "kernelspec": {
   "display_name": "Python 3",
   "language": "python",
   "name": "python3"
  },
  "language_info": {
   "codemirror_mode": {
    "name": "ipython",
    "version": 3
   },
   "file_extension": ".py",
   "mimetype": "text/x-python",
   "name": "python",
   "nbconvert_exporter": "python",
   "pygments_lexer": "ipython3",
   "version": "3.6.4"
  }
 },
 "nbformat": 4,
 "nbformat_minor": 2
}
