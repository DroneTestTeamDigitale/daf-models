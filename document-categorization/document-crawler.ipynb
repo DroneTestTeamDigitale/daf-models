{
 "cells": [
  {
   "cell_type": "code",
   "execution_count": 2,
   "metadata": {},
   "outputs": [],
   "source": [
    "import urllib3\n",
    "import json\n",
    "import random\n",
    "import time\n",
    "import os\n",
    "import logging"
   ]
  },
  {
   "cell_type": "code",
   "execution_count": 11,
   "metadata": {},
   "outputs": [],
   "source": [
    "logger = logging.getLogger('crawler_application')\n",
    "logger.setLevel(logging.DEBUG)\n",
    "fh = logging.FileHandler('crawler.log')\n",
    "ch = logging.StreamHandler()\n",
    "\n",
    "# create formatter and add it to the handlers\n",
    "formatter = logging.Formatter('%(asctime)s - %(name)s - %(levelname)s - %(message)s')\n",
    "fh.setFormatter(formatter)\n",
    "ch.setFormatter(formatter)\n",
    "# add the handlers to the logger\n",
    "logger.addHandler(fh)\n",
    "logger.addHandler(ch)"
   ]
  },
  {
   "cell_type": "code",
   "execution_count": 30,
   "metadata": {},
   "outputs": [],
   "source": [
    "out_folder = 'regione-toscana'\n",
    "file_name = 'regione-toscana-result-atti-dirigenti-{:d}-{:d}.json'"
   ]
  },
  {
   "cell_type": "code",
   "execution_count": 20,
   "metadata": {},
   "outputs": [],
   "source": [
    "if not os.path.exists(out_folder):\n",
    "    os.makedirs(out_folder)"
   ]
  },
  {
   "cell_type": "code",
   "execution_count": 21,
   "metadata": {},
   "outputs": [],
   "source": [
    "http_pool = urllib3.PoolManager()"
   ]
  },
  {
   "cell_type": "code",
   "execution_count": 22,
   "metadata": {},
   "outputs": [],
   "source": [
    "url_base = \"http://www.regione.toscana.it/bancadati/search?site=atti&client=fend_json&output=xml_no_dtd&getfields=*&ulang=it&ie=UTF-8&proxystylesheet=fend_json&start={:d}&num={:d}&filter=0&rc=1&q=inmeta%3AALLEGATO_DESCRIZIONE%3Dvoid&sort=meta%3ACODICE_PRATICA%3AD\""
   ]
  },
  {
   "cell_type": "code",
   "execution_count": 23,
   "metadata": {},
   "outputs": [],
   "source": [
    "url_base = \"http://www.regione.toscana.it/bancadati/search?site=atti&client=fend_json&output=xml_no_dtd&getfields=*&ulang=it&ie=UTF-8&proxystylesheet=fend_json&start={}&num={}&filter=0&rc=1&q=inmeta%3AID_TIPO_PRATICA%3DAD+AND+inmeta%3AALLEGATO_DESCRIZIONE%3Dvoid&sort=meta%3ACODICE_PRATICA%3AD\""
   ]
  },
  {
   "cell_type": "code",
   "execution_count": 24,
   "metadata": {},
   "outputs": [],
   "source": [
    "url_base = \"http://www.regione.toscana.it/bancadati/search?site=atti&client=fend_json&output=xml_no_dtd&getfields=*&ulang=it&ie=UTF-8&proxystylesheet=fend_json&start={}&num={}&filter=0&rc=1&q=inmeta%3AID_TIPO_PRATICA%3DPG+AND+inmeta%3AALLEGATO_DESCRIZIONE%3Dvoid&sort=meta%3ACODICE_PRATICA%3AD\""
   ]
  },
  {
   "cell_type": "code",
   "execution_count": 28,
   "metadata": {},
   "outputs": [],
   "source": [
    "url_base = \"http://www.regione.toscana.it/bancadati/search?site=atti&client=fend_json&output=xml_no_dtd&getfields=*&ulang=it&ie=UTF-8&proxystylesheet=fend_json&start={}&num={}&filter=0&rc=1&q=inmeta%3AID_TIPO_PRATICA%3DMON+AND+inmeta%3AALLEGATO_DESCRIZIONE%3Dvoid&sort=meta%3ACODICE_PRATICA%3AD\""
   ]
  },
  {
   "cell_type": "code",
   "execution_count": 29,
   "metadata": {},
   "outputs": [],
   "source": [
    "def download_data(start, num):\n",
    "    logger.info(\"start {}, num {}\".format(start,num))\n",
    "    sleep_time = random.randint(2,5)\n",
    "    logger.debug('sleeping {} seconds'.format(sleep_time))\n",
    "    time.sleep(random.randint(5,20))\n",
    "    \n",
    "    output_name = out_folder + \"/\" + file_name.format(start, start + num)\n",
    "    url = url_base.format(start, num)\n",
    "    logger.info('requesting url {}'.format(url))\n",
    "    res = http_pool.request('GET', url, retries=1)\n",
    "    logger.info('got status {} for url {}'.format(res.status, url))\n",
    "    \n",
    "    num_res = 0\n",
    "    \n",
    "    if res.status is 200:\n",
    "        json_data = json.loads(res.data.decode('utf-8'))\n",
    "        if 'RES' in json_data['GSP']:\n",
    "            num_res = len(json_data['GSP']['RES']['R'])\n",
    "            with open(output_name, 'w') as f:\n",
    "                f.write(res.data.decode('utf-8'))\n",
    "                logger.info('saved result in {}'.format(output_name))\n",
    "        else:\n",
    "            logger.error('no results skipped {} \\n {}'.format(url, json_data))\n",
    "    else:\n",
    "        logger.error('status {} skipped {}'.format(res.status, url))\n",
    "    \n",
    "    status = res.status\n",
    "    res.close()\n",
    "    return num_res\n",
    "    "
   ]
  },
  {
   "cell_type": "code",
   "execution_count": 31,
   "metadata": {
    "scrolled": false
   },
   "outputs": [
    {
     "name": "stderr",
     "output_type": "stream",
     "text": [
      "2018-03-04 22:09:52,960 - crawler_application - INFO - start 0, num 100\n",
      "2018-03-04 22:09:52,960 - crawler_application - INFO - start 0, num 100\n",
      "2018-03-04 22:09:52,961 - crawler_application - DEBUG - sleeping 4 seconds\n",
      "2018-03-04 22:09:52,961 - crawler_application - DEBUG - sleeping 4 seconds\n",
      "2018-03-04 22:10:07,977 - crawler_application - INFO - requesting url http://www.regione.toscana.it/bancadati/search?site=atti&client=fend_json&output=xml_no_dtd&getfields=*&ulang=it&ie=UTF-8&proxystylesheet=fend_json&start=0&num=100&filter=0&rc=1&q=inmeta%3AID_TIPO_PRATICA%3DMON+AND+inmeta%3AALLEGATO_DESCRIZIONE%3Dvoid&sort=meta%3ACODICE_PRATICA%3AD\n",
      "2018-03-04 22:10:07,977 - crawler_application - INFO - requesting url http://www.regione.toscana.it/bancadati/search?site=atti&client=fend_json&output=xml_no_dtd&getfields=*&ulang=it&ie=UTF-8&proxystylesheet=fend_json&start=0&num=100&filter=0&rc=1&q=inmeta%3AID_TIPO_PRATICA%3DMON+AND+inmeta%3AALLEGATO_DESCRIZIONE%3Dvoid&sort=meta%3ACODICE_PRATICA%3AD\n",
      "2018-03-04 22:10:09,097 - crawler_application - INFO - got status 200 for url http://www.regione.toscana.it/bancadati/search?site=atti&client=fend_json&output=xml_no_dtd&getfields=*&ulang=it&ie=UTF-8&proxystylesheet=fend_json&start=0&num=100&filter=0&rc=1&q=inmeta%3AID_TIPO_PRATICA%3DMON+AND+inmeta%3AALLEGATO_DESCRIZIONE%3Dvoid&sort=meta%3ACODICE_PRATICA%3AD\n",
      "2018-03-04 22:10:09,097 - crawler_application - INFO - got status 200 for url http://www.regione.toscana.it/bancadati/search?site=atti&client=fend_json&output=xml_no_dtd&getfields=*&ulang=it&ie=UTF-8&proxystylesheet=fend_json&start=0&num=100&filter=0&rc=1&q=inmeta%3AID_TIPO_PRATICA%3DMON+AND+inmeta%3AALLEGATO_DESCRIZIONE%3Dvoid&sort=meta%3ACODICE_PRATICA%3AD\n",
      "2018-03-04 22:10:09,106 - crawler_application - INFO - saved result in regione-toscana/regione-toscana-result-atti-dirigenti-0-100.json\n",
      "2018-03-04 22:10:09,106 - crawler_application - INFO - saved result in regione-toscana/regione-toscana-result-atti-dirigenti-0-100.json\n",
      "2018-03-04 22:10:09,107 - crawler_application - INFO - extracted 100 records\n",
      "2018-03-04 22:10:09,107 - crawler_application - INFO - extracted 100 records\n",
      "2018-03-04 22:10:09,108 - crawler_application - INFO - start 100, num 100\n",
      "2018-03-04 22:10:09,108 - crawler_application - INFO - start 100, num 100\n",
      "2018-03-04 22:10:09,109 - crawler_application - DEBUG - sleeping 4 seconds\n",
      "2018-03-04 22:10:09,109 - crawler_application - DEBUG - sleeping 4 seconds\n",
      "2018-03-04 22:10:29,114 - crawler_application - INFO - requesting url http://www.regione.toscana.it/bancadati/search?site=atti&client=fend_json&output=xml_no_dtd&getfields=*&ulang=it&ie=UTF-8&proxystylesheet=fend_json&start=100&num=100&filter=0&rc=1&q=inmeta%3AID_TIPO_PRATICA%3DMON+AND+inmeta%3AALLEGATO_DESCRIZIONE%3Dvoid&sort=meta%3ACODICE_PRATICA%3AD\n",
      "2018-03-04 22:10:29,114 - crawler_application - INFO - requesting url http://www.regione.toscana.it/bancadati/search?site=atti&client=fend_json&output=xml_no_dtd&getfields=*&ulang=it&ie=UTF-8&proxystylesheet=fend_json&start=100&num=100&filter=0&rc=1&q=inmeta%3AID_TIPO_PRATICA%3DMON+AND+inmeta%3AALLEGATO_DESCRIZIONE%3Dvoid&sort=meta%3ACODICE_PRATICA%3AD\n",
      "2018-03-04 22:10:29,955 - crawler_application - INFO - got status 200 for url http://www.regione.toscana.it/bancadati/search?site=atti&client=fend_json&output=xml_no_dtd&getfields=*&ulang=it&ie=UTF-8&proxystylesheet=fend_json&start=100&num=100&filter=0&rc=1&q=inmeta%3AID_TIPO_PRATICA%3DMON+AND+inmeta%3AALLEGATO_DESCRIZIONE%3Dvoid&sort=meta%3ACODICE_PRATICA%3AD\n",
      "2018-03-04 22:10:29,955 - crawler_application - INFO - got status 200 for url http://www.regione.toscana.it/bancadati/search?site=atti&client=fend_json&output=xml_no_dtd&getfields=*&ulang=it&ie=UTF-8&proxystylesheet=fend_json&start=100&num=100&filter=0&rc=1&q=inmeta%3AID_TIPO_PRATICA%3DMON+AND+inmeta%3AALLEGATO_DESCRIZIONE%3Dvoid&sort=meta%3ACODICE_PRATICA%3AD\n",
      "2018-03-04 22:10:29,968 - crawler_application - INFO - saved result in regione-toscana/regione-toscana-result-atti-dirigenti-100-200.json\n",
      "2018-03-04 22:10:29,968 - crawler_application - INFO - saved result in regione-toscana/regione-toscana-result-atti-dirigenti-100-200.json\n",
      "2018-03-04 22:10:29,973 - crawler_application - INFO - extracted 200 records\n",
      "2018-03-04 22:10:29,973 - crawler_application - INFO - extracted 200 records\n",
      "2018-03-04 22:10:29,976 - crawler_application - INFO - start 200, num 100\n",
      "2018-03-04 22:10:29,976 - crawler_application - INFO - start 200, num 100\n",
      "2018-03-04 22:10:29,979 - crawler_application - DEBUG - sleeping 4 seconds\n",
      "2018-03-04 22:10:29,979 - crawler_application - DEBUG - sleeping 4 seconds\n",
      "2018-03-04 22:10:41,990 - crawler_application - INFO - requesting url http://www.regione.toscana.it/bancadati/search?site=atti&client=fend_json&output=xml_no_dtd&getfields=*&ulang=it&ie=UTF-8&proxystylesheet=fend_json&start=200&num=100&filter=0&rc=1&q=inmeta%3AID_TIPO_PRATICA%3DMON+AND+inmeta%3AALLEGATO_DESCRIZIONE%3Dvoid&sort=meta%3ACODICE_PRATICA%3AD\n",
      "2018-03-04 22:10:41,990 - crawler_application - INFO - requesting url http://www.regione.toscana.it/bancadati/search?site=atti&client=fend_json&output=xml_no_dtd&getfields=*&ulang=it&ie=UTF-8&proxystylesheet=fend_json&start=200&num=100&filter=0&rc=1&q=inmeta%3AID_TIPO_PRATICA%3DMON+AND+inmeta%3AALLEGATO_DESCRIZIONE%3Dvoid&sort=meta%3ACODICE_PRATICA%3AD\n",
      "2018-03-04 22:10:43,267 - crawler_application - INFO - got status 200 for url http://www.regione.toscana.it/bancadati/search?site=atti&client=fend_json&output=xml_no_dtd&getfields=*&ulang=it&ie=UTF-8&proxystylesheet=fend_json&start=200&num=100&filter=0&rc=1&q=inmeta%3AID_TIPO_PRATICA%3DMON+AND+inmeta%3AALLEGATO_DESCRIZIONE%3Dvoid&sort=meta%3ACODICE_PRATICA%3AD\n",
      "2018-03-04 22:10:43,267 - crawler_application - INFO - got status 200 for url http://www.regione.toscana.it/bancadati/search?site=atti&client=fend_json&output=xml_no_dtd&getfields=*&ulang=it&ie=UTF-8&proxystylesheet=fend_json&start=200&num=100&filter=0&rc=1&q=inmeta%3AID_TIPO_PRATICA%3DMON+AND+inmeta%3AALLEGATO_DESCRIZIONE%3Dvoid&sort=meta%3ACODICE_PRATICA%3AD\n",
      "2018-03-04 22:10:43,279 - crawler_application - INFO - saved result in regione-toscana/regione-toscana-result-atti-dirigenti-200-300.json\n",
      "2018-03-04 22:10:43,279 - crawler_application - INFO - saved result in regione-toscana/regione-toscana-result-atti-dirigenti-200-300.json\n",
      "2018-03-04 22:10:43,282 - crawler_application - INFO - extracted 300 records\n",
      "2018-03-04 22:10:43,282 - crawler_application - INFO - extracted 300 records\n",
      "2018-03-04 22:10:43,286 - crawler_application - INFO - start 300, num 100\n",
      "2018-03-04 22:10:43,286 - crawler_application - INFO - start 300, num 100\n",
      "2018-03-04 22:10:43,289 - crawler_application - DEBUG - sleeping 4 seconds\n",
      "2018-03-04 22:10:43,289 - crawler_application - DEBUG - sleeping 4 seconds\n",
      "2018-03-04 22:10:56,304 - crawler_application - INFO - requesting url http://www.regione.toscana.it/bancadati/search?site=atti&client=fend_json&output=xml_no_dtd&getfields=*&ulang=it&ie=UTF-8&proxystylesheet=fend_json&start=300&num=100&filter=0&rc=1&q=inmeta%3AID_TIPO_PRATICA%3DMON+AND+inmeta%3AALLEGATO_DESCRIZIONE%3Dvoid&sort=meta%3ACODICE_PRATICA%3AD\n",
      "2018-03-04 22:10:56,304 - crawler_application - INFO - requesting url http://www.regione.toscana.it/bancadati/search?site=atti&client=fend_json&output=xml_no_dtd&getfields=*&ulang=it&ie=UTF-8&proxystylesheet=fend_json&start=300&num=100&filter=0&rc=1&q=inmeta%3AID_TIPO_PRATICA%3DMON+AND+inmeta%3AALLEGATO_DESCRIZIONE%3Dvoid&sort=meta%3ACODICE_PRATICA%3AD\n",
      "2018-03-04 22:10:57,351 - crawler_application - INFO - got status 200 for url http://www.regione.toscana.it/bancadati/search?site=atti&client=fend_json&output=xml_no_dtd&getfields=*&ulang=it&ie=UTF-8&proxystylesheet=fend_json&start=300&num=100&filter=0&rc=1&q=inmeta%3AID_TIPO_PRATICA%3DMON+AND+inmeta%3AALLEGATO_DESCRIZIONE%3Dvoid&sort=meta%3ACODICE_PRATICA%3AD\n",
      "2018-03-04 22:10:57,351 - crawler_application - INFO - got status 200 for url http://www.regione.toscana.it/bancadati/search?site=atti&client=fend_json&output=xml_no_dtd&getfields=*&ulang=it&ie=UTF-8&proxystylesheet=fend_json&start=300&num=100&filter=0&rc=1&q=inmeta%3AID_TIPO_PRATICA%3DMON+AND+inmeta%3AALLEGATO_DESCRIZIONE%3Dvoid&sort=meta%3ACODICE_PRATICA%3AD\n"
     ]
    },
    {
     "name": "stderr",
     "output_type": "stream",
     "text": [
      "2018-03-04 22:10:57,362 - crawler_application - INFO - saved result in regione-toscana/regione-toscana-result-atti-dirigenti-300-400.json\n",
      "2018-03-04 22:10:57,362 - crawler_application - INFO - saved result in regione-toscana/regione-toscana-result-atti-dirigenti-300-400.json\n",
      "2018-03-04 22:10:57,365 - crawler_application - INFO - extracted 400 records\n",
      "2018-03-04 22:10:57,365 - crawler_application - INFO - extracted 400 records\n",
      "2018-03-04 22:10:57,368 - crawler_application - INFO - start 400, num 100\n",
      "2018-03-04 22:10:57,368 - crawler_application - INFO - start 400, num 100\n",
      "2018-03-04 22:10:57,371 - crawler_application - DEBUG - sleeping 3 seconds\n",
      "2018-03-04 22:10:57,371 - crawler_application - DEBUG - sleeping 3 seconds\n",
      "2018-03-04 22:11:15,390 - crawler_application - INFO - requesting url http://www.regione.toscana.it/bancadati/search?site=atti&client=fend_json&output=xml_no_dtd&getfields=*&ulang=it&ie=UTF-8&proxystylesheet=fend_json&start=400&num=100&filter=0&rc=1&q=inmeta%3AID_TIPO_PRATICA%3DMON+AND+inmeta%3AALLEGATO_DESCRIZIONE%3Dvoid&sort=meta%3ACODICE_PRATICA%3AD\n",
      "2018-03-04 22:11:15,390 - crawler_application - INFO - requesting url http://www.regione.toscana.it/bancadati/search?site=atti&client=fend_json&output=xml_no_dtd&getfields=*&ulang=it&ie=UTF-8&proxystylesheet=fend_json&start=400&num=100&filter=0&rc=1&q=inmeta%3AID_TIPO_PRATICA%3DMON+AND+inmeta%3AALLEGATO_DESCRIZIONE%3Dvoid&sort=meta%3ACODICE_PRATICA%3AD\n",
      "2018-03-04 22:11:16,366 - crawler_application - INFO - got status 200 for url http://www.regione.toscana.it/bancadati/search?site=atti&client=fend_json&output=xml_no_dtd&getfields=*&ulang=it&ie=UTF-8&proxystylesheet=fend_json&start=400&num=100&filter=0&rc=1&q=inmeta%3AID_TIPO_PRATICA%3DMON+AND+inmeta%3AALLEGATO_DESCRIZIONE%3Dvoid&sort=meta%3ACODICE_PRATICA%3AD\n",
      "2018-03-04 22:11:16,366 - crawler_application - INFO - got status 200 for url http://www.regione.toscana.it/bancadati/search?site=atti&client=fend_json&output=xml_no_dtd&getfields=*&ulang=it&ie=UTF-8&proxystylesheet=fend_json&start=400&num=100&filter=0&rc=1&q=inmeta%3AID_TIPO_PRATICA%3DMON+AND+inmeta%3AALLEGATO_DESCRIZIONE%3Dvoid&sort=meta%3ACODICE_PRATICA%3AD\n",
      "2018-03-04 22:11:16,378 - crawler_application - INFO - saved result in regione-toscana/regione-toscana-result-atti-dirigenti-400-500.json\n",
      "2018-03-04 22:11:16,378 - crawler_application - INFO - saved result in regione-toscana/regione-toscana-result-atti-dirigenti-400-500.json\n",
      "2018-03-04 22:11:16,381 - crawler_application - INFO - extracted 500 records\n",
      "2018-03-04 22:11:16,381 - crawler_application - INFO - extracted 500 records\n",
      "2018-03-04 22:11:16,386 - crawler_application - INFO - start 500, num 100\n",
      "2018-03-04 22:11:16,386 - crawler_application - INFO - start 500, num 100\n",
      "2018-03-04 22:11:16,390 - crawler_application - DEBUG - sleeping 2 seconds\n",
      "2018-03-04 22:11:16,390 - crawler_application - DEBUG - sleeping 2 seconds\n",
      "2018-03-04 22:11:31,408 - crawler_application - INFO - requesting url http://www.regione.toscana.it/bancadati/search?site=atti&client=fend_json&output=xml_no_dtd&getfields=*&ulang=it&ie=UTF-8&proxystylesheet=fend_json&start=500&num=100&filter=0&rc=1&q=inmeta%3AID_TIPO_PRATICA%3DMON+AND+inmeta%3AALLEGATO_DESCRIZIONE%3Dvoid&sort=meta%3ACODICE_PRATICA%3AD\n",
      "2018-03-04 22:11:31,408 - crawler_application - INFO - requesting url http://www.regione.toscana.it/bancadati/search?site=atti&client=fend_json&output=xml_no_dtd&getfields=*&ulang=it&ie=UTF-8&proxystylesheet=fend_json&start=500&num=100&filter=0&rc=1&q=inmeta%3AID_TIPO_PRATICA%3DMON+AND+inmeta%3AALLEGATO_DESCRIZIONE%3Dvoid&sort=meta%3ACODICE_PRATICA%3AD\n",
      "2018-03-04 22:11:32,328 - crawler_application - INFO - got status 200 for url http://www.regione.toscana.it/bancadati/search?site=atti&client=fend_json&output=xml_no_dtd&getfields=*&ulang=it&ie=UTF-8&proxystylesheet=fend_json&start=500&num=100&filter=0&rc=1&q=inmeta%3AID_TIPO_PRATICA%3DMON+AND+inmeta%3AALLEGATO_DESCRIZIONE%3Dvoid&sort=meta%3ACODICE_PRATICA%3AD\n",
      "2018-03-04 22:11:32,328 - crawler_application - INFO - got status 200 for url http://www.regione.toscana.it/bancadati/search?site=atti&client=fend_json&output=xml_no_dtd&getfields=*&ulang=it&ie=UTF-8&proxystylesheet=fend_json&start=500&num=100&filter=0&rc=1&q=inmeta%3AID_TIPO_PRATICA%3DMON+AND+inmeta%3AALLEGATO_DESCRIZIONE%3Dvoid&sort=meta%3ACODICE_PRATICA%3AD\n",
      "2018-03-04 22:11:32,342 - crawler_application - INFO - saved result in regione-toscana/regione-toscana-result-atti-dirigenti-500-600.json\n",
      "2018-03-04 22:11:32,342 - crawler_application - INFO - saved result in regione-toscana/regione-toscana-result-atti-dirigenti-500-600.json\n",
      "2018-03-04 22:11:32,346 - crawler_application - INFO - extracted 600 records\n",
      "2018-03-04 22:11:32,346 - crawler_application - INFO - extracted 600 records\n",
      "2018-03-04 22:11:32,349 - crawler_application - INFO - start 600, num 100\n",
      "2018-03-04 22:11:32,349 - crawler_application - INFO - start 600, num 100\n",
      "2018-03-04 22:11:32,352 - crawler_application - DEBUG - sleeping 2 seconds\n",
      "2018-03-04 22:11:32,352 - crawler_application - DEBUG - sleeping 2 seconds\n",
      "2018-03-04 22:11:47,362 - crawler_application - INFO - requesting url http://www.regione.toscana.it/bancadati/search?site=atti&client=fend_json&output=xml_no_dtd&getfields=*&ulang=it&ie=UTF-8&proxystylesheet=fend_json&start=600&num=100&filter=0&rc=1&q=inmeta%3AID_TIPO_PRATICA%3DMON+AND+inmeta%3AALLEGATO_DESCRIZIONE%3Dvoid&sort=meta%3ACODICE_PRATICA%3AD\n",
      "2018-03-04 22:11:47,362 - crawler_application - INFO - requesting url http://www.regione.toscana.it/bancadati/search?site=atti&client=fend_json&output=xml_no_dtd&getfields=*&ulang=it&ie=UTF-8&proxystylesheet=fend_json&start=600&num=100&filter=0&rc=1&q=inmeta%3AID_TIPO_PRATICA%3DMON+AND+inmeta%3AALLEGATO_DESCRIZIONE%3Dvoid&sort=meta%3ACODICE_PRATICA%3AD\n",
      "2018-03-04 22:11:48,389 - crawler_application - INFO - got status 200 for url http://www.regione.toscana.it/bancadati/search?site=atti&client=fend_json&output=xml_no_dtd&getfields=*&ulang=it&ie=UTF-8&proxystylesheet=fend_json&start=600&num=100&filter=0&rc=1&q=inmeta%3AID_TIPO_PRATICA%3DMON+AND+inmeta%3AALLEGATO_DESCRIZIONE%3Dvoid&sort=meta%3ACODICE_PRATICA%3AD\n",
      "2018-03-04 22:11:48,389 - crawler_application - INFO - got status 200 for url http://www.regione.toscana.it/bancadati/search?site=atti&client=fend_json&output=xml_no_dtd&getfields=*&ulang=it&ie=UTF-8&proxystylesheet=fend_json&start=600&num=100&filter=0&rc=1&q=inmeta%3AID_TIPO_PRATICA%3DMON+AND+inmeta%3AALLEGATO_DESCRIZIONE%3Dvoid&sort=meta%3ACODICE_PRATICA%3AD\n",
      "2018-03-04 22:11:48,431 - crawler_application - INFO - saved result in regione-toscana/regione-toscana-result-atti-dirigenti-600-700.json\n",
      "2018-03-04 22:11:48,431 - crawler_application - INFO - saved result in regione-toscana/regione-toscana-result-atti-dirigenti-600-700.json\n",
      "2018-03-04 22:11:48,432 - crawler_application - INFO - extracted 700 records\n",
      "2018-03-04 22:11:48,432 - crawler_application - INFO - extracted 700 records\n",
      "2018-03-04 22:11:48,435 - crawler_application - INFO - start 700, num 100\n",
      "2018-03-04 22:11:48,435 - crawler_application - INFO - start 700, num 100\n",
      "2018-03-04 22:11:48,437 - crawler_application - DEBUG - sleeping 4 seconds\n",
      "2018-03-04 22:11:48,437 - crawler_application - DEBUG - sleeping 4 seconds\n",
      "2018-03-04 22:12:05,439 - crawler_application - INFO - requesting url http://www.regione.toscana.it/bancadati/search?site=atti&client=fend_json&output=xml_no_dtd&getfields=*&ulang=it&ie=UTF-8&proxystylesheet=fend_json&start=700&num=100&filter=0&rc=1&q=inmeta%3AID_TIPO_PRATICA%3DMON+AND+inmeta%3AALLEGATO_DESCRIZIONE%3Dvoid&sort=meta%3ACODICE_PRATICA%3AD\n",
      "2018-03-04 22:12:05,439 - crawler_application - INFO - requesting url http://www.regione.toscana.it/bancadati/search?site=atti&client=fend_json&output=xml_no_dtd&getfields=*&ulang=it&ie=UTF-8&proxystylesheet=fend_json&start=700&num=100&filter=0&rc=1&q=inmeta%3AID_TIPO_PRATICA%3DMON+AND+inmeta%3AALLEGATO_DESCRIZIONE%3Dvoid&sort=meta%3ACODICE_PRATICA%3AD\n",
      "2018-03-04 22:12:06,410 - crawler_application - INFO - got status 200 for url http://www.regione.toscana.it/bancadati/search?site=atti&client=fend_json&output=xml_no_dtd&getfields=*&ulang=it&ie=UTF-8&proxystylesheet=fend_json&start=700&num=100&filter=0&rc=1&q=inmeta%3AID_TIPO_PRATICA%3DMON+AND+inmeta%3AALLEGATO_DESCRIZIONE%3Dvoid&sort=meta%3ACODICE_PRATICA%3AD\n"
     ]
    },
    {
     "name": "stderr",
     "output_type": "stream",
     "text": [
      "2018-03-04 22:12:06,410 - crawler_application - INFO - got status 200 for url http://www.regione.toscana.it/bancadati/search?site=atti&client=fend_json&output=xml_no_dtd&getfields=*&ulang=it&ie=UTF-8&proxystylesheet=fend_json&start=700&num=100&filter=0&rc=1&q=inmeta%3AID_TIPO_PRATICA%3DMON+AND+inmeta%3AALLEGATO_DESCRIZIONE%3Dvoid&sort=meta%3ACODICE_PRATICA%3AD\n",
      "2018-03-04 22:12:06,420 - crawler_application - INFO - saved result in regione-toscana/regione-toscana-result-atti-dirigenti-700-800.json\n",
      "2018-03-04 22:12:06,420 - crawler_application - INFO - saved result in regione-toscana/regione-toscana-result-atti-dirigenti-700-800.json\n",
      "2018-03-04 22:12:06,425 - crawler_application - INFO - extracted 800 records\n",
      "2018-03-04 22:12:06,425 - crawler_application - INFO - extracted 800 records\n",
      "2018-03-04 22:12:06,428 - crawler_application - INFO - start 800, num 100\n",
      "2018-03-04 22:12:06,428 - crawler_application - INFO - start 800, num 100\n",
      "2018-03-04 22:12:06,431 - crawler_application - DEBUG - sleeping 5 seconds\n",
      "2018-03-04 22:12:06,431 - crawler_application - DEBUG - sleeping 5 seconds\n",
      "2018-03-04 22:12:17,444 - crawler_application - INFO - requesting url http://www.regione.toscana.it/bancadati/search?site=atti&client=fend_json&output=xml_no_dtd&getfields=*&ulang=it&ie=UTF-8&proxystylesheet=fend_json&start=800&num=100&filter=0&rc=1&q=inmeta%3AID_TIPO_PRATICA%3DMON+AND+inmeta%3AALLEGATO_DESCRIZIONE%3Dvoid&sort=meta%3ACODICE_PRATICA%3AD\n",
      "2018-03-04 22:12:17,444 - crawler_application - INFO - requesting url http://www.regione.toscana.it/bancadati/search?site=atti&client=fend_json&output=xml_no_dtd&getfields=*&ulang=it&ie=UTF-8&proxystylesheet=fend_json&start=800&num=100&filter=0&rc=1&q=inmeta%3AID_TIPO_PRATICA%3DMON+AND+inmeta%3AALLEGATO_DESCRIZIONE%3Dvoid&sort=meta%3ACODICE_PRATICA%3AD\n",
      "2018-03-04 22:12:18,497 - crawler_application - INFO - got status 200 for url http://www.regione.toscana.it/bancadati/search?site=atti&client=fend_json&output=xml_no_dtd&getfields=*&ulang=it&ie=UTF-8&proxystylesheet=fend_json&start=800&num=100&filter=0&rc=1&q=inmeta%3AID_TIPO_PRATICA%3DMON+AND+inmeta%3AALLEGATO_DESCRIZIONE%3Dvoid&sort=meta%3ACODICE_PRATICA%3AD\n",
      "2018-03-04 22:12:18,497 - crawler_application - INFO - got status 200 for url http://www.regione.toscana.it/bancadati/search?site=atti&client=fend_json&output=xml_no_dtd&getfields=*&ulang=it&ie=UTF-8&proxystylesheet=fend_json&start=800&num=100&filter=0&rc=1&q=inmeta%3AID_TIPO_PRATICA%3DMON+AND+inmeta%3AALLEGATO_DESCRIZIONE%3Dvoid&sort=meta%3ACODICE_PRATICA%3AD\n",
      "2018-03-04 22:12:18,508 - crawler_application - INFO - saved result in regione-toscana/regione-toscana-result-atti-dirigenti-800-900.json\n",
      "2018-03-04 22:12:18,508 - crawler_application - INFO - saved result in regione-toscana/regione-toscana-result-atti-dirigenti-800-900.json\n",
      "2018-03-04 22:12:18,510 - crawler_application - INFO - extracted 900 records\n",
      "2018-03-04 22:12:18,510 - crawler_application - INFO - extracted 900 records\n",
      "2018-03-04 22:12:18,511 - crawler_application - INFO - start 900, num 100\n",
      "2018-03-04 22:12:18,511 - crawler_application - INFO - start 900, num 100\n",
      "2018-03-04 22:12:18,512 - crawler_application - DEBUG - sleeping 5 seconds\n",
      "2018-03-04 22:12:18,512 - crawler_application - DEBUG - sleeping 5 seconds\n",
      "2018-03-04 22:12:30,525 - crawler_application - INFO - requesting url http://www.regione.toscana.it/bancadati/search?site=atti&client=fend_json&output=xml_no_dtd&getfields=*&ulang=it&ie=UTF-8&proxystylesheet=fend_json&start=900&num=100&filter=0&rc=1&q=inmeta%3AID_TIPO_PRATICA%3DMON+AND+inmeta%3AALLEGATO_DESCRIZIONE%3Dvoid&sort=meta%3ACODICE_PRATICA%3AD\n",
      "2018-03-04 22:12:30,525 - crawler_application - INFO - requesting url http://www.regione.toscana.it/bancadati/search?site=atti&client=fend_json&output=xml_no_dtd&getfields=*&ulang=it&ie=UTF-8&proxystylesheet=fend_json&start=900&num=100&filter=0&rc=1&q=inmeta%3AID_TIPO_PRATICA%3DMON+AND+inmeta%3AALLEGATO_DESCRIZIONE%3Dvoid&sort=meta%3ACODICE_PRATICA%3AD\n",
      "2018-03-04 22:12:31,557 - crawler_application - INFO - got status 200 for url http://www.regione.toscana.it/bancadati/search?site=atti&client=fend_json&output=xml_no_dtd&getfields=*&ulang=it&ie=UTF-8&proxystylesheet=fend_json&start=900&num=100&filter=0&rc=1&q=inmeta%3AID_TIPO_PRATICA%3DMON+AND+inmeta%3AALLEGATO_DESCRIZIONE%3Dvoid&sort=meta%3ACODICE_PRATICA%3AD\n",
      "2018-03-04 22:12:31,557 - crawler_application - INFO - got status 200 for url http://www.regione.toscana.it/bancadati/search?site=atti&client=fend_json&output=xml_no_dtd&getfields=*&ulang=it&ie=UTF-8&proxystylesheet=fend_json&start=900&num=100&filter=0&rc=1&q=inmeta%3AID_TIPO_PRATICA%3DMON+AND+inmeta%3AALLEGATO_DESCRIZIONE%3Dvoid&sort=meta%3ACODICE_PRATICA%3AD\n",
      "2018-03-04 22:12:31,568 - crawler_application - INFO - saved result in regione-toscana/regione-toscana-result-atti-dirigenti-900-1000.json\n",
      "2018-03-04 22:12:31,568 - crawler_application - INFO - saved result in regione-toscana/regione-toscana-result-atti-dirigenti-900-1000.json\n",
      "2018-03-04 22:12:31,570 - crawler_application - INFO - extracted 1000 records\n",
      "2018-03-04 22:12:31,570 - crawler_application - INFO - extracted 1000 records\n",
      "2018-03-04 22:12:31,570 - crawler_application - INFO - start 1000, num 100\n",
      "2018-03-04 22:12:31,570 - crawler_application - INFO - start 1000, num 100\n",
      "2018-03-04 22:12:31,571 - crawler_application - DEBUG - sleeping 4 seconds\n",
      "2018-03-04 22:12:31,571 - crawler_application - DEBUG - sleeping 4 seconds\n",
      "2018-03-04 22:12:47,588 - crawler_application - INFO - requesting url http://www.regione.toscana.it/bancadati/search?site=atti&client=fend_json&output=xml_no_dtd&getfields=*&ulang=it&ie=UTF-8&proxystylesheet=fend_json&start=1000&num=100&filter=0&rc=1&q=inmeta%3AID_TIPO_PRATICA%3DMON+AND+inmeta%3AALLEGATO_DESCRIZIONE%3Dvoid&sort=meta%3ACODICE_PRATICA%3AD\n",
      "2018-03-04 22:12:47,588 - crawler_application - INFO - requesting url http://www.regione.toscana.it/bancadati/search?site=atti&client=fend_json&output=xml_no_dtd&getfields=*&ulang=it&ie=UTF-8&proxystylesheet=fend_json&start=1000&num=100&filter=0&rc=1&q=inmeta%3AID_TIPO_PRATICA%3DMON+AND+inmeta%3AALLEGATO_DESCRIZIONE%3Dvoid&sort=meta%3ACODICE_PRATICA%3AD\n",
      "2018-03-04 22:12:47,798 - crawler_application - INFO - got status 200 for url http://www.regione.toscana.it/bancadati/search?site=atti&client=fend_json&output=xml_no_dtd&getfields=*&ulang=it&ie=UTF-8&proxystylesheet=fend_json&start=1000&num=100&filter=0&rc=1&q=inmeta%3AID_TIPO_PRATICA%3DMON+AND+inmeta%3AALLEGATO_DESCRIZIONE%3Dvoid&sort=meta%3ACODICE_PRATICA%3AD\n",
      "2018-03-04 22:12:47,798 - crawler_application - INFO - got status 200 for url http://www.regione.toscana.it/bancadati/search?site=atti&client=fend_json&output=xml_no_dtd&getfields=*&ulang=it&ie=UTF-8&proxystylesheet=fend_json&start=1000&num=100&filter=0&rc=1&q=inmeta%3AID_TIPO_PRATICA%3DMON+AND+inmeta%3AALLEGATO_DESCRIZIONE%3Dvoid&sort=meta%3ACODICE_PRATICA%3AD\n",
      "2018-03-04 22:12:47,801 - crawler_application - ERROR - no results skipped http://www.regione.toscana.it/bancadati/search?site=atti&client=fend_json&output=xml_no_dtd&getfields=*&ulang=it&ie=UTF-8&proxystylesheet=fend_json&start=1000&num=100&filter=0&rc=1&q=inmeta%3AID_TIPO_PRATICA%3DMON+AND+inmeta%3AALLEGATO_DESCRIZIONE%3Dvoid&sort=meta%3ACODICE_PRATICA%3AD \n",
      " {'GSP': {'script_report_load': '/click?&q=inmeta%3AID_TIPO_PRATICA%253DMON%2BAND%2Binmeta%3AALLEGATO_DESCRIZIONE%253Dvoid&ct=load&s=1000&site=atti', 'TM': '0.000801', 'Q': 'inmeta:ID_TIPO_PRATICA=MON AND inmeta:ALLEGATO_DESCRIZIONE=void', 'PARAM': [{'site': {'value': 'atti', 'original_value': 'atti'}, 'client': {'value': 'fend_json', 'original_value': 'fend_json'}, 'output': {'value': 'xml_no_dtd', 'original_value': 'xml_no_dtd'}, 'getfields': {'value': '*', 'original_value': '*'}, 'ulang': {'value': '', 'original_value': ''}, 'ie': {'value': 'UTF-8', 'original_value': 'UTF-8'}, 'proxystylesheet': {'value': 'fend_json', 'original_value': 'fend_json'}, 'start': {'value': '1000', 'original_value': '1000'}, 'num': {'value': '100', 'original_value': '100'}, 'filter': {'value': '0', 'original_value': '0'}, 'rc': {'value': '1', 'original_value': '1'}, 'q': {'value': 'inmeta:ID_TIPO_PRATICA=MON AND inmeta:ALLEGATO_DESCRIZIONE=void', 'original_value': 'inmeta:ID_TIPO_PRATICA%3DMON+AND+inmeta:ALLEGATO_DESCRIZIONE%3Dvoid'}, 'sort': {'value': 'meta:CODICE_PRATICA:D', 'original_value': 'meta:CODICE_PRATICA:D'}, 'ip': {'value': '188.217.209.145', 'original_value': '188.217.209.145'}, 'access': {'value': 'p', 'original_value': 'p'}, 'entqr': {'value': '3', 'original_value': '3'}, 'entqrm': {'value': '0', 'original_value': '0'}, 'wc': {'value': '200', 'original_value': '200'}, 'wc_mc': {'value': '1', 'original_value': '1'}, 'oe': {'value': 'UTF-8', 'original_value': 'UTF-8'}, 'ud': {'value': '1', 'original_value': '1'}}]}}\n"
     ]
    },
    {
     "name": "stderr",
     "output_type": "stream",
     "text": [
      "2018-03-04 22:12:47,801 - crawler_application - ERROR - no results skipped http://www.regione.toscana.it/bancadati/search?site=atti&client=fend_json&output=xml_no_dtd&getfields=*&ulang=it&ie=UTF-8&proxystylesheet=fend_json&start=1000&num=100&filter=0&rc=1&q=inmeta%3AID_TIPO_PRATICA%3DMON+AND+inmeta%3AALLEGATO_DESCRIZIONE%3Dvoid&sort=meta%3ACODICE_PRATICA%3AD \n",
      " {'GSP': {'script_report_load': '/click?&q=inmeta%3AID_TIPO_PRATICA%253DMON%2BAND%2Binmeta%3AALLEGATO_DESCRIZIONE%253Dvoid&ct=load&s=1000&site=atti', 'TM': '0.000801', 'Q': 'inmeta:ID_TIPO_PRATICA=MON AND inmeta:ALLEGATO_DESCRIZIONE=void', 'PARAM': [{'site': {'value': 'atti', 'original_value': 'atti'}, 'client': {'value': 'fend_json', 'original_value': 'fend_json'}, 'output': {'value': 'xml_no_dtd', 'original_value': 'xml_no_dtd'}, 'getfields': {'value': '*', 'original_value': '*'}, 'ulang': {'value': '', 'original_value': ''}, 'ie': {'value': 'UTF-8', 'original_value': 'UTF-8'}, 'proxystylesheet': {'value': 'fend_json', 'original_value': 'fend_json'}, 'start': {'value': '1000', 'original_value': '1000'}, 'num': {'value': '100', 'original_value': '100'}, 'filter': {'value': '0', 'original_value': '0'}, 'rc': {'value': '1', 'original_value': '1'}, 'q': {'value': 'inmeta:ID_TIPO_PRATICA=MON AND inmeta:ALLEGATO_DESCRIZIONE=void', 'original_value': 'inmeta:ID_TIPO_PRATICA%3DMON+AND+inmeta:ALLEGATO_DESCRIZIONE%3Dvoid'}, 'sort': {'value': 'meta:CODICE_PRATICA:D', 'original_value': 'meta:CODICE_PRATICA:D'}, 'ip': {'value': '188.217.209.145', 'original_value': '188.217.209.145'}, 'access': {'value': 'p', 'original_value': 'p'}, 'entqr': {'value': '3', 'original_value': '3'}, 'entqrm': {'value': '0', 'original_value': '0'}, 'wc': {'value': '200', 'original_value': '200'}, 'wc_mc': {'value': '1', 'original_value': '1'}, 'oe': {'value': 'UTF-8', 'original_value': 'UTF-8'}, 'ud': {'value': '1', 'original_value': '1'}}]}}\n",
      "2018-03-04 22:12:47,804 - crawler_application - INFO - extracted 1000 records\n",
      "2018-03-04 22:12:47,804 - crawler_application - INFO - extracted 1000 records\n"
     ]
    }
   ],
   "source": [
    "start = 0\n",
    "num = 100\n",
    "\n",
    "num_records = 1\n",
    "counter = 0\n",
    "\n",
    "while num_records > 0:\n",
    "    num_records = download_data(start, num)\n",
    "    counter += num_records\n",
    "    start += num\n",
    "    logger.info('extracted {} records'.format(counter))\n"
   ]
  },
  {
   "cell_type": "code",
   "execution_count": null,
   "metadata": {
    "scrolled": false
   },
   "outputs": [],
   "source": [
    "#json_data['GSP']['RES']['R'][1]"
   ]
  },
  {
   "cell_type": "code",
   "execution_count": null,
   "metadata": {},
   "outputs": [],
   "source": [
    "http_pool.clear()"
   ]
  },
  {
   "cell_type": "code",
   "execution_count": null,
   "metadata": {},
   "outputs": [],
   "source": []
  }
 ],
 "metadata": {
  "kernelspec": {
   "display_name": "Python 3",
   "language": "python",
   "name": "python3"
  },
  "language_info": {
   "codemirror_mode": {
    "name": "ipython",
    "version": 3
   },
   "file_extension": ".py",
   "mimetype": "text/x-python",
   "name": "python",
   "nbconvert_exporter": "python",
   "pygments_lexer": "ipython3",
   "version": "3.6.4"
  }
 },
 "nbformat": 4,
 "nbformat_minor": 2
}
