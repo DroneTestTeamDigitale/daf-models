{
 "cells": [
  {
   "cell_type": "code",
   "execution_count": 115,
   "metadata": {},
   "outputs": [],
   "source": [
    "import json\n",
    "import pandas as pd\n",
    "import glob\n",
    "from pandas.io.json import json_normalize\n",
    "pd.options.display.max_rows = 200\n",
    "pd.options.display.max_columns = 999"
   ]
  },
  {
   "cell_type": "markdown",
   "metadata": {},
   "source": [
    "## Process the Dirigenti Data"
   ]
  },
  {
   "cell_type": "code",
   "execution_count": 117,
   "metadata": {},
   "outputs": [
    {
     "data": {
      "text/html": [
       "<div>\n",
       "<style scoped>\n",
       "    .dataframe tbody tr th:only-of-type {\n",
       "        vertical-align: middle;\n",
       "    }\n",
       "\n",
       "    .dataframe tbody tr th {\n",
       "        vertical-align: top;\n",
       "    }\n",
       "\n",
       "    .dataframe thead th {\n",
       "        text-align: right;\n",
       "    }\n",
       "</style>\n",
       "<table border=\"1\" class=\"dataframe\">\n",
       "  <thead>\n",
       "    <tr style=\"text-align: right;\">\n",
       "      <th></th>\n",
       "      <th>ID</th>\n",
       "      <th>MATRICOLA</th>\n",
       "      <th>NOME</th>\n",
       "    </tr>\n",
       "  </thead>\n",
       "  <tbody>\n",
       "    <tr>\n",
       "      <th>0</th>\n",
       "      <td>00000000000200320000015922C08452</td>\n",
       "      <td>1352</td>\n",
       "      <td>AGATI STEFANO</td>\n",
       "    </tr>\n",
       "    <tr>\n",
       "      <th>1</th>\n",
       "      <td>000000000004002E0000015922C08452</td>\n",
       "      <td>12493</td>\n",
       "      <td>AIAZZI LUCIANO</td>\n",
       "    </tr>\n",
       "    <tr>\n",
       "      <th>2</th>\n",
       "      <td>00000000000000050000015922C08452</td>\n",
       "      <td>19514</td>\n",
       "      <td>ALESSANDRO SALVI</td>\n",
       "    </tr>\n",
       "    <tr>\n",
       "      <th>3</th>\n",
       "      <td>00000000000200150000015922C08452</td>\n",
       "      <td>1359</td>\n",
       "      <td>ALMANSI GIORGIO</td>\n",
       "    </tr>\n",
       "    <tr>\n",
       "      <th>4</th>\n",
       "      <td>00000000000400180000015922C08452</td>\n",
       "      <td>6475</td>\n",
       "      <td>ANCILLI GIUSEPPE</td>\n",
       "    </tr>\n",
       "  </tbody>\n",
       "</table>\n",
       "</div>"
      ],
      "text/plain": [
       "                                 ID  MATRICOLA              NOME\n",
       "0  00000000000200320000015922C08452       1352     AGATI STEFANO\n",
       "1  000000000004002E0000015922C08452      12493    AIAZZI LUCIANO\n",
       "2  00000000000000050000015922C08452      19514  ALESSANDRO SALVI\n",
       "3  00000000000200150000015922C08452       1359   ALMANSI GIORGIO\n",
       "4  00000000000400180000015922C08452       6475  ANCILLI GIUSEPPE"
      ]
     },
     "execution_count": 117,
     "metadata": {},
     "output_type": "execute_result"
    }
   ],
   "source": [
    "dirigenti_path = 'regione-toscana/atti_dirigenti/dirigenti.json'\n",
    "out_dirigenti_path = 'regione-toscana/atti_dirigenti/dirigenti_processed.json'\n",
    "\n",
    "with open(dirigenti_path, 'r') as f:\n",
    "    dirigenti = json.loads(f.read())\n",
    "    dirigenti = dirigenti['getDirigenti']['Dirigente']    \n",
    "\n",
    "with open(out_dirigenti_path, 'w') as f:\n",
    "    json.dump(dirigenti, f)\n",
    "\n",
    "df_dirigenti= pd.read_json(out_dirigenti_path)\n",
    "df_dirigenti.head()"
   ]
  },
  {
   "cell_type": "markdown",
   "metadata": {},
   "source": [
    "## Process the Office Names"
   ]
  },
  {
   "cell_type": "code",
   "execution_count": 118,
   "metadata": {
    "scrolled": true
   },
   "outputs": [
    {
     "data": {
      "text/html": [
       "<div>\n",
       "<style scoped>\n",
       "    .dataframe tbody tr th:only-of-type {\n",
       "        vertical-align: middle;\n",
       "    }\n",
       "\n",
       "    .dataframe tbody tr th {\n",
       "        vertical-align: top;\n",
       "    }\n",
       "\n",
       "    .dataframe thead th {\n",
       "        text-align: right;\n",
       "    }\n",
       "</style>\n",
       "<table border=\"1\" class=\"dataframe\">\n",
       "  <thead>\n",
       "    <tr style=\"text-align: right;\">\n",
       "      <th></th>\n",
       "      <th>ID</th>\n",
       "      <th>NOME</th>\n",
       "    </tr>\n",
       "  </thead>\n",
       "  <tbody>\n",
       "    <tr>\n",
       "      <th>0</th>\n",
       "      <td>99999</td>\n",
       "      <td>ALTRI UFFICI</td>\n",
       "    </tr>\n",
       "    <tr>\n",
       "      <th>1</th>\n",
       "      <td>1923</td>\n",
       "      <td>AVVOCATURA REGIONALE                          ...</td>\n",
       "    </tr>\n",
       "    <tr>\n",
       "      <th>2</th>\n",
       "      <td>50007</td>\n",
       "      <td>D.G.  AVVOCATURA                              ...</td>\n",
       "    </tr>\n",
       "    <tr>\n",
       "      <th>3</th>\n",
       "      <td>50073</td>\n",
       "      <td>D.G. COMPETITIVITA' DEL SISTEMA REGIONALE E SV...</td>\n",
       "    </tr>\n",
       "    <tr>\n",
       "      <th>4</th>\n",
       "      <td>50079</td>\n",
       "      <td>D.G. DIRITTI DI CITTADINANZA E COESIONE SOCIAL...</td>\n",
       "    </tr>\n",
       "  </tbody>\n",
       "</table>\n",
       "</div>"
      ],
      "text/plain": [
       "      ID                                               NOME\n",
       "0  99999                                       ALTRI UFFICI\n",
       "1   1923  AVVOCATURA REGIONALE                          ...\n",
       "2  50007  D.G.  AVVOCATURA                              ...\n",
       "3  50073  D.G. COMPETITIVITA' DEL SISTEMA REGIONALE E SV...\n",
       "4  50079  D.G. DIRITTI DI CITTADINANZA E COESIONE SOCIAL..."
      ]
     },
     "execution_count": 118,
     "metadata": {},
     "output_type": "execute_result"
    }
   ],
   "source": [
    "office_path = 'regione-toscana/atti_dirigenti/strutture.json'\n",
    "out_office_path = 'regione-toscana/atti_dirigenti/strutture_processed.json'\n",
    "\n",
    "with open(office_path, 'r') as f:\n",
    "    offices = json.loads(f.read())\n",
    "    offices = offices['getDg']['Struttura']\n",
    "    \n",
    "with open(out_office_path, 'w') as f:\n",
    "    json.dump(offices, f)\n",
    "    \n",
    "df_offices = pd.read_json(out_office_path)\n",
    "df_offices.head()"
   ]
  },
  {
   "cell_type": "markdown",
   "metadata": {},
   "source": [
    "## Process the Atti Dirigenti Files"
   ]
  },
  {
   "cell_type": "code",
   "execution_count": 72,
   "metadata": {},
   "outputs": [],
   "source": [
    "path = 'regione-toscana/atti_dirigenti/regione-toscana*'"
   ]
  },
  {
   "cell_type": "code",
   "execution_count": 79,
   "metadata": {},
   "outputs": [
    {
     "data": {
      "text/plain": [
       "['regione-toscana/atti_dirigenti/regione-toscana-result-type_atti_dirigenti-year_2016-from_14000-to_14200.json',\n",
       " 'regione-toscana/atti_dirigenti/regione-toscana-result-type_atti_dirigenti-year_2005-from_2200-to_2400.json',\n",
       " 'regione-toscana/atti_dirigenti/regione-toscana-result-type_atti_dirigenti-year_2017-from_10600-to_10800.json',\n",
       " 'regione-toscana/atti_dirigenti/regione-toscana-result-type_atti_dirigenti-year_2017-from_13600-to_13800.json',\n",
       " 'regione-toscana/atti_dirigenti/regione-toscana-result-type_atti_dirigenti-year_2005-from_5000-to_5200.json']"
      ]
     },
     "execution_count": 79,
     "metadata": {},
     "output_type": "execute_result"
    }
   ],
   "source": [
    "files = glob.glob(path)\n",
    "files[:5]"
   ]
  },
  {
   "cell_type": "code",
   "execution_count": 102,
   "metadata": {},
   "outputs": [],
   "source": [
    "with open(files[0], 'r') as r:\n",
    "    data = json.loads(r.read())\n",
    "    records = data['GSP']['RES']['R']"
   ]
  },
  {
   "cell_type": "code",
   "execution_count": 103,
   "metadata": {},
   "outputs": [
    {
     "data": {
      "text/plain": [
       "{'CRAWLDATE': '',\n",
       " 'DU': 'http://www.regione.toscana.it/bancadati/atti/DettaglioAttiD.xml?codprat=2016AD00000017201',\n",
       " 'ED': '',\n",
       " 'FS': {'NAME': 'CODICE_PRATICA', 'VALUE': '20160140002016AD00000017201'},\n",
       " 'HAS': {'C': {'CID': 'NCS_lWDjq4oJ', 'ENC': 'UTF-8', 'SZ': '10k'}, 'L': ''},\n",
       " 'LANG': 'it',\n",
       " 'MIME': 'application/pdf',\n",
       " 'MT': {'ALLEGATO_DESCRIZIONE': ['void'],\n",
       "  'ALLEGATO_ID': ['0'],\n",
       "  'ALLEGATO_TIPO_PUBBL': ['void'],\n",
       "  'CODICE_PRATICA': ['20160140002016AD00000017201'],\n",
       "  'DATA_ATTO': ['2016-12-19'],\n",
       "  'DESCRIZIONE': ['Atto pubblicato su BURT e Banca Dati (PBURT/PBD)'],\n",
       "  'DESCRIZIONE_TIPO_ATTO': ['Decreto non soggetto a controllo interno'],\n",
       "  'DESCRIZIONE_TIPO_PRATICA': ['Atto dei dirigenti'],\n",
       "  'DT_UTENTE': ['2016-12-22 11:45:04.83677'],\n",
       "  'ID_TIPO': ['ADN'],\n",
       "  'ID_TIPO_PRATICA': ['MON'],\n",
       "  'LINK_CONTENUTO_BINARIO': ['http://www.regione.toscana.it/bancadati/atti/Contenuto.xml?id=5134532'],\n",
       "  'NUMERO': ['14000'],\n",
       "  'OGGETTO': [\"DGR 968/07 e s.m.i. Accreditamento degli organismi formativi. Rilascio dell'accreditamento all'organismo formativo Bioscience Research Center - cod. GR1035.\"],\n",
       "  'PERSONA': ['013910'],\n",
       "  'STATUS': ['2'],\n",
       "  'TESTO_RISPOSTA': ['Decreto n. 14000 del 19/12/2016'],\n",
       "  'UFFICIO_AC': ['00000'],\n",
       "  'UFFICIO_DG': ['50125'],\n",
       "  'UFFICIO_SE': ['05873'],\n",
       "  'creation date': [\"D:20161219162800+01'00'\"],\n",
       "  'publisher': ['iText 2.1.7 by 1T3XT; modified using iText® 5.1.2 ©2000-2011 1T3XT BVBA'],\n",
       "  'revision date': [\"D:20161222114419+01'00'\"]},\n",
       " 'N': '1',\n",
       " 'RK': '10',\n",
       " 'S': 'REGIONE%20TOSCANA%20DIREZIONE%20ISTRUZIONE%20E%20FORMAZIONE%3Cbr%3E%20SETTORE%20SISTEMA%20REGIONALE%20DELLA%20FORMAZIONE.%20%3Cb%3E...%3C%2Fb%3E%20%20',\n",
       " 'T': 'Signature Not Verified',\n",
       " 'U': 'http://www.regione.toscana.it/bancadati/atti/DettaglioAttiD.xml?codprat=2016AD00000017201',\n",
       " 'UE': 'http://www.regione.toscana.it/bancadati/atti/DettaglioAttiD.xml%3Fcodprat%3D2016AD00000017201',\n",
       " 'script_report_results': '/click?q=inmeta%3AID_TIPO_PRATICA%253DMON%2BAND%2Binmeta%3ADATA_ATTO%3A2016-01-01..2016-12-31%2BAND%2Binmeta%3ANUMERO%3A14000..14200%2BAND%2Binmeta%3AALLEGATO_DESCRIZIONE%253Dvoid&ct=c&url=http%3A%2F%2Fwww.regione.toscana.it%2Fbancadati%2Fatti%2FDettaglioAttiD.xml%3Fcodprat%3D2016AD00000017201&r=1&s=0&site=atti'}"
      ]
     },
     "execution_count": 103,
     "metadata": {},
     "output_type": "execute_result"
    }
   ],
   "source": [
    "records[0]"
   ]
  },
  {
   "cell_type": "code",
   "execution_count": 135,
   "metadata": {},
   "outputs": [],
   "source": [
    "columns = ['MT.CODICE_PRATICA', 'MT.DATA_ATTO', 'MT.DESCRIZIONE_TIPO_PRATICA', 'MT.ID_TIPO', 'MT.ID_TIPO_PRATICA', \n",
    "           'MT.LINK_CONTENUTO_BINARIO', 'MT.OGGETTO', 'MT.PERSONA', 'MT.STATUS', 'MT.UFFICIO_AC',\n",
    "           'MT.UFFICIO_DG', 'MT.UFFICIO_SE', 'UE']\n",
    "\n",
    "update_columns = [v[3:] for v in columns[:-1]]\n",
    "update_columns.append('DETAIL_URL')"
   ]
  },
  {
   "cell_type": "code",
   "execution_count": 137,
   "metadata": {},
   "outputs": [
    {
     "data": {
      "text/plain": [
       "['CODICE_PRATICA',\n",
       " 'DATA_ATTO',\n",
       " 'DESCRIZIONE_TIPO_PRATICA',\n",
       " 'ID_TIPO',\n",
       " 'ID_TIPO_PRATICA',\n",
       " 'LINK_CONTENUTO_BINARIO',\n",
       " 'OGGETTO',\n",
       " 'PERSONA',\n",
       " 'STATUS',\n",
       " 'UFFICIO_AC',\n",
       " 'UFFICIO_DG',\n",
       " 'UFFICIO_SE',\n",
       " 'DETAIL_URL']"
      ]
     },
     "execution_count": 137,
     "metadata": {},
     "output_type": "execute_result"
    }
   ],
   "source": [
    "update_columns"
   ]
  },
  {
   "cell_type": "code",
   "execution_count": 138,
   "metadata": {},
   "outputs": [],
   "source": [
    "flat_records = json_normalize(records)\n",
    "\n",
    "df_atti = flat_records[columns]\n",
    "df_atti.columns = update_columns\n",
    "\n",
    "def process_values(x):\n",
    "    if type(x) == list:\n",
    "        return x[0]\n",
    "    else:\n",
    "        return x\n",
    "\n",
    "df_atti = df_atti.applymap(process_values)"
   ]
  },
  {
   "cell_type": "code",
   "execution_count": 139,
   "metadata": {
    "scrolled": false
   },
   "outputs": [
    {
     "data": {
      "text/html": [
       "<div>\n",
       "<style scoped>\n",
       "    .dataframe tbody tr th:only-of-type {\n",
       "        vertical-align: middle;\n",
       "    }\n",
       "\n",
       "    .dataframe tbody tr th {\n",
       "        vertical-align: top;\n",
       "    }\n",
       "\n",
       "    .dataframe thead th {\n",
       "        text-align: right;\n",
       "    }\n",
       "</style>\n",
       "<table border=\"1\" class=\"dataframe\">\n",
       "  <thead>\n",
       "    <tr style=\"text-align: right;\">\n",
       "      <th></th>\n",
       "      <th>CODICE_PRATICA</th>\n",
       "      <th>DATA_ATTO</th>\n",
       "      <th>DESCRIZIONE_TIPO_PRATICA</th>\n",
       "      <th>ID_TIPO</th>\n",
       "      <th>ID_TIPO_PRATICA</th>\n",
       "      <th>LINK_CONTENUTO_BINARIO</th>\n",
       "      <th>OGGETTO</th>\n",
       "      <th>PERSONA</th>\n",
       "      <th>STATUS</th>\n",
       "      <th>UFFICIO_AC</th>\n",
       "      <th>UFFICIO_DG</th>\n",
       "      <th>UFFICIO_SE</th>\n",
       "      <th>DETAIL_URL</th>\n",
       "    </tr>\n",
       "  </thead>\n",
       "  <tbody>\n",
       "    <tr>\n",
       "      <th>0</th>\n",
       "      <td>20160140002016AD00000017201</td>\n",
       "      <td>2016-12-19</td>\n",
       "      <td>Atto dei dirigenti</td>\n",
       "      <td>ADN</td>\n",
       "      <td>MON</td>\n",
       "      <td>http://www.regione.toscana.it/bancadati/atti/C...</td>\n",
       "      <td>DGR 968/07 e s.m.i. Accreditamento degli organ...</td>\n",
       "      <td>013910</td>\n",
       "      <td>2</td>\n",
       "      <td>00000</td>\n",
       "      <td>50125</td>\n",
       "      <td>05873</td>\n",
       "      <td>http://www.regione.toscana.it/bancadati/atti/D...</td>\n",
       "    </tr>\n",
       "    <tr>\n",
       "      <th>1</th>\n",
       "      <td>20160140012016AD00000017466</td>\n",
       "      <td>2016-12-21</td>\n",
       "      <td>Atto dei dirigenti</td>\n",
       "      <td>ADN</td>\n",
       "      <td>MON</td>\n",
       "      <td>http://www.regione.toscana.it/bancadati/atti/C...</td>\n",
       "      <td>REG. CEE 2080/92 - AIUTI ALLE MISURE FORESTALI...</td>\n",
       "      <td>005595</td>\n",
       "      <td>2</td>\n",
       "      <td>00000</td>\n",
       "      <td>50117</td>\n",
       "      <td>05015</td>\n",
       "      <td>http://www.regione.toscana.it/bancadati/atti/D...</td>\n",
       "    </tr>\n",
       "    <tr>\n",
       "      <th>2</th>\n",
       "      <td>20160140022016AD00000017198</td>\n",
       "      <td>2016-12-19</td>\n",
       "      <td>Atto dei dirigenti</td>\n",
       "      <td>ADN</td>\n",
       "      <td>MON</td>\n",
       "      <td>http://www.regione.toscana.it/bancadati/atti/C...</td>\n",
       "      <td>Servizi autorizzati ex art.14 L.R. 42/98 \"Norm...</td>\n",
       "      <td>019075</td>\n",
       "      <td>2</td>\n",
       "      <td>00000</td>\n",
       "      <td>50121</td>\n",
       "      <td>04838</td>\n",
       "      <td>http://www.regione.toscana.it/bancadati/atti/D...</td>\n",
       "    </tr>\n",
       "    <tr>\n",
       "      <th>3</th>\n",
       "      <td>20160140032016AD00000017208</td>\n",
       "      <td>2016-12-19</td>\n",
       "      <td>Atto dei dirigenti</td>\n",
       "      <td>ADN</td>\n",
       "      <td>MON</td>\n",
       "      <td>http://www.regione.toscana.it/bancadati/atti/C...</td>\n",
       "      <td>L.R. 1/2006, DCR 3/2012, L.R. 1/2015 art.29, c...</td>\n",
       "      <td>020415</td>\n",
       "      <td>2</td>\n",
       "      <td>00000</td>\n",
       "      <td>50117</td>\n",
       "      <td>05018</td>\n",
       "      <td>http://www.regione.toscana.it/bancadati/atti/D...</td>\n",
       "    </tr>\n",
       "    <tr>\n",
       "      <th>4</th>\n",
       "      <td>20160140042016AD00000017268</td>\n",
       "      <td>2016-12-20</td>\n",
       "      <td>Atto dei dirigenti</td>\n",
       "      <td>ADN</td>\n",
       "      <td>MON</td>\n",
       "      <td>http://www.regione.toscana.it/bancadati/atti/C...</td>\n",
       "      <td>L.R. n. 87/1997 - Pubblicazione sul BURT dell'...</td>\n",
       "      <td>010826</td>\n",
       "      <td>2</td>\n",
       "      <td>00000</td>\n",
       "      <td>50116</td>\n",
       "      <td>05895</td>\n",
       "      <td>http://www.regione.toscana.it/bancadati/atti/D...</td>\n",
       "    </tr>\n",
       "  </tbody>\n",
       "</table>\n",
       "</div>"
      ],
      "text/plain": [
       "                CODICE_PRATICA   DATA_ATTO DESCRIZIONE_TIPO_PRATICA ID_TIPO  \\\n",
       "0  20160140002016AD00000017201  2016-12-19       Atto dei dirigenti     ADN   \n",
       "1  20160140012016AD00000017466  2016-12-21       Atto dei dirigenti     ADN   \n",
       "2  20160140022016AD00000017198  2016-12-19       Atto dei dirigenti     ADN   \n",
       "3  20160140032016AD00000017208  2016-12-19       Atto dei dirigenti     ADN   \n",
       "4  20160140042016AD00000017268  2016-12-20       Atto dei dirigenti     ADN   \n",
       "\n",
       "  ID_TIPO_PRATICA                             LINK_CONTENUTO_BINARIO  \\\n",
       "0             MON  http://www.regione.toscana.it/bancadati/atti/C...   \n",
       "1             MON  http://www.regione.toscana.it/bancadati/atti/C...   \n",
       "2             MON  http://www.regione.toscana.it/bancadati/atti/C...   \n",
       "3             MON  http://www.regione.toscana.it/bancadati/atti/C...   \n",
       "4             MON  http://www.regione.toscana.it/bancadati/atti/C...   \n",
       "\n",
       "                                             OGGETTO PERSONA STATUS  \\\n",
       "0  DGR 968/07 e s.m.i. Accreditamento degli organ...  013910      2   \n",
       "1  REG. CEE 2080/92 - AIUTI ALLE MISURE FORESTALI...  005595      2   \n",
       "2  Servizi autorizzati ex art.14 L.R. 42/98 \"Norm...  019075      2   \n",
       "3  L.R. 1/2006, DCR 3/2012, L.R. 1/2015 art.29, c...  020415      2   \n",
       "4  L.R. n. 87/1997 - Pubblicazione sul BURT dell'...  010826      2   \n",
       "\n",
       "  UFFICIO_AC UFFICIO_DG UFFICIO_SE  \\\n",
       "0      00000      50125      05873   \n",
       "1      00000      50117      05015   \n",
       "2      00000      50121      04838   \n",
       "3      00000      50117      05018   \n",
       "4      00000      50116      05895   \n",
       "\n",
       "                                          DETAIL_URL  \n",
       "0  http://www.regione.toscana.it/bancadati/atti/D...  \n",
       "1  http://www.regione.toscana.it/bancadati/atti/D...  \n",
       "2  http://www.regione.toscana.it/bancadati/atti/D...  \n",
       "3  http://www.regione.toscana.it/bancadati/atti/D...  \n",
       "4  http://www.regione.toscana.it/bancadati/atti/D...  "
      ]
     },
     "execution_count": 139,
     "metadata": {},
     "output_type": "execute_result"
    }
   ],
   "source": [
    "df_atti.head()"
   ]
  },
  {
   "cell_type": "code",
   "execution_count": null,
   "metadata": {},
   "outputs": [],
   "source": []
  }
 ],
 "metadata": {
  "kernelspec": {
   "display_name": "Python 3",
   "language": "python",
   "name": "python3"
  },
  "language_info": {
   "codemirror_mode": {
    "name": "ipython",
    "version": 3
   },
   "file_extension": ".py",
   "mimetype": "text/x-python",
   "name": "python",
   "nbconvert_exporter": "python",
   "pygments_lexer": "ipython3",
   "version": "3.6.4"
  }
 },
 "nbformat": 4,
 "nbformat_minor": 2
}
