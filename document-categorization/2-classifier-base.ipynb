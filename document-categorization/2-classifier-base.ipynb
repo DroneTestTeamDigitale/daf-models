{
 "cells": [
  {
   "cell_type": "code",
   "execution_count": 1,
   "metadata": {},
   "outputs": [
    {
     "name": "stderr",
     "output_type": "stream",
     "text": [
      "Using TensorFlow backend.\n"
     ]
    }
   ],
   "source": [
    "import numpy as np\n",
    "import pandas as pd\n",
    "import pickle\n",
    "\n",
    "from keras import models\n",
    "from keras import layers\n",
    "from keras import optimizers\n",
    "from keras import losses\n",
    "from keras import activations\n",
    "from keras import metrics\n",
    "import math\n",
    "\n",
    "import random\n",
    "\n",
    "# to make the experimens replicable\n",
    "random.seed(123456)"
   ]
  },
  {
   "cell_type": "markdown",
   "metadata": {},
   "source": [
    "## Important\n",
    "\n",
    "as first step run the notebook `1. classification-dataset-creation.ipynb` to create the dataset."
   ]
  },
  {
   "cell_type": "code",
   "execution_count": 2,
   "metadata": {},
   "outputs": [],
   "source": [
    "dataset_path = 'regione-toscana/dataset-dirigenti.pkl'\n",
    "\n",
    "with open(dataset_path, 'rb') as f:\n",
    "    samples, labels = pickle.load(f)"
   ]
  },
  {
   "cell_type": "markdown",
   "metadata": {},
   "source": [
    "### Transform it in a dataset"
   ]
  },
  {
   "cell_type": "code",
   "execution_count": 3,
   "metadata": {},
   "outputs": [
    {
     "data": {
      "text/plain": [
       "array([\"DGR 968/07 e s.m.i. Accreditamento degli organismi formativi. Rilascio dell'accreditamento all'organismo formativo Bioscience Research Center - cod. GR1035.\",\n",
       "       'Nomina Commissione d’esame per il percorso formativo “Formazione obbligatoria per utilizzatori professionali di prodotti fitosanitari”, MATRICOLA N. 2016SI0046',\n",
       "       \"Nomina della Commissione d'esame matricola 2016PI0301. Agenzia Formativa Cescot\",\n",
       "       'Progetti formativi per drop-out a.s.f. 2015-2016. Integrazione impegno per progetto \"Figaro - Operatore del benessere (acconciatura)\"',\n",
       "       'REG (CE) 1080/2006-Por Creo Fesr 2007-2013-Linea di intevento 5.1.d-Chiusura attività'],\n",
       "      dtype='<U961')"
      ]
     },
     "execution_count": 3,
     "metadata": {},
     "output_type": "execute_result"
    }
   ],
   "source": [
    "samples[:5]"
   ]
  },
  {
   "cell_type": "code",
   "execution_count": 4,
   "metadata": {},
   "outputs": [
    {
     "data": {
      "text/plain": [
       "array(['50125', '50125', '50125', '50125', '50125'], dtype='<U5')"
      ]
     },
     "execution_count": 4,
     "metadata": {},
     "output_type": "execute_result"
    }
   ],
   "source": [
    "labels[:5]"
   ]
  },
  {
   "cell_type": "code",
   "execution_count": 5,
   "metadata": {},
   "outputs": [],
   "source": [
    "samples = np.array(samples)\n",
    "labels = np.array(labels)"
   ]
  },
  {
   "cell_type": "markdown",
   "metadata": {},
   "source": [
    "## Train, Val and Test Set\n",
    "\n",
    "Normally we split the dataset into:\n",
    "- 70% for training\n",
    "- 10% for validation\n",
    "- 20% for testing"
   ]
  },
  {
   "cell_type": "code",
   "execution_count": 6,
   "metadata": {},
   "outputs": [
    {
     "data": {
      "text/plain": [
       "(147463,)"
      ]
     },
     "execution_count": 6,
     "metadata": {},
     "output_type": "execute_result"
    }
   ],
   "source": [
    "samples.shape"
   ]
  },
  {
   "cell_type": "markdown",
   "metadata": {},
   "source": [
    "### Shuffle Data"
   ]
  },
  {
   "cell_type": "code",
   "execution_count": 7,
   "metadata": {},
   "outputs": [],
   "source": [
    "indices = list(range(len(samples)))\n",
    "np.random.shuffle(indices)\n",
    "\n",
    "samples = samples[indices]\n",
    "labels = labels[indices]"
   ]
  },
  {
   "cell_type": "code",
   "execution_count": 8,
   "metadata": {},
   "outputs": [
    {
     "data": {
      "text/plain": [
       "array(['50005', '50117', '50000', '50117', '50125'], dtype='<U5')"
      ]
     },
     "execution_count": 8,
     "metadata": {},
     "output_type": "execute_result"
    }
   ],
   "source": [
    "labels[:5]"
   ]
  },
  {
   "cell_type": "markdown",
   "metadata": {},
   "source": [
    "## Tokenize the Dataset"
   ]
  },
  {
   "cell_type": "code",
   "execution_count": 9,
   "metadata": {},
   "outputs": [],
   "source": [
    "from keras.preprocessing.text import Tokenizer"
   ]
  },
  {
   "cell_type": "code",
   "execution_count": 10,
   "metadata": {},
   "outputs": [],
   "source": [
    "tokenizer = Tokenizer(num_words=10000)\n",
    "tokenizer.fit_on_texts(samples)"
   ]
  },
  {
   "cell_type": "code",
   "execution_count": 11,
   "metadata": {},
   "outputs": [],
   "source": [
    "sequences = tokenizer.texts_to_sequences(samples)"
   ]
  },
  {
   "cell_type": "code",
   "execution_count": 12,
   "metadata": {},
   "outputs": [
    {
     "name": "stdout",
     "output_type": "stream",
     "text": [
      "[11, 11, 151, 20, 84, 223, 176, 89, 1, 146, 140, 1, 226, 2, 71, 1, 787, 4, 7, 354, 3, 547, 564, 358, 2023, 25, 1294, 9, 433, 18, 223, 176, 9, 29]\n",
      "[7, 6, 24, 90, 23, 335, 33, 63, 1, 218, 319, 449, 548, 345, 277, 143, 6696]\n"
     ]
    },
    {
     "data": {
      "text/plain": [
       "[None, None]"
      ]
     },
     "execution_count": 12,
     "metadata": {},
     "output_type": "execute_result"
    }
   ],
   "source": [
    "[print(s) for s in sequences[:2]]"
   ]
  },
  {
   "cell_type": "markdown",
   "metadata": {},
   "source": [
    "Convert labels to sequences"
   ]
  },
  {
   "cell_type": "code",
   "execution_count": 13,
   "metadata": {},
   "outputs": [],
   "source": [
    "index_to_labels = dict(enumerate(set(labels)))\n",
    "labels_to_index = {v:k for k,v in index_to_labels.items()}"
   ]
  },
  {
   "cell_type": "code",
   "execution_count": 14,
   "metadata": {},
   "outputs": [
    {
     "data": {
      "text/plain": [
       "{'01025': 29,\n",
       " '01027': 31,\n",
       " '01923': 30,\n",
       " '01928': 1,\n",
       " '01931': 2,\n",
       " '01934': 11,\n",
       " '01937': 17,\n",
       " '01943': 7,\n",
       " '01946': 27,\n",
       " '02090': 13,\n",
       " '50000': 8,\n",
       " '50001': 26,\n",
       " '50002': 12,\n",
       " '50003': 10,\n",
       " '50004': 21,\n",
       " '50005': 14,\n",
       " '50006': 25,\n",
       " '50007': 28,\n",
       " '50069': 6,\n",
       " '50073': 19,\n",
       " '50079': 3,\n",
       " '50083': 15,\n",
       " '50102': 5,\n",
       " '50115': 22,\n",
       " '50116': 23,\n",
       " '50117': 24,\n",
       " '50118': 18,\n",
       " '50119': 9,\n",
       " '50123': 16,\n",
       " '50125': 4,\n",
       " '50127': 0,\n",
       " '50202': 20}"
      ]
     },
     "execution_count": 14,
     "metadata": {},
     "output_type": "execute_result"
    }
   ],
   "source": [
    "labels_to_index"
   ]
  },
  {
   "cell_type": "code",
   "execution_count": 15,
   "metadata": {},
   "outputs": [
    {
     "data": {
      "text/plain": [
       "32"
      ]
     },
     "execution_count": 15,
     "metadata": {},
     "output_type": "execute_result"
    }
   ],
   "source": [
    "len(labels_to_index)"
   ]
  },
  {
   "cell_type": "code",
   "execution_count": 16,
   "metadata": {},
   "outputs": [
    {
     "data": {
      "text/plain": [
       "array(['50005', '50117', '50000', ..., '50005', '50125', '50116'],\n",
       "      dtype='<U5')"
      ]
     },
     "execution_count": 16,
     "metadata": {},
     "output_type": "execute_result"
    }
   ],
   "source": [
    "labels"
   ]
  },
  {
   "cell_type": "code",
   "execution_count": 17,
   "metadata": {},
   "outputs": [],
   "source": [
    "encoded_labels = [labels_to_index[l] for l in labels]"
   ]
  },
  {
   "cell_type": "code",
   "execution_count": 18,
   "metadata": {},
   "outputs": [
    {
     "data": {
      "text/plain": [
       "[14, 24, 8, 24, 4, 22, 10, 9, 8, 18]"
      ]
     },
     "execution_count": 18,
     "metadata": {},
     "output_type": "execute_result"
    }
   ],
   "source": [
    "encoded_labels[:10]"
   ]
  },
  {
   "cell_type": "markdown",
   "metadata": {},
   "source": [
    "## Train, Val and Test Set\n",
    "\n",
    "Normally, we split the dataset into:\n",
    "- train: 70%\n",
    "- val: 10%\n",
    "- test: 20%"
   ]
  },
  {
   "cell_type": "code",
   "execution_count": 19,
   "metadata": {},
   "outputs": [],
   "source": [
    "training_size = math.trunc(len(sequences) * 0.7)\n",
    "val_size = math.trunc(len(sequences) * 0.8)\n",
    "test_size = len(sequences)"
   ]
  },
  {
   "cell_type": "code",
   "execution_count": 20,
   "metadata": {},
   "outputs": [],
   "source": [
    "train_data = sequences[:training_size]\n",
    "train_labels = encoded_labels[:training_size]\n",
    "\n",
    "val_data = sequences[training_size:val_size]\n",
    "val_labels = encoded_labels[training_size:val_size]\n",
    "\n",
    "test_data = sequences[val_size:]\n",
    "test_labels = encoded_labels[val_size:] "
   ]
  },
  {
   "cell_type": "markdown",
   "metadata": {},
   "source": [
    "### Preparing Data\n",
    "\n",
    "for data and labels"
   ]
  },
  {
   "cell_type": "code",
   "execution_count": 21,
   "metadata": {},
   "outputs": [],
   "source": [
    "def vectorize_sequences(sequences, dimension=10000):\n",
    "    results = np.zeros((len(sequences), dimension), dtype=np.float32)\n",
    "    for i, sequence in enumerate(sequences):\n",
    "        results[i, sequence] = 1.\n",
    "    return results"
   ]
  },
  {
   "cell_type": "code",
   "execution_count": 22,
   "metadata": {},
   "outputs": [],
   "source": [
    "x_train = vectorize_sequences(train_data)\n",
    "x_val = vectorize_sequences(val_data)\n",
    "x_test = vectorize_sequences(test_data)"
   ]
  },
  {
   "cell_type": "code",
   "execution_count": 23,
   "metadata": {},
   "outputs": [
    {
     "data": {
      "text/plain": [
       "array([[0., 1., 1., ..., 0., 0., 0.],\n",
       "       [0., 1., 0., ..., 0., 0., 0.],\n",
       "       [0., 1., 0., ..., 0., 0., 0.],\n",
       "       ...,\n",
       "       [0., 1., 1., ..., 0., 0., 0.],\n",
       "       [0., 1., 1., ..., 0., 0., 0.],\n",
       "       [0., 1., 1., ..., 0., 0., 0.]], dtype=float32)"
      ]
     },
     "execution_count": 23,
     "metadata": {},
     "output_type": "execute_result"
    }
   ],
   "source": [
    "x_train[0:]"
   ]
  },
  {
   "cell_type": "code",
   "execution_count": 24,
   "metadata": {},
   "outputs": [
    {
     "data": {
      "text/plain": [
       "(103224, 10000)"
      ]
     },
     "execution_count": 24,
     "metadata": {},
     "output_type": "execute_result"
    }
   ],
   "source": [
    "x_train.shape"
   ]
  },
  {
   "cell_type": "markdown",
   "metadata": {},
   "source": [
    "One hot encoding for the labels"
   ]
  },
  {
   "cell_type": "code",
   "execution_count": 25,
   "metadata": {},
   "outputs": [],
   "source": [
    "def to_one_hot(labels):\n",
    "    results = np.zeros((len(labels), len(set(labels))), dtype=np.float32)\n",
    "    for i, label in enumerate(labels):\n",
    "        results[i, label] = 1.\n",
    "    return results"
   ]
  },
  {
   "cell_type": "code",
   "execution_count": 26,
   "metadata": {},
   "outputs": [],
   "source": [
    "y_train = to_one_hot(train_labels)\n",
    "y_val = to_one_hot(val_labels)\n",
    "y_test = to_one_hot(test_labels)"
   ]
  },
  {
   "cell_type": "code",
   "execution_count": 27,
   "metadata": {},
   "outputs": [
    {
     "data": {
      "text/plain": [
       "array([[0., 0., 0., ..., 0., 0., 0.],\n",
       "       [0., 0., 0., ..., 0., 0., 0.],\n",
       "       [0., 0., 0., ..., 0., 0., 0.],\n",
       "       ...,\n",
       "       [0., 0., 0., ..., 0., 0., 0.],\n",
       "       [0., 0., 0., ..., 0., 0., 0.],\n",
       "       [0., 0., 0., ..., 0., 0., 0.]], dtype=float32)"
      ]
     },
     "execution_count": 27,
     "metadata": {},
     "output_type": "execute_result"
    }
   ],
   "source": [
    "y_train"
   ]
  },
  {
   "cell_type": "markdown",
   "metadata": {},
   "source": [
    "## Build the Models"
   ]
  },
  {
   "cell_type": "code",
   "execution_count": 28,
   "metadata": {},
   "outputs": [],
   "source": [
    "def build_model(neurons):\n",
    "    model = models.Sequential()\n",
    "    model.add(layers.Dense(neurons, activation='relu', input_shape=(x_train.shape[-1], )))\n",
    "    model.add(layers.Dense(neurons, activation='relu'))\n",
    "    model.add(layers.Dense(neurons, activation='relu'))\n",
    "    model.add(layers.Dense(len(labels_to_index), activation='softmax'))\n",
    "    \n",
    "    model.compile(optimizer=optimizers.Adam(), \n",
    "              loss='categorical_crossentropy',\n",
    "              metrics=['accuracy'])\n",
    "    return model"
   ]
  },
  {
   "cell_type": "code",
   "execution_count": 29,
   "metadata": {},
   "outputs": [],
   "source": [
    "model_small = build_model(16)\n",
    "model_medium = build_model(64)\n",
    "model_large = build_model(256)"
   ]
  },
  {
   "cell_type": "code",
   "execution_count": 30,
   "metadata": {},
   "outputs": [
    {
     "name": "stdout",
     "output_type": "stream",
     "text": [
      "Train on 103224 samples, validate on 14746 samples\n",
      "Epoch 1/10\n",
      "103224/103224 [==============================] - 5s 45us/step - loss: 2.0444 - acc: 0.4225 - val_loss: 1.2097 - val_acc: 0.6377\n",
      "Epoch 2/10\n",
      "103224/103224 [==============================] - 3s 29us/step - loss: 0.9858 - acc: 0.6940 - val_loss: 0.9370 - val_acc: 0.7040\n",
      "Epoch 3/10\n",
      "103224/103224 [==============================] - 3s 29us/step - loss: 0.7762 - acc: 0.7508 - val_loss: 0.8530 - val_acc: 0.7283\n",
      "Epoch 4/10\n",
      "103224/103224 [==============================] - 3s 30us/step - loss: 0.6713 - acc: 0.7797 - val_loss: 0.8220 - val_acc: 0.7363\n",
      "Epoch 5/10\n",
      "103224/103224 [==============================] - 3s 29us/step - loss: 0.6024 - acc: 0.8002 - val_loss: 0.8197 - val_acc: 0.7414\n",
      "Epoch 6/10\n",
      "103224/103224 [==============================] - 3s 31us/step - loss: 0.5541 - acc: 0.8148 - val_loss: 0.8112 - val_acc: 0.7458\n",
      "Epoch 7/10\n",
      "103224/103224 [==============================] - 3s 28us/step - loss: 0.5157 - acc: 0.8262 - val_loss: 0.8178 - val_acc: 0.7499\n",
      "Epoch 8/10\n",
      "103224/103224 [==============================] - 3s 30us/step - loss: 0.4839 - acc: 0.8364 - val_loss: 0.8310 - val_acc: 0.7496\n",
      "Epoch 9/10\n",
      "103224/103224 [==============================] - 3s 29us/step - loss: 0.4577 - acc: 0.8451 - val_loss: 0.8466 - val_acc: 0.7517\n",
      "Epoch 10/10\n",
      "103224/103224 [==============================] - 3s 30us/step - loss: 0.4358 - acc: 0.8518 - val_loss: 0.8595 - val_acc: 0.7492\n"
     ]
    }
   ],
   "source": [
    "history_small = model_small.fit(x=x_train, y=y_train, validation_data=(x_val,y_val),\n",
    "                   epochs=10, batch_size=256)"
   ]
  },
  {
   "cell_type": "code",
   "execution_count": 31,
   "metadata": {},
   "outputs": [
    {
     "name": "stdout",
     "output_type": "stream",
     "text": [
      "Train on 103224 samples, validate on 14746 samples\n",
      "Epoch 1/10\n",
      "103224/103224 [==============================] - 4s 35us/step - loss: 1.3316 - acc: 0.6087 - val_loss: 0.7750 - val_acc: 0.7452\n",
      "Epoch 2/10\n",
      "103224/103224 [==============================] - 3s 26us/step - loss: 0.6153 - acc: 0.7915 - val_loss: 0.6893 - val_acc: 0.7678\n",
      "Epoch 3/10\n",
      "103224/103224 [==============================] - 3s 25us/step - loss: 0.4737 - acc: 0.8359 - val_loss: 0.6738 - val_acc: 0.7778\n",
      "Epoch 4/10\n",
      "103224/103224 [==============================] - 3s 25us/step - loss: 0.3930 - acc: 0.8627 - val_loss: 0.6906 - val_acc: 0.7776\n",
      "Epoch 5/10\n",
      "103224/103224 [==============================] - 3s 26us/step - loss: 0.3330 - acc: 0.8837 - val_loss: 0.7265 - val_acc: 0.7792\n",
      "Epoch 6/10\n",
      "103224/103224 [==============================] - 3s 25us/step - loss: 0.2855 - acc: 0.9001 - val_loss: 0.7567 - val_acc: 0.7816\n",
      "Epoch 7/10\n",
      "103224/103224 [==============================] - 3s 26us/step - loss: 0.2474 - acc: 0.9138 - val_loss: 0.7937 - val_acc: 0.7873\n",
      "Epoch 8/10\n",
      "103224/103224 [==============================] - 3s 26us/step - loss: 0.2185 - acc: 0.9236 - val_loss: 0.8334 - val_acc: 0.7838\n",
      "Epoch 9/10\n",
      "103224/103224 [==============================] - 3s 25us/step - loss: 0.1917 - acc: 0.9335 - val_loss: 0.8719 - val_acc: 0.7806\n",
      "Epoch 10/10\n",
      "103224/103224 [==============================] - 3s 25us/step - loss: 0.1700 - acc: 0.9414 - val_loss: 0.9238 - val_acc: 0.7821\n"
     ]
    }
   ],
   "source": [
    "history_medium = model_medium.fit(x=x_train, y=y_train, validation_data=(x_val,y_val),\n",
    "                   epochs=10, batch_size=256)"
   ]
  },
  {
   "cell_type": "code",
   "execution_count": 32,
   "metadata": {},
   "outputs": [
    {
     "name": "stdout",
     "output_type": "stream",
     "text": [
      "Train on 103224 samples, validate on 14746 samples\n",
      "Epoch 1/10\n",
      "103224/103224 [==============================] - 6s 53us/step - loss: 1.0511 - acc: 0.6750 - val_loss: 0.6666 - val_acc: 0.7684\n",
      "Epoch 2/10\n",
      "103224/103224 [==============================] - 5s 50us/step - loss: 0.4766 - acc: 0.8315 - val_loss: 0.6131 - val_acc: 0.7901\n",
      "Epoch 3/10\n",
      "103224/103224 [==============================] - 5s 50us/step - loss: 0.3147 - acc: 0.8865 - val_loss: 0.6246 - val_acc: 0.7942\n",
      "Epoch 4/10\n",
      "103224/103224 [==============================] - 5s 50us/step - loss: 0.2183 - acc: 0.9219 - val_loss: 0.6678 - val_acc: 0.8032\n",
      "Epoch 5/10\n",
      "103224/103224 [==============================] - 5s 51us/step - loss: 0.1612 - acc: 0.9433 - val_loss: 0.7569 - val_acc: 0.8032\n",
      "Epoch 6/10\n",
      "103224/103224 [==============================] - 5s 51us/step - loss: 0.1248 - acc: 0.9565 - val_loss: 0.8086 - val_acc: 0.8029\n",
      "Epoch 7/10\n",
      "103224/103224 [==============================] - 6s 55us/step - loss: 0.1021 - acc: 0.9657 - val_loss: 0.8600 - val_acc: 0.8015\n",
      "Epoch 8/10\n",
      "103224/103224 [==============================] - 5s 53us/step - loss: 0.0884 - acc: 0.9702 - val_loss: 0.9112 - val_acc: 0.8006\n",
      "Epoch 9/10\n",
      "103224/103224 [==============================] - 5s 51us/step - loss: 0.0780 - acc: 0.9734 - val_loss: 0.9533 - val_acc: 0.7987\n",
      "Epoch 10/10\n",
      "103224/103224 [==============================] - 5s 51us/step - loss: 0.0696 - acc: 0.9765 - val_loss: 0.9618 - val_acc: 0.8029\n"
     ]
    }
   ],
   "source": [
    "history_large = model_large.fit(x=x_train, y=y_train, validation_data=(x_val,y_val),\n",
    "                   epochs=10, batch_size=256)"
   ]
  },
  {
   "cell_type": "markdown",
   "metadata": {},
   "source": [
    "### Printing The Loss"
   ]
  },
  {
   "cell_type": "code",
   "execution_count": 39,
   "metadata": {},
   "outputs": [],
   "source": [
    "import matplotlib.pyplot as plt\n",
    "\n",
    "%matplotlib inline"
   ]
  },
  {
   "cell_type": "code",
   "execution_count": 40,
   "metadata": {},
   "outputs": [],
   "source": [
    "def chart_loss(history):\n",
    "    loss = history.history['loss']\n",
    "    val_loss = history.history['val_loss']\n",
    "\n",
    "    epochs = range(1, len(loss) + 1)\n",
    "\n",
    "    plt.plot(epochs, loss, 'b+', label='Training Loss')\n",
    "    plt.plot(epochs, val_loss, 'b', label='Validation Loss')\n",
    "    plt.title('Training and validation loss')\n",
    "    plt.xlabel('Epochs')\n",
    "    plt.ylabel('Loss')\n",
    "    plt.legend()\n",
    "    plt.show()"
   ]
  },
  {
   "cell_type": "code",
   "execution_count": 41,
   "metadata": {},
   "outputs": [
    {
     "data": {
      "image/png": "[encoded data removed]",
      "text/plain": [
       "<Figure size 432x288 with 1 Axes>"
      ]
     },
     "metadata": {},
     "output_type": "display_data"
    },
    {
     "data": {
      "image/png": "[encoded data removed]",
      "text/plain": [
       "<Figure size 432x288 with 1 Axes>"
      ]
     },
     "metadata": {},
     "output_type": "display_data"
    },
    {
     "data": {
      "image/png": "[encoded data removed]",
      "text/plain": [
       "<Figure size 432x288 with 1 Axes>"
      ]
     },
     "metadata": {},
     "output_type": "display_data"
    }
   ],
   "source": [
    "chart_loss(history_small)\n",
    "chart_loss(history_medium)\n",
    "chart_loss(history_large)"
   ]
  },
  {
   "cell_type": "code",
   "execution_count": null,
   "metadata": {},
   "outputs": [],
   "source": []
  },
  {
   "cell_type": "code",
   "execution_count": 42,
   "metadata": {},
   "outputs": [],
   "source": [
    "def chart_acc(history):\n",
    "    acc = history.history['acc']\n",
    "    val_acc = history.history['val_acc']\n",
    "\n",
    "    epochs = range(1, len(acc) + 1)\n",
    "\n",
    "    plt.plot(epochs, acc, 'b+', label='Training Acc')\n",
    "    plt.plot(epochs, val_acc, 'b', label='Validation Acc')\n",
    "    plt.title('Training and validation loss')\n",
    "    plt.xlabel('Epochs')\n",
    "    plt.ylabel('Accuray')\n",
    "    plt.legend()\n",
    "    plt.show()"
   ]
  },
  {
   "cell_type": "code",
   "execution_count": 43,
   "metadata": {},
   "outputs": [
    {
     "data": {
      "image/png": "[encoded data removed]",
      "text/plain": [
       "<Figure size 432x288 with 1 Axes>"
      ]
     },
     "metadata": {},
     "output_type": "display_data"
    },
    {
     "data": {
      "image/png": "[encoded data removed]",
      "text/plain": [
       "<Figure size 432x288 with 1 Axes>"
      ]
     },
     "metadata": {},
     "output_type": "display_data"
    },
    {
     "data": {
      "image/png": "[encoded data removed]",
      "text/plain": [
       "<Figure size 432x288 with 1 Axes>"
      ]
     },
     "metadata": {},
     "output_type": "display_data"
    }
   ],
   "source": [
    "chart_acc(history_small)\n",
    "chart_acc(history_medium)\n",
    "chart_acc(history_large)"
   ]
  },
  {
   "cell_type": "code",
   "execution_count": 44,
   "metadata": {},
   "outputs": [],
   "source": [
    "def compare_loss(histories):\n",
    "    epochs = range(1, len(list(histories.values())[0].history['val_loss']) + 1)\n",
    "\n",
    "    for i, history in histories.items():\n",
    "        val_loss = history.history['val_loss']\n",
    "        plt.plot(epochs, val_loss, label='Validation Loss {}'.format(i))\n",
    "            \n",
    "    plt.xlabel('Epochs')\n",
    "    plt.ylabel('Loss')\n",
    "    plt.legend()\n",
    "    plt.show()"
   ]
  },
  {
   "cell_type": "code",
   "execution_count": 49,
   "metadata": {},
   "outputs": [
    {
     "data": {
      "image/png": "[encoded data removed]",
      "text/plain": [
       "<Figure size 432x288 with 1 Axes>"
      ]
     },
     "metadata": {},
     "output_type": "display_data"
    }
   ],
   "source": [
    "compare_loss({'Small 16': history_small, 'Medium 64': history_medium, 'Large 256': history_large})"
   ]
  },
  {
   "cell_type": "code",
   "execution_count": 46,
   "metadata": {},
   "outputs": [],
   "source": [
    "def compare_accuracy(histories):\n",
    "    epochs = range(1, len(list(histories.values())[0].history['val_acc']) + 1)\n",
    "\n",
    "    for i, history in histories.items():\n",
    "        val_loss = history.history['val_acc']\n",
    "        plt.plot(epochs, val_loss, label='Validation Accuracy {}'.format(i))\n",
    "            \n",
    "    plt.xlabel('Epochs')\n",
    "    plt.ylabel('Accuracy')\n",
    "    plt.legend()\n",
    "    plt.show()"
   ]
  },
  {
   "cell_type": "code",
   "execution_count": 48,
   "metadata": {},
   "outputs": [
    {
     "data": {
      "image/png": "[encoded data removed]",
      "text/plain": [
       "<Figure size 432x288 with 1 Axes>"
      ]
     },
     "metadata": {},
     "output_type": "display_data"
    }
   ],
   "source": [
    "compare_accuracy({'Small 16': history_small, 'Medium 64': history_medium, 'Large 256': history_large})"
   ]
  },
  {
   "cell_type": "markdown",
   "metadata": {},
   "source": [
    "### Evaluate on the Test Set\n",
    "\n",
    "- train the best model for the best epochs"
   ]
  },
  {
   "cell_type": "code",
   "execution_count": 50,
   "metadata": {},
   "outputs": [],
   "source": [
    "model = build_model(64)"
   ]
  },
  {
   "cell_type": "code",
   "execution_count": 51,
   "metadata": {},
   "outputs": [
    {
     "name": "stdout",
     "output_type": "stream",
     "text": [
      "Train on 103224 samples, validate on 14746 samples\n",
      "Epoch 1/4\n",
      "103224/103224 [==============================] - 3s 28us/step - loss: 1.3328 - acc: 0.6073 - val_loss: 0.7645 - val_acc: 0.7426\n",
      "Epoch 2/4\n",
      "103224/103224 [==============================] - 3s 25us/step - loss: 0.6091 - acc: 0.7930 - val_loss: 0.6765 - val_acc: 0.7716\n",
      "Epoch 3/4\n",
      "103224/103224 [==============================] - 3s 25us/step - loss: 0.4762 - acc: 0.8345 - val_loss: 0.6695 - val_acc: 0.7776\n",
      "Epoch 4/4\n",
      "103224/103224 [==============================] - 3s 25us/step - loss: 0.3951 - acc: 0.8620 - val_loss: 0.6839 - val_acc: 0.7784\n"
     ]
    }
   ],
   "source": [
    "history = model.fit(x=x_train, y=y_train, epochs=4, validation_data=(x_val, y_val), batch_size=256)"
   ]
  },
  {
   "cell_type": "code",
   "execution_count": 52,
   "metadata": {},
   "outputs": [
    {
     "name": "stdout",
     "output_type": "stream",
     "text": [
      "29493/29493 [==============================] - 2s 52us/step\n"
     ]
    }
   ],
   "source": [
    "loss, acc = model.evaluate(x_test, y_test)"
   ]
  },
  {
   "cell_type": "code",
   "execution_count": 53,
   "metadata": {},
   "outputs": [
    {
     "name": "stdout",
     "output_type": "stream",
     "text": [
      "loss 0.6839909429399487\n",
      "acc 0.7804224731413429\n"
     ]
    }
   ],
   "source": [
    "print('loss {}'.format(loss))\n",
    "print('acc {}'.format(acc))"
   ]
  },
  {
   "cell_type": "code",
   "execution_count": null,
   "metadata": {},
   "outputs": [],
   "source": []
  }
 ],
 "metadata": {
  "kernelspec": {
   "display_name": "Python 3",
   "language": "python",
   "name": "python3"
  },
  "language_info": {
   "codemirror_mode": {
    "name": "ipython",
    "version": 3
   },
   "file_extension": ".py",
   "mimetype": "text/x-python",
   "name": "python",
   "nbconvert_exporter": "python",
   "pygments_lexer": "ipython3",
   "version": "3.6.4"
  }
 },
 "nbformat": 4,
 "nbformat_minor": 2
}
