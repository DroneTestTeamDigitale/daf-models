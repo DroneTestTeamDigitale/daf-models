{
 "cells": [
  {
   "cell_type": "code",
   "execution_count": 33,
   "metadata": {},
   "outputs": [],
   "source": [
    "import numpy as np\n",
    "import pandas as pd\n",
    "import pickle\n",
    "\n",
    "from keras import models\n",
    "from keras import layers\n",
    "from keras import optimizers\n",
    "from keras import losses\n",
    "from keras import activations\n",
    "from keras import metrics\n",
    "from keras import regularizers\n",
    "import math\n",
    "\n",
    "import random\n",
    "\n",
    "# to make the experimens replicable\n",
    "random.seed(123456)"
   ]
  },
  {
   "cell_type": "markdown",
   "metadata": {},
   "source": [
    "## Important\n",
    "\n",
    "as first step run the notebook `1. classification-dataset-creation.ipynb` to create the dataset."
   ]
  },
  {
   "cell_type": "code",
   "execution_count": 4,
   "metadata": {},
   "outputs": [],
   "source": [
    "dataset_path = 'regione-toscana/dataset-dirigenti.pkl'\n",
    "\n",
    "with open(dataset_path, 'rb') as f:\n",
    "    samples, labels = pickle.load(f)"
   ]
  },
  {
   "cell_type": "markdown",
   "metadata": {},
   "source": [
    "### Transform it in a dataset"
   ]
  },
  {
   "cell_type": "code",
   "execution_count": 5,
   "metadata": {},
   "outputs": [
    {
     "data": {
      "text/plain": [
       "array([\"DGR 968/07 e s.m.i. Accreditamento degli organismi formativi. Rilascio dell'accreditamento all'organismo formativo Bioscience Research Center - cod. GR1035.\",\n",
       "       'Nomina Commissione d’esame per il percorso formativo “Formazione obbligatoria per utilizzatori professionali di prodotti fitosanitari”, MATRICOLA N. 2016SI0046',\n",
       "       \"Nomina della Commissione d'esame matricola 2016PI0301. Agenzia Formativa Cescot\",\n",
       "       'Progetti formativi per drop-out a.s.f. 2015-2016. Integrazione impegno per progetto \"Figaro - Operatore del benessere (acconciatura)\"',\n",
       "       'REG (CE) 1080/2006-Por Creo Fesr 2007-2013-Linea di intevento 5.1.d-Chiusura attività'],\n",
       "      dtype='<U961')"
      ]
     },
     "execution_count": 5,
     "metadata": {},
     "output_type": "execute_result"
    }
   ],
   "source": [
    "samples[:5]"
   ]
  },
  {
   "cell_type": "code",
   "execution_count": 6,
   "metadata": {},
   "outputs": [
    {
     "data": {
      "text/plain": [
       "array(['50125', '50125', '50125', '50125', '50125'], dtype='<U5')"
      ]
     },
     "execution_count": 6,
     "metadata": {},
     "output_type": "execute_result"
    }
   ],
   "source": [
    "labels[:5]"
   ]
  },
  {
   "cell_type": "code",
   "execution_count": 7,
   "metadata": {},
   "outputs": [],
   "source": [
    "samples = np.array(samples)\n",
    "labels = np.array(labels)"
   ]
  },
  {
   "cell_type": "markdown",
   "metadata": {},
   "source": [
    "## Train and Test Set\n",
    "\n",
    "Normally we split the dataset into:\n",
    "- 80% for training (of which 10% for validation)\n",
    "- 20% for testing"
   ]
  },
  {
   "cell_type": "code",
   "execution_count": 8,
   "metadata": {},
   "outputs": [
    {
     "data": {
      "text/plain": [
       "(147463,)"
      ]
     },
     "execution_count": 8,
     "metadata": {},
     "output_type": "execute_result"
    }
   ],
   "source": [
    "samples.shape"
   ]
  },
  {
   "cell_type": "markdown",
   "metadata": {},
   "source": [
    "### Shuffle Data"
   ]
  },
  {
   "cell_type": "code",
   "execution_count": 9,
   "metadata": {},
   "outputs": [],
   "source": [
    "indices = list(range(len(samples)))\n",
    "np.random.shuffle(indices)\n",
    "\n",
    "samples = samples[indices]\n",
    "labels = labels[indices]"
   ]
  },
  {
   "cell_type": "code",
   "execution_count": 10,
   "metadata": {},
   "outputs": [
    {
     "data": {
      "text/plain": [
       "array(['50117', '50006', '01928', '50102', '50004'], dtype='<U5')"
      ]
     },
     "execution_count": 10,
     "metadata": {},
     "output_type": "execute_result"
    }
   ],
   "source": [
    "labels[:5]"
   ]
  },
  {
   "cell_type": "markdown",
   "metadata": {},
   "source": [
    "## Tokenize the Dataset"
   ]
  },
  {
   "cell_type": "code",
   "execution_count": 11,
   "metadata": {},
   "outputs": [],
   "source": [
    "from keras.preprocessing.text import Tokenizer"
   ]
  },
  {
   "cell_type": "code",
   "execution_count": 12,
   "metadata": {},
   "outputs": [],
   "source": [
    "tokenizer = Tokenizer(num_words=10000)\n",
    "tokenizer.fit_on_texts(samples)"
   ]
  },
  {
   "cell_type": "code",
   "execution_count": 13,
   "metadata": {},
   "outputs": [],
   "source": [
    "sequences = tokenizer.texts_to_sequences(samples)"
   ]
  },
  {
   "cell_type": "code",
   "execution_count": 15,
   "metadata": {},
   "outputs": [
    {
     "name": "stdout",
     "output_type": "stream",
     "text": [
      "[7, 6, 24, 327, 23, 335, 33, 63, 1, 218, 228, 449, 1517, 1, 795, 1507, 345, 339, 143, 1072, 678]\n",
      "[28, 132, 6, 128, 24, 181, 19, 2, 48, 42, 317, 1244, 4, 7, 723, 126, 78, 14, 101, 1427, 6036, 7188, 291, 1966, 17]\n"
     ]
    }
   ],
   "source": [
    "for s in sequences[:2]:\n",
    "    print(s) "
   ]
  },
  {
   "cell_type": "markdown",
   "metadata": {},
   "source": [
    "Convert labels to sequences"
   ]
  },
  {
   "cell_type": "code",
   "execution_count": 16,
   "metadata": {},
   "outputs": [],
   "source": [
    "index_to_labels = dict(enumerate(set(labels)))\n",
    "labels_to_index = {v:k for k,v in index_to_labels.items()}"
   ]
  },
  {
   "cell_type": "code",
   "execution_count": 18,
   "metadata": {},
   "outputs": [
    {
     "data": {
      "text/plain": [
       "[('50079', 0), ('01937', 1), ('50116', 2), ('01934', 3), ('50003', 4)]"
      ]
     },
     "execution_count": 18,
     "metadata": {},
     "output_type": "execute_result"
    }
   ],
   "source": [
    "list(labels_to_index.items())[:5]"
   ]
  },
  {
   "cell_type": "code",
   "execution_count": 19,
   "metadata": {},
   "outputs": [
    {
     "data": {
      "text/plain": [
       "32"
      ]
     },
     "execution_count": 19,
     "metadata": {},
     "output_type": "execute_result"
    }
   ],
   "source": [
    "len(labels_to_index)"
   ]
  },
  {
   "cell_type": "code",
   "execution_count": 20,
   "metadata": {},
   "outputs": [],
   "source": [
    "encoded_labels = [labels_to_index[l] for l in labels]"
   ]
  },
  {
   "cell_type": "code",
   "execution_count": 21,
   "metadata": {},
   "outputs": [
    {
     "data": {
      "text/plain": [
       "[9, 27, 30, 14, 22, 4, 12, 4, 0, 20]"
      ]
     },
     "execution_count": 21,
     "metadata": {},
     "output_type": "execute_result"
    }
   ],
   "source": [
    "encoded_labels[:10]"
   ]
  },
  {
   "cell_type": "markdown",
   "metadata": {},
   "source": [
    "### Split the dataset"
   ]
  },
  {
   "cell_type": "code",
   "execution_count": 22,
   "metadata": {},
   "outputs": [],
   "source": [
    "training_size = math.trunc(len(sequences) * 0.8)\n",
    "test_size = len(sequences)"
   ]
  },
  {
   "cell_type": "code",
   "execution_count": 23,
   "metadata": {},
   "outputs": [],
   "source": [
    "train_data = sequences[:training_size]\n",
    "train_labels = encoded_labels[:training_size]\n",
    "\n",
    "test_data = sequences[training_size:]\n",
    "test_labels = encoded_labels[training_size:] "
   ]
  },
  {
   "cell_type": "markdown",
   "metadata": {},
   "source": [
    "### Preparing Data\n",
    "\n",
    "for data and labels"
   ]
  },
  {
   "cell_type": "code",
   "execution_count": 24,
   "metadata": {},
   "outputs": [],
   "source": [
    "def vectorize_sequences(sequences, dimension=10000):\n",
    "    results = np.zeros((len(sequences), dimension), dtype=np.float32)\n",
    "    for i, sequence in enumerate(sequences):\n",
    "        results[i, sequence] = 1.\n",
    "    return results"
   ]
  },
  {
   "cell_type": "code",
   "execution_count": 26,
   "metadata": {},
   "outputs": [],
   "source": [
    "x_train = vectorize_sequences(train_data)\n",
    "x_test = vectorize_sequences(test_data)"
   ]
  },
  {
   "cell_type": "code",
   "execution_count": 27,
   "metadata": {},
   "outputs": [
    {
     "data": {
      "text/plain": [
       "array([[0., 1., 0., ..., 0., 0., 0.],\n",
       "       [0., 0., 1., ..., 0., 0., 0.],\n",
       "       [0., 1., 0., ..., 0., 0., 0.],\n",
       "       ...,\n",
       "       [0., 1., 1., ..., 0., 0., 0.],\n",
       "       [0., 1., 1., ..., 0., 0., 0.],\n",
       "       [0., 1., 0., ..., 0., 0., 0.]], dtype=float32)"
      ]
     },
     "execution_count": 27,
     "metadata": {},
     "output_type": "execute_result"
    }
   ],
   "source": [
    "x_train[0:]"
   ]
  },
  {
   "cell_type": "code",
   "execution_count": 28,
   "metadata": {},
   "outputs": [
    {
     "data": {
      "text/plain": [
       "(117970, 10000)"
      ]
     },
     "execution_count": 28,
     "metadata": {},
     "output_type": "execute_result"
    }
   ],
   "source": [
    "x_train.shape"
   ]
  },
  {
   "cell_type": "markdown",
   "metadata": {},
   "source": [
    "One hot encoding for the labels"
   ]
  },
  {
   "cell_type": "code",
   "execution_count": 29,
   "metadata": {},
   "outputs": [],
   "source": [
    "def to_one_hot(labels):\n",
    "    results = np.zeros((len(labels), len(set(labels))), dtype=np.float32)\n",
    "    for i, label in enumerate(labels):\n",
    "        results[i, label] = 1.\n",
    "    return results"
   ]
  },
  {
   "cell_type": "code",
   "execution_count": 31,
   "metadata": {},
   "outputs": [],
   "source": [
    "y_train = to_one_hot(train_labels)\n",
    "y_test = to_one_hot(test_labels)"
   ]
  },
  {
   "cell_type": "code",
   "execution_count": 32,
   "metadata": {},
   "outputs": [
    {
     "data": {
      "text/plain": [
       "array([[0., 0., 0., ..., 0., 0., 0.],\n",
       "       [0., 0., 0., ..., 0., 0., 0.],\n",
       "       [0., 0., 0., ..., 0., 1., 0.],\n",
       "       ...,\n",
       "       [0., 0., 0., ..., 0., 0., 0.],\n",
       "       [0., 0., 0., ..., 0., 0., 1.],\n",
       "       [0., 0., 0., ..., 0., 0., 0.]], dtype=float32)"
      ]
     },
     "execution_count": 32,
     "metadata": {},
     "output_type": "execute_result"
    }
   ],
   "source": [
    "y_train"
   ]
  },
  {
   "cell_type": "markdown",
   "metadata": {},
   "source": [
    "## Build the Models\n",
    "\n",
    "apart the base model we add new methods with different kind of regularizers. In particular, we take into account:\n",
    "- l2 that penalize the weights coefficient with a value proportional of their l1 and l2 norms. The general idea is that we prefer a simple model where the distribution of parameters values has less entropy.\n",
    "- dropout where the idea is to reset randomly a percentage of the weights to zero in order to avoid that neurons start to memorize noise patterns."
   ]
  },
  {
   "cell_type": "code",
   "execution_count": 34,
   "metadata": {},
   "outputs": [],
   "source": [
    "def build_model(neurons):\n",
    "    model = models.Sequential()\n",
    "    model.add(layers.Dense(neurons, activation='relu', input_shape=(x_train.shape[-1], )))\n",
    "    model.add(layers.Dense(neurons, activation='relu'))\n",
    "    model.add(layers.Dense(neurons, activation='relu'))\n",
    "    model.add(layers.Dense(len(labels_to_index), activation='softmax'))\n",
    "    \n",
    "    model.compile(optimizer=optimizers.Adam(), \n",
    "              loss='categorical_crossentropy',\n",
    "              metrics=['accuracy'])\n",
    "    return model"
   ]
  },
  {
   "cell_type": "code",
   "execution_count": 51,
   "metadata": {},
   "outputs": [],
   "source": [
    "def build_model_l2(neurons):\n",
    "    model = models.Sequential()\n",
    "    model.add(layers.Dense(neurons, activation='relu', kernel_regularizer=regularizers.l2(), input_shape=(x_train.shape[-1], )))\n",
    "    model.add(layers.Dense(neurons, kernel_regularizer=regularizers.l2(0.0001), activation='relu'))\n",
    "    model.add(layers.Dense(neurons, kernel_regularizer=regularizers.l2(0.0001), activation='relu'))\n",
    "    model.add(layers.Dense(len(labels_to_index), activation='softmax'))\n",
    "    \n",
    "    model.compile(optimizer=optimizers.Adam(), \n",
    "              loss='categorical_crossentropy',\n",
    "              metrics=['accuracy'])\n",
    "    return model"
   ]
  },
  {
   "cell_type": "code",
   "execution_count": 85,
   "metadata": {},
   "outputs": [],
   "source": [
    "def build_model_dropout(neurons):\n",
    "    model = models.Sequential()\n",
    "    model.add(layers.Dense(neurons, activation='relu', input_shape=(x_train.shape[-1], )))\n",
    "    model.add(layers.Dropout(0.5))\n",
    "    model.add(layers.Dense(neurons, activation='relu'))\n",
    "    model.add(layers.Dropout(0.5))\n",
    "    model.add(layers.Dense(neurons, activation='relu'))\n",
    "    model.add(layers.Dropout(0.5))\n",
    "    model.add(layers.Dense(len(labels_to_index), activation='softmax'))\n",
    "    \n",
    "    model.compile(optimizer=optimizers.Adam(), \n",
    "              loss='categorical_crossentropy',\n",
    "              metrics=['accuracy'])\n",
    "    return model"
   ]
  },
  {
   "cell_type": "code",
   "execution_count": 93,
   "metadata": {},
   "outputs": [],
   "source": [
    "model_base = build_model(256)"
   ]
  },
  {
   "cell_type": "code",
   "execution_count": 52,
   "metadata": {},
   "outputs": [],
   "source": [
    "model_l2 = build_model_l2(256)"
   ]
  },
  {
   "cell_type": "code",
   "execution_count": 86,
   "metadata": {},
   "outputs": [],
   "source": [
    "model_dropout = build_model_dropout(256)"
   ]
  },
  {
   "cell_type": "code",
   "execution_count": 94,
   "metadata": {},
   "outputs": [
    {
     "name": "stdout",
     "output_type": "stream",
     "text": [
      "Train on 94376 samples, validate on 23594 samples\n",
      "Epoch 1/20\n",
      "94376/94376 [==============================] - 5s 49us/step - loss: 1.0785 - acc: 0.6672 - val_loss: 0.6854 - val_acc: 0.7693\n",
      "Epoch 2/20\n",
      "94376/94376 [==============================] - 4s 45us/step - loss: 0.4886 - acc: 0.8290 - val_loss: 0.6228 - val_acc: 0.7864\n",
      "Epoch 3/20\n",
      "94376/94376 [==============================] - 4s 45us/step - loss: 0.3215 - acc: 0.8854 - val_loss: 0.6618 - val_acc: 0.7909\n",
      "Epoch 4/20\n",
      "94376/94376 [==============================] - 4s 45us/step - loss: 0.2225 - acc: 0.9213 - val_loss: 0.6914 - val_acc: 0.7999\n",
      "Epoch 5/20\n",
      "94376/94376 [==============================] - 4s 45us/step - loss: 0.1643 - acc: 0.9427 - val_loss: 0.7579 - val_acc: 0.7980\n",
      "Epoch 6/20\n",
      "94376/94376 [==============================] - 4s 45us/step - loss: 0.1259 - acc: 0.9576 - val_loss: 0.8003 - val_acc: 0.7995\n",
      "Epoch 7/20\n",
      "94376/94376 [==============================] - 4s 47us/step - loss: 0.1046 - acc: 0.9642 - val_loss: 0.8596 - val_acc: 0.7978\n",
      "Epoch 8/20\n",
      "94376/94376 [==============================] - 4s 46us/step - loss: 0.0874 - acc: 0.9701 - val_loss: 0.9262 - val_acc: 0.7970\n",
      "Epoch 9/20\n",
      "94376/94376 [==============================] - 4s 45us/step - loss: 0.0801 - acc: 0.9730 - val_loss: 0.9287 - val_acc: 0.7994\n",
      "Epoch 10/20\n",
      "94376/94376 [==============================] - 4s 46us/step - loss: 0.0703 - acc: 0.9763 - val_loss: 1.0050 - val_acc: 0.7958\n",
      "Epoch 11/20\n",
      "94376/94376 [==============================] - 4s 46us/step - loss: 0.0659 - acc: 0.9773 - val_loss: 1.0600 - val_acc: 0.7974\n",
      "Epoch 12/20\n",
      "94376/94376 [==============================] - 5s 48us/step - loss: 0.0627 - acc: 0.9785 - val_loss: 1.0793 - val_acc: 0.7953\n",
      "Epoch 13/20\n",
      "94376/94376 [==============================] - 4s 47us/step - loss: 0.0587 - acc: 0.9795 - val_loss: 1.1079 - val_acc: 0.7946\n",
      "Epoch 14/20\n",
      "94376/94376 [==============================] - 4s 47us/step - loss: 0.0558 - acc: 0.9803 - val_loss: 1.1169 - val_acc: 0.7966\n",
      "Epoch 15/20\n",
      "94376/94376 [==============================] - 4s 45us/step - loss: 0.0525 - acc: 0.9811 - val_loss: 1.1846 - val_acc: 0.7956\n",
      "Epoch 16/20\n",
      "94376/94376 [==============================] - 4s 44us/step - loss: 0.0506 - acc: 0.9819 - val_loss: 1.1943 - val_acc: 0.7965\n",
      "Epoch 17/20\n",
      "94376/94376 [==============================] - 4s 44us/step - loss: 0.0469 - acc: 0.9827 - val_loss: 1.2425 - val_acc: 0.7968\n",
      "Epoch 18/20\n",
      "94376/94376 [==============================] - 4s 45us/step - loss: 0.0424 - acc: 0.9845 - val_loss: 1.2477 - val_acc: 0.7984\n",
      "Epoch 19/20\n",
      "94376/94376 [==============================] - 4s 45us/step - loss: 0.0413 - acc: 0.9844 - val_loss: 1.2653 - val_acc: 0.7955\n",
      "Epoch 20/20\n",
      "94376/94376 [==============================] - 4s 47us/step - loss: 0.0413 - acc: 0.9846 - val_loss: 1.2927 - val_acc: 0.7932\n"
     ]
    }
   ],
   "source": [
    "history_base = model_base.fit(x=x_train, y=y_train, validation_split=0.2,\n",
    "                   epochs=20, batch_size=256)"
   ]
  },
  {
   "cell_type": "code",
   "execution_count": 53,
   "metadata": {},
   "outputs": [
    {
     "name": "stdout",
     "output_type": "stream",
     "text": [
      "Train on 94376 samples, validate on 23594 samples\n",
      "Epoch 1/20\n",
      "94376/94376 [==============================] - 5s 56us/step - loss: 1.9488 - acc: 0.5892 - val_loss: 1.5740 - val_acc: 0.6722\n",
      "Epoch 2/20\n",
      "94376/94376 [==============================] - 5s 50us/step - loss: 1.5251 - acc: 0.6940 - val_loss: 1.5062 - val_acc: 0.6994\n",
      "Epoch 3/20\n",
      "94376/94376 [==============================] - 5s 51us/step - loss: 1.4596 - acc: 0.7195 - val_loss: 1.4736 - val_acc: 0.7220\n",
      "Epoch 4/20\n",
      "94376/94376 [==============================] - 5s 50us/step - loss: 1.3988 - acc: 0.7376 - val_loss: 1.4244 - val_acc: 0.7282\n",
      "Epoch 5/20\n",
      "94376/94376 [==============================] - 5s 50us/step - loss: 1.3509 - acc: 0.7494 - val_loss: 1.3851 - val_acc: 0.7421\n",
      "Epoch 6/20\n",
      "94376/94376 [==============================] - 5s 50us/step - loss: 1.3010 - acc: 0.7599 - val_loss: 1.3391 - val_acc: 0.7474\n",
      "Epoch 7/20\n",
      "94376/94376 [==============================] - 5s 50us/step - loss: 1.2561 - acc: 0.7707 - val_loss: 1.3406 - val_acc: 0.7426\n",
      "Epoch 8/20\n",
      "94376/94376 [==============================] - 5s 51us/step - loss: 1.2205 - acc: 0.7751 - val_loss: 1.3078 - val_acc: 0.7498\n",
      "Epoch 9/20\n",
      "94376/94376 [==============================] - 5s 52us/step - loss: 1.1898 - acc: 0.7798 - val_loss: 1.2693 - val_acc: 0.7561\n",
      "Epoch 10/20\n",
      "94376/94376 [==============================] - 5s 51us/step - loss: 1.1593 - acc: 0.7846 - val_loss: 1.2666 - val_acc: 0.7509\n",
      "Epoch 11/20\n",
      "94376/94376 [==============================] - 5s 51us/step - loss: 1.1392 - acc: 0.7864 - val_loss: 1.2528 - val_acc: 0.7551\n",
      "Epoch 12/20\n",
      "94376/94376 [==============================] - 5s 51us/step - loss: 1.1205 - acc: 0.7903 - val_loss: 1.2239 - val_acc: 0.7616\n",
      "Epoch 13/20\n",
      "94376/94376 [==============================] - 5s 51us/step - loss: 1.1008 - acc: 0.7935 - val_loss: 1.2202 - val_acc: 0.7610\n",
      "Epoch 14/20\n",
      "94376/94376 [==============================] - 5s 51us/step - loss: 1.0847 - acc: 0.7968 - val_loss: 1.2170 - val_acc: 0.7593\n",
      "Epoch 15/20\n",
      "94376/94376 [==============================] - 5s 51us/step - loss: 1.0736 - acc: 0.7969 - val_loss: 1.2161 - val_acc: 0.7593\n",
      "Epoch 16/20\n",
      "94376/94376 [==============================] - 5s 51us/step - loss: 1.0676 - acc: 0.7975 - val_loss: 1.2176 - val_acc: 0.7645\n",
      "Epoch 17/20\n",
      "94376/94376 [==============================] - 5s 52us/step - loss: 1.0518 - acc: 0.8024 - val_loss: 1.1792 - val_acc: 0.7687\n",
      "Epoch 18/20\n",
      "94376/94376 [==============================] - 5s 52us/step - loss: 1.0426 - acc: 0.8043 - val_loss: 1.1938 - val_acc: 0.7631\n",
      "Epoch 19/20\n",
      "94376/94376 [==============================] - 5s 52us/step - loss: 1.0334 - acc: 0.8058 - val_loss: 1.1918 - val_acc: 0.7625\n",
      "Epoch 20/20\n",
      "94376/94376 [==============================] - 5s 52us/step - loss: 1.0284 - acc: 0.8056 - val_loss: 1.1928 - val_acc: 0.7590\n"
     ]
    }
   ],
   "source": [
    "history_l2 = model_l2.fit(x=x_train, y=y_train,  validation_split=0.2,\n",
    "                   epochs=20, batch_size=256)"
   ]
  },
  {
   "cell_type": "code",
   "execution_count": 87,
   "metadata": {},
   "outputs": [
    {
     "name": "stdout",
     "output_type": "stream",
     "text": [
      "Train on 94376 samples, validate on 23594 samples\n",
      "Epoch 1/20\n",
      "94376/94376 [==============================] - 5s 51us/step - loss: 1.7034 - acc: 0.4911 - val_loss: 0.8236 - val_acc: 0.7303\n",
      "Epoch 2/20\n",
      "94376/94376 [==============================] - 4s 46us/step - loss: 0.8712 - acc: 0.7141 - val_loss: 0.6736 - val_acc: 0.7719\n",
      "Epoch 3/20\n",
      "94376/94376 [==============================] - 4s 47us/step - loss: 0.6827 - acc: 0.7707 - val_loss: 0.6237 - val_acc: 0.7865\n",
      "Epoch 4/20\n",
      "94376/94376 [==============================] - 5s 48us/step - loss: 0.5790 - acc: 0.8035 - val_loss: 0.6032 - val_acc: 0.7948\n",
      "Epoch 5/20\n",
      "94376/94376 [==============================] - 4s 46us/step - loss: 0.5047 - acc: 0.8288 - val_loss: 0.5979 - val_acc: 0.8008\n",
      "Epoch 6/20\n",
      "94376/94376 [==============================] - 4s 46us/step - loss: 0.4535 - acc: 0.8457 - val_loss: 0.6053 - val_acc: 0.8022\n",
      "Epoch 7/20\n",
      "94376/94376 [==============================] - 4s 46us/step - loss: 0.4130 - acc: 0.8593 - val_loss: 0.6024 - val_acc: 0.8055\n",
      "Epoch 8/20\n",
      "94376/94376 [==============================] - 4s 46us/step - loss: 0.3771 - acc: 0.8713 - val_loss: 0.6103 - val_acc: 0.8084\n",
      "Epoch 9/20\n",
      "94376/94376 [==============================] - 4s 46us/step - loss: 0.3537 - acc: 0.8794 - val_loss: 0.6179 - val_acc: 0.8075\n",
      "Epoch 10/20\n",
      "94376/94376 [==============================] - 4s 46us/step - loss: 0.3338 - acc: 0.8862 - val_loss: 0.6249 - val_acc: 0.8076\n",
      "Epoch 11/20\n",
      "94376/94376 [==============================] - 4s 47us/step - loss: 0.3125 - acc: 0.8936 - val_loss: 0.6430 - val_acc: 0.8098\n",
      "Epoch 12/20\n",
      "94376/94376 [==============================] - 4s 47us/step - loss: 0.2962 - acc: 0.8993 - val_loss: 0.6401 - val_acc: 0.8119\n",
      "Epoch 13/20\n",
      "94376/94376 [==============================] - 4s 47us/step - loss: 0.2804 - acc: 0.9046 - val_loss: 0.6597 - val_acc: 0.8108\n",
      "Epoch 14/20\n",
      "94376/94376 [==============================] - 4s 47us/step - loss: 0.2664 - acc: 0.9105 - val_loss: 0.6780 - val_acc: 0.8109\n",
      "Epoch 15/20\n",
      "94376/94376 [==============================] - 4s 47us/step - loss: 0.2566 - acc: 0.9128 - val_loss: 0.6791 - val_acc: 0.8105\n",
      "Epoch 16/20\n",
      "94376/94376 [==============================] - 5s 48us/step - loss: 0.2457 - acc: 0.9178 - val_loss: 0.6868 - val_acc: 0.8095\n",
      "Epoch 17/20\n",
      "94376/94376 [==============================] - 4s 47us/step - loss: 0.2384 - acc: 0.9187 - val_loss: 0.7057 - val_acc: 0.8097\n",
      "Epoch 18/20\n",
      "94376/94376 [==============================] - 4s 48us/step - loss: 0.2293 - acc: 0.9228 - val_loss: 0.6998 - val_acc: 0.8118\n",
      "Epoch 19/20\n",
      "94376/94376 [==============================] - 4s 47us/step - loss: 0.2225 - acc: 0.9252 - val_loss: 0.7096 - val_acc: 0.8134\n",
      "Epoch 20/20\n",
      "94376/94376 [==============================] - 4s 47us/step - loss: 0.2135 - acc: 0.9277 - val_loss: 0.7264 - val_acc: 0.8103\n"
     ]
    }
   ],
   "source": [
    "history_dropout = model_dropout.fit(x=x_train, y=y_train,  validation_split=0.2,\n",
    "                   epochs=20, batch_size=256)"
   ]
  },
  {
   "cell_type": "markdown",
   "metadata": {},
   "source": [
    "### Printing The Loss"
   ]
  },
  {
   "cell_type": "code",
   "execution_count": 56,
   "metadata": {},
   "outputs": [],
   "source": [
    "import matplotlib.pyplot as plt\n",
    "\n",
    "%matplotlib inline"
   ]
  },
  {
   "cell_type": "code",
   "execution_count": 77,
   "metadata": {},
   "outputs": [],
   "source": [
    "def chart_loss(history):\n",
    "    loss = history.history['loss']\n",
    "    val_loss = history.history['val_loss']\n",
    "\n",
    "    epochs = range(1, len(loss) + 1)\n",
    "\n",
    "    plt.plot(epochs, loss, 'b+', label='Training Loss')\n",
    "    plt.plot(epochs, val_loss, 'b', label='Validation Loss')\n",
    "    plt.title('Training and validation loss')\n",
    "    plt.xlabel('Epochs')\n",
    "    plt.ylabel('Loss')\n",
    "    plt.yticks(np.arange(0,2, step=0.2))\n",
    "    plt.legend()\n",
    "    plt.show()"
   ]
  },
  {
   "cell_type": "code",
   "execution_count": 95,
   "metadata": {},
   "outputs": [
    {
     "data": {
      "image/png": "[encoded data removed]",
      "text/plain": [
       "<Figure size 432x288 with 1 Axes>"
      ]
     },
     "metadata": {},
     "output_type": "display_data"
    },
    {
     "data": {
      "image/png": "[encoded data removed]",
      "text/plain": [
       "<Figure size 432x288 with 1 Axes>"
      ]
     },
     "metadata": {},
     "output_type": "display_data"
    },
    {
     "data": {
      "image/png": "[encoded data removed]",
      "text/plain": [
       "<Figure size 432x288 with 1 Axes>"
      ]
     },
     "metadata": {},
     "output_type": "display_data"
    }
   ],
   "source": [
    "chart_loss(history_base)\n",
    "chart_loss(history_l2)\n",
    "chart_loss(history_dropout)"
   ]
  },
  {
   "cell_type": "markdown",
   "metadata": {},
   "source": [
    "From the charts we can see that: \n",
    "- the model with l2 regularization is able to avoid overfitting during the training. \n",
    "- the model that uses dropout (0.5) has a lower loss with respect to l2 while combatting overfitting"
   ]
  },
  {
   "cell_type": "code",
   "execution_count": 104,
   "metadata": {},
   "outputs": [],
   "source": [
    "def chart_acc(history):\n",
    "    acc = history.history['acc']\n",
    "    val_acc = history.history['val_acc']\n",
    "\n",
    "    epochs = range(1, len(acc) + 1)\n",
    "\n",
    "    plt.plot(epochs, acc, 'b+', label='Training Acc')\n",
    "    plt.plot(epochs, val_acc, 'b', label='Validation Acc')\n",
    "    plt.title('Training and validation loss')\n",
    "    plt.xlabel('Epochs')\n",
    "    plt.ylabel('Accuray')\n",
    "    plt.yticks(np.arange(0.5,1, step=0.05))\n",
    "    plt.xticks(np.arange(0,21, step=1))\n",
    "    plt.legend()\n",
    "    plt.show()"
   ]
  },
  {
   "cell_type": "code",
   "execution_count": 105,
   "metadata": {},
   "outputs": [
    {
     "data": {
      "image/png": "[encoded data removed]",
      "text/plain": [
       "<Figure size 432x288 with 1 Axes>"
      ]
     },
     "metadata": {},
     "output_type": "display_data"
    },
    {
     "data": {
      "image/png": "[encoded data removed]",
      "text/plain": [
       "<Figure size 432x288 with 1 Axes>"
      ]
     },
     "metadata": {},
     "output_type": "display_data"
    },
    {
     "data": {
      "image/png": "[encoded data removed]",
      "text/plain": [
       "<Figure size 432x288 with 1 Axes>"
      ]
     },
     "metadata": {},
     "output_type": "display_data"
    }
   ],
   "source": [
    "chart_acc(history_base)\n",
    "chart_acc(history_l2)\n",
    "chart_acc(history_dropout)"
   ]
  },
  {
   "cell_type": "markdown",
   "metadata": {},
   "source": [
    "From the chart above we can see that the best model is the model that uses dropout, while the best epoch is the 6 where the validation accuracy crosses the training accuracy"
   ]
  },
  {
   "cell_type": "code",
   "execution_count": 106,
   "metadata": {},
   "outputs": [],
   "source": [
    "def compare_loss(histories):\n",
    "    epochs = range(1, len(list(histories.values())[0].history['val_loss']) + 1)\n",
    "\n",
    "    for i, history in histories.items():\n",
    "        val_loss = history.history['val_loss']\n",
    "        plt.plot(epochs, val_loss, label='Validation Loss {}'.format(i))\n",
    "            \n",
    "    plt.xlabel('Epochs')\n",
    "    plt.ylabel('Loss')\n",
    "    plt.legend()\n",
    "    plt.show()"
   ]
  },
  {
   "cell_type": "code",
   "execution_count": 107,
   "metadata": {},
   "outputs": [
    {
     "data": {
      "image/png": "[encoded data removed]",
      "text/plain": [
       "<Figure size 432x288 with 1 Axes>"
      ]
     },
     "metadata": {},
     "output_type": "display_data"
    }
   ],
   "source": [
    "compare_loss({'Base': history_base, 'L2': history_l2, 'Dropout': history_dropout})"
   ]
  },
  {
   "cell_type": "code",
   "execution_count": 99,
   "metadata": {},
   "outputs": [],
   "source": [
    "def compare_accuracy(histories):\n",
    "    epochs = range(1, len(list(histories.values())[0].history['val_acc']) + 1)\n",
    "\n",
    "    for i, history in histories.items():\n",
    "        val_loss = history.history['val_acc']\n",
    "        plt.plot(epochs, val_loss, label='Validation Accuracy {}'.format(i))\n",
    "            \n",
    "    plt.xlabel('Epochs')\n",
    "    plt.ylabel('Accuracy')\n",
    "    plt.legend()\n",
    "    plt.show()"
   ]
  },
  {
   "cell_type": "code",
   "execution_count": 101,
   "metadata": {},
   "outputs": [
    {
     "data": {
      "image/png": "[encoded data removed]",
      "text/plain": [
       "<Figure size 432x288 with 1 Axes>"
      ]
     },
     "metadata": {},
     "output_type": "display_data"
    }
   ],
   "source": [
    "compare_accuracy({'Base': history_base, 'L2': history_l2, 'Dropout': history_dropout})"
   ]
  },
  {
   "cell_type": "markdown",
   "metadata": {},
   "source": [
    "### Evaluate on the Test Set\n",
    "\n",
    "- train the best model for the best epochs"
   ]
  },
  {
   "cell_type": "code",
   "execution_count": 108,
   "metadata": {},
   "outputs": [],
   "source": [
    "model = build_model_dropout(256)"
   ]
  },
  {
   "cell_type": "code",
   "execution_count": 109,
   "metadata": {},
   "outputs": [
    {
     "name": "stdout",
     "output_type": "stream",
     "text": [
      "Epoch 1/6\n",
      "117970/117970 [==============================] - 5s 46us/step - loss: 1.5539 - acc: 0.5288\n",
      "Epoch 2/6\n",
      "117970/117970 [==============================] - 5s 42us/step - loss: 0.8202 - acc: 0.7278\n",
      "Epoch 3/6\n",
      "117970/117970 [==============================] - 5s 43us/step - loss: 0.6572 - acc: 0.7779\n",
      "Epoch 4/6\n",
      "117970/117970 [==============================] - 5s 43us/step - loss: 0.5604 - acc: 0.8081\n",
      "Epoch 5/6\n",
      "117970/117970 [==============================] - 5s 43us/step - loss: 0.4974 - acc: 0.8291\n",
      "Epoch 6/6\n",
      "117970/117970 [==============================] - 5s 43us/step - loss: 0.4530 - acc: 0.8441\n"
     ]
    }
   ],
   "source": [
    "history = model.fit(x=x_train, y=y_train, epochs=6, batch_size=256)"
   ]
  },
  {
   "cell_type": "code",
   "execution_count": 110,
   "metadata": {},
   "outputs": [
    {
     "name": "stdout",
     "output_type": "stream",
     "text": [
      "29493/29493 [==============================] - 2s 55us/step\n"
     ]
    }
   ],
   "source": [
    "loss, acc = model.evaluate(x_test, y_test)"
   ]
  },
  {
   "cell_type": "code",
   "execution_count": 111,
   "metadata": {},
   "outputs": [
    {
     "name": "stdout",
     "output_type": "stream",
     "text": [
      "loss 0.5721056718917723\n",
      "acc 0.8114467839887028\n"
     ]
    }
   ],
   "source": [
    "print('loss {}'.format(loss))\n",
    "print('acc {}'.format(acc))"
   ]
  },
  {
   "cell_type": "markdown",
   "metadata": {},
   "source": [
    "## Conclusion\n",
    "\n",
    "As recap we can see that using regularization, in particular dropout, the accuracy grows from 0.78 to 0.81 %."
   ]
  },
  {
   "cell_type": "code",
   "execution_count": null,
   "metadata": {},
   "outputs": [],
   "source": []
  }
 ],
 "metadata": {
  "kernelspec": {
   "display_name": "Python 3",
   "language": "python",
   "name": "python3"
  },
  "language_info": {
   "codemirror_mode": {
    "name": "ipython",
    "version": 3
   },
   "file_extension": ".py",
   "mimetype": "text/x-python",
   "name": "python",
   "nbconvert_exporter": "python",
   "pygments_lexer": "ipython3",
   "version": "3.6.4"
  }
 },
 "nbformat": 4,
 "nbformat_minor": 2
}
