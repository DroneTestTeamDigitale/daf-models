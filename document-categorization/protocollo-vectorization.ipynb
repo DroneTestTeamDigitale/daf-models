{
 "cells": [
  {
   "cell_type": "markdown",
   "metadata": {},
   "source": [
    "# Protocollo Vectorization\n"
   ]
  },
  {
   "cell_type": "code",
   "execution_count": 1,
   "metadata": {},
   "outputs": [],
   "source": [
    "import numpy as np\n",
    "import random\n",
    "import json\n",
    "\n",
    "random.seed(12345)"
   ]
  },
  {
   "cell_type": "code",
   "execution_count": 18,
   "metadata": {},
   "outputs": [],
   "source": [
    "input_filename = './protocollo_2017.csv'\n",
    "output_filename = './protocollo_2017_vectorized.csv'"
   ]
  },
  {
   "cell_type": "code",
   "execution_count": 19,
   "metadata": {},
   "outputs": [],
   "source": [
    "with open(input_filename, 'r') as f:\n",
    "    lines = f.read().splitlines()"
   ]
  },
  {
   "cell_type": "code",
   "execution_count": 20,
   "metadata": {},
   "outputs": [
    {
     "data": {
      "text/plain": [
       "['ANNO', 'NUMERO', 'OGGETTO', 'CLASSIFICA']"
      ]
     },
     "execution_count": 20,
     "metadata": {},
     "output_type": "execute_result"
    }
   ],
   "source": [
    "headers = lines[0].split(\",\")\n",
    "headers"
   ]
  },
  {
   "cell_type": "code",
   "execution_count": 21,
   "metadata": {},
   "outputs": [],
   "source": [
    "data = [l.split(\",\") for l in lines[1:]]"
   ]
  },
  {
   "cell_type": "code",
   "execution_count": 22,
   "metadata": {},
   "outputs": [
    {
     "data": {
      "text/plain": [
       "[['2017', '6', '\"APE 2016_12_28_02267130488_006\"', '\"P\"'],\n",
       " ['2017', '6', '\"ape condominio via pa\"', '\"P\"'],\n",
       " ['2017', '6', '\"APE 2016_12_28_02267130488_006\"', '\"P\"'],\n",
       " ['2017', '6', '\"APE 2016_12_28_02267130488_006\"', '\"P\"'],\n",
       " ['2017', '6', '\"APE 2016_12_28_02267130488_006\"', '\"P\"']]"
      ]
     },
     "execution_count": 22,
     "metadata": {},
     "output_type": "execute_result"
    }
   ],
   "source": [
    "data"
   ]
  },
  {
   "cell_type": "markdown",
   "metadata": {},
   "source": [
    "Now we need to process the `OGGETTO` column\n",
    "\n",
    "## Preprocessing\n",
    "\n",
    "- replace _ with ' '\n",
    "- split by space\n",
    "- replace words with integers\n",
    "- save the new dataset with id and the dictionary used for the mapping\n"
   ]
  },
  {
   "cell_type": "code",
   "execution_count": 23,
   "metadata": {},
   "outputs": [],
   "source": [
    "column = 2\n",
    "\n",
    "def replace_dash(value):\n",
    "    return value.replace('_',' ')\n",
    "\n",
    "def process_dataset(data, column=2):\n",
    "    data_processed = []\n",
    "    for v in data:\n",
    "        v[column] = replace_dash(v[column])\n",
    "        v[column] = v[column].replace('\"','')\n",
    "        v[column] = v[column].lower()\n",
    "        data_processed.append(v)\n",
    "    return data_processed"
   ]
  },
  {
   "cell_type": "code",
   "execution_count": 24,
   "metadata": {},
   "outputs": [
    {
     "data": {
      "text/plain": [
       "[['2017', '6', 'ape 2016 12 28 02267130488 006', '\"P\"'],\n",
       " ['2017', '6', 'ape condominio via pa', '\"P\"'],\n",
       " ['2017', '6', 'ape 2016 12 28 02267130488 006', '\"P\"'],\n",
       " ['2017', '6', 'ape 2016 12 28 02267130488 006', '\"P\"'],\n",
       " ['2017', '6', 'ape 2016 12 28 02267130488 006', '\"P\"']]"
      ]
     },
     "execution_count": 24,
     "metadata": {},
     "output_type": "execute_result"
    }
   ],
   "source": [
    "data_processed = process_dataset(data)\n",
    "data_processed"
   ]
  },
  {
   "cell_type": "markdown",
   "metadata": {},
   "source": [
    "Now we need to create the dictionary used for the token mapping. "
   ]
  },
  {
   "cell_type": "code",
   "execution_count": 25,
   "metadata": {},
   "outputs": [],
   "source": [
    "def token_dict(data, column=2):\n",
    "    \"\"\"\n",
    "        return a pair (index_to_token, token_to_word)\n",
    "    \"\"\"\n",
    "    tokens = set()\n",
    "    for row in data:\n",
    "        for v in row[column].split(' '):\n",
    "            tokens.add(v)\n",
    "    random.shuffle(list(tokens))\n",
    "    \n",
    "    index_to_token = dict(enumerate(tokens))\n",
    "    token_to_index = {v:k for k,v in index_to_token.items()}\n",
    "    return index_to_token, token_to_index"
   ]
  },
  {
   "cell_type": "code",
   "execution_count": 26,
   "metadata": {},
   "outputs": [],
   "source": [
    "index_to_token, token_to_index = token_dict(data_processed)"
   ]
  },
  {
   "cell_type": "code",
   "execution_count": 27,
   "metadata": {},
   "outputs": [
    {
     "name": "stdout",
     "output_type": "stream",
     "text": [
      "{0: '28', 1: '006', 2: 'condominio', 3: '02267130488', 4: '2016', 5: 'ape', 6: '12', 7: 'via', 8: 'pa'}\n",
      "{'28': 0, '006': 1, 'condominio': 2, '02267130488': 3, '2016': 4, 'ape': 5, '12': 6, 'via': 7, 'pa': 8}\n"
     ]
    }
   ],
   "source": [
    "print(index_to_token)\n",
    "print(token_to_index)"
   ]
  },
  {
   "cell_type": "markdown",
   "metadata": {},
   "source": [
    "## Save the dictionary mapping"
   ]
  },
  {
   "cell_type": "code",
   "execution_count": 28,
   "metadata": {},
   "outputs": [],
   "source": [
    "with open('index_to_token.json','w') as f:\n",
    "    json.dump(index_to_token,f)\n",
    "    \n",
    "with open('token_to_index.json', 'w') as f:\n",
    "    json.dump(token_to_index,f)"
   ]
  },
  {
   "cell_type": "markdown",
   "metadata": {},
   "source": [
    "### Update the Csv"
   ]
  },
  {
   "cell_type": "code",
   "execution_count": 29,
   "metadata": {},
   "outputs": [],
   "source": [
    "def vectorize(token_to_index, data, column=2):\n",
    "    data_transformed = []\n",
    "\n",
    "    for row in data:\n",
    "        transformed = [token_to_index[v] for v in row[column].split(' ') if v in token_to_index]\n",
    "        row[column] = ' '.join([str(x) for x in transformed])\n",
    "        data_transformed.append(row)\n",
    "    \n",
    "    return data_transformed"
   ]
  },
  {
   "cell_type": "code",
   "execution_count": 30,
   "metadata": {},
   "outputs": [],
   "source": [
    "data_transformed = vectorize(token_to_index, data)"
   ]
  },
  {
   "cell_type": "code",
   "execution_count": 31,
   "metadata": {},
   "outputs": [
    {
     "data": {
      "text/plain": [
       "[['2017', '6', '5 4 6 0 3 1', '\"P\"'],\n",
       " ['2017', '6', '5 2 7 8', '\"P\"'],\n",
       " ['2017', '6', '5 4 6 0 3 1', '\"P\"'],\n",
       " ['2017', '6', '5 4 6 0 3 1', '\"P\"'],\n",
       " ['2017', '6', '5 4 6 0 3 1', '\"P\"']]"
      ]
     },
     "execution_count": 31,
     "metadata": {},
     "output_type": "execute_result"
    }
   ],
   "source": [
    "data_transformed"
   ]
  },
  {
   "cell_type": "code",
   "execution_count": 33,
   "metadata": {},
   "outputs": [],
   "source": [
    "with open(output_filename, 'w') as f:\n",
    "    for line in data_transformed:\n",
    "        f.write(','.join(line) + '\\n')"
   ]
  }
 ],
 "metadata": {
  "kernelspec": {
   "display_name": "Python 3",
   "language": "python",
   "name": "python3"
  },
  "language_info": {
   "codemirror_mode": {
    "name": "ipython",
    "version": 3
   },
   "file_extension": ".py",
   "mimetype": "text/x-python",
   "name": "python",
   "nbconvert_exporter": "python",
   "pygments_lexer": "ipython3",
   "version": "3.6.4"
  }
 },
 "nbformat": 4,
 "nbformat_minor": 2
}
